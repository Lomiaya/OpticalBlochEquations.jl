{
 "cells": [
  {
   "cell_type": "code",
   "execution_count": 1,
   "id": "16e73022-3b87-4383-a061-ce2ad3dd1477",
   "metadata": {},
   "outputs": [],
   "source": [
    "using Revise"
   ]
  },
  {
   "cell_type": "code",
   "execution_count": 416,
   "id": "94f043b1",
   "metadata": {},
   "outputs": [],
   "source": [
    "using Distributed\n",
    "procs_to_use = 20\n",
    "\n",
    "if nprocs() <= procs_to_use\n",
    "    addprocs(procs_to_use-nprocs())\n",
    "end\n",
    "\n",
    "@everywhere using\n",
    "    QuantumStates,\n",
    "    OpticalBlochEquations,\n",
    "    DifferentialEquations,\n",
    "    UnitsToValue,\n",
    "    LinearAlgebra,\n",
    "    Printf,\n",
    "    Plots,\n",
    "    Random,\n",
    "    StatsBase,\n",
    "    Distributions,\n",
    "    StructArrays,\n",
    "    StaticArrays,\n",
    "    StructArrays,\n",
    "    LoopVectorization,\n",
    "    Parameters,\n",
    "    MutableNamedTuples\n",
    "\n",
    "@everywhere @consts begin\n",
    "    λ = 626e-9\n",
    "    Γ = 2π* 6.4e6\n",
    "    m = @with_unit 57 \"u\"\n",
    "    k = 2π / λ\n",
    "    _μB = (μ_B / h) * 1e-4\n",
    "end\n",
    ";"
   ]
  },
  {
   "cell_type": "code",
   "execution_count": 1541,
   "id": "d590e459-c2d0-40a0-81b1-8b66cb81f069",
   "metadata": {},
   "outputs": [],
   "source": [
    "@everywhere sim_params = @params_mnt begin\n",
    "    \n",
    "    # B-field parameters during blue MOT\n",
    "    B_gradient = 50\n",
    "    B_offset = (0e-3, 0e-3, 300e-3)\n",
    "    B_ramp_time = 30e-3\n",
    "    \n",
    "    # Laser parameters\n",
    "    s1 = 2.18\n",
    "    s2 = 1.82  \n",
    "    s_ramp_time = 30e-3\n",
    "    s_ramp_to = 0.7\n",
    "    pol_imbalance = 0.01\n",
    "    s_imbalance = (0.0, 0.05, -0.05)\n",
    "    retro_loss = 0.02\n",
    "    off_center = (2, -2, -2, 2, 2, 2) .* 1e-3\n",
    "    pointing_error = (0,0,0,0,0,0)\n",
    "    pol1_x = [1,0,0]\n",
    "    pol2_x = [0,0,1]\n",
    "    voltage = -1.4\n",
    "    aom_freq = 53.55\n",
    "    \n",
    "    # ODT parameters\n",
    "    ODT_intensity = 13.3*1e3/(50e-4)^2\n",
    "    ODT_size = (30e-6, 2e-3, 30e-6)\n",
    "    ODT_position = [0.,0.]\n",
    "    ODT_revs = 6\n",
    "    ODT_motion_t_start = 0.0\n",
    "    ODT_motion_t_stop = 120e-3\n",
    "    ODT_pol = [0,1,0]\n",
    "    ODT_rmax = 200e-6\n",
    "    \n",
    "end\n",
    ";"
   ]
  },
  {
   "cell_type": "code",
   "execution_count": 1542,
   "id": "1f56a513-d45c-4a19-a562-3ba292f8c20b",
   "metadata": {},
   "outputs": [],
   "source": [
    "# @everywhere begin\n",
    "#     # SF cooling parameters\n",
    "#     sim_params.B_gradient = 0\n",
    "#     sim_params.s1 = 6.0\n",
    "#     sim_params.s2 = 0.0\n",
    "#     sim_params.voltage = 8.0\n",
    "#     sim_params.s_ramp_to = 1.0\n",
    "# end\n",
    "\n",
    "@everywhere begin\n",
    "    # SF cooling parameters\n",
    "    sim_params.B_gradient = 0\n",
    "    sim_params.s1 = 6.0\n",
    "    sim_params.s2 = 0.0\n",
    "    sim_params.voltage = 4.0\n",
    "    sim_params.s_ramp_to = 1.0\n",
    "end\n",
    ";"
   ]
  },
  {
   "cell_type": "markdown",
   "id": "2a3a145f-580c-45c8-b163-2e4f4f96d2fb",
   "metadata": {},
   "source": [
    "### Calculate transition dipole moments"
   ]
  },
  {
   "cell_type": "code",
   "execution_count": 1543,
   "id": "cf0129b2-59dc-4d5c-99da-9474531662c8",
   "metadata": {},
   "outputs": [],
   "source": [
    "@everywhere begin\n",
    "    include(\"define_CaOH_states.jl\")\n",
    "    X_states, A_states = define_CaOH_states()\n",
    "    states = [X_states; A_states[1:4]]\n",
    "    d = tdms_between_states(states, states)\n",
    "end\n",
    ";"
   ]
  },
  {
   "cell_type": "markdown",
   "id": "f27ee74e-05de-494f-b2a6-d4e9334fbe40",
   "metadata": {
    "tags": []
   },
   "source": [
    "### Define lasers"
   ]
  },
  {
   "cell_type": "code",
   "execution_count": 1544,
   "id": "15b546fd-191a-45ed-8f24-9f252ef3dff0",
   "metadata": {},
   "outputs": [],
   "source": [
    "@everywhere begin\n",
    "    include(\"define_lasers.jl\")\n",
    "    lasers = define_lasers(\n",
    "        states,\n",
    "        sim_params.s1,\n",
    "        sim_params.s2,\n",
    "        sim_params.s_ramp_time,\n",
    "        sim_params.s_ramp_to,\n",
    "        sim_params.pol_imbalance,\n",
    "        sim_params.s_imbalance,\n",
    "        sim_params.retro_loss,\n",
    "        sim_params.off_center,\n",
    "        sim_params.pointing_error,\n",
    "        sim_params.pol1_x,\n",
    "        sim_params.pol2_x,\n",
    "        sim_params.voltage,\n",
    "        sim_params.aom_freq\n",
    "    )\n",
    "end\n",
    ";"
   ]
  },
  {
   "cell_type": "markdown",
   "id": "03c60953-20b3-41eb-aed4-963cd030fc37",
   "metadata": {},
   "source": [
    "### Define Hamiltonian for the ODT-molecule interaction"
   ]
  },
  {
   "cell_type": "code",
   "execution_count": 1545,
   "id": "1f441761-b9f2-4c07-bc86-5bb64c3555e0",
   "metadata": {},
   "outputs": [],
   "source": [
    "@everywhere begin\n",
    "    include(\"define_ODT_Hamiltonian.jl\")\n",
    "    H_ODT = get_H_ODT(states, X_states, A_states, sim_params.ODT_intensity, sim_params.ODT_pol)\n",
    "end\n",
    ";"
   ]
  },
  {
   "cell_type": "markdown",
   "id": "3e692386-754a-4116-96c1-5641501a5ae2",
   "metadata": {},
   "source": [
    "### Define Zeeman Hamiltonian"
   ]
  },
  {
   "cell_type": "code",
   "execution_count": 1546,
   "id": "52bd8d43-6bc9-40de-bbf4-69a7be611f31",
   "metadata": {},
   "outputs": [],
   "source": [
    "@everywhere include(\"define_Zeeman_Hamiltonian.jl\")\n",
    ";"
   ]
  },
  {
   "cell_type": "markdown",
   "id": "6e556310-b205-4d28-a9bd-79d4dc3879d6",
   "metadata": {},
   "source": [
    "### Run simulation"
   ]
  },
  {
   "cell_type": "code",
   "execution_count": 1547,
   "id": "9ee5cc58-8e82-4145-a27b-d5f9a262e775",
   "metadata": {},
   "outputs": [],
   "source": [
    "@everywhere function update_H_and_∇H(H, p, r, t)\n",
    "    \n",
    "    # Define a ramping magnetic field\n",
    "    Zeeman_Hz = p.extra_data.Zeeman_Hz\n",
    "    Zeeman_Hx = p.extra_data.Zeeman_Hx\n",
    "    Zeeman_Hy = p.extra_data.Zeeman_Hy\n",
    "    \n",
    "    τ_bfield = p.sim_params.B_ramp_time / (1/Γ)\n",
    "    scalar = t/τ_bfield\n",
    "    scalar = min(scalar, 1.0)\n",
    "    \n",
    "    gradient_x = -scalar * p.sim_params.B_gradient * 1e2 / k / 2\n",
    "    gradient_y = +scalar * p.sim_params.B_gradient * 1e2 / k / 2\n",
    "    gradient_z = -scalar * p.sim_params.B_gradient * 1e2 / k\n",
    "    \n",
    "    Bx = gradient_x * r[1] + p.sim_params.B_offset[1]\n",
    "    By = gradient_y * r[2] + p.sim_params.B_offset[2]\n",
    "    Bz = gradient_z * r[3] + p.sim_params.B_offset[3]\n",
    "    \n",
    "    @turbo for i in eachindex(H)\n",
    "        H.re[i] = Bz * Zeeman_Hz.re[i] + Bx * Zeeman_Hx.re[i] + By * Zeeman_Hy.re[i]\n",
    "        H.im[i] = Bz * Zeeman_Hz.im[i] + Bx * Zeeman_Hx.im[i] + By * Zeeman_Hy.im[i]\n",
    "    end\n",
    "    \n",
    "    # Update the Hamiltonian for the molecule-ODT interaction\n",
    "    H_ODT = p.extra_data.H_ODT\n",
    "    H_ODT_static = p.extra_data.H_ODT_static\n",
    "    @turbo for i in eachindex(H_ODT)\n",
    "       H_ODT.re[i] = H_ODT_static.re[i]\n",
    "       H_ODT.im[i] = H_ODT_static.im[i]\n",
    "    end\n",
    "    \n",
    "    # Update the ODT position\n",
    "    update_ODT_center!(p.sim_params, p.extra_data, t)\n",
    "    # update_ODT_center_circle!(p.sim_params, p.extra_data, t)\n",
    "    \n",
    "    ODT_x = p.sim_params.ODT_position[1] / (1 / p.k)\n",
    "    ODT_z = p.sim_params.ODT_position[2] / (1 / p.k)\n",
    "    \n",
    "    ODT_size = p.sim_params.ODT_size .* p.k\n",
    "    \n",
    "    scalar_ODT = exp(-2(r[1]-ODT_x)^2/ODT_size[1]^2) * exp(-2r[2]^2/ODT_size[2]^2) * exp(-2(r[3]-ODT_z)^2/ODT_size[3]^2)\n",
    "    \n",
    "    @turbo for i in eachindex(H)\n",
    "        H.re[i] += H_ODT.re[i] * scalar_ODT\n",
    "        H.im[i] += H_ODT.im[i] * scalar_ODT\n",
    "    end\n",
    "    \n",
    "    ∇H = SVector{3, Float64}((-4(r[1]-ODT_x) / ODT_size[1]^2) * scalar_ODT, (-4r[2] / ODT_size[2]^2) * scalar_ODT, (-4(r[3]-ODT_z) / ODT_size[3]^2) * scalar_ODT)\n",
    "    \n",
    "    return ∇H\n",
    "end\n",
    ";"
   ]
  },
  {
   "cell_type": "code",
   "execution_count": 1548,
   "id": "4730cfbe-88ac-435e-9d90-b5d18cca4822",
   "metadata": {},
   "outputs": [],
   "source": [
    "@everywhere extra_data = MutableNamedTuple(\n",
    "    Zeeman_Hx = Zeeman_x_mat,\n",
    "    Zeeman_Hy = Zeeman_y_mat,\n",
    "    Zeeman_Hz = Zeeman_z_mat,\n",
    "    H_ODT_static = StructArray(H_ODT),\n",
    "    H_ODT = deepcopy(StructArray(H_ODT)),\n",
    "    ODT_as = ODT_as,\n",
    "    ODT_τs = ODT_τs\n",
    ")\n",
    ";"
   ]
  },
  {
   "cell_type": "code",
   "execution_count": null,
   "id": "3d8e2701-6a20-4497-9fcb-21fa62eb1869",
   "metadata": {
    "tags": []
   },
   "outputs": [
    {
     "name": "stderr",
     "output_type": "stream",
     "text": [
      "\u001b[32mODE   0%|█                                              |  ETA: N/A\u001b[39m\n",
      "\u001b[32mODE   2%|█                                              |  ETA: 0:02:25\u001b[39m\n",
      "\u001b[32mODE   4%|██                                             |  ETA: 0:02:23\u001b[39m\n",
      "\u001b[32mODE   5%|███                                            |  ETA: 0:02:20\u001b[39m\n",
      "\u001b[32mODE   7%|████                                           |  ETA: 0:02:17\u001b[39m\n",
      "\u001b[32mODE   9%|█████                                          |  ETA: 0:02:14\u001b[39m\n",
      "\u001b[32mODE  11%|██████                                         |  ETA: 0:02:13\u001b[39m\n",
      "\u001b[32mODE  13%|██████                                         |  ETA: 0:02:10\u001b[39m\n",
      "\u001b[32mODE  14%|███████                                        |  ETA: 0:02:07\u001b[39m\n",
      "\u001b[32mODE  16%|████████                                       |  ETA: 0:02:04\u001b[39m\n",
      "\u001b[32mODE  18%|█████████                                      |  ETA: 0:02:01\u001b[39m\n",
      "\u001b[32mODE  20%|██████████                                     |  ETA: 0:01:59\u001b[39m\n",
      "\u001b[32mODE  22%|███████████                                    |  ETA: 0:01:56\u001b[39m\n",
      "\u001b[32mODE  23%|███████████                                    |  ETA: 0:01:54\u001b[39m\n",
      "\u001b[32mODE  25%|████████████                                   |  ETA: 0:01:51\u001b[39m\n",
      "\u001b[32mODE  27%|█████████████                                  |  ETA: 0:01:48\u001b[39m\n",
      "\u001b[32mODE  29%|██████████████                                 |  ETA: 0:01:46\u001b[39m\n",
      "\u001b[32mODE  30%|███████████████                                |  ETA: 0:01:43\u001b[39m\n",
      "\u001b[32mODE  32%|████████████████                               |  ETA: 0:01:41\u001b[39m\n",
      "\u001b[32mODE  34%|████████████████                               |  ETA: 0:01:38\u001b[39m\n",
      "\u001b[32mODE  36%|█████████████████                              |  ETA: 0:01:35\u001b[39m\n",
      "\u001b[32mODE  38%|██████████████████                             |  ETA: 0:01:33\u001b[39m\n",
      "\u001b[32mODE  39%|███████████████████                            |  ETA: 0:01:31\u001b[39m\n",
      "\u001b[32mODE  41%|████████████████████                           |  ETA: 0:01:28\u001b[39m\n",
      "\u001b[32mODE  43%|█████████████████████                          |  ETA: 0:01:26\u001b[39m\n",
      "\u001b[32mODE  44%|█████████████████████                          |  ETA: 0:01:23\u001b[39m\n",
      "\u001b[32mODE  46%|██████████████████████                         |  ETA: 0:01:21\u001b[39m\n",
      "\u001b[32mODE  48%|███████████████████████                        |  ETA: 0:01:18\u001b[39m\n",
      "\u001b[32mODE  50%|████████████████████████                       |  ETA: 0:01:16\u001b[39m\n",
      "\u001b[32mODE  51%|█████████████████████████                      |  ETA: 0:01:13\u001b[39m\n",
      "\u001b[32mODE  53%|█████████████████████████                      |  ETA: 0:01:10\u001b[39m\n",
      "\u001b[32mODE  55%|██████████████████████████                     |  ETA: 0:01:08\u001b[39m\n",
      "\u001b[32mODE  57%|███████████████████████████                    |  ETA: 0:01:05\u001b[39m\n",
      "\u001b[32mODE  58%|████████████████████████████                   |  ETA: 0:01:03\u001b[39m\n",
      "\u001b[32mODE  60%|█████████████████████████████                  |  ETA: 0:01:01\u001b[39m\n",
      "\u001b[32mODE  61%|█████████████████████████████                  |  ETA: 0:01:00\u001b[39m\n",
      "\u001b[32mODE  63%|██████████████████████████████                 |  ETA: 0:00:58\u001b[39m\n",
      "\u001b[32mODE  64%|███████████████████████████████                |  ETA: 0:00:55\u001b[39m\n",
      "\u001b[32mODE  66%|███████████████████████████████                |  ETA: 0:00:53\u001b[39m\n",
      "\u001b[32mODE  67%|████████████████████████████████               |  ETA: 0:00:51\u001b[39m\n",
      "\u001b[32mODE  69%|█████████████████████████████████              |  ETA: 0:00:49\u001b[39m\n",
      "\u001b[32mODE  70%|█████████████████████████████████              |  ETA: 0:00:47\u001b[39m\n",
      "\u001b[32mODE  72%|██████████████████████████████████             |  ETA: 0:00:45\u001b[39m\n",
      "\u001b[32mODE  73%|███████████████████████████████████            |  ETA: 0:00:42\u001b[39m\n",
      "\u001b[32mODE  75%|████████████████████████████████████           |  ETA: 0:00:40\u001b[39m\n",
      "\u001b[32mODE  76%|████████████████████████████████████           |  ETA: 0:00:38\u001b[39m\n",
      "\u001b[32mODE  77%|█████████████████████████████████████          |  ETA: 0:00:37\u001b[39m\n",
      "\u001b[32mODE  79%|██████████████████████████████████████         |  ETA: 0:00:35\u001b[39m\n"
     ]
    }
   ],
   "source": [
    "@everywhere begin\n",
    "    t_start = 0.0\n",
    "    t_end   = 40e-3\n",
    "    t_span  = (t_start, t_end) ./ (1/Γ)\n",
    "\n",
    "    n_states = length(states)\n",
    "    n_excited = 4\n",
    "\n",
    "    particle = Particle()\n",
    "    particle.r = (0, 0, 0) ./ (1/k)\n",
    "    ψ₀ = zeros(ComplexF64, n_states)\n",
    "    ψ₀[1] = 1.0\n",
    "end\n",
    "\n",
    "using Logging: global_logger\n",
    "using TerminalLoggers: TerminalLogger\n",
    "global_logger(TerminalLogger())\n",
    "\n",
    "p = schrodinger_stochastic(particle, states, lasers, d, ψ₀, m/(ħ*k^2/Γ), n_excited; sim_params=sim_params, extra_data=extra_data, λ=λ, Γ=Γ, update_H_and_∇H=update_H_and_∇H)\n",
    "\n",
    "prob = ODEProblem(ψ_stochastic_potential!, p.ψ, t_span, p)\n",
    "\n",
    "cb = ContinuousCallback(condition, SE_collapse_pol_always!, nothing, save_positions=(false,false))\n",
    "@time sol = DifferentialEquations.solve(prob, alg=DP5(), reltol=5e-4, callback=cb, saveat=1000, maxiters=80000000, progress=true, progress_steps=200000)\n",
    ";"
   ]
  },
  {
   "cell_type": "code",
   "execution_count": null,
   "id": "86e1b1b0-39cf-412d-acae-08dd6ecffdad",
   "metadata": {},
   "outputs": [],
   "source": [
    "plot_us = sol.u\n",
    "plot_ts = sol.t\n",
    "x_trajectories = [real(u[n_states + n_excited + 1]) for u in plot_us]./k*1e3\n",
    "y_trajectories = [real(u[n_states + n_excited + 2]) for u in plot_us]./k*1e3\n",
    "z_trajectories = [real(u[n_states + n_excited + 3]) for u in plot_us]./k*1e3\n",
    ";"
   ]
  },
  {
   "cell_type": "code",
   "execution_count": null,
   "id": "fcf6b223-7090-49b9-872c-24d6fedb85d6",
   "metadata": {},
   "outputs": [],
   "source": [
    "lim = 0.5\n",
    "plot(x_trajectories, z_trajectories, legend=nothing, xlim=(-lim, lim), ylim=(-lim, lim))"
   ]
  },
  {
   "cell_type": "code",
   "execution_count": null,
   "id": "51c0c515-0286-4ca9-aeb1-f0170ece284c",
   "metadata": {},
   "outputs": [],
   "source": [
    "prob.p.n_scatters / t_end"
   ]
  },
  {
   "cell_type": "markdown",
   "id": "7bb24183-57e8-4905-9516-afcd0290c4fb",
   "metadata": {},
   "source": [
    "### Run simulation for multiple particles in parallel"
   ]
  },
  {
   "cell_type": "code",
   "execution_count": null,
   "id": "e93b2e24-41ca-46f5-a4d6-3fc3e5dee737",
   "metadata": {
    "tags": []
   },
   "outputs": [],
   "source": [
    "@everywhere function prob_func(prob, i, repeat)\n",
    "    \n",
    "     lasers = define_lasers(\n",
    "        states,\n",
    "        sim_params.s1,\n",
    "        sim_params.s2,\n",
    "        sim_params.s_ramp_time,\n",
    "        sim_params.s_ramp_to,\n",
    "        sim_params.pol_imbalance,\n",
    "        sim_params.s_imbalance,\n",
    "        sim_params.retro_loss,\n",
    "        sim_params.off_center,\n",
    "        sim_params.pointing_error,\n",
    "        sim_params.pol1_x,\n",
    "        sim_params.pol2_x,\n",
    "        sim_params.voltage,\n",
    "        sim_params.aom_freq\n",
    "    )\n",
    "    \n",
    "    # Define initial conditions for the molecule\n",
    "    cloud_size = @with_unit 0.05 \"mm\"\n",
    "    particle = Particle()\n",
    "    particle.r = (rand(Normal(0, cloud_size)), rand(Normal(0, cloud_size)), rand(Normal(0, cloud_size))) ./ (1/k)\n",
    "    \n",
    "    ψ₀ = zeros(ComplexF64, n_states)\n",
    "    ψ₀[1] = 1.0\n",
    "    \n",
    "    p = schrodinger_stochastic(particle, states, lasers, d, ψ₀, m/(ħ*k^2/Γ), n_excited; sim_params=sim_params, extra_data=extra_data, λ=λ, Γ=Γ, update_H_and_∇H=update_H_and_∇H)\n",
    "    \n",
    "    callback = ContinuousCallback(condition, SE_collapse_pol_always!, nothing, save_positions=(false,false))\n",
    "    \n",
    "    prob = ODEProblem(ψ_stochastic_potential!, p.ψ, t_span, p, callback=callback, reltol=1e-4, saveat=4000, maxiters=80000000)\n",
    "    \n",
    "    return prob\n",
    "end\n",
    ";"
   ]
  },
  {
   "cell_type": "code",
   "execution_count": null,
   "id": "7360976a-9706-4084-a1fd-4da54aca91fa",
   "metadata": {},
   "outputs": [],
   "source": [
    "ensemble_prob = EnsembleProblem(prob; prob_func=prob_func)\n",
    ";"
   ]
  },
  {
   "cell_type": "code",
   "execution_count": null,
   "id": "22e0da0d-7ef3-4ac5-976a-29239f62b0de",
   "metadata": {},
   "outputs": [],
   "source": [
    "n_molecules = 10\n",
    "@time ensemble_sol = solve(ensemble_prob, DP5(), EnsembleDistributed(); trajectories=n_molecules)\n",
    ";"
   ]
  },
  {
   "cell_type": "code",
   "execution_count": null,
   "id": "523d099a-4c45-4567-a2ef-422c51affe09",
   "metadata": {},
   "outputs": [],
   "source": [
    "x_trajectories = Array{Vector{Float64}}(fill([],n_molecules))\n",
    "y_trajectories = Array{Vector{Float64}}(fill([],n_molecules)) \n",
    "z_trajectories = Array{Vector{Float64}}(fill([],n_molecules))\n",
    "times = Array{Vector{Float64}}(fill([],n_molecules))\n",
    "\n",
    "for i ∈ 1:n_molecules\n",
    "    sol_u = ensemble_sol[i].u\n",
    "    sol_t = ensemble_sol[i].t\n",
    "    \n",
    "    x_trajectories[i] = [x_trajectories[i]; [real(u[n_states + n_excited + 1]) for u in sol_u]./k*1e3 ]\n",
    "    y_trajectories[i] = [y_trajectories[i]; [real(u[n_states + n_excited + 2]) for u in sol_u]./k*1e3 ]\n",
    "    z_trajectories[i] = [z_trajectories[i]; [real(u[n_states + n_excited + 3]) for u in sol_u]./k*1e3 ]\n",
    "    \n",
    "    times[i] = sol_t .* (1/Γ)\n",
    "end\n",
    "\n",
    "trajectories = [\n",
    "    [[x[1],x[2],x[3]] for x ∈ zip(x_trajectories[i],y_trajectories[i],z_trajectories[i])] \n",
    "    for i ∈ 1:n_molecules\n",
    "    ]\n",
    ";\n",
    ";"
   ]
  },
  {
   "cell_type": "code",
   "execution_count": null,
   "id": "0e06953d-50c9-4a49-9dd3-88a6a9bad81f",
   "metadata": {},
   "outputs": [],
   "source": [
    "lim = 0.3\n",
    "plot()\n",
    "for i ∈ 1:n_molecules\n",
    "    plot!(times[i] .* 1e3, z_trajectories[i], legend=nothing, ylim=(-lim, lim))\n",
    "end\n",
    "plot!()"
   ]
  },
  {
   "cell_type": "code",
   "execution_count": null,
   "id": "0457efb2-8e29-4e6a-857d-9d82e9d5bb24",
   "metadata": {},
   "outputs": [],
   "source": [
    "lim = 0.5\n",
    "plot(x_trajectories, z_trajectories, legend=nothing, xlim=(-lim, lim), ylim=(-lim, lim), alpha=0.2)"
   ]
  },
  {
   "cell_type": "code",
   "execution_count": null,
   "id": "d9a31f31-e013-43be-b746-30174bad677f",
   "metadata": {},
   "outputs": [],
   "source": [
    "using Serialization\n",
    "# serialize(\"300e-6 radius spiral.jl\", ensemble_sol)"
   ]
  },
  {
   "cell_type": "code",
   "execution_count": null,
   "id": "df88b1fa-8dba-4127-8c1c-a13b0bb0f40c",
   "metadata": {},
   "outputs": [],
   "source": [
    "mean(ensemble_sol[i].prob.p.n_scatters ./ times[i][end] for i ∈ 1:n_molecules)"
   ]
  },
  {
   "cell_type": "code",
   "execution_count": null,
   "id": "d614d1d5-6822-41f9-9c17-3239dedc17e5",
   "metadata": {},
   "outputs": [],
   "source": [
    "prob.p.sim_params.ODT_position"
   ]
  },
  {
   "cell_type": "code",
   "execution_count": null,
   "id": "b04b1590-005a-4d2d-a5de-bd77537ca049",
   "metadata": {},
   "outputs": [],
   "source": [
    "captured_in_ODT(trajectories, times, 40e-3, prob)"
   ]
  },
  {
   "cell_type": "code",
   "execution_count": null,
   "id": "cb8a1430-5aa4-4360-b48a-a11a73a23beb",
   "metadata": {},
   "outputs": [],
   "source": [
    "ts = 0:5e-3:20e-3\n",
    "captured = []\n",
    "\n",
    "for t ∈ ts\n",
    "    _captured = captured_in_ODT(trajectories, times, t, prob)\n",
    "    push!(captured, _captured)\n",
    "end"
   ]
  },
  {
   "cell_type": "code",
   "execution_count": null,
   "id": "c82bd103-7ead-4124-8fe1-b84825eca794",
   "metadata": {},
   "outputs": [],
   "source": [
    "plot(ts, captured)"
   ]
  },
  {
   "cell_type": "code",
   "execution_count": null,
   "id": "2d59e980-d02d-4629-be38-9b2a57633866",
   "metadata": {},
   "outputs": [],
   "source": [
    "function captured_in_ODT(trajectories, times, t, prob)\n",
    "    n = 0\n",
    "    \n",
    "    update_ODT_center!(prob.p.sim_params, prob.p.extra_data, t / (1/Γ))\n",
    "    ODT_position = prob.p.sim_params.ODT_position\n",
    "    ODT_size = prob.p.sim_params.ODT_size\n",
    "    \n",
    "    for (i,trajectory) ∈ enumerate(trajectories)\n",
    "        traj_idx = searchsortedfirst(times[i], t)\n",
    "        if (abs(trajectory[traj_idx][1] - ODT_position[1] * 1e3) <= ODT_size[1] * 1e3) && \n",
    "            (abs(trajectory[traj_idx][2]) <= ODT_size[2] * 1e3) &&\n",
    "            (abs(trajectory[traj_idx][3] - ODT_position[2] * 1e3) <= ODT_size[3] * 1e3)\n",
    "            n += 1\n",
    "        end\n",
    "    end\n",
    "    return n\n",
    "end\n",
    ";"
   ]
  },
  {
   "cell_type": "code",
   "execution_count": null,
   "id": "8e2d34db-e7f1-4a68-86f6-6b7f817642b4",
   "metadata": {},
   "outputs": [],
   "source": []
  }
 ],
 "metadata": {
  "kernelspec": {
   "display_name": "Julia (20 threads) 1.9.3",
   "language": "julia",
   "name": "julia-_20-threads_-1.9"
  },
  "language_info": {
   "file_extension": ".jl",
   "mimetype": "application/julia",
   "name": "julia",
   "version": "1.9.3"
  }
 },
 "nbformat": 4,
 "nbformat_minor": 5
}
