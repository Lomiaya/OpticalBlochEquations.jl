{
 "cells": [
  {
   "cell_type": "code",
   "execution_count": 1,
   "id": "5fcb35b6-eb12-4811-a9a6-a3b687c9a7fc",
   "metadata": {},
   "outputs": [],
   "source": [
    "using Revise"
   ]
  },
  {
   "cell_type": "code",
   "execution_count": 5,
   "id": "635e84b6-4338-4ff4-910e-504be9a213dd",
   "metadata": {},
   "outputs": [],
   "source": [
    "using\n",
    "    QuantumStates,\n",
    "    OpticalBlochEquations,\n",
    "    DifferentialEquations,\n",
    "    UnitsToValue,\n",
    "    LinearAlgebra\n",
    ";"
   ]
  },
  {
   "cell_type": "code",
   "execution_count": 575,
   "id": "51a8b3c5-721e-4b44-be0a-eb391d57c5fb",
   "metadata": {},
   "outputs": [],
   "source": [
    "H_operator = :(\n",
    "    B * Rotation +\n",
    "    B_z * Zeeman\n",
    ")\n",
    "parameters = @params begin\n",
    "    B = 1.\n",
    "    B_z = 0.\n",
    "end\n",
    "\n",
    "# Create basis states\n",
    "QN_bounds = (N = 0,)\n",
    "ground_states = enumerate_states(AngularMomentumState, QN_bounds)\n",
    "QN_bounds = (N = 1,)\n",
    "excited_states = enumerate_states(AngularMomentumState, QN_bounds)\n",
    "\n",
    "basis = [ground_states; excited_states]\n",
    "\n",
    "H = Hamiltonian(basis=basis, operator=H_operator, parameters=parameters)\n",
    "evaluate!(H)\n",
    "QuantumStates.solve!(H)\n",
    "update_basis_tdms!(H)\n",
    "update_tdms!(H)\n",
    ";"
   ]
  },
  {
   "cell_type": "code",
   "execution_count": 645,
   "id": "c817fa06-ef52-4cb2-84fb-1f60c2277605",
   "metadata": {},
   "outputs": [
    {
     "name": "stderr",
     "output_type": "stream",
     "text": [
      "WARNING: redefinition of constant lin. This may fail, cause incorrect answers, or produce other errors.\n"
     ]
    }
   ],
   "source": [
    "# Laser parameters\n",
    "s = 2.\n",
    "ω = 2π * energy(H.states[3])\n",
    "\n",
    "const lin = [0,1,0]\n",
    "const phase = π/2\n",
    "\n",
    "k̂ = +ẑ;\n",
    "\n",
    "ϵ_(ϵ1) = t -> ϵ1\n",
    "\n",
    "ϵ1 = ϵ_(lin)\n",
    "laser1 = Field(k̂, ϵ1, ω, s)\n",
    "\n",
    "ϵ2 = ϵ_(exp(im * π) * lin)\n",
    "laser2 = Field(k̂, ϵ2, ω, s)\n",
    "\n",
    "lasers = [laser1]\n",
    ";"
   ]
  },
  {
   "cell_type": "code",
   "execution_count": 646,
   "id": "0acb0760-448b-4cf3-87e6-96ae3e836ad7",
   "metadata": {},
   "outputs": [],
   "source": [
    "function update_H(H, p, τ)\n",
    "    H .= p.H₀\n",
    "end\n",
    ";"
   ]
  },
  {
   "cell_type": "code",
   "execution_count": null,
   "id": "b0f6b34b-f2d0-43e9-a9c0-588d50707703",
   "metadata": {},
   "outputs": [],
   "source": [
    "# OBE parameters\n",
    "particle = Particle()\n",
    "freq_res = 1e-1\n",
    "\n",
    "ψ0 = zeros(ComplexF64, length(H.states))\n",
    "ψ0[1] = 1.0\n",
    "\n",
    "# π/2 pulse\n",
    "(dψ, ψ, p) = schrödinger(particle, H.states, H.matrix .* 0., [laser1], H.tdms, nothing, ψ0, false, update_H)\n",
    "\n",
    "t_end = π/2\n",
    "tspan1 = (0., π/2)\n",
    "times1 = range(tspan1[1], tspan1[2], 10000)\n",
    "prob1 = ODEProblem(ψ!, ψ0, tspan, p)\n",
    "@time sol1 = DifferentialEquations.solve(prob1, alg=DP5(), reltol=1e-3, saveat=times1)\n",
    "\n",
    "# variable precession\n",
    "(dψ, ψ, p) = schrödinger(particle, H.states, H.matrix .* 0., Field[], H.tdms, nothing, ψ0, false, update_H)\n",
    "\n",
    "precession_time = 5π\n",
    "tspan2 = (π/2, π/2 + precession_time)\n",
    "times2 = range(tspan2[1], tspan2[2], 10000)\n",
    "prob2 = ODEProblem(ψ!, sol1.u[end], tspan2, p)\n",
    "@time sol2 = DifferentialEquations.solve(prob2, alg=DP5(), reltol=1e-3, saveat=times2)\n",
    "\n",
    "# π/2 pulse\n",
    "(dψ, ψ, p) = schrödinger(particle, H.states, H.matrix .* 0., [laser2], H.tdms, nothing, ψ0, false, update_H)\n",
    "\n",
    "tspan3 = (π/2 + precession_time, π + precession_time)\n",
    "times3 = range(tspan3[1], tspan3[2], 10000)\n",
    "prob3 = ODEProblem(ψ!, sol2.u[end], tspan3, p)\n",
    "@time sol3 = DifferentialEquations.solve(prob3, alg=DP5(), reltol=1e-3, saveat=times3)\n",
    ";"
   ]
  },
  {
   "cell_type": "code",
   "execution_count": null,
   "id": "1f20a1c9-8955-44d1-9fd3-ac85a3a6ea23",
   "metadata": {},
   "outputs": [],
   "source": [
    "using Plots\n",
    "us = [sol1.u; sol2.u; sol3.u]\n",
    "ts = [times1; times2; times3]\n",
    "\n",
    "plot(legend=nothing)\n",
    "for i in 1:size(us[1], 1)\n",
    "    plot!(ts, [real(conj(u[i]) * u[i]) for u in us])\n",
    "end\n",
    "plot!()"
   ]
  },
  {
   "cell_type": "code",
   "execution_count": null,
   "id": "7a5fb918-f09c-4a88-92af-589a8ec86817",
   "metadata": {},
   "outputs": [],
   "source": []
  }
 ],
 "metadata": {
  "kernelspec": {
   "display_name": "Julia (20 threads) 1.9.0-rc3",
   "language": "julia",
   "name": "julia-_20-threads_-1.9"
  },
  "language_info": {
   "file_extension": ".jl",
   "mimetype": "application/julia",
   "name": "julia",
   "version": "1.9.0"
  }
 },
 "nbformat": 4,
 "nbformat_minor": 5
}
