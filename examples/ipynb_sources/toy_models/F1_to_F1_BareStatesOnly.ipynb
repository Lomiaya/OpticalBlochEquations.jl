{
 "cells": [
  {
   "cell_type": "code",
   "execution_count": 1,
   "id": "5fcb35b6-eb12-4811-a9a6-a3b687c9a7fc",
   "metadata": {},
   "outputs": [],
   "source": [
    "using Revise"
   ]
  },
  {
   "cell_type": "code",
   "execution_count": 2,
   "id": "635e84b6-4338-4ff4-910e-504be9a213dd",
   "metadata": {},
   "outputs": [],
   "source": [
    "using\n",
    "    QuantumStates,\n",
    "    OpticalBlochEquations,\n",
    "    DifferentialEquations,\n",
    "    UnitsToValue,\n",
    "    LinearAlgebra\n",
    ";"
   ]
  },
  {
   "cell_type": "code",
   "execution_count": 3,
   "id": "281294a7-c469-47a1-8437-199274d64600",
   "metadata": {},
   "outputs": [],
   "source": [
    "const λ = 626e-9\n",
    "const Γ = 2π * 6.4e6\n",
    "const m = @with_unit 57 \"u\"\n",
    "const k = 2π / λ\n",
    ";"
   ]
  },
  {
   "cell_type": "code",
   "execution_count": null,
   "id": "c1b9839a",
   "metadata": {},
   "outputs": [],
   "source": []
  },
  {
   "cell_type": "code",
   "execution_count": 68,
   "id": "51a8b3c5-721e-4b44-be0a-eb391d57c5fb",
   "metadata": {},
   "outputs": [],
   "source": [
    "H_operator = :(\n",
    "    T * L +\n",
    "    B_z * (1.4e6 * Zeeman_L0)\n",
    ")\n",
    "parameters = @params begin\n",
    "    T = 478e12\n",
    "    B_z = 0.\n",
    "end\n",
    "\n",
    "# Create basis states\n",
    "QN_bounds = (L = 0, N = 1)\n",
    "ground_states = enumerate_states(AngularMomentumState_Labelled, QN_bounds)\n",
    "QN_bounds = (L = 1, N = 1)\n",
    "excited_states = enumerate_states(AngularMomentumState_Labelled, QN_bounds)\n",
    "\n",
    "# Create Hamiltonian\n",
    "basis = [ground_states; excited_states]\n",
    "H = Hamiltonian(basis=basis, operator=H_operator, parameters=parameters)\n",
    "\n",
    "evaluate!(H)\n",
    "QuantumStates.solve!(H)\n",
    "\n",
    "update_basis_tdms!(H)\n",
    "update_tdms!(H)\n",
    "d = H.tdms\n",
    "\n",
    "# d[1:5, 6:end, 1] ./= sqrt(sum(d[1:5, 6:end, 1].^2))\n",
    "# d[6:end, 1:5, 1] ./= sqrt(sum(d[6:end, 1:5, 1].^2))\n",
    "# d[1:5, 6:end, 2] ./= sqrt(sum(d[1:5, 6:end, 2].^2))\n",
    "# d[6:end, 1:5, 2] ./= sqrt(sum(d[6:end, 1:5, 2].^2))\n",
    "# d[1:5, 6:end, 3] ./= sqrt(sum(d[1:5, 6:end, 3].^2))\n",
    "# d[6:end, 1:5, 3] ./= sqrt(sum(d[6:end, 1:5, 3].^2))\n",
    "# d[1:5,1:5,:] .= 0.0\n",
    "# d[6:8,6:8,:] .= 0.0\n",
    ";"
   ]
  },
  {
   "cell_type": "code",
   "execution_count": 168,
   "id": "c817fa06-ef52-4cb2-84fb-1f60c2277605",
   "metadata": {},
   "outputs": [],
   "source": [
    "# Laser parameters\n",
    "Δ_orthog = 20.0Γ\n",
    "Δ = 5.0Γ\n",
    "s = 50.0\n",
    "\n",
    "s_orthog = 50.0\n",
    "\n",
    "# Frequency of the lasers (in angular frequency units)\n",
    "ω1 = 2π * (energy(H.states[end]) - energy(H.states[1])) + Δ\n",
    "ω2 = 2π * (energy(H.states[end]) - energy(H.states[1])) + Δ_orthog\n",
    "\n",
    "ϵ_(ϵ1) = t -> ϵ1\n",
    "\n",
    "k̂ = +x̂; ϵ1 = ϵ_( -im .* rotate_pol(σ⁺, k̂)); laser1 = Field(k̂, ϵ1, ω2, s_orthog)\n",
    "k̂ = -x̂; ϵ2 = ϵ_( -im .* rotate_pol(σ⁺, k̂)); laser2 = Field(k̂, ϵ2, ω2, s_orthog)\n",
    "k̂ = +ŷ; ϵ3 = ϵ_( -rotate_pol(σ⁺, k̂)); laser3 = Field(k̂, ϵ3, ω2, s_orthog)\n",
    "k̂ = -ŷ; ϵ4 = ϵ_( -rotate_pol(σ⁺, k̂)); laser4 = Field(k̂, ϵ4, ω2, s_orthog)\n",
    "k̂ = +ẑ; ϵ5 = ϵ_( rotate_pol(σ⁺, k̂)); laser5 = Field(k̂, ϵ5, ω1, s)\n",
    "k̂ = -ẑ; ϵ6 = ϵ_( rotate_pol(σ⁺, k̂)); laser6 = Field(k̂, ϵ6, ω1, s)\n",
    "\n",
    "k̂ = +x̂; ϵ1 = ϵ_(σ⁰); laser1_orthog = Field(k̂, ϵ1, ω2, s_orthog)\n",
    "k̂ = -x̂; ϵ2 = ϵ_(σ⁰); laser2_orthog = Field(k̂, ϵ2, ω2, s_orthog)\n",
    "\n",
    "lasers = [laser1, laser2, laser3, laser4, laser5, laser6]\n",
    "# lasers = [laser5]\n",
    ";"
   ]
  },
  {
   "cell_type": "code",
   "execution_count": 169,
   "id": "436aa185",
   "metadata": {},
   "outputs": [
    {
     "data": {
      "text/plain": [
       "3-element SVector{3, ComplexF64} with indices SOneTo(3):\n",
       " 0.0 + 0.0im\n",
       " 0.0 + 0.0im\n",
       " 1.0 + 0.0im"
      ]
     },
     "execution_count": 169,
     "metadata": {},
     "output_type": "execute_result"
    }
   ],
   "source": [
    "k̂ = +ẑ; rotate_pol(σ⁺, k̂)"
   ]
  },
  {
   "cell_type": "code",
   "execution_count": 170,
   "id": "b0f6b34b-f2d0-43e9-a9c0-588d50707703",
   "metadata": {},
   "outputs": [],
   "source": [
    "particle = Particle()\n",
    "ρ0 = zeros(ComplexF64, length(H.states), length(H.states))\n",
    "ρ0[1,1] = 1.0\n",
    "freq_res = 1e-2\n",
    "\n",
    "p = obe(ρ0, particle, H.states, lasers, d, d, true, true, λ, Γ, freq_res, nothing)\n",
    "\n",
    "t_end = 10p.period\n",
    "tspan = (0., t_end)\n",
    "prob = ODEProblem(ρ!, p.ρ0_vec, tspan, p)\n",
    ";"
   ]
  },
  {
   "cell_type": "code",
   "execution_count": 171,
   "id": "72f0edc2-c4b2-44eb-92a4-cdee8a88bd74",
   "metadata": {
    "tags": []
   },
   "outputs": [
    {
     "name": "stdout",
     "output_type": "stream",
     "text": [
      "  2.140464 seconds (4.40 M allocations: 350.468 MiB, 95.99% compilation time)\n"
     ]
    },
    {
     "data": {
      "text/plain": [
       "3-element SVector{3, Float64} with indices SOneTo(3):\n",
       "   -2.353859822826842e-14\n",
       "    3.762338318473082e-15\n",
       " -401.40675821259583"
      ]
     },
     "execution_count": 171,
     "metadata": {},
     "output_type": "execute_result"
    }
   ],
   "source": [
    "callback = PeriodicCallback(reset_force!, prob.p.period)\n",
    "\n",
    "prob.p.r0 = (0., 0., 0.) .* 2π\n",
    "prob.p.v = (0., 0., 0.)\n",
    "@time sol = DifferentialEquations.solve(prob, alg=DP5(), reltol=1e-3, callback=callback)\n",
    "prob.p.force_last_period .* 1e3"
   ]
  },
  {
   "cell_type": "code",
   "execution_count": 172,
   "id": "1f20a1c9-8955-44d1-9fd3-ac85a3a6ea23",
   "metadata": {},
   "outputs": [],
   "source": [
    "# using Plots\n",
    "# plot_us = sol.u#[1:10:end]\n",
    "# plot_ts = sol.t#[1:10:end]\n",
    "\n",
    "# n_states = size(p.ρ_soa, 1)\n",
    "# plot(size=(800, 400), ylim=(-0.1, 1.1), legend=nothing)\n",
    "# for i in 1:n_states\n",
    "#     state_idx = n_states*(i-1) + i\n",
    "#     plot!(plot_ts, [real(u[state_idx]) for u in plot_us])\n",
    "# end\n",
    "# plot!()\n",
    "# offset = 0\n",
    "# vline!([sol.t[end] - prob.p.period - offset, sol.t[end] - offset], color=\"red\", linestyle=:dash)"
   ]
  },
  {
   "cell_type": "code",
   "execution_count": 173,
   "id": "31aa9410",
   "metadata": {},
   "outputs": [
    {
     "data": {
      "text/plain": [
       "6-element Vector{ComplexF64}:\n",
       "  0.49527753220076975 + 0.0im\n",
       "                  0.0 + 0.0im\n",
       "  0.47070802911765675 + 0.0im\n",
       "                  0.0 + 0.0im\n",
       " 0.034014438681574416 + 0.0im\n",
       "                  0.0 + 0.0im"
      ]
     },
     "execution_count": 173,
     "metadata": {},
     "output_type": "execute_result"
    }
   ],
   "source": [
    "prob.p.populations"
   ]
  },
  {
   "cell_type": "code",
   "execution_count": 174,
   "id": "91f57c43-631e-468c-872d-7db3fd27773b",
   "metadata": {},
   "outputs": [],
   "source": [
    "# plot(size=(800, 400), legend=nothing)\n",
    "# plot!(plot_ts, 1e3 .* [real(u[end-2]) for u in plot_us] ./ prob.p.period)\n",
    "# plot!(plot_ts, 1e3 .* [real(u[end-1]) for u in plot_us] ./ prob.p.period)\n",
    "# plot!(plot_ts, 1e3 .* [real(u[end]) for u in plot_us] ./ prob.p.period)\n",
    "# plot!()\n",
    "# offset = 0\n",
    "# vline!([sol.t[end] - prob.p.period - offset, sol.t[end] - offset], color=\"red\", linestyle=:dash)"
   ]
  },
  {
   "cell_type": "code",
   "execution_count": 175,
   "id": "c62cdb00-4f04-4bec-8820-9eebb3c74a67",
   "metadata": {},
   "outputs": [
    {
     "data": {
      "text/plain": [
       "6-element Vector{ComplexF64}:\n",
       "  0.49527753220076975 + 0.0im\n",
       "                  0.0 + 0.0im\n",
       "  0.47070802911765675 + 0.0im\n",
       "                  0.0 + 0.0im\n",
       " 0.034014438681574416 + 0.0im\n",
       "                  0.0 + 0.0im"
      ]
     },
     "execution_count": 175,
     "metadata": {},
     "output_type": "execute_result"
    }
   ],
   "source": [
    "prob.p.populations"
   ]
  },
  {
   "cell_type": "code",
   "execution_count": 176,
   "id": "1ebf0fc8-30d1-4e77-8bd2-8f20abb6b894",
   "metadata": {},
   "outputs": [],
   "source": [
    "using Distributions\n",
    "uniform_dist = Uniform(0, 2π)\n",
    "function sample_direction(r=1.0)\n",
    "    θ = 2π * rand()\n",
    "    z = rand() * 2 - 1\n",
    "    return (r * sqrt(1 - z^2) * cos(θ), r * sqrt(1 - z^2) * sin(θ), r * z)\n",
    "end\n",
    ";"
   ]
  },
  {
   "cell_type": "markdown",
   "id": "1e7623f1-955d-4f2d-8fbb-2c68c74311c6",
   "metadata": {},
   "source": [
    "## Laser cooling force versus magnetic field"
   ]
  },
  {
   "cell_type": "code",
   "execution_count": 177,
   "id": "1afcc768-7819-41ba-8399-9f483f0e6cfc",
   "metadata": {},
   "outputs": [],
   "source": [
    "function prob_func!(prob, scan_params, i)\n",
    "    p = prob.p\n",
    "    \n",
    "    # Update velocity and position\n",
    "    p.particle.v .= scan_params[i].v\n",
    "    p.particle.r0 .= scan_params[i].r\n",
    "    \n",
    "    # Update magnetic field\n",
    "    H = p.extra_p.H\n",
    "    H.parameters.B_z = scan_params[i].B\n",
    "    evaluate!(H)\n",
    "    QuantumStates.solve!(H)\n",
    "    \n",
    "    # Update transition dipole moments\n",
    "    update_basis_tdms!(H)\n",
    "    update_tdms!(H)\n",
    "    new_d = H.tdms\n",
    "    \n",
    "    new_p = obe(p.ρ0, p.particle, H.states, p.extra_p.lasers, new_d, nothing, true, true, p.λ, p.Γ, p.freq_res, p.extra_p)\n",
    "    \n",
    "    return remake(prob, p=new_p)\n",
    "end\n",
    "function output_func(p, sol)\n",
    "    f = p.force_last_period\n",
    "    return f\n",
    "end\n",
    ";"
   ]
  },
  {
   "cell_type": "code",
   "execution_count": 178,
   "id": "ec4884ee-af42-4711-a764-e83901400a52",
   "metadata": {},
   "outputs": [],
   "source": [
    "using RectiGrids\n",
    "\n",
    "freq_res = 1e-1\n",
    "extra_p = (H=H, lasers=lasers)\n",
    "p = obe(ρ0, particle, H.states, lasers, d, d, true, true, λ, Γ, freq_res, extra_p)\n",
    "\n",
    "t_end = 10p.period+1; tspan = (0., t_end)\n",
    "prob = ODEProblem(ρ!, p.ρ0_vec, tspan, p, reltol=1e-3, save_on=false)\n",
    "\n",
    "Bs = collect(LinRange(0,200.0,41))\n",
    "di = 5\n",
    "rs = vcat([(n1*λ/(di+1), n2*λ/(di+1), n3*λ/(di+1)) .* 2π for n1 ∈ 0:di, n2 ∈ 0:di, n3 ∈ 0:di]...)\n",
    "vs = [sample_direction(0.0) for _ in 1:1]\n",
    "\n",
    "scan_values = (B = Bs, r = rs, v = vs)\n",
    "scan_values_grid = RectiGrids.grid(scan_values)\n",
    ";"
   ]
  },
  {
   "cell_type": "code",
   "execution_count": 179,
   "id": "675136bd-462b-4e5a-8735-aba35ce405a2",
   "metadata": {},
   "outputs": [
    {
     "name": "stderr",
     "output_type": "stream",
     "text": [
      "\u001b[32mProgress: 100%|█████████████████████████████████████████| Time: 0:00:22\u001b[39m\n"
     ]
    },
    {
     "name": "stdout",
     "output_type": "stream",
     "text": [
      " 22.568814 seconds (8.00 M allocations: 880.836 MiB, 242.80% compilation time)\n"
     ]
    }
   ],
   "source": [
    "@time forces, populations = force_scan_v2(prob, scan_values_grid, prob_func!, output_func);"
   ]
  },
  {
   "cell_type": "code",
   "execution_count": 180,
   "id": "059c3793-2744-4638-92c8-a31788a16c70",
   "metadata": {},
   "outputs": [
    {
     "name": "stdout",
     "output_type": "stream",
     "text": [
      "  0.076883 seconds (73.20 k allocations: 5.396 MiB, 97.60% compilation time)\n",
      "  0.063145 seconds (48.02 k allocations: 4.264 MiB, 97.52% compilation time)\n"
     ]
    }
   ],
   "source": [
    "averaged_forces = []\n",
    "@time for (i,B) ∈ enumerate(Bs)\n",
    "    idxs = [j for (j,x) ∈ enumerate(scan_values_grid) if x.B == B]\n",
    "    push!(averaged_forces, mean([f[3] for f in forces[idxs]]))\n",
    "end\n",
    "averaged_populations = []\n",
    "@time for (i,B) ∈ enumerate(Bs)\n",
    "    idxs = [j for (j,x) ∈ enumerate(scan_values_grid) if x.B == B]\n",
    "    push!(averaged_populations, mean([p for p in populations[idxs,:]], dims=1))\n",
    "end"
   ]
  },
  {
   "cell_type": "code",
   "execution_count": 181,
   "id": "7af54d25-1337-4ec8-b91c-27c6189542d0",
   "metadata": {},
   "outputs": [
    {
     "data": {
      "image/png": "[encoded data removed]",
      "image/svg+xml": [
       "<?xml version=\"1.0\" encoding=\"utf-8\"?>\n",
       "<svg xmlns=\"http://www.w3.org/2000/svg\" xmlns:xlink=\"http://www.w3.org/1999/xlink\" width=\"600\" height=\"400\" viewBox=\"0 0 2400 1600\">\n",
       "<defs>\n",
       "  <clipPath id=\"clip960\">\n",
       "    <rect x=\"0\" y=\"0\" width=\"2400\" height=\"1600\"/>\n",
       "  </clipPath>\n",
       "</defs>\n",
       "<path clip-path=\"url(#clip960)\" d=\"M0 1600 L2400 1600 L2400 0 L0 0  Z\" fill=\"#ffffff\" fill-rule=\"evenodd\" fill-opacity=\"1\"/>\n",
       "<defs>\n",
       "  <clipPath id=\"clip961\">\n",
       "    <rect x=\"480\" y=\"0\" width=\"1681\" height=\"1600\"/>\n",
       "  </clipPath>\n",
       "</defs>\n",
       "<path clip-path=\"url(#clip960)\" d=\"M272.297 1423.18 L2352.76 1423.18 L2352.76 47.2441 L272.297 47.2441  Z\" fill=\"#ffffff\" fill-rule=\"evenodd\" fill-opacity=\"1\"/>\n",
       "<defs>\n",
       "  <clipPath id=\"clip962\">\n",
       "    <rect x=\"272\" y=\"47\" width=\"2081\" height=\"1377\"/>\n",
       "  </clipPath>\n",
       "</defs>\n",
       "<polyline clip-path=\"url(#clip962)\" style=\"stroke:#000000; stroke-linecap:round; stroke-linejoin:round; stroke-width:2; stroke-opacity:0.1; fill:none\" points=\"331.177,1423.18 331.177,47.2441 \"/>\n",
       "<polyline clip-path=\"url(#clip962)\" style=\"stroke:#000000; stroke-linecap:round; stroke-linejoin:round; stroke-width:2; stroke-opacity:0.1; fill:none\" points=\"821.852,1423.18 821.852,47.2441 \"/>\n",
       "<polyline clip-path=\"url(#clip962)\" style=\"stroke:#000000; stroke-linecap:round; stroke-linejoin:round; stroke-width:2; stroke-opacity:0.1; fill:none\" points=\"1312.53,1423.18 1312.53,47.2441 \"/>\n",
       "<polyline clip-path=\"url(#clip962)\" style=\"stroke:#000000; stroke-linecap:round; stroke-linejoin:round; stroke-width:2; stroke-opacity:0.1; fill:none\" points=\"1803.2,1423.18 1803.2,47.2441 \"/>\n",
       "<polyline clip-path=\"url(#clip962)\" style=\"stroke:#000000; stroke-linecap:round; stroke-linejoin:round; stroke-width:2; stroke-opacity:0.1; fill:none\" points=\"2293.87,1423.18 2293.87,47.2441 \"/>\n",
       "<polyline clip-path=\"url(#clip960)\" style=\"stroke:#000000; stroke-linecap:round; stroke-linejoin:round; stroke-width:4; stroke-opacity:1; fill:none\" points=\"272.297,1423.18 2352.76,1423.18 \"/>\n",
       "<polyline clip-path=\"url(#clip960)\" style=\"stroke:#000000; stroke-linecap:round; stroke-linejoin:round; stroke-width:4; stroke-opacity:1; fill:none\" points=\"272.297,47.2441 2352.76,47.2441 \"/>\n",
       "<polyline clip-path=\"url(#clip960)\" style=\"stroke:#000000; stroke-linecap:round; stroke-linejoin:round; stroke-width:4; stroke-opacity:1; fill:none\" points=\"331.177,1423.18 331.177,1404.28 \"/>\n",
       "<polyline clip-path=\"url(#clip960)\" style=\"stroke:#000000; stroke-linecap:round; stroke-linejoin:round; stroke-width:4; stroke-opacity:1; fill:none\" points=\"821.852,1423.18 821.852,1404.28 \"/>\n",
       "<polyline clip-path=\"url(#clip960)\" style=\"stroke:#000000; stroke-linecap:round; stroke-linejoin:round; stroke-width:4; stroke-opacity:1; fill:none\" points=\"1312.53,1423.18 1312.53,1404.28 \"/>\n",
       "<polyline clip-path=\"url(#clip960)\" style=\"stroke:#000000; stroke-linecap:round; stroke-linejoin:round; stroke-width:4; stroke-opacity:1; fill:none\" points=\"1803.2,1423.18 1803.2,1404.28 \"/>\n",
       "<polyline clip-path=\"url(#clip960)\" style=\"stroke:#000000; stroke-linecap:round; stroke-linejoin:round; stroke-width:4; stroke-opacity:1; fill:none\" points=\"2293.87,1423.18 2293.87,1404.28 \"/>\n",
       "<path clip-path=\"url(#clip960)\" d=\"M331.177 1454.1 Q327.566 1454.1 325.738 1457.66 Q323.932 1461.2 323.932 1468.33 Q323.932 1475.44 325.738 1479.01 Q327.566 1482.55 331.177 1482.55 Q334.812 1482.55 336.617 1479.01 Q338.446 1475.44 338.446 1468.33 Q338.446 1461.2 336.617 1457.66 Q334.812 1454.1 331.177 1454.1 M331.177 1450.39 Q336.988 1450.39 340.043 1455 Q343.122 1459.58 343.122 1468.33 Q343.122 1477.06 340.043 1481.67 Q336.988 1486.25 331.177 1486.25 Q325.367 1486.25 322.289 1481.67 Q319.233 1477.06 319.233 1468.33 Q319.233 1459.58 322.289 1455 Q325.367 1450.39 331.177 1450.39 Z\" fill=\"#000000\" fill-rule=\"nonzero\" fill-opacity=\"1\" /><path clip-path=\"url(#clip960)\" d=\"M796.551 1451.02 L814.907 1451.02 L814.907 1454.96 L800.833 1454.96 L800.833 1463.43 Q801.852 1463.08 802.87 1462.92 Q803.889 1462.73 804.907 1462.73 Q810.694 1462.73 814.074 1465.9 Q817.454 1469.08 817.454 1474.49 Q817.454 1480.07 813.982 1483.17 Q810.509 1486.25 804.19 1486.25 Q802.014 1486.25 799.745 1485.88 Q797.5 1485.51 795.093 1484.77 L795.093 1480.07 Q797.176 1481.2 799.398 1481.76 Q801.62 1482.32 804.097 1482.32 Q808.102 1482.32 810.44 1480.21 Q812.778 1478.1 812.778 1474.49 Q812.778 1470.88 810.44 1468.77 Q808.102 1466.67 804.097 1466.67 Q802.222 1466.67 800.347 1467.08 Q798.495 1467.5 796.551 1468.38 L796.551 1451.02 Z\" fill=\"#000000\" fill-rule=\"nonzero\" fill-opacity=\"1\" /><path clip-path=\"url(#clip960)\" d=\"M836.667 1454.1 Q833.055 1454.1 831.227 1457.66 Q829.421 1461.2 829.421 1468.33 Q829.421 1475.44 831.227 1479.01 Q833.055 1482.55 836.667 1482.55 Q840.301 1482.55 842.106 1479.01 Q843.935 1475.44 843.935 1468.33 Q843.935 1461.2 842.106 1457.66 Q840.301 1454.1 836.667 1454.1 M836.667 1450.39 Q842.477 1450.39 845.532 1455 Q848.611 1459.58 848.611 1468.33 Q848.611 1477.06 845.532 1481.67 Q842.477 1486.25 836.667 1486.25 Q830.856 1486.25 827.778 1481.67 Q824.722 1477.06 824.722 1468.33 Q824.722 1459.58 827.778 1455 Q830.856 1450.39 836.667 1450.39 Z\" fill=\"#000000\" fill-rule=\"nonzero\" fill-opacity=\"1\" /><path clip-path=\"url(#clip960)\" d=\"M1272.13 1481.64 L1279.77 1481.64 L1279.77 1455.28 L1271.46 1456.95 L1271.46 1452.69 L1279.73 1451.02 L1284.4 1451.02 L1284.4 1481.64 L1292.04 1481.64 L1292.04 1485.58 L1272.13 1485.58 L1272.13 1481.64 Z\" fill=\"#000000\" fill-rule=\"nonzero\" fill-opacity=\"1\" /><path clip-path=\"url(#clip960)\" d=\"M1311.48 1454.1 Q1307.87 1454.1 1306.04 1457.66 Q1304.24 1461.2 1304.24 1468.33 Q1304.24 1475.44 1306.04 1479.01 Q1307.87 1482.55 1311.48 1482.55 Q1315.12 1482.55 1316.92 1479.01 Q1318.75 1475.44 1318.75 1468.33 Q1318.75 1461.2 1316.92 1457.66 Q1315.12 1454.1 1311.48 1454.1 M1311.48 1450.39 Q1317.29 1450.39 1320.35 1455 Q1323.43 1459.58 1323.43 1468.33 Q1323.43 1477.06 1320.35 1481.67 Q1317.29 1486.25 1311.48 1486.25 Q1305.67 1486.25 1302.6 1481.67 Q1299.54 1477.06 1299.54 1468.33 Q1299.54 1459.58 1302.6 1455 Q1305.67 1450.39 1311.48 1450.39 Z\" fill=\"#000000\" fill-rule=\"nonzero\" fill-opacity=\"1\" /><path clip-path=\"url(#clip960)\" d=\"M1341.65 1454.1 Q1338.04 1454.1 1336.21 1457.66 Q1334.4 1461.2 1334.4 1468.33 Q1334.4 1475.44 1336.21 1479.01 Q1338.04 1482.55 1341.65 1482.55 Q1345.28 1482.55 1347.09 1479.01 Q1348.91 1475.44 1348.91 1468.33 Q1348.91 1461.2 1347.09 1457.66 Q1345.28 1454.1 1341.65 1454.1 M1341.65 1450.39 Q1347.46 1450.39 1350.51 1455 Q1353.59 1459.58 1353.59 1468.33 Q1353.59 1477.06 1350.51 1481.67 Q1347.46 1486.25 1341.65 1486.25 Q1335.84 1486.25 1332.76 1481.67 Q1329.7 1477.06 1329.7 1468.33 Q1329.7 1459.58 1332.76 1455 Q1335.84 1450.39 1341.65 1450.39 Z\" fill=\"#000000\" fill-rule=\"nonzero\" fill-opacity=\"1\" /><path clip-path=\"url(#clip960)\" d=\"M1762.81 1481.64 L1770.45 1481.64 L1770.45 1455.28 L1762.14 1456.95 L1762.14 1452.69 L1770.4 1451.02 L1775.08 1451.02 L1775.08 1481.64 L1782.71 1481.64 L1782.71 1485.58 L1762.81 1485.58 L1762.81 1481.64 Z\" fill=\"#000000\" fill-rule=\"nonzero\" fill-opacity=\"1\" /><path clip-path=\"url(#clip960)\" d=\"M1792.21 1451.02 L1810.56 1451.02 L1810.56 1454.96 L1796.49 1454.96 L1796.49 1463.43 Q1797.51 1463.08 1798.52 1462.92 Q1799.54 1462.73 1800.56 1462.73 Q1806.35 1462.73 1809.73 1465.9 Q1813.11 1469.08 1813.11 1474.49 Q1813.11 1480.07 1809.64 1483.17 Q1806.16 1486.25 1799.84 1486.25 Q1797.67 1486.25 1795.4 1485.88 Q1793.15 1485.51 1790.75 1484.77 L1790.75 1480.07 Q1792.83 1481.2 1795.05 1481.76 Q1797.27 1482.32 1799.75 1482.32 Q1803.76 1482.32 1806.09 1480.21 Q1808.43 1478.1 1808.43 1474.49 Q1808.43 1470.88 1806.09 1468.77 Q1803.76 1466.67 1799.75 1466.67 Q1797.88 1466.67 1796 1467.08 Q1794.15 1467.5 1792.21 1468.38 L1792.21 1451.02 Z\" fill=\"#000000\" fill-rule=\"nonzero\" fill-opacity=\"1\" /><path clip-path=\"url(#clip960)\" d=\"M1832.32 1454.1 Q1828.71 1454.1 1826.88 1457.66 Q1825.08 1461.2 1825.08 1468.33 Q1825.08 1475.44 1826.88 1479.01 Q1828.71 1482.55 1832.32 1482.55 Q1835.96 1482.55 1837.76 1479.01 Q1839.59 1475.44 1839.59 1468.33 Q1839.59 1461.2 1837.76 1457.66 Q1835.96 1454.1 1832.32 1454.1 M1832.32 1450.39 Q1838.13 1450.39 1841.19 1455 Q1844.27 1459.58 1844.27 1468.33 Q1844.27 1477.06 1841.19 1481.67 Q1838.13 1486.25 1832.32 1486.25 Q1826.51 1486.25 1823.43 1481.67 Q1820.38 1477.06 1820.38 1468.33 Q1820.38 1459.58 1823.43 1455 Q1826.51 1450.39 1832.32 1450.39 Z\" fill=\"#000000\" fill-rule=\"nonzero\" fill-opacity=\"1\" /><path clip-path=\"url(#clip960)\" d=\"M2257.57 1481.64 L2273.89 1481.64 L2273.89 1485.58 L2251.94 1485.58 L2251.94 1481.64 Q2254.6 1478.89 2259.19 1474.26 Q2263.79 1469.61 2264.97 1468.27 Q2267.22 1465.74 2268.1 1464.01 Q2269 1462.25 2269 1460.56 Q2269 1457.8 2267.06 1456.07 Q2265.14 1454.33 2262.03 1454.33 Q2259.84 1454.33 2257.38 1455.09 Q2254.95 1455.86 2252.17 1457.41 L2252.17 1452.69 Q2255 1451.55 2257.45 1450.97 Q2259.91 1450.39 2261.94 1450.39 Q2267.31 1450.39 2270.51 1453.08 Q2273.7 1455.77 2273.7 1460.26 Q2273.7 1462.39 2272.89 1464.31 Q2272.1 1466.2 2270 1468.8 Q2269.42 1469.47 2266.32 1472.69 Q2263.22 1475.88 2257.57 1481.64 Z\" fill=\"#000000\" fill-rule=\"nonzero\" fill-opacity=\"1\" /><path clip-path=\"url(#clip960)\" d=\"M2293.7 1454.1 Q2290.09 1454.1 2288.26 1457.66 Q2286.46 1461.2 2286.46 1468.33 Q2286.46 1475.44 2288.26 1479.01 Q2290.09 1482.55 2293.7 1482.55 Q2297.34 1482.55 2299.14 1479.01 Q2300.97 1475.44 2300.97 1468.33 Q2300.97 1461.2 2299.14 1457.66 Q2297.34 1454.1 2293.7 1454.1 M2293.7 1450.39 Q2299.51 1450.39 2302.57 1455 Q2305.65 1459.58 2305.65 1468.33 Q2305.65 1477.06 2302.57 1481.67 Q2299.51 1486.25 2293.7 1486.25 Q2287.89 1486.25 2284.81 1481.67 Q2281.76 1477.06 2281.76 1468.33 Q2281.76 1459.58 2284.81 1455 Q2287.89 1450.39 2293.7 1450.39 Z\" fill=\"#000000\" fill-rule=\"nonzero\" fill-opacity=\"1\" /><path clip-path=\"url(#clip960)\" d=\"M2323.86 1454.1 Q2320.25 1454.1 2318.42 1457.66 Q2316.62 1461.2 2316.62 1468.33 Q2316.62 1475.44 2318.42 1479.01 Q2320.25 1482.55 2323.86 1482.55 Q2327.5 1482.55 2329.3 1479.01 Q2331.13 1475.44 2331.13 1468.33 Q2331.13 1461.2 2329.3 1457.66 Q2327.5 1454.1 2323.86 1454.1 M2323.86 1450.39 Q2329.67 1450.39 2332.73 1455 Q2335.81 1459.58 2335.81 1468.33 Q2335.81 1477.06 2332.73 1481.67 Q2329.67 1486.25 2323.86 1486.25 Q2318.05 1486.25 2314.97 1481.67 Q2311.92 1477.06 2311.92 1468.33 Q2311.92 1459.58 2314.97 1455 Q2318.05 1450.39 2323.86 1450.39 Z\" fill=\"#000000\" fill-rule=\"nonzero\" fill-opacity=\"1\" /><path clip-path=\"url(#clip960)\" d=\"M1027.55 1520.52 L1037.13 1520.52 L1049.26 1552.86 L1061.45 1520.52 L1071.03 1520.52 L1071.03 1568.04 L1064.76 1568.04 L1064.76 1526.32 L1052.5 1558.91 L1046.04 1558.91 L1033.79 1526.32 L1033.79 1568.04 L1027.55 1568.04 L1027.55 1520.52 Z\" fill=\"#000000\" fill-rule=\"nonzero\" fill-opacity=\"1\" /><path clip-path=\"url(#clip960)\" d=\"M1099.74 1550.12 Q1092.64 1550.12 1089.9 1551.75 Q1087.16 1553.37 1087.16 1557.29 Q1087.16 1560.4 1089.2 1562.25 Q1091.27 1564.07 1094.8 1564.07 Q1099.67 1564.07 1102.6 1560.63 Q1105.56 1557.16 1105.56 1551.43 L1105.56 1550.12 L1099.74 1550.12 M1111.42 1547.71 L1111.42 1568.04 L1105.56 1568.04 L1105.56 1562.63 Q1103.56 1565.88 1100.56 1567.44 Q1097.57 1568.97 1093.24 1568.97 Q1087.77 1568.97 1084.52 1565.91 Q1081.31 1562.82 1081.31 1557.67 Q1081.31 1551.65 1085.32 1548.6 Q1089.36 1545.54 1097.35 1545.54 L1105.56 1545.54 L1105.56 1544.97 Q1105.56 1540.93 1102.89 1538.73 Q1100.25 1536.5 1095.44 1536.5 Q1092.38 1536.5 1089.49 1537.23 Q1086.59 1537.97 1083.92 1539.43 L1083.92 1534.02 Q1087.13 1532.78 1090.16 1532.17 Q1093.18 1531.54 1096.04 1531.54 Q1103.78 1531.54 1107.6 1535.55 Q1111.42 1539.56 1111.42 1547.71 Z\" fill=\"#000000\" fill-rule=\"nonzero\" fill-opacity=\"1\" /><path clip-path=\"url(#clip960)\" d=\"M1146.94 1549.81 Q1146.94 1543.44 1144.3 1539.94 Q1141.69 1536.44 1136.94 1536.44 Q1132.23 1536.44 1129.59 1539.94 Q1126.98 1543.44 1126.98 1549.81 Q1126.98 1556.14 1129.59 1559.64 Q1132.23 1563.14 1136.94 1563.14 Q1141.69 1563.14 1144.3 1559.64 Q1146.94 1556.14 1146.94 1549.81 M1152.79 1563.62 Q1152.79 1572.72 1148.75 1577.15 Q1144.71 1581.6 1136.37 1581.6 Q1133.28 1581.6 1130.55 1581.13 Q1127.81 1580.68 1125.23 1579.72 L1125.23 1574.03 Q1127.81 1575.43 1130.32 1576.1 Q1132.84 1576.76 1135.45 1576.76 Q1141.21 1576.76 1144.07 1573.74 Q1146.94 1570.75 1146.94 1564.67 L1146.94 1561.77 Q1145.12 1564.92 1142.29 1566.48 Q1139.46 1568.04 1135.51 1568.04 Q1128.96 1568.04 1124.94 1563.05 Q1120.93 1558.05 1120.93 1549.81 Q1120.93 1541.53 1124.94 1536.53 Q1128.96 1531.54 1135.51 1531.54 Q1139.46 1531.54 1142.29 1533.1 Q1145.12 1534.66 1146.94 1537.81 L1146.94 1532.4 L1152.79 1532.4 L1152.79 1563.62 Z\" fill=\"#000000\" fill-rule=\"nonzero\" fill-opacity=\"1\" /><path clip-path=\"url(#clip960)\" d=\"M1194.49 1546.53 L1194.49 1568.04 L1188.63 1568.04 L1188.63 1546.72 Q1188.63 1541.66 1186.66 1539.14 Q1184.69 1536.63 1180.74 1536.63 Q1176 1536.63 1173.26 1539.65 Q1170.52 1542.68 1170.52 1547.9 L1170.52 1568.04 L1164.63 1568.04 L1164.63 1532.4 L1170.52 1532.4 L1170.52 1537.93 Q1172.62 1534.72 1175.46 1533.13 Q1178.32 1531.54 1182.05 1531.54 Q1188.19 1531.54 1191.34 1535.36 Q1194.49 1539.14 1194.49 1546.53 Z\" fill=\"#000000\" fill-rule=\"nonzero\" fill-opacity=\"1\" /><path clip-path=\"url(#clip960)\" d=\"M1236.66 1548.76 L1236.66 1551.62 L1209.74 1551.62 Q1210.12 1557.67 1213.36 1560.85 Q1216.64 1564 1222.47 1564 Q1225.84 1564 1228.99 1563.17 Q1232.18 1562.35 1235.29 1560.69 L1235.29 1566.23 Q1232.14 1567.57 1228.83 1568.27 Q1225.52 1568.97 1222.12 1568.97 Q1213.59 1568.97 1208.59 1564 Q1203.62 1559.04 1203.62 1550.57 Q1203.62 1541.82 1208.34 1536.69 Q1213.08 1531.54 1221.1 1531.54 Q1228.29 1531.54 1232.46 1536.18 Q1236.66 1540.8 1236.66 1548.76 M1230.81 1547.04 Q1230.74 1542.23 1228.1 1539.37 Q1225.49 1536.5 1221.16 1536.5 Q1216.26 1536.5 1213.3 1539.27 Q1210.37 1542.04 1209.93 1547.07 L1230.81 1547.04 Z\" fill=\"#000000\" fill-rule=\"nonzero\" fill-opacity=\"1\" /><path clip-path=\"url(#clip960)\" d=\"M1252.07 1522.27 L1252.07 1532.4 L1264.13 1532.4 L1264.13 1536.95 L1252.07 1536.95 L1252.07 1556.3 Q1252.07 1560.66 1253.25 1561.9 Q1254.46 1563.14 1258.12 1563.14 L1264.13 1563.14 L1264.13 1568.04 L1258.12 1568.04 Q1251.34 1568.04 1248.76 1565.53 Q1246.18 1562.98 1246.18 1556.3 L1246.18 1536.95 L1241.88 1536.95 L1241.88 1532.4 L1246.18 1532.4 L1246.18 1522.27 L1252.07 1522.27 Z\" fill=\"#000000\" fill-rule=\"nonzero\" fill-opacity=\"1\" /><path clip-path=\"url(#clip960)\" d=\"M1271.83 1532.4 L1277.69 1532.4 L1277.69 1568.04 L1271.83 1568.04 L1271.83 1532.4 M1271.83 1518.52 L1277.69 1518.52 L1277.69 1525.93 L1271.83 1525.93 L1271.83 1518.52 Z\" fill=\"#000000\" fill-rule=\"nonzero\" fill-opacity=\"1\" /><path clip-path=\"url(#clip960)\" d=\"M1315.6 1533.76 L1315.6 1539.24 Q1313.12 1537.87 1310.6 1537.2 Q1308.12 1536.5 1305.57 1536.5 Q1299.87 1536.5 1296.72 1540.13 Q1293.57 1543.73 1293.57 1550.25 Q1293.57 1556.78 1296.72 1560.4 Q1299.87 1564 1305.57 1564 Q1308.12 1564 1310.6 1563.33 Q1313.12 1562.63 1315.6 1561.26 L1315.6 1566.68 Q1313.15 1567.82 1310.51 1568.39 Q1307.9 1568.97 1304.94 1568.97 Q1296.88 1568.97 1292.14 1563.91 Q1287.4 1558.85 1287.4 1550.25 Q1287.4 1541.53 1292.17 1536.53 Q1296.98 1531.54 1305.32 1531.54 Q1308.02 1531.54 1310.6 1532.11 Q1313.18 1532.65 1315.6 1533.76 Z\" fill=\"#000000\" fill-rule=\"nonzero\" fill-opacity=\"1\" /><path clip-path=\"url(#clip960)\" d=\"M1364.55 1518.52 L1364.55 1523.39 L1358.95 1523.39 Q1355.8 1523.39 1354.56 1524.66 Q1353.35 1525.93 1353.35 1529.24 L1353.35 1532.4 L1362.99 1532.4 L1362.99 1536.95 L1353.35 1536.95 L1353.35 1568.04 L1347.46 1568.04 L1347.46 1536.95 L1341.86 1536.95 L1341.86 1532.4 L1347.46 1532.4 L1347.46 1529.91 Q1347.46 1523.96 1350.23 1521.26 Q1353 1518.52 1359.01 1518.52 L1364.55 1518.52 Z\" fill=\"#000000\" fill-rule=\"nonzero\" fill-opacity=\"1\" /><path clip-path=\"url(#clip960)\" d=\"M1369.45 1532.4 L1375.31 1532.4 L1375.31 1568.04 L1369.45 1568.04 L1369.45 1532.4 M1369.45 1518.52 L1375.31 1518.52 L1375.31 1525.93 L1369.45 1525.93 L1369.45 1518.52 Z\" fill=\"#000000\" fill-rule=\"nonzero\" fill-opacity=\"1\" /><path clip-path=\"url(#clip960)\" d=\"M1418.05 1548.76 L1418.05 1551.62 L1391.13 1551.62 Q1391.51 1557.67 1394.76 1560.85 Q1398.03 1564 1403.86 1564 Q1407.23 1564 1410.38 1563.17 Q1413.57 1562.35 1416.69 1560.69 L1416.69 1566.23 Q1413.53 1567.57 1410.22 1568.27 Q1406.91 1568.97 1403.51 1568.97 Q1394.98 1568.97 1389.98 1564 Q1385.02 1559.04 1385.02 1550.57 Q1385.02 1541.82 1389.73 1536.69 Q1394.47 1531.54 1402.49 1531.54 Q1409.68 1531.54 1413.85 1536.18 Q1418.05 1540.8 1418.05 1548.76 M1412.2 1547.04 Q1412.13 1542.23 1409.49 1539.37 Q1406.88 1536.5 1402.55 1536.5 Q1397.65 1536.5 1394.69 1539.27 Q1391.76 1542.04 1391.32 1547.07 L1412.2 1547.04 Z\" fill=\"#000000\" fill-rule=\"nonzero\" fill-opacity=\"1\" /><path clip-path=\"url(#clip960)\" d=\"M1427.67 1518.52 L1433.52 1518.52 L1433.52 1568.04 L1427.67 1568.04 L1427.67 1518.52 Z\" fill=\"#000000\" fill-rule=\"nonzero\" fill-opacity=\"1\" /><path clip-path=\"url(#clip960)\" d=\"M1469.23 1537.81 L1469.23 1518.52 L1475.09 1518.52 L1475.09 1568.04 L1469.23 1568.04 L1469.23 1562.7 Q1467.39 1565.88 1464.56 1567.44 Q1461.75 1568.97 1457.81 1568.97 Q1451.35 1568.97 1447.27 1563.81 Q1443.23 1558.65 1443.23 1550.25 Q1443.23 1541.85 1447.27 1536.69 Q1451.35 1531.54 1457.81 1531.54 Q1461.75 1531.54 1464.56 1533.1 Q1467.39 1534.62 1469.23 1537.81 M1449.28 1550.25 Q1449.28 1556.71 1451.92 1560.4 Q1454.59 1564.07 1459.24 1564.07 Q1463.89 1564.07 1466.56 1560.4 Q1469.23 1556.71 1469.23 1550.25 Q1469.23 1543.79 1466.56 1540.13 Q1463.89 1536.44 1459.24 1536.44 Q1454.59 1536.44 1451.92 1540.13 Q1449.28 1543.79 1449.28 1550.25 Z\" fill=\"#000000\" fill-rule=\"nonzero\" fill-opacity=\"1\" /><path clip-path=\"url(#clip960)\" d=\"M1521.94 1518.58 Q1517.68 1525.9 1515.61 1533.06 Q1513.54 1540.23 1513.54 1547.58 Q1513.54 1554.93 1515.61 1562.16 Q1517.71 1569.35 1521.94 1576.64 L1516.85 1576.64 Q1512.08 1569.16 1509.69 1561.93 Q1507.33 1554.71 1507.33 1547.58 Q1507.33 1540.48 1509.69 1533.29 Q1512.04 1526.09 1516.85 1518.58 L1521.94 1518.58 Z\" fill=\"#000000\" fill-rule=\"nonzero\" fill-opacity=\"1\" /><path clip-path=\"url(#clip960)\" d=\"M1565.96 1561.26 L1565.96 1548.5 L1555.46 1548.5 L1555.46 1543.22 L1572.33 1543.22 L1572.33 1563.62 Q1568.6 1566.26 1564.11 1567.63 Q1559.63 1568.97 1554.53 1568.97 Q1543.39 1568.97 1537.09 1562.47 Q1530.82 1555.95 1530.82 1544.33 Q1530.82 1532.68 1537.09 1526.19 Q1543.39 1519.66 1554.53 1519.66 Q1559.18 1519.66 1563.35 1520.81 Q1567.55 1521.96 1571.09 1524.18 L1571.09 1531.03 Q1567.52 1528 1563.51 1526.48 Q1559.5 1524.95 1555.08 1524.95 Q1546.35 1524.95 1541.96 1529.82 Q1537.6 1534.69 1537.6 1544.33 Q1537.6 1553.94 1541.96 1558.81 Q1546.35 1563.68 1555.08 1563.68 Q1558.48 1563.68 1561.15 1563.11 Q1563.83 1562.51 1565.96 1561.26 Z\" fill=\"#000000\" fill-rule=\"nonzero\" fill-opacity=\"1\" /><path clip-path=\"url(#clip960)\" d=\"M1582.89 1518.58 L1587.99 1518.58 Q1592.76 1526.09 1595.12 1533.29 Q1597.5 1540.48 1597.5 1547.58 Q1597.5 1554.71 1595.12 1561.93 Q1592.76 1569.16 1587.99 1576.64 L1582.89 1576.64 Q1587.13 1569.35 1589.2 1562.16 Q1591.3 1554.93 1591.3 1547.58 Q1591.3 1540.23 1589.2 1533.06 Q1587.13 1525.9 1582.89 1518.58 Z\" fill=\"#000000\" fill-rule=\"nonzero\" fill-opacity=\"1\" /><polyline clip-path=\"url(#clip962)\" style=\"stroke:#000000; stroke-linecap:round; stroke-linejoin:round; stroke-width:2; stroke-opacity:0.1; fill:none\" points=\"272.297,1173.06 2352.76,1173.06 \"/>\n",
       "<polyline clip-path=\"url(#clip962)\" style=\"stroke:#000000; stroke-linecap:round; stroke-linejoin:round; stroke-width:2; stroke-opacity:0.1; fill:none\" points=\"272.297,826.86 2352.76,826.86 \"/>\n",
       "<polyline clip-path=\"url(#clip962)\" style=\"stroke:#000000; stroke-linecap:round; stroke-linejoin:round; stroke-width:2; stroke-opacity:0.1; fill:none\" points=\"272.297,480.665 2352.76,480.665 \"/>\n",
       "<polyline clip-path=\"url(#clip962)\" style=\"stroke:#000000; stroke-linecap:round; stroke-linejoin:round; stroke-width:2; stroke-opacity:0.1; fill:none\" points=\"272.297,134.47 2352.76,134.47 \"/>\n",
       "<polyline clip-path=\"url(#clip960)\" style=\"stroke:#000000; stroke-linecap:round; stroke-linejoin:round; stroke-width:4; stroke-opacity:1; fill:none\" points=\"272.297,1423.18 272.297,47.2441 \"/>\n",
       "<polyline clip-path=\"url(#clip960)\" style=\"stroke:#000000; stroke-linecap:round; stroke-linejoin:round; stroke-width:4; stroke-opacity:1; fill:none\" points=\"2352.76,1423.18 2352.76,47.2441 \"/>\n",
       "<polyline clip-path=\"url(#clip960)\" style=\"stroke:#000000; stroke-linecap:round; stroke-linejoin:round; stroke-width:4; stroke-opacity:1; fill:none\" points=\"272.297,1173.06 291.194,1173.06 \"/>\n",
       "<polyline clip-path=\"url(#clip960)\" style=\"stroke:#000000; stroke-linecap:round; stroke-linejoin:round; stroke-width:4; stroke-opacity:1; fill:none\" points=\"272.297,826.86 291.194,826.86 \"/>\n",
       "<polyline clip-path=\"url(#clip960)\" style=\"stroke:#000000; stroke-linecap:round; stroke-linejoin:round; stroke-width:4; stroke-opacity:1; fill:none\" points=\"272.297,480.665 291.194,480.665 \"/>\n",
       "<polyline clip-path=\"url(#clip960)\" style=\"stroke:#000000; stroke-linecap:round; stroke-linejoin:round; stroke-width:4; stroke-opacity:1; fill:none\" points=\"272.297,134.47 291.194,134.47 \"/>\n",
       "<path clip-path=\"url(#clip960)\" d=\"M114.26 1173.51 L143.936 1173.51 L143.936 1177.44 L114.26 1177.44 L114.26 1173.51 Z\" fill=\"#000000\" fill-rule=\"nonzero\" fill-opacity=\"1\" /><path clip-path=\"url(#clip960)\" d=\"M154.839 1186.4 L162.477 1186.4 L162.477 1160.03 L154.167 1161.7 L154.167 1157.44 L162.431 1155.78 L167.107 1155.78 L167.107 1186.4 L174.746 1186.4 L174.746 1190.34 L154.839 1190.34 L154.839 1186.4 Z\" fill=\"#000000\" fill-rule=\"nonzero\" fill-opacity=\"1\" /><path clip-path=\"url(#clip960)\" d=\"M184.237 1155.78 L202.593 1155.78 L202.593 1159.71 L188.519 1159.71 L188.519 1168.18 Q189.538 1167.84 190.556 1167.67 Q191.575 1167.49 192.593 1167.49 Q198.38 1167.49 201.76 1170.66 Q205.139 1173.83 205.139 1179.25 Q205.139 1184.83 201.667 1187.93 Q198.195 1191.01 191.875 1191.01 Q189.7 1191.01 187.431 1190.64 Q185.186 1190.27 182.778 1189.53 L182.778 1184.83 Q184.862 1185.96 187.084 1186.52 Q189.306 1187.07 191.783 1187.07 Q195.787 1187.07 198.125 1184.97 Q200.463 1182.86 200.463 1179.25 Q200.463 1175.64 198.125 1173.53 Q195.787 1171.42 191.783 1171.42 Q189.908 1171.42 188.033 1171.84 Q186.181 1172.26 184.237 1173.14 L184.237 1155.78 Z\" fill=\"#000000\" fill-rule=\"nonzero\" fill-opacity=\"1\" /><path clip-path=\"url(#clip960)\" d=\"M224.352 1158.85 Q220.741 1158.85 218.912 1162.42 Q217.107 1165.96 217.107 1173.09 Q217.107 1180.2 218.912 1183.76 Q220.741 1187.3 224.352 1187.3 Q227.986 1187.3 229.792 1183.76 Q231.621 1180.2 231.621 1173.09 Q231.621 1165.96 229.792 1162.42 Q227.986 1158.85 224.352 1158.85 M224.352 1155.15 Q230.162 1155.15 233.218 1159.76 Q236.297 1164.34 236.297 1173.09 Q236.297 1181.82 233.218 1186.42 Q230.162 1191.01 224.352 1191.01 Q218.542 1191.01 215.463 1186.42 Q212.408 1181.82 212.408 1173.09 Q212.408 1164.34 215.463 1159.76 Q218.542 1155.15 224.352 1155.15 Z\" fill=\"#000000\" fill-rule=\"nonzero\" fill-opacity=\"1\" /><path clip-path=\"url(#clip960)\" d=\"M114.26 827.312 L143.936 827.312 L143.936 831.247 L114.26 831.247 L114.26 827.312 Z\" fill=\"#000000\" fill-rule=\"nonzero\" fill-opacity=\"1\" /><path clip-path=\"url(#clip960)\" d=\"M154.839 840.205 L162.477 840.205 L162.477 813.84 L154.167 815.506 L154.167 811.247 L162.431 809.58 L167.107 809.58 L167.107 840.205 L174.746 840.205 L174.746 844.14 L154.839 844.14 L154.839 840.205 Z\" fill=\"#000000\" fill-rule=\"nonzero\" fill-opacity=\"1\" /><path clip-path=\"url(#clip960)\" d=\"M194.19 812.659 Q190.579 812.659 188.75 816.224 Q186.945 819.766 186.945 826.895 Q186.945 834.002 188.75 837.566 Q190.579 841.108 194.19 841.108 Q197.825 841.108 199.63 837.566 Q201.459 834.002 201.459 826.895 Q201.459 819.766 199.63 816.224 Q197.825 812.659 194.19 812.659 M194.19 808.955 Q200 808.955 203.056 813.562 Q206.135 818.145 206.135 826.895 Q206.135 835.622 203.056 840.228 Q200 844.812 194.19 844.812 Q188.38 844.812 185.301 840.228 Q182.246 835.622 182.246 826.895 Q182.246 818.145 185.301 813.562 Q188.38 808.955 194.19 808.955 Z\" fill=\"#000000\" fill-rule=\"nonzero\" fill-opacity=\"1\" /><path clip-path=\"url(#clip960)\" d=\"M224.352 812.659 Q220.741 812.659 218.912 816.224 Q217.107 819.766 217.107 826.895 Q217.107 834.002 218.912 837.566 Q220.741 841.108 224.352 841.108 Q227.986 841.108 229.792 837.566 Q231.621 834.002 231.621 826.895 Q231.621 819.766 229.792 816.224 Q227.986 812.659 224.352 812.659 M224.352 808.955 Q230.162 808.955 233.218 813.562 Q236.297 818.145 236.297 826.895 Q236.297 835.622 233.218 840.228 Q230.162 844.812 224.352 844.812 Q218.542 844.812 215.463 840.228 Q212.408 835.622 212.408 826.895 Q212.408 818.145 215.463 813.562 Q218.542 808.955 224.352 808.955 Z\" fill=\"#000000\" fill-rule=\"nonzero\" fill-opacity=\"1\" /><path clip-path=\"url(#clip960)\" d=\"M144.422 481.117 L174.098 481.117 L174.098 485.052 L144.422 485.052 L144.422 481.117 Z\" fill=\"#000000\" fill-rule=\"nonzero\" fill-opacity=\"1\" /><path clip-path=\"url(#clip960)\" d=\"M184.237 463.385 L202.593 463.385 L202.593 467.321 L188.519 467.321 L188.519 475.793 Q189.538 475.445 190.556 475.283 Q191.575 475.098 192.593 475.098 Q198.38 475.098 201.76 478.27 Q205.139 481.441 205.139 486.857 Q205.139 492.436 201.667 495.538 Q198.195 498.617 191.875 498.617 Q189.7 498.617 187.431 498.246 Q185.186 497.876 182.778 497.135 L182.778 492.436 Q184.862 493.57 187.084 494.126 Q189.306 494.681 191.783 494.681 Q195.787 494.681 198.125 492.575 Q200.463 490.469 200.463 486.857 Q200.463 483.246 198.125 481.14 Q195.787 479.033 191.783 479.033 Q189.908 479.033 188.033 479.45 Q186.181 479.867 184.237 480.746 L184.237 463.385 Z\" fill=\"#000000\" fill-rule=\"nonzero\" fill-opacity=\"1\" /><path clip-path=\"url(#clip960)\" d=\"M224.352 466.464 Q220.741 466.464 218.912 470.029 Q217.107 473.57 217.107 480.7 Q217.107 487.807 218.912 491.371 Q220.741 494.913 224.352 494.913 Q227.986 494.913 229.792 491.371 Q231.621 487.807 231.621 480.7 Q231.621 473.57 229.792 470.029 Q227.986 466.464 224.352 466.464 M224.352 462.76 Q230.162 462.76 233.218 467.367 Q236.297 471.95 236.297 480.7 Q236.297 489.427 233.218 494.033 Q230.162 498.617 224.352 498.617 Q218.542 498.617 215.463 494.033 Q212.408 489.427 212.408 480.7 Q212.408 471.95 215.463 467.367 Q218.542 462.76 224.352 462.76 Z\" fill=\"#000000\" fill-rule=\"nonzero\" fill-opacity=\"1\" /><path clip-path=\"url(#clip960)\" d=\"M224.352 120.269 Q220.741 120.269 218.912 123.834 Q217.107 127.375 217.107 134.505 Q217.107 141.611 218.912 145.176 Q220.741 148.718 224.352 148.718 Q227.986 148.718 229.792 145.176 Q231.621 141.611 231.621 134.505 Q231.621 127.375 229.792 123.834 Q227.986 120.269 224.352 120.269 M224.352 116.565 Q230.162 116.565 233.218 121.172 Q236.297 125.755 236.297 134.505 Q236.297 143.232 233.218 147.838 Q230.162 152.422 224.352 152.422 Q218.542 152.422 215.463 147.838 Q212.408 143.232 212.408 134.505 Q212.408 125.755 215.463 121.172 Q218.542 116.565 224.352 116.565 Z\" fill=\"#000000\" fill-rule=\"nonzero\" fill-opacity=\"1\" /><path clip-path=\"url(#clip960)\" d=\"M46.0847 905.463 Q46.0847 912.561 47.7079 915.298 Q49.3312 918.035 53.2461 918.035 Q56.3653 918.035 58.2114 915.998 Q60.0256 913.929 60.0256 910.396 Q60.0256 905.526 56.5881 902.598 Q53.1188 899.638 47.3897 899.638 L46.0847 899.638 L46.0847 905.463 M43.6657 893.782 L64.0042 893.782 L64.0042 899.638 L58.5933 899.638 Q61.8398 901.643 63.3994 904.635 Q64.9272 907.627 64.9272 911.956 Q64.9272 917.43 61.8716 920.677 Q58.7843 923.892 53.6281 923.892 Q47.6125 923.892 44.5569 919.881 Q41.5014 915.839 41.5014 907.85 L41.5014 899.638 L40.9285 899.638 Q36.8862 899.638 34.6901 902.312 Q32.4621 904.954 32.4621 909.76 Q32.4621 912.815 33.1941 915.712 Q33.9262 918.608 35.3903 921.282 L29.9795 921.282 Q28.7381 918.067 28.1334 915.043 Q27.4968 912.019 27.4968 909.155 Q27.4968 901.421 31.5072 897.601 Q35.5176 893.782 43.6657 893.782 Z\" fill=\"#000000\" fill-rule=\"nonzero\" fill-opacity=\"1\" /><path clip-path=\"url(#clip960)\" d=\"M14.5426 846.93 Q21.8632 851.195 29.0246 853.264 Q36.186 855.333 43.5384 855.333 Q50.8908 855.333 58.1159 853.264 Q65.3091 851.163 72.5979 846.93 L72.5979 852.023 Q65.1182 856.797 57.8931 859.184 Q50.668 861.539 43.5384 861.539 Q36.4406 861.539 29.2474 859.184 Q22.0542 856.829 14.5426 852.023 L14.5426 846.93 Z\" fill=\"#000000\" fill-rule=\"nonzero\" fill-opacity=\"1\" /><path clip-path=\"url(#clip960)\" d=\"M58.5933 833.626 L58.5933 823.122 L22.3406 823.122 L24.6323 834.549 L18.7758 834.549 L16.4842 823.186 L16.4842 816.757 L58.5933 816.757 L58.5933 806.253 L64.0042 806.253 L64.0042 833.626 L58.5933 833.626 Z\" fill=\"#000000\" fill-rule=\"nonzero\" fill-opacity=\"1\" /><path clip-path=\"url(#clip960)\" d=\"M20.7174 779.517 Q20.7174 784.483 25.6189 786.997 Q30.4887 789.48 40.2919 789.48 Q50.0633 789.48 54.9649 786.997 Q59.8346 784.483 59.8346 779.517 Q59.8346 774.52 54.9649 772.038 Q50.0633 769.523 40.2919 769.523 Q30.4887 769.523 25.6189 772.038 Q20.7174 774.52 20.7174 779.517 M15.6248 779.517 Q15.6248 771.528 21.9587 767.327 Q28.2607 763.094 40.2919 763.094 Q52.2913 763.094 58.6251 767.327 Q64.9272 771.528 64.9272 779.517 Q64.9272 787.506 58.6251 791.739 Q52.2913 795.941 40.2919 795.941 Q28.2607 795.941 21.9587 791.739 Q15.6248 787.506 15.6248 779.517 Z\" fill=\"#000000\" fill-rule=\"nonzero\" fill-opacity=\"1\" /><path clip-path=\"url(#clip960)\" d=\"M28.3562 742.087 Q28.9291 739.159 30.6797 737.567 Q32.3984 735.944 35.0084 735.944 Q38.9551 735.944 41.0876 738.968 Q43.2201 741.991 43.2201 747.625 Q43.2201 749.439 42.9018 751.445 Q42.5517 753.418 41.9152 755.646 L38.0639 755.646 Q38.9233 753.991 39.337 752.113 Q39.7508 750.203 39.7508 748.071 Q39.7508 744.601 38.5095 742.692 Q37.2364 740.782 35.0084 740.782 Q32.6531 740.782 31.4436 742.564 Q30.2341 744.315 30.2341 747.752 L30.2341 750.49 L26.7966 750.49 L26.7966 747.498 Q26.7966 744.506 25.8099 742.978 Q24.7914 741.419 22.8817 741.419 Q21.0356 741.419 20.0808 743.01 Q19.0941 744.601 19.0941 747.625 Q19.0941 748.898 19.3806 750.521 Q19.667 752.145 20.3991 754.723 L16.7388 754.723 Q16.1977 752.399 15.9112 750.362 Q15.6248 748.325 15.6248 746.575 Q15.6248 741.991 17.5027 739.318 Q19.3806 736.612 22.5316 736.612 Q24.7277 736.612 26.2555 738.045 Q27.7833 739.477 28.3562 742.087 Z\" fill=\"#000000\" fill-rule=\"nonzero\" fill-opacity=\"1\" /><path clip-path=\"url(#clip960)\" d=\"M35.1993 678.016 Q31.2526 675.82 29.3747 672.764 Q27.4968 669.709 27.4968 665.571 Q27.4968 660.001 31.4117 656.977 Q35.2948 653.954 42.4881 653.954 L64.0042 653.954 L64.0042 659.842 L42.679 659.842 Q37.5546 659.842 35.072 661.656 Q32.5894 663.47 32.5894 667.194 Q32.5894 671.746 35.6131 674.388 Q38.6368 677.029 43.8567 677.029 L64.0042 677.029 L64.0042 682.918 L42.679 682.918 Q37.5228 682.918 35.072 684.732 Q32.5894 686.546 32.5894 690.334 Q32.5894 694.822 35.6449 697.463 Q38.6686 700.105 43.8567 700.105 L64.0042 700.105 L64.0042 705.993 L28.3562 705.993 L28.3562 700.105 L33.8944 700.105 Q30.616 698.1 29.0564 695.299 Q27.4968 692.498 27.4968 688.647 Q27.4968 684.764 29.4702 682.058 Q31.4436 679.321 35.1993 678.016 Z\" fill=\"#000000\" fill-rule=\"nonzero\" fill-opacity=\"1\" /><path clip-path=\"url(#clip960)\" d=\"M16.4842 631.865 L16.4842 626.454 L70.0516 643.005 L70.0516 648.416 L16.4842 631.865 Z\" fill=\"#000000\" fill-rule=\"nonzero\" fill-opacity=\"1\" /><path clip-path=\"url(#clip960)\" d=\"M29.4065 597.585 L34.9447 597.585 Q33.6716 600.068 33.035 602.742 Q32.3984 605.415 32.3984 608.28 Q32.3984 612.64 33.7352 614.836 Q35.072 617.001 37.7456 617.001 Q39.7826 617.001 40.9603 615.441 Q42.1061 613.882 43.1565 609.171 L43.6021 607.166 Q44.9389 600.927 47.3897 598.317 Q49.8086 595.676 54.1691 595.676 Q59.1344 595.676 62.0308 599.622 Q64.9272 603.537 64.9272 610.412 Q64.9272 613.277 64.3543 616.396 Q63.8132 619.483 62.6992 622.921 L56.6518 622.921 Q58.3387 619.674 59.198 616.523 Q60.0256 613.372 60.0256 610.285 Q60.0256 606.147 58.6251 603.919 Q57.1929 601.691 54.6147 601.691 Q52.2276 601.691 50.9545 603.315 Q49.6813 604.906 48.5037 610.349 L48.0262 612.386 Q46.8804 617.828 44.5251 620.247 Q42.138 622.666 38.0002 622.666 Q32.9713 622.666 30.2341 619.101 Q27.4968 615.537 27.4968 608.98 Q27.4968 605.733 27.9743 602.869 Q28.4517 600.004 29.4065 597.585 Z\" fill=\"#000000\" fill-rule=\"nonzero\" fill-opacity=\"1\" /><path clip-path=\"url(#clip960)\" d=\"M39.1142 583.963 L39.1142 570.467 L42.7427 570.467 L42.7427 589.501 L39.2416 589.501 Q38.2549 588.419 36.4725 586.414 Q26.7648 575.465 23.7729 575.465 Q21.6722 575.465 20.3991 577.12 Q19.0941 578.775 19.0941 581.48 Q19.0941 583.135 19.667 585.077 Q20.2081 587.018 21.3221 589.31 L17.4072 589.31 Q16.516 586.859 16.0704 584.758 Q15.6248 582.626 15.6248 580.812 Q15.6248 576.197 17.7255 573.428 Q19.8262 570.658 23.2636 570.658 Q27.6878 570.658 36.7271 581.194 Q38.2549 582.976 39.1142 583.963 Z\" fill=\"#000000\" fill-rule=\"nonzero\" fill-opacity=\"1\" /><path clip-path=\"url(#clip960)\" d=\"M14.5426 561.142 L14.5426 556.049 Q22.0542 551.275 29.2474 548.92 Q36.4406 546.532 43.5384 546.532 Q50.668 546.532 57.8931 548.92 Q65.1182 551.275 72.5979 556.049 L72.5979 561.142 Q65.3091 556.909 58.1159 554.84 Q50.8908 552.739 43.5384 552.739 Q36.186 552.739 29.0246 554.84 Q21.8632 556.909 14.5426 561.142 Z\" fill=\"#000000\" fill-rule=\"nonzero\" fill-opacity=\"1\" /><circle clip-path=\"url(#clip962)\" cx=\"331.177\" cy=\"1384.24\" r=\"14.4\" fill=\"#009af9\" fill-rule=\"evenodd\" fill-opacity=\"1\" stroke=\"#000000\" stroke-opacity=\"1\" stroke-width=\"3.2\"/>\n",
       "<circle clip-path=\"url(#clip962)\" cx=\"380.245\" cy=\"347.22\" r=\"14.4\" fill=\"#009af9\" fill-rule=\"evenodd\" fill-opacity=\"1\" stroke=\"#000000\" stroke-opacity=\"1\" stroke-width=\"3.2\"/>\n",
       "<circle clip-path=\"url(#clip962)\" cx=\"429.312\" cy=\"159.587\" r=\"14.4\" fill=\"#009af9\" fill-rule=\"evenodd\" fill-opacity=\"1\" stroke=\"#000000\" stroke-opacity=\"1\" stroke-width=\"3.2\"/>\n",
       "<circle clip-path=\"url(#clip962)\" cx=\"478.38\" cy=\"126.915\" r=\"14.4\" fill=\"#009af9\" fill-rule=\"evenodd\" fill-opacity=\"1\" stroke=\"#000000\" stroke-opacity=\"1\" stroke-width=\"3.2\"/>\n",
       "<circle clip-path=\"url(#clip962)\" cx=\"527.447\" cy=\"127.527\" r=\"14.4\" fill=\"#009af9\" fill-rule=\"evenodd\" fill-opacity=\"1\" stroke=\"#000000\" stroke-opacity=\"1\" stroke-width=\"3.2\"/>\n",
       "<circle clip-path=\"url(#clip962)\" cx=\"576.515\" cy=\"153.387\" r=\"14.4\" fill=\"#009af9\" fill-rule=\"evenodd\" fill-opacity=\"1\" stroke=\"#000000\" stroke-opacity=\"1\" stroke-width=\"3.2\"/>\n",
       "<circle clip-path=\"url(#clip962)\" cx=\"625.582\" cy=\"331.412\" r=\"14.4\" fill=\"#009af9\" fill-rule=\"evenodd\" fill-opacity=\"1\" stroke=\"#000000\" stroke-opacity=\"1\" stroke-width=\"3.2\"/>\n",
       "<circle clip-path=\"url(#clip962)\" cx=\"674.65\" cy=\"86.1857\" r=\"14.4\" fill=\"#009af9\" fill-rule=\"evenodd\" fill-opacity=\"1\" stroke=\"#000000\" stroke-opacity=\"1\" stroke-width=\"3.2\"/>\n",
       "<circle clip-path=\"url(#clip962)\" cx=\"723.717\" cy=\"100.341\" r=\"14.4\" fill=\"#009af9\" fill-rule=\"evenodd\" fill-opacity=\"1\" stroke=\"#000000\" stroke-opacity=\"1\" stroke-width=\"3.2\"/>\n",
       "<circle clip-path=\"url(#clip962)\" cx=\"772.784\" cy=\"149.94\" r=\"14.4\" fill=\"#009af9\" fill-rule=\"evenodd\" fill-opacity=\"1\" stroke=\"#000000\" stroke-opacity=\"1\" stroke-width=\"3.2\"/>\n",
       "<circle clip-path=\"url(#clip962)\" cx=\"821.852\" cy=\"106.705\" r=\"14.4\" fill=\"#009af9\" fill-rule=\"evenodd\" fill-opacity=\"1\" stroke=\"#000000\" stroke-opacity=\"1\" stroke-width=\"3.2\"/>\n",
       "<circle clip-path=\"url(#clip962)\" cx=\"870.919\" cy=\"100.937\" r=\"14.4\" fill=\"#009af9\" fill-rule=\"evenodd\" fill-opacity=\"1\" stroke=\"#000000\" stroke-opacity=\"1\" stroke-width=\"3.2\"/>\n",
       "<circle clip-path=\"url(#clip962)\" cx=\"919.987\" cy=\"100.224\" r=\"14.4\" fill=\"#009af9\" fill-rule=\"evenodd\" fill-opacity=\"1\" stroke=\"#000000\" stroke-opacity=\"1\" stroke-width=\"3.2\"/>\n",
       "<circle clip-path=\"url(#clip962)\" cx=\"969.054\" cy=\"101.11\" r=\"14.4\" fill=\"#009af9\" fill-rule=\"evenodd\" fill-opacity=\"1\" stroke=\"#000000\" stroke-opacity=\"1\" stroke-width=\"3.2\"/>\n",
       "<circle clip-path=\"url(#clip962)\" cx=\"1018.12\" cy=\"104.528\" r=\"14.4\" fill=\"#009af9\" fill-rule=\"evenodd\" fill-opacity=\"1\" stroke=\"#000000\" stroke-opacity=\"1\" stroke-width=\"3.2\"/>\n",
       "<circle clip-path=\"url(#clip962)\" cx=\"1067.19\" cy=\"106.603\" r=\"14.4\" fill=\"#009af9\" fill-rule=\"evenodd\" fill-opacity=\"1\" stroke=\"#000000\" stroke-opacity=\"1\" stroke-width=\"3.2\"/>\n",
       "<circle clip-path=\"url(#clip962)\" cx=\"1116.26\" cy=\"109.148\" r=\"14.4\" fill=\"#009af9\" fill-rule=\"evenodd\" fill-opacity=\"1\" stroke=\"#000000\" stroke-opacity=\"1\" stroke-width=\"3.2\"/>\n",
       "<circle clip-path=\"url(#clip962)\" cx=\"1165.32\" cy=\"111.769\" r=\"14.4\" fill=\"#009af9\" fill-rule=\"evenodd\" fill-opacity=\"1\" stroke=\"#000000\" stroke-opacity=\"1\" stroke-width=\"3.2\"/>\n",
       "<circle clip-path=\"url(#clip962)\" cx=\"1214.39\" cy=\"114.27\" r=\"14.4\" fill=\"#009af9\" fill-rule=\"evenodd\" fill-opacity=\"1\" stroke=\"#000000\" stroke-opacity=\"1\" stroke-width=\"3.2\"/>\n",
       "<circle clip-path=\"url(#clip962)\" cx=\"1263.46\" cy=\"116.535\" r=\"14.4\" fill=\"#009af9\" fill-rule=\"evenodd\" fill-opacity=\"1\" stroke=\"#000000\" stroke-opacity=\"1\" stroke-width=\"3.2\"/>\n",
       "<circle clip-path=\"url(#clip962)\" cx=\"1312.53\" cy=\"118.533\" r=\"14.4\" fill=\"#009af9\" fill-rule=\"evenodd\" fill-opacity=\"1\" stroke=\"#000000\" stroke-opacity=\"1\" stroke-width=\"3.2\"/>\n",
       "<circle clip-path=\"url(#clip962)\" cx=\"1361.59\" cy=\"120.307\" r=\"14.4\" fill=\"#009af9\" fill-rule=\"evenodd\" fill-opacity=\"1\" stroke=\"#000000\" stroke-opacity=\"1\" stroke-width=\"3.2\"/>\n",
       "<circle clip-path=\"url(#clip962)\" cx=\"1410.66\" cy=\"121.875\" r=\"14.4\" fill=\"#009af9\" fill-rule=\"evenodd\" fill-opacity=\"1\" stroke=\"#000000\" stroke-opacity=\"1\" stroke-width=\"3.2\"/>\n",
       "<circle clip-path=\"url(#clip962)\" cx=\"1459.73\" cy=\"123.252\" r=\"14.4\" fill=\"#009af9\" fill-rule=\"evenodd\" fill-opacity=\"1\" stroke=\"#000000\" stroke-opacity=\"1\" stroke-width=\"3.2\"/>\n",
       "<circle clip-path=\"url(#clip962)\" cx=\"1508.8\" cy=\"124.358\" r=\"14.4\" fill=\"#009af9\" fill-rule=\"evenodd\" fill-opacity=\"1\" stroke=\"#000000\" stroke-opacity=\"1\" stroke-width=\"3.2\"/>\n",
       "<circle clip-path=\"url(#clip962)\" cx=\"1557.86\" cy=\"125.43\" r=\"14.4\" fill=\"#009af9\" fill-rule=\"evenodd\" fill-opacity=\"1\" stroke=\"#000000\" stroke-opacity=\"1\" stroke-width=\"3.2\"/>\n",
       "<circle clip-path=\"url(#clip962)\" cx=\"1606.93\" cy=\"127.414\" r=\"14.4\" fill=\"#009af9\" fill-rule=\"evenodd\" fill-opacity=\"1\" stroke=\"#000000\" stroke-opacity=\"1\" stroke-width=\"3.2\"/>\n",
       "<circle clip-path=\"url(#clip962)\" cx=\"1656\" cy=\"127.199\" r=\"14.4\" fill=\"#009af9\" fill-rule=\"evenodd\" fill-opacity=\"1\" stroke=\"#000000\" stroke-opacity=\"1\" stroke-width=\"3.2\"/>\n",
       "<circle clip-path=\"url(#clip962)\" cx=\"1705.07\" cy=\"127.934\" r=\"14.4\" fill=\"#009af9\" fill-rule=\"evenodd\" fill-opacity=\"1\" stroke=\"#000000\" stroke-opacity=\"1\" stroke-width=\"3.2\"/>\n",
       "<circle clip-path=\"url(#clip962)\" cx=\"1754.13\" cy=\"128.555\" r=\"14.4\" fill=\"#009af9\" fill-rule=\"evenodd\" fill-opacity=\"1\" stroke=\"#000000\" stroke-opacity=\"1\" stroke-width=\"3.2\"/>\n",
       "<circle clip-path=\"url(#clip962)\" cx=\"1803.2\" cy=\"128.956\" r=\"14.4\" fill=\"#009af9\" fill-rule=\"evenodd\" fill-opacity=\"1\" stroke=\"#000000\" stroke-opacity=\"1\" stroke-width=\"3.2\"/>\n",
       "<circle clip-path=\"url(#clip962)\" cx=\"1852.27\" cy=\"127.275\" r=\"14.4\" fill=\"#009af9\" fill-rule=\"evenodd\" fill-opacity=\"1\" stroke=\"#000000\" stroke-opacity=\"1\" stroke-width=\"3.2\"/>\n",
       "<circle clip-path=\"url(#clip962)\" cx=\"1901.34\" cy=\"128.257\" r=\"14.4\" fill=\"#009af9\" fill-rule=\"evenodd\" fill-opacity=\"1\" stroke=\"#000000\" stroke-opacity=\"1\" stroke-width=\"3.2\"/>\n",
       "<circle clip-path=\"url(#clip962)\" cx=\"1950.4\" cy=\"129.628\" r=\"14.4\" fill=\"#009af9\" fill-rule=\"evenodd\" fill-opacity=\"1\" stroke=\"#000000\" stroke-opacity=\"1\" stroke-width=\"3.2\"/>\n",
       "<circle clip-path=\"url(#clip962)\" cx=\"1999.47\" cy=\"130.265\" r=\"14.4\" fill=\"#009af9\" fill-rule=\"evenodd\" fill-opacity=\"1\" stroke=\"#000000\" stroke-opacity=\"1\" stroke-width=\"3.2\"/>\n",
       "<circle clip-path=\"url(#clip962)\" cx=\"2048.54\" cy=\"130.687\" r=\"14.4\" fill=\"#009af9\" fill-rule=\"evenodd\" fill-opacity=\"1\" stroke=\"#000000\" stroke-opacity=\"1\" stroke-width=\"3.2\"/>\n",
       "<circle clip-path=\"url(#clip962)\" cx=\"2097.61\" cy=\"131.022\" r=\"14.4\" fill=\"#009af9\" fill-rule=\"evenodd\" fill-opacity=\"1\" stroke=\"#000000\" stroke-opacity=\"1\" stroke-width=\"3.2\"/>\n",
       "<circle clip-path=\"url(#clip962)\" cx=\"2146.67\" cy=\"131.323\" r=\"14.4\" fill=\"#009af9\" fill-rule=\"evenodd\" fill-opacity=\"1\" stroke=\"#000000\" stroke-opacity=\"1\" stroke-width=\"3.2\"/>\n",
       "<circle clip-path=\"url(#clip962)\" cx=\"2195.74\" cy=\"131.591\" r=\"14.4\" fill=\"#009af9\" fill-rule=\"evenodd\" fill-opacity=\"1\" stroke=\"#000000\" stroke-opacity=\"1\" stroke-width=\"3.2\"/>\n",
       "<circle clip-path=\"url(#clip962)\" cx=\"2244.81\" cy=\"131.834\" r=\"14.4\" fill=\"#009af9\" fill-rule=\"evenodd\" fill-opacity=\"1\" stroke=\"#000000\" stroke-opacity=\"1\" stroke-width=\"3.2\"/>\n",
       "<circle clip-path=\"url(#clip962)\" cx=\"2293.87\" cy=\"132.059\" r=\"14.4\" fill=\"#009af9\" fill-rule=\"evenodd\" fill-opacity=\"1\" stroke=\"#000000\" stroke-opacity=\"1\" stroke-width=\"3.2\"/>\n",
       "<path clip-path=\"url(#clip960)\" d=\"M2022.93 1377.32 L2283.41 1377.32 L2283.41 1273.64 L2022.93 1273.64  Z\" fill=\"#ffffff\" fill-rule=\"evenodd\" fill-opacity=\"1\"/>\n",
       "<polyline clip-path=\"url(#clip960)\" style=\"stroke:#000000; stroke-linecap:round; stroke-linejoin:round; stroke-width:4; stroke-opacity:1; fill:none\" points=\"2022.93,1377.32 2283.41,1377.32 2283.41,1273.64 2022.93,1273.64 2022.93,1377.32 \"/>\n",
       "<circle clip-path=\"url(#clip960)\" cx=\"2115.4\" cy=\"1325.48\" r=\"20.48\" fill=\"#009af9\" fill-rule=\"evenodd\" fill-opacity=\"1\" stroke=\"#000000\" stroke-opacity=\"1\" stroke-width=\"4.55111\"/>\n",
       "<path clip-path=\"url(#clip960)\" d=\"M2221.7 1345.16 Q2219.9 1349.79 2218.18 1351.2 Q2216.47 1352.62 2213.6 1352.62 L2210.2 1352.62 L2210.2 1349.05 L2212.7 1349.05 Q2214.46 1349.05 2215.43 1348.22 Q2216.4 1347.38 2217.58 1344.28 L2218.35 1342.34 L2207.86 1316.83 L2212.37 1316.83 L2220.48 1337.11 L2228.58 1316.83 L2233.09 1316.83 L2221.7 1345.16 Z\" fill=\"#000000\" fill-rule=\"nonzero\" fill-opacity=\"1\" /><path clip-path=\"url(#clip960)\" d=\"M2240.38 1338.82 L2248.02 1338.82 L2248.02 1312.45 L2239.71 1314.12 L2239.71 1309.86 L2247.98 1308.2 L2252.65 1308.2 L2252.65 1338.82 L2260.29 1338.82 L2260.29 1342.76 L2240.38 1342.76 L2240.38 1338.82 Z\" fill=\"#000000\" fill-rule=\"nonzero\" fill-opacity=\"1\" /></svg>\n"
      ],
      "text/html": [
       "<?xml version=\"1.0\" encoding=\"utf-8\"?>\n",
       "<svg xmlns=\"http://www.w3.org/2000/svg\" xmlns:xlink=\"http://www.w3.org/1999/xlink\" width=\"600\" height=\"400\" viewBox=\"0 0 2400 1600\">\n",
       "<defs>\n",
       "  <clipPath id=\"clip010\">\n",
       "    <rect x=\"0\" y=\"0\" width=\"2400\" height=\"1600\"/>\n",
       "  </clipPath>\n",
       "</defs>\n",
       "<path clip-path=\"url(#clip010)\" d=\"M0 1600 L2400 1600 L2400 0 L0 0  Z\" fill=\"#ffffff\" fill-rule=\"evenodd\" fill-opacity=\"1\"/>\n",
       "<defs>\n",
       "  <clipPath id=\"clip011\">\n",
       "    <rect x=\"480\" y=\"0\" width=\"1681\" height=\"1600\"/>\n",
       "  </clipPath>\n",
       "</defs>\n",
       "<path clip-path=\"url(#clip010)\" d=\"M272.297 1423.18 L2352.76 1423.18 L2352.76 47.2441 L272.297 47.2441  Z\" fill=\"#ffffff\" fill-rule=\"evenodd\" fill-opacity=\"1\"/>\n",
       "<defs>\n",
       "  <clipPath id=\"clip012\">\n",
       "    <rect x=\"272\" y=\"47\" width=\"2081\" height=\"1377\"/>\n",
       "  </clipPath>\n",
       "</defs>\n",
       "<polyline clip-path=\"url(#clip012)\" style=\"stroke:#000000; stroke-linecap:round; stroke-linejoin:round; stroke-width:2; stroke-opacity:0.1; fill:none\" points=\"331.177,1423.18 331.177,47.2441 \"/>\n",
       "<polyline clip-path=\"url(#clip012)\" style=\"stroke:#000000; stroke-linecap:round; stroke-linejoin:round; stroke-width:2; stroke-opacity:0.1; fill:none\" points=\"821.852,1423.18 821.852,47.2441 \"/>\n",
       "<polyline clip-path=\"url(#clip012)\" style=\"stroke:#000000; stroke-linecap:round; stroke-linejoin:round; stroke-width:2; stroke-opacity:0.1; fill:none\" points=\"1312.53,1423.18 1312.53,47.2441 \"/>\n",
       "<polyline clip-path=\"url(#clip012)\" style=\"stroke:#000000; stroke-linecap:round; stroke-linejoin:round; stroke-width:2; stroke-opacity:0.1; fill:none\" points=\"1803.2,1423.18 1803.2,47.2441 \"/>\n",
       "<polyline clip-path=\"url(#clip012)\" style=\"stroke:#000000; stroke-linecap:round; stroke-linejoin:round; stroke-width:2; stroke-opacity:0.1; fill:none\" points=\"2293.87,1423.18 2293.87,47.2441 \"/>\n",
       "<polyline clip-path=\"url(#clip010)\" style=\"stroke:#000000; stroke-linecap:round; stroke-linejoin:round; stroke-width:4; stroke-opacity:1; fill:none\" points=\"272.297,1423.18 2352.76,1423.18 \"/>\n",
       "<polyline clip-path=\"url(#clip010)\" style=\"stroke:#000000; stroke-linecap:round; stroke-linejoin:round; stroke-width:4; stroke-opacity:1; fill:none\" points=\"272.297,47.2441 2352.76,47.2441 \"/>\n",
       "<polyline clip-path=\"url(#clip010)\" style=\"stroke:#000000; stroke-linecap:round; stroke-linejoin:round; stroke-width:4; stroke-opacity:1; fill:none\" points=\"331.177,1423.18 331.177,1404.28 \"/>\n",
       "<polyline clip-path=\"url(#clip010)\" style=\"stroke:#000000; stroke-linecap:round; stroke-linejoin:round; stroke-width:4; stroke-opacity:1; fill:none\" points=\"821.852,1423.18 821.852,1404.28 \"/>\n",
       "<polyline clip-path=\"url(#clip010)\" style=\"stroke:#000000; stroke-linecap:round; stroke-linejoin:round; stroke-width:4; stroke-opacity:1; fill:none\" points=\"1312.53,1423.18 1312.53,1404.28 \"/>\n",
       "<polyline clip-path=\"url(#clip010)\" style=\"stroke:#000000; stroke-linecap:round; stroke-linejoin:round; stroke-width:4; stroke-opacity:1; fill:none\" points=\"1803.2,1423.18 1803.2,1404.28 \"/>\n",
       "<polyline clip-path=\"url(#clip010)\" style=\"stroke:#000000; stroke-linecap:round; stroke-linejoin:round; stroke-width:4; stroke-opacity:1; fill:none\" points=\"2293.87,1423.18 2293.87,1404.28 \"/>\n",
       "<path clip-path=\"url(#clip010)\" d=\"M331.177 1454.1 Q327.566 1454.1 325.738 1457.66 Q323.932 1461.2 323.932 1468.33 Q323.932 1475.44 325.738 1479.01 Q327.566 1482.55 331.177 1482.55 Q334.812 1482.55 336.617 1479.01 Q338.446 1475.44 338.446 1468.33 Q338.446 1461.2 336.617 1457.66 Q334.812 1454.1 331.177 1454.1 M331.177 1450.39 Q336.988 1450.39 340.043 1455 Q343.122 1459.58 343.122 1468.33 Q343.122 1477.06 340.043 1481.67 Q336.988 1486.25 331.177 1486.25 Q325.367 1486.25 322.289 1481.67 Q319.233 1477.06 319.233 1468.33 Q319.233 1459.58 322.289 1455 Q325.367 1450.39 331.177 1450.39 Z\" fill=\"#000000\" fill-rule=\"nonzero\" fill-opacity=\"1\" /><path clip-path=\"url(#clip010)\" d=\"M796.551 1451.02 L814.907 1451.02 L814.907 1454.96 L800.833 1454.96 L800.833 1463.43 Q801.852 1463.08 802.87 1462.92 Q803.889 1462.73 804.907 1462.73 Q810.694 1462.73 814.074 1465.9 Q817.454 1469.08 817.454 1474.49 Q817.454 1480.07 813.982 1483.17 Q810.509 1486.25 804.19 1486.25 Q802.014 1486.25 799.745 1485.88 Q797.5 1485.51 795.093 1484.77 L795.093 1480.07 Q797.176 1481.2 799.398 1481.76 Q801.62 1482.32 804.097 1482.32 Q808.102 1482.32 810.44 1480.21 Q812.778 1478.1 812.778 1474.49 Q812.778 1470.88 810.44 1468.77 Q808.102 1466.67 804.097 1466.67 Q802.222 1466.67 800.347 1467.08 Q798.495 1467.5 796.551 1468.38 L796.551 1451.02 Z\" fill=\"#000000\" fill-rule=\"nonzero\" fill-opacity=\"1\" /><path clip-path=\"url(#clip010)\" d=\"M836.667 1454.1 Q833.055 1454.1 831.227 1457.66 Q829.421 1461.2 829.421 1468.33 Q829.421 1475.44 831.227 1479.01 Q833.055 1482.55 836.667 1482.55 Q840.301 1482.55 842.106 1479.01 Q843.935 1475.44 843.935 1468.33 Q843.935 1461.2 842.106 1457.66 Q840.301 1454.1 836.667 1454.1 M836.667 1450.39 Q842.477 1450.39 845.532 1455 Q848.611 1459.58 848.611 1468.33 Q848.611 1477.06 845.532 1481.67 Q842.477 1486.25 836.667 1486.25 Q830.856 1486.25 827.778 1481.67 Q824.722 1477.06 824.722 1468.33 Q824.722 1459.58 827.778 1455 Q830.856 1450.39 836.667 1450.39 Z\" fill=\"#000000\" fill-rule=\"nonzero\" fill-opacity=\"1\" /><path clip-path=\"url(#clip010)\" d=\"M1272.13 1481.64 L1279.77 1481.64 L1279.77 1455.28 L1271.46 1456.95 L1271.46 1452.69 L1279.73 1451.02 L1284.4 1451.02 L1284.4 1481.64 L1292.04 1481.64 L1292.04 1485.58 L1272.13 1485.58 L1272.13 1481.64 Z\" fill=\"#000000\" fill-rule=\"nonzero\" fill-opacity=\"1\" /><path clip-path=\"url(#clip010)\" d=\"M1311.48 1454.1 Q1307.87 1454.1 1306.04 1457.66 Q1304.24 1461.2 1304.24 1468.33 Q1304.24 1475.44 1306.04 1479.01 Q1307.87 1482.55 1311.48 1482.55 Q1315.12 1482.55 1316.92 1479.01 Q1318.75 1475.44 1318.75 1468.33 Q1318.75 1461.2 1316.92 1457.66 Q1315.12 1454.1 1311.48 1454.1 M1311.48 1450.39 Q1317.29 1450.39 1320.35 1455 Q1323.43 1459.58 1323.43 1468.33 Q1323.43 1477.06 1320.35 1481.67 Q1317.29 1486.25 1311.48 1486.25 Q1305.67 1486.25 1302.6 1481.67 Q1299.54 1477.06 1299.54 1468.33 Q1299.54 1459.58 1302.6 1455 Q1305.67 1450.39 1311.48 1450.39 Z\" fill=\"#000000\" fill-rule=\"nonzero\" fill-opacity=\"1\" /><path clip-path=\"url(#clip010)\" d=\"M1341.65 1454.1 Q1338.04 1454.1 1336.21 1457.66 Q1334.4 1461.2 1334.4 1468.33 Q1334.4 1475.44 1336.21 1479.01 Q1338.04 1482.55 1341.65 1482.55 Q1345.28 1482.55 1347.09 1479.01 Q1348.91 1475.44 1348.91 1468.33 Q1348.91 1461.2 1347.09 1457.66 Q1345.28 1454.1 1341.65 1454.1 M1341.65 1450.39 Q1347.46 1450.39 1350.51 1455 Q1353.59 1459.58 1353.59 1468.33 Q1353.59 1477.06 1350.51 1481.67 Q1347.46 1486.25 1341.65 1486.25 Q1335.84 1486.25 1332.76 1481.67 Q1329.7 1477.06 1329.7 1468.33 Q1329.7 1459.58 1332.76 1455 Q1335.84 1450.39 1341.65 1450.39 Z\" fill=\"#000000\" fill-rule=\"nonzero\" fill-opacity=\"1\" /><path clip-path=\"url(#clip010)\" d=\"M1762.81 1481.64 L1770.45 1481.64 L1770.45 1455.28 L1762.14 1456.95 L1762.14 1452.69 L1770.4 1451.02 L1775.08 1451.02 L1775.08 1481.64 L1782.71 1481.64 L1782.71 1485.58 L1762.81 1485.58 L1762.81 1481.64 Z\" fill=\"#000000\" fill-rule=\"nonzero\" fill-opacity=\"1\" /><path clip-path=\"url(#clip010)\" d=\"M1792.21 1451.02 L1810.56 1451.02 L1810.56 1454.96 L1796.49 1454.96 L1796.49 1463.43 Q1797.51 1463.08 1798.52 1462.92 Q1799.54 1462.73 1800.56 1462.73 Q1806.35 1462.73 1809.73 1465.9 Q1813.11 1469.08 1813.11 1474.49 Q1813.11 1480.07 1809.64 1483.17 Q1806.16 1486.25 1799.84 1486.25 Q1797.67 1486.25 1795.4 1485.88 Q1793.15 1485.51 1790.75 1484.77 L1790.75 1480.07 Q1792.83 1481.2 1795.05 1481.76 Q1797.27 1482.32 1799.75 1482.32 Q1803.76 1482.32 1806.09 1480.21 Q1808.43 1478.1 1808.43 1474.49 Q1808.43 1470.88 1806.09 1468.77 Q1803.76 1466.67 1799.75 1466.67 Q1797.88 1466.67 1796 1467.08 Q1794.15 1467.5 1792.21 1468.38 L1792.21 1451.02 Z\" fill=\"#000000\" fill-rule=\"nonzero\" fill-opacity=\"1\" /><path clip-path=\"url(#clip010)\" d=\"M1832.32 1454.1 Q1828.71 1454.1 1826.88 1457.66 Q1825.08 1461.2 1825.08 1468.33 Q1825.08 1475.44 1826.88 1479.01 Q1828.71 1482.55 1832.32 1482.55 Q1835.96 1482.55 1837.76 1479.01 Q1839.59 1475.44 1839.59 1468.33 Q1839.59 1461.2 1837.76 1457.66 Q1835.96 1454.1 1832.32 1454.1 M1832.32 1450.39 Q1838.13 1450.39 1841.19 1455 Q1844.27 1459.58 1844.27 1468.33 Q1844.27 1477.06 1841.19 1481.67 Q1838.13 1486.25 1832.32 1486.25 Q1826.51 1486.25 1823.43 1481.67 Q1820.38 1477.06 1820.38 1468.33 Q1820.38 1459.58 1823.43 1455 Q1826.51 1450.39 1832.32 1450.39 Z\" fill=\"#000000\" fill-rule=\"nonzero\" fill-opacity=\"1\" /><path clip-path=\"url(#clip010)\" d=\"M2257.57 1481.64 L2273.89 1481.64 L2273.89 1485.58 L2251.94 1485.58 L2251.94 1481.64 Q2254.6 1478.89 2259.19 1474.26 Q2263.79 1469.61 2264.97 1468.27 Q2267.22 1465.74 2268.1 1464.01 Q2269 1462.25 2269 1460.56 Q2269 1457.8 2267.06 1456.07 Q2265.14 1454.33 2262.03 1454.33 Q2259.84 1454.33 2257.38 1455.09 Q2254.95 1455.86 2252.17 1457.41 L2252.17 1452.69 Q2255 1451.55 2257.45 1450.97 Q2259.91 1450.39 2261.94 1450.39 Q2267.31 1450.39 2270.51 1453.08 Q2273.7 1455.77 2273.7 1460.26 Q2273.7 1462.39 2272.89 1464.31 Q2272.1 1466.2 2270 1468.8 Q2269.42 1469.47 2266.32 1472.69 Q2263.22 1475.88 2257.57 1481.64 Z\" fill=\"#000000\" fill-rule=\"nonzero\" fill-opacity=\"1\" /><path clip-path=\"url(#clip010)\" d=\"M2293.7 1454.1 Q2290.09 1454.1 2288.26 1457.66 Q2286.46 1461.2 2286.46 1468.33 Q2286.46 1475.44 2288.26 1479.01 Q2290.09 1482.55 2293.7 1482.55 Q2297.34 1482.55 2299.14 1479.01 Q2300.97 1475.44 2300.97 1468.33 Q2300.97 1461.2 2299.14 1457.66 Q2297.34 1454.1 2293.7 1454.1 M2293.7 1450.39 Q2299.51 1450.39 2302.57 1455 Q2305.65 1459.58 2305.65 1468.33 Q2305.65 1477.06 2302.57 1481.67 Q2299.51 1486.25 2293.7 1486.25 Q2287.89 1486.25 2284.81 1481.67 Q2281.76 1477.06 2281.76 1468.33 Q2281.76 1459.58 2284.81 1455 Q2287.89 1450.39 2293.7 1450.39 Z\" fill=\"#000000\" fill-rule=\"nonzero\" fill-opacity=\"1\" /><path clip-path=\"url(#clip010)\" d=\"M2323.86 1454.1 Q2320.25 1454.1 2318.42 1457.66 Q2316.62 1461.2 2316.62 1468.33 Q2316.62 1475.44 2318.42 1479.01 Q2320.25 1482.55 2323.86 1482.55 Q2327.5 1482.55 2329.3 1479.01 Q2331.13 1475.44 2331.13 1468.33 Q2331.13 1461.2 2329.3 1457.66 Q2327.5 1454.1 2323.86 1454.1 M2323.86 1450.39 Q2329.67 1450.39 2332.73 1455 Q2335.81 1459.58 2335.81 1468.33 Q2335.81 1477.06 2332.73 1481.67 Q2329.67 1486.25 2323.86 1486.25 Q2318.05 1486.25 2314.97 1481.67 Q2311.92 1477.06 2311.92 1468.33 Q2311.92 1459.58 2314.97 1455 Q2318.05 1450.39 2323.86 1450.39 Z\" fill=\"#000000\" fill-rule=\"nonzero\" fill-opacity=\"1\" /><path clip-path=\"url(#clip010)\" d=\"M1027.55 1520.52 L1037.13 1520.52 L1049.26 1552.86 L1061.45 1520.52 L1071.03 1520.52 L1071.03 1568.04 L1064.76 1568.04 L1064.76 1526.32 L1052.5 1558.91 L1046.04 1558.91 L1033.79 1526.32 L1033.79 1568.04 L1027.55 1568.04 L1027.55 1520.52 Z\" fill=\"#000000\" fill-rule=\"nonzero\" fill-opacity=\"1\" /><path clip-path=\"url(#clip010)\" d=\"M1099.74 1550.12 Q1092.64 1550.12 1089.9 1551.75 Q1087.16 1553.37 1087.16 1557.29 Q1087.16 1560.4 1089.2 1562.25 Q1091.27 1564.07 1094.8 1564.07 Q1099.67 1564.07 1102.6 1560.63 Q1105.56 1557.16 1105.56 1551.43 L1105.56 1550.12 L1099.74 1550.12 M1111.42 1547.71 L1111.42 1568.04 L1105.56 1568.04 L1105.56 1562.63 Q1103.56 1565.88 1100.56 1567.44 Q1097.57 1568.97 1093.24 1568.97 Q1087.77 1568.97 1084.52 1565.91 Q1081.31 1562.82 1081.31 1557.67 Q1081.31 1551.65 1085.32 1548.6 Q1089.36 1545.54 1097.35 1545.54 L1105.56 1545.54 L1105.56 1544.97 Q1105.56 1540.93 1102.89 1538.73 Q1100.25 1536.5 1095.44 1536.5 Q1092.38 1536.5 1089.49 1537.23 Q1086.59 1537.97 1083.92 1539.43 L1083.92 1534.02 Q1087.13 1532.78 1090.16 1532.17 Q1093.18 1531.54 1096.04 1531.54 Q1103.78 1531.54 1107.6 1535.55 Q1111.42 1539.56 1111.42 1547.71 Z\" fill=\"#000000\" fill-rule=\"nonzero\" fill-opacity=\"1\" /><path clip-path=\"url(#clip010)\" d=\"M1146.94 1549.81 Q1146.94 1543.44 1144.3 1539.94 Q1141.69 1536.44 1136.94 1536.44 Q1132.23 1536.44 1129.59 1539.94 Q1126.98 1543.44 1126.98 1549.81 Q1126.98 1556.14 1129.59 1559.64 Q1132.23 1563.14 1136.94 1563.14 Q1141.69 1563.14 1144.3 1559.64 Q1146.94 1556.14 1146.94 1549.81 M1152.79 1563.62 Q1152.79 1572.72 1148.75 1577.15 Q1144.71 1581.6 1136.37 1581.6 Q1133.28 1581.6 1130.55 1581.13 Q1127.81 1580.68 1125.23 1579.72 L1125.23 1574.03 Q1127.81 1575.43 1130.32 1576.1 Q1132.84 1576.76 1135.45 1576.76 Q1141.21 1576.76 1144.07 1573.74 Q1146.94 1570.75 1146.94 1564.67 L1146.94 1561.77 Q1145.12 1564.92 1142.29 1566.48 Q1139.46 1568.04 1135.51 1568.04 Q1128.96 1568.04 1124.94 1563.05 Q1120.93 1558.05 1120.93 1549.81 Q1120.93 1541.53 1124.94 1536.53 Q1128.96 1531.54 1135.51 1531.54 Q1139.46 1531.54 1142.29 1533.1 Q1145.12 1534.66 1146.94 1537.81 L1146.94 1532.4 L1152.79 1532.4 L1152.79 1563.62 Z\" fill=\"#000000\" fill-rule=\"nonzero\" fill-opacity=\"1\" /><path clip-path=\"url(#clip010)\" d=\"M1194.49 1546.53 L1194.49 1568.04 L1188.63 1568.04 L1188.63 1546.72 Q1188.63 1541.66 1186.66 1539.14 Q1184.69 1536.63 1180.74 1536.63 Q1176 1536.63 1173.26 1539.65 Q1170.52 1542.68 1170.52 1547.9 L1170.52 1568.04 L1164.63 1568.04 L1164.63 1532.4 L1170.52 1532.4 L1170.52 1537.93 Q1172.62 1534.72 1175.46 1533.13 Q1178.32 1531.54 1182.05 1531.54 Q1188.19 1531.54 1191.34 1535.36 Q1194.49 1539.14 1194.49 1546.53 Z\" fill=\"#000000\" fill-rule=\"nonzero\" fill-opacity=\"1\" /><path clip-path=\"url(#clip010)\" d=\"M1236.66 1548.76 L1236.66 1551.62 L1209.74 1551.62 Q1210.12 1557.67 1213.36 1560.85 Q1216.64 1564 1222.47 1564 Q1225.84 1564 1228.99 1563.17 Q1232.18 1562.35 1235.29 1560.69 L1235.29 1566.23 Q1232.14 1567.57 1228.83 1568.27 Q1225.52 1568.97 1222.12 1568.97 Q1213.59 1568.97 1208.59 1564 Q1203.62 1559.04 1203.62 1550.57 Q1203.62 1541.82 1208.34 1536.69 Q1213.08 1531.54 1221.1 1531.54 Q1228.29 1531.54 1232.46 1536.18 Q1236.66 1540.8 1236.66 1548.76 M1230.81 1547.04 Q1230.74 1542.23 1228.1 1539.37 Q1225.49 1536.5 1221.16 1536.5 Q1216.26 1536.5 1213.3 1539.27 Q1210.37 1542.04 1209.93 1547.07 L1230.81 1547.04 Z\" fill=\"#000000\" fill-rule=\"nonzero\" fill-opacity=\"1\" /><path clip-path=\"url(#clip010)\" d=\"M1252.07 1522.27 L1252.07 1532.4 L1264.13 1532.4 L1264.13 1536.95 L1252.07 1536.95 L1252.07 1556.3 Q1252.07 1560.66 1253.25 1561.9 Q1254.46 1563.14 1258.12 1563.14 L1264.13 1563.14 L1264.13 1568.04 L1258.12 1568.04 Q1251.34 1568.04 1248.76 1565.53 Q1246.18 1562.98 1246.18 1556.3 L1246.18 1536.95 L1241.88 1536.95 L1241.88 1532.4 L1246.18 1532.4 L1246.18 1522.27 L1252.07 1522.27 Z\" fill=\"#000000\" fill-rule=\"nonzero\" fill-opacity=\"1\" /><path clip-path=\"url(#clip010)\" d=\"M1271.83 1532.4 L1277.69 1532.4 L1277.69 1568.04 L1271.83 1568.04 L1271.83 1532.4 M1271.83 1518.52 L1277.69 1518.52 L1277.69 1525.93 L1271.83 1525.93 L1271.83 1518.52 Z\" fill=\"#000000\" fill-rule=\"nonzero\" fill-opacity=\"1\" /><path clip-path=\"url(#clip010)\" d=\"M1315.6 1533.76 L1315.6 1539.24 Q1313.12 1537.87 1310.6 1537.2 Q1308.12 1536.5 1305.57 1536.5 Q1299.87 1536.5 1296.72 1540.13 Q1293.57 1543.73 1293.57 1550.25 Q1293.57 1556.78 1296.72 1560.4 Q1299.87 1564 1305.57 1564 Q1308.12 1564 1310.6 1563.33 Q1313.12 1562.63 1315.6 1561.26 L1315.6 1566.68 Q1313.15 1567.82 1310.51 1568.39 Q1307.9 1568.97 1304.94 1568.97 Q1296.88 1568.97 1292.14 1563.91 Q1287.4 1558.85 1287.4 1550.25 Q1287.4 1541.53 1292.17 1536.53 Q1296.98 1531.54 1305.32 1531.54 Q1308.02 1531.54 1310.6 1532.11 Q1313.18 1532.65 1315.6 1533.76 Z\" fill=\"#000000\" fill-rule=\"nonzero\" fill-opacity=\"1\" /><path clip-path=\"url(#clip010)\" d=\"M1364.55 1518.52 L1364.55 1523.39 L1358.95 1523.39 Q1355.8 1523.39 1354.56 1524.66 Q1353.35 1525.93 1353.35 1529.24 L1353.35 1532.4 L1362.99 1532.4 L1362.99 1536.95 L1353.35 1536.95 L1353.35 1568.04 L1347.46 1568.04 L1347.46 1536.95 L1341.86 1536.95 L1341.86 1532.4 L1347.46 1532.4 L1347.46 1529.91 Q1347.46 1523.96 1350.23 1521.26 Q1353 1518.52 1359.01 1518.52 L1364.55 1518.52 Z\" fill=\"#000000\" fill-rule=\"nonzero\" fill-opacity=\"1\" /><path clip-path=\"url(#clip010)\" d=\"M1369.45 1532.4 L1375.31 1532.4 L1375.31 1568.04 L1369.45 1568.04 L1369.45 1532.4 M1369.45 1518.52 L1375.31 1518.52 L1375.31 1525.93 L1369.45 1525.93 L1369.45 1518.52 Z\" fill=\"#000000\" fill-rule=\"nonzero\" fill-opacity=\"1\" /><path clip-path=\"url(#clip010)\" d=\"M1418.05 1548.76 L1418.05 1551.62 L1391.13 1551.62 Q1391.51 1557.67 1394.76 1560.85 Q1398.03 1564 1403.86 1564 Q1407.23 1564 1410.38 1563.17 Q1413.57 1562.35 1416.69 1560.69 L1416.69 1566.23 Q1413.53 1567.57 1410.22 1568.27 Q1406.91 1568.97 1403.51 1568.97 Q1394.98 1568.97 1389.98 1564 Q1385.02 1559.04 1385.02 1550.57 Q1385.02 1541.82 1389.73 1536.69 Q1394.47 1531.54 1402.49 1531.54 Q1409.68 1531.54 1413.85 1536.18 Q1418.05 1540.8 1418.05 1548.76 M1412.2 1547.04 Q1412.13 1542.23 1409.49 1539.37 Q1406.88 1536.5 1402.55 1536.5 Q1397.65 1536.5 1394.69 1539.27 Q1391.76 1542.04 1391.32 1547.07 L1412.2 1547.04 Z\" fill=\"#000000\" fill-rule=\"nonzero\" fill-opacity=\"1\" /><path clip-path=\"url(#clip010)\" d=\"M1427.67 1518.52 L1433.52 1518.52 L1433.52 1568.04 L1427.67 1568.04 L1427.67 1518.52 Z\" fill=\"#000000\" fill-rule=\"nonzero\" fill-opacity=\"1\" /><path clip-path=\"url(#clip010)\" d=\"M1469.23 1537.81 L1469.23 1518.52 L1475.09 1518.52 L1475.09 1568.04 L1469.23 1568.04 L1469.23 1562.7 Q1467.39 1565.88 1464.56 1567.44 Q1461.75 1568.97 1457.81 1568.97 Q1451.35 1568.97 1447.27 1563.81 Q1443.23 1558.65 1443.23 1550.25 Q1443.23 1541.85 1447.27 1536.69 Q1451.35 1531.54 1457.81 1531.54 Q1461.75 1531.54 1464.56 1533.1 Q1467.39 1534.62 1469.23 1537.81 M1449.28 1550.25 Q1449.28 1556.71 1451.92 1560.4 Q1454.59 1564.07 1459.24 1564.07 Q1463.89 1564.07 1466.56 1560.4 Q1469.23 1556.71 1469.23 1550.25 Q1469.23 1543.79 1466.56 1540.13 Q1463.89 1536.44 1459.24 1536.44 Q1454.59 1536.44 1451.92 1540.13 Q1449.28 1543.79 1449.28 1550.25 Z\" fill=\"#000000\" fill-rule=\"nonzero\" fill-opacity=\"1\" /><path clip-path=\"url(#clip010)\" d=\"M1521.94 1518.58 Q1517.68 1525.9 1515.61 1533.06 Q1513.54 1540.23 1513.54 1547.58 Q1513.54 1554.93 1515.61 1562.16 Q1517.71 1569.35 1521.94 1576.64 L1516.85 1576.64 Q1512.08 1569.16 1509.69 1561.93 Q1507.33 1554.71 1507.33 1547.58 Q1507.33 1540.48 1509.69 1533.29 Q1512.04 1526.09 1516.85 1518.58 L1521.94 1518.58 Z\" fill=\"#000000\" fill-rule=\"nonzero\" fill-opacity=\"1\" /><path clip-path=\"url(#clip010)\" d=\"M1565.96 1561.26 L1565.96 1548.5 L1555.46 1548.5 L1555.46 1543.22 L1572.33 1543.22 L1572.33 1563.62 Q1568.6 1566.26 1564.11 1567.63 Q1559.63 1568.97 1554.53 1568.97 Q1543.39 1568.97 1537.09 1562.47 Q1530.82 1555.95 1530.82 1544.33 Q1530.82 1532.68 1537.09 1526.19 Q1543.39 1519.66 1554.53 1519.66 Q1559.18 1519.66 1563.35 1520.81 Q1567.55 1521.96 1571.09 1524.18 L1571.09 1531.03 Q1567.52 1528 1563.51 1526.48 Q1559.5 1524.95 1555.08 1524.95 Q1546.35 1524.95 1541.96 1529.82 Q1537.6 1534.69 1537.6 1544.33 Q1537.6 1553.94 1541.96 1558.81 Q1546.35 1563.68 1555.08 1563.68 Q1558.48 1563.68 1561.15 1563.11 Q1563.83 1562.51 1565.96 1561.26 Z\" fill=\"#000000\" fill-rule=\"nonzero\" fill-opacity=\"1\" /><path clip-path=\"url(#clip010)\" d=\"M1582.89 1518.58 L1587.99 1518.58 Q1592.76 1526.09 1595.12 1533.29 Q1597.5 1540.48 1597.5 1547.58 Q1597.5 1554.71 1595.12 1561.93 Q1592.76 1569.16 1587.99 1576.64 L1582.89 1576.64 Q1587.13 1569.35 1589.2 1562.16 Q1591.3 1554.93 1591.3 1547.58 Q1591.3 1540.23 1589.2 1533.06 Q1587.13 1525.9 1582.89 1518.58 Z\" fill=\"#000000\" fill-rule=\"nonzero\" fill-opacity=\"1\" /><polyline clip-path=\"url(#clip012)\" style=\"stroke:#000000; stroke-linecap:round; stroke-linejoin:round; stroke-width:2; stroke-opacity:0.1; fill:none\" points=\"272.297,1173.06 2352.76,1173.06 \"/>\n",
       "<polyline clip-path=\"url(#clip012)\" style=\"stroke:#000000; stroke-linecap:round; stroke-linejoin:round; stroke-width:2; stroke-opacity:0.1; fill:none\" points=\"272.297,826.86 2352.76,826.86 \"/>\n",
       "<polyline clip-path=\"url(#clip012)\" style=\"stroke:#000000; stroke-linecap:round; stroke-linejoin:round; stroke-width:2; stroke-opacity:0.1; fill:none\" points=\"272.297,480.665 2352.76,480.665 \"/>\n",
       "<polyline clip-path=\"url(#clip012)\" style=\"stroke:#000000; stroke-linecap:round; stroke-linejoin:round; stroke-width:2; stroke-opacity:0.1; fill:none\" points=\"272.297,134.47 2352.76,134.47 \"/>\n",
       "<polyline clip-path=\"url(#clip010)\" style=\"stroke:#000000; stroke-linecap:round; stroke-linejoin:round; stroke-width:4; stroke-opacity:1; fill:none\" points=\"272.297,1423.18 272.297,47.2441 \"/>\n",
       "<polyline clip-path=\"url(#clip010)\" style=\"stroke:#000000; stroke-linecap:round; stroke-linejoin:round; stroke-width:4; stroke-opacity:1; fill:none\" points=\"2352.76,1423.18 2352.76,47.2441 \"/>\n",
       "<polyline clip-path=\"url(#clip010)\" style=\"stroke:#000000; stroke-linecap:round; stroke-linejoin:round; stroke-width:4; stroke-opacity:1; fill:none\" points=\"272.297,1173.06 291.194,1173.06 \"/>\n",
       "<polyline clip-path=\"url(#clip010)\" style=\"stroke:#000000; stroke-linecap:round; stroke-linejoin:round; stroke-width:4; stroke-opacity:1; fill:none\" points=\"272.297,826.86 291.194,826.86 \"/>\n",
       "<polyline clip-path=\"url(#clip010)\" style=\"stroke:#000000; stroke-linecap:round; stroke-linejoin:round; stroke-width:4; stroke-opacity:1; fill:none\" points=\"272.297,480.665 291.194,480.665 \"/>\n",
       "<polyline clip-path=\"url(#clip010)\" style=\"stroke:#000000; stroke-linecap:round; stroke-linejoin:round; stroke-width:4; stroke-opacity:1; fill:none\" points=\"272.297,134.47 291.194,134.47 \"/>\n",
       "<path clip-path=\"url(#clip010)\" d=\"M114.26 1173.51 L143.936 1173.51 L143.936 1177.44 L114.26 1177.44 L114.26 1173.51 Z\" fill=\"#000000\" fill-rule=\"nonzero\" fill-opacity=\"1\" /><path clip-path=\"url(#clip010)\" d=\"M154.839 1186.4 L162.477 1186.4 L162.477 1160.03 L154.167 1161.7 L154.167 1157.44 L162.431 1155.78 L167.107 1155.78 L167.107 1186.4 L174.746 1186.4 L174.746 1190.34 L154.839 1190.34 L154.839 1186.4 Z\" fill=\"#000000\" fill-rule=\"nonzero\" fill-opacity=\"1\" /><path clip-path=\"url(#clip010)\" d=\"M184.237 1155.78 L202.593 1155.78 L202.593 1159.71 L188.519 1159.71 L188.519 1168.18 Q189.538 1167.84 190.556 1167.67 Q191.575 1167.49 192.593 1167.49 Q198.38 1167.49 201.76 1170.66 Q205.139 1173.83 205.139 1179.25 Q205.139 1184.83 201.667 1187.93 Q198.195 1191.01 191.875 1191.01 Q189.7 1191.01 187.431 1190.64 Q185.186 1190.27 182.778 1189.53 L182.778 1184.83 Q184.862 1185.96 187.084 1186.52 Q189.306 1187.07 191.783 1187.07 Q195.787 1187.07 198.125 1184.97 Q200.463 1182.86 200.463 1179.25 Q200.463 1175.64 198.125 1173.53 Q195.787 1171.42 191.783 1171.42 Q189.908 1171.42 188.033 1171.84 Q186.181 1172.26 184.237 1173.14 L184.237 1155.78 Z\" fill=\"#000000\" fill-rule=\"nonzero\" fill-opacity=\"1\" /><path clip-path=\"url(#clip010)\" d=\"M224.352 1158.85 Q220.741 1158.85 218.912 1162.42 Q217.107 1165.96 217.107 1173.09 Q217.107 1180.2 218.912 1183.76 Q220.741 1187.3 224.352 1187.3 Q227.986 1187.3 229.792 1183.76 Q231.621 1180.2 231.621 1173.09 Q231.621 1165.96 229.792 1162.42 Q227.986 1158.85 224.352 1158.85 M224.352 1155.15 Q230.162 1155.15 233.218 1159.76 Q236.297 1164.34 236.297 1173.09 Q236.297 1181.82 233.218 1186.42 Q230.162 1191.01 224.352 1191.01 Q218.542 1191.01 215.463 1186.42 Q212.408 1181.82 212.408 1173.09 Q212.408 1164.34 215.463 1159.76 Q218.542 1155.15 224.352 1155.15 Z\" fill=\"#000000\" fill-rule=\"nonzero\" fill-opacity=\"1\" /><path clip-path=\"url(#clip010)\" d=\"M114.26 827.312 L143.936 827.312 L143.936 831.247 L114.26 831.247 L114.26 827.312 Z\" fill=\"#000000\" fill-rule=\"nonzero\" fill-opacity=\"1\" /><path clip-path=\"url(#clip010)\" d=\"M154.839 840.205 L162.477 840.205 L162.477 813.84 L154.167 815.506 L154.167 811.247 L162.431 809.58 L167.107 809.58 L167.107 840.205 L174.746 840.205 L174.746 844.14 L154.839 844.14 L154.839 840.205 Z\" fill=\"#000000\" fill-rule=\"nonzero\" fill-opacity=\"1\" /><path clip-path=\"url(#clip010)\" d=\"M194.19 812.659 Q190.579 812.659 188.75 816.224 Q186.945 819.766 186.945 826.895 Q186.945 834.002 188.75 837.566 Q190.579 841.108 194.19 841.108 Q197.825 841.108 199.63 837.566 Q201.459 834.002 201.459 826.895 Q201.459 819.766 199.63 816.224 Q197.825 812.659 194.19 812.659 M194.19 808.955 Q200 808.955 203.056 813.562 Q206.135 818.145 206.135 826.895 Q206.135 835.622 203.056 840.228 Q200 844.812 194.19 844.812 Q188.38 844.812 185.301 840.228 Q182.246 835.622 182.246 826.895 Q182.246 818.145 185.301 813.562 Q188.38 808.955 194.19 808.955 Z\" fill=\"#000000\" fill-rule=\"nonzero\" fill-opacity=\"1\" /><path clip-path=\"url(#clip010)\" d=\"M224.352 812.659 Q220.741 812.659 218.912 816.224 Q217.107 819.766 217.107 826.895 Q217.107 834.002 218.912 837.566 Q220.741 841.108 224.352 841.108 Q227.986 841.108 229.792 837.566 Q231.621 834.002 231.621 826.895 Q231.621 819.766 229.792 816.224 Q227.986 812.659 224.352 812.659 M224.352 808.955 Q230.162 808.955 233.218 813.562 Q236.297 818.145 236.297 826.895 Q236.297 835.622 233.218 840.228 Q230.162 844.812 224.352 844.812 Q218.542 844.812 215.463 840.228 Q212.408 835.622 212.408 826.895 Q212.408 818.145 215.463 813.562 Q218.542 808.955 224.352 808.955 Z\" fill=\"#000000\" fill-rule=\"nonzero\" fill-opacity=\"1\" /><path clip-path=\"url(#clip010)\" d=\"M144.422 481.117 L174.098 481.117 L174.098 485.052 L144.422 485.052 L144.422 481.117 Z\" fill=\"#000000\" fill-rule=\"nonzero\" fill-opacity=\"1\" /><path clip-path=\"url(#clip010)\" d=\"M184.237 463.385 L202.593 463.385 L202.593 467.321 L188.519 467.321 L188.519 475.793 Q189.538 475.445 190.556 475.283 Q191.575 475.098 192.593 475.098 Q198.38 475.098 201.76 478.27 Q205.139 481.441 205.139 486.857 Q205.139 492.436 201.667 495.538 Q198.195 498.617 191.875 498.617 Q189.7 498.617 187.431 498.246 Q185.186 497.876 182.778 497.135 L182.778 492.436 Q184.862 493.57 187.084 494.126 Q189.306 494.681 191.783 494.681 Q195.787 494.681 198.125 492.575 Q200.463 490.469 200.463 486.857 Q200.463 483.246 198.125 481.14 Q195.787 479.033 191.783 479.033 Q189.908 479.033 188.033 479.45 Q186.181 479.867 184.237 480.746 L184.237 463.385 Z\" fill=\"#000000\" fill-rule=\"nonzero\" fill-opacity=\"1\" /><path clip-path=\"url(#clip010)\" d=\"M224.352 466.464 Q220.741 466.464 218.912 470.029 Q217.107 473.57 217.107 480.7 Q217.107 487.807 218.912 491.371 Q220.741 494.913 224.352 494.913 Q227.986 494.913 229.792 491.371 Q231.621 487.807 231.621 480.7 Q231.621 473.57 229.792 470.029 Q227.986 466.464 224.352 466.464 M224.352 462.76 Q230.162 462.76 233.218 467.367 Q236.297 471.95 236.297 480.7 Q236.297 489.427 233.218 494.033 Q230.162 498.617 224.352 498.617 Q218.542 498.617 215.463 494.033 Q212.408 489.427 212.408 480.7 Q212.408 471.95 215.463 467.367 Q218.542 462.76 224.352 462.76 Z\" fill=\"#000000\" fill-rule=\"nonzero\" fill-opacity=\"1\" /><path clip-path=\"url(#clip010)\" d=\"M224.352 120.269 Q220.741 120.269 218.912 123.834 Q217.107 127.375 217.107 134.505 Q217.107 141.611 218.912 145.176 Q220.741 148.718 224.352 148.718 Q227.986 148.718 229.792 145.176 Q231.621 141.611 231.621 134.505 Q231.621 127.375 229.792 123.834 Q227.986 120.269 224.352 120.269 M224.352 116.565 Q230.162 116.565 233.218 121.172 Q236.297 125.755 236.297 134.505 Q236.297 143.232 233.218 147.838 Q230.162 152.422 224.352 152.422 Q218.542 152.422 215.463 147.838 Q212.408 143.232 212.408 134.505 Q212.408 125.755 215.463 121.172 Q218.542 116.565 224.352 116.565 Z\" fill=\"#000000\" fill-rule=\"nonzero\" fill-opacity=\"1\" /><path clip-path=\"url(#clip010)\" d=\"M46.0847 905.463 Q46.0847 912.561 47.7079 915.298 Q49.3312 918.035 53.2461 918.035 Q56.3653 918.035 58.2114 915.998 Q60.0256 913.929 60.0256 910.396 Q60.0256 905.526 56.5881 902.598 Q53.1188 899.638 47.3897 899.638 L46.0847 899.638 L46.0847 905.463 M43.6657 893.782 L64.0042 893.782 L64.0042 899.638 L58.5933 899.638 Q61.8398 901.643 63.3994 904.635 Q64.9272 907.627 64.9272 911.956 Q64.9272 917.43 61.8716 920.677 Q58.7843 923.892 53.6281 923.892 Q47.6125 923.892 44.5569 919.881 Q41.5014 915.839 41.5014 907.85 L41.5014 899.638 L40.9285 899.638 Q36.8862 899.638 34.6901 902.312 Q32.4621 904.954 32.4621 909.76 Q32.4621 912.815 33.1941 915.712 Q33.9262 918.608 35.3903 921.282 L29.9795 921.282 Q28.7381 918.067 28.1334 915.043 Q27.4968 912.019 27.4968 909.155 Q27.4968 901.421 31.5072 897.601 Q35.5176 893.782 43.6657 893.782 Z\" fill=\"#000000\" fill-rule=\"nonzero\" fill-opacity=\"1\" /><path clip-path=\"url(#clip010)\" d=\"M14.5426 846.93 Q21.8632 851.195 29.0246 853.264 Q36.186 855.333 43.5384 855.333 Q50.8908 855.333 58.1159 853.264 Q65.3091 851.163 72.5979 846.93 L72.5979 852.023 Q65.1182 856.797 57.8931 859.184 Q50.668 861.539 43.5384 861.539 Q36.4406 861.539 29.2474 859.184 Q22.0542 856.829 14.5426 852.023 L14.5426 846.93 Z\" fill=\"#000000\" fill-rule=\"nonzero\" fill-opacity=\"1\" /><path clip-path=\"url(#clip010)\" d=\"M58.5933 833.626 L58.5933 823.122 L22.3406 823.122 L24.6323 834.549 L18.7758 834.549 L16.4842 823.186 L16.4842 816.757 L58.5933 816.757 L58.5933 806.253 L64.0042 806.253 L64.0042 833.626 L58.5933 833.626 Z\" fill=\"#000000\" fill-rule=\"nonzero\" fill-opacity=\"1\" /><path clip-path=\"url(#clip010)\" d=\"M20.7174 779.517 Q20.7174 784.483 25.6189 786.997 Q30.4887 789.48 40.2919 789.48 Q50.0633 789.48 54.9649 786.997 Q59.8346 784.483 59.8346 779.517 Q59.8346 774.52 54.9649 772.038 Q50.0633 769.523 40.2919 769.523 Q30.4887 769.523 25.6189 772.038 Q20.7174 774.52 20.7174 779.517 M15.6248 779.517 Q15.6248 771.528 21.9587 767.327 Q28.2607 763.094 40.2919 763.094 Q52.2913 763.094 58.6251 767.327 Q64.9272 771.528 64.9272 779.517 Q64.9272 787.506 58.6251 791.739 Q52.2913 795.941 40.2919 795.941 Q28.2607 795.941 21.9587 791.739 Q15.6248 787.506 15.6248 779.517 Z\" fill=\"#000000\" fill-rule=\"nonzero\" fill-opacity=\"1\" /><path clip-path=\"url(#clip010)\" d=\"M28.3562 742.087 Q28.9291 739.159 30.6797 737.567 Q32.3984 735.944 35.0084 735.944 Q38.9551 735.944 41.0876 738.968 Q43.2201 741.991 43.2201 747.625 Q43.2201 749.439 42.9018 751.445 Q42.5517 753.418 41.9152 755.646 L38.0639 755.646 Q38.9233 753.991 39.337 752.113 Q39.7508 750.203 39.7508 748.071 Q39.7508 744.601 38.5095 742.692 Q37.2364 740.782 35.0084 740.782 Q32.6531 740.782 31.4436 742.564 Q30.2341 744.315 30.2341 747.752 L30.2341 750.49 L26.7966 750.49 L26.7966 747.498 Q26.7966 744.506 25.8099 742.978 Q24.7914 741.419 22.8817 741.419 Q21.0356 741.419 20.0808 743.01 Q19.0941 744.601 19.0941 747.625 Q19.0941 748.898 19.3806 750.521 Q19.667 752.145 20.3991 754.723 L16.7388 754.723 Q16.1977 752.399 15.9112 750.362 Q15.6248 748.325 15.6248 746.575 Q15.6248 741.991 17.5027 739.318 Q19.3806 736.612 22.5316 736.612 Q24.7277 736.612 26.2555 738.045 Q27.7833 739.477 28.3562 742.087 Z\" fill=\"#000000\" fill-rule=\"nonzero\" fill-opacity=\"1\" /><path clip-path=\"url(#clip010)\" d=\"M35.1993 678.016 Q31.2526 675.82 29.3747 672.764 Q27.4968 669.709 27.4968 665.571 Q27.4968 660.001 31.4117 656.977 Q35.2948 653.954 42.4881 653.954 L64.0042 653.954 L64.0042 659.842 L42.679 659.842 Q37.5546 659.842 35.072 661.656 Q32.5894 663.47 32.5894 667.194 Q32.5894 671.746 35.6131 674.388 Q38.6368 677.029 43.8567 677.029 L64.0042 677.029 L64.0042 682.918 L42.679 682.918 Q37.5228 682.918 35.072 684.732 Q32.5894 686.546 32.5894 690.334 Q32.5894 694.822 35.6449 697.463 Q38.6686 700.105 43.8567 700.105 L64.0042 700.105 L64.0042 705.993 L28.3562 705.993 L28.3562 700.105 L33.8944 700.105 Q30.616 698.1 29.0564 695.299 Q27.4968 692.498 27.4968 688.647 Q27.4968 684.764 29.4702 682.058 Q31.4436 679.321 35.1993 678.016 Z\" fill=\"#000000\" fill-rule=\"nonzero\" fill-opacity=\"1\" /><path clip-path=\"url(#clip010)\" d=\"M16.4842 631.865 L16.4842 626.454 L70.0516 643.005 L70.0516 648.416 L16.4842 631.865 Z\" fill=\"#000000\" fill-rule=\"nonzero\" fill-opacity=\"1\" /><path clip-path=\"url(#clip010)\" d=\"M29.4065 597.585 L34.9447 597.585 Q33.6716 600.068 33.035 602.742 Q32.3984 605.415 32.3984 608.28 Q32.3984 612.64 33.7352 614.836 Q35.072 617.001 37.7456 617.001 Q39.7826 617.001 40.9603 615.441 Q42.1061 613.882 43.1565 609.171 L43.6021 607.166 Q44.9389 600.927 47.3897 598.317 Q49.8086 595.676 54.1691 595.676 Q59.1344 595.676 62.0308 599.622 Q64.9272 603.537 64.9272 610.412 Q64.9272 613.277 64.3543 616.396 Q63.8132 619.483 62.6992 622.921 L56.6518 622.921 Q58.3387 619.674 59.198 616.523 Q60.0256 613.372 60.0256 610.285 Q60.0256 606.147 58.6251 603.919 Q57.1929 601.691 54.6147 601.691 Q52.2276 601.691 50.9545 603.315 Q49.6813 604.906 48.5037 610.349 L48.0262 612.386 Q46.8804 617.828 44.5251 620.247 Q42.138 622.666 38.0002 622.666 Q32.9713 622.666 30.2341 619.101 Q27.4968 615.537 27.4968 608.98 Q27.4968 605.733 27.9743 602.869 Q28.4517 600.004 29.4065 597.585 Z\" fill=\"#000000\" fill-rule=\"nonzero\" fill-opacity=\"1\" /><path clip-path=\"url(#clip010)\" d=\"M39.1142 583.963 L39.1142 570.467 L42.7427 570.467 L42.7427 589.501 L39.2416 589.501 Q38.2549 588.419 36.4725 586.414 Q26.7648 575.465 23.7729 575.465 Q21.6722 575.465 20.3991 577.12 Q19.0941 578.775 19.0941 581.48 Q19.0941 583.135 19.667 585.077 Q20.2081 587.018 21.3221 589.31 L17.4072 589.31 Q16.516 586.859 16.0704 584.758 Q15.6248 582.626 15.6248 580.812 Q15.6248 576.197 17.7255 573.428 Q19.8262 570.658 23.2636 570.658 Q27.6878 570.658 36.7271 581.194 Q38.2549 582.976 39.1142 583.963 Z\" fill=\"#000000\" fill-rule=\"nonzero\" fill-opacity=\"1\" /><path clip-path=\"url(#clip010)\" d=\"M14.5426 561.142 L14.5426 556.049 Q22.0542 551.275 29.2474 548.92 Q36.4406 546.532 43.5384 546.532 Q50.668 546.532 57.8931 548.92 Q65.1182 551.275 72.5979 556.049 L72.5979 561.142 Q65.3091 556.909 58.1159 554.84 Q50.8908 552.739 43.5384 552.739 Q36.186 552.739 29.0246 554.84 Q21.8632 556.909 14.5426 561.142 Z\" fill=\"#000000\" fill-rule=\"nonzero\" fill-opacity=\"1\" /><circle clip-path=\"url(#clip012)\" cx=\"331.177\" cy=\"1384.24\" r=\"14.4\" fill=\"#009af9\" fill-rule=\"evenodd\" fill-opacity=\"1\" stroke=\"#000000\" stroke-opacity=\"1\" stroke-width=\"3.2\"/>\n",
       "<circle clip-path=\"url(#clip012)\" cx=\"380.245\" cy=\"347.22\" r=\"14.4\" fill=\"#009af9\" fill-rule=\"evenodd\" fill-opacity=\"1\" stroke=\"#000000\" stroke-opacity=\"1\" stroke-width=\"3.2\"/>\n",
       "<circle clip-path=\"url(#clip012)\" cx=\"429.312\" cy=\"159.587\" r=\"14.4\" fill=\"#009af9\" fill-rule=\"evenodd\" fill-opacity=\"1\" stroke=\"#000000\" stroke-opacity=\"1\" stroke-width=\"3.2\"/>\n",
       "<circle clip-path=\"url(#clip012)\" cx=\"478.38\" cy=\"126.915\" r=\"14.4\" fill=\"#009af9\" fill-rule=\"evenodd\" fill-opacity=\"1\" stroke=\"#000000\" stroke-opacity=\"1\" stroke-width=\"3.2\"/>\n",
       "<circle clip-path=\"url(#clip012)\" cx=\"527.447\" cy=\"127.527\" r=\"14.4\" fill=\"#009af9\" fill-rule=\"evenodd\" fill-opacity=\"1\" stroke=\"#000000\" stroke-opacity=\"1\" stroke-width=\"3.2\"/>\n",
       "<circle clip-path=\"url(#clip012)\" cx=\"576.515\" cy=\"153.387\" r=\"14.4\" fill=\"#009af9\" fill-rule=\"evenodd\" fill-opacity=\"1\" stroke=\"#000000\" stroke-opacity=\"1\" stroke-width=\"3.2\"/>\n",
       "<circle clip-path=\"url(#clip012)\" cx=\"625.582\" cy=\"331.412\" r=\"14.4\" fill=\"#009af9\" fill-rule=\"evenodd\" fill-opacity=\"1\" stroke=\"#000000\" stroke-opacity=\"1\" stroke-width=\"3.2\"/>\n",
       "<circle clip-path=\"url(#clip012)\" cx=\"674.65\" cy=\"86.1857\" r=\"14.4\" fill=\"#009af9\" fill-rule=\"evenodd\" fill-opacity=\"1\" stroke=\"#000000\" stroke-opacity=\"1\" stroke-width=\"3.2\"/>\n",
       "<circle clip-path=\"url(#clip012)\" cx=\"723.717\" cy=\"100.341\" r=\"14.4\" fill=\"#009af9\" fill-rule=\"evenodd\" fill-opacity=\"1\" stroke=\"#000000\" stroke-opacity=\"1\" stroke-width=\"3.2\"/>\n",
       "<circle clip-path=\"url(#clip012)\" cx=\"772.784\" cy=\"149.94\" r=\"14.4\" fill=\"#009af9\" fill-rule=\"evenodd\" fill-opacity=\"1\" stroke=\"#000000\" stroke-opacity=\"1\" stroke-width=\"3.2\"/>\n",
       "<circle clip-path=\"url(#clip012)\" cx=\"821.852\" cy=\"106.705\" r=\"14.4\" fill=\"#009af9\" fill-rule=\"evenodd\" fill-opacity=\"1\" stroke=\"#000000\" stroke-opacity=\"1\" stroke-width=\"3.2\"/>\n",
       "<circle clip-path=\"url(#clip012)\" cx=\"870.919\" cy=\"100.937\" r=\"14.4\" fill=\"#009af9\" fill-rule=\"evenodd\" fill-opacity=\"1\" stroke=\"#000000\" stroke-opacity=\"1\" stroke-width=\"3.2\"/>\n",
       "<circle clip-path=\"url(#clip012)\" cx=\"919.987\" cy=\"100.224\" r=\"14.4\" fill=\"#009af9\" fill-rule=\"evenodd\" fill-opacity=\"1\" stroke=\"#000000\" stroke-opacity=\"1\" stroke-width=\"3.2\"/>\n",
       "<circle clip-path=\"url(#clip012)\" cx=\"969.054\" cy=\"101.11\" r=\"14.4\" fill=\"#009af9\" fill-rule=\"evenodd\" fill-opacity=\"1\" stroke=\"#000000\" stroke-opacity=\"1\" stroke-width=\"3.2\"/>\n",
       "<circle clip-path=\"url(#clip012)\" cx=\"1018.12\" cy=\"104.528\" r=\"14.4\" fill=\"#009af9\" fill-rule=\"evenodd\" fill-opacity=\"1\" stroke=\"#000000\" stroke-opacity=\"1\" stroke-width=\"3.2\"/>\n",
       "<circle clip-path=\"url(#clip012)\" cx=\"1067.19\" cy=\"106.603\" r=\"14.4\" fill=\"#009af9\" fill-rule=\"evenodd\" fill-opacity=\"1\" stroke=\"#000000\" stroke-opacity=\"1\" stroke-width=\"3.2\"/>\n",
       "<circle clip-path=\"url(#clip012)\" cx=\"1116.26\" cy=\"109.148\" r=\"14.4\" fill=\"#009af9\" fill-rule=\"evenodd\" fill-opacity=\"1\" stroke=\"#000000\" stroke-opacity=\"1\" stroke-width=\"3.2\"/>\n",
       "<circle clip-path=\"url(#clip012)\" cx=\"1165.32\" cy=\"111.769\" r=\"14.4\" fill=\"#009af9\" fill-rule=\"evenodd\" fill-opacity=\"1\" stroke=\"#000000\" stroke-opacity=\"1\" stroke-width=\"3.2\"/>\n",
       "<circle clip-path=\"url(#clip012)\" cx=\"1214.39\" cy=\"114.27\" r=\"14.4\" fill=\"#009af9\" fill-rule=\"evenodd\" fill-opacity=\"1\" stroke=\"#000000\" stroke-opacity=\"1\" stroke-width=\"3.2\"/>\n",
       "<circle clip-path=\"url(#clip012)\" cx=\"1263.46\" cy=\"116.535\" r=\"14.4\" fill=\"#009af9\" fill-rule=\"evenodd\" fill-opacity=\"1\" stroke=\"#000000\" stroke-opacity=\"1\" stroke-width=\"3.2\"/>\n",
       "<circle clip-path=\"url(#clip012)\" cx=\"1312.53\" cy=\"118.533\" r=\"14.4\" fill=\"#009af9\" fill-rule=\"evenodd\" fill-opacity=\"1\" stroke=\"#000000\" stroke-opacity=\"1\" stroke-width=\"3.2\"/>\n",
       "<circle clip-path=\"url(#clip012)\" cx=\"1361.59\" cy=\"120.307\" r=\"14.4\" fill=\"#009af9\" fill-rule=\"evenodd\" fill-opacity=\"1\" stroke=\"#000000\" stroke-opacity=\"1\" stroke-width=\"3.2\"/>\n",
       "<circle clip-path=\"url(#clip012)\" cx=\"1410.66\" cy=\"121.875\" r=\"14.4\" fill=\"#009af9\" fill-rule=\"evenodd\" fill-opacity=\"1\" stroke=\"#000000\" stroke-opacity=\"1\" stroke-width=\"3.2\"/>\n",
       "<circle clip-path=\"url(#clip012)\" cx=\"1459.73\" cy=\"123.252\" r=\"14.4\" fill=\"#009af9\" fill-rule=\"evenodd\" fill-opacity=\"1\" stroke=\"#000000\" stroke-opacity=\"1\" stroke-width=\"3.2\"/>\n",
       "<circle clip-path=\"url(#clip012)\" cx=\"1508.8\" cy=\"124.358\" r=\"14.4\" fill=\"#009af9\" fill-rule=\"evenodd\" fill-opacity=\"1\" stroke=\"#000000\" stroke-opacity=\"1\" stroke-width=\"3.2\"/>\n",
       "<circle clip-path=\"url(#clip012)\" cx=\"1557.86\" cy=\"125.43\" r=\"14.4\" fill=\"#009af9\" fill-rule=\"evenodd\" fill-opacity=\"1\" stroke=\"#000000\" stroke-opacity=\"1\" stroke-width=\"3.2\"/>\n",
       "<circle clip-path=\"url(#clip012)\" cx=\"1606.93\" cy=\"127.414\" r=\"14.4\" fill=\"#009af9\" fill-rule=\"evenodd\" fill-opacity=\"1\" stroke=\"#000000\" stroke-opacity=\"1\" stroke-width=\"3.2\"/>\n",
       "<circle clip-path=\"url(#clip012)\" cx=\"1656\" cy=\"127.199\" r=\"14.4\" fill=\"#009af9\" fill-rule=\"evenodd\" fill-opacity=\"1\" stroke=\"#000000\" stroke-opacity=\"1\" stroke-width=\"3.2\"/>\n",
       "<circle clip-path=\"url(#clip012)\" cx=\"1705.07\" cy=\"127.934\" r=\"14.4\" fill=\"#009af9\" fill-rule=\"evenodd\" fill-opacity=\"1\" stroke=\"#000000\" stroke-opacity=\"1\" stroke-width=\"3.2\"/>\n",
       "<circle clip-path=\"url(#clip012)\" cx=\"1754.13\" cy=\"128.555\" r=\"14.4\" fill=\"#009af9\" fill-rule=\"evenodd\" fill-opacity=\"1\" stroke=\"#000000\" stroke-opacity=\"1\" stroke-width=\"3.2\"/>\n",
       "<circle clip-path=\"url(#clip012)\" cx=\"1803.2\" cy=\"128.956\" r=\"14.4\" fill=\"#009af9\" fill-rule=\"evenodd\" fill-opacity=\"1\" stroke=\"#000000\" stroke-opacity=\"1\" stroke-width=\"3.2\"/>\n",
       "<circle clip-path=\"url(#clip012)\" cx=\"1852.27\" cy=\"127.275\" r=\"14.4\" fill=\"#009af9\" fill-rule=\"evenodd\" fill-opacity=\"1\" stroke=\"#000000\" stroke-opacity=\"1\" stroke-width=\"3.2\"/>\n",
       "<circle clip-path=\"url(#clip012)\" cx=\"1901.34\" cy=\"128.257\" r=\"14.4\" fill=\"#009af9\" fill-rule=\"evenodd\" fill-opacity=\"1\" stroke=\"#000000\" stroke-opacity=\"1\" stroke-width=\"3.2\"/>\n",
       "<circle clip-path=\"url(#clip012)\" cx=\"1950.4\" cy=\"129.628\" r=\"14.4\" fill=\"#009af9\" fill-rule=\"evenodd\" fill-opacity=\"1\" stroke=\"#000000\" stroke-opacity=\"1\" stroke-width=\"3.2\"/>\n",
       "<circle clip-path=\"url(#clip012)\" cx=\"1999.47\" cy=\"130.265\" r=\"14.4\" fill=\"#009af9\" fill-rule=\"evenodd\" fill-opacity=\"1\" stroke=\"#000000\" stroke-opacity=\"1\" stroke-width=\"3.2\"/>\n",
       "<circle clip-path=\"url(#clip012)\" cx=\"2048.54\" cy=\"130.687\" r=\"14.4\" fill=\"#009af9\" fill-rule=\"evenodd\" fill-opacity=\"1\" stroke=\"#000000\" stroke-opacity=\"1\" stroke-width=\"3.2\"/>\n",
       "<circle clip-path=\"url(#clip012)\" cx=\"2097.61\" cy=\"131.022\" r=\"14.4\" fill=\"#009af9\" fill-rule=\"evenodd\" fill-opacity=\"1\" stroke=\"#000000\" stroke-opacity=\"1\" stroke-width=\"3.2\"/>\n",
       "<circle clip-path=\"url(#clip012)\" cx=\"2146.67\" cy=\"131.323\" r=\"14.4\" fill=\"#009af9\" fill-rule=\"evenodd\" fill-opacity=\"1\" stroke=\"#000000\" stroke-opacity=\"1\" stroke-width=\"3.2\"/>\n",
       "<circle clip-path=\"url(#clip012)\" cx=\"2195.74\" cy=\"131.591\" r=\"14.4\" fill=\"#009af9\" fill-rule=\"evenodd\" fill-opacity=\"1\" stroke=\"#000000\" stroke-opacity=\"1\" stroke-width=\"3.2\"/>\n",
       "<circle clip-path=\"url(#clip012)\" cx=\"2244.81\" cy=\"131.834\" r=\"14.4\" fill=\"#009af9\" fill-rule=\"evenodd\" fill-opacity=\"1\" stroke=\"#000000\" stroke-opacity=\"1\" stroke-width=\"3.2\"/>\n",
       "<circle clip-path=\"url(#clip012)\" cx=\"2293.87\" cy=\"132.059\" r=\"14.4\" fill=\"#009af9\" fill-rule=\"evenodd\" fill-opacity=\"1\" stroke=\"#000000\" stroke-opacity=\"1\" stroke-width=\"3.2\"/>\n",
       "<path clip-path=\"url(#clip010)\" d=\"M2022.93 1377.32 L2283.41 1377.32 L2283.41 1273.64 L2022.93 1273.64  Z\" fill=\"#ffffff\" fill-rule=\"evenodd\" fill-opacity=\"1\"/>\n",
       "<polyline clip-path=\"url(#clip010)\" style=\"stroke:#000000; stroke-linecap:round; stroke-linejoin:round; stroke-width:4; stroke-opacity:1; fill:none\" points=\"2022.93,1377.32 2283.41,1377.32 2283.41,1273.64 2022.93,1273.64 2022.93,1377.32 \"/>\n",
       "<circle clip-path=\"url(#clip010)\" cx=\"2115.4\" cy=\"1325.48\" r=\"20.48\" fill=\"#009af9\" fill-rule=\"evenodd\" fill-opacity=\"1\" stroke=\"#000000\" stroke-opacity=\"1\" stroke-width=\"4.55111\"/>\n",
       "<path clip-path=\"url(#clip010)\" d=\"M2221.7 1345.16 Q2219.9 1349.79 2218.18 1351.2 Q2216.47 1352.62 2213.6 1352.62 L2210.2 1352.62 L2210.2 1349.05 L2212.7 1349.05 Q2214.46 1349.05 2215.43 1348.22 Q2216.4 1347.38 2217.58 1344.28 L2218.35 1342.34 L2207.86 1316.83 L2212.37 1316.83 L2220.48 1337.11 L2228.58 1316.83 L2233.09 1316.83 L2221.7 1345.16 Z\" fill=\"#000000\" fill-rule=\"nonzero\" fill-opacity=\"1\" /><path clip-path=\"url(#clip010)\" d=\"M2240.38 1338.82 L2248.02 1338.82 L2248.02 1312.45 L2239.71 1314.12 L2239.71 1309.86 L2247.98 1308.2 L2252.65 1308.2 L2252.65 1338.82 L2260.29 1338.82 L2260.29 1342.76 L2240.38 1342.76 L2240.38 1338.82 Z\" fill=\"#000000\" fill-rule=\"nonzero\" fill-opacity=\"1\" /></svg>\n"
      ]
     },
     "execution_count": 181,
     "metadata": {},
     "output_type": "execute_result"
    }
   ],
   "source": [
    "scatter(Bs, 1e-3 .* averaged_forces .* (ħ * k * Γ / m),\n",
    "    xlabel=\"Magnetic field (G)\",\n",
    "    ylabel=\"a (10³ m/s²)\",\n",
    "    framestyle=:box,\n",
    "    linewidth=2.5,\n",
    "    # labelfontsize=14,\n",
    "    # tickfont=12,\n",
    "    # legendfont=11,\n",
    "    # ylim=(-3,23),\n",
    "    # size=(600,500)\n",
    "    )"
   ]
  },
  {
   "cell_type": "code",
   "execution_count": 182,
   "id": "d1a7448c-d44c-4628-93c2-a495976e7c1c",
   "metadata": {},
   "outputs": [
    {
     "name": "stdout",
     "output_type": "stream",
     "text": [
      "  0.062376 seconds (48.02 k allocations: 4.264 MiB, 97.41% compilation time)\n"
     ]
    }
   ],
   "source": [
    "averaged_populations = []\n",
    "@time for (i,B) ∈ enumerate(Bs)\n",
    "    idxs = [j for (j,x) ∈ enumerate(scan_values_grid) if x.B == B]\n",
    "    push!(averaged_populations, mean([p for p in populations[idxs,:]], dims=1))\n",
    "end"
   ]
  },
  {
   "cell_type": "code",
   "execution_count": 20,
   "id": "c0c655f2",
   "metadata": {},
   "outputs": [
    {
     "data": {
      "text/latex": [
       "$$1.0\\left|L=0, N=1, M=0\\right\\rangle$$\n"
      ],
      "text/plain": [
       "State{AngularMomentumState_Labelled}(0.0, AngularMomentumState_Labelled[AngularMomentumState_Labelled(0.0, 0, 1, -1, (M = -1:1,)), AngularMomentumState_Labelled(0.0, 0, 1, 0, (M = -1:1,)), AngularMomentumState_Labelled(0.0, 0, 1, 1, (M = -1:1,)), AngularMomentumState_Labelled(0.0, 1, 1, -1, (M = -1:1,)), AngularMomentumState_Labelled(0.0, 1, 1, 0, (M = -1:1,)), AngularMomentumState_Labelled(0.0, 1, 1, 1, (M = -1:1,))], ComplexF64[0.0 + 0.0im, 1.0 + 0.0im, 0.0 + 0.0im, 0.0 + 0.0im, 0.0 + 0.0im, 0.0 + 0.0im], 2)"
      ]
     },
     "execution_count": 20,
     "metadata": {},
     "output_type": "execute_result"
    }
   ],
   "source": [
    "prob.p.states[2]"
   ]
  },
  {
   "cell_type": "code",
   "execution_count": 21,
   "id": "d84313b5",
   "metadata": {},
   "outputs": [
    {
     "data": {
      "text/latex": [
       "$$1.0\\left|L=1, N=1, M=-1\\right\\rangle$$\n"
      ],
      "text/plain": [
       "State{AngularMomentumState_Labelled}(7.46875e7, AngularMomentumState_Labelled[AngularMomentumState_Labelled(0.0, 0, 1, -1, (M = -1:1,)), AngularMomentumState_Labelled(0.0, 0, 1, 0, (M = -1:1,)), AngularMomentumState_Labelled(0.0, 0, 1, 1, (M = -1:1,)), AngularMomentumState_Labelled(0.0, 1, 1, -1, (M = -1:1,)), AngularMomentumState_Labelled(0.0, 1, 1, 0, (M = -1:1,)), AngularMomentumState_Labelled(0.0, 1, 1, 1, (M = -1:1,))], ComplexF64[0.0 + 0.0im, 0.0 + 0.0im, 0.0 + 0.0im, 1.0 + 0.0im, 0.0 + 0.0im, 0.0 + 0.0im], 4)"
      ]
     },
     "execution_count": 21,
     "metadata": {},
     "output_type": "execute_result"
    }
   ],
   "source": [
    "prob.p.states[4]"
   ]
  },
  {
   "cell_type": "code",
   "execution_count": 22,
   "id": "7d27f5c6",
   "metadata": {},
   "outputs": [
    {
     "data": {
      "text/plain": [
       "6×1 adjoint(::Matrix{Float64}) with eltype Float64:\n",
       " 0.06657220969459081\n",
       " 0.5813993069728773\n",
       " 0.3271908762272843\n",
       " 0.0076846467657698736\n",
       " 0.0045008786927672705\n",
       " 0.012652081646711154"
      ]
     },
     "execution_count": 22,
     "metadata": {},
     "output_type": "execute_result"
    }
   ],
   "source": [
    "averaged_populations[4]'"
   ]
  },
  {
   "cell_type": "code",
   "execution_count": 23,
   "id": "f8d1e071",
   "metadata": {},
   "outputs": [
    {
     "name": "stdout",
     "output_type": "stream",
     "text": [
      "Real part:\n",
      "0 0 0 0 0 0 \n",
      "0 0 0 0.71 0 0 \n",
      "0 0 0 0 0.71 0 \n",
      "0 0.71 0 0 0 0 \n",
      "0 0 0.71 0 0 0 \n",
      "0 0 0 0 0 0 \n",
      "\n",
      "Imaginary part:\n",
      "0 0 0 0 0 0 \n",
      "0 0 0 0 0 0 \n",
      "0 0 0 0 0 0 \n",
      "0 0 0 0 0 0 \n",
      "0 0 0 0 0 0 \n",
      "0 0 0 0 0 0 \n"
     ]
    }
   ],
   "source": [
    "d[:,:,1] |> print_matrix"
   ]
  },
  {
   "cell_type": "code",
   "execution_count": 24,
   "id": "69bf7296-dec3-4822-886c-339f577e0d52",
   "metadata": {},
   "outputs": [
    {
     "data": {
      "text/plain": [
       "15.0"
      ]
     },
     "execution_count": 24,
     "metadata": {},
     "output_type": "execute_result"
    }
   ],
   "source": [
    "Bs[4]"
   ]
  },
  {
   "cell_type": "code",
   "execution_count": 25,
   "id": "31f48782-746a-48db-92ea-79c2ab2bcb97",
   "metadata": {},
   "outputs": [
    {
     "data": {
      "text/latex": [
       "$$1.0\\left|L=1, N=1, M=-1\\right\\rangle$$\n"
      ],
      "text/plain": [
       "State{AngularMomentumState_Labelled}(4.78e14, AngularMomentumState_Labelled[AngularMomentumState_Labelled(0.0, 0, 1, -1, (M = -1:1,)), AngularMomentumState_Labelled(0.0, 0, 1, 0, (M = -1:1,)), AngularMomentumState_Labelled(0.0, 0, 1, 1, (M = -1:1,)), AngularMomentumState_Labelled(0.0, 1, 1, -1, (M = -1:1,)), AngularMomentumState_Labelled(0.0, 1, 1, 0, (M = -1:1,)), AngularMomentumState_Labelled(0.0, 1, 1, 1, (M = -1:1,))], ComplexF64[0.0 + 0.0im, 0.0 + 0.0im, 0.0 + 0.0im, 1.0 + 0.0im, 0.0 + 0.0im, 0.0 + 0.0im], 4)"
      ]
     },
     "execution_count": 25,
     "metadata": {},
     "output_type": "execute_result"
    }
   ],
   "source": [
    "H.states[4]"
   ]
  },
  {
   "cell_type": "code",
   "execution_count": 26,
   "id": "fd598175-31e5-404f-ad2e-15292606eec9",
   "metadata": {},
   "outputs": [
    {
     "data": {
      "text/plain": [
       "6×1 adjoint(::Matrix{Float64}) with eltype Float64:\n",
       " 0.06657220969459081\n",
       " 0.5813993069728773\n",
       " 0.3271908762272843\n",
       " 0.0076846467657698736\n",
       " 0.0045008786927672705\n",
       " 0.012652081646711154"
      ]
     },
     "execution_count": 26,
     "metadata": {},
     "output_type": "execute_result"
    }
   ],
   "source": [
    "averaged_populations[4]'"
   ]
  },
  {
   "cell_type": "code",
   "execution_count": 27,
   "id": "175fc735",
   "metadata": {},
   "outputs": [
    {
     "data": {
      "text/plain": [
       "5"
      ]
     },
     "execution_count": 27,
     "metadata": {},
     "output_type": "execute_result"
    }
   ],
   "source": [
    "findmax([0,0,0,0,1,0,0,0])[2]"
   ]
  },
  {
   "cell_type": "code",
   "execution_count": 28,
   "id": "34392815",
   "metadata": {},
   "outputs": [
    {
     "data": {
      "text/plain": [
       "6-element Vector{Float64}:\n",
       " 0.0\n",
       " 0.0\n",
       " 0.0\n",
       " 4.78e14\n",
       " 4.78e14\n",
       " 4.78e14"
      ]
     },
     "execution_count": 28,
     "metadata": {},
     "output_type": "execute_result"
    }
   ],
   "source": [
    "energy.(H.states)"
   ]
  },
  {
   "cell_type": "code",
   "execution_count": 29,
   "id": "adaf6c2c",
   "metadata": {},
   "outputs": [],
   "source": [
    "using\n",
    "    QuantumStates,\n",
    "    OpticalBlochEquations,\n",
    "    DifferentialEquations,\n",
    "    UnitsToValue,\n",
    "    LinearAlgebra,\n",
    "    Revise,\n",
    "StaticArrays\n",
    ";\n",
    "\n",
    "import MutableNamedTuples: MutableNamedTuple\n",
    "import StructArrays: StructArray, StructVector\n",
    "import StaticArrays: @SVector\n",
    "import LinearAlgebra: norm, ⋅, adjoint!, diag\n",
    "import LoopVectorization: @turbo\n",
    "\n",
    "using Parameters\n",
    "\n",
    "import ProgressMeter: Progress, next!\n",
    "\n",
    "\n",
    "\n",
    "function N!(dN, N, rate_eq, τ)\n",
    "    @unpack H,Hv, N0, N0_vec, ω, states, fields, r, v, Γ, λ, k, freq_res, d, R, v_prev, particle, extra_p= rate_eq\n",
    "    if v_prev != v\n",
    "        particle.v = v\n",
    "        new_rate_eq = rate_equation(N0, particle, states, fields, d, d, true, true,λ, Γ, freq_res, extra_p)\n",
    "        rate_eq.H = new_rate_eq.H\n",
    "        rate_eq.Hv = new_rate_eq.Hv\n",
    "        rate_eq.R = new_rate_eq.R\n",
    "        rate_eq.v_prev = v\n",
    "    end\n",
    "    n_states = length(states)\n",
    "    n_fields = length(fields)\n",
    "    type_complex = ComplexF64\n",
    "    n_l = extra_p.n_ground\n",
    "    n_u = n_states - n_l\n",
    "    n_fields = length(fields)\n",
    "    \n",
    "\n",
    "    dN[:] .= 0.0\n",
    "    \n",
    "    # update dN\n",
    "\n",
    "    dN[1:n_states] += H * N[1:n_states]\n",
    "\n",
    "    \n",
    "    # update integrated population\n",
    "    dN[n_states+1 : end-3] = N[1:n_states]\n",
    "\n",
    "    \n",
    "    row_of_1 = StructArray(ones(type_complex, 1,n_states))\n",
    "\n",
    "    # update force\n",
    "    for p in 1:1:n_fields\n",
    "    dN[end-2:end] += fields[p].k * (row_of_1 * Hv[:,:,p] * N[1:n_states])[1]\n",
    "    end\n",
    "\n",
    "    return nothing\n",
    "end\n",
    "\n",
    "\n",
    "function rate_equation(N0, particle, states, fields, d, d_m, should_round_freqs, alway_true, λ=1.0, Γ=2π, freq_res=1e-2, extra_p=nothing)\n",
    "\n",
    "    period = 2π / freq_res\n",
    "\n",
    "    n_states = length(states)\n",
    "    n_fields = length(fields)\n",
    "\n",
    "    states = StructArray(states)\n",
    "    if n_fields > 0\n",
    "        fields = StructArray(fields)\n",
    "    end\n",
    "    \n",
    "    k = 2π / λ\n",
    "    # particle.r0 *= 2π #(1 / k)  # `r` is in units of 1/k\n",
    "    # particle.v /= (Γ / k) # velocity is in units of Γ/k\n",
    "    # Convert to angular frequencies\n",
    "    for i ∈ eachindex(fields)\n",
    "        fields.ω[i] /= Γ\n",
    "    end\n",
    "    for i ∈ eachindex(states)\n",
    "        states.E[i] *= 2π\n",
    "        states.E[i] /= Γ\n",
    "    end\n",
    "\n",
    "    if should_round_freqs\n",
    "        round_freqs!(states, fields, freq_res)\n",
    "        particle.v = round_vel(particle.v, freq_res)\n",
    "    end\n",
    "\n",
    "    r0 = particle.r0\n",
    "    r = particle.r\n",
    "    v = particle.v\n",
    "    v_prev = particle.v\n",
    "\n",
    "    type_complex = ComplexF64\n",
    "\n",
    "\n",
    "    ω = [state.E for state ∈ states]\n",
    "    force_last_period = SVector(0.0, 0.0, 0.0)\n",
    "\n",
    "    # matrix that updates populations:\n",
    "    H = StructArray( zeros(type_complex, n_states, n_states) )\n",
    "    n_l = extra_p.n_ground\n",
    "    n_u = n_states - n_l\n",
    "    n_fields = length(fields)\n",
    "\n",
    "    # define R \n",
    "    R = StructArray(zeros(type_complex, n_l, n_u, n_fields))\n",
    "    for p in 1:1:n_fields\n",
    "        pol = fields[p].ϵ(0) #spherical\n",
    "        # pol_cart = [(pol[1]-pol[3])/sqrt(2), (pol[1]+pol[3])/sqrt(2)*(-1im), pol[2]]\n",
    "        for i in 1:1:n_l\n",
    "            for j in 1:1:n_u\n",
    "                ω_ij = energy(states[n_l + j]) - energy(states[i])\n",
    "                ω_p = fields[p].ω\n",
    "                doppler = 2π*fields[p].k ⋅ v\n",
    "                f = -1 * pol[1]*d[i,n_l + j,3] + 1*pol[2]*d[i,n_l + j,2] - 1*pol[3]*d[i,n_l + j,1] \n",
    "                R[i,j,p] = 1/2 * real(f*conj(f)) * fields[p].s / (1 + 4*(ω_p - ω_ij - doppler)^2)\n",
    "            end\n",
    "        end\n",
    "    end\n",
    "\n",
    "    \n",
    "    X = StructArray( zeros(type_complex, n_l, n_l, n_fields))\n",
    "    for p in 1:1:n_fields\n",
    "        for i in 1:1:n_l\n",
    "            X[i,i,p] = sum(R[i,:,p])\n",
    "        end\n",
    "    end\n",
    "\n",
    "    Y = StructArray(zeros(type_complex, n_u, n_u, n_fields))\n",
    "    for p in 1:1:n_fields\n",
    "        for j in 1:1:n_u\n",
    "            Y[j,j,p] = sum(R[:,j,p])\n",
    "        end\n",
    "    end\n",
    "\n",
    "    # define r (branching ratio of spontaneous decay)\n",
    "    r = StructArray(zeros(type_complex, n_l, n_u))\n",
    "    for i in 1:1:n_l \n",
    "        for j in 1:1:n_u \n",
    "            r[i,j] = norm(d[i,n_l + j,1])^2 + norm(d[i,n_l + j,2])^2 + norm(d[i,n_l + j,3])^2 \n",
    "        end\n",
    "    end\n",
    "\n",
    "    # make sure population is conserved --- decay into lower = decay out from upper\n",
    "    for j in 1:1:n_u\n",
    "#         print( sum(r[:,j]))\n",
    "        r[:,j] = r[:,j]./ sum(r[:,j])\n",
    "    end\n",
    "\n",
    "    id_l = Matrix((1.0+0im)LinearAlgebra.I, n_l, n_l)\n",
    "    id_u = Matrix((1.0+0im)LinearAlgebra.I, n_u, n_u)\n",
    "\n",
    "    H = StructArray(zeros(type_complex, n_states, n_states))\n",
    "    for p in 1:1:n_fields\n",
    "        H[1:n_l, 1:n_l] += -X[:,:,p]\n",
    "        H[1:n_l, n_l+1:n_states] += R[:,:,p]\n",
    "        H[n_l+1: n_states, 1:n_l] += transpose(R[:,:,p])\n",
    "        H[n_l+1: n_states, n_l+1: n_states] += -Y[:,:,p]\n",
    "    end\n",
    "\n",
    "    \n",
    "    H[1:n_l, n_l+1:n_states] += r[:,:]\n",
    "    H[n_l+1:n_states, n_l+1:n_states] += -id_u\n",
    "\n",
    "    # update matrix for force\n",
    "    Hv = StructArray(zeros(type_complex, n_states, n_states, n_fields))\n",
    "    for p in 1:1:n_fields\n",
    "        Hv[1:n_l, n_l+1:n_states, p] = -R[:,:,p]\n",
    "        Hv[n_l+1:end, 1:n_l, p] = transpose(R[:,:,p])\n",
    "    end\n",
    "\n",
    "    N0_vec=[N0; N0; 0;0;0]\n",
    "    populations = N0[:];\n",
    "\n",
    "    p = MutableNamedTuple(\n",
    "        H=H, Hv=Hv, particle=particle, N0=N0, N0_vec=N0_vec, ω=ω,\n",
    "        states=states, fields=fields, r0=r0, r=r, v=v, Γ=Γ, λ=λ,\n",
    "        period=period, k=k, freq_res=freq_res,\n",
    "        force_last_period=force_last_period, \n",
    "        d=d, \n",
    "        extra_p=extra_p, R=R, populations= populations, v_prev=v)\n",
    "\n",
    "    return p\n",
    "end\n",
    "function round_freqs!(states, fields, freq_res)\n",
    "    \"\"\"\n",
    "    Rounds frequencies of state energies and fields by a common denominator.\n",
    "    \n",
    "    freq_res::Float: all frequencies are rounded by this value (in units of Γ)\n",
    "    \"\"\"\n",
    "    for i in eachindex(fields)\n",
    "        fields.ω[i] = round_freq(fields.ω[i], freq_res)\n",
    "    end\n",
    "    for i in eachindex(states)\n",
    "        states.E[i] = round_freq(states.E[i], freq_res)\n",
    "    end\n",
    "    return nothing\n",
    "end\n",
    "\n",
    "\n",
    "function reset_force1!(integrator)\n",
    "    force_current_period = integrator.u[end-2:end] / integrator.p.period\n",
    "    force_diff = abs(norm(force_current_period) - norm(integrator.p.force_last_period))\n",
    "    force_diff_rel = force_diff / norm(integrator.p.force_last_period)\n",
    "    integrator.p.force_last_period = force_current_period\n",
    "    \n",
    "    n = length(integrator.p.states)\n",
    "    integrator.p.populations .= integrator.u[n+1:end-3] / integrator.p.period\n",
    "\n",
    "    force_reltol = 1e-4\n",
    "    if (force_diff_rel < force_reltol) #|| (force_diff < 1e-6)\n",
    "        terminate!(integrator)\n",
    "    else\n",
    "        integrator.u[end-2:end] .= 0.0\n",
    "        integrator.u[n+1:end-3] .= 0.0\n",
    "    end\n",
    "    return nothing\n",
    "end\n",
    "\n",
    "\n",
    "function force_scan_v3(prob::T1, scan_values::T2, prob_func!::F1, output_func::F2; n_threads=Threads.nthreads()) where {T1,T2,F1,F2}\n",
    "\n",
    "    n_values = reduce(*, size(scan_values))\n",
    "    batch_size = fld(n_values, n_threads)\n",
    "    remainder = n_values - batch_size * n_threads\n",
    "    forces = Array{SVector{3, Float64}}(undef, n_values)\n",
    "    populations = zeros(Float64, n_values, length(prob.p.states))\n",
    "\n",
    "    prog_bar = Progress(n_values)\n",
    "\n",
    "    Threads.@threads for i ∈ 1:n_threads\n",
    "        prob_copy = deepcopy(prob)\n",
    "        # Threads.@spawn begin\n",
    "            # prob_func!(_prob, scan_values, i)\n",
    "        force_cb = PeriodicCallback(reset_force1!, prob_copy.p.period)\n",
    "        if :callback ∈ keys(prob_copy.kwargs)\n",
    "            cbs = prob_copy.kwargs[:callback]\n",
    "            prob_copy = remake(prob_copy, callback=CallbackSet(cbs, force_cb))\n",
    "        else\n",
    "            prob_copy = remake(prob_copy, callback=force_cb)\n",
    "        end\n",
    "        _batch_size = i <= remainder ? (batch_size + 1) : batch_size\n",
    "        batch_start_idx = 1 + (i <= remainder ? (i - 1) : remainder) + batch_size * (i-1)\n",
    "        for j ∈ batch_start_idx:(batch_start_idx + _batch_size - 1)\n",
    "            prob_j = prob_func!(prob_copy, scan_values, j)\n",
    "            sol = solve(prob_j, alg=DP5())\n",
    "            forces[j] = output_func(prob_j.p, sol)\n",
    "            prob_j.p.force_last_period = (0, 0, 0)\n",
    "\n",
    "            populations[j,:] .= prob_j.p.populations\n",
    "\n",
    "            next!(prog_bar)\n",
    "        end\n",
    "    end\n",
    "    return forces, populations\n",
    "end;\n",
    "\n",
    "# update the whole hamiltonian.\n",
    "function remake_rate_equation_B(p, B)\n",
    "    λ = p.λ\n",
    "    Γ = p.Γ\n",
    " \n",
    "    \n",
    " \n",
    "    freq_res = p.freq_res\n",
    "    \n",
    "    # Update magnetic field\n",
    "    H = p.extra_p.H\n",
    "    H.parameters.B_z = B\n",
    "    evaluate!(H)\n",
    "    QuantumStates.solve!(H)\n",
    "    \n",
    "    # Update transition dipole moments\n",
    "    update_basis_tdms!(H)\n",
    "    update_tdms!(H)\n",
    "    new_d = H.tdms\n",
    "    \n",
    "    states = H.states\n",
    "    lasers = p.extra_p.lasers\n",
    "    \n",
    "    new_p = rate_equation(p.N0, p.particle, states, p.extra_p.lasers, new_d, new_d, true, true, λ, Γ, freq_res, extra_p)\n",
    "    return new_p\n",
    "end;"
   ]
  },
  {
   "cell_type": "code",
   "execution_count": null,
   "id": "a3cbe0b4",
   "metadata": {},
   "outputs": [],
   "source": []
  }
 ],
 "metadata": {
  "kernelspec": {
   "display_name": "Julia (20 threads) 1.9.2",
   "language": "julia",
   "name": "julia-_20-threads_-1.9"
  },
  "language_info": {
   "file_extension": ".jl",
   "mimetype": "application/julia",
   "name": "julia",
   "version": "1.9.2"
  }
 },
 "nbformat": 4,
 "nbformat_minor": 5
}
