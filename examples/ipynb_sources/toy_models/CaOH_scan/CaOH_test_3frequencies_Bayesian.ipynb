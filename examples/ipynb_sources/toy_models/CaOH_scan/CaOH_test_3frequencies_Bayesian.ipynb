{
 "cells": [
  {
   "cell_type": "code",
   "execution_count": 1,
   "id": "eb68f43c-512c-49e4-b9ae-e0ead28ff26c",
   "metadata": {},
   "outputs": [],
   "source": [
    "using Revise"
   ]
  },
  {
   "cell_type": "code",
   "execution_count": 2,
   "id": "95aa508f-186f-41d9-9dee-7045b9117fa1",
   "metadata": {},
   "outputs": [
    {
     "name": "stderr",
     "output_type": "stream",
     "text": [
      "WARNING: Method definition Zeeman_x(Any, Any) in module Main at G:\\My Drive\\github\\OpticalBlochEquations\\examples\\ipynb_sources\\toy_models\\CaOH_scan\\CaOH_scan_helper_v2_imbalance.jl:62 overwritten at G:\\My Drive\\github\\OpticalBlochEquations\\examples\\ipynb_sources\\toy_models\\CaOH_scan\\CaOH_scan_helper_v2_imbalance.jl:135.\n",
      "WARNING: Method definition Zeeman_y(Any, Any) in module Main at G:\\My Drive\\github\\OpticalBlochEquations\\examples\\ipynb_sources\\toy_models\\CaOH_scan\\CaOH_scan_helper_v2_imbalance.jl:63 overwritten at G:\\My Drive\\github\\OpticalBlochEquations\\examples\\ipynb_sources\\toy_models\\CaOH_scan\\CaOH_scan_helper_v2_imbalance.jl:136.\n",
      "WARNING: Method definition Zeeman_z(Any, Any) in module Main at G:\\My Drive\\github\\OpticalBlochEquations\\examples\\ipynb_sources\\toy_models\\CaOH_scan\\CaOH_scan_helper_v2_imbalance.jl:64 overwritten at G:\\My Drive\\github\\OpticalBlochEquations\\examples\\ipynb_sources\\toy_models\\CaOH_scan\\CaOH_scan_helper_v2_imbalance.jl:137.\n"
     ]
    }
   ],
   "source": [
    "using\n",
    "    QuantumStates,\n",
    "    OpticalBlochEquations,\n",
    "    DifferentialEquations,\n",
    "    UnitsToValue,\n",
    "    LinearAlgebra,\n",
    "    Printf,\n",
    "    Plots,\n",
    "    Random,\n",
    "    StatsBase\n",
    ";\n",
    "\n",
    "using Distributions\n",
    "\n",
    "import MutableNamedTuples: MutableNamedTuple\n",
    "import StructArrays: StructArray, StructVector\n",
    "import StaticArrays: @SVector, SVector\n",
    "import LinearAlgebra: norm, ⋅, adjoint!, diag\n",
    "import LoopVectorization: @turbo\n",
    "using BenchmarkTools\n",
    "using Parameters\n",
    "using LsqFit\n",
    "\n",
    "import ProgressMeter: Progress, next!\n",
    "\n",
    "const λ = 626e-9\n",
    "const Γ = 2π* 6.4e6\n",
    "const m = @with_unit 57 \"u\"\n",
    "const k = 2π / λ\n",
    "_μB = (μ_B / h) * 1e-4;\n",
    "\n",
    "include(\"CaOH_scan_helper_v2_imbalance.jl\")\n",
    ";"
   ]
  },
  {
   "cell_type": "code",
   "execution_count": 3,
   "id": "de4dbeed-384d-491d-9257-f185a577b5ae",
   "metadata": {},
   "outputs": [],
   "source": [
    "function survived(t_end, times, trajectories)\n",
    "    _survived = Int64[]\n",
    "    for i ∈ eachindex(trajectories)\n",
    "        if abs(times[i][end] - t_end*1e3) <= 1.0\n",
    "            push!(_survived, i)\n",
    "        end\n",
    "    end\n",
    "    return _survived\n",
    "end\n",
    "\n",
    "function cloud_size(trajectories, i)\n",
    "    std(trajectory[i] for trajectory ∈ trajectories)\n",
    "end\n",
    "\n",
    "\"\"\"\n",
    "    Evaluates the density given a set of trajectories.\n",
    "\"\"\"\n",
    "function density(t_end, results)\n",
    "    \n",
    "    times, x_trajectories, y_trajectories, z_trajectories = results.times, results.x_trajectories, results.y_trajectories, results.z_trajectories\n",
    "    \n",
    "    # Sample number of photons before the molecule is lost to vibrational dark state\n",
    "    n_molecules = length(times)\n",
    "    \n",
    "    _survived = survived(t_end, times, x_trajectories)\n",
    "    println(_survived)\n",
    "    \n",
    "    surviving_x_trajectories = x_trajectories[_survived]\n",
    "    surviving_y_trajectories = y_trajectories[_survived]\n",
    "    surviving_z_trajectories = z_trajectories[_survived]\n",
    "    \n",
    "    n = length(_survived)\n",
    "    _density = Float64(n)\n",
    "    if n > 1\n",
    "        idx_end = length(surviving_x_trajectories[1])\n",
    "        σ_x = cloud_size(surviving_x_trajectories, idx_end)\n",
    "        σ_y = cloud_size(surviving_y_trajectories, idx_end)\n",
    "        σ_z = cloud_size(surviving_z_trajectories, idx_end)\n",
    "        _density /= σ_x * σ_y * σ_z\n",
    "    end\n",
    "    return _density\n",
    "end\n",
    "\n",
    "function distance(x_trajectory, y_trajectory, z_trajectory, idx)\n",
    "    return sqrt(x_trajectory[idx]^2 + y_trajectory[idx]^2 + z_trajectory[idx]^2)\n",
    "end\n",
    "\n",
    "\"\"\"\n",
    "    Evaluates how many particles are within a 0.3 mm radius.\n",
    "\"\"\"\n",
    "function goodness(t_end, results)\n",
    "    \n",
    "    times, x_trajectories, y_trajectories, z_trajectories = results.times, results.x_trajectories, results.y_trajectories, results.z_trajectories\n",
    "    \n",
    "    # Sample number of photons before the molecule is lost to vibrational dark state\n",
    "    n_molecules = length(times)\n",
    "    \n",
    "    _survived = survived(t_end, times, x_trajectories)\n",
    "    @printf(\"Survival: %i / %i\", length(_survived), n_molecules)\n",
    "    println()\n",
    "    \n",
    "    surviving_x_trajectories = x_trajectories[_survived]\n",
    "    surviving_y_trajectories = y_trajectories[_survived]\n",
    "    surviving_z_trajectories = z_trajectories[_survived]\n",
    "    \n",
    "    n = 0\n",
    "    for survived_idx ∈ _survived\n",
    "        idx_end = length(x_trajectories[survived_idx])\n",
    "        r = distance(x_trajectories[survived_idx], y_trajectories[survived_idx], z_trajectories[survived_idx], idx_end)\n",
    "        if r > 1.0\n",
    "            n += 0.0\n",
    "        elseif r > 0.5\n",
    "            n += 0.1 * exp(-results.photons_scattered[survived_idx]/14000)\n",
    "        elseif r > 0.3\n",
    "            n += (0.6 - r)* exp(-results.photons_scattered[survived_idx]/14000)\n",
    "        elseif r <= 0.3\n",
    "            n += ((0.3 - r) * 3 + 0.3) * exp(-results.photons_scattered[survived_idx]/14000)\n",
    "        end\n",
    "    end\n",
    "    return n/n_molecules\n",
    "end\n",
    ";"
   ]
  },
  {
   "cell_type": "markdown",
   "id": "e4453cb6-d6f1-4d9c-b8f6-1add3157ae21",
   "metadata": {},
   "source": [
    "### Set up the molecule"
   ]
  },
  {
   "cell_type": "code",
   "execution_count": 4,
   "id": "18ccd92a-51ee-4774-af90-92e948637eca",
   "metadata": {},
   "outputs": [],
   "source": [
    "package = get_CaOH_package()\n",
    "n_states = length(package.states)\n",
    "n_excited = package.n_excited\n",
    ";"
   ]
  },
  {
   "cell_type": "code",
   "execution_count": 5,
   "id": "6eec7ca6-a7a8-4731-a3b0-229dd6220dc0",
   "metadata": {},
   "outputs": [],
   "source": [
    "\n",
    "\"\"\"\n",
    "    Function to optimize (density).\n",
    "\"\"\"\n",
    "function f(x)\n",
    "    s1 = x[1]\n",
    "    s3 = x[2]\n",
    "    s4 = x[3]\n",
    "    Δ1 = x[4]*Γ\n",
    "    Δ3 = Δ1\n",
    "    Δ4 = x[5]*Γ\n",
    "    ramp_time = 10e-3;#x[6]*1e-3\n",
    "    B_gradient = -60 #-x[6]\n",
    "\n",
    "    temp = @with_unit 0.050 \"mK\"\n",
    "    diameter = @with_unit 0.9 \"mm\"\n",
    "    displacement = [0.5, 0.5, 0.5].*1e-3\n",
    "    kick = [0,0, 0.0, 0.0]\n",
    "    \n",
    "    params = MutableNamedTuple(\n",
    "        t_end=20e-3, n_values=20,\n",
    "        pol1_x=σ⁻, pol2_x=σ⁺, pol3_x=σ⁺, pol4_x=σ⁻, \n",
    "        s1=s1, s2=0.0, s3=s3, s4=s4,\n",
    "        Δ1=Δ1, Δ2=0.0, Δ3=Δ3, Δ4=Δ4,\n",
    "        B_gradient=B_gradient,\n",
    "        temp=temp, \n",
    "        diameter=diameter,\n",
    "        displacement=displacement, \n",
    "        kick=kick,\n",
    "        ramp_time=ramp_time,\n",
    "        pol_imbalance=0.0, s_imbalance = (0.0, 0.0, 0.0), photon_budget=Inf)\n",
    "    \n",
    "    results = simulate_particles_v3(package, params, variable_budget=true)\n",
    "    \n",
    "    @printf(\"s1 = %.2f; s3 = %.2f; s4 = %.2f; Δ1=Δ3= %.2fΓ; Δ4 = %.2fΓ\",x[1], x[2], x[3], x[4], x[5])\n",
    "    println()\n",
    "    \n",
    "    _goodness = goodness(params.t_end, results)\n",
    "#     if _goodness > 0.2\n",
    "#         working_dir = \"C:\\\\Users\\\\halla\\\\OneDrive\\\\Desktop\\\\blueMOT_sim\\\\Bayesian\"\n",
    "#         test_i = log_test_info(working_dir,1,params)\n",
    "#         save_results(working_dir, test_i, results)\n",
    "#     end\n",
    "# #     println(results.photons_scattered)\n",
    "    \n",
    "    @printf(\"goodness = %.3f\", _goodness)\n",
    "    println()\n",
    "    \n",
    "    return _goodness\n",
    "end\n",
    ";    "
   ]
  },
  {
   "cell_type": "code",
   "execution_count": 6,
   "id": "3221d146-70a8-48f7-a39d-6283cfc80b1f",
   "metadata": {},
   "outputs": [
    {
     "name": "stderr",
     "output_type": "stream",
     "text": [
      "WARNING: using BayesianOptimization.Progress in module Main conflicts with an existing identifier.\n",
      "\u001b[33m\u001b[1m┌ \u001b[22m\u001b[39m\u001b[33m\u001b[1mWarning: \u001b[22m\u001b[39muse values(kwargs) and keys(kwargs) instead of kwargs.data and kwargs.itr\n",
      "\u001b[33m\u001b[1m│ \u001b[22m\u001b[39m  caller = #MAPGPOptimizer#19 at gp.jl:37 [inlined]\n",
      "\u001b[33m\u001b[1m└ \u001b[22m\u001b[39m\u001b[90m@ Core C:\\Users\\halla\\.julia\\packages\\BayesianOptimization\\nq1HY\\src\\models\\gp.jl:37\u001b[39m\n"
     ]
    }
   ],
   "source": [
    "using BayesianOptimization, GaussianProcesses\n",
    "\n",
    "model = ElasticGPE(5,                            # 6 input dimensions\n",
    "                   mean = MeanConst(1.),         \n",
    "                   kernel = SEArd([0.1, 0.1, 0.1, 0.1, 0.1], 5.),\n",
    "                   logNoise = 0.,\n",
    "                   capacity = 3000)              # the initial capacity of the GP is 3000 samples\n",
    "set_priors!(model.mean, [Normal(1, 1)])\n",
    "\n",
    "# Optimize the hyperparameters of the GP using maximum a posteriori (MAP) estimates every x steps\n",
    "modeloptimizer = MAPGPOptimizer(\n",
    "    every = 1, \n",
    "    noisebounds = [-3, 3], # bounds of the logNoise\n",
    "    kernbounds = [[-3, -3, -3, -3,-3, -5], [3, 3, 3, 3,3,5]],  # bounds of the parameters GaussianProcesses.get_param_names(model.kernel)\n",
    "    maxeval = 1000)\n",
    "\n",
    "opt = BOpt(f,\n",
    "           model,\n",
    "           ExpectedImprovement(),                   # type of acquisition\n",
    "           modeloptimizer,                        \n",
    "           [0.5, 0.5, 0.3, +0.5,-7.0],        # lowerbounds\n",
    "           [5.0, 5.0, 5.0, +6.0,-3.0],        # upperbounds         \n",
    "           repetitions = 1,                          # evaluate the function for each input x times\n",
    "           maxiterations = 25,                       # evaluate at x input positions\n",
    "           sense = Max,                              # maximize the function\n",
    "           acquisitionoptions = (method = :LD_LBFGS, # run optimization of acquisition function with NLopts :LD_LBFGS method\n",
    "                                 restarts = 5,       # run the NLopt method from x random initial conditions each time\n",
    "                                 maxtime = 1.0,      # run the NLopt method for at most 1.0 second each time\n",
    "                                 maxeval = 1000),    # run the NLopt methods for at most 1000 iterations (for other options see https://github.com/JuliaOpt/NLopt.jl)\n",
    "           verbosity = BayesianOptimization.Progress)\n",
    "\n",
    "# result = boptimize!(opt);\n",
    ";"
   ]
  },
  {
   "cell_type": "code",
   "execution_count": 7,
   "id": "66683d77",
   "metadata": {},
   "outputs": [],
   "source": [
    "using BayesianOptimization, GaussianProcesses\n",
    "using Serialization\n",
    "working_dir = \"C:\\\\Users\\\\halla\\\\OneDrive\\\\Desktop\\\\blueMOT_sim\\\\Bayesian\"\n",
    "opt_old = deserialize(joinpath(working_dir, \"opt_high_red_det.jl\"));\n",
    "opt.model = opt_old.model;\n",
    "opt.model_optimum = opt_old.model_optimum;\n",
    "opt.model_optimizer = opt_old.model_optimizer;\n",
    "opt.modeloptimizer = opt_old.modeloptimizer;\n",
    "opt.observed_optimum = opt_old.observed_optimum;\n",
    "opt.observed_optimizer = opt_old.observed_optimizer;\n",
    "opt.acquisition = opt_old.acquisition;\n",
    "opt.acquisitionoptions = opt_old.acquisitionoptions;"
   ]
  },
  {
   "cell_type": "code",
   "execution_count": null,
   "id": "514881da-2443-482a-9b9d-0d2649f743b0",
   "metadata": {},
   "outputs": [
    {
     "name": "stderr",
     "output_type": "stream",
     "text": [
      "\u001b[32mProgress: 100%|█████████████████████████████████████████| Time: 0:01:12\u001b[39m\n"
     ]
    },
    {
     "name": "stdout",
     "output_type": "stream",
     "text": [
      "s1 = 0.92; s3 = 2.61; s4 = 2.50; Δ1=Δ3= 4.11Γ; Δ4 = -5.88Γ\n",
      "Survival: 0 / 20\n",
      "goodness = 0.000\n"
     ]
    },
    {
     "name": "stderr",
     "output_type": "stream",
     "text": [
      "\u001b[32mProgress: 100%|█████████████████████████████████████████| Time: 0:01:53\u001b[39m\n"
     ]
    },
    {
     "name": "stdout",
     "output_type": "stream",
     "text": [
      "s1 = 3.17; s3 = 4.86; s4 = 4.85; Δ1=Δ3= 1.36Γ; Δ4 = -3.88Γ\n",
      "Survival: 19 / 20\n",
      "goodness = 0.060\n"
     ]
    },
    {
     "name": "stderr",
     "output_type": "stream",
     "text": [
      "\u001b[32mProgress: 100%|█████████████████████████████████████████| Time: 0:00:36\u001b[39m\n"
     ]
    },
    {
     "name": "stdout",
     "output_type": "stream",
     "text": [
      "s1 = 4.30; s3 = 1.48; s4 = 1.33; Δ1=Δ3= 5.48Γ; Δ4 = -4.88Γ\n",
      "Survival: 0 / 20\n",
      "goodness = 0.000\n"
     ]
    },
    {
     "name": "stderr",
     "output_type": "stream",
     "text": [
      "\u001b[32mProgress: 100%|█████████████████████████████████████████| Time: 0:01:04\u001b[39m\n"
     ]
    },
    {
     "name": "stdout",
     "output_type": "stream",
     "text": [
      "s1 = 2.05; s3 = 3.73; s4 = 3.68; Δ1=Δ3= 2.73Γ; Δ4 = -6.88Γ\n",
      "Survival: 16 / 20\n",
      "goodness = 0.165\n"
     ]
    },
    {
     "name": "stderr",
     "output_type": "stream",
     "text": [
      "\u001b[32mProgress: 100%|█████████████████████████████████████████| Time: 0:00:59\u001b[39m\n"
     ]
    },
    {
     "name": "stdout",
     "output_type": "stream",
     "text": [
      "s1 = 2.61; s3 = 0.92; s4 = 4.27; Δ1=Δ3= 2.05Γ; Δ4 = -6.38Γ\n",
      "Survival: 17 / 20\n",
      "goodness = 0.279\n"
     ]
    },
    {
     "name": "stderr",
     "output_type": "stream",
     "text": [
      "\u001b[32mProgress: 100%|█████████████████████████████████████████| Time: 0:00:53\u001b[39m\n"
     ]
    },
    {
     "name": "stdout",
     "output_type": "stream",
     "text": [
      "s1 = 4.86; s3 = 3.17; s4 = 1.92; Δ1=Δ3= 4.80Γ; Δ4 = -4.38Γ\n",
      "Survival: 12 / 20\n",
      "goodness = 0.039\n"
     ]
    },
    {
     "name": "stderr",
     "output_type": "stream",
     "text": [
      "\u001b[32mProgress: 100%|█████████████████████████████████████████| Time: 0:00:48\u001b[39m"
     ]
    },
    {
     "name": "stdout",
     "output_type": "stream",
     "text": [
      "s1 = 3.73; s3 = 2.05; s4 = 3.09; Δ1=Δ3= 0.67Γ; Δ4 = -3.38Γ\n"
     ]
    },
    {
     "name": "stderr",
     "output_type": "stream",
     "text": [
      "\n"
     ]
    },
    {
     "name": "stdout",
     "output_type": "stream",
     "text": [
      "Survival: 16 / 20\n",
      "goodness = 0.071\n"
     ]
    },
    {
     "name": "stderr",
     "output_type": "stream",
     "text": [
      "\u001b[32mProgress: 100%|█████████████████████████████████████████| Time: 0:00:44\u001b[39m\n"
     ]
    },
    {
     "name": "stdout",
     "output_type": "stream",
     "text": [
      "s1 = 1.48; s3 = 4.30; s4 = 0.74; Δ1=Δ3= 3.42Γ; Δ4 = -5.38Γ\n",
      "Survival: 13 / 20\n",
      "goodness = 0.125"
     ]
    },
    {
     "name": "stderr",
     "output_type": "stream",
     "text": [
      "\u001b[32mProgress:  20%|█████████                                |  ETA: 0:00:44\u001b[39m"
     ]
    },
    {
     "name": "stdout",
     "output_type": "stream",
     "text": [
      "\n"
     ]
    },
    {
     "name": "stderr",
     "output_type": "stream",
     "text": [
      "\u001b[32mProgress: 100%|█████████████████████████████████████████| Time: 0:00:19\u001b[39m"
     ]
    },
    {
     "name": "stdout",
     "output_type": "stream",
     "text": [
      "s1 = 1.20; s3 = 1.20; s4 = 2.80; Δ1=Δ3= 5.14Γ; Δ4 = -3.62Γ\n",
      "Survival: 0 / 20\n",
      "goodness = 0.000"
     ]
    },
    {
     "name": "stderr",
     "output_type": "stream",
     "text": [
      "\n"
     ]
    },
    {
     "name": "stdout",
     "output_type": "stream",
     "text": [
      "\n"
     ]
    },
    {
     "name": "stderr",
     "output_type": "stream",
     "text": [
      "\u001b[32mProgress: 100%|█████████████████████████████████████████| Time: 0:01:39\u001b[39m\n"
     ]
    },
    {
     "name": "stdout",
     "output_type": "stream",
     "text": [
      "s1 = 3.45; s3 = 3.45; s4 = 0.45; Δ1=Δ3= 2.39Γ; Δ4 = -5.62Γ\n",
      "Survival: 20 / 20\n",
      "goodness = 0.100\n"
     ]
    },
    {
     "name": "stderr",
     "output_type": "stream",
     "text": [
      "\u001b[32mProgress: 100%|█████████████████████████████████████████| Time: 0:02:08\u001b[39m\n"
     ]
    },
    {
     "name": "stdout",
     "output_type": "stream",
     "text": [
      "s1 = 4.58; s3 = 2.33; s4 = 3.97; Δ1=Δ3= 3.77Γ; Δ4 = -6.62Γ\n",
      "Survival: 17 / 20\n",
      "goodness = 0.211\n"
     ]
    },
    {
     "name": "stderr",
     "output_type": "stream",
     "text": [
      "\u001b[32mProgress: 100%|█████████████████████████████████████████| Time: 0:01:42\u001b[39m\n"
     ]
    },
    {
     "name": "stdout",
     "output_type": "stream",
     "text": [
      "s1 = 2.33; s3 = 4.58; s4 = 1.62; Δ1=Δ3= 1.02Γ; Δ4 = -4.62Γ\n",
      "Survival: 19 / 20\n",
      "goodness = 0.092\n"
     ]
    },
    {
     "name": "stderr",
     "output_type": "stream",
     "text": [
      "\u001b[32mProgress: 100%|█████████████████████████████████████████| Time: 0:01:10\u001b[39m\n"
     ]
    },
    {
     "name": "stdout",
     "output_type": "stream",
     "text": [
      "s1 = 1.77; s3 = 1.77; s4 = 1.03; Δ1=Δ3= 1.70Γ; Δ4 = -4.12Γ\n",
      "Survival: 10 / 20\n",
      "goodness = 0.066\n"
     ]
    },
    {
     "name": "stderr",
     "output_type": "stream",
     "text": [
      "\u001b[32mProgress: 100%|█████████████████████████████████████████| Time: 0:01:20\u001b[39m\n"
     ]
    },
    {
     "name": "stdout",
     "output_type": "stream",
     "text": [
      "s1 = 4.02; s3 = 4.02; s4 = 3.38; Δ1=Δ3= 4.45Γ; Δ4 = -6.12Γ\n",
      "Survival: 6 / 20\n",
      "goodness = 0.011\n"
     ]
    },
    {
     "name": "stderr",
     "output_type": "stream",
     "text": [
      "\u001b[32mProgress: 100%|█████████████████████████████████████████| Time: 0:00:57\u001b[39m\n"
     ]
    },
    {
     "name": "stdout",
     "output_type": "stream",
     "text": [
      "s1 = 2.89; s3 = 0.64; s4 = 2.21; Δ1=Δ3= 3.08Γ; Δ4 = -5.12Γ\n",
      "Survival: 14 / 20\n",
      "goodness = 0.292\n"
     ]
    },
    {
     "name": "stderr",
     "output_type": "stream",
     "text": [
      "\u001b[32mProgress: 100%|█████████████████████████████████████████| Time: 0:00:10\u001b[39m\n"
     ]
    },
    {
     "name": "stdout",
     "output_type": "stream",
     "text": [
      "s1 = 0.64; s3 = 2.89; s4 = 4.56; Δ1=Δ3= 5.83Γ; Δ4 = -3.12Γ\n",
      "Survival: 0 / 20\n",
      "goodness = 0.000\n"
     ]
    },
    {
     "name": "stderr",
     "output_type": "stream",
     "text": [
      "\u001b[32mProgress: 100%|█████████████████████████████████████████| Time: 0:00:39\u001b[39m\n"
     ]
    },
    {
     "name": "stdout",
     "output_type": "stream",
     "text": [
      "s1 = 0.71; s3 = 1.70; s4 = 3.60; Δ1=Δ3= 3.51Γ; Δ4 = -6.44Γ\n",
      "Survival: 1 / 20\n",
      "goodness = 0.007\n"
     ]
    },
    {
     "name": "stderr",
     "output_type": "stream",
     "text": [
      "\u001b[32mProgress: 100%|█████████████████████████████████████████| Time: 0:00:50\u001b[39m\n"
     ]
    },
    {
     "name": "stdout",
     "output_type": "stream",
     "text": [
      "s1 = 2.96; s3 = 3.95; s4 = 1.25; Δ1=Δ3= 0.76Γ; Δ4 = -4.44Γ\n",
      "Survival: 18 / 20\n",
      "goodness = 0.086\n"
     ]
    },
    {
     "name": "stderr",
     "output_type": "stream",
     "text": [
      "\u001b[32mProgress: 100%|█████████████████████████████████████████| Time: 0:00:17\u001b[39m\n"
     ]
    },
    {
     "name": "stdout",
     "output_type": "stream",
     "text": [
      "s1 = 4.09; s3 = 0.57; s4 = 4.78; Δ1=Δ3= 4.88Γ; Δ4 = -3.44Γ\n",
      "Survival: 0 / 20\n",
      "goodness = 0.000\n"
     ]
    },
    {
     "name": "stderr",
     "output_type": "stream",
     "text": [
      "\u001b[32mProgress: 100%|█████████████████████████████████████████| Time: 0:00:47\u001b[39m\n"
     ]
    },
    {
     "name": "stdout",
     "output_type": "stream",
     "text": [
      "s1 = 1.84; s3 = 2.82; s4 = 2.43; Δ1=Δ3= 2.13Γ; Δ4 = -5.44Γ\n",
      "Survival: 15 / 20\n",
      "goodness = 0.173\n"
     ]
    },
    {
     "name": "stderr",
     "output_type": "stream",
     "text": [
      "\u001b[32mProgress: 100%|█████████████████████████████████████████| Time: 0:00:47\u001b[39m\n"
     ]
    },
    {
     "name": "stdout",
     "output_type": "stream",
     "text": [
      "s1 = 2.40; s3 = 1.13; s4 = 0.67; Δ1=Δ3= 2.82Γ; Δ4 = -5.94Γ\n",
      "Survival: 15 / 20\n",
      "goodness = 0.199"
     ]
    },
    {
     "name": "stderr",
     "output_type": "stream",
     "text": [
      "\u001b[32mProgress:  55%|███████████████████████                  |  ETA: 0:00:12\u001b[39m"
     ]
    },
    {
     "name": "stdout",
     "output_type": "stream",
     "text": [
      "\n"
     ]
    },
    {
     "name": "stderr",
     "output_type": "stream",
     "text": [
      "\u001b[32mProgress: 100%|█████████████████████████████████████████| Time: 0:00:17\u001b[39m\n"
     ]
    },
    {
     "name": "stdout",
     "output_type": "stream",
     "text": [
      "s1 = 4.65; s3 = 3.38; s4 = 3.02; Δ1=Δ3= 5.57Γ; Δ4 = -3.94Γ\n",
      "Survival: 0 / 20\n",
      "goodness = 0.000\n"
     ]
    },
    {
     "name": "stderr",
     "output_type": "stream",
     "text": [
      "\u001b[32mProgress: 100%|█████████████████████████████████████████| Time: 0:00:47\u001b[39m\n"
     ]
    },
    {
     "name": "stdout",
     "output_type": "stream",
     "text": [
      "s1 = 3.52; s3 = 2.26; s4 = 1.84; Δ1=Δ3= 1.45Γ; Δ4 = -4.94Γ\n",
      "Survival: 15 / 20\n",
      "goodness = 0.113\n"
     ]
    },
    {
     "name": "stderr",
     "output_type": "stream",
     "text": [
      "\u001b[32mProgress: 100%|█████████████████████████████████████████| Time: 0:00:28\u001b[39m\n"
     ]
    },
    {
     "name": "stdout",
     "output_type": "stream",
     "text": [
      "s1 = 1.27; s3 = 4.51; s4 = 4.19; Δ1=Δ3= 4.20Γ; Δ4 = -6.94Γ\n",
      "Survival: 0 / 20\n",
      "goodness = 0.000\n"
     ]
    },
    {
     "name": "stderr",
     "output_type": "stream",
     "text": [
      "\u001b[32mProgress: 100%|█████████████████████████████████████████| Time: 0:00:21\u001b[39m\n"
     ]
    },
    {
     "name": "stdout",
     "output_type": "stream",
     "text": [
      "s1 = 1.55; s3 = 0.85; s4 = 1.55; Δ1=Δ3= 5.91Γ; Δ4 = -4.19Γ\n",
      "Survival: 0 / 20\n",
      "goodness = 0.000\n"
     ]
    },
    {
     "name": "stderr",
     "output_type": "stream",
     "text": [
      "\u001b[36m\u001b[1m┌ \u001b[22m\u001b[39m\u001b[36m\u001b[1mInfo: \u001b[22m\u001b[39m ────────────────────────────────────────────────────────────────────────────────\n",
      "\u001b[36m\u001b[1m│ \u001b[22m\u001b[39m                                        Time                    Allocations      \n",
      "\u001b[36m\u001b[1m│ \u001b[22m\u001b[39m                               ───────────────────────   ────────────────────────\n",
      "\u001b[36m\u001b[1m│ \u001b[22m\u001b[39m       Tot / % measured:            1390s / 100.0%           2.71GiB /  99.5%    \n",
      "\u001b[36m\u001b[1m│ \u001b[22m\u001b[39m\n",
      "\u001b[36m\u001b[1m│ \u001b[22m\u001b[39m Section               ncalls     time    %tot     avg     alloc    %tot      avg\n",
      "\u001b[36m\u001b[1m│ \u001b[22m\u001b[39m ────────────────────────────────────────────────────────────────────────────────\n",
      "\u001b[36m\u001b[1m│ \u001b[22m\u001b[39m function evaluation       25    1381s   99.3%   55.2s   1.56GiB   57.7%  63.9MiB\n",
      "\u001b[36m\u001b[1m│ \u001b[22m\u001b[39m model hyperparamet...      1    5.22s    0.4%   5.22s    488MiB   17.6%   488MiB\n",
      "\u001b[36m\u001b[1m│ \u001b[22m\u001b[39m acquisition                1    3.30s    0.2%   3.30s    627MiB   22.6%   627MiB\n",
      "\u001b[36m\u001b[1m│ \u001b[22m\u001b[39m model update               1    728ms    0.1%   728ms   56.0MiB    2.0%  56.0MiB\n",
      "\u001b[36m\u001b[1m└ \u001b[22m\u001b[39m ────────────────────────────────────────────────────────────────────────────────\n"
     ]
    },
    {
     "name": "stdout",
     "output_type": "stream",
     "text": [
      "===== Autosaved =====\n"
     ]
    },
    {
     "name": "stderr",
     "output_type": "stream",
     "text": [
      "\u001b[36m\u001b[1m[ \u001b[22m\u001b[39m\u001b[36m\u001b[1mInfo: \u001b[22m\u001b[39m2023-11-06T00:43:43.135\titeration: 25\tcurrent optimum: 0.44391115460051633\n",
      "\u001b[32mProgress:  95%|███████████████████████████████████████  |  ETA: 0:00:03\u001b[39m\r"
     ]
    },
    {
     "name": "stdout",
     "output_type": "stream",
     "text": [
      "s1 = 1.76; s3 = 4.11; s4 = 0.64; Δ1=Δ3= 2.02Γ; Δ4 = -5.36Γ\n",
      "Survival: 14 / 20\n",
      "goodness = 0.096\n"
     ]
    },
    {
     "name": "stderr",
     "output_type": "stream",
     "text": [
      "\u001b[32mProgress: 100%|█████████████████████████████████████████| Time: 0:00:53\u001b[39m\n",
      "\u001b[36m\u001b[1m[ \u001b[22m\u001b[39m\u001b[36m\u001b[1mInfo: \u001b[22m\u001b[39m2023-11-06T00:44:43.130\titeration: 26\tcurrent optimum: 0.44391115460051633\n",
      "\u001b[32mProgress: 100%|█████████████████████████████████████████| Time: 0:00:58\u001b[39m"
     ]
    },
    {
     "name": "stdout",
     "output_type": "stream",
     "text": [
      "s1 = 2.69; s3 = 4.12; s4 = 4.65; Δ1=Δ3= 2.90Γ; Δ4 = -6.89Γ\n",
      "Survival: 17 / 20\n",
      "goodness = 0.133"
     ]
    },
    {
     "name": "stderr",
     "output_type": "stream",
     "text": [
      "\n",
      "\u001b[36m\u001b[1m[ \u001b[22m\u001b[39m\u001b[36m\u001b[1mInfo: \u001b[22m\u001b[39m2023-11-06T00:45:46.723\titeration: 27\tcurrent optimum: 0.44391115460051633\n"
     ]
    },
    {
     "name": "stdout",
     "output_type": "stream",
     "text": [
      "\n"
     ]
    },
    {
     "name": "stderr",
     "output_type": "stream",
     "text": [
      "\u001b[32mProgress: 100%|█████████████████████████████████████████| Time: 0:00:39\u001b[39m\n"
     ]
    },
    {
     "name": "stdout",
     "output_type": "stream",
     "text": [
      "s1 = 1.57; s3 = 0.85; s4 = 0.33; Δ1=Δ3= 4.63Γ; Δ4 = -3.10Γ\n",
      "Survival: 1 / 20\n",
      "goodness = 0.000"
     ]
    },
    {
     "name": "stderr",
     "output_type": "stream",
     "text": [
      "\u001b[36m\u001b[1m[ \u001b[22m\u001b[39m\u001b[36m\u001b[1mInfo: \u001b[22m\u001b[39m2023-11-06T00:46:30.057\titeration: 28\tcurrent optimum: 0.44391115460051633\n"
     ]
    },
    {
     "name": "stdout",
     "output_type": "stream",
     "text": [
      "\n"
     ]
    },
    {
     "name": "stderr",
     "output_type": "stream",
     "text": [
      "\u001b[32mProgress: 100%|█████████████████████████████████████████| Time: 0:00:38\u001b[39m\n"
     ]
    },
    {
     "name": "stdout",
     "output_type": "stream",
     "text": [
      "s1 = 1.68; s3 = 3.69; s4 = 2.58; Δ1=Δ3= 3.87Γ; Δ4 = -6.50Γ\n",
      "Survival: 1 / 20\n",
      "goodness = 0.008\n"
     ]
    },
    {
     "name": "stderr",
     "output_type": "stream",
     "text": [
      "\u001b[36m\u001b[1m[ \u001b[22m\u001b[39m\u001b[36m\u001b[1mInfo: \u001b[22m\u001b[39m2023-11-06T00:47:12.437\titeration: 29\tcurrent optimum: 0.44391115460051633\n",
      "\u001b[32mProgress: 100%|█████████████████████████████████████████| Time: 0:00:18\u001b[39m\n"
     ]
    },
    {
     "name": "stdout",
     "output_type": "stream",
     "text": [
      "s1 = 1.91; s3 = 1.38; s4 = 3.45; Δ1=Δ3= 4.22Γ; Δ4 = -4.25Γ\n",
      "Survival: 0 / 20\n",
      "goodness = 0.000"
     ]
    },
    {
     "name": "stderr",
     "output_type": "stream",
     "text": [
      "\u001b[36m\u001b[1m[ \u001b[22m\u001b[39m\u001b[36m\u001b[1mInfo: \u001b[22m\u001b[39m2023-11-06T00:47:34.976\titeration: 30\tcurrent optimum: 0.44391115460051633\n"
     ]
    },
    {
     "name": "stdout",
     "output_type": "stream",
     "text": [
      "\n"
     ]
    },
    {
     "name": "stderr",
     "output_type": "stream",
     "text": [
      "\u001b[32mProgress: 100%|█████████████████████████████████████████| Time: 0:00:53\u001b[39m\n"
     ]
    },
    {
     "name": "stdout",
     "output_type": "stream",
     "text": [
      "s1 = 2.00; s3 = 4.10; s4 = 1.42; Δ1=Δ3= 3.01Γ; Δ4 = -6.29Γ\n",
      "Survival: 16 / 20\n",
      "goodness = 0.180"
     ]
    },
    {
     "name": "stderr",
     "output_type": "stream",
     "text": [
      "\u001b[36m\u001b[1m[ \u001b[22m\u001b[39m\u001b[36m\u001b[1mInfo: \u001b[22m\u001b[39m2023-11-06T00:48:32.247\titeration: 31\tcurrent optimum: 0.44391115460051633\n"
     ]
    },
    {
     "name": "stdout",
     "output_type": "stream",
     "text": [
      "\n"
     ]
    },
    {
     "name": "stderr",
     "output_type": "stream",
     "text": [
      "\u001b[32mProgress: 100%|█████████████████████████████████████████| Time: 0:00:15\u001b[39m\n"
     ]
    },
    {
     "name": "stdout",
     "output_type": "stream",
     "text": [
      "s1 = 0.67; s3 = 4.26; s4 = 2.04; Δ1=Δ3= 4.21Γ; Δ4 = -3.28Γ\n",
      "Survival: 0 / 20\n",
      "goodness = 0.000"
     ]
    },
    {
     "name": "stderr",
     "output_type": "stream",
     "text": [
      "\u001b[36m\u001b[1m[ \u001b[22m\u001b[39m\u001b[36m\u001b[1mInfo: \u001b[22m\u001b[39m2023-11-06T00:48:52.015\titeration: 32\tcurrent optimum: 0.44391115460051633\n"
     ]
    },
    {
     "name": "stdout",
     "output_type": "stream",
     "text": [
      "\n"
     ]
    },
    {
     "name": "stderr",
     "output_type": "stream",
     "text": [
      "\u001b[32mProgress: 100%|█████████████████████████████████████████| Time: 0:00:19\u001b[39m\n"
     ]
    },
    {
     "name": "stdout",
     "output_type": "stream",
     "text": [
      "s1 = 2.88; s3 = 3.00; s4 = 1.62; Δ1=Δ3= 5.29Γ; Δ4 = -6.62Γ\n",
      "Survival: 0 / 20\n",
      "goodness = 0.000\n"
     ]
    },
    {
     "name": "stderr",
     "output_type": "stream",
     "text": [
      "\u001b[36m\u001b[1m[ \u001b[22m\u001b[39m\u001b[36m\u001b[1mInfo: \u001b[22m\u001b[39m2023-11-06T00:49:17.649\titeration: 33\tcurrent optimum: 0.44391115460051633\n",
      "\u001b[32mProgress: 100%|█████████████████████████████████████████| Time: 0:00:39\u001b[39m\n"
     ]
    },
    {
     "name": "stdout",
     "output_type": "stream",
     "text": [
      "s1 = 2.44; s3 = 3.04; s4 = 0.64; Δ1=Δ3= 1.01Γ; Δ4 = -3.06Γ\n",
      "Survival: 11 / 20\n",
      "goodness = 0.064\n"
     ]
    },
    {
     "name": "stderr",
     "output_type": "stream",
     "text": [
      "\u001b[36m\u001b[1m[ \u001b[22m\u001b[39m\u001b[36m\u001b[1mInfo: \u001b[22m\u001b[39m2023-11-06T00:50:00.138\titeration: 34\tcurrent optimum: 0.44391115460051633\n",
      "\u001b[32mProgress: 100%|█████████████████████████████████████████| Time: 0:00:49\u001b[39m\n"
     ]
    },
    {
     "name": "stdout",
     "output_type": "stream",
     "text": [
      "s1 = 1.99; s3 = 4.04; s4 = 3.24; Δ1=Δ3= 1.48Γ; Δ4 = -5.77Γ\n",
      "Survival: 15 / 20\n",
      "goodness = 0.097"
     ]
    },
    {
     "name": "stderr",
     "output_type": "stream",
     "text": [
      "\u001b[36m\u001b[1m[ \u001b[22m\u001b[39m\u001b[36m\u001b[1mInfo: \u001b[22m\u001b[39m2023-11-06T00:50:53.818\titeration: 35\tcurrent optimum: 0.44391115460051633\n"
     ]
    },
    {
     "name": "stdout",
     "output_type": "stream",
     "text": [
      "\n"
     ]
    },
    {
     "name": "stderr",
     "output_type": "stream",
     "text": [
      "\u001b[32mProgress: 100%|█████████████████████████████████████████| Time: 0:00:40\u001b[39m"
     ]
    },
    {
     "name": "stdout",
     "output_type": "stream",
     "text": [
      "s1 = 1.13; s3 = 0.55; s4 = 1.08; Δ1=Δ3= 0.73Γ; Δ4 = -5.87Γ\n",
      "Survival: 7 / 20\n",
      "goodness = 0.093\n"
     ]
    },
    {
     "name": "stderr",
     "output_type": "stream",
     "text": [
      "\n",
      "\u001b[36m\u001b[1m[ \u001b[22m\u001b[39m\u001b[36m\u001b[1mInfo: \u001b[22m\u001b[39m2023-11-06T00:51:39.943\titeration: 36\tcurrent optimum: 0.44391115460051633\n",
      "\u001b[32mProgress: 100%|█████████████████████████████████████████| Time: 0:01:23\u001b[39m\n"
     ]
    },
    {
     "name": "stdout",
     "output_type": "stream",
     "text": [
      "s1 = 2.31; s3 = 2.47; s4 = 2.27; Δ1=Δ3= 1.48Γ; Δ4 = -6.12Γ\n",
      "Survival: 14 / 20\n",
      "goodness = 0.136"
     ]
    },
    {
     "name": "stderr",
     "output_type": "stream",
     "text": [
      "\u001b[36m\u001b[1m[ \u001b[22m\u001b[39m\u001b[36m\u001b[1mInfo: \u001b[22m\u001b[39m2023-11-06T00:53:10.458\titeration: 37\tcurrent optimum: 0.44391115460051633\n"
     ]
    },
    {
     "name": "stdout",
     "output_type": "stream",
     "text": [
      "\n"
     ]
    },
    {
     "name": "stderr",
     "output_type": "stream",
     "text": [
      "\u001b[32mProgress:  95%|███████████████████████████████████████  |  ETA: 0:00:04\u001b[39m"
     ]
    },
    {
     "name": "stdout",
     "output_type": "stream",
     "text": [
      "s1 = 1.70; s3 = 2.95; s4 = 2.00; Δ1=Δ3= 3.56Γ; Δ4 = -4.93Γ\n",
      "Survival: 2 / 20\n",
      "goodness = 0.010"
     ]
    },
    {
     "name": "stderr",
     "output_type": "stream",
     "text": [
      "\u001b[32mProgress: 100%|█████████████████████████████████████████| Time: 0:01:22\u001b[39m\n",
      "\u001b[36m\u001b[1m[ \u001b[22m\u001b[39m\u001b[36m\u001b[1mInfo: \u001b[22m\u001b[39m2023-11-06T00:54:39.028\titeration: 38\tcurrent optimum: 0.44391115460051633\n"
     ]
    },
    {
     "name": "stdout",
     "output_type": "stream",
     "text": [
      "\n"
     ]
    },
    {
     "name": "stderr",
     "output_type": "stream",
     "text": [
      "\u001b[32mProgress: 100%|█████████████████████████████████████████| Time: 0:00:34\u001b[39m\n"
     ]
    },
    {
     "name": "stdout",
     "output_type": "stream",
     "text": [
      "s1 = 1.75; s3 = 4.14; s4 = 2.94; Δ1=Δ3= 5.20Γ; Δ4 = -5.66Γ\n",
      "Survival: 0 / 20\n",
      "goodness = 0.000"
     ]
    },
    {
     "name": "stderr",
     "output_type": "stream",
     "text": [
      "\u001b[36m\u001b[1m[ \u001b[22m\u001b[39m\u001b[36m\u001b[1mInfo: \u001b[22m\u001b[39m2023-11-06T00:55:18.347\titeration: 39\tcurrent optimum: 0.44391115460051633\n"
     ]
    },
    {
     "name": "stdout",
     "output_type": "stream",
     "text": [
      "\n"
     ]
    },
    {
     "name": "stderr",
     "output_type": "stream",
     "text": [
      "\u001b[32mProgress: 100%|█████████████████████████████████████████| Time: 0:01:43\u001b[39m\n"
     ]
    },
    {
     "name": "stdout",
     "output_type": "stream",
     "text": [
      "s1 = 4.53; s3 = 3.00; s4 = 0.60; Δ1=Δ3= 2.78Γ; Δ4 = -3.75Γ\n",
      "Survival: 16 / 20\n",
      "goodness = 0.136\n"
     ]
    },
    {
     "name": "stderr",
     "output_type": "stream",
     "text": [
      "\u001b[36m\u001b[1m[ \u001b[22m\u001b[39m\u001b[36m\u001b[1mInfo: \u001b[22m\u001b[39m2023-11-06T00:57:07.248\titeration: 40\tcurrent optimum: 0.44391115460051633\n",
      "\u001b[32mProgress: 100%|█████████████████████████████████████████| Time: 0:01:16\u001b[39m\n"
     ]
    },
    {
     "name": "stdout",
     "output_type": "stream",
     "text": [
      "s1 = 2.47; s3 = 1.60; s4 = 0.37; Δ1=Δ3= 4.43Γ; Δ4 = -4.83Γ\n",
      "Survival: 5 / 20\n",
      "goodness = 0.044"
     ]
    },
    {
     "name": "stderr",
     "output_type": "stream",
     "text": [
      "\u001b[36m\u001b[1m[ \u001b[22m\u001b[39m\u001b[36m\u001b[1mInfo: \u001b[22m\u001b[39m2023-11-06T00:58:29.062\titeration: 41\tcurrent optimum: 0.44391115460051633\n"
     ]
    },
    {
     "name": "stdout",
     "output_type": "stream",
     "text": [
      "\n"
     ]
    },
    {
     "name": "stderr",
     "output_type": "stream",
     "text": [
      "\u001b[32mProgress: 100%|█████████████████████████████████████████| Time: 0:01:18\u001b[39m\n"
     ]
    },
    {
     "name": "stdout",
     "output_type": "stream",
     "text": [
      "s1 = 3.40; s3 = 2.17; s4 = 0.93; Δ1=Δ3= 3.44Γ; Δ4 = -5.60Γ\n",
      "Survival: 17 / 20\n",
      "goodness = 0.267"
     ]
    },
    {
     "name": "stderr",
     "output_type": "stream",
     "text": [
      "\u001b[36m\u001b[1m[ \u001b[22m\u001b[39m\u001b[36m\u001b[1mInfo: \u001b[22m\u001b[39m2023-11-06T00:59:51.141\titeration: 42\tcurrent optimum: 0.44391115460051633\n"
     ]
    },
    {
     "name": "stdout",
     "output_type": "stream",
     "text": [
      "\n"
     ]
    },
    {
     "name": "stderr",
     "output_type": "stream",
     "text": [
      "\u001b[32mProgress:  95%|███████████████████████████████████████  |  ETA: 0:00:04\u001b[39m\r"
     ]
    },
    {
     "name": "stdout",
     "output_type": "stream",
     "text": [
      "s1 = 4.19; s3 = 4.77; s4 = 2.59; Δ1=Δ3= 0.71Γ; Δ4 = -6.75Γ\n",
      "Survival: 19 / 20\n",
      "goodness = 0.061"
     ]
    },
    {
     "name": "stderr",
     "output_type": "stream",
     "text": [
      "\u001b[32mProgress: 100%|█████████████████████████████████████████| Time: 0:01:09\u001b[39m\n",
      "\u001b[36m\u001b[1m[ \u001b[22m\u001b[39m\u001b[36m\u001b[1mInfo: \u001b[22m\u001b[39m2023-11-06T01:01:04.429\titeration: 43\tcurrent optimum: 0.44391115460051633\n"
     ]
    },
    {
     "name": "stdout",
     "output_type": "stream",
     "text": [
      "\n"
     ]
    },
    {
     "name": "stderr",
     "output_type": "stream",
     "text": [
      "\u001b[32mProgress: 100%|█████████████████████████████████████████| Time: 0:00:50\u001b[39m\n"
     ]
    },
    {
     "name": "stdout",
     "output_type": "stream",
     "text": [
      "s1 = 3.09; s3 = 1.12; s4 = 3.43; Δ1=Δ3= 1.10Γ; Δ4 = -6.57Γ\n",
      "Survival: 12 / 20\n",
      "goodness = 0.106"
     ]
    },
    {
     "name": "stderr",
     "output_type": "stream",
     "text": [
      "\u001b[36m\u001b[1m[ \u001b[22m\u001b[39m\u001b[36m\u001b[1mInfo: \u001b[22m\u001b[39m2023-11-06T01:01:58.511\titeration: 44\tcurrent optimum: 0.44391115460051633\n"
     ]
    },
    {
     "name": "stdout",
     "output_type": "stream",
     "text": [
      "\n"
     ]
    },
    {
     "name": "stderr",
     "output_type": "stream",
     "text": [
      "\u001b[32mProgress: 100%|█████████████████████████████████████████| Time: 0:00:53\u001b[39m\n"
     ]
    },
    {
     "name": "stdout",
     "output_type": "stream",
     "text": [
      "s1 = 2.21; s3 = 4.14; s4 = 2.29; Δ1=Δ3= 1.27Γ; Δ4 = -5.37Γ\n",
      "Survival: 18 / 20\n",
      "goodness = 0.103\n"
     ]
    },
    {
     "name": "stderr",
     "output_type": "stream",
     "text": [
      "\u001b[36m\u001b[1m[ \u001b[22m\u001b[39m\u001b[36m\u001b[1mInfo: \u001b[22m\u001b[39m2023-11-06T01:02:56.129\titeration: 45\tcurrent optimum: 0.44391115460051633\n",
      "\u001b[32mProgress: 100%|█████████████████████████████████████████| Time: 0:00:51\u001b[39m\n"
     ]
    },
    {
     "name": "stdout",
     "output_type": "stream",
     "text": [
      "s1 = 4.06; s3 = 0.60; s4 = 1.64; Δ1=Δ3= 3.63Γ; Δ4 = -5.00Γ\n",
      "Survival: 12 / 20\n",
      "goodness = 0.154\n"
     ]
    },
    {
     "name": "stderr",
     "output_type": "stream",
     "text": [
      "\u001b[36m\u001b[1m[ \u001b[22m\u001b[39m\u001b[36m\u001b[1mInfo: \u001b[22m\u001b[39m2023-11-06T01:03:51.637\titeration: 46\tcurrent optimum: 0.44391115460051633\n",
      "\u001b[32mProgress: 100%|█████████████████████████████████████████| Time: 0:00:18\u001b[39m\n"
     ]
    },
    {
     "name": "stdout",
     "output_type": "stream",
     "text": [
      "s1 = 1.72; s3 = 3.99; s4 = 2.24; Δ1=Δ3= 5.31Γ; Δ4 = -5.51Γ\n",
      "Survival: 0 / 20\n",
      "goodness = 0.000"
     ]
    },
    {
     "name": "stderr",
     "output_type": "stream",
     "text": [
      "\u001b[36m\u001b[1m[ \u001b[22m\u001b[39m\u001b[36m\u001b[1mInfo: \u001b[22m\u001b[39m2023-11-06T01:04:13.499\titeration: 47\tcurrent optimum: 0.44391115460051633\n"
     ]
    },
    {
     "name": "stdout",
     "output_type": "stream",
     "text": [
      "\n"
     ]
    },
    {
     "name": "stderr",
     "output_type": "stream",
     "text": [
      "\u001b[32mProgress: 100%|█████████████████████████████████████████| Time: 0:00:49\u001b[39m\n"
     ]
    },
    {
     "name": "stdout",
     "output_type": "stream",
     "text": [
      "s1 = 1.27; s3 = 4.97; s4 = 1.73; Δ1=Δ3= 2.94Γ; Δ4 = -6.88Γ\n",
      "Survival: 15 / 20\n",
      "goodness = 0.098"
     ]
    },
    {
     "name": "stderr",
     "output_type": "stream",
     "text": [
      "\u001b[36m\u001b[1m[ \u001b[22m\u001b[39m\u001b[36m\u001b[1mInfo: \u001b[22m\u001b[39m2023-11-06T01:05:07.511\titeration: 48\tcurrent optimum: 0.44391115460051633\n"
     ]
    },
    {
     "name": "stdout",
     "output_type": "stream",
     "text": [
      "\n"
     ]
    },
    {
     "name": "stderr",
     "output_type": "stream",
     "text": [
      "\u001b[32mProgress: 100%|█████████████████████████████████████████| Time: 0:00:52\u001b[39m\n"
     ]
    },
    {
     "name": "stdout",
     "output_type": "stream",
     "text": [
      "s1 = 4.77; s3 = 1.07; s4 = 2.07; Δ1=Δ3= 4.05Γ; Δ4 = -5.50Γ\n",
      "Survival: 10 / 20\n",
      "goodness = 0.186\n"
     ]
    },
    {
     "name": "stderr",
     "output_type": "stream",
     "text": [
      "\u001b[36m\u001b[1m[ \u001b[22m\u001b[39m\u001b[36m\u001b[1mInfo: \u001b[22m\u001b[39m2023-11-06T01:06:03.816\titeration: 49\tcurrent optimum: 0.44391115460051633\n",
      "\u001b[32mProgress: 100%|█████████████████████████████████████████| Time: 0:00:59\u001b[39m"
     ]
    },
    {
     "name": "stdout",
     "output_type": "stream",
     "text": [
      "s1 = 4.19; s3 = 2.32; s4 = 3.92; Δ1=Δ3= 2.90Γ; Δ4 = -4.48Γ\n",
      "Survival: 19 / 20\n",
      "goodness = 0.169"
     ]
    },
    {
     "name": "stderr",
     "output_type": "stream",
     "text": [
      "\n"
     ]
    },
    {
     "name": "stdout",
     "output_type": "stream",
     "text": [
      "\n"
     ]
    },
    {
     "name": "stderr",
     "output_type": "stream",
     "text": [
      "\u001b[36m\u001b[1m┌ \u001b[22m\u001b[39m\u001b[36m\u001b[1mInfo: \u001b[22m\u001b[39m ────────────────────────────────────────────────────────────────────────────────\n",
      "\u001b[36m\u001b[1m│ \u001b[22m\u001b[39m                                        Time                    Allocations      \n",
      "\u001b[36m\u001b[1m│ \u001b[22m\u001b[39m                               ───────────────────────   ────────────────────────\n",
      "\u001b[36m\u001b[1m│ \u001b[22m\u001b[39m       Tot / % measured:            1404s / 100.0%           10.3GiB / 100.0%    \n",
      "\u001b[36m\u001b[1m│ \u001b[22m\u001b[39m\n",
      "\u001b[36m\u001b[1m│ \u001b[22m\u001b[39m Section               ncalls     time    %tot     avg     alloc    %tot      avg\n",
      "\u001b[36m\u001b[1m│ \u001b[22m\u001b[39m ────────────────────────────────────────────────────────────────────────────────\n",
      "\u001b[36m\u001b[1m│ \u001b[22m\u001b[39m function evaluation       25    1292s   92.0%   51.7s    199MiB    1.9%  7.95MiB\n",
      "\u001b[36m\u001b[1m│ \u001b[22m\u001b[39m model hyperparamet...     25     110s    7.9%   4.42s   9.82GiB   95.0%   402MiB\n",
      "\u001b[36m\u001b[1m│ \u001b[22m\u001b[39m acquisition               26    2.21s    0.2%  84.9ms    320MiB    3.0%  12.3MiB\n",
      "\u001b[36m\u001b[1m│ \u001b[22m\u001b[39m model update              25    129ms    0.0%  5.15ms   9.92MiB    0.1%   406KiB\n",
      "\u001b[36m\u001b[1m└ \u001b[22m\u001b[39m ────────────────────────────────────────────────────────────────────────────────\n",
      "\u001b[36m\u001b[1m[ \u001b[22m\u001b[39m\u001b[36m\u001b[1mInfo: \u001b[22m\u001b[39m2023-11-06T01:07:08.227\titeration: 50\tcurrent optimum: 0.44391115460051633\n"
     ]
    },
    {
     "name": "stdout",
     "output_type": "stream",
     "text": [
      "===== Autosaved =====\n"
     ]
    },
    {
     "name": "stderr",
     "output_type": "stream",
     "text": [
      "\u001b[32mProgress: 100%|█████████████████████████████████████████| Time: 0:00:50\u001b[39m\n"
     ]
    },
    {
     "name": "stdout",
     "output_type": "stream",
     "text": [
      "s1 = 1.64; s3 = 1.48; s4 = 3.95; Δ1=Δ3= 2.88Γ; Δ4 = -4.19Γ\n",
      "Survival: 18 / 20\n",
      "goodness = 0.235"
     ]
    },
    {
     "name": "stderr",
     "output_type": "stream",
     "text": [
      "\u001b[36m\u001b[1m[ \u001b[22m\u001b[39m\u001b[36m\u001b[1mInfo: \u001b[22m\u001b[39m2023-11-06T01:08:02.956\titeration: 51\tcurrent optimum: 0.44391115460051633\n"
     ]
    },
    {
     "name": "stdout",
     "output_type": "stream",
     "text": [
      "\n"
     ]
    },
    {
     "name": "stderr",
     "output_type": "stream",
     "text": [
      "\u001b[32mProgress: 100%|█████████████████████████████████████████| Time: 0:00:47\u001b[39m\n"
     ]
    },
    {
     "name": "stdout",
     "output_type": "stream",
     "text": [
      "s1 = 2.68; s3 = 0.99; s4 = 3.46; Δ1=Δ3= 1.29Γ; Δ4 = -5.29Γ\n",
      "Survival: 12 / 20\n",
      "goodness = 0.095"
     ]
    },
    {
     "name": "stderr",
     "output_type": "stream",
     "text": [
      "\u001b[36m\u001b[1m[ \u001b[22m\u001b[39m\u001b[36m\u001b[1mInfo: \u001b[22m\u001b[39m2023-11-06T01:08:54.621\titeration: 52\tcurrent optimum: 0.44391115460051633\n"
     ]
    },
    {
     "name": "stdout",
     "output_type": "stream",
     "text": [
      "\n"
     ]
    },
    {
     "name": "stderr",
     "output_type": "stream",
     "text": [
      "\u001b[32mProgress:  95%|███████████████████████████████████████  |  ETA: 0:00:01\u001b[39m\r"
     ]
    },
    {
     "name": "stdout",
     "output_type": "stream",
     "text": [
      "s1 = 4.28; s3 = 4.83; s4 = 4.07; Δ1=Δ3= 5.82Γ; Δ4 = -6.91Γ\n",
      "Survival: 0 / 20\n",
      "goodness = 0.000"
     ]
    },
    {
     "name": "stderr",
     "output_type": "stream",
     "text": [
      "\u001b[32mProgress: 100%|█████████████████████████████████████████| Time: 0:00:15\u001b[39m\n",
      "\u001b[36m\u001b[1m[ \u001b[22m\u001b[39m\u001b[36m\u001b[1mInfo: \u001b[22m\u001b[39m2023-11-06T01:09:14.422\titeration: 53\tcurrent optimum: 0.44391115460051633\n"
     ]
    },
    {
     "name": "stdout",
     "output_type": "stream",
     "text": [
      "\n"
     ]
    },
    {
     "name": "stderr",
     "output_type": "stream",
     "text": [
      "\u001b[32mProgress: 100%|█████████████████████████████████████████| Time: 0:00:14\u001b[39m\n"
     ]
    },
    {
     "name": "stdout",
     "output_type": "stream",
     "text": [
      "s1 = 1.91; s3 = 2.93; s4 = 1.47; Δ1=Δ3= 5.47Γ; Δ4 = -5.70Γ\n",
      "Survival: 0 / 20\n",
      "goodness = 0.000\n"
     ]
    },
    {
     "name": "stderr",
     "output_type": "stream",
     "text": [
      "\u001b[36m\u001b[1m[ \u001b[22m\u001b[39m\u001b[36m\u001b[1mInfo: \u001b[22m\u001b[39m2023-11-06T01:09:33.231\titeration: 54\tcurrent optimum: 0.44391115460051633\n",
      "\u001b[32mProgress: 100%|█████████████████████████████████████████| Time: 0:00:56\u001b[39m\n"
     ]
    },
    {
     "name": "stdout",
     "output_type": "stream",
     "text": [
      "s1 = 3.61; s3 = 1.83; s4 = 2.72; Δ1=Δ3= 4.11Γ; Δ4 = -6.49Γ\n",
      "Survival: 17 / 20\n",
      "goodness = 0.262\n"
     ]
    },
    {
     "name": "stderr",
     "output_type": "stream",
     "text": [
      "\u001b[36m\u001b[1m[ \u001b[22m\u001b[39m\u001b[36m\u001b[1mInfo: \u001b[22m\u001b[39m2023-11-06T01:10:35.217\titeration: 55\tcurrent optimum: 0.44391115460051633\n",
      "\u001b[32mProgress: 100%|█████████████████████████████████████████| Time: 0:00:18\u001b[39m\n"
     ]
    },
    {
     "name": "stdout",
     "output_type": "stream",
     "text": [
      "s1 = 1.04; s3 = 3.75; s4 = 4.17; Δ1=Δ3= 3.80Γ; Δ4 = -5.04Γ\n",
      "Survival: 0 / 20\n",
      "goodness = 0.000\n"
     ]
    },
    {
     "name": "stderr",
     "output_type": "stream",
     "text": [
      "\u001b[36m\u001b[1m[ \u001b[22m\u001b[39m\u001b[36m\u001b[1mInfo: \u001b[22m\u001b[39m2023-11-06T01:10:57.633\titeration: 56\tcurrent optimum: 0.44391115460051633\n",
      "\u001b[32mProgress: 100%|█████████████████████████████████████████| Time: 0:00:16\u001b[39m\n"
     ]
    },
    {
     "name": "stdout",
     "output_type": "stream",
     "text": [
      "s1 = 2.93; s3 = 2.43; s4 = 3.87; Δ1=Δ3= 5.34Γ; Δ4 = -5.33Γ\n",
      "Survival: 0 / 20\n",
      "goodness = 0.000\n"
     ]
    },
    {
     "name": "stderr",
     "output_type": "stream",
     "text": [
      "\u001b[36m\u001b[1m[ \u001b[22m\u001b[39m\u001b[36m\u001b[1mInfo: \u001b[22m\u001b[39m2023-11-06T01:11:18.254\titeration: 57\tcurrent optimum: 0.44391115460051633\n",
      "\u001b[32mProgress:  95%|███████████████████████████████████████  |  ETA: 0:00:03\u001b[39m\r"
     ]
    },
    {
     "name": "stdout",
     "output_type": "stream",
     "text": [
      "s1 = 4.77; s3 = 2.30; s4 = 3.49; Δ1=Δ3= 2.16Γ; Δ4 = -6.84Γ\n",
      "Survival: 18 / 20\n",
      "goodness = 0.111"
     ]
    },
    {
     "name": "stderr",
     "output_type": "stream",
     "text": [
      "\u001b[32mProgress: 100%|█████████████████████████████████████████| Time: 0:00:56\u001b[39m\n",
      "\u001b[36m\u001b[1m[ \u001b[22m\u001b[39m\u001b[36m\u001b[1mInfo: \u001b[22m\u001b[39m2023-11-06T01:12:18.998\titeration: 58\tcurrent optimum: 0.44391115460051633\n"
     ]
    },
    {
     "name": "stdout",
     "output_type": "stream",
     "text": [
      "\n"
     ]
    },
    {
     "name": "stderr",
     "output_type": "stream",
     "text": [
      "\u001b[32mProgress:  95%|███████████████████████████████████████  |  ETA: 0:00:03\u001b[39m\r"
     ]
    },
    {
     "name": "stdout",
     "output_type": "stream",
     "text": [
      "s1 = 3.08; s3 = 2.39; s4 = 2.91; Δ1=Δ3= 0.95Γ; Δ4 = -5.91Γ\n",
      "Survival: 15 / 20\n",
      "goodness = 0.099"
     ]
    },
    {
     "name": "stderr",
     "output_type": "stream",
     "text": [
      "\u001b[32mProgress: 100%|█████████████████████████████████████████| Time: 0:00:55\u001b[39m\n",
      "\u001b[36m\u001b[1m[ \u001b[22m\u001b[39m\u001b[36m\u001b[1mInfo: \u001b[22m\u001b[39m2023-11-06T01:13:18.415\titeration: 59\tcurrent optimum: 0.44391115460051633\n"
     ]
    },
    {
     "name": "stdout",
     "output_type": "stream",
     "text": [
      "\n"
     ]
    },
    {
     "name": "stderr",
     "output_type": "stream",
     "text": [
      "\u001b[32mProgress: 100%|█████████████████████████████████████████| Time: 0:00:56\u001b[39m\n"
     ]
    },
    {
     "name": "stdout",
     "output_type": "stream",
     "text": [
      "s1 = 3.87; s3 = 4.84; s4 = 2.30; Δ1=Δ3= 0.80Γ; Δ4 = -6.84Γ\n",
      "Survival: 18 / 20\n",
      "goodness = 0.045"
     ]
    },
    {
     "name": "stderr",
     "output_type": "stream",
     "text": [
      "\u001b[36m\u001b[1m[ \u001b[22m\u001b[39m\u001b[36m\u001b[1mInfo: \u001b[22m\u001b[39m2023-11-06T01:14:18.103\titeration: 60\tcurrent optimum: 0.44391115460051633\n"
     ]
    },
    {
     "name": "stdout",
     "output_type": "stream",
     "text": [
      "\n"
     ]
    },
    {
     "name": "stderr",
     "output_type": "stream",
     "text": [
      "\u001b[32mProgress: 100%|█████████████████████████████████████████| Time: 0:00:50\u001b[39m\n"
     ]
    },
    {
     "name": "stdout",
     "output_type": "stream",
     "text": [
      "s1 = 3.98; s3 = 2.49; s4 = 3.18; Δ1=Δ3= 1.42Γ; Δ4 = -3.92Γ\n",
      "Survival: 14 / 20\n",
      "goodness = 0.078\n"
     ]
    },
    {
     "name": "stderr",
     "output_type": "stream",
     "text": [
      "\u001b[36m\u001b[1m[ \u001b[22m\u001b[39m\u001b[36m\u001b[1mInfo: \u001b[22m\u001b[39m2023-11-06T01:15:12.396\titeration: 61\tcurrent optimum: 0.44391115460051633\n",
      "\u001b[32mProgress: 100%|█████████████████████████████████████████| Time: 0:00:17\u001b[39m\n"
     ]
    },
    {
     "name": "stdout",
     "output_type": "stream",
     "text": [
      "s1 = 3.83; s3 = 2.27; s4 = 0.37; Δ1=Δ3= 5.94Γ; Δ4 = -3.33Γ\n",
      "Survival: 0 / 20\n",
      "goodness = 0.000"
     ]
    },
    {
     "name": "stderr",
     "output_type": "stream",
     "text": [
      "\u001b[36m\u001b[1m[ \u001b[22m\u001b[39m\u001b[36m\u001b[1mInfo: \u001b[22m\u001b[39m2023-11-06T01:15:34.039\titeration: 62\tcurrent optimum: 0.44391115460051633\n"
     ]
    },
    {
     "name": "stdout",
     "output_type": "stream",
     "text": [
      "\n"
     ]
    },
    {
     "name": "stderr",
     "output_type": "stream",
     "text": [
      "\u001b[32mProgress: 100%|█████████████████████████████████████████| Time: 0:00:47\u001b[39m\n"
     ]
    },
    {
     "name": "stdout",
     "output_type": "stream",
     "text": [
      "s1 = 1.39; s3 = 4.13; s4 = 0.93; Δ1=Δ3= 0.76Γ; Δ4 = -3.51Γ\n",
      "Survival: 19 / 20\n",
      "goodness = 0.124\n"
     ]
    },
    {
     "name": "stderr",
     "output_type": "stream",
     "text": [
      "\u001b[36m\u001b[1m[ \u001b[22m\u001b[39m\u001b[36m\u001b[1mInfo: \u001b[22m\u001b[39m2023-11-06T01:16:25.736\titeration: 63\tcurrent optimum: 0.44391115460051633\n",
      "\u001b[32mProgress: 100%|█████████████████████████████████████████| Time: 0:00:51\u001b[39m\n"
     ]
    },
    {
     "name": "stdout",
     "output_type": "stream",
     "text": [
      "s1 = 2.27; s3 = 3.73; s4 = 2.17; Δ1=Δ3= 3.28Γ; Δ4 = -6.57Γ\n",
      "Survival: 17 / 20\n",
      "goodness = 0.178\n"
     ]
    },
    {
     "name": "stderr",
     "output_type": "stream",
     "text": [
      "\u001b[36m\u001b[1m[ \u001b[22m\u001b[39m\u001b[36m\u001b[1mInfo: \u001b[22m\u001b[39m2023-11-06T01:17:21.903\titeration: 64\tcurrent optimum: 0.44391115460051633\n",
      "\u001b[32mProgress: 100%|█████████████████████████████████████████| Time: 0:00:45\u001b[39m"
     ]
    },
    {
     "name": "stdout",
     "output_type": "stream",
     "text": [
      "s1 = 1.47; s3 = 4.47; s4 = 0.32; Δ1=Δ3= 2.67Γ; Δ4 = -5.68Γ\n",
      "Survival: 16 / 20\n",
      "goodness = 0.184"
     ]
    },
    {
     "name": "stderr",
     "output_type": "stream",
     "text": [
      "\n",
      "\u001b[36m\u001b[1m[ \u001b[22m\u001b[39m\u001b[36m\u001b[1mInfo: \u001b[22m\u001b[39m2023-11-06T01:18:12.534\titeration: 65\tcurrent optimum: 0.44391115460051633\n"
     ]
    },
    {
     "name": "stdout",
     "output_type": "stream",
     "text": [
      "\n"
     ]
    },
    {
     "name": "stderr",
     "output_type": "stream",
     "text": [
      "\u001b[32mProgress: 100%|█████████████████████████████████████████| Time: 0:00:43\u001b[39m\n"
     ]
    },
    {
     "name": "stdout",
     "output_type": "stream",
     "text": [
      "s1 = 4.76; s3 = 1.89; s4 = 3.05; Δ1=Δ3= 5.58Γ; Δ4 = -3.38Γ\n",
      "Survival: 1 / 20\n",
      "goodness = 0.001\n"
     ]
    },
    {
     "name": "stderr",
     "output_type": "stream",
     "text": [
      "\u001b[36m\u001b[1m[ \u001b[22m\u001b[39m\u001b[36m\u001b[1mInfo: \u001b[22m\u001b[39m2023-11-06T01:18:59.859\titeration: 66\tcurrent optimum: 0.44391115460051633\n",
      "\u001b[32mProgress: 100%|█████████████████████████████████████████| Time: 0:00:47\u001b[39m\n"
     ]
    },
    {
     "name": "stdout",
     "output_type": "stream",
     "text": [
      "s1 = 4.87; s3 = 3.08; s4 = 3.30; Δ1=Δ3= 4.91Γ; Δ4 = -5.99Γ\n",
      "Survival: 2 / 20\n",
      "goodness = 0.002\n"
     ]
    },
    {
     "name": "stderr",
     "output_type": "stream",
     "text": [
      "\u001b[36m\u001b[1m[ \u001b[22m\u001b[39m\u001b[36m\u001b[1mInfo: \u001b[22m\u001b[39m2023-11-06T01:19:52.113\titeration: 67\tcurrent optimum: 0.44391115460051633\n",
      "\u001b[32mProgress: 100%|█████████████████████████████████████████| Time: 0:00:51\u001b[39m\n"
     ]
    },
    {
     "name": "stdout",
     "output_type": "stream",
     "text": [
      "s1 = 4.47; s3 = 2.41; s4 = 1.48; Δ1=Δ3= 2.73Γ; Δ4 = -4.44Γ\n",
      "Survival: 13 / 20\n",
      "goodness = 0.116"
     ]
    },
    {
     "name": "stderr",
     "output_type": "stream",
     "text": [
      "\u001b[36m\u001b[1m[ \u001b[22m\u001b[39m\u001b[36m\u001b[1mInfo: \u001b[22m\u001b[39m2023-11-06T01:20:48.163\titeration: 68\tcurrent optimum: 0.44391115460051633\n"
     ]
    },
    {
     "name": "stdout",
     "output_type": "stream",
     "text": [
      "\n"
     ]
    },
    {
     "name": "stderr",
     "output_type": "stream",
     "text": [
      "\u001b[32mProgress: 100%|█████████████████████████████████████████| Time: 0:00:37\u001b[39m\u001b[32mProgress:  85%|███████████████████████████████████      |  ETA: 0:00:06\u001b[39m\n"
     ]
    },
    {
     "name": "stdout",
     "output_type": "stream",
     "text": [
      "s1 = 2.49; s3 = 1.05; s4 = 0.72; Δ1=Δ3= 0.51Γ; Δ4 = -5.42Γ\n",
      "Survival: 10 / 20\n",
      "goodness = 0.035"
     ]
    },
    {
     "name": "stderr",
     "output_type": "stream",
     "text": [
      "\u001b[36m\u001b[1m[ \u001b[22m\u001b[39m\u001b[36m\u001b[1mInfo: \u001b[22m\u001b[39m2023-11-06T01:21:30.392\titeration: 69\tcurrent optimum: 0.44391115460051633\n"
     ]
    },
    {
     "name": "stdout",
     "output_type": "stream",
     "text": [
      "\n"
     ]
    },
    {
     "name": "stderr",
     "output_type": "stream",
     "text": [
      "\u001b[32mProgress: 100%|█████████████████████████████████████████| Time: 0:00:34\u001b[39m\n"
     ]
    },
    {
     "name": "stdout",
     "output_type": "stream",
     "text": [
      "s1 = 2.54; s3 = 0.96; s4 = 0.60; Δ1=Δ3= 0.54Γ; Δ4 = -6.58Γ\n",
      "Survival: 7 / 20\n",
      "goodness = 0.045\n"
     ]
    },
    {
     "name": "stderr",
     "output_type": "stream",
     "text": [
      "\u001b[36m\u001b[1m[ \u001b[22m\u001b[39m\u001b[36m\u001b[1mInfo: \u001b[22m\u001b[39m2023-11-06T01:22:08.788\titeration: 70\tcurrent optimum: 0.44391115460051633\n",
      "\u001b[32mProgress: 100%|█████████████████████████████████████████| Time: 0:00:49\u001b[39m\n"
     ]
    },
    {
     "name": "stdout",
     "output_type": "stream",
     "text": [
      "s1 = 3.69; s3 = 4.84; s4 = 0.89; Δ1=Δ3= 3.35Γ; Δ4 = -3.25Γ\n",
      "Survival: 16 / 20\n",
      "goodness = 0.115"
     ]
    },
    {
     "name": "stderr",
     "output_type": "stream",
     "text": [
      "\u001b[36m\u001b[1m[ \u001b[22m\u001b[39m\u001b[36m\u001b[1mInfo: \u001b[22m\u001b[39m2023-11-06T01:23:02.211\titeration: 71\tcurrent optimum: 0.44391115460051633\n"
     ]
    },
    {
     "name": "stdout",
     "output_type": "stream",
     "text": [
      "\n"
     ]
    },
    {
     "name": "stderr",
     "output_type": "stream",
     "text": [
      "\u001b[32mProgress:  95%|███████████████████████████████████████  |  ETA: 0:00:01\u001b[39m\r"
     ]
    },
    {
     "name": "stdout",
     "output_type": "stream",
     "text": [
      "s1 = 3.63; s3 = 4.58; s4 = 0.79; Δ1=Δ3= 5.65Γ; Δ4 = -6.12Γ\n",
      "Survival: 0 / 20\n",
      "goodness = 0.000"
     ]
    },
    {
     "name": "stderr",
     "output_type": "stream",
     "text": [
      "\u001b[32mProgress: 100%|█████████████████████████████████████████| Time: 0:00:16\u001b[39m\n",
      "\u001b[36m\u001b[1m[ \u001b[22m\u001b[39m\u001b[36m\u001b[1mInfo: \u001b[22m\u001b[39m2023-11-06T01:23:22.414\titeration: 72\tcurrent optimum: 0.44391115460051633\n"
     ]
    },
    {
     "name": "stdout",
     "output_type": "stream",
     "text": [
      "\n"
     ]
    },
    {
     "name": "stderr",
     "output_type": "stream",
     "text": [
      "\u001b[32mProgress: 100%|█████████████████████████████████████████| Time: 0:00:46\u001b[39m\n"
     ]
    },
    {
     "name": "stdout",
     "output_type": "stream",
     "text": [
      "s1 = 0.57; s3 = 4.50; s4 = 3.55; Δ1=Δ3= 3.21Γ; Δ4 = -6.62Γ\n",
      "Survival: 4 / 20\n",
      "goodness = 0.033"
     ]
    },
    {
     "name": "stderr",
     "output_type": "stream",
     "text": [
      "\u001b[36m\u001b[1m[ \u001b[22m\u001b[39m\u001b[36m\u001b[1mInfo: \u001b[22m\u001b[39m2023-11-06T01:24:13.955\titeration: 73\tcurrent optimum: 0.44391115460051633\n"
     ]
    },
    {
     "name": "stdout",
     "output_type": "stream",
     "text": [
      "\n"
     ]
    },
    {
     "name": "stderr",
     "output_type": "stream",
     "text": [
      "\u001b[32mProgress: 100%|█████████████████████████████████████████| Time: 0:00:42\u001b[39m\n"
     ]
    },
    {
     "name": "stdout",
     "output_type": "stream",
     "text": [
      "s1 = 1.98; s3 = 2.00; s4 = 0.83; Δ1=Δ3= 2.41Γ; Δ4 = -3.56Γ\n",
      "Survival: 8 / 20\n",
      "goodness = 0.141"
     ]
    },
    {
     "name": "stderr",
     "output_type": "stream",
     "text": [
      "\u001b[36m\u001b[1m[ \u001b[22m\u001b[39m\u001b[36m\u001b[1mInfo: \u001b[22m\u001b[39m2023-11-06T01:25:02.311\titeration: 74\tcurrent optimum: 0.44391115460051633\n"
     ]
    },
    {
     "name": "stdout",
     "output_type": "stream",
     "text": [
      "\n"
     ]
    },
    {
     "name": "stderr",
     "output_type": "stream",
     "text": [
      "\u001b[32mProgress: 100%|█████████████████████████████████████████| Time: 0:00:14\u001b[39m\n"
     ]
    },
    {
     "name": "stdout",
     "output_type": "stream",
     "text": [
      "s1 = 2.02; s3 = 1.92; s4 = 4.96; Δ1=Δ3= 5.57Γ; Δ4 = -4.05Γ\n",
      "Survival: 0 / 20\n",
      "goodness = 0.000\n"
     ]
    },
    {
     "name": "stderr",
     "output_type": "stream",
     "text": [
      "\u001b[36m\u001b[1m┌ \u001b[22m\u001b[39m\u001b[36m\u001b[1mInfo: \u001b[22m\u001b[39m ────────────────────────────────────────────────────────────────────────────────\n",
      "\u001b[36m\u001b[1m│ \u001b[22m\u001b[39m                                        Time                    Allocations      \n",
      "\u001b[36m\u001b[1m│ \u001b[22m\u001b[39m                               ───────────────────────   ────────────────────────\n",
      "\u001b[36m\u001b[1m│ \u001b[22m\u001b[39m       Tot / % measured:            1092s / 100.0%           10.4GiB / 100.0%    \n",
      "\u001b[36m\u001b[1m│ \u001b[22m\u001b[39m\n",
      "\u001b[36m\u001b[1m│ \u001b[22m\u001b[39m Section               ncalls     time    %tot     avg     alloc    %tot      avg\n",
      "\u001b[36m\u001b[1m│ \u001b[22m\u001b[39m ────────────────────────────────────────────────────────────────────────────────\n",
      "\u001b[36m\u001b[1m│ \u001b[22m\u001b[39m function evaluation       25     983s   90.0%   39.3s    193MiB    1.8%  7.74MiB\n",
      "\u001b[36m\u001b[1m│ \u001b[22m\u001b[39m model hyperparamet...     25     109s   10.0%   4.37s   10.1GiB   97.5%   415MiB\n",
      "\u001b[36m\u001b[1m│ \u001b[22m\u001b[39m acquisition               26    208ms    0.0%  8.00ms   64.5MiB    0.6%  2.48MiB\n",
      "\u001b[36m\u001b[1m│ \u001b[22m\u001b[39m model update              25   84.5ms    0.0%  3.38ms   4.32MiB    0.0%   177KiB\n",
      "\u001b[36m\u001b[1m└ \u001b[22m\u001b[39m ────────────────────────────────────────────────────────────────────────────────\n",
      "\u001b[36m\u001b[1m[ \u001b[22m\u001b[39m\u001b[36m\u001b[1mInfo: \u001b[22m\u001b[39m2023-11-06T01:25:21.323\titeration: 75\tcurrent optimum: 0.44391115460051633\n"
     ]
    },
    {
     "name": "stdout",
     "output_type": "stream",
     "text": [
      "===== Autosaved =====\n"
     ]
    },
    {
     "name": "stderr",
     "output_type": "stream",
     "text": [
      "\u001b[32mProgress: 100%|█████████████████████████████████████████| Time: 0:00:45\u001b[39m\n"
     ]
    },
    {
     "name": "stdout",
     "output_type": "stream",
     "text": [
      "s1 = 0.79; s3 = 3.76; s4 = 2.06; Δ1=Δ3= 2.50Γ; Δ4 = -6.03Γ\n",
      "Survival: 11 / 20\n",
      "goodness = 0.107"
     ]
    },
    {
     "name": "stderr",
     "output_type": "stream",
     "text": [
      "\u001b[36m\u001b[1m[ \u001b[22m\u001b[39m\u001b[36m\u001b[1mInfo: \u001b[22m\u001b[39m2023-11-06T01:26:11.068\titeration: 76\tcurrent optimum: 0.44391115460051633\n"
     ]
    },
    {
     "name": "stdout",
     "output_type": "stream",
     "text": [
      "\n"
     ]
    },
    {
     "name": "stderr",
     "output_type": "stream",
     "text": [
      "\u001b[32mProgress: 100%|█████████████████████████████████████████| Time: 0:00:46\u001b[39m\n"
     ]
    },
    {
     "name": "stdout",
     "output_type": "stream",
     "text": [
      "s1 = 2.73; s3 = 4.89; s4 = 0.66; Δ1=Δ3= 1.22Γ; Δ4 = -4.32Γ\n",
      "Survival: 14 / 20\n",
      "goodness = 0.048"
     ]
    },
    {
     "name": "stderr",
     "output_type": "stream",
     "text": [
      "\u001b[36m\u001b[1m[ \u001b[22m\u001b[39m\u001b[36m\u001b[1mInfo: \u001b[22m\u001b[39m2023-11-06T01:27:02.172\titeration: 77\tcurrent optimum: 0.44391115460051633\n"
     ]
    },
    {
     "name": "stdout",
     "output_type": "stream",
     "text": [
      "\n"
     ]
    },
    {
     "name": "stderr",
     "output_type": "stream",
     "text": [
      "\u001b[32mProgress: 100%|█████████████████████████████████████████| Time: 0:00:44\u001b[39m\n"
     ]
    },
    {
     "name": "stdout",
     "output_type": "stream",
     "text": [
      "s1 = 2.83; s3 = 2.05; s4 = 0.45; Δ1=Δ3= 2.94Γ; Δ4 = -5.21Γ\n",
      "Survival: 17 / 20\n",
      "goodness = 0.173"
     ]
    },
    {
     "name": "stderr",
     "output_type": "stream",
     "text": [
      "\u001b[36m\u001b[1m[ \u001b[22m\u001b[39m\u001b[36m\u001b[1mInfo: \u001b[22m\u001b[39m2023-11-06T01:27:52.020\titeration: 78\tcurrent optimum: 0.44391115460051633\n"
     ]
    },
    {
     "name": "stdout",
     "output_type": "stream",
     "text": [
      "\n"
     ]
    },
    {
     "name": "stderr",
     "output_type": "stream",
     "text": [
      "\u001b[32mProgress:  95%|███████████████████████████████████████  |  ETA: 0:00:01\u001b[39m\r"
     ]
    },
    {
     "name": "stdout",
     "output_type": "stream",
     "text": [
      "s1 = 0.90; s3 = 3.07; s4 = 3.43; Δ1=Δ3= 4.26Γ; Δ4 = -4.51Γ\n",
      "Survival: 0 / 20\n",
      "goodness = 0.000"
     ]
    },
    {
     "name": "stderr",
     "output_type": "stream",
     "text": [
      "\u001b[32mProgress: 100%|█████████████████████████████████████████| Time: 0:00:15\u001b[39m\n",
      "\u001b[36m\u001b[1m[ \u001b[22m\u001b[39m\u001b[36m\u001b[1mInfo: \u001b[22m\u001b[39m2023-11-06T01:28:11.693\titeration: 79\tcurrent optimum: 0.44391115460051633\n"
     ]
    },
    {
     "name": "stdout",
     "output_type": "stream",
     "text": [
      "\n"
     ]
    },
    {
     "name": "stderr",
     "output_type": "stream",
     "text": [
      "\u001b[32mProgress: 100%|█████████████████████████████████████████| Time: 0:00:44\u001b[39m\n"
     ]
    },
    {
     "name": "stdout",
     "output_type": "stream",
     "text": [
      "s1 = 1.52; s3 = 1.05; s4 = 1.30; Δ1=Δ3= 1.85Γ; Δ4 = -5.77Γ\n",
      "Survival: 9 / 20\n",
      "goodness = 0.127"
     ]
    },
    {
     "name": "stderr",
     "output_type": "stream",
     "text": [
      "\u001b[36m\u001b[1m[ \u001b[22m\u001b[39m\u001b[36m\u001b[1mInfo: \u001b[22m\u001b[39m2023-11-06T01:29:00.656\titeration: 80\tcurrent optimum: 0.44391115460051633\n"
     ]
    },
    {
     "name": "stdout",
     "output_type": "stream",
     "text": [
      "\n"
     ]
    },
    {
     "name": "stderr",
     "output_type": "stream",
     "text": [
      "\u001b[32mProgress: 100%|█████████████████████████████████████████| Time: 0:01:04\u001b[39m\n"
     ]
    },
    {
     "name": "stdout",
     "output_type": "stream",
     "text": [
      "s1 = 3.00; s3 = 4.88; s4 = 3.37; Δ1=Δ3= 3.96Γ; Δ4 = -5.86Γ\n",
      "Survival: 17 / 20\n",
      "goodness = 0.083\n"
     ]
    },
    {
     "name": "stderr",
     "output_type": "stream",
     "text": [
      "\u001b[36m\u001b[1m[ \u001b[22m\u001b[39m\u001b[36m\u001b[1mInfo: \u001b[22m\u001b[39m2023-11-06T01:30:10.208\titeration: 81\tcurrent optimum: 0.44391115460051633\n",
      "\u001b[32mProgress: 100%|█████████████████████████████████████████| Time: 0:01:06\u001b[39m\n"
     ]
    },
    {
     "name": "stdout",
     "output_type": "stream",
     "text": [
      "s1 = 4.68; s3 = 2.44; s4 = 4.01; Δ1=Δ3= 3.81Γ; Δ4 = -4.99Γ\n",
      "Survival: 20 / 20\n",
      "goodness = 0.216\n"
     ]
    },
    {
     "name": "stderr",
     "output_type": "stream",
     "text": [
      "\u001b[36m\u001b[1m[ \u001b[22m\u001b[39m\u001b[36m\u001b[1mInfo: \u001b[22m\u001b[39m2023-11-06T01:31:21.664\titeration: 82\tcurrent optimum: 0.44391115460051633\n",
      "\u001b[32mProgress:  95%|███████████████████████████████████████  |  ETA: 0:00:03\u001b[39m\r"
     ]
    },
    {
     "name": "stdout",
     "output_type": "stream",
     "text": [
      "s1 = 3.88; s3 = 4.80; s4 = 4.62; Δ1=Δ3= 2.88Γ; Δ4 = -6.24Γ\n",
      "Survival: 20 / 20\n",
      "goodness = 0.131\n"
     ]
    },
    {
     "name": "stderr",
     "output_type": "stream",
     "text": [
      "\u001b[32mProgress: 100%|█████████████████████████████████████████| Time: 0:01:04\u001b[39m\n",
      "\u001b[36m\u001b[1m[ \u001b[22m\u001b[39m\u001b[36m\u001b[1mInfo: \u001b[22m\u001b[39m2023-11-06T01:32:30.779\titeration: 83\tcurrent optimum: 0.44391115460051633\n",
      "\u001b[32mProgress:  75%|███████████████████████████████          |  ETA: 0:00:13\u001b[39m"
     ]
    },
    {
     "name": "stdout",
     "output_type": "stream",
     "text": [
      "s1 = 1.73; s3 = 2.27; s4 = 2.33; Δ1=Δ3= 1.34Γ; Δ4 = -4.41Γ\n",
      "Survival: 14 / 20\n",
      "goodness = 0.134\n"
     ]
    },
    {
     "name": "stderr",
     "output_type": "stream",
     "text": [
      "\u001b[32mProgress: 100%|█████████████████████████████████████████| Time: 0:00:47\u001b[39m\n",
      "\u001b[36m\u001b[1m[ \u001b[22m\u001b[39m\u001b[36m\u001b[1mInfo: \u001b[22m\u001b[39m2023-11-06T01:33:24.286\titeration: 84\tcurrent optimum: 0.44391115460051633\n",
      "\u001b[32mProgress: 100%|█████████████████████████████████████████| Time: 0:00:49\u001b[39m\n"
     ]
    },
    {
     "name": "stdout",
     "output_type": "stream",
     "text": [
      "s1 = 1.78; s3 = 2.58; s4 = 3.50; Δ1=Δ3= 2.09Γ; Δ4 = -5.65Γ\n",
      "Survival: 14 / 20\n",
      "goodness = 0.154"
     ]
    },
    {
     "name": "stderr",
     "output_type": "stream",
     "text": [
      "\u001b[36m\u001b[1m[ \u001b[22m\u001b[39m\u001b[36m\u001b[1mInfo: \u001b[22m\u001b[39m2023-11-06T01:34:19.015\titeration: 85\tcurrent optimum: 0.44391115460051633\n"
     ]
    },
    {
     "name": "stdout",
     "output_type": "stream",
     "text": [
      "\n"
     ]
    },
    {
     "name": "stderr",
     "output_type": "stream",
     "text": [
      "\u001b[32mProgress: 100%|█████████████████████████████████████████| Time: 0:00:51\u001b[39m\n"
     ]
    },
    {
     "name": "stdout",
     "output_type": "stream",
     "text": [
      "s1 = 4.22; s3 = 4.75; s4 = 1.09; Δ1=Δ3= 2.75Γ; Δ4 = -6.95Γ\n",
      "Survival: 20 / 20\n",
      "goodness = 0.106\n"
     ]
    },
    {
     "name": "stderr",
     "output_type": "stream",
     "text": [
      "\u001b[36m\u001b[1m[ \u001b[22m\u001b[39m\u001b[36m\u001b[1mInfo: \u001b[22m\u001b[39m2023-11-06T01:35:14.248\titeration: 86\tcurrent optimum: 0.44391115460051633\n",
      "\u001b[32mProgress: 100%|█████████████████████████████████████████| Time: 0:00:59\u001b[39m"
     ]
    },
    {
     "name": "stdout",
     "output_type": "stream",
     "text": [
      "s1 = 2.22; s3 = 4.33; s4 = 4.35; Δ1=Δ3= 1.55Γ; Δ4 = -6.02Γ\n",
      "Survival: 20 / 20\n",
      "goodness = 0.109"
     ]
    },
    {
     "name": "stderr",
     "output_type": "stream",
     "text": [
      "\n",
      "\u001b[36m\u001b[1m[ \u001b[22m\u001b[39m\u001b[36m\u001b[1mInfo: \u001b[22m\u001b[39m2023-11-06T01:36:19.604\titeration: 87\tcurrent optimum: 0.44391115460051633\n"
     ]
    },
    {
     "name": "stdout",
     "output_type": "stream",
     "text": [
      "\n"
     ]
    },
    {
     "name": "stderr",
     "output_type": "stream",
     "text": [
      "\u001b[32mProgress: 100%|█████████████████████████████████████████| Time: 0:00:54\u001b[39m\n"
     ]
    },
    {
     "name": "stdout",
     "output_type": "stream",
     "text": [
      "s1 = 2.41; s3 = 4.01; s4 = 3.76; Δ1=Δ3= 1.01Γ; Δ4 = -5.95Γ\n",
      "Survival: 20 / 20\n",
      "goodness = 0.087\n"
     ]
    },
    {
     "name": "stderr",
     "output_type": "stream",
     "text": [
      "\u001b[36m\u001b[1m[ \u001b[22m\u001b[39m\u001b[36m\u001b[1mInfo: \u001b[22m\u001b[39m2023-11-06T01:37:18.192\titeration: 88\tcurrent optimum: 0.44391115460051633\n",
      "\u001b[32mProgress: 100%|█████████████████████████████████████████| Time: 0:00:37\u001b[39m"
     ]
    },
    {
     "name": "stdout",
     "output_type": "stream",
     "text": [
      "s1 = 0.55; s3 = 0.92; s4 = 0.41; Δ1=Δ3= 3.05Γ; Δ4 = -5.71Γ\n",
      "Survival: 5 / 20\n",
      "goodness = 0.043"
     ]
    },
    {
     "name": "stderr",
     "output_type": "stream",
     "text": [
      "\n",
      "\u001b[36m\u001b[1m[ \u001b[22m\u001b[39m\u001b[36m\u001b[1mInfo: \u001b[22m\u001b[39m2023-11-06T01:38:01.306\titeration: 89\tcurrent optimum: 0.44391115460051633\n"
     ]
    },
    {
     "name": "stdout",
     "output_type": "stream",
     "text": [
      "\n"
     ]
    },
    {
     "name": "stderr",
     "output_type": "stream",
     "text": [
      "\u001b[32mProgress: 100%|█████████████████████████████████████████| Time: 0:00:45\u001b[39m\n"
     ]
    },
    {
     "name": "stdout",
     "output_type": "stream",
     "text": [
      "s1 = 1.42; s3 = 3.26; s4 = 2.47; Δ1=Δ3= 2.71Γ; Δ4 = -3.03Γ\n",
      "Survival: 17 / 20\n",
      "goodness = 0.163\n"
     ]
    },
    {
     "name": "stderr",
     "output_type": "stream",
     "text": [
      "\u001b[36m\u001b[1m[ \u001b[22m\u001b[39m\u001b[36m\u001b[1mInfo: \u001b[22m\u001b[39m2023-11-06T01:38:51.868\titeration: 90\tcurrent optimum: 0.44391115460051633\n",
      "\u001b[32mProgress: 100%|█████████████████████████████████████████| Time: 0:00:46\u001b[39m\n"
     ]
    },
    {
     "name": "stdout",
     "output_type": "stream",
     "text": [
      "s1 = 1.37; s3 = 0.54; s4 = 1.96; Δ1=Δ3= 2.71Γ; Δ4 = -5.91Γ\n",
      "Survival: 8 / 20\n",
      "goodness = 0.196\n"
     ]
    },
    {
     "name": "stderr",
     "output_type": "stream",
     "text": [
      "\u001b[36m\u001b[1m[ \u001b[22m\u001b[39m\u001b[36m\u001b[1mInfo: \u001b[22m\u001b[39m2023-11-06T01:39:43.923\titeration: 91\tcurrent optimum: 0.44391115460051633\n",
      "\u001b[32mProgress: 100%|█████████████████████████████████████████| Time: 0:00:36\u001b[39m\n"
     ]
    },
    {
     "name": "stdout",
     "output_type": "stream",
     "text": [
      "s1 = 3.52; s3 = 0.79; s4 = 0.47; Δ1=Δ3= 5.43Γ; Δ4 = -3.16Γ\n",
      "Survival: 3 / 20\n",
      "goodness = 0.030"
     ]
    },
    {
     "name": "stderr",
     "output_type": "stream",
     "text": [
      "\u001b[36m\u001b[1m[ \u001b[22m\u001b[39m\u001b[36m\u001b[1mInfo: \u001b[22m\u001b[39m2023-11-06T01:40:24.265\titeration: 92\tcurrent optimum: 0.44391115460051633\n"
     ]
    },
    {
     "name": "stdout",
     "output_type": "stream",
     "text": [
      "\n"
     ]
    },
    {
     "name": "stderr",
     "output_type": "stream",
     "text": [
      "\u001b[32mProgress: 100%|█████████████████████████████████████████| Time: 0:01:06\u001b[39m\n"
     ]
    },
    {
     "name": "stdout",
     "output_type": "stream",
     "text": [
      "s1 = 4.91; s3 = 1.66; s4 = 4.83; Δ1=Δ3= 4.01Γ; Δ4 = -6.47Γ\n",
      "Survival: 17 / 20\n",
      "goodness = 0.243\n"
     ]
    },
    {
     "name": "stderr",
     "output_type": "stream",
     "text": [
      "\u001b[36m\u001b[1m[ \u001b[22m\u001b[39m\u001b[36m\u001b[1mInfo: \u001b[22m\u001b[39m2023-11-06T01:41:35.530\titeration: 93\tcurrent optimum: 0.44391115460051633\n",
      "\u001b[32mProgress:  40%|█████████████████                        |  ETA: 0:00:16\u001b[39m\r"
     ]
    },
    {
     "name": "stdout",
     "output_type": "stream",
     "text": [
      "s1 = 3.27; s3 = 4.90; s4 = 3.80; Δ1=Δ3= 5.03Γ; Δ4 = -6.91Γ\n",
      "Survival: 0 / 20\n",
      "goodness = 0.000\n",
      "s1 = 2.30; s3 = 2.25; s4 = 3.70; Δ1=Δ3= 5.20Γ; Δ4 = -5.52Γ\n",
      "Survival: 0 / 20\n",
      "goodness = 0.000\n",
      "s1 = 3.01; s3 = 1.35; s4 = 2.59; Δ1=Δ3= 3.62Γ; Δ4 = -3.91Γ\n",
      "Survival: 16 / 20\n",
      "goodness = 0.216\n",
      "s1 = 3.33; s3 = 2.97; s4 = 0.36; Δ1=Δ3= 4.44Γ; Δ4 = -3.95Γ\n",
      "Survival: 0 / 20\n",
      "goodness = 0.000\n",
      "s1 = 2.38; s3 = 4.47; s4 = 4.74; Δ1=Δ3= 1.93Γ; Δ4 = -6.00Γ\n",
      "Survival: 15 / 20\n",
      "goodness = 0.073\n",
      "s1 = 1.34; s3 = 3.28; s4 = 4.21; Δ1=Δ3= 5.35Γ; Δ4 = -5.90Γ\n",
      "Survival: 0 / 20\n",
      "goodness = 0.000\n",
      "s1 = 1.27; s3 = 1.22; s4 = 0.36; Δ1=Δ3= 5.42Γ; Δ4 = -4.91Γ\n",
      "Survival: 0 / 20\n",
      "goodness = 0.000\n",
      "===== Autosaved =====\n",
      "s1 = 2.59; s3 = 3.75; s4 = 2.06; Δ1=Δ3= 0.52Γ; Δ4 = -6.94Γ\n",
      "Survival: 18 / 20\n",
      "goodness = 0.083\n",
      "s1 = 3.29; s3 = 4.62; s4 = 4.06; Δ1=Δ3= 0.74Γ; Δ4 = -5.14Γ\n",
      "Survival: 20 / 20\n",
      "goodness = 0.077\n",
      "s1 = 1.52; s3 = 0.63; s4 = 0.50; Δ1=Δ3= 0.89Γ; Δ4 = -5.28Γ\n",
      "Survival: 4 / 20\n",
      "goodness = 0.012\n",
      "s1 = 1.51; s3 = 4.02; s4 = 2.30; Δ1=Δ3= 4.64Γ; Δ4 = -5.76Γ\n",
      "Survival: 0 / 20\n",
      "goodness = 0.000\n",
      "s1 = 2.03; s3 = 3.15; s4 = 1.33; Δ1=Δ3= 5.68Γ; Δ4 = -3.53Γ\n",
      "Survival: 0 / 20\n",
      "goodness = 0.000\n",
      "s1 = 2.64; s3 = 2.57; s4 = 3.57; Δ1=Δ3= 2.67Γ; Δ4 = -3.57Γ\n",
      "Survival: 17 / 20\n",
      "goodness = 0.139\n",
      "s1 = 0.89; s3 = 2.04; s4 = 2.75; Δ1=Δ3= 0.91Γ; Δ4 = -6.27Γ\n",
      "Survival: 13 / 20\n",
      "goodness = 0.134\n",
      "s1 = 0.80; s3 = 1.68; s4 = 3.77; Δ1=Δ3= 2.19Γ; Δ4 = -3.90Γ\n",
      "Survival: 15 / 20\n",
      "goodness = 0.144\n",
      "s1 = 4.87; s3 = 4.72; s4 = 0.80; Δ1=Δ3= 5.22Γ; Δ4 = -4.23Γ\n",
      "Survival: 0 / 20\n",
      "goodness = 0.000\n",
      "s1 = 1.38; s3 = 3.46; s4 = 4.76; Δ1=Δ3= 1.45Γ; Δ4 = -4.50Γ\n",
      "Survival: 17 / 20\n",
      "goodness = 0.095\n",
      "s1 = 1.53; s3 = 1.37; s4 = 4.29; Δ1=Δ3= 4.09Γ; Δ4 = -3.58Γ\n",
      "Survival: 0 / 20\n",
      "goodness = 0.000\n",
      "s1 = 1.89; s3 = 4.20; s4 = 1.00; Δ1=Δ3= 4.09Γ; Δ4 = -5.46Γ\n",
      "Survival: 3 / 20\n",
      "goodness = 0.014\n",
      "s1 = 4.37; s3 = 2.58; s4 = 0.32; Δ1=Δ3= 5.80Γ; Δ4 = -4.13Γ\n",
      "Survival: 0 / 20\n",
      "goodness = 0.000\n",
      "s1 = 4.49; s3 = 2.30; s4 = 3.21; Δ1=Δ3= 1.60Γ; Δ4 = -6.42Γ\n",
      "Survival: 14 / 20\n",
      "goodness = 0.070\n",
      "s1 = 2.35; s3 = 2.12; s4 = 3.42; Δ1=Δ3= 1.95Γ; Δ4 = -3.36Γ\n",
      "Survival: 17 / 20\n",
      "goodness = 0.134\n",
      "s1 = 0.81; s3 = 2.41; s4 = 1.08; Δ1=Δ3= 0.93Γ; Δ4 = -5.81Γ\n",
      "Survival: 13 / 20\n",
      "goodness = 0.170\n",
      "s1 = 2.26; s3 = 3.09; s4 = 4.40; Δ1=Δ3= 1.21Γ; Δ4 = -6.37Γ\n",
      "Survival: 18 / 20\n",
      "goodness = 0.107\n",
      "s1 = 1.07; s3 = 4.76; s4 = 3.98; Δ1=Δ3= 4.28Γ; Δ4 = -3.49Γ\n",
      "Survival: 0 / 20\n",
      "goodness = 0.000\n",
      "s1 = 2.88; s3 = 1.04; s4 = 1.31; Δ1=Δ3= 3.98Γ; Δ4 = -3.90Γ\n",
      "Survival: 11 / 20\n",
      "goodness = 0.183\n",
      "s1 = 0.62; s3 = 3.25; s4 = 3.69; Δ1=Δ3= 2.80Γ; Δ4 = -3.90Γ\n",
      "Survival: 3 / 20\n",
      "goodness = 0.019\n",
      "s1 = 2.12; s3 = 1.81; s4 = 0.44; Δ1=Δ3= 3.80Γ; Δ4 = -6.23Γ\n",
      "Survival: 18 / 20\n",
      "goodness = 0.324\n",
      "s1 = 3.77; s3 = 0.57; s4 = 1.26; Δ1=Δ3= 1.57Γ; Δ4 = -3.13Γ\n",
      "Survival: 10 / 20\n",
      "goodness = 0.053\n",
      "s1 = 3.88; s3 = 1.53; s4 = 1.72; Δ1=Δ3= 5.27Γ; Δ4 = -4.77Γ\n",
      "Survival: 0 / 20\n",
      "goodness = 0.000\n",
      "s1 = 1.51; s3 = 3.71; s4 = 2.71; Δ1=Δ3= 2.71Γ; Δ4 = -3.26Γ\n",
      "Survival: 16 / 20\n",
      "goodness = 0.128\n"
     ]
    }
   ],
   "source": [
    "using Serialization\n",
    "working_dir = \"C:\\\\Users\\\\halla\\\\OneDrive\\\\Desktop\\\\blueMOT_sim\\\\Bayesian\"\n",
    "# opt = deserialize(joinpath(working_dir, \"opt_constrained_red_freq.jl\"))\n",
    "    \n",
    "while true\n",
    "    maxiterations!(opt, 25)\n",
    "    result = boptimize!(opt)\n",
    "    serialize(joinpath(working_dir, \"opt_high_red_det1.jl\"), opt)\n",
    "    println(\"===== Autosaved =====\")\n",
    "    \n",
    "end"
   ]
  },
  {
   "cell_type": "code",
   "execution_count": null,
   "id": "0234bfab",
   "metadata": {},
   "outputs": [],
   "source": []
  },
  {
   "cell_type": "code",
   "execution_count": null,
   "id": "5ff3f99f",
   "metadata": {},
   "outputs": [],
   "source": []
  },
  {
   "cell_type": "code",
   "execution_count": null,
   "id": "df9eb643",
   "metadata": {},
   "outputs": [],
   "source": []
  },
  {
   "cell_type": "code",
   "execution_count": null,
   "id": "1c7b0002",
   "metadata": {},
   "outputs": [],
   "source": []
  },
  {
   "cell_type": "code",
   "execution_count": null,
   "id": "2f35f722",
   "metadata": {},
   "outputs": [],
   "source": []
  },
  {
   "cell_type": "code",
   "execution_count": null,
   "id": "8442e768-e5ee-4575-b0e4-958f3f497b58",
   "metadata": {},
   "outputs": [],
   "source": []
  },
  {
   "cell_type": "code",
   "execution_count": null,
   "id": "00494baf",
   "metadata": {},
   "outputs": [],
   "source": []
  },
  {
   "cell_type": "code",
   "execution_count": null,
   "id": "80945aba",
   "metadata": {},
   "outputs": [],
   "source": []
  },
  {
   "cell_type": "code",
   "execution_count": null,
   "id": "a3d7c8b6",
   "metadata": {},
   "outputs": [],
   "source": []
  },
  {
   "cell_type": "code",
   "execution_count": null,
   "id": "89f098b1",
   "metadata": {},
   "outputs": [],
   "source": []
  },
  {
   "cell_type": "code",
   "execution_count": null,
   "id": "ba596761-8ca5-4808-8429-5fcb0c6705a0",
   "metadata": {},
   "outputs": [],
   "source": []
  },
  {
   "cell_type": "markdown",
   "id": "45695fd2-fcc6-40a3-92e8-b16dc8748252",
   "metadata": {},
   "source": [
    "## Scanning configurations"
   ]
  },
  {
   "cell_type": "code",
   "execution_count": null,
   "id": "2022eb1a-6bf4-4882-8f98-31c2a93d9bf2",
   "metadata": {},
   "outputs": [],
   "source": [
    "# fixed:\n",
    "t_end = 30e-3 #s\n",
    "n_values = 20\n",
    "ramp_time = 4e-3 #s\n",
    "B_gradient = 30 #G/cm\n",
    "\n",
    "temp = @with_unit 0.5 \"mK\"\n",
    "diameter = @with_unit 0.6 \"mm\"\n",
    "displacement = [0.0, 0.0, 0.0]\n",
    "kick = [0,0, 0.0, 0.0]\n",
    "\n",
    "# variable:\n",
    "pol1_x_list = [σ⁻]\n",
    "pol2_x_list = [σ⁺]\n",
    "pol3_x_list = [σ⁻]\n",
    "pol4_x_list = [σ⁺]\n",
    "\n",
    "s1_list = [1.5, 2.0, 2.5]\n",
    "s2_list = [0.0]\n",
    "s3_list = [0.05, 0.1]\n",
    "s4_list = [0.05, 0.1]\n",
    "\n",
    "Δ1_list = [2.0, 4.0, 6.0] .* Γ\n",
    "Δ2_list = [0.0]\n",
    "Δ3_list = [-0.5, -1.0, -1.5] .* Γ\n",
    "Δ4_list = [0.5, 1.0, 1.5] .* Γ\n",
    "\n",
    "lists = [pol1_x_list, pol2_x_list, pol3_x_list, pol4_x_list,\n",
    "        s1_list, s2_list, s3_list, s4_list,\n",
    "        Δ1_list, Δ2_list, Δ3_list, Δ4_list]\n",
    "\n",
    "n_scans = 1\n",
    "for l in lists\n",
    "   n_scans *= length(l) \n",
    "end\n",
    "\n",
    "comments = \"scan d3 +- 1MHz\";\n",
    "saving_dir = make_scan_folder(lists, working_dir, 1, comments);\n",
    "\n",
    "scan_counter = 0\n",
    "indicies = [\n",
    "    1,1,1,1, \n",
    "    1,1,1,1, \n",
    "    1,1,1,1\n",
    "];"
   ]
  },
  {
   "cell_type": "code",
   "execution_count": null,
   "id": "16f127fc-f238-44cb-96de-b52fcee583f3",
   "metadata": {},
   "outputs": [],
   "source": [
    "while scan_counter < n_scans\n",
    "    @printf(\"============= configuration %i / %i =============\", scan_counter+1, n_scans)\n",
    "    println()\n",
    "    \n",
    "    pol1_x = pol1_x_list[indicies[1]]\n",
    "    pol2_x = pol2_x_list[indicies[2]]\n",
    "    pol3_x = pol3_x_list[indicies[3]]\n",
    "    pol4_x = pol4_x_list[indicies[4]]\n",
    "    s1 = s1_list[indicies[5]]\n",
    "    s2 = s2_list[indicies[6]]\n",
    "    s3 = s3_list[indicies[7]]\n",
    "    s4 = s4_list[indicies[8]]\n",
    "    Δ1 = Δ1_list[indicies[9]]\n",
    "    Δ2 = Δ2_list[indicies[10]]\n",
    "    Δ3 = Δ3_list[indicies[11]]\n",
    "    Δ4 = Δ4_list[indicies[12]]\n",
    "    \n",
    "    params = MutableNamedTuple(t_end = t_end, n_values = n_values,\n",
    "                            pol1_x=pol1_x, pol2_x=pol2_x, pol3_x=pol3_x, pol4_x=pol4_x, \n",
    "                            s1=s1, s2=s2, s3=s3, s4=s4,\n",
    "                            Δ1=Δ1, Δ2=Δ2, Δ3=Δ3, Δ4=Δ4, \n",
    "                            B_gradient = B_gradient, \n",
    "                            temp=temp, diameter=diameter, \n",
    "                            displacement=displacement, kick=kick,\n",
    "                            ramp_time = ramp_time)\n",
    "\n",
    "    test_i = log_test_info(saving_dir,1,params)\n",
    "    \n",
    "    results = simulate_particles(package, params, params.n_values);\n",
    "\n",
    "    save_results(saving_dir, test_i, results)\n",
    "    \n",
    "    scan_counter += 1 \n",
    "    next_configuration!(lists, indicies)\n",
    "    \n",
    "end\n",
    ";"
   ]
  },
  {
   "cell_type": "code",
   "execution_count": null,
   "id": "0bd27fc5-9ad6-4246-8cb6-83e913bc3cc5",
   "metadata": {},
   "outputs": [],
   "source": []
  }
 ],
 "metadata": {
  "kernelspec": {
   "display_name": "Julia (20 threads) 1.9.2",
   "language": "julia",
   "name": "julia-_20-threads_-1.9"
  },
  "language_info": {
   "file_extension": ".jl",
   "mimetype": "application/julia",
   "name": "julia",
   "version": "1.9.2"
  }
 },
 "nbformat": 4,
 "nbformat_minor": 5
}
