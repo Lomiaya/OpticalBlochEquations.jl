{
 "cells": [
  {
   "cell_type": "code",
   "execution_count": 1,
   "id": "eb68f43c-512c-49e4-b9ae-e0ead28ff26c",
   "metadata": {},
   "outputs": [],
   "source": [
    "using Revise"
   ]
  },
  {
   "cell_type": "code",
   "execution_count": 2,
   "id": "95aa508f-186f-41d9-9dee-7045b9117fa1",
   "metadata": {},
   "outputs": [
    {
     "name": "stderr",
     "output_type": "stream",
     "text": [
      "WARNING: Method definition Zeeman_x(Any, Any) in module Main at G:\\My Drive\\github\\OpticalBlochEquations\\examples\\ipynb_sources\\toy_models\\CaOH_scan\\CaOH_scan_helper_v2.jl:62 overwritten at G:\\My Drive\\github\\OpticalBlochEquations\\examples\\ipynb_sources\\toy_models\\CaOH_scan\\CaOH_scan_helper_v2.jl:135.\n",
      "WARNING: Method definition Zeeman_y(Any, Any) in module Main at G:\\My Drive\\github\\OpticalBlochEquations\\examples\\ipynb_sources\\toy_models\\CaOH_scan\\CaOH_scan_helper_v2.jl:63 overwritten at G:\\My Drive\\github\\OpticalBlochEquations\\examples\\ipynb_sources\\toy_models\\CaOH_scan\\CaOH_scan_helper_v2.jl:136.\n",
      "WARNING: Method definition Zeeman_z(Any, Any) in module Main at G:\\My Drive\\github\\OpticalBlochEquations\\examples\\ipynb_sources\\toy_models\\CaOH_scan\\CaOH_scan_helper_v2.jl:64 overwritten at G:\\My Drive\\github\\OpticalBlochEquations\\examples\\ipynb_sources\\toy_models\\CaOH_scan\\CaOH_scan_helper_v2.jl:137.\n"
     ]
    }
   ],
   "source": [
    "using\n",
    "    QuantumStates,\n",
    "    OpticalBlochEquations,\n",
    "    DifferentialEquations,\n",
    "    UnitsToValue,\n",
    "    LinearAlgebra,\n",
    "    Printf,\n",
    "    Plots,\n",
    "    Random,\n",
    "    StatsBase\n",
    ";\n",
    "\n",
    "using Distributions\n",
    "\n",
    "import MutableNamedTuples: MutableNamedTuple\n",
    "import StructArrays: StructArray, StructVector\n",
    "import StaticArrays: @SVector, SVector\n",
    "import LinearAlgebra: norm, ⋅, adjoint!, diag\n",
    "import LoopVectorization: @turbo\n",
    "using BenchmarkTools\n",
    "using Parameters\n",
    "using LsqFit\n",
    "\n",
    "import ProgressMeter: Progress, next!\n",
    "\n",
    "const λ = 626e-9\n",
    "const Γ = 2π* 6.4e6\n",
    "const m = @with_unit 57 \"u\"\n",
    "const k = 2π / λ\n",
    "_μB = (μ_B / h) * 1e-4;\n",
    "\n",
    "include(\"CaOH_scan_helper_v2.jl\")\n",
    "working_dir = \"G:\\\\My Drive\\\\github\\\\OpticalBlochEquations\\\\examples\\\\ipynb_sources\\\\toy_models\\\\CaOH_scan\\\\scan_3frequencies\"\n",
    ";"
   ]
  },
  {
   "cell_type": "code",
   "execution_count": 3,
   "id": "de4dbeed-384d-491d-9257-f185a577b5ae",
   "metadata": {},
   "outputs": [],
   "source": [
    "function survived(t_end, times, trajectories)\n",
    "    _survived = Int64[]\n",
    "    for i ∈ eachindex(trajectories)\n",
    "        if times[i][end] * 1e-3 ≈ t_end\n",
    "            push!(_survived, i)\n",
    "        end\n",
    "    end\n",
    "    return _survived\n",
    "end\n",
    "\n",
    "function cloud_size(trajectories, i)\n",
    "    std(trajectory[i] for trajectory ∈ trajectories)\n",
    "end\n",
    "\n",
    "\"\"\"\n",
    "    Evaluates the density given a set of trajectories.\n",
    "\"\"\"\n",
    "function density(t_end, results)\n",
    "    \n",
    "    times, x_trajectories, y_trajectories, z_trajectories = results.times, results.x_trajectories, results.y_trajectories, results.z_trajectories\n",
    "    \n",
    "    # Sample number of photons before the molecule is lost to vibrational dark state\n",
    "    n_molecules = length(times)\n",
    "    \n",
    "    _survived = survived(t_end, times, x_trajectories)\n",
    "    println(_survived)\n",
    "    \n",
    "    surviving_x_trajectories = x_trajectories[_survived]\n",
    "    surviving_y_trajectories = y_trajectories[_survived]\n",
    "    surviving_z_trajectories = z_trajectories[_survived]\n",
    "    \n",
    "    n = length(_survived)\n",
    "    _density = Float64(n)\n",
    "    if n > 1\n",
    "        idx_end = length(surviving_x_trajectories[1])\n",
    "        σ_x = cloud_size(surviving_x_trajectories, idx_end)\n",
    "        σ_y = cloud_size(surviving_y_trajectories, idx_end)\n",
    "        σ_z = cloud_size(surviving_z_trajectories, idx_end)\n",
    "        _density /= σ_x * σ_y * σ_z\n",
    "    end\n",
    "    return _density\n",
    "end\n",
    "\n",
    "function distance(x_trajectory, y_trajectory, z_trajectory, idx)\n",
    "    return sqrt(x_trajectory[idx]^2 + y_trajectory[idx]^2 + z_trajectory[idx]^2)\n",
    "end\n",
    "\n",
    "\"\"\"\n",
    "    Evaluates how many particles are within a 0.3 mm radius.\n",
    "\"\"\"\n",
    "function goodness(t_end, results)\n",
    "    \n",
    "    times, x_trajectories, y_trajectories, z_trajectories = results.times, results.x_trajectories, results.y_trajectories, results.z_trajectories\n",
    "    \n",
    "    # Sample number of photons before the molecule is lost to vibrational dark state\n",
    "    n_molecules = length(times)\n",
    "    \n",
    "    _survived = survived(t_end, times, x_trajectories)\n",
    "    println(_survived)\n",
    "    \n",
    "    surviving_x_trajectories = x_trajectories[_survived]\n",
    "    surviving_y_trajectories = y_trajectories[_survived]\n",
    "    surviving_z_trajectories = z_trajectories[_survived]\n",
    "    \n",
    "    n = 0\n",
    "    for survived_idx ∈ _survived\n",
    "        idx_end = length(x_trajectories[survived_idx])\n",
    "        if distance(x_trajectories[survived_idx], y_trajectories[survived_idx], z_trajectories[survived_idx], idx_end) < 0.5\n",
    "            n += 1\n",
    "        end\n",
    "    end\n",
    "    return n\n",
    "end\n",
    ";"
   ]
  },
  {
   "cell_type": "markdown",
   "id": "e4453cb6-d6f1-4d9c-b8f6-1add3157ae21",
   "metadata": {},
   "source": [
    "### Set up the molecule"
   ]
  },
  {
   "cell_type": "code",
   "execution_count": 4,
   "id": "18ccd92a-51ee-4774-af90-92e948637eca",
   "metadata": {},
   "outputs": [],
   "source": [
    "package = get_CaOH_package()\n",
    "n_states = length(package.states)\n",
    "n_excited = package.n_excited\n",
    ";"
   ]
  },
  {
   "cell_type": "code",
   "execution_count": 5,
   "id": "6eec7ca6-a7a8-4731-a3b0-229dd6220dc0",
   "metadata": {},
   "outputs": [],
   "source": [
    "# initial_params = [\n",
    "#     2.0, 0.05, 0.05,\n",
    "#     4.0, -1.0, 0.5\n",
    "# ]\n",
    "\n",
    "global scan_counter = 1\n",
    "\n",
    "initial_params = [\n",
    "    0.0, 0.0, 0.0,\n",
    "    0.0, 0.0, 0.0\n",
    "]\n",
    "\n",
    "\"\"\"\n",
    "    Function to optimize (density).\n",
    "\"\"\"\n",
    "function f(x)\n",
    "    s1 = x[1]\n",
    "    s3 = x[2]\n",
    "    s4 = x[3]\n",
    "    Δ1 = x[4]*Γ\n",
    "    Δ3 = x[5]*Γ\n",
    "    Δ4 = x[6]*Γ\n",
    "    \n",
    "    temp = @with_unit 0.1 \"mK\"\n",
    "    diameter = @with_unit 0.6 \"mm\"\n",
    "    displacement = [0.0, 0.0, 0.0]\n",
    "    kick = [0,0, 0.0, 0.0]\n",
    "    \n",
    "    params = MutableNamedTuple(\n",
    "        t_end = 15e-3, n_values = 20,\n",
    "        pol1_x=σ⁻, pol2_x=σ⁺, pol3_x=σ⁻, pol4_x=σ⁺, \n",
    "        s1=s1, s2=0.0, s3=s3, s4=s4,\n",
    "        Δ1=Δ1, Δ2=-0.8Γ, Δ3=Δ3, Δ4=Δ4,\n",
    "        B_gradient = 30,\n",
    "        temp=temp, \n",
    "        diameter=diameter,\n",
    "        displacement=displacement, \n",
    "        kick=kick,\n",
    "        ramp_time = 10e-3)\n",
    "    \n",
    "    results = simulate_particles_v2(package, params)\n",
    "    \n",
    "    _goodness = goodness(params.t_end, results)\n",
    "    println(results.photons_scattered)\n",
    "    println(_goodness)\n",
    "    \n",
    "    # Save the results\n",
    "    serialize(working_dir * \"\\\\\" * string(scan_counter) * \".jl\", results)\n",
    "    global scan_counter += 1\n",
    "    \n",
    "    return _goodness\n",
    "end\n",
    ";    "
   ]
  },
  {
   "cell_type": "code",
   "execution_count": null,
   "id": "3221d146-70a8-48f7-a39d-6283cfc80b1f",
   "metadata": {},
   "outputs": [
    {
     "name": "stderr",
     "output_type": "stream",
     "text": [
      "WARNING: using BayesianOptimization.Progress in module Main conflicts with an existing identifier.\n",
      "\u001b[33m\u001b[1m┌ \u001b[22m\u001b[39m\u001b[33m\u001b[1mWarning: \u001b[22m\u001b[39muse values(kwargs) and keys(kwargs) instead of kwargs.data and kwargs.itr\n",
      "\u001b[33m\u001b[1m│ \u001b[22m\u001b[39m  caller = #MAPGPOptimizer#19 at gp.jl:37 [inlined]\n",
      "\u001b[33m\u001b[1m└ \u001b[22m\u001b[39m\u001b[90m@ Core C:\\Users\\halla\\.julia\\packages\\BayesianOptimization\\nq1HY\\src\\models\\gp.jl:37\u001b[39m\n"
     ]
    }
   ],
   "source": [
    "using BayesianOptimization, GaussianProcesses\n",
    "\n",
    "model = ElasticGPE(6,                            # 6 input dimensions\n",
    "                   mean = MeanConst(1.),         \n",
    "                   kernel = SEArd([0.1, 0.1, 0.1, 0.1, 0.1, 0.1], 5.),\n",
    "                   logNoise = 0.,\n",
    "                   capacity = 3000)              # the initial capacity of the GP is 3000 samples\n",
    "set_priors!(model.mean, [Normal(1, 1)])\n",
    "\n",
    "# Optimize the hyperparameters of the GP using maximum a posteriori (MAP) estimates every x steps\n",
    "modeloptimizer = MAPGPOptimizer(\n",
    "    every = 1, \n",
    "    noisebounds = [-3, 3], # bounds of the logNoise\n",
    "    kernbounds = [[-3, -3, -3, -3, -3, -3, -5], [3, 3, 3, 3, 3, 3, 5]],  # bounds of the parameters GaussianProcesses.get_param_names(model.kernel)\n",
    "    maxeval = 1000)\n",
    "\n",
    "opt = BOpt(f,\n",
    "           model,\n",
    "           UpperConfidenceBound(),                   # type of acquisition\n",
    "           modeloptimizer,                        \n",
    "           [0.0, 0.0, 0.0, +0.0, -2.0, +0.0],        # lowerbounds\n",
    "           [5.0, 0.3, 0.3, +4.0, +0.0, +2.0],        # upperbounds         \n",
    "           repetitions = 1,                          # evaluate the function for each input x times\n",
    "           maxiterations = 2000,                       # evaluate at x input positions\n",
    "           sense = Max,                              # maximize the function\n",
    "           acquisitionoptions = (method = :LD_LBFGS, # run optimization of acquisition function with NLopts :LD_LBFGS method\n",
    "                                 restarts = 5,       # run the NLopt method from x random initial conditions each time\n",
    "                                 maxtime = 1.0,      # run the NLopt method for at most 1.0 second each time\n",
    "                                 maxeval = 1000),    # run the NLopt methods for at most 1000 iterations (for other options see https://github.com/JuliaOpt/NLopt.jl)\n",
    "           verbosity = BayesianOptimization.Progress)\n",
    "\n",
    "result = boptimize!(opt)"
   ]
  },
  {
   "cell_type": "code",
   "execution_count": null,
   "id": "882592e7-e9d5-42c2-a513-a7e090b4888a",
   "metadata": {},
   "outputs": [],
   "source": [
    "# using BayesianOptimization, GaussianProcesses\n",
    "# working_dir = \"G:\\\\My Drive\\\\github\\\\OpticalBlochEquations\\\\examples\\\\ipynb_sources\\\\toy_models\\\\CaOH_scan\"\n",
    "# # serialize(joinpath(working_dir, \"opt_10ms_ramp.jl\"), opt)\n",
    "# opt = deserialize(joinpath(working_dir, \"opt_10ms_ramp.jl\"));"
   ]
  },
  {
   "cell_type": "code",
   "execution_count": null,
   "id": "514881da-2443-482a-9b9d-0d2649f743b0",
   "metadata": {},
   "outputs": [],
   "source": [
    "maxiterations!(opt, 2000)\n",
    "result = boptimize!(opt)"
   ]
  },
  {
   "cell_type": "code",
   "execution_count": null,
   "id": "97fd0032-f320-4997-98e4-80926471c879",
   "metadata": {},
   "outputs": [],
   "source": [
    "result.model_optimizer"
   ]
  },
  {
   "cell_type": "code",
   "execution_count": 10,
   "id": "a287f3d3-a3b7-4fd3-b81b-e9c0af0969ae",
   "metadata": {},
   "outputs": [
    {
     "data": {
      "text/plain": [
       "6-element Vector{Float64}:\n",
       "  1.8500140149461572\n",
       "  0.11157999311078935\n",
       "  0.3\n",
       "  1.4600935325206446\n",
       " -1.7353236997532122\n",
       "  0.5909659458042857"
      ]
     },
     "execution_count": 10,
     "metadata": {},
     "output_type": "execute_result"
    }
   ],
   "source": [
    "result.observed_optimizer"
   ]
  },
  {
   "cell_type": "code",
   "execution_count": 12,
   "id": "95aae68a-7b91-4203-ab85-60aa105868e2",
   "metadata": {},
   "outputs": [
    {
     "name": "stderr",
     "output_type": "stream",
     "text": [
      "\u001b[36m\u001b[1m[ \u001b[22m\u001b[39m\u001b[36m\u001b[1mInfo: \u001b[22m\u001b[39m2023-10-02T13:02:38.297\titeration: 102\tcurrent optimum: 13.0\n",
      "\u001b[32mProgress: 100%|█████████████████████████████████████████| Time: 0:00:57\u001b[39m\n"
     ]
    },
    {
     "name": "stdout",
     "output_type": "stream",
     "text": [
      "[2, 3, 4, 5, 6, 7, 8, 9, 12, 13, 15, 16, 17, 18, 19]\n",
      "[6836.0, 8634.0, 9085.0, 8308.0, 8289.0, 8614.0, 8559.0, 8465.0, 8193.0, 4185.0, 3205.0, 8224.0, 8245.0, 3700.0, 8500.0, 8816.0, 8596.0, 8020.0, 8193.0, 6206.0]\n",
      "7\n"
     ]
    },
    {
     "name": "stderr",
     "output_type": "stream",
     "text": [
      "\u001b[36m\u001b[1m[ \u001b[22m\u001b[39m\u001b[36m\u001b[1mInfo: \u001b[22m\u001b[39m2023-10-02T13:03:35.725\titeration: 103\tcurrent optimum: 13.0\n",
      "\u001b[32mProgress: 100%|█████████████████████████████████████████| Time: 0:00:35\u001b[39m\n",
      "\u001b[36m\u001b[1m[ \u001b[22m\u001b[39m\u001b[36m\u001b[1mInfo: \u001b[22m\u001b[39m2023-10-02T13:04:11.428\titeration: 104\tcurrent optimum: 13.0\n"
     ]
    },
    {
     "name": "stdout",
     "output_type": "stream",
     "text": [
      "[12]\n",
      "[4228.0, 942.0, 2132.0, 17804.0, 2515.0, 6170.0, 3599.0, 4708.0, 14890.0, 19911.0, 2917.0, 21585.0, 1564.0, 12315.0, 10900.0, 7020.0, 2905.0, 17023.0, 7463.0, 13740.0]\n",
      "1\n"
     ]
    },
    {
     "name": "stderr",
     "output_type": "stream",
     "text": [
      "\u001b[32mProgress: 100%|█████████████████████████████████████████| Time: 0:00:45\u001b[39m"
     ]
    },
    {
     "name": "stdout",
     "output_type": "stream",
     "text": [
      "[1, 3, 4, 8, 9, 10, 11, 13, 17, 19]\n",
      "[7901.0, 2445.0, 7920.0, 8067.0, 5697.0, 2830.0, 1445.0, 7688.0, 8801.0, 8720.0, 8156.0, 1290.0, 7708.0, 5246.0, 1721.0, 7470.0, 7945.0, 8091.0, 7766.0, 4823.0]\n",
      "9\n"
     ]
    },
    {
     "name": "stderr",
     "output_type": "stream",
     "text": [
      "\n",
      "\u001b[36m\u001b[1m[ \u001b[22m\u001b[39m\u001b[36m\u001b[1mInfo: \u001b[22m\u001b[39m2023-10-02T13:04:56.679\titeration: 105\tcurrent optimum: 13.0\n",
      "\u001b[32mProgress: 100%|█████████████████████████████████████████| Time: 0:00:42\u001b[39m\n"
     ]
    },
    {
     "name": "stdout",
     "output_type": "stream",
     "text": [
      "[2, 4, 5, 8, 9, 10, 12, 15, 19]\n",
      "[243.0, 18801.0, 5267.0, 18742.0, 19450.0, 13981.0, 15529.0, 19443.0, 19076.0, 18966.0, 16845.0, 18658.0, 10723.0, 6382.0, 19074.0, 400.0, 7316.0, 15817.0, 19262.0, 9351.0]\n",
      "9\n"
     ]
    },
    {
     "name": "stderr",
     "output_type": "stream",
     "text": [
      "\u001b[36m\u001b[1m[ \u001b[22m\u001b[39m\u001b[36m\u001b[1mInfo: \u001b[22m\u001b[39m2023-10-02T13:05:39.084\titeration: 106\tcurrent optimum: 13.0\n",
      "\u001b[32mProgress: 100%|█████████████████████████████████████████| Time: 0:00:44\u001b[39m\n"
     ]
    },
    {
     "name": "stdout",
     "output_type": "stream",
     "text": [
      "[2, 7, 9, 11, 19]\n",
      "[8526.0, 10878.0, 6991.0, 1676.0, 2744.0, 7399.0, 10812.0, 898.0, 10873.0, 2770.0, 11025.0, 7473.0, 746.0, 9740.0, 8003.0, 5546.0, 5130.0, 5335.0, 11534.0, 2123.0]\n",
      "4\n"
     ]
    },
    {
     "name": "stderr",
     "output_type": "stream",
     "text": [
      "\u001b[36m\u001b[1m[ \u001b[22m\u001b[39m\u001b[36m\u001b[1mInfo: \u001b[22m\u001b[39m2023-10-02T13:06:23.792\titeration: 107\tcurrent optimum: 13.0\n",
      "\u001b[32mProgress: 100%|█████████████████████████████████████████| Time: 0:00:51\u001b[39m\n"
     ]
    },
    {
     "name": "stdout",
     "output_type": "stream",
     "text": [
      "[1, 2, 3, 4, 5, 6, 7, 8, 9, 14, 15, 16, 20]\n",
      "[4612.0, 4963.0, 4747.0, 4598.0, 4730.0, 4982.0, 4612.0, 4645.0, 5069.0, 152.0, 2848.0, 2331.0, 2230.0, 4600.0, 4696.0, 4245.0, 1237.0, 3828.0, 942.0, 4347.0]\n",
      "2"
     ]
    },
    {
     "name": "stderr",
     "output_type": "stream",
     "text": [
      "\u001b[36m\u001b[1m[ \u001b[22m\u001b[39m\u001b[36m\u001b[1mInfo: \u001b[22m\u001b[39m2023-10-02T13:07:15.586\titeration: 108\tcurrent optimum: 13.0\n"
     ]
    },
    {
     "name": "stdout",
     "output_type": "stream",
     "text": [
      "\n"
     ]
    },
    {
     "name": "stderr",
     "output_type": "stream",
     "text": [
      "\u001b[32mProgress: 100%|█████████████████████████████████████████| Time: 0:00:29\u001b[39m\n"
     ]
    },
    {
     "name": "stdout",
     "output_type": "stream",
     "text": [
      "[1, 6, 19]\n",
      "[27163.0, 24594.0, 5798.0, 16068.0, 5895.0, 27482.0, 1091.0, 1232.0, 4789.0, 6996.0, 9605.0, 5659.0, 331.0, 7525.0, 6746.0, 1614.0, 9818.0, 1309.0, 26890.0, 14417.0]\n",
      "3"
     ]
    },
    {
     "name": "stderr",
     "output_type": "stream",
     "text": [
      "\u001b[36m\u001b[1m[ \u001b[22m\u001b[39m\u001b[36m\u001b[1mInfo: \u001b[22m\u001b[39m2023-10-02T13:07:45.627\titeration: 109\tcurrent optimum: 13.0\n"
     ]
    },
    {
     "name": "stdout",
     "output_type": "stream",
     "text": [
      "\n"
     ]
    },
    {
     "name": "stderr",
     "output_type": "stream",
     "text": [
      "\u001b[32mProgress: 100%|█████████████████████████████████████████| Time: 0:01:05\u001b[39m\n"
     ]
    },
    {
     "name": "stdout",
     "output_type": "stream",
     "text": [
      "[2, 5, 6, 7, 8, 11, 12, 13, 14, 15, 16, 18, 19, 20]\n",
      "[483.0, 3984.0, 3324.0, 1337.0, 3484.0, 3183.0, 3464.0, 3880.0, 2985.0, 2055.0, 3155.0, 3197.0, 2986.0, 3241.0, 3376.0, 3570.0, 741.0, 3268.0, 3476.0, 3342.0]\n",
      "2"
     ]
    },
    {
     "name": "stderr",
     "output_type": "stream",
     "text": [
      "\u001b[36m\u001b[1m[ \u001b[22m\u001b[39m\u001b[36m\u001b[1mInfo: \u001b[22m\u001b[39m2023-10-02T13:08:51.695\titeration: 110\tcurrent optimum: 13.0\n"
     ]
    },
    {
     "name": "stdout",
     "output_type": "stream",
     "text": [
      "\n"
     ]
    },
    {
     "name": "stderr",
     "output_type": "stream",
     "text": [
      "\u001b[32mProgress: 100%|█████████████████████████████████████████| Time: 0:00:47\u001b[39m\n",
      "\u001b[36m\u001b[1m[ \u001b[22m\u001b[39m\u001b[36m\u001b[1mInfo: \u001b[22m\u001b[39m2023-10-02T13:09:39.403\titeration: 111\tcurrent optimum: 13.0\n"
     ]
    },
    {
     "name": "stdout",
     "output_type": "stream",
     "text": [
      "[1, 4, 7, 8, 9, 11, 15]\n",
      "[9408.0, 2925.0, 3216.0, 9601.0, 7568.0, 8295.0, 8965.0, 9443.0, 9332.0, 9419.0, 9438.0, 5394.0, 5406.0, 34.0, 9383.0, 7074.0, 3627.0, 6280.0, 6274.0, 199.0]\n",
      "7\n"
     ]
    },
    {
     "name": "stderr",
     "output_type": "stream",
     "text": [
      "\u001b[32mProgress: 100%|█████████████████████████████████████████| Time: 0:00:43\u001b[39m\n"
     ]
    },
    {
     "name": "stdout",
     "output_type": "stream",
     "text": [
      "[1, 3, 4, 6, 7, 8, 9, 12, 14, 15, 16, 20]\n",
      "[8217.0, 1316.0, 8120.0, 7582.0, 1447.0, 7714.0, 7895.0, 8547.0, 8390.0, 2120.0, 3635.0, 7702.0, 5000.0, 7442.0, 7749.0, 8491.0, 1657.0, 3172.0, 2097.0, 8337.0]\n",
      "11\n"
     ]
    },
    {
     "name": "stderr",
     "output_type": "stream",
     "text": [
      "\u001b[36m\u001b[1m[ \u001b[22m\u001b[39m\u001b[36m\u001b[1mInfo: \u001b[22m\u001b[39m2023-10-02T13:10:23.121\titeration: 112\tcurrent optimum: 13.0\n",
      "\u001b[32mProgress: 100%|█████████████████████████████████████████| Time: 0:00:58\u001b[39m\n"
     ]
    },
    {
     "name": "stdout",
     "output_type": "stream",
     "text": [
      "[1, 3, 4, 5, 9, 10, 13, 15, 16, 17, 18, 20]\n",
      "[8056.0, 2464.0, 7271.0, 7843.0, 7695.0, 1906.0, 843.0, 5434.0, 7945.0, 7797.0, 4030.0, 5358.0, 7741.0, 4710.0, 7774.0, 7716.0, 7660.0, 7804.0, 6297.0, 7504.0]\n",
      "7"
     ]
    },
    {
     "name": "stderr",
     "output_type": "stream",
     "text": [
      "\u001b[36m\u001b[1m[ \u001b[22m\u001b[39m\u001b[36m\u001b[1mInfo: \u001b[22m\u001b[39m2023-10-02T13:11:21.831\titeration: 113\tcurrent optimum: 13.0\n"
     ]
    },
    {
     "name": "stdout",
     "output_type": "stream",
     "text": [
      "\n"
     ]
    },
    {
     "name": "stderr",
     "output_type": "stream",
     "text": [
      "\u001b[32mProgress:  95%|███████████████████████████████████████  |  ETA: 0:00:03\u001b[39m"
     ]
    },
    {
     "name": "stdout",
     "output_type": "stream",
     "text": [
      "[1, 4, 5, 6, 7, 9, 10, 11, 12, 14, 19, 20]\n",
      "[9587.0, 3356.0, 5241.0, 10019.0, 9645.0, 9651.0, 9423.0, 668.0, 9238.0, 9583.0, 9380.0, 9683.0, 1980.0, 9795.0, 5022.0, 9308.0, 340.0, 8890.0, 9043.0, 9559.0]\n",
      "8\n"
     ]
    },
    {
     "name": "stderr",
     "output_type": "stream",
     "text": [
      "\u001b[32mProgress: 100%|█████████████████████████████████████████| Time: 0:00:53\u001b[39m\n",
      "\u001b[36m\u001b[1m[ \u001b[22m\u001b[39m\u001b[36m\u001b[1mInfo: \u001b[22m\u001b[39m2023-10-02T13:12:15.093\titeration: 114\tcurrent optimum: 13.0\n",
      "\u001b[32mProgress: 100%|█████████████████████████████████████████| Time: 0:00:37\u001b[39m\n"
     ]
    },
    {
     "name": "stdout",
     "output_type": "stream",
     "text": [
      "[4]\n",
      "[20846.0, 21706.0, 5200.0, 22715.0, 476.0, 14458.0, 4784.0, 14330.0, 11786.0, 3455.0, 15529.0, 12808.0, 15684.0, 21618.0, 412.0, 89.0, 2286.0, 8863.0, 16780.0, 3519.0]\n",
      "1\n"
     ]
    },
    {
     "name": "stderr",
     "output_type": "stream",
     "text": [
      "\u001b[36m\u001b[1m[ \u001b[22m\u001b[39m\u001b[36m\u001b[1mInfo: \u001b[22m\u001b[39m2023-10-02T13:12:52.427\titeration: 115\tcurrent optimum: 13.0\n",
      "\u001b[32mProgress: 100%|█████████████████████████████████████████| Time: 0:00:53\u001b[39m\n"
     ]
    },
    {
     "name": "stdout",
     "output_type": "stream",
     "text": [
      "[3, 5, 8, 12, 13, 14, 17, 18]\n",
      "[2550.0, 4113.0, 5913.0, 3999.0, 5850.0, 4863.0, 3308.0, 5844.0, 701.0, 2461.0, 3642.0, 6548.0, 5798.0, 6200.0, 5382.0, 951.0, 5575.0, 7188.0, 4755.0, 1935.0]\n",
      "4"
     ]
    },
    {
     "name": "stderr",
     "output_type": "stream",
     "text": [
      "\u001b[36m\u001b[1m[ \u001b[22m\u001b[39m\u001b[36m\u001b[1mInfo: \u001b[22m\u001b[39m2023-10-02T13:13:45.756\titeration: 116\tcurrent optimum: 13.0\n"
     ]
    },
    {
     "name": "stdout",
     "output_type": "stream",
     "text": [
      "\n"
     ]
    },
    {
     "name": "stderr",
     "output_type": "stream",
     "text": [
      "\u001b[32mProgress: 100%|█████████████████████████████████████████| Time: 0:00:41\u001b[39m\n"
     ]
    },
    {
     "name": "stdout",
     "output_type": "stream",
     "text": [
      "[2, 4, 7, 8, 10, 11, 15]\n",
      "[11462.0, 15809.0, 231.0, 15822.0, 11381.0, 7045.0, 15714.0, 16113.0, 2446.0, 15284.0, 16294.0, 7841.0, 1764.0, 10323.0, 15847.0, 1288.0, 7628.0, 12081.0, 8316.0, 813.0]\n",
      "4"
     ]
    },
    {
     "name": "stderr",
     "output_type": "stream",
     "text": [
      "\u001b[36m\u001b[1m[ \u001b[22m\u001b[39m\u001b[36m\u001b[1mInfo: \u001b[22m\u001b[39m2023-10-02T13:14:27.228\titeration: 117\tcurrent optimum: 13.0\n"
     ]
    },
    {
     "name": "stdout",
     "output_type": "stream",
     "text": [
      "\n"
     ]
    },
    {
     "name": "stderr",
     "output_type": "stream",
     "text": [
      "\u001b[32mProgress: 100%|█████████████████████████████████████████| Time: 0:00:51\u001b[39m\n"
     ]
    },
    {
     "name": "stdout",
     "output_type": "stream",
     "text": [
      "[2, 3, 4, 5, 8, 11, 12, 13, 14, 16, 17, 19, 20]\n",
      "[2390.0, 9315.0, 10109.0, 9364.0, 9522.0, 2226.0, 7907.0, 9079.0, 2762.0, 6277.0, 9602.0, 9903.0, 9398.0, 9091.0, 651.0, 9980.0, 9415.0, 5685.0, 9136.0, 9344.0]\n",
      "12\n"
     ]
    },
    {
     "name": "stderr",
     "output_type": "stream",
     "text": [
      "\u001b[36m\u001b[1m[ \u001b[22m\u001b[39m\u001b[36m\u001b[1mInfo: \u001b[22m\u001b[39m2023-10-02T13:15:19.223\titeration: 118\tcurrent optimum: 13.0\n",
      "\u001b[32mProgress: 100%|█████████████████████████████████████████| Time: 0:00:51\u001b[39m\n"
     ]
    },
    {
     "name": "stdout",
     "output_type": "stream",
     "text": [
      "[3, 6, 7, 8, 9, 12, 13, 14, 15, 17, 19]\n",
      "[9142.0, 7568.0, 10755.0, 1828.0, 3137.0, 11095.0, 10874.0, 10401.0, 11991.0, 7107.0, 9833.0, 11038.0, 11138.0, 10991.0, 11022.0, 7945.0, 10854.0, 10398.0, 11385.0, 6046.0]\n",
      "6\n"
     ]
    },
    {
     "name": "stderr",
     "output_type": "stream",
     "text": [
      "\u001b[36m\u001b[1m[ \u001b[22m\u001b[39m\u001b[36m\u001b[1mInfo: \u001b[22m\u001b[39m2023-10-02T13:16:10.559\titeration: 119\tcurrent optimum: 13.0\n",
      "\u001b[32mProgress: 100%|█████████████████████████████████████████| Time: 0:00:46\u001b[39m\n",
      "\u001b[36m\u001b[1m[ \u001b[22m\u001b[39m\u001b[36m\u001b[1mInfo: \u001b[22m\u001b[39m2023-10-02T13:16:57.163\titeration: 120\tcurrent optimum: 13.0\n"
     ]
    },
    {
     "name": "stdout",
     "output_type": "stream",
     "text": [
      "[3, 5, 8, 9, 10, 11, 13, 14]\n",
      "[9634.0, 367.0, 11637.0, 2864.0, 10319.0, 5293.0, 5304.0, 10571.0, 10322.0, 10761.0, 10000.0, 3505.0, 10852.0, 10776.0, 1215.0, 4477.0, 6096.0, 8429.0, 9187.0, 507.0]\n",
      "6\n"
     ]
    },
    {
     "name": "stderr",
     "output_type": "stream",
     "text": [
      "\u001b[32mProgress: 100%|█████████████████████████████████████████| Time: 0:00:55\u001b[39m\n"
     ]
    },
    {
     "name": "stdout",
     "output_type": "stream",
     "text": [
      "[3, 6, 8, 10, 11, 12, 13, 14, 16, 17, 18, 19]\n",
      "[439.0, 4911.0, 6541.0, 5497.0, 3772.0, 6200.0, 1799.0, 6426.0, 4719.0, 6473.0, 6438.0, 5842.0, 6178.0, 5495.0, 4813.0, 6031.0, 5957.0, 5811.0, 5912.0, 3348.0]\n",
      "6"
     ]
    },
    {
     "name": "stderr",
     "output_type": "stream",
     "text": [
      "\u001b[36m\u001b[1m[ \u001b[22m\u001b[39m\u001b[36m\u001b[1mInfo: \u001b[22m\u001b[39m2023-10-02T13:17:53.003\titeration: 121\tcurrent optimum: 13.0\n"
     ]
    },
    {
     "name": "stdout",
     "output_type": "stream",
     "text": [
      "\n"
     ]
    },
    {
     "name": "stderr",
     "output_type": "stream",
     "text": [
      "\u001b[32mProgress: 100%|█████████████████████████████████████████| Time: 0:00:45\u001b[39m\n"
     ]
    },
    {
     "name": "stdout",
     "output_type": "stream",
     "text": [
      "[4, 6, 8, 10, 11, 13, 14, 15, 18, 20]\n",
      "[5793.0, 821.0, 1584.0, 9414.0, 3550.0, 9562.0, 7083.0, 9371.0, 1664.0, 9386.0, 8972.0, 9202.0, 8841.0, 8574.0, 9515.0, 4022.0, 7282.0, 9487.0, 234.0, 8588.0]\n",
      "7\n"
     ]
    },
    {
     "name": "stderr",
     "output_type": "stream",
     "text": [
      "\u001b[36m\u001b[1m[ \u001b[22m\u001b[39m\u001b[36m\u001b[1mInfo: \u001b[22m\u001b[39m2023-10-02T13:18:38.397\titeration: 122\tcurrent optimum: 13.0\n",
      "\u001b[32mProgress: 100%|█████████████████████████████████████████| Time: 0:00:54\u001b[39m\n"
     ]
    },
    {
     "name": "stdout",
     "output_type": "stream",
     "text": [
      "[1, 3, 4, 6, 8, 9, 10, 11, 12, 13, 14, 15, 16, 17, 19]\n",
      "[7748.0, 427.0, 8355.0, 7954.0, 773.0, 8430.0, 3931.0, 8002.0, 8346.0, 8212.0, 7645.0, 8215.0, 8440.0, 8090.0, 8144.0, 8443.0, 7849.0, 3729.0, 8203.0, 663.0]\n",
      "4\n"
     ]
    },
    {
     "name": "stderr",
     "output_type": "stream",
     "text": [
      "\u001b[36m\u001b[1m[ \u001b[22m\u001b[39m\u001b[36m\u001b[1mInfo: \u001b[22m\u001b[39m2023-10-02T13:19:32.839\titeration: 123\tcurrent optimum: 13.0\n",
      "\u001b[32mProgress: 100%|█████████████████████████████████████████| Time: 0:00:52\u001b[39m\n"
     ]
    },
    {
     "name": "stdout",
     "output_type": "stream",
     "text": [
      "[1, 5, 6, 9, 10, 14, 15, 16, 20]\n",
      "[7736.0, 4601.0, 5805.0, 5400.0, 7817.0, 7784.0, 3773.0, 1484.0, 8113.0, 7851.0, 7631.0, 6312.0, 181.0, 7825.0, 7314.0, 7758.0, 929.0, 5262.0, 1231.0, 7696.0]\n",
      "3\n"
     ]
    },
    {
     "name": "stderr",
     "output_type": "stream",
     "text": [
      "\u001b[36m\u001b[1m[ \u001b[22m\u001b[39m\u001b[36m\u001b[1mInfo: \u001b[22m\u001b[39m2023-10-02T13:20:25.231\titeration: 124\tcurrent optimum: 13.0\n",
      "\u001b[32mProgress: 100%|█████████████████████████████████████████| Time: 0:00:43\u001b[39m"
     ]
    },
    {
     "name": "stdout",
     "output_type": "stream",
     "text": [
      "[3, 8, 9, 11, 12, 14, 18, 19, 20]\n",
      "[6903.0, 1337.0, 18586.0, 10318.0, 12844.0, 5698.0, 7210.0, 19305.0, 14440.0, 14694.0, 18796.0, 18767.0, 513.0, 16047.0, 11986.0, 10439.0, 5207.0, 19257.0, 17760.0, 17479.0]\n",
      "2\n"
     ]
    },
    {
     "name": "stderr",
     "output_type": "stream",
     "text": [
      "\n",
      "\u001b[36m\u001b[1m[ \u001b[22m\u001b[39m\u001b[36m\u001b[1mInfo: \u001b[22m\u001b[39m2023-10-02T13:21:08.899\titeration: 125\tcurrent optimum: 13.0\n",
      "\u001b[32mProgress: 100%|█████████████████████████████████████████| Time: 0:00:47\u001b[39m\n"
     ]
    },
    {
     "name": "stdout",
     "output_type": "stream",
     "text": [
      "[1, 2, 3, 4, 5, 8, 9, 11, 14, 18, 19, 20]\n",
      "[9245.0, 9851.0, 9824.0, 9932.0, 9617.0, 1146.0, 4181.0, 9660.0, 9421.0, 8582.0, 9871.0, 3709.0, 5285.0, 10465.0, 1982.0, 2310.0, 2754.0, 9668.0, 9791.0, 9470.0]\n",
      "9\n"
     ]
    },
    {
     "name": "stderr",
     "output_type": "stream",
     "text": [
      "\u001b[36m\u001b[1m[ \u001b[22m\u001b[39m\u001b[36m\u001b[1mInfo: \u001b[22m\u001b[39m2023-10-02T13:21:56.414\titeration: 126\tcurrent optimum: 13.0\n",
      "\u001b[32mProgress: 100%|█████████████████████████████████████████| Time: 0:00:47\u001b[39m\n"
     ]
    },
    {
     "name": "stdout",
     "output_type": "stream",
     "text": [
      "[3, 4, 5, 9, 11, 14, 17, 18, 19]\n",
      "[7080.0, 6805.0, 8615.0, 8404.0, 8568.0, 2131.0, 5076.0, 55.0, 8767.0, 2928.0, 8928.0, 138.0, 7070.0, 9094.0, 4015.0, 5565.0, 8870.0, 8767.0, 8556.0, 4423.0]\n",
      "6\n"
     ]
    },
    {
     "name": "stderr",
     "output_type": "stream",
     "text": [
      "\u001b[36m\u001b[1m[ \u001b[22m\u001b[39m\u001b[36m\u001b[1mInfo: \u001b[22m\u001b[39m2023-10-02T13:22:44.486\titeration: 127\tcurrent optimum: 13.0\n",
      "\u001b[32mProgress: 100%|█████████████████████████████████████████| Time: 0:00:52\u001b[39m\n"
     ]
    },
    {
     "name": "stdout",
     "output_type": "stream",
     "text": [
      "[1, 4, 5, 6, 9, 10, 11, 12, 13, 15, 16, 17, 18, 19]\n",
      "[9729.0, 1345.0, 9357.0, 9469.0, 9888.0, 9144.0, 5133.0, 5045.0, 9377.0, 9625.0, 9365.0, 9705.0, 9314.0, 5876.0, 9599.0, 9583.0, 9715.0, 9620.0, 9433.0, 7926.0]\n",
      "10\n"
     ]
    },
    {
     "name": "stderr",
     "output_type": "stream",
     "text": [
      "\u001b[36m\u001b[1m[ \u001b[22m\u001b[39m\u001b[36m\u001b[1mInfo: \u001b[22m\u001b[39m2023-10-02T13:23:37.175\titeration: 128\tcurrent optimum: 13.0\n",
      "\u001b[32mProgress: 100%|█████████████████████████████████████████| Time: 0:00:47\u001b[39m\n"
     ]
    },
    {
     "name": "stdout",
     "output_type": "stream",
     "text": [
      "[1, 7, 8, 11, 12, 14, 15, 19, 20]\n",
      "[12039.0, 5239.0, 10925.0, 7448.0, 4414.0, 2341.0, 12620.0, 12671.0, 10463.0, 1307.0, 12519.0, 12348.0, 4698.0, 12121.0, 12218.0, 3290.0, 350.0, 11390.0, 12164.0, 12119.0]\n",
      "5"
     ]
    },
    {
     "name": "stderr",
     "output_type": "stream",
     "text": [
      "\u001b[36m\u001b[1m[ \u001b[22m\u001b[39m\u001b[36m\u001b[1mInfo: \u001b[22m\u001b[39m2023-10-02T13:24:24.549\titeration: 129\tcurrent optimum: 13.0\n"
     ]
    },
    {
     "name": "stdout",
     "output_type": "stream",
     "text": [
      "\n"
     ]
    },
    {
     "name": "stderr",
     "output_type": "stream",
     "text": [
      "\u001b[32mProgress:  40%|█████████████████                        |  ETA: 0:00:58\u001b[39m"
     ]
    },
    {
     "ename": "LoadError",
     "evalue": "InterruptException:",
     "output_type": "error",
     "traceback": [
      "InterruptException:",
      "",
      "Stacktrace:",
      "  [1] try_yieldto(undo::typeof(Base.ensure_rescheduled))",
      "    @ Base .\\task.jl:920",
      "  [2] wait()",
      "    @ Base .\\task.jl:984",
      "  [3] wait(c::Base.GenericCondition{Base.Threads.SpinLock}; first::Bool)",
      "    @ Base .\\condition.jl:130",
      "  [4] wait(c::Base.GenericCondition{Base.Threads.SpinLock})",
      "    @ Base .\\condition.jl:125",
      "  [5] _wait(t::Task)",
      "    @ Base .\\task.jl:308",
      "  [6] threading_run(fun::var\"#71#threadsfor_fun#20\"{var\"#71#threadsfor_fun#12#21\"{MutableNamedTuple{(:states, :n_excited, :d, :Zeeman_x_mat, :Zeeman_y_mat, :Zeeman_z_mat), Tuple{Base.RefValue{Vector{State{HundsCaseB_Rot}}}, Base.RefValue{Int64}, Base.RefValue{Array{ComplexF64, 3}}, Base.RefValue{StructArray{ComplexF64, 2, NamedTuple{(:re, :im), Tuple{Matrix{Float64}, Matrix{Float64}}}, Int64}}, Base.RefValue{StructArray{ComplexF64, 2, NamedTuple{(:re, :im), Tuple{Matrix{Float64}, Matrix{Float64}}}, Int64}}, Base.RefValue{StructArray{ComplexF64, 2, NamedTuple{(:re, :im), Tuple{Matrix{Float64}, Matrix{Float64}}}, Int64}}}}, MutableNamedTuple{(:t_end, :n_values, :pol1_x, :pol2_x, :pol3_x, :pol4_x, :s1, :s2, :s3, :s4, :Δ1, :Δ2, :Δ3, :Δ4, :B_gradient, :temp, :diameter, :displacement, :kick, :ramp_time), Tuple{Base.RefValue{Float64}, Base.RefValue{Int64}, Base.RefValue{SVector{3, ComplexF64}}, Base.RefValue{SVector{3, ComplexF64}}, Base.RefValue{SVector{3, ComplexF64}}, Base.RefValue{SVector{3, ComplexF64}}, Base.RefValue{Float64}, Base.RefValue{Float64}, Base.RefValue{Float64}, Base.RefValue{Float64}, Base.RefValue{Float64}, Base.RefValue{Float64}, Base.RefValue{Float64}, Base.RefValue{Float64}, Base.RefValue{Int64}, Base.RefValue{Float64}, Base.RefValue{Float64}, Base.RefValue{Vector{Float64}}, Base.RefValue{Vector{Float64}}, Base.RefValue{Float64}}}, ContinuousCallback{typeof(condition), typeof(SE_collapse_pol_always!), Nothing, typeof(SciMLBase.INITIALIZE_DEFAULT), typeof(SciMLBase.FINALIZE_DEFAULT), Float64, Int64, Rational{Int64}, Nothing, Int64}, Vector{Float64}, Vector{Vector{Float64}}, Vector{Vector{Float64}}, Vector{Vector{Float64}}, Vector{Vector{Float64}}, Vector{Vector{Float64}}, Vector{Vector{Float64}}, Vector{Vector{Float64}}, Vector{Vector{Float64}}, Int64, Int64, Progress, Int64, Int64, UnitRange{Int64}}}, static::Bool)",
      "    @ Base.Threads .\\threadingconstructs.jl:146",
      "  [7] macro expansion",
      "    @ .\\threadingconstructs.jl:199 [inlined]",
      "  [8] simulate_particles_v2(package::MutableNamedTuple{(:states, :n_excited, :d, :Zeeman_x_mat, :Zeeman_y_mat, :Zeeman_z_mat), Tuple{Base.RefValue{Vector{State{HundsCaseB_Rot}}}, Base.RefValue{Int64}, Base.RefValue{Array{ComplexF64, 3}}, Base.RefValue{StructArray{ComplexF64, 2, NamedTuple{(:re, :im), Tuple{Matrix{Float64}, Matrix{Float64}}}, Int64}}, Base.RefValue{StructArray{ComplexF64, 2, NamedTuple{(:re, :im), Tuple{Matrix{Float64}, Matrix{Float64}}}, Int64}}, Base.RefValue{StructArray{ComplexF64, 2, NamedTuple{(:re, :im), Tuple{Matrix{Float64}, Matrix{Float64}}}, Int64}}}}, params::MutableNamedTuple{(:t_end, :n_values, :pol1_x, :pol2_x, :pol3_x, :pol4_x, :s1, :s2, :s3, :s4, :Δ1, :Δ2, :Δ3, :Δ4, :B_gradient, :temp, :diameter, :displacement, :kick, :ramp_time), Tuple{Base.RefValue{Float64}, Base.RefValue{Int64}, Base.RefValue{SVector{3, ComplexF64}}, Base.RefValue{SVector{3, ComplexF64}}, Base.RefValue{SVector{3, ComplexF64}}, Base.RefValue{SVector{3, ComplexF64}}, Base.RefValue{Float64}, Base.RefValue{Float64}, Base.RefValue{Float64}, Base.RefValue{Float64}, Base.RefValue{Float64}, Base.RefValue{Float64}, Base.RefValue{Float64}, Base.RefValue{Float64}, Base.RefValue{Int64}, Base.RefValue{Float64}, Base.RefValue{Float64}, Base.RefValue{Vector{Float64}}, Base.RefValue{Vector{Float64}}, Base.RefValue{Float64}}})",
      "    @ Main G:\\My Drive\\github\\OpticalBlochEquations\\examples\\ipynb_sources\\toy_models\\CaOH_scan\\CaOH_scan_helper_v2.jl:415",
      "  [9] f(x::Vector{Float64})",
      "    @ Main .\\In[5]:41",
      " [10] macro expansion",
      "    @ C:\\Users\\halla\\.julia\\packages\\TimerOutputs\\RsWnF\\src\\TimerOutput.jl:237 [inlined]",
      " [11] _evaluate_function(o::BOpt{typeof(f), GPE{ElasticArrays.ElasticMatrix{Float64, Vector{Float64}}, ElasticArrays.ElasticVector{Float64, Vector{Float64}}, MeanConst, SEArd{Float64}, GaussianProcesses.ElasticCovStrat, GaussianProcesses.StationaryARDData{ElasticPDMats.AllElasticArray{Float64, 3}}, ElasticPDMats.ElasticPDMat{Float64, Matrix{Float64}}, GaussianProcesses.Scalar{Float64}}, UpperConfidenceBound{BrochuBetaScaling}, NamedTuple{(:method, :restarts, :maxeval, :maxtime), Tuple{Symbol, Int64, Int64, Float64}}, MAPGPOptimizer{NamedTuple{(:domean, :kern, :noise, :lik, :meanbounds, :kernbounds, :noisebounds, :likbounds, :method, :maxeval), Tuple{Bool, Bool, Bool, Bool, Nothing, Vector{Vector{Int64}}, Vector{Int64}, Nothing, Symbol, Int64}}}, ScaledSobolIterator{Float64, 6}}, x::Vector{Float64})",
      "    @ BayesianOptimization C:\\Users\\halla\\.julia\\packages\\BayesianOptimization\\nq1HY\\src\\BayesianOptimization.jl:160",
      " [12] boptimize!(o::BOpt{typeof(f), GPE{ElasticArrays.ElasticMatrix{Float64, Vector{Float64}}, ElasticArrays.ElasticVector{Float64, Vector{Float64}}, MeanConst, SEArd{Float64}, GaussianProcesses.ElasticCovStrat, GaussianProcesses.StationaryARDData{ElasticPDMats.AllElasticArray{Float64, 3}}, ElasticPDMats.ElasticPDMat{Float64, Matrix{Float64}}, GaussianProcesses.Scalar{Float64}}, UpperConfidenceBound{BrochuBetaScaling}, NamedTuple{(:method, :restarts, :maxeval, :maxtime), Tuple{Symbol, Int64, Int64, Float64}}, MAPGPOptimizer{NamedTuple{(:domean, :kern, :noise, :lik, :meanbounds, :kernbounds, :noisebounds, :likbounds, :method, :maxeval), Tuple{Bool, Bool, Bool, Bool, Nothing, Vector{Vector{Int64}}, Vector{Int64}, Nothing, Symbol, Int64}}}, ScaledSobolIterator{Float64, 6}})",
      "    @ BayesianOptimization C:\\Users\\halla\\.julia\\packages\\BayesianOptimization\\nq1HY\\src\\BayesianOptimization.jl:146",
      " [13] top-level scope",
      "    @ In[12]:2"
     ]
    },
    {
     "name": "stderr",
     "output_type": "stream",
     "text": [
      "\u001b[32mProgress: 100%|█████████████████████████████████████████| Time: 0:00:48\u001b[39m\n"
     ]
    }
   ],
   "source": [
    "maxiterations!(opt, 500)\n",
    "result = boptimize!(opt)"
   ]
  },
  {
   "cell_type": "code",
   "execution_count": 23,
   "id": "838236c6-c3bf-45f9-a162-5ecd86b28f35",
   "metadata": {},
   "outputs": [
    {
     "data": {
      "text/plain": [
       "moving_average (generic function with 1 method)"
      ]
     },
     "execution_count": 23,
     "metadata": {},
     "output_type": "execute_result"
    }
   ],
   "source": [
    "moving_average(vs,n) = [sum(@view vs[i:(i+n-1)])/n for i in 1:(length(vs)-(n-1))]"
   ]
  },
  {
   "cell_type": "code",
   "execution_count": 30,
   "id": "3efc40d2-eb58-40d0-8371-c3fdaaebbe06",
   "metadata": {},
   "outputs": [
    {
     "data": {
      "image/png": "[encoded data removed]",
      "image/svg+xml": [
       "<?xml version=\"1.0\" encoding=\"utf-8\"?>\n",
       "<svg xmlns=\"http://www.w3.org/2000/svg\" xmlns:xlink=\"http://www.w3.org/1999/xlink\" width=\"600\" height=\"400\" viewBox=\"0 0 2400 1600\">\n",
       "<defs>\n",
       "  <clipPath id=\"clip600\">\n",
       "    <rect x=\"0\" y=\"0\" width=\"2400\" height=\"1600\"/>\n",
       "  </clipPath>\n",
       "</defs>\n",
       "<path clip-path=\"url(#clip600)\" d=\"M0 1600 L2400 1600 L2400 0 L0 0  Z\" fill=\"#ffffff\" fill-rule=\"evenodd\" fill-opacity=\"1\"/>\n",
       "<defs>\n",
       "  <clipPath id=\"clip601\">\n",
       "    <rect x=\"480\" y=\"0\" width=\"1681\" height=\"1600\"/>\n",
       "  </clipPath>\n",
       "</defs>\n",
       "<path clip-path=\"url(#clip600)\" d=\"M112.177 1486.45 L2352.76 1486.45 L2352.76 47.2441 L112.177 47.2441  Z\" fill=\"#ffffff\" fill-rule=\"evenodd\" fill-opacity=\"1\"/>\n",
       "<defs>\n",
       "  <clipPath id=\"clip602\">\n",
       "    <rect x=\"112\" y=\"47\" width=\"2242\" height=\"1440\"/>\n",
       "  </clipPath>\n",
       "</defs>\n",
       "<polyline clip-path=\"url(#clip602)\" style=\"stroke:#000000; stroke-linecap:round; stroke-linejoin:round; stroke-width:2; stroke-opacity:0.1; fill:none\" points=\"157.975,1486.45 157.975,47.2441 \"/>\n",
       "<polyline clip-path=\"url(#clip602)\" style=\"stroke:#000000; stroke-linecap:round; stroke-linejoin:round; stroke-width:2; stroke-opacity:0.1; fill:none\" points=\"598.34,1486.45 598.34,47.2441 \"/>\n",
       "<polyline clip-path=\"url(#clip602)\" style=\"stroke:#000000; stroke-linecap:round; stroke-linejoin:round; stroke-width:2; stroke-opacity:0.1; fill:none\" points=\"1038.71,1486.45 1038.71,47.2441 \"/>\n",
       "<polyline clip-path=\"url(#clip602)\" style=\"stroke:#000000; stroke-linecap:round; stroke-linejoin:round; stroke-width:2; stroke-opacity:0.1; fill:none\" points=\"1479.07,1486.45 1479.07,47.2441 \"/>\n",
       "<polyline clip-path=\"url(#clip602)\" style=\"stroke:#000000; stroke-linecap:round; stroke-linejoin:round; stroke-width:2; stroke-opacity:0.1; fill:none\" points=\"1919.44,1486.45 1919.44,47.2441 \"/>\n",
       "<polyline clip-path=\"url(#clip600)\" style=\"stroke:#000000; stroke-linecap:round; stroke-linejoin:round; stroke-width:4; stroke-opacity:1; fill:none\" points=\"112.177,1486.45 2352.76,1486.45 \"/>\n",
       "<polyline clip-path=\"url(#clip600)\" style=\"stroke:#000000; stroke-linecap:round; stroke-linejoin:round; stroke-width:4; stroke-opacity:1; fill:none\" points=\"157.975,1486.45 157.975,1467.55 \"/>\n",
       "<polyline clip-path=\"url(#clip600)\" style=\"stroke:#000000; stroke-linecap:round; stroke-linejoin:round; stroke-width:4; stroke-opacity:1; fill:none\" points=\"598.34,1486.45 598.34,1467.55 \"/>\n",
       "<polyline clip-path=\"url(#clip600)\" style=\"stroke:#000000; stroke-linecap:round; stroke-linejoin:round; stroke-width:4; stroke-opacity:1; fill:none\" points=\"1038.71,1486.45 1038.71,1467.55 \"/>\n",
       "<polyline clip-path=\"url(#clip600)\" style=\"stroke:#000000; stroke-linecap:round; stroke-linejoin:round; stroke-width:4; stroke-opacity:1; fill:none\" points=\"1479.07,1486.45 1479.07,1467.55 \"/>\n",
       "<polyline clip-path=\"url(#clip600)\" style=\"stroke:#000000; stroke-linecap:round; stroke-linejoin:round; stroke-width:4; stroke-opacity:1; fill:none\" points=\"1919.44,1486.45 1919.44,1467.55 \"/>\n",
       "<path clip-path=\"url(#clip600)\" d=\"M157.975 1517.37 Q154.364 1517.37 152.535 1520.93 Q150.73 1524.47 150.73 1531.6 Q150.73 1538.71 152.535 1542.27 Q154.364 1545.82 157.975 1545.82 Q161.609 1545.82 163.415 1542.27 Q165.244 1538.71 165.244 1531.6 Q165.244 1524.47 163.415 1520.93 Q161.609 1517.37 157.975 1517.37 M157.975 1513.66 Q163.785 1513.66 166.841 1518.27 Q169.92 1522.85 169.92 1531.6 Q169.92 1540.33 166.841 1544.94 Q163.785 1549.52 157.975 1549.52 Q152.165 1549.52 149.086 1544.94 Q146.031 1540.33 146.031 1531.6 Q146.031 1522.85 149.086 1518.27 Q152.165 1513.66 157.975 1513.66 Z\" fill=\"#000000\" fill-rule=\"nonzero\" fill-opacity=\"1\" /><path clip-path=\"url(#clip600)\" d=\"M577.611 1544.91 L593.931 1544.91 L593.931 1548.85 L571.986 1548.85 L571.986 1544.91 Q574.648 1542.16 579.232 1537.53 Q583.838 1532.88 585.019 1531.53 Q587.264 1529.01 588.144 1527.27 Q589.047 1525.51 589.047 1523.82 Q589.047 1521.07 587.102 1519.33 Q585.181 1517.6 582.079 1517.6 Q579.88 1517.6 577.426 1518.36 Q574.996 1519.13 572.218 1520.68 L572.218 1515.95 Q575.042 1514.82 577.496 1514.24 Q579.949 1513.66 581.986 1513.66 Q587.357 1513.66 590.551 1516.35 Q593.746 1519.03 593.746 1523.52 Q593.746 1525.65 592.935 1527.57 Q592.148 1529.47 590.042 1532.07 Q589.463 1532.74 586.361 1535.95 Q583.26 1539.15 577.611 1544.91 Z\" fill=\"#000000\" fill-rule=\"nonzero\" fill-opacity=\"1\" /><path clip-path=\"url(#clip600)\" d=\"M603.792 1514.29 L622.148 1514.29 L622.148 1518.22 L608.074 1518.22 L608.074 1526.7 Q609.093 1526.35 610.111 1526.19 Q611.13 1526 612.148 1526 Q617.935 1526 621.315 1529.17 Q624.695 1532.34 624.695 1537.76 Q624.695 1543.34 621.222 1546.44 Q617.75 1549.52 611.431 1549.52 Q609.255 1549.52 606.986 1549.15 Q604.741 1548.78 602.334 1548.04 L602.334 1543.34 Q604.417 1544.47 606.639 1545.03 Q608.861 1545.58 611.338 1545.58 Q615.343 1545.58 617.681 1543.48 Q620.019 1541.37 620.019 1537.76 Q620.019 1534.15 617.681 1532.04 Q615.343 1529.94 611.338 1529.94 Q609.463 1529.94 607.588 1530.35 Q605.736 1530.77 603.792 1531.65 L603.792 1514.29 Z\" fill=\"#000000\" fill-rule=\"nonzero\" fill-opacity=\"1\" /><path clip-path=\"url(#clip600)\" d=\"M1013.41 1514.29 L1031.76 1514.29 L1031.76 1518.22 L1017.69 1518.22 L1017.69 1526.7 Q1018.71 1526.35 1019.72 1526.19 Q1020.74 1526 1021.76 1526 Q1027.55 1526 1030.93 1529.17 Q1034.31 1532.34 1034.31 1537.76 Q1034.31 1543.34 1030.84 1546.44 Q1027.36 1549.52 1021.04 1549.52 Q1018.87 1549.52 1016.6 1549.15 Q1014.35 1548.78 1011.95 1548.04 L1011.95 1543.34 Q1014.03 1544.47 1016.25 1545.03 Q1018.47 1545.58 1020.95 1545.58 Q1024.96 1545.58 1027.29 1543.48 Q1029.63 1541.37 1029.63 1537.76 Q1029.63 1534.15 1027.29 1532.04 Q1024.96 1529.94 1020.95 1529.94 Q1019.08 1529.94 1017.2 1530.35 Q1015.35 1530.77 1013.41 1531.65 L1013.41 1514.29 Z\" fill=\"#000000\" fill-rule=\"nonzero\" fill-opacity=\"1\" /><path clip-path=\"url(#clip600)\" d=\"M1053.52 1517.37 Q1049.91 1517.37 1048.08 1520.93 Q1046.28 1524.47 1046.28 1531.6 Q1046.28 1538.71 1048.08 1542.27 Q1049.91 1545.82 1053.52 1545.82 Q1057.15 1545.82 1058.96 1542.27 Q1060.79 1538.71 1060.79 1531.6 Q1060.79 1524.47 1058.96 1520.93 Q1057.15 1517.37 1053.52 1517.37 M1053.52 1513.66 Q1059.33 1513.66 1062.39 1518.27 Q1065.46 1522.85 1065.46 1531.6 Q1065.46 1540.33 1062.39 1544.94 Q1059.33 1549.52 1053.52 1549.52 Q1047.71 1549.52 1044.63 1544.94 Q1041.58 1540.33 1041.58 1531.6 Q1041.58 1522.85 1044.63 1518.27 Q1047.71 1513.66 1053.52 1513.66 Z\" fill=\"#000000\" fill-rule=\"nonzero\" fill-opacity=\"1\" /><path clip-path=\"url(#clip600)\" d=\"M1452.93 1514.29 L1475.15 1514.29 L1475.15 1516.28 L1462.6 1548.85 L1457.72 1548.85 L1469.52 1518.22 L1452.93 1518.22 L1452.93 1514.29 Z\" fill=\"#000000\" fill-rule=\"nonzero\" fill-opacity=\"1\" /><path clip-path=\"url(#clip600)\" d=\"M1484.31 1514.29 L1502.67 1514.29 L1502.67 1518.22 L1488.6 1518.22 L1488.6 1526.7 Q1489.62 1526.35 1490.63 1526.19 Q1491.65 1526 1492.67 1526 Q1498.46 1526 1501.84 1529.17 Q1505.22 1532.34 1505.22 1537.76 Q1505.22 1543.34 1501.74 1546.44 Q1498.27 1549.52 1491.95 1549.52 Q1489.78 1549.52 1487.51 1549.15 Q1485.26 1548.78 1482.86 1548.04 L1482.86 1543.34 Q1484.94 1544.47 1487.16 1545.03 Q1489.38 1545.58 1491.86 1545.58 Q1495.87 1545.58 1498.2 1543.48 Q1500.54 1541.37 1500.54 1537.76 Q1500.54 1534.15 1498.2 1532.04 Q1495.87 1529.94 1491.86 1529.94 Q1489.99 1529.94 1488.11 1530.35 Q1486.26 1530.77 1484.31 1531.65 L1484.31 1514.29 Z\" fill=\"#000000\" fill-rule=\"nonzero\" fill-opacity=\"1\" /><path clip-path=\"url(#clip600)\" d=\"M1879.04 1544.91 L1886.68 1544.91 L1886.68 1518.55 L1878.37 1520.21 L1878.37 1515.95 L1886.64 1514.29 L1891.31 1514.29 L1891.31 1544.91 L1898.95 1544.91 L1898.95 1548.85 L1879.04 1548.85 L1879.04 1544.91 Z\" fill=\"#000000\" fill-rule=\"nonzero\" fill-opacity=\"1\" /><path clip-path=\"url(#clip600)\" d=\"M1918.39 1517.37 Q1914.78 1517.37 1912.95 1520.93 Q1911.15 1524.47 1911.15 1531.6 Q1911.15 1538.71 1912.95 1542.27 Q1914.78 1545.82 1918.39 1545.82 Q1922.03 1545.82 1923.83 1542.27 Q1925.66 1538.71 1925.66 1531.6 Q1925.66 1524.47 1923.83 1520.93 Q1922.03 1517.37 1918.39 1517.37 M1918.39 1513.66 Q1924.2 1513.66 1927.26 1518.27 Q1930.34 1522.85 1930.34 1531.6 Q1930.34 1540.33 1927.26 1544.94 Q1924.2 1549.52 1918.39 1549.52 Q1912.58 1549.52 1909.51 1544.94 Q1906.45 1540.33 1906.45 1531.6 Q1906.45 1522.85 1909.51 1518.27 Q1912.58 1513.66 1918.39 1513.66 Z\" fill=\"#000000\" fill-rule=\"nonzero\" fill-opacity=\"1\" /><path clip-path=\"url(#clip600)\" d=\"M1948.56 1517.37 Q1944.95 1517.37 1943.12 1520.93 Q1941.31 1524.47 1941.31 1531.6 Q1941.31 1538.71 1943.12 1542.27 Q1944.95 1545.82 1948.56 1545.82 Q1952.19 1545.82 1954 1542.27 Q1955.83 1538.71 1955.83 1531.6 Q1955.83 1524.47 1954 1520.93 Q1952.19 1517.37 1948.56 1517.37 M1948.56 1513.66 Q1954.37 1513.66 1957.42 1518.27 Q1960.5 1522.85 1960.5 1531.6 Q1960.5 1540.33 1957.42 1544.94 Q1954.37 1549.52 1948.56 1549.52 Q1942.75 1549.52 1939.67 1544.94 Q1936.61 1540.33 1936.61 1531.6 Q1936.61 1522.85 1939.67 1518.27 Q1942.75 1513.66 1948.56 1513.66 Z\" fill=\"#000000\" fill-rule=\"nonzero\" fill-opacity=\"1\" /><polyline clip-path=\"url(#clip602)\" style=\"stroke:#000000; stroke-linecap:round; stroke-linejoin:round; stroke-width:2; stroke-opacity:0.1; fill:none\" points=\"112.177,1345.55 2352.76,1345.55 \"/>\n",
       "<polyline clip-path=\"url(#clip602)\" style=\"stroke:#000000; stroke-linecap:round; stroke-linejoin:round; stroke-width:2; stroke-opacity:0.1; fill:none\" points=\"112.177,1122.97 2352.76,1122.97 \"/>\n",
       "<polyline clip-path=\"url(#clip602)\" style=\"stroke:#000000; stroke-linecap:round; stroke-linejoin:round; stroke-width:2; stroke-opacity:0.1; fill:none\" points=\"112.177,900.394 2352.76,900.394 \"/>\n",
       "<polyline clip-path=\"url(#clip602)\" style=\"stroke:#000000; stroke-linecap:round; stroke-linejoin:round; stroke-width:2; stroke-opacity:0.1; fill:none\" points=\"112.177,677.814 2352.76,677.814 \"/>\n",
       "<polyline clip-path=\"url(#clip602)\" style=\"stroke:#000000; stroke-linecap:round; stroke-linejoin:round; stroke-width:2; stroke-opacity:0.1; fill:none\" points=\"112.177,455.234 2352.76,455.234 \"/>\n",
       "<polyline clip-path=\"url(#clip602)\" style=\"stroke:#000000; stroke-linecap:round; stroke-linejoin:round; stroke-width:2; stroke-opacity:0.1; fill:none\" points=\"112.177,232.653 2352.76,232.653 \"/>\n",
       "<polyline clip-path=\"url(#clip600)\" style=\"stroke:#000000; stroke-linecap:round; stroke-linejoin:round; stroke-width:4; stroke-opacity:1; fill:none\" points=\"112.177,1486.45 112.177,47.2441 \"/>\n",
       "<polyline clip-path=\"url(#clip600)\" style=\"stroke:#000000; stroke-linecap:round; stroke-linejoin:round; stroke-width:4; stroke-opacity:1; fill:none\" points=\"112.177,1345.55 131.075,1345.55 \"/>\n",
       "<polyline clip-path=\"url(#clip600)\" style=\"stroke:#000000; stroke-linecap:round; stroke-linejoin:round; stroke-width:4; stroke-opacity:1; fill:none\" points=\"112.177,1122.97 131.075,1122.97 \"/>\n",
       "<polyline clip-path=\"url(#clip600)\" style=\"stroke:#000000; stroke-linecap:round; stroke-linejoin:round; stroke-width:4; stroke-opacity:1; fill:none\" points=\"112.177,900.394 131.075,900.394 \"/>\n",
       "<polyline clip-path=\"url(#clip600)\" style=\"stroke:#000000; stroke-linecap:round; stroke-linejoin:round; stroke-width:4; stroke-opacity:1; fill:none\" points=\"112.177,677.814 131.075,677.814 \"/>\n",
       "<polyline clip-path=\"url(#clip600)\" style=\"stroke:#000000; stroke-linecap:round; stroke-linejoin:round; stroke-width:4; stroke-opacity:1; fill:none\" points=\"112.177,455.234 131.075,455.234 \"/>\n",
       "<polyline clip-path=\"url(#clip600)\" style=\"stroke:#000000; stroke-linecap:round; stroke-linejoin:round; stroke-width:4; stroke-opacity:1; fill:none\" points=\"112.177,232.653 131.075,232.653 \"/>\n",
       "<path clip-path=\"url(#clip600)\" d=\"M59.8578 1358.9 L76.1772 1358.9 L76.1772 1362.83 L54.2328 1362.83 L54.2328 1358.9 Q56.8949 1356.14 61.4782 1351.52 Q66.0846 1346.86 67.2652 1345.52 Q69.5105 1343 70.3902 1341.26 Q71.2929 1339.5 71.2929 1337.81 Q71.2929 1335.06 69.3485 1333.32 Q67.4272 1331.58 64.3254 1331.58 Q62.1263 1331.58 59.6726 1332.35 Q57.2421 1333.11 54.4643 1334.66 L54.4643 1329.94 Q57.2884 1328.81 59.7421 1328.23 Q62.1958 1327.65 64.2328 1327.65 Q69.6031 1327.65 72.7976 1330.33 Q75.992 1333.02 75.992 1337.51 Q75.992 1339.64 75.1818 1341.56 Q74.3948 1343.46 72.2883 1346.05 Q71.7096 1346.72 68.6078 1349.94 Q65.5059 1353.14 59.8578 1358.9 Z\" fill=\"#000000\" fill-rule=\"nonzero\" fill-opacity=\"1\" /><path clip-path=\"url(#clip600)\" d=\"M69.0476 1121.62 Q72.404 1122.34 74.279 1124.61 Q76.1772 1126.87 76.1772 1130.21 Q76.1772 1135.32 72.6587 1138.12 Q69.1402 1140.93 62.6587 1140.93 Q60.4828 1140.93 58.168 1140.49 Q55.8764 1140.07 53.4227 1139.21 L53.4227 1134.7 Q55.3671 1135.83 57.6819 1136.41 Q59.9967 1136.99 62.5198 1136.99 Q66.918 1136.99 69.2096 1135.25 Q71.5244 1133.52 71.5244 1130.21 Q71.5244 1127.15 69.3717 1125.44 Q67.242 1123.7 63.4226 1123.7 L59.3949 1123.7 L59.3949 1119.86 L63.6078 1119.86 Q67.0569 1119.86 68.8855 1118.5 Q70.7142 1117.11 70.7142 1114.51 Q70.7142 1111.85 68.8161 1110.44 Q66.9411 1109 63.4226 1109 Q61.5013 1109 59.3023 1109.42 Q57.1032 1109.84 54.4643 1110.72 L54.4643 1106.55 Q57.1264 1105.81 59.4412 1105.44 Q61.7791 1105.07 63.8393 1105.07 Q69.1633 1105.07 72.2652 1107.5 Q75.367 1109.91 75.367 1114.03 Q75.367 1116.9 73.7235 1118.89 Q72.08 1120.86 69.0476 1121.62 Z\" fill=\"#000000\" fill-rule=\"nonzero\" fill-opacity=\"1\" /><path clip-path=\"url(#clip600)\" d=\"M66.5939 887.188 L54.7884 905.637 L66.5939 905.637 L66.5939 887.188 M65.367 883.114 L71.2466 883.114 L71.2466 905.637 L76.1772 905.637 L76.1772 909.526 L71.2466 909.526 L71.2466 917.674 L66.5939 917.674 L66.5939 909.526 L50.9921 909.526 L50.9921 905.012 L65.367 883.114 Z\" fill=\"#000000\" fill-rule=\"nonzero\" fill-opacity=\"1\" /><path clip-path=\"url(#clip600)\" d=\"M55.2745 660.534 L73.6309 660.534 L73.6309 664.469 L59.5569 664.469 L59.5569 672.941 Q60.5754 672.594 61.5939 672.432 Q62.6124 672.247 63.6309 672.247 Q69.418 672.247 72.7976 675.418 Q76.1772 678.589 76.1772 684.006 Q76.1772 689.585 72.705 692.686 Q69.2328 695.765 62.9134 695.765 Q60.7374 695.765 58.4689 695.395 Q56.2236 695.024 53.8162 694.284 L53.8162 689.585 Q55.8995 690.719 58.1217 691.274 Q60.3439 691.83 62.8208 691.83 Q66.8254 691.83 69.1633 689.724 Q71.5013 687.617 71.5013 684.006 Q71.5013 680.395 69.1633 678.288 Q66.8254 676.182 62.8208 676.182 Q60.9458 676.182 59.0708 676.599 Q57.2189 677.015 55.2745 677.895 L55.2745 660.534 Z\" fill=\"#000000\" fill-rule=\"nonzero\" fill-opacity=\"1\" /><path clip-path=\"url(#clip600)\" d=\"M64.6495 453.37 Q61.5013 453.37 59.6495 455.523 Q57.8208 457.676 57.8208 461.426 Q57.8208 465.153 59.6495 467.329 Q61.5013 469.481 64.6495 469.481 Q67.7976 469.481 69.6263 467.329 Q71.4781 465.153 71.4781 461.426 Q71.4781 457.676 69.6263 455.523 Q67.7976 453.37 64.6495 453.37 M73.9318 438.718 L73.9318 442.977 Q72.1726 442.143 70.367 441.704 Q68.5846 441.264 66.8254 441.264 Q62.1958 441.264 59.7421 444.389 Q57.3115 447.514 56.9643 453.833 Q58.33 451.819 60.3902 450.755 Q62.4504 449.667 64.9272 449.667 Q70.1355 449.667 73.1448 452.838 Q76.1772 455.986 76.1772 461.426 Q76.1772 466.75 73.029 469.967 Q69.8809 473.185 64.6495 473.185 Q58.6541 473.185 55.4828 468.602 Q52.3116 463.995 52.3116 455.268 Q52.3116 447.074 56.2004 442.213 Q60.0893 437.329 66.6402 437.329 Q68.3994 437.329 70.1818 437.676 Q71.9874 438.023 73.9318 438.718 Z\" fill=\"#000000\" fill-rule=\"nonzero\" fill-opacity=\"1\" /><path clip-path=\"url(#clip600)\" d=\"M53.9551 215.373 L76.1772 215.373 L76.1772 217.364 L63.6309 249.933 L58.7467 249.933 L70.5522 219.309 L53.9551 219.309 L53.9551 215.373 Z\" fill=\"#000000\" fill-rule=\"nonzero\" fill-opacity=\"1\" /><polyline clip-path=\"url(#clip602)\" style=\"stroke:#009af9; stroke-linecap:round; stroke-linejoin:round; stroke-width:4; stroke-opacity:1; fill:none\" points=\"175.59,1367.81 193.204,1390.07 210.819,1367.81 228.434,1445.72 246.048,1445.72 263.663,1378.94 281.277,1323.3 298.892,1312.17 316.507,1312.17 334.121,1334.43 351.736,1323.3 369.351,1367.81 386.965,1367.81 404.58,1312.17 422.194,1334.43 439.809,1323.3 457.424,1312.17 475.038,1334.43 492.653,1312.17 510.267,1189.75 527.882,1156.36 545.497,1156.36 563.111,1156.36 580.726,1189.75 598.34,1156.36 615.955,1189.75 633.57,1178.62 651.184,1189.75 668.799,1178.62 686.414,1100.72 704.028,1156.36 721.643,1100.72 739.257,1000.56 756.872,1011.68 774.487,944.91 792.101,967.168 809.716,889.265 827.33,766.846 844.945,733.459 862.56,878.136 880.174,911.523 897.789,811.362 915.404,688.943 933.018,677.814 950.633,644.427 968.247,622.169 985.862,644.427 1003.48,588.782 1021.09,611.04 1038.71,688.943 1056.32,677.814 1073.94,700.072 1091.55,800.233 1109.16,733.459 1126.78,733.459 1144.39,722.33 1162.01,800.233 1179.62,922.652 1197.24,878.136 1214.85,867.007 1232.47,867.007 1250.08,922.652 1267.7,1011.68 1285.31,911.523 1302.92,933.781 1320.54,944.91 1338.15,956.039 1355.77,1000.56 1373.38,1011.68 1391,967.168 1408.61,933.781 1426.23,967.168 1443.84,878.136 1461.46,944.91 1479.07,922.652 1496.69,967.168 1514.3,911.523 1531.91,889.265 1549.53,989.426 1567.14,978.297 1584.76,922.652 1602.37,933.781 1619.99,911.523 1637.6,1011.68 1655.22,978.297 1672.83,922.652 1690.45,933.781 1708.06,922.652 1725.68,889.265 1743.29,911.523 1760.9,878.136 1778.52,755.717 1796.13,766.846 1813.75,722.33 1831.36,800.233 1848.98,755.717 1866.59,777.975 1884.21,666.685 1901.82,599.911 1919.44,555.395 1937.05,544.266 1954.67,499.75 1972.28,533.137 1989.89,510.879 2007.51,588.782 2025.12,588.782 2042.74,566.524 2060.35,477.492 2077.97,455.234 2095.58,310.557 2113.2,321.686 2130.81,388.46 2148.43,399.589 2166.04,366.202 2183.66,232.653 2201.27,199.266 2218.88,87.9763 2236.5,121.363 2254.11,110.234 2271.73,110.234 2289.34,110.234 \"/>\n",
       "<path clip-path=\"url(#clip600)\" d=\"M186.863 198.898 L463.351 198.898 L463.351 95.2176 L186.863 95.2176  Z\" fill=\"#ffffff\" fill-rule=\"evenodd\" fill-opacity=\"1\"/>\n",
       "<polyline clip-path=\"url(#clip600)\" style=\"stroke:#000000; stroke-linecap:round; stroke-linejoin:round; stroke-width:4; stroke-opacity:1; fill:none\" points=\"186.863,198.898 463.351,198.898 463.351,95.2176 186.863,95.2176 186.863,198.898 \"/>\n",
       "<polyline clip-path=\"url(#clip600)\" style=\"stroke:#009af9; stroke-linecap:round; stroke-linejoin:round; stroke-width:4; stroke-opacity:1; fill:none\" points=\"211.758,147.058 361.13,147.058 \"/>\n",
       "<path clip-path=\"url(#clip600)\" d=\"M399.868 166.745 Q398.063 171.375 396.35 172.787 Q394.637 174.199 391.766 174.199 L388.364 174.199 L388.364 170.634 L390.864 170.634 Q392.623 170.634 393.595 169.8 Q394.567 168.967 395.748 165.865 L396.512 163.921 L386.026 138.412 L390.54 138.412 L398.641 158.689 L406.743 138.412 L411.257 138.412 L399.868 166.745 Z\" fill=\"#000000\" fill-rule=\"nonzero\" fill-opacity=\"1\" /><path clip-path=\"url(#clip600)\" d=\"M418.549 160.402 L426.188 160.402 L426.188 134.037 L417.877 135.703 L417.877 131.444 L426.141 129.778 L430.817 129.778 L430.817 160.402 L438.456 160.402 L438.456 164.338 L418.549 164.338 L418.549 160.402 Z\" fill=\"#000000\" fill-rule=\"nonzero\" fill-opacity=\"1\" /></svg>\n"
      ],
      "text/html": [
       "<?xml version=\"1.0\" encoding=\"utf-8\"?>\n",
       "<svg xmlns=\"http://www.w3.org/2000/svg\" xmlns:xlink=\"http://www.w3.org/1999/xlink\" width=\"600\" height=\"400\" viewBox=\"0 0 2400 1600\">\n",
       "<defs>\n",
       "  <clipPath id=\"clip650\">\n",
       "    <rect x=\"0\" y=\"0\" width=\"2400\" height=\"1600\"/>\n",
       "  </clipPath>\n",
       "</defs>\n",
       "<path clip-path=\"url(#clip650)\" d=\"M0 1600 L2400 1600 L2400 0 L0 0  Z\" fill=\"#ffffff\" fill-rule=\"evenodd\" fill-opacity=\"1\"/>\n",
       "<defs>\n",
       "  <clipPath id=\"clip651\">\n",
       "    <rect x=\"480\" y=\"0\" width=\"1681\" height=\"1600\"/>\n",
       "  </clipPath>\n",
       "</defs>\n",
       "<path clip-path=\"url(#clip650)\" d=\"M112.177 1486.45 L2352.76 1486.45 L2352.76 47.2441 L112.177 47.2441  Z\" fill=\"#ffffff\" fill-rule=\"evenodd\" fill-opacity=\"1\"/>\n",
       "<defs>\n",
       "  <clipPath id=\"clip652\">\n",
       "    <rect x=\"112\" y=\"47\" width=\"2242\" height=\"1440\"/>\n",
       "  </clipPath>\n",
       "</defs>\n",
       "<polyline clip-path=\"url(#clip652)\" style=\"stroke:#000000; stroke-linecap:round; stroke-linejoin:round; stroke-width:2; stroke-opacity:0.1; fill:none\" points=\"157.975,1486.45 157.975,47.2441 \"/>\n",
       "<polyline clip-path=\"url(#clip652)\" style=\"stroke:#000000; stroke-linecap:round; stroke-linejoin:round; stroke-width:2; stroke-opacity:0.1; fill:none\" points=\"598.34,1486.45 598.34,47.2441 \"/>\n",
       "<polyline clip-path=\"url(#clip652)\" style=\"stroke:#000000; stroke-linecap:round; stroke-linejoin:round; stroke-width:2; stroke-opacity:0.1; fill:none\" points=\"1038.71,1486.45 1038.71,47.2441 \"/>\n",
       "<polyline clip-path=\"url(#clip652)\" style=\"stroke:#000000; stroke-linecap:round; stroke-linejoin:round; stroke-width:2; stroke-opacity:0.1; fill:none\" points=\"1479.07,1486.45 1479.07,47.2441 \"/>\n",
       "<polyline clip-path=\"url(#clip652)\" style=\"stroke:#000000; stroke-linecap:round; stroke-linejoin:round; stroke-width:2; stroke-opacity:0.1; fill:none\" points=\"1919.44,1486.45 1919.44,47.2441 \"/>\n",
       "<polyline clip-path=\"url(#clip650)\" style=\"stroke:#000000; stroke-linecap:round; stroke-linejoin:round; stroke-width:4; stroke-opacity:1; fill:none\" points=\"112.177,1486.45 2352.76,1486.45 \"/>\n",
       "<polyline clip-path=\"url(#clip650)\" style=\"stroke:#000000; stroke-linecap:round; stroke-linejoin:round; stroke-width:4; stroke-opacity:1; fill:none\" points=\"157.975,1486.45 157.975,1467.55 \"/>\n",
       "<polyline clip-path=\"url(#clip650)\" style=\"stroke:#000000; stroke-linecap:round; stroke-linejoin:round; stroke-width:4; stroke-opacity:1; fill:none\" points=\"598.34,1486.45 598.34,1467.55 \"/>\n",
       "<polyline clip-path=\"url(#clip650)\" style=\"stroke:#000000; stroke-linecap:round; stroke-linejoin:round; stroke-width:4; stroke-opacity:1; fill:none\" points=\"1038.71,1486.45 1038.71,1467.55 \"/>\n",
       "<polyline clip-path=\"url(#clip650)\" style=\"stroke:#000000; stroke-linecap:round; stroke-linejoin:round; stroke-width:4; stroke-opacity:1; fill:none\" points=\"1479.07,1486.45 1479.07,1467.55 \"/>\n",
       "<polyline clip-path=\"url(#clip650)\" style=\"stroke:#000000; stroke-linecap:round; stroke-linejoin:round; stroke-width:4; stroke-opacity:1; fill:none\" points=\"1919.44,1486.45 1919.44,1467.55 \"/>\n",
       "<path clip-path=\"url(#clip650)\" d=\"M157.975 1517.37 Q154.364 1517.37 152.535 1520.93 Q150.73 1524.47 150.73 1531.6 Q150.73 1538.71 152.535 1542.27 Q154.364 1545.82 157.975 1545.82 Q161.609 1545.82 163.415 1542.27 Q165.244 1538.71 165.244 1531.6 Q165.244 1524.47 163.415 1520.93 Q161.609 1517.37 157.975 1517.37 M157.975 1513.66 Q163.785 1513.66 166.841 1518.27 Q169.92 1522.85 169.92 1531.6 Q169.92 1540.33 166.841 1544.94 Q163.785 1549.52 157.975 1549.52 Q152.165 1549.52 149.086 1544.94 Q146.031 1540.33 146.031 1531.6 Q146.031 1522.85 149.086 1518.27 Q152.165 1513.66 157.975 1513.66 Z\" fill=\"#000000\" fill-rule=\"nonzero\" fill-opacity=\"1\" /><path clip-path=\"url(#clip650)\" d=\"M577.611 1544.91 L593.931 1544.91 L593.931 1548.85 L571.986 1548.85 L571.986 1544.91 Q574.648 1542.16 579.232 1537.53 Q583.838 1532.88 585.019 1531.53 Q587.264 1529.01 588.144 1527.27 Q589.047 1525.51 589.047 1523.82 Q589.047 1521.07 587.102 1519.33 Q585.181 1517.6 582.079 1517.6 Q579.88 1517.6 577.426 1518.36 Q574.996 1519.13 572.218 1520.68 L572.218 1515.95 Q575.042 1514.82 577.496 1514.24 Q579.949 1513.66 581.986 1513.66 Q587.357 1513.66 590.551 1516.35 Q593.746 1519.03 593.746 1523.52 Q593.746 1525.65 592.935 1527.57 Q592.148 1529.47 590.042 1532.07 Q589.463 1532.74 586.361 1535.95 Q583.26 1539.15 577.611 1544.91 Z\" fill=\"#000000\" fill-rule=\"nonzero\" fill-opacity=\"1\" /><path clip-path=\"url(#clip650)\" d=\"M603.792 1514.29 L622.148 1514.29 L622.148 1518.22 L608.074 1518.22 L608.074 1526.7 Q609.093 1526.35 610.111 1526.19 Q611.13 1526 612.148 1526 Q617.935 1526 621.315 1529.17 Q624.695 1532.34 624.695 1537.76 Q624.695 1543.34 621.222 1546.44 Q617.75 1549.52 611.431 1549.52 Q609.255 1549.52 606.986 1549.15 Q604.741 1548.78 602.334 1548.04 L602.334 1543.34 Q604.417 1544.47 606.639 1545.03 Q608.861 1545.58 611.338 1545.58 Q615.343 1545.58 617.681 1543.48 Q620.019 1541.37 620.019 1537.76 Q620.019 1534.15 617.681 1532.04 Q615.343 1529.94 611.338 1529.94 Q609.463 1529.94 607.588 1530.35 Q605.736 1530.77 603.792 1531.65 L603.792 1514.29 Z\" fill=\"#000000\" fill-rule=\"nonzero\" fill-opacity=\"1\" /><path clip-path=\"url(#clip650)\" d=\"M1013.41 1514.29 L1031.76 1514.29 L1031.76 1518.22 L1017.69 1518.22 L1017.69 1526.7 Q1018.71 1526.35 1019.72 1526.19 Q1020.74 1526 1021.76 1526 Q1027.55 1526 1030.93 1529.17 Q1034.31 1532.34 1034.31 1537.76 Q1034.31 1543.34 1030.84 1546.44 Q1027.36 1549.52 1021.04 1549.52 Q1018.87 1549.52 1016.6 1549.15 Q1014.35 1548.78 1011.95 1548.04 L1011.95 1543.34 Q1014.03 1544.47 1016.25 1545.03 Q1018.47 1545.58 1020.95 1545.58 Q1024.96 1545.58 1027.29 1543.48 Q1029.63 1541.37 1029.63 1537.76 Q1029.63 1534.15 1027.29 1532.04 Q1024.96 1529.94 1020.95 1529.94 Q1019.08 1529.94 1017.2 1530.35 Q1015.35 1530.77 1013.41 1531.65 L1013.41 1514.29 Z\" fill=\"#000000\" fill-rule=\"nonzero\" fill-opacity=\"1\" /><path clip-path=\"url(#clip650)\" d=\"M1053.52 1517.37 Q1049.91 1517.37 1048.08 1520.93 Q1046.28 1524.47 1046.28 1531.6 Q1046.28 1538.71 1048.08 1542.27 Q1049.91 1545.82 1053.52 1545.82 Q1057.15 1545.82 1058.96 1542.27 Q1060.79 1538.71 1060.79 1531.6 Q1060.79 1524.47 1058.96 1520.93 Q1057.15 1517.37 1053.52 1517.37 M1053.52 1513.66 Q1059.33 1513.66 1062.39 1518.27 Q1065.46 1522.85 1065.46 1531.6 Q1065.46 1540.33 1062.39 1544.94 Q1059.33 1549.52 1053.52 1549.52 Q1047.71 1549.52 1044.63 1544.94 Q1041.58 1540.33 1041.58 1531.6 Q1041.58 1522.85 1044.63 1518.27 Q1047.71 1513.66 1053.52 1513.66 Z\" fill=\"#000000\" fill-rule=\"nonzero\" fill-opacity=\"1\" /><path clip-path=\"url(#clip650)\" d=\"M1452.93 1514.29 L1475.15 1514.29 L1475.15 1516.28 L1462.6 1548.85 L1457.72 1548.85 L1469.52 1518.22 L1452.93 1518.22 L1452.93 1514.29 Z\" fill=\"#000000\" fill-rule=\"nonzero\" fill-opacity=\"1\" /><path clip-path=\"url(#clip650)\" d=\"M1484.31 1514.29 L1502.67 1514.29 L1502.67 1518.22 L1488.6 1518.22 L1488.6 1526.7 Q1489.62 1526.35 1490.63 1526.19 Q1491.65 1526 1492.67 1526 Q1498.46 1526 1501.84 1529.17 Q1505.22 1532.34 1505.22 1537.76 Q1505.22 1543.34 1501.74 1546.44 Q1498.27 1549.52 1491.95 1549.52 Q1489.78 1549.52 1487.51 1549.15 Q1485.26 1548.78 1482.86 1548.04 L1482.86 1543.34 Q1484.94 1544.47 1487.16 1545.03 Q1489.38 1545.58 1491.86 1545.58 Q1495.87 1545.58 1498.2 1543.48 Q1500.54 1541.37 1500.54 1537.76 Q1500.54 1534.15 1498.2 1532.04 Q1495.87 1529.94 1491.86 1529.94 Q1489.99 1529.94 1488.11 1530.35 Q1486.26 1530.77 1484.31 1531.65 L1484.31 1514.29 Z\" fill=\"#000000\" fill-rule=\"nonzero\" fill-opacity=\"1\" /><path clip-path=\"url(#clip650)\" d=\"M1879.04 1544.91 L1886.68 1544.91 L1886.68 1518.55 L1878.37 1520.21 L1878.37 1515.95 L1886.64 1514.29 L1891.31 1514.29 L1891.31 1544.91 L1898.95 1544.91 L1898.95 1548.85 L1879.04 1548.85 L1879.04 1544.91 Z\" fill=\"#000000\" fill-rule=\"nonzero\" fill-opacity=\"1\" /><path clip-path=\"url(#clip650)\" d=\"M1918.39 1517.37 Q1914.78 1517.37 1912.95 1520.93 Q1911.15 1524.47 1911.15 1531.6 Q1911.15 1538.71 1912.95 1542.27 Q1914.78 1545.82 1918.39 1545.82 Q1922.03 1545.82 1923.83 1542.27 Q1925.66 1538.71 1925.66 1531.6 Q1925.66 1524.47 1923.83 1520.93 Q1922.03 1517.37 1918.39 1517.37 M1918.39 1513.66 Q1924.2 1513.66 1927.26 1518.27 Q1930.34 1522.85 1930.34 1531.6 Q1930.34 1540.33 1927.26 1544.94 Q1924.2 1549.52 1918.39 1549.52 Q1912.58 1549.52 1909.51 1544.94 Q1906.45 1540.33 1906.45 1531.6 Q1906.45 1522.85 1909.51 1518.27 Q1912.58 1513.66 1918.39 1513.66 Z\" fill=\"#000000\" fill-rule=\"nonzero\" fill-opacity=\"1\" /><path clip-path=\"url(#clip650)\" d=\"M1948.56 1517.37 Q1944.95 1517.37 1943.12 1520.93 Q1941.31 1524.47 1941.31 1531.6 Q1941.31 1538.71 1943.12 1542.27 Q1944.95 1545.82 1948.56 1545.82 Q1952.19 1545.82 1954 1542.27 Q1955.83 1538.71 1955.83 1531.6 Q1955.83 1524.47 1954 1520.93 Q1952.19 1517.37 1948.56 1517.37 M1948.56 1513.66 Q1954.37 1513.66 1957.42 1518.27 Q1960.5 1522.85 1960.5 1531.6 Q1960.5 1540.33 1957.42 1544.94 Q1954.37 1549.52 1948.56 1549.52 Q1942.75 1549.52 1939.67 1544.94 Q1936.61 1540.33 1936.61 1531.6 Q1936.61 1522.85 1939.67 1518.27 Q1942.75 1513.66 1948.56 1513.66 Z\" fill=\"#000000\" fill-rule=\"nonzero\" fill-opacity=\"1\" /><polyline clip-path=\"url(#clip652)\" style=\"stroke:#000000; stroke-linecap:round; stroke-linejoin:round; stroke-width:2; stroke-opacity:0.1; fill:none\" points=\"112.177,1345.55 2352.76,1345.55 \"/>\n",
       "<polyline clip-path=\"url(#clip652)\" style=\"stroke:#000000; stroke-linecap:round; stroke-linejoin:round; stroke-width:2; stroke-opacity:0.1; fill:none\" points=\"112.177,1122.97 2352.76,1122.97 \"/>\n",
       "<polyline clip-path=\"url(#clip652)\" style=\"stroke:#000000; stroke-linecap:round; stroke-linejoin:round; stroke-width:2; stroke-opacity:0.1; fill:none\" points=\"112.177,900.394 2352.76,900.394 \"/>\n",
       "<polyline clip-path=\"url(#clip652)\" style=\"stroke:#000000; stroke-linecap:round; stroke-linejoin:round; stroke-width:2; stroke-opacity:0.1; fill:none\" points=\"112.177,677.814 2352.76,677.814 \"/>\n",
       "<polyline clip-path=\"url(#clip652)\" style=\"stroke:#000000; stroke-linecap:round; stroke-linejoin:round; stroke-width:2; stroke-opacity:0.1; fill:none\" points=\"112.177,455.234 2352.76,455.234 \"/>\n",
       "<polyline clip-path=\"url(#clip652)\" style=\"stroke:#000000; stroke-linecap:round; stroke-linejoin:round; stroke-width:2; stroke-opacity:0.1; fill:none\" points=\"112.177,232.653 2352.76,232.653 \"/>\n",
       "<polyline clip-path=\"url(#clip650)\" style=\"stroke:#000000; stroke-linecap:round; stroke-linejoin:round; stroke-width:4; stroke-opacity:1; fill:none\" points=\"112.177,1486.45 112.177,47.2441 \"/>\n",
       "<polyline clip-path=\"url(#clip650)\" style=\"stroke:#000000; stroke-linecap:round; stroke-linejoin:round; stroke-width:4; stroke-opacity:1; fill:none\" points=\"112.177,1345.55 131.075,1345.55 \"/>\n",
       "<polyline clip-path=\"url(#clip650)\" style=\"stroke:#000000; stroke-linecap:round; stroke-linejoin:round; stroke-width:4; stroke-opacity:1; fill:none\" points=\"112.177,1122.97 131.075,1122.97 \"/>\n",
       "<polyline clip-path=\"url(#clip650)\" style=\"stroke:#000000; stroke-linecap:round; stroke-linejoin:round; stroke-width:4; stroke-opacity:1; fill:none\" points=\"112.177,900.394 131.075,900.394 \"/>\n",
       "<polyline clip-path=\"url(#clip650)\" style=\"stroke:#000000; stroke-linecap:round; stroke-linejoin:round; stroke-width:4; stroke-opacity:1; fill:none\" points=\"112.177,677.814 131.075,677.814 \"/>\n",
       "<polyline clip-path=\"url(#clip650)\" style=\"stroke:#000000; stroke-linecap:round; stroke-linejoin:round; stroke-width:4; stroke-opacity:1; fill:none\" points=\"112.177,455.234 131.075,455.234 \"/>\n",
       "<polyline clip-path=\"url(#clip650)\" style=\"stroke:#000000; stroke-linecap:round; stroke-linejoin:round; stroke-width:4; stroke-opacity:1; fill:none\" points=\"112.177,232.653 131.075,232.653 \"/>\n",
       "<path clip-path=\"url(#clip650)\" d=\"M59.8578 1358.9 L76.1772 1358.9 L76.1772 1362.83 L54.2328 1362.83 L54.2328 1358.9 Q56.8949 1356.14 61.4782 1351.52 Q66.0846 1346.86 67.2652 1345.52 Q69.5105 1343 70.3902 1341.26 Q71.2929 1339.5 71.2929 1337.81 Q71.2929 1335.06 69.3485 1333.32 Q67.4272 1331.58 64.3254 1331.58 Q62.1263 1331.58 59.6726 1332.35 Q57.2421 1333.11 54.4643 1334.66 L54.4643 1329.94 Q57.2884 1328.81 59.7421 1328.23 Q62.1958 1327.65 64.2328 1327.65 Q69.6031 1327.65 72.7976 1330.33 Q75.992 1333.02 75.992 1337.51 Q75.992 1339.64 75.1818 1341.56 Q74.3948 1343.46 72.2883 1346.05 Q71.7096 1346.72 68.6078 1349.94 Q65.5059 1353.14 59.8578 1358.9 Z\" fill=\"#000000\" fill-rule=\"nonzero\" fill-opacity=\"1\" /><path clip-path=\"url(#clip650)\" d=\"M69.0476 1121.62 Q72.404 1122.34 74.279 1124.61 Q76.1772 1126.87 76.1772 1130.21 Q76.1772 1135.32 72.6587 1138.12 Q69.1402 1140.93 62.6587 1140.93 Q60.4828 1140.93 58.168 1140.49 Q55.8764 1140.07 53.4227 1139.21 L53.4227 1134.7 Q55.3671 1135.83 57.6819 1136.41 Q59.9967 1136.99 62.5198 1136.99 Q66.918 1136.99 69.2096 1135.25 Q71.5244 1133.52 71.5244 1130.21 Q71.5244 1127.15 69.3717 1125.44 Q67.242 1123.7 63.4226 1123.7 L59.3949 1123.7 L59.3949 1119.86 L63.6078 1119.86 Q67.0569 1119.86 68.8855 1118.5 Q70.7142 1117.11 70.7142 1114.51 Q70.7142 1111.85 68.8161 1110.44 Q66.9411 1109 63.4226 1109 Q61.5013 1109 59.3023 1109.42 Q57.1032 1109.84 54.4643 1110.72 L54.4643 1106.55 Q57.1264 1105.81 59.4412 1105.44 Q61.7791 1105.07 63.8393 1105.07 Q69.1633 1105.07 72.2652 1107.5 Q75.367 1109.91 75.367 1114.03 Q75.367 1116.9 73.7235 1118.89 Q72.08 1120.86 69.0476 1121.62 Z\" fill=\"#000000\" fill-rule=\"nonzero\" fill-opacity=\"1\" /><path clip-path=\"url(#clip650)\" d=\"M66.5939 887.188 L54.7884 905.637 L66.5939 905.637 L66.5939 887.188 M65.367 883.114 L71.2466 883.114 L71.2466 905.637 L76.1772 905.637 L76.1772 909.526 L71.2466 909.526 L71.2466 917.674 L66.5939 917.674 L66.5939 909.526 L50.9921 909.526 L50.9921 905.012 L65.367 883.114 Z\" fill=\"#000000\" fill-rule=\"nonzero\" fill-opacity=\"1\" /><path clip-path=\"url(#clip650)\" d=\"M55.2745 660.534 L73.6309 660.534 L73.6309 664.469 L59.5569 664.469 L59.5569 672.941 Q60.5754 672.594 61.5939 672.432 Q62.6124 672.247 63.6309 672.247 Q69.418 672.247 72.7976 675.418 Q76.1772 678.589 76.1772 684.006 Q76.1772 689.585 72.705 692.686 Q69.2328 695.765 62.9134 695.765 Q60.7374 695.765 58.4689 695.395 Q56.2236 695.024 53.8162 694.284 L53.8162 689.585 Q55.8995 690.719 58.1217 691.274 Q60.3439 691.83 62.8208 691.83 Q66.8254 691.83 69.1633 689.724 Q71.5013 687.617 71.5013 684.006 Q71.5013 680.395 69.1633 678.288 Q66.8254 676.182 62.8208 676.182 Q60.9458 676.182 59.0708 676.599 Q57.2189 677.015 55.2745 677.895 L55.2745 660.534 Z\" fill=\"#000000\" fill-rule=\"nonzero\" fill-opacity=\"1\" /><path clip-path=\"url(#clip650)\" d=\"M64.6495 453.37 Q61.5013 453.37 59.6495 455.523 Q57.8208 457.676 57.8208 461.426 Q57.8208 465.153 59.6495 467.329 Q61.5013 469.481 64.6495 469.481 Q67.7976 469.481 69.6263 467.329 Q71.4781 465.153 71.4781 461.426 Q71.4781 457.676 69.6263 455.523 Q67.7976 453.37 64.6495 453.37 M73.9318 438.718 L73.9318 442.977 Q72.1726 442.143 70.367 441.704 Q68.5846 441.264 66.8254 441.264 Q62.1958 441.264 59.7421 444.389 Q57.3115 447.514 56.9643 453.833 Q58.33 451.819 60.3902 450.755 Q62.4504 449.667 64.9272 449.667 Q70.1355 449.667 73.1448 452.838 Q76.1772 455.986 76.1772 461.426 Q76.1772 466.75 73.029 469.967 Q69.8809 473.185 64.6495 473.185 Q58.6541 473.185 55.4828 468.602 Q52.3116 463.995 52.3116 455.268 Q52.3116 447.074 56.2004 442.213 Q60.0893 437.329 66.6402 437.329 Q68.3994 437.329 70.1818 437.676 Q71.9874 438.023 73.9318 438.718 Z\" fill=\"#000000\" fill-rule=\"nonzero\" fill-opacity=\"1\" /><path clip-path=\"url(#clip650)\" d=\"M53.9551 215.373 L76.1772 215.373 L76.1772 217.364 L63.6309 249.933 L58.7467 249.933 L70.5522 219.309 L53.9551 219.309 L53.9551 215.373 Z\" fill=\"#000000\" fill-rule=\"nonzero\" fill-opacity=\"1\" /><polyline clip-path=\"url(#clip652)\" style=\"stroke:#009af9; stroke-linecap:round; stroke-linejoin:round; stroke-width:4; stroke-opacity:1; fill:none\" points=\"175.59,1367.81 193.204,1390.07 210.819,1367.81 228.434,1445.72 246.048,1445.72 263.663,1378.94 281.277,1323.3 298.892,1312.17 316.507,1312.17 334.121,1334.43 351.736,1323.3 369.351,1367.81 386.965,1367.81 404.58,1312.17 422.194,1334.43 439.809,1323.3 457.424,1312.17 475.038,1334.43 492.653,1312.17 510.267,1189.75 527.882,1156.36 545.497,1156.36 563.111,1156.36 580.726,1189.75 598.34,1156.36 615.955,1189.75 633.57,1178.62 651.184,1189.75 668.799,1178.62 686.414,1100.72 704.028,1156.36 721.643,1100.72 739.257,1000.56 756.872,1011.68 774.487,944.91 792.101,967.168 809.716,889.265 827.33,766.846 844.945,733.459 862.56,878.136 880.174,911.523 897.789,811.362 915.404,688.943 933.018,677.814 950.633,644.427 968.247,622.169 985.862,644.427 1003.48,588.782 1021.09,611.04 1038.71,688.943 1056.32,677.814 1073.94,700.072 1091.55,800.233 1109.16,733.459 1126.78,733.459 1144.39,722.33 1162.01,800.233 1179.62,922.652 1197.24,878.136 1214.85,867.007 1232.47,867.007 1250.08,922.652 1267.7,1011.68 1285.31,911.523 1302.92,933.781 1320.54,944.91 1338.15,956.039 1355.77,1000.56 1373.38,1011.68 1391,967.168 1408.61,933.781 1426.23,967.168 1443.84,878.136 1461.46,944.91 1479.07,922.652 1496.69,967.168 1514.3,911.523 1531.91,889.265 1549.53,989.426 1567.14,978.297 1584.76,922.652 1602.37,933.781 1619.99,911.523 1637.6,1011.68 1655.22,978.297 1672.83,922.652 1690.45,933.781 1708.06,922.652 1725.68,889.265 1743.29,911.523 1760.9,878.136 1778.52,755.717 1796.13,766.846 1813.75,722.33 1831.36,800.233 1848.98,755.717 1866.59,777.975 1884.21,666.685 1901.82,599.911 1919.44,555.395 1937.05,544.266 1954.67,499.75 1972.28,533.137 1989.89,510.879 2007.51,588.782 2025.12,588.782 2042.74,566.524 2060.35,477.492 2077.97,455.234 2095.58,310.557 2113.2,321.686 2130.81,388.46 2148.43,399.589 2166.04,366.202 2183.66,232.653 2201.27,199.266 2218.88,87.9763 2236.5,121.363 2254.11,110.234 2271.73,110.234 2289.34,110.234 \"/>\n",
       "<path clip-path=\"url(#clip650)\" d=\"M186.863 198.898 L463.351 198.898 L463.351 95.2176 L186.863 95.2176  Z\" fill=\"#ffffff\" fill-rule=\"evenodd\" fill-opacity=\"1\"/>\n",
       "<polyline clip-path=\"url(#clip650)\" style=\"stroke:#000000; stroke-linecap:round; stroke-linejoin:round; stroke-width:4; stroke-opacity:1; fill:none\" points=\"186.863,198.898 463.351,198.898 463.351,95.2176 186.863,95.2176 186.863,198.898 \"/>\n",
       "<polyline clip-path=\"url(#clip650)\" style=\"stroke:#009af9; stroke-linecap:round; stroke-linejoin:round; stroke-width:4; stroke-opacity:1; fill:none\" points=\"211.758,147.058 361.13,147.058 \"/>\n",
       "<path clip-path=\"url(#clip650)\" d=\"M399.868 166.745 Q398.063 171.375 396.35 172.787 Q394.637 174.199 391.766 174.199 L388.364 174.199 L388.364 170.634 L390.864 170.634 Q392.623 170.634 393.595 169.8 Q394.567 168.967 395.748 165.865 L396.512 163.921 L386.026 138.412 L390.54 138.412 L398.641 158.689 L406.743 138.412 L411.257 138.412 L399.868 166.745 Z\" fill=\"#000000\" fill-rule=\"nonzero\" fill-opacity=\"1\" /><path clip-path=\"url(#clip650)\" d=\"M418.549 160.402 L426.188 160.402 L426.188 134.037 L417.877 135.703 L417.877 131.444 L426.141 129.778 L430.817 129.778 L430.817 160.402 L438.456 160.402 L438.456 164.338 L418.549 164.338 L418.549 160.402 Z\" fill=\"#000000\" fill-rule=\"nonzero\" fill-opacity=\"1\" /></svg>\n"
      ]
     },
     "execution_count": 30,
     "metadata": {},
     "output_type": "execute_result"
    }
   ],
   "source": [
    "moving_average(opt.model.y, 20) |> plot"
   ]
  },
  {
   "cell_type": "code",
   "execution_count": 27,
   "id": "6836b113-073f-4f12-a341-51d5caa80157",
   "metadata": {},
   "outputs": [
    {
     "name": "stderr",
     "output_type": "stream",
     "text": [
      "\u001b[36m\u001b[1m[ \u001b[22m\u001b[39m\u001b[36m\u001b[1mInfo: \u001b[22m\u001b[39m2023-10-02T13:29:31.760\titeration: 130\tcurrent optimum: 13.0\n",
      "\u001b[32mProgress: 100%|█████████████████████████████████████████| Time: 0:00:53\u001b[39m\n"
     ]
    },
    {
     "name": "stdout",
     "output_type": "stream",
     "text": [
      "[1, 2, 3, 4, 5, 6, 7, 9, 10, 11, 13, 16, 17, 18, 19, 20]\n",
      "[7521.0, 7995.0, 7977.0, 8019.0, 7181.0, 7606.0, 7652.0, 2258.0, 8070.0, 7299.0, 7547.0, 7101.0, 7562.0, 8452.0, 6887.0, 8085.0, 7961.0, 8398.0, 7945.0, 7400.0]\n",
      "15\n"
     ]
    },
    {
     "name": "stderr",
     "output_type": "stream",
     "text": [
      "\u001b[36m\u001b[1m[ \u001b[22m\u001b[39m\u001b[36m\u001b[1mInfo: \u001b[22m\u001b[39m2023-10-02T13:30:25.153\titeration: 131\tcurrent optimum: 15.0\n",
      "\u001b[32mProgress: 100%|█████████████████████████████████████████| Time: 0:00:48\u001b[39m\n"
     ]
    },
    {
     "name": "stdout",
     "output_type": "stream",
     "text": [
      "[1, 5, 8, 10, 11, 14, 15, 18, 19]\n",
      "[7835.0, 4289.0, 239.0, 2284.0, 7852.0, 3723.0, 828.0, 7773.0, 1710.0, 8046.0, 7798.0, 1967.0, 1295.0, 8168.0, 8824.0, 6968.0, 210.0, 8174.0, 8111.0, 2929.0]\n",
      "6\n"
     ]
    },
    {
     "name": "stderr",
     "output_type": "stream",
     "text": [
      "\u001b[36m\u001b[1m[ \u001b[22m\u001b[39m\u001b[36m\u001b[1mInfo: \u001b[22m\u001b[39m2023-10-02T13:31:14.189\titeration: 132\tcurrent optimum: 15.0\n",
      "\u001b[32mProgress: 100%|█████████████████████████████████████████| Time: 0:00:44\u001b[39m\n"
     ]
    },
    {
     "name": "stdout",
     "output_type": "stream",
     "text": [
      "[1, 3, 6, 7, 10, 12, 13, 17]\n",
      "[8510.0, 4273.0, 6245.0, 4592.0, 2641.0, 6873.0, 5862.0, 5991.0, 5223.0, 5825.0, 613.0, 5401.0, 5997.0, 832.0, 4671.0, 706.0, 7950.0, 1211.0, 5709.0, 8348.0]\n",
      "5"
     ]
    },
    {
     "name": "stderr",
     "output_type": "stream",
     "text": [
      "\u001b[36m\u001b[1m[ \u001b[22m\u001b[39m\u001b[36m\u001b[1mInfo: \u001b[22m\u001b[39m2023-10-02T13:31:59.200\titeration: 133\tcurrent optimum: 15.0\n"
     ]
    },
    {
     "name": "stdout",
     "output_type": "stream",
     "text": [
      "\n"
     ]
    },
    {
     "name": "stderr",
     "output_type": "stream",
     "text": [
      "\u001b[32mProgress: 100%|█████████████████████████████████████████| Time: 0:00:52\u001b[39m\n"
     ]
    },
    {
     "name": "stdout",
     "output_type": "stream",
     "text": [
      "[2, 5, 6, 7, 9, 11, 12, 13, 14, 15, 17, 19, 20]\n",
      "[3568.0, 9522.0, 6811.0, 6407.0, 10543.0, 9082.0, 9962.0, 9450.0, 8750.0, 7381.0, 9284.0, 9956.0, 11377.0, 10023.0, 9033.0, 4855.0, 9278.0, 478.0, 9170.0, 10758.0]\n",
      "6\n"
     ]
    },
    {
     "name": "stderr",
     "output_type": "stream",
     "text": [
      "\u001b[36m\u001b[1m[ \u001b[22m\u001b[39m\u001b[36m\u001b[1mInfo: \u001b[22m\u001b[39m2023-10-02T13:32:52.249\titeration: 134\tcurrent optimum: 15.0\n",
      "\u001b[32mProgress: 100%|█████████████████████████████████████████| Time: 0:00:53\u001b[39m\n"
     ]
    },
    {
     "name": "stdout",
     "output_type": "stream",
     "text": [
      "[1, 2, 3, 4, 5, 6, 7, 9, 10, 11, 13, 14, 15, 17, 19]\n",
      "[6805.0, 7135.0, 7101.0, 6477.0, 7262.0, 6937.0, 7169.0, 4899.0, 6781.0, 6402.0, 7014.0, 1159.0, 6643.0, 6845.0, 6790.0, 3701.0, 7331.0, 3045.0, 6620.0, 2397.0]\n",
      "11\n"
     ]
    },
    {
     "name": "stderr",
     "output_type": "stream",
     "text": [
      "\u001b[36m\u001b[1m[ \u001b[22m\u001b[39m\u001b[36m\u001b[1mInfo: \u001b[22m\u001b[39m2023-10-02T13:33:45.740\titeration: 135\tcurrent optimum: 15.0\n",
      "\u001b[32mProgress: 100%|█████████████████████████████████████████| Time: 0:00:49\u001b[39m\n"
     ]
    },
    {
     "name": "stdout",
     "output_type": "stream",
     "text": [
      "[1, 2, 3, 5, 6, 7, 8, 9, 10, 12, 13, 16, 17, 19, 20]\n",
      "[10889.0, 10914.0, 11089.0, 648.0, 10721.0, 10371.0, 10580.0, 10547.0, 10766.0, 10702.0, 2197.0, 10852.0, 10235.0, 9906.0, 761.0, 10365.0, 11900.0, 3267.0, 10428.0, 10325.0]\n",
      "13"
     ]
    },
    {
     "name": "stderr",
     "output_type": "stream",
     "text": [
      "\u001b[36m\u001b[1m[ \u001b[22m\u001b[39m\u001b[36m\u001b[1mInfo: \u001b[22m\u001b[39m2023-10-02T13:34:35.437\titeration: 136\tcurrent optimum: 15.0\n"
     ]
    },
    {
     "name": "stdout",
     "output_type": "stream",
     "text": [
      "\n"
     ]
    },
    {
     "name": "stderr",
     "output_type": "stream",
     "text": [
      "\u001b[32mProgress: 100%|█████████████████████████████████████████| Time: 0:00:45\u001b[39m\n"
     ]
    },
    {
     "name": "stdout",
     "output_type": "stream",
     "text": [
      "[1, 8, 11, 12, 14, 15, 20]\n",
      "[14755.0, 639.0, 6177.0, 10832.0, 4326.0, 10387.0, 1536.0, 15033.0, 10665.0, 12629.0, 14499.0, 15365.0, 8102.0, 14078.0, 14333.0, 12057.0, 11623.0, 302.0, 9279.0, 14672.0]\n",
      "7\n"
     ]
    },
    {
     "name": "stderr",
     "output_type": "stream",
     "text": [
      "\u001b[36m\u001b[1m[ \u001b[22m\u001b[39m\u001b[36m\u001b[1mInfo: \u001b[22m\u001b[39m2023-10-02T13:35:20.596\titeration: 137\tcurrent optimum: 15.0\n",
      "\u001b[32mProgress: 100%|█████████████████████████████████████████| Time: 0:00:48\u001b[39m"
     ]
    },
    {
     "name": "stdout",
     "output_type": "stream",
     "text": [
      "[1, 2, 3, 4, 5, 6, 8, 10, 13, 14, 15, 16, 18, 19, 20]\n",
      "[9508.0, 9510.0, 9667.0, 9485.0, 8795.0, 9568.0, 3233.0, 9537.0, 3666.0, 9233.0, 3928.0, 457.0, 9378.0, 9591.0, 9108.0, 8919.0, 6339.0, 9594.0, 9027.0, 9462.0]\n",
      "14\n"
     ]
    },
    {
     "name": "stderr",
     "output_type": "stream",
     "text": [
      "\n",
      "\u001b[36m\u001b[1m[ \u001b[22m\u001b[39m\u001b[36m\u001b[1mInfo: \u001b[22m\u001b[39m2023-10-02T13:36:09.514\titeration: 138\tcurrent optimum: 15.0\n",
      "\u001b[32mProgress: 100%|█████████████████████████████████████████| Time: 0:00:48\u001b[39m\n"
     ]
    },
    {
     "name": "stdout",
     "output_type": "stream",
     "text": [
      "[1, 2, 4, 5, 7, 9, 10, 11, 17, 18, 19, 20]\n",
      "[6628.0, 6444.0, 817.0, 6540.0, 7087.0, 6773.0, 6532.0, 4541.0, 6459.0, 6685.0, 6501.0, 5613.0, 5548.0, 2208.0, 5593.0, 3551.0, 7165.0, 7758.0, 6576.0, 7064.0]\n",
      "9"
     ]
    },
    {
     "name": "stderr",
     "output_type": "stream",
     "text": [
      "\u001b[36m\u001b[1m[ \u001b[22m\u001b[39m\u001b[36m\u001b[1mInfo: \u001b[22m\u001b[39m2023-10-02T13:36:58.401\titeration: 139\tcurrent optimum: 15.0\n"
     ]
    },
    {
     "name": "stdout",
     "output_type": "stream",
     "text": [
      "\n"
     ]
    },
    {
     "name": "stderr",
     "output_type": "stream",
     "text": [
      "\u001b[32mProgress: 100%|█████████████████████████████████████████| Time: 0:00:43\u001b[39m\n"
     ]
    },
    {
     "name": "stdout",
     "output_type": "stream",
     "text": [
      "[1, 3, 6, 9, 12, 13, 14, 15, 16, 17, 19]\n",
      "[9249.0, 9220.0, 9552.0, 7110.0, 9064.0, 9404.0, 6421.0, 9420.0, 9109.0, 7757.0, 8038.0, 9205.0, 8811.0, 9168.0, 8981.0, 9315.0, 9417.0, 1881.0, 9205.0, 826.0]\n",
      "7\n"
     ]
    },
    {
     "name": "stderr",
     "output_type": "stream",
     "text": [
      "\u001b[36m\u001b[1m[ \u001b[22m\u001b[39m\u001b[36m\u001b[1mInfo: \u001b[22m\u001b[39m2023-10-02T13:37:41.877\titeration: 140\tcurrent optimum: 15.0\n",
      "\u001b[32mProgress: 100%|█████████████████████████████████████████| Time: 0:00:40\u001b[39m"
     ]
    },
    {
     "name": "stdout",
     "output_type": "stream",
     "text": [
      "[2, 6, 8, 9, 13, 16, 18]\n",
      "[5397.0, 11585.0, 6944.0, 4110.0, 7269.0, 11232.0, 8444.0, 11991.0, 12198.0, 9320.0, 2133.0, 8899.0, 11064.0, 3198.0, 3315.0, 11747.0, 5795.0, 11821.0, 4151.0, 5379.0]\n"
     ]
    },
    {
     "name": "stderr",
     "output_type": "stream",
     "text": [
      "\n",
      "\u001b[36m\u001b[1m[ \u001b[22m\u001b[39m\u001b[36m\u001b[1mInfo: \u001b[22m\u001b[39m2023-10-02T13:38:22.148\titeration: 141\tcurrent optimum: 15.0\n"
     ]
    },
    {
     "name": "stdout",
     "output_type": "stream",
     "text": [
      "6\n"
     ]
    },
    {
     "name": "stderr",
     "output_type": "stream",
     "text": [
      "\u001b[32mProgress: 100%|█████████████████████████████████████████| Time: 0:00:41\u001b[39m\n"
     ]
    },
    {
     "name": "stdout",
     "output_type": "stream",
     "text": [
      "[1, 5, 9, 12, 14, 16, 17]\n",
      "[14361.0, 2267.0, 5948.0, 253.0, 14243.0, 2042.0, 6827.0, 5575.0, 13867.0, 1377.0, 5203.0, 14835.0, 12171.0, 14108.0, 4876.0, 14281.0, 14550.0, 897.0, 10841.0, 4053.0]\n",
      "6\n"
     ]
    },
    {
     "name": "stderr",
     "output_type": "stream",
     "text": [
      "\u001b[36m\u001b[1m[ \u001b[22m\u001b[39m\u001b[36m\u001b[1mInfo: \u001b[22m\u001b[39m2023-10-02T13:39:03.834\titeration: 142\tcurrent optimum: 15.0\n",
      "\u001b[32mProgress:  70%|█████████████████████████████            |  ETA: 0:00:18\u001b[39m"
     ]
    },
    {
     "ename": "LoadError",
     "evalue": "InterruptException:",
     "output_type": "error",
     "traceback": [
      "InterruptException:",
      "",
      "Stacktrace:",
      "  [1] try_yieldto(undo::typeof(Base.ensure_rescheduled))",
      "    @ Base .\\task.jl:920",
      "  [2] wait()",
      "    @ Base .\\task.jl:984",
      "  [3] wait(c::Base.GenericCondition{Base.Threads.SpinLock}; first::Bool)",
      "    @ Base .\\condition.jl:130",
      "  [4] wait(c::Base.GenericCondition{Base.Threads.SpinLock})",
      "    @ Base .\\condition.jl:125",
      "  [5] _wait(t::Task)",
      "    @ Base .\\task.jl:308",
      "  [6] threading_run(fun::var\"#71#threadsfor_fun#20\"{var\"#71#threadsfor_fun#12#21\"{MutableNamedTuple{(:states, :n_excited, :d, :Zeeman_x_mat, :Zeeman_y_mat, :Zeeman_z_mat), Tuple{Base.RefValue{Vector{State{HundsCaseB_Rot}}}, Base.RefValue{Int64}, Base.RefValue{Array{ComplexF64, 3}}, Base.RefValue{StructArray{ComplexF64, 2, NamedTuple{(:re, :im), Tuple{Matrix{Float64}, Matrix{Float64}}}, Int64}}, Base.RefValue{StructArray{ComplexF64, 2, NamedTuple{(:re, :im), Tuple{Matrix{Float64}, Matrix{Float64}}}, Int64}}, Base.RefValue{StructArray{ComplexF64, 2, NamedTuple{(:re, :im), Tuple{Matrix{Float64}, Matrix{Float64}}}, Int64}}}}, MutableNamedTuple{(:t_end, :n_values, :pol1_x, :pol2_x, :pol3_x, :pol4_x, :s1, :s2, :s3, :s4, :Δ1, :Δ2, :Δ3, :Δ4, :B_gradient, :temp, :diameter, :displacement, :kick, :ramp_time), Tuple{Base.RefValue{Float64}, Base.RefValue{Int64}, Base.RefValue{SVector{3, ComplexF64}}, Base.RefValue{SVector{3, ComplexF64}}, Base.RefValue{SVector{3, ComplexF64}}, Base.RefValue{SVector{3, ComplexF64}}, Base.RefValue{Float64}, Base.RefValue{Float64}, Base.RefValue{Float64}, Base.RefValue{Float64}, Base.RefValue{Float64}, Base.RefValue{Float64}, Base.RefValue{Float64}, Base.RefValue{Float64}, Base.RefValue{Int64}, Base.RefValue{Float64}, Base.RefValue{Float64}, Base.RefValue{Vector{Float64}}, Base.RefValue{Vector{Float64}}, Base.RefValue{Float64}}}, ContinuousCallback{typeof(condition), typeof(SE_collapse_pol_always!), Nothing, typeof(SciMLBase.INITIALIZE_DEFAULT), typeof(SciMLBase.FINALIZE_DEFAULT), Float64, Int64, Rational{Int64}, Nothing, Int64}, Vector{Float64}, Vector{Vector{Float64}}, Vector{Vector{Float64}}, Vector{Vector{Float64}}, Vector{Vector{Float64}}, Vector{Vector{Float64}}, Vector{Vector{Float64}}, Vector{Vector{Float64}}, Vector{Vector{Float64}}, Int64, Int64, Progress, Int64, Int64, UnitRange{Int64}}}, static::Bool)",
      "    @ Base.Threads .\\threadingconstructs.jl:146",
      "  [7] macro expansion",
      "    @ .\\threadingconstructs.jl:199 [inlined]",
      "  [8] simulate_particles_v2(package::MutableNamedTuple{(:states, :n_excited, :d, :Zeeman_x_mat, :Zeeman_y_mat, :Zeeman_z_mat), Tuple{Base.RefValue{Vector{State{HundsCaseB_Rot}}}, Base.RefValue{Int64}, Base.RefValue{Array{ComplexF64, 3}}, Base.RefValue{StructArray{ComplexF64, 2, NamedTuple{(:re, :im), Tuple{Matrix{Float64}, Matrix{Float64}}}, Int64}}, Base.RefValue{StructArray{ComplexF64, 2, NamedTuple{(:re, :im), Tuple{Matrix{Float64}, Matrix{Float64}}}, Int64}}, Base.RefValue{StructArray{ComplexF64, 2, NamedTuple{(:re, :im), Tuple{Matrix{Float64}, Matrix{Float64}}}, Int64}}}}, params::MutableNamedTuple{(:t_end, :n_values, :pol1_x, :pol2_x, :pol3_x, :pol4_x, :s1, :s2, :s3, :s4, :Δ1, :Δ2, :Δ3, :Δ4, :B_gradient, :temp, :diameter, :displacement, :kick, :ramp_time), Tuple{Base.RefValue{Float64}, Base.RefValue{Int64}, Base.RefValue{SVector{3, ComplexF64}}, Base.RefValue{SVector{3, ComplexF64}}, Base.RefValue{SVector{3, ComplexF64}}, Base.RefValue{SVector{3, ComplexF64}}, Base.RefValue{Float64}, Base.RefValue{Float64}, Base.RefValue{Float64}, Base.RefValue{Float64}, Base.RefValue{Float64}, Base.RefValue{Float64}, Base.RefValue{Float64}, Base.RefValue{Float64}, Base.RefValue{Int64}, Base.RefValue{Float64}, Base.RefValue{Float64}, Base.RefValue{Vector{Float64}}, Base.RefValue{Vector{Float64}}, Base.RefValue{Float64}}})",
      "    @ Main G:\\My Drive\\github\\OpticalBlochEquations\\examples\\ipynb_sources\\toy_models\\CaOH_scan\\CaOH_scan_helper_v2.jl:415",
      "  [9] f(x::Vector{Float64})",
      "    @ Main .\\In[5]:41",
      " [10] macro expansion",
      "    @ C:\\Users\\halla\\.julia\\packages\\TimerOutputs\\RsWnF\\src\\TimerOutput.jl:237 [inlined]",
      " [11] _evaluate_function(o::BOpt{typeof(f), GPE{ElasticArrays.ElasticMatrix{Float64, Vector{Float64}}, ElasticArrays.ElasticVector{Float64, Vector{Float64}}, MeanConst, SEArd{Float64}, GaussianProcesses.ElasticCovStrat, GaussianProcesses.StationaryARDData{ElasticPDMats.AllElasticArray{Float64, 3}}, ElasticPDMats.ElasticPDMat{Float64, Matrix{Float64}}, GaussianProcesses.Scalar{Float64}}, UpperConfidenceBound{BrochuBetaScaling}, NamedTuple{(:method, :restarts, :maxeval, :maxtime), Tuple{Symbol, Int64, Int64, Float64}}, MAPGPOptimizer{NamedTuple{(:domean, :kern, :noise, :lik, :meanbounds, :kernbounds, :noisebounds, :likbounds, :method, :maxeval), Tuple{Bool, Bool, Bool, Bool, Nothing, Vector{Vector{Int64}}, Vector{Int64}, Nothing, Symbol, Int64}}}, ScaledSobolIterator{Float64, 6}}, x::Vector{Float64})",
      "    @ BayesianOptimization C:\\Users\\halla\\.julia\\packages\\BayesianOptimization\\nq1HY\\src\\BayesianOptimization.jl:160",
      " [12] boptimize!(o::BOpt{typeof(f), GPE{ElasticArrays.ElasticMatrix{Float64, Vector{Float64}}, ElasticArrays.ElasticVector{Float64, Vector{Float64}}, MeanConst, SEArd{Float64}, GaussianProcesses.ElasticCovStrat, GaussianProcesses.StationaryARDData{ElasticPDMats.AllElasticArray{Float64, 3}}, ElasticPDMats.ElasticPDMat{Float64, Matrix{Float64}}, GaussianProcesses.Scalar{Float64}}, UpperConfidenceBound{BrochuBetaScaling}, NamedTuple{(:method, :restarts, :maxeval, :maxtime), Tuple{Symbol, Int64, Int64, Float64}}, MAPGPOptimizer{NamedTuple{(:domean, :kern, :noise, :lik, :meanbounds, :kernbounds, :noisebounds, :likbounds, :method, :maxeval), Tuple{Bool, Bool, Bool, Bool, Nothing, Vector{Vector{Int64}}, Vector{Int64}, Nothing, Symbol, Int64}}}, ScaledSobolIterator{Float64, 6}})",
      "    @ BayesianOptimization C:\\Users\\halla\\.julia\\packages\\BayesianOptimization\\nq1HY\\src\\BayesianOptimization.jl:146",
      " [13] top-level scope",
      "    @ In[27]:2"
     ]
    },
    {
     "name": "stderr",
     "output_type": "stream",
     "text": [
      "\u001b[32mProgress: 100%|█████████████████████████████████████████| Time: 0:00:44\u001b[39m\n"
     ]
    }
   ],
   "source": [
    "maxiterations!(opt, 200)\n",
    "result = boptimize!(opt)"
   ]
  },
  {
   "cell_type": "code",
   "execution_count": 34,
   "id": "5bf74b9f-2d11-4d68-8ed4-dd26667aac63",
   "metadata": {},
   "outputs": [
    {
     "data": {
      "text/plain": [
       "6-element Vector{Float64}:\n",
       "  1.8343240593459835\n",
       "  0.1299191952663775\n",
       "  0.2498351325253968\n",
       "  1.3916557489502095\n",
       " -1.7246379679714594\n",
       "  0.5800080984363274"
      ]
     },
     "execution_count": 34,
     "metadata": {},
     "output_type": "execute_result"
    }
   ],
   "source": [
    "opt.model_optimizer"
   ]
  },
  {
   "cell_type": "code",
   "execution_count": 33,
   "id": "78fed5e1-c553-429d-b293-f6ce636136d0",
   "metadata": {},
   "outputs": [
    {
     "data": {
      "text/plain": [
       "6-element Vector{Float64}:\n",
       "  3.3321726055466714\n",
       "  0.14066782220079727\n",
       "  0.21058048002539118\n",
       "  1.325692750013504\n",
       " -2.0\n",
       "  0.8982792923210681"
      ]
     },
     "execution_count": 33,
     "metadata": {},
     "output_type": "execute_result"
    }
   ],
   "source": [
    "opt.observed_optimizer"
   ]
  },
  {
   "cell_type": "code",
   "execution_count": 35,
   "id": "903627e2-59cb-4c6a-857d-46e45bb70a07",
   "metadata": {},
   "outputs": [
    {
     "name": "stderr",
     "output_type": "stream",
     "text": [
      "\u001b[36m\u001b[1m[ \u001b[22m\u001b[39m\u001b[36m\u001b[1mInfo: \u001b[22m\u001b[39m2023-10-02T13:41:36.601\titeration: 143\tcurrent optimum: 15.0\n",
      "\u001b[32mProgress: 100%|█████████████████████████████████████████| Time: 0:00:49\u001b[39m\n"
     ]
    },
    {
     "name": "stdout",
     "output_type": "stream",
     "text": [
      "[2, 4, 6, 7, 8, 9, 10, 11, 12, 13, 14, 15, 16, 17, 18, 19]\n",
      "[1036.0, 5432.0, 1408.0, 5192.0, 900.0, 5536.0, 5928.0, 5392.0, 5303.0, 5765.0, 5376.0, 5409.0, 5469.0, 5901.0, 5764.0, 5361.0, 5484.0, 5333.0, 5498.0, 5655.0]\n",
      "4"
     ]
    },
    {
     "name": "stderr",
     "output_type": "stream",
     "text": [
      "\u001b[36m\u001b[1m[ \u001b[22m\u001b[39m\u001b[36m\u001b[1mInfo: \u001b[22m\u001b[39m2023-10-02T13:42:26.257\titeration: 144\tcurrent optimum: 15.0\n"
     ]
    },
    {
     "name": "stdout",
     "output_type": "stream",
     "text": [
      "\n"
     ]
    },
    {
     "name": "stderr",
     "output_type": "stream",
     "text": [
      "\u001b[32mProgress:  95%|███████████████████████████████████████  |  ETA: 0:00:01\u001b[39m\r"
     ]
    },
    {
     "name": "stdout",
     "output_type": "stream",
     "text": [
      "Int64[]\n",
      "[7183.0, 8763.0, 4367.0, 9974.0, 8208.0, 2137.0, 10935.0, 6183.0, 15856.0, 10791.0, 4920.0, 545.0, 10972.0, 14475.0, 5478.0, 5743.0, 6857.0, 2920.0, 7250.0, 6133.0]\n",
      "0\n"
     ]
    },
    {
     "name": "stderr",
     "output_type": "stream",
     "text": [
      "\u001b[32mProgress: 100%|█████████████████████████████████████████| Time: 0:00:25\u001b[39m\n",
      "\u001b[36m\u001b[1m[ \u001b[22m\u001b[39m\u001b[36m\u001b[1mInfo: \u001b[22m\u001b[39m2023-10-02T13:42:51.653\titeration: 145\tcurrent optimum: 15.0\n",
      "\u001b[32mProgress:  95%|███████████████████████████████████████  |  ETA: 0:00:01\u001b[39m"
     ]
    },
    {
     "name": "stdout",
     "output_type": "stream",
     "text": [
      "Int64[]\n",
      "[7070.0, 4089.0, 2567.0, 4979.0, 4121.0, 3073.0, 3166.0, 4591.0, 3623.0, 825.0, 5961.0, 2963.0, 7005.0, 3817.0, 3321.0, 3292.0, 3277.0, 4815.0, 3098.0, 2332.0]\n",
      "0\n"
     ]
    },
    {
     "name": "stderr",
     "output_type": "stream",
     "text": [
      "\u001b[32mProgress: 100%|█████████████████████████████████████████| Time: 0:00:21\u001b[39m\n",
      "\u001b[36m\u001b[1m[ \u001b[22m\u001b[39m\u001b[36m\u001b[1mInfo: \u001b[22m\u001b[39m2023-10-02T13:43:13.614\titeration: 146\tcurrent optimum: 15.0\n",
      "\u001b[32mProgress: 100%|█████████████████████████████████████████| Time: 0:00:45\u001b[39m\n"
     ]
    },
    {
     "name": "stdout",
     "output_type": "stream",
     "text": [
      "[1, 4, 5, 7, 10, 12, 13, 14, 15, 19, 20]\n",
      "[10196.0, 6205.0, 9229.0, 10287.0, 10363.0, 411.0, 10187.0, 6807.0, 7909.0, 10072.0, 8500.0, 10151.0, 10532.0, 10354.0, 10992.0, 6120.0, 1561.0, 6645.0, 10666.0, 10347.0]\n",
      "8"
     ]
    },
    {
     "name": "stderr",
     "output_type": "stream",
     "text": [
      "\u001b[36m\u001b[1m[ \u001b[22m\u001b[39m\u001b[36m\u001b[1mInfo: \u001b[22m\u001b[39m2023-10-02T13:43:59.043\titeration: 147\tcurrent optimum: 15.0\n"
     ]
    },
    {
     "name": "stdout",
     "output_type": "stream",
     "text": [
      "\n"
     ]
    },
    {
     "name": "stderr",
     "output_type": "stream",
     "text": [
      "\u001b[32mProgress: 100%|█████████████████████████████████████████| Time: 0:00:43\u001b[39m\n"
     ]
    },
    {
     "name": "stdout",
     "output_type": "stream",
     "text": [
      "[1, 3, 5, 6, 8, 14, 15, 20]\n",
      "[16858.0, 6825.0, 15798.0, 6004.0, 15732.0, 15262.0, 8286.0, 16036.0, 6156.0, 5801.0, 6499.0, 2296.0, 3517.0, 16568.0, 15702.0, 10241.0, 6103.0, 2358.0, 280.0, 16609.0]\n",
      "7\n"
     ]
    },
    {
     "name": "stderr",
     "output_type": "stream",
     "text": [
      "\u001b[36m\u001b[1m[ \u001b[22m\u001b[39m\u001b[36m\u001b[1mInfo: \u001b[22m\u001b[39m2023-10-02T13:44:42.678\titeration: 148\tcurrent optimum: 15.0\n",
      "\u001b[32mProgress: 100%|█████████████████████████████████████████| Time: 0:00:48\u001b[39m\n"
     ]
    },
    {
     "name": "stdout",
     "output_type": "stream",
     "text": [
      "[1, 2, 3, 4, 8, 9, 10, 11, 12, 15, 18, 19, 20]\n",
      "[9147.0, 8735.0, 9343.0, 9223.0, 2883.0, 4763.0, 6317.0, 8656.0, 9143.0, 9326.0, 9207.0, 9291.0, 8266.0, 684.0, 9447.0, 1622.0, 2167.0, 9502.0, 9394.0, 9154.0]\n",
      "5"
     ]
    },
    {
     "name": "stderr",
     "output_type": "stream",
     "text": [
      "\u001b[36m\u001b[1m[ \u001b[22m\u001b[39m\u001b[36m\u001b[1mInfo: \u001b[22m\u001b[39m2023-10-02T13:45:30.961\titeration: 149\tcurrent optimum: 15.0\n"
     ]
    },
    {
     "name": "stdout",
     "output_type": "stream",
     "text": [
      "\n"
     ]
    },
    {
     "name": "stderr",
     "output_type": "stream",
     "text": [
      "\u001b[32mProgress: 100%|█████████████████████████████████████████| Time: 0:00:57\u001b[39m\n"
     ]
    },
    {
     "name": "stdout",
     "output_type": "stream",
     "text": [
      "[1, 3, 5, 7, 8, 9, 11, 12, 13, 16, 17, 20]\n",
      "[5365.0, 1406.0, 5032.0, 1315.0, 5780.0, 2387.0, 5426.0, 5553.0, 5597.0, 1355.0, 5375.0, 5195.0, 4683.0, 4488.0, 4009.0, 5644.0, 5756.0, 5199.0, 4062.0, 5432.0]\n",
      "1\n"
     ]
    },
    {
     "name": "stderr",
     "output_type": "stream",
     "text": [
      "\u001b[36m\u001b[1m[ \u001b[22m\u001b[39m\u001b[36m\u001b[1mInfo: \u001b[22m\u001b[39m2023-10-02T13:46:28.341\titeration: 150\tcurrent optimum: 15.0\n",
      "\u001b[32mProgress: 100%|█████████████████████████████████████████| Time: 0:00:50\u001b[39m\n"
     ]
    },
    {
     "name": "stdout",
     "output_type": "stream",
     "text": [
      "[2, 4, 5, 7, 9, 11, 12, 14, 15, 16, 17, 18, 20]\n",
      "[6222.0, 9287.0, 2915.0, 8873.0, 9240.0, 5864.0, 9090.0, 8309.0, 8919.0, 3052.0, 9343.0, 9172.0, 4060.0, 9015.0, 8482.0, 9148.0, 9636.0, 8595.0, 4582.0, 9525.0]\n",
      "6"
     ]
    },
    {
     "name": "stderr",
     "output_type": "stream",
     "text": [
      "\u001b[36m\u001b[1m[ \u001b[22m\u001b[39m\u001b[36m\u001b[1mInfo: \u001b[22m\u001b[39m2023-10-02T13:47:19.436\titeration: 151\tcurrent optimum: 15.0\n"
     ]
    },
    {
     "name": "stdout",
     "output_type": "stream",
     "text": [
      "\n"
     ]
    },
    {
     "name": "stderr",
     "output_type": "stream",
     "text": [
      "\u001b[32mProgress: 100%|█████████████████████████████████████████| Time: 0:00:49\u001b[39m\n"
     ]
    },
    {
     "name": "stdout",
     "output_type": "stream",
     "text": [
      "[4, 5, 8, 9, 11, 17, 18]\n",
      "[15242.0, 2281.0, 7238.0, 16721.0, 17990.0, 9520.0, 18460.0, 16763.0, 18356.0, 8700.0, 17073.0, 15125.0, 13081.0, 832.0, 6452.0, 5714.0, 18140.0, 18730.0, 6406.0, 1592.0]\n",
      "7\n"
     ]
    },
    {
     "name": "stderr",
     "output_type": "stream",
     "text": [
      "\u001b[36m\u001b[1m[ \u001b[22m\u001b[39m\u001b[36m\u001b[1mInfo: \u001b[22m\u001b[39m2023-10-02T13:48:08.706\titeration: 152\tcurrent optimum: 15.0\n",
      "\u001b[32mProgress: 100%|█████████████████████████████████████████| Time: 0:00:36\u001b[39m\n"
     ]
    },
    {
     "name": "stdout",
     "output_type": "stream",
     "text": [
      "[13, 16]\n",
      "[13754.0, 4613.0, 6631.0, 4722.0, 5385.0, 14011.0, 3615.0, 2394.0, 11316.0, 8606.0, 6457.0, 1733.0, 16972.0, 12403.0, 16145.0, 16943.0, 13644.0, 3332.0, 1279.0, 1159.0]\n",
      "2\n"
     ]
    },
    {
     "name": "stderr",
     "output_type": "stream",
     "text": [
      "\u001b[36m\u001b[1m[ \u001b[22m\u001b[39m\u001b[36m\u001b[1mInfo: \u001b[22m\u001b[39m2023-10-02T13:48:45.169\titeration: 153\tcurrent optimum: 15.0\n",
      "\u001b[32mProgress: 100%|█████████████████████████████████████████| Time: 0:00:52\u001b[39m\n"
     ]
    },
    {
     "name": "stdout",
     "output_type": "stream",
     "text": [
      "[1, 2, 5, 7, 11, 12, 13, 14, 16, 17, 18, 19]\n",
      "[7020.0, 6740.0, 2208.0, 2644.0, 6435.0, 1019.0, 6735.0, 80.0, 1521.0, 4969.0, 6846.0, 6423.0, 6582.0, 6828.0, 3359.0, 6527.0, 6113.0, 6667.0, 6733.0, 1822.0]\n",
      "6\n"
     ]
    },
    {
     "name": "stderr",
     "output_type": "stream",
     "text": [
      "\u001b[36m\u001b[1m[ \u001b[22m\u001b[39m\u001b[36m\u001b[1mInfo: \u001b[22m\u001b[39m2023-10-02T13:49:38.258\titeration: 154\tcurrent optimum: 15.0\n",
      "\u001b[32mProgress: 100%|█████████████████████████████████████████| Time: 0:00:59\u001b[39m\n"
     ]
    },
    {
     "name": "stdout",
     "output_type": "stream",
     "text": [
      "[1, 2, 3, 6, 7, 8, 9, 10, 11, 12, 13, 15, 16, 18, 19]\n",
      "[5221.0, 5604.0, 5298.0, 3203.0, 92.0, 5468.0, 5419.0, 5660.0, 5425.0, 5546.0, 5402.0, 5388.0, 5226.0, 2701.0, 5411.0, 5238.0, 526.0, 5470.0, 5790.0, 632.0]\n",
      "6\n"
     ]
    },
    {
     "name": "stderr",
     "output_type": "stream",
     "text": [
      "\u001b[36m\u001b[1m[ \u001b[22m\u001b[39m\u001b[36m\u001b[1mInfo: \u001b[22m\u001b[39m2023-10-02T13:50:37.653\titeration: 155\tcurrent optimum: 15.0\n",
      "\u001b[32mProgress: 100%|█████████████████████████████████████████| Time: 0:00:45\u001b[39m\n"
     ]
    },
    {
     "name": "stdout",
     "output_type": "stream",
     "text": [
      "[2, 4, 6, 8, 9, 10, 11, 13, 17, 19]\n",
      "[5766.0, 7472.0, 7501.0, 7484.0, 240.0, 7619.0, 725.0, 7552.0, 7254.0, 7296.0, 7449.0, 441.0, 7458.0, 3843.0, 6644.0, 1303.0, 7626.0, 4474.0, 7136.0, 156.0]\n",
      "1\n"
     ]
    },
    {
     "name": "stderr",
     "output_type": "stream",
     "text": [
      "\u001b[36m\u001b[1m[ \u001b[22m\u001b[39m\u001b[36m\u001b[1mInfo: \u001b[22m\u001b[39m2023-10-02T13:51:23.719\titeration: 156\tcurrent optimum: 15.0\n",
      "\u001b[32mProgress: 100%|█████████████████████████████████████████| Time: 0:00:34\u001b[39m\n"
     ]
    },
    {
     "name": "stdout",
     "output_type": "stream",
     "text": [
      "[1, 3, 5, 6, 8, 14, 16]\n",
      "[19001.0, 5946.0, 19043.0, 12522.0, 19949.0, 20490.0, 135.0, 20147.0, 1232.0, 5364.0, 12725.0, 3165.0, 10113.0, 19679.0, 1497.0, 19483.0, 12889.0, 9051.0, 3937.0, 609.0]\n",
      "7\n"
     ]
    },
    {
     "name": "stderr",
     "output_type": "stream",
     "text": [
      "\u001b[36m\u001b[1m[ \u001b[22m\u001b[39m\u001b[36m\u001b[1mInfo: \u001b[22m\u001b[39m2023-10-02T13:51:57.898\titeration: 157\tcurrent optimum: 15.0\n",
      "\u001b[32mProgress: 100%|█████████████████████████████████████████| Time: 0:01:00\u001b[39m\n"
     ]
    },
    {
     "name": "stdout",
     "output_type": "stream",
     "text": [
      "[1, 2, 3, 4, 5, 6, 7, 8, 10, 11, 12, 14, 15, 17, 19, 20]\n",
      "[5305.0, 6131.0, 5195.0, 5388.0, 6404.0, 5431.0, 5468.0, 5907.0, 1589.0, 5384.0, 5449.0, 5598.0, 4522.0, 5639.0, 5156.0, 4353.0, 5937.0, 632.0, 5186.0, 5417.0]\n",
      "10\n"
     ]
    },
    {
     "name": "stderr",
     "output_type": "stream",
     "text": [
      "\u001b[36m\u001b[1m[ \u001b[22m\u001b[39m\u001b[36m\u001b[1mInfo: \u001b[22m\u001b[39m2023-10-02T13:52:58.811\titeration: 158\tcurrent optimum: 15.0\n",
      "\u001b[32mProgress: 100%|█████████████████████████████████████████| Time: 0:00:48\u001b[39m\n"
     ]
    },
    {
     "name": "stdout",
     "output_type": "stream",
     "text": [
      "[4, 5, 6, 9, 11"
     ]
    },
    {
     "name": "stderr",
     "output_type": "stream",
     "text": [
      "\u001b[36m\u001b[1m[ \u001b[22m\u001b[39m\u001b[36m\u001b[1mInfo: \u001b[22m\u001b[39m2023-10-02T13:53:47.818\titeration: 159\tcurrent optimum: 15.0\n"
     ]
    },
    {
     "name": "stdout",
     "output_type": "stream",
     "text": [
      ", 12, 15, 17, 19]\n",
      "[4009.0, 750.0, 6458.0, 10494.0, 10527.0, 11504.0, 661.0, 7817.0, 11322.0, 2326.0, 10995.0, 10805.0, 4381.0, 2600.0, 11172.0, 8797.0, 10462.0, 853.0, 10850.0, 5423.0]\n",
      "5\n"
     ]
    },
    {
     "name": "stderr",
     "output_type": "stream",
     "text": [
      "\u001b[32mProgress: 100%|█████████████████████████████████████████| Time: 0:00:20\u001b[39m\n"
     ]
    },
    {
     "name": "stdout",
     "output_type": "stream",
     "text": [
      "Int64[]\n",
      "[4553.0, 8059.0, 4160.0, 8069.0, 2986.0, 3791.0, 3310.0, 7292.0, 3645.0, 15432.0, 3112.0, 6655.0, 498.0, 9091.0, 9118.0, 10611.0, 7246.0, 6362.0, 2350.0, 3982.0]\n",
      "0\n"
     ]
    },
    {
     "name": "stderr",
     "output_type": "stream",
     "text": [
      "\u001b[36m\u001b[1m[ \u001b[22m\u001b[39m\u001b[36m\u001b[1mInfo: \u001b[22m\u001b[39m2023-10-02T13:54:08.768\titeration: 160\tcurrent optimum: 15.0\n",
      "\u001b[32mProgress: 100%|█████████████████████████████████████████| Time: 0:01:04\u001b[39m\n"
     ]
    },
    {
     "name": "stdout",
     "output_type": "stream",
     "text": [
      "[1, 2, 3, 4, 5, 6, 9, 11, 12, 13, 14, 16, 17, 19, 20]\n",
      "[4811.0, 4561.0, 4790.0, 4744.0, 4884.0, 4811.0, 2198.0, 2188.0, 4698.0, 3862.0, 4464.0, 4534.0, 4735.0, 4456.0, 290.0, 4464.0, 4493.0, 3862.0, 4547.0, 4763.0]\n",
      "6\n"
     ]
    },
    {
     "name": "stderr",
     "output_type": "stream",
     "text": [
      "\u001b[36m\u001b[1m[ \u001b[22m\u001b[39m\u001b[36m\u001b[1mInfo: \u001b[22m\u001b[39m2023-10-02T13:55:13.768\titeration: 161\tcurrent optimum: 15.0\n",
      "\u001b[32mProgress: 100%|█████████████████████████████████████████| Time: 0:00:55\u001b[39m\n"
     ]
    },
    {
     "name": "stdout",
     "output_type": "stream",
     "text": [
      "[1, 2, 4, 6, 7, 8, 9, 12, 13, 14, 15, 17, 18]\n",
      "[3983.0, 3848.0, 2876.0, 3622.0, 3675.0, 3637.0, 3745.0, 3709.0, 3824.0, 3100.0, 3121.0, 3780.0, 3861.0, 3743.0, 3923.0, 2795.0, 3850.0, 3569.0, 321.0, 3301.0]\n",
      "3"
     ]
    },
    {
     "name": "stderr",
     "output_type": "stream",
     "text": [
      "\u001b[36m\u001b[1m[ \u001b[22m\u001b[39m\u001b[36m\u001b[1mInfo: \u001b[22m\u001b[39m2023-10-02T13:56:09.442\titeration: 162\tcurrent optimum: 15.0\n"
     ]
    },
    {
     "name": "stdout",
     "output_type": "stream",
     "text": [
      "\n"
     ]
    },
    {
     "name": "stderr",
     "output_type": "stream",
     "text": [
      "\u001b[32mProgress: 100%|█████████████████████████████████████████| Time: 0:00:57\u001b[39m\n"
     ]
    },
    {
     "name": "stdout",
     "output_type": "stream",
     "text": [
      "[1, 2, 3, 4, 5, 6, 7, 9, 11, 12, 13, 14, 15, 16, 18, 20]\n",
      "[7899.0, 7417.0, 7236.0, 7358.0, 7284.0, 7393.0, 7156.0, 1349.0, 7543.0, 5007.0, 7397.0, 7652.0, 7659.0, 7423.0, 7089.0, 7444.0, 4247.0, 7185.0, 1646.0, 7612.0]\n",
      "10\n"
     ]
    },
    {
     "name": "stderr",
     "output_type": "stream",
     "text": [
      "\u001b[36m\u001b[1m[ \u001b[22m\u001b[39m\u001b[36m\u001b[1mInfo: \u001b[22m\u001b[39m2023-10-02T13:57:07.423\titeration: 163\tcurrent optimum: 15.0\n",
      "\u001b[32mProgress: 100%|█████████████████████████████████████████| Time: 0:00:52\u001b[39m\n"
     ]
    },
    {
     "name": "stdout",
     "output_type": "stream",
     "text": [
      "[4, 5, 6, 7, 13, 15, 18]\n",
      "[404.0, 7340.0, 6180.0, 10640.0, 11045.0, 10982.0, 10880.0, 3337.0, 11044.0, 7837.0, 4767.0, 4121.0, 10566.0, 6155.0, 10889.0, 2644.0, 10418.0, 10767.0, 9433.0, 4770.0]\n",
      "1\n"
     ]
    },
    {
     "name": "stderr",
     "output_type": "stream",
     "text": [
      "\u001b[36m\u001b[1m[ \u001b[22m\u001b[39m\u001b[36m\u001b[1mInfo: \u001b[22m\u001b[39m2023-10-02T13:58:00.553\titeration: 164\tcurrent optimum: 15.0\n",
      "\u001b[32mProgress: 100%|█████████████████████████████████████████| Time: 0:00:59\u001b[39m\n"
     ]
    },
    {
     "name": "stdout",
     "output_type": "stream",
     "text": [
      "[1, 3, 4, 5, 6, 8, 9, 11, 14, 15, 19, 20]\n",
      "[4238.0, 1285.0, 4007.0, 4278.0, 3966.0, 4112.0, 2970.0, 4244.0, 4266.0, 1018.0, 4235.0, 2926.0, 3314.0, 4377.0, 4088.0, 2694.0, 3061.0, 3969.0, 4265.0, 4262.0]\n",
      "2"
     ]
    },
    {
     "name": "stderr",
     "output_type": "stream",
     "text": [
      "\u001b[36m\u001b[1m[ \u001b[22m\u001b[39m\u001b[36m\u001b[1mInfo: \u001b[22m\u001b[39m2023-10-02T13:59:00.265\titeration: 165\tcurrent optimum: 15.0\n"
     ]
    },
    {
     "name": "stdout",
     "output_type": "stream",
     "text": [
      "\n"
     ]
    },
    {
     "name": "stderr",
     "output_type": "stream",
     "text": [
      "\u001b[32mProgress: 100%|█████████████████████████████████████████| Time: 0:00:45\u001b[39m\n"
     ]
    },
    {
     "name": "stdout",
     "output_type": "stream",
     "text": [
      "[1, 4, 5, 6, 8, 9, 11, 13, 14, 15]\n",
      "[8217.0, 2653.0, 853.0, 7936.0, 8099.0, 8343.0, 4558.0, 8179.0, 8293.0, 3128.0, 8318.0, 3428.0, 8141.0, 8052.0, 8108.0, 7674.0, 3348.0, 1238.0, 7315.0, 3779.0]\n"
     ]
    },
    {
     "name": "stderr",
     "output_type": "stream",
     "text": [
      "\u001b[36m\u001b[1m[ \u001b[22m\u001b[39m\u001b[36m\u001b[1mInfo: \u001b[22m\u001b[39m2023-10-02T13:59:45.890\titeration: 166\tcurrent optimum: 15.0\n"
     ]
    },
    {
     "name": "stdout",
     "output_type": "stream",
     "text": [
      "2\n"
     ]
    },
    {
     "name": "stderr",
     "output_type": "stream",
     "text": [
      "\u001b[32mProgress: 100%|█████████████████████████████████████████| Time: 0:00:39\u001b[39m\n"
     ]
    },
    {
     "name": "stdout",
     "output_type": "stream",
     "text": [
      "[1, 5, 11, 16]\n",
      "[3960.0, 3780.0, 510.0, 1332.0, 4083.0, 1988.0, 3557.0, 2680.0, 3375.0, 3168.0, 3848.0, 158.0, 3431.0, 2697.0, 1826.0, 3816.0, 2156.0, 1800.0, 2918.0, 1897.0]\n",
      "0\n"
     ]
    },
    {
     "name": "stderr",
     "output_type": "stream",
     "text": [
      "\u001b[36m\u001b[1m[ \u001b[22m\u001b[39m\u001b[36m\u001b[1mInfo: \u001b[22m\u001b[39m2023-10-02T14:00:25.103\titeration: 167\tcurrent optimum: 15.0\n",
      "\u001b[32mProgress: 100%|█████████████████████████████████████████| Time: 0:01:04\u001b[39m"
     ]
    },
    {
     "name": "stdout",
     "output_type": "stream",
     "text": [
      "[1, 2, 3, 4, 6, 7, 8, 9, 10, 12, 13, 14, 15, 16, 17"
     ]
    },
    {
     "name": "stderr",
     "output_type": "stream",
     "text": [
      "\n"
     ]
    },
    {
     "name": "stdout",
     "output_type": "stream",
     "text": [
      ", 18, 20]\n",
      "[2870.0, 2979.0, 2725.0, 2782.0, 2124.0, 2684.0, 2730.0, 2943.0, 2801.0, 2667.0, 2247.0, 2668.0, 2790.0, 2699.0, 2580.0, 2725.0, 2926.0, 2755.0, 2248.0, 2771.0]\n",
      "6"
     ]
    },
    {
     "name": "stderr",
     "output_type": "stream",
     "text": [
      "\u001b[36m\u001b[1m[ \u001b[22m\u001b[39m\u001b[36m\u001b[1mInfo: \u001b[22m\u001b[39m2023-10-02T14:01:30.133\titeration: 168\tcurrent optimum: 15.0\n"
     ]
    },
    {
     "name": "stdout",
     "output_type": "stream",
     "text": [
      "\n"
     ]
    },
    {
     "name": "stderr",
     "output_type": "stream",
     "text": [
      "\u001b[32mProgress: 100%|█████████████████████████████████████████| Time: 0:00:49\u001b[39m\n"
     ]
    },
    {
     "name": "stdout",
     "output_type": "stream",
     "text": [
      "[1, 3, 5, 9, 11, 12, 13]\n",
      "[7752.0, 1167.0, 7240.0, 3814.0, 8660.0, 991.0, 265.0, 593.0, 8494.0, 4908.0, 7692.0, 8517.0, 7139.0, 6028.0, 3981.0, 8837.0, 3127.0, 7541.0, 1298.0, 6792.0]\n",
      "2\n"
     ]
    },
    {
     "name": "stderr",
     "output_type": "stream",
     "text": [
      "\u001b[36m\u001b[1m[ \u001b[22m\u001b[39m\u001b[36m\u001b[1mInfo: \u001b[22m\u001b[39m2023-10-02T14:02:19.324\titeration: 169\tcurrent optimum: 15.0\n",
      "\u001b[32mProgress: 100%|█████████████████████████████████████████| Time: 0:00:49\u001b[39m\n"
     ]
    },
    {
     "name": "stdout",
     "output_type": "stream",
     "text": [
      "[2, 4, 5, 6, 7, 10, 12, 13, 14, 15, 16, 18, 19]\n",
      "[5578.0, 6803.0, 6627.0, 6546.0, 6488.0, 6515.0, 6960.0, 429.0, 5665.0, 6925.0, 2792.0, 6814.0, 6731.0, 6776.0, 6900.0, 6679.0, 616.0, 7154.0, 6652.0, 3311.0]\n",
      "9\n"
     ]
    },
    {
     "name": "stderr",
     "output_type": "stream",
     "text": [
      "\u001b[36m\u001b[1m[ \u001b[22m\u001b[39m\u001b[36m\u001b[1mInfo: \u001b[22m\u001b[39m2023-10-02T14:03:08.522\titeration: 170\tcurrent optimum: 15.0\n",
      "\u001b[32mProgress: 100%|█████████████████████████████████████████| Time: 0:00:40\u001b[39m\n",
      "\u001b[36m\u001b[1m[ \u001b[22m\u001b[39m\u001b[36m\u001b[1mInfo: \u001b[22m\u001b[39m2023-10-02T14:03:48.824\titeration: 171\tcurrent optimum: 15.0\n"
     ]
    },
    {
     "name": "stdout",
     "output_type": "stream",
     "text": [
      "[2, 5, 20]\n",
      "[5786.0, 10461.0, 2931.0, 4776.0, 10006.0, 6128.0, 4406.0, 2020.0, 440.0, 5660.0, 7138.0, 6386.0, 3732.0, 5857.0, 5463.0, 6539.0, 1473.0, 9999.0, 5381.0, 9257.0]\n",
      "1\n"
     ]
    },
    {
     "name": "stderr",
     "output_type": "stream",
     "text": [
      "\u001b[32mProgress: 100%|█████████████████████████████████████████| Time: 0:00:42\u001b[39m\n",
      "\u001b[36m\u001b[1m[ \u001b[22m\u001b[39m\u001b[36m\u001b[1mInfo: \u001b[22m\u001b[39m2023-10-02T14:04:31.659\titeration: 172\tcurrent optimum: 15.0\n"
     ]
    },
    {
     "name": "stdout",
     "output_type": "stream",
     "text": [
      "[2, 3, 5, 7, 8, 10, 13]\n",
      "[3693.0, 10747.0, 10358.0, 7785.0, 10562.0, 3557.0, 10710.0, 10511.0, 5812.0, 10542.0, 1659.0, 8254.0, 10565.0, 5358.0, 5327.0, 6884.0, 2767.0, 828.0, 5298.0, 985.0]\n",
      "4\n"
     ]
    },
    {
     "name": "stderr",
     "output_type": "stream",
     "text": [
      "\u001b[32mProgress:  95%|███████████████████████████████████████  |  ETA: 0:00:03\u001b[39m\r"
     ]
    },
    {
     "name": "stdout",
     "output_type": "stream",
     "text": [
      "[1, 2, 3, 4, 5, 6, 7, 9, 10, 11, 12, 14, 16, 19]\n",
      "[4055.0, 4099.0, 4004.0, 3983.0, 4188.0, 4024.0, 4276.0, 3210.0, 3952.0, 4199.0, 4252.0, 4351.0, 388.0, 4259.0, 3018.0, 4507.0, 2219.0, 3896.0, 4079.0, 3749.0]\n",
      "3\n"
     ]
    },
    {
     "name": "stderr",
     "output_type": "stream",
     "text": [
      "\u001b[32mProgress: 100%|█████████████████████████████████████████| Time: 0:01:03\u001b[39m\n",
      "\u001b[36m\u001b[1m[ \u001b[22m\u001b[39m\u001b[36m\u001b[1mInfo: \u001b[22m\u001b[39m2023-10-02T14:05:35.582\titeration: 173\tcurrent optimum: 15.0\n",
      "\u001b[32mProgress: 100%|█████████████████████████████████████████| Time: 0:00:51\u001b[39m\n"
     ]
    },
    {
     "name": "stdout",
     "output_type": "stream",
     "text": [
      "[3, 6, 7, 9, 11, 17, 18, 20]\n",
      "[3774.0, 7266.0, 9542.0, 5028.0, 8950.0, 9484.0, 9622.0, 7386.0, 9874.0, 2286.0, 9866.0, 5877.0, 7107.0, 9631.0, 4430.0, 5512.0, 10101.0, 9360.0, 1839.0, 10015.0]\n",
      "5\n"
     ]
    },
    {
     "name": "stderr",
     "output_type": "stream",
     "text": [
      "\u001b[36m\u001b[1m[ \u001b[22m\u001b[39m\u001b[36m\u001b[1mInfo: \u001b[22m\u001b[39m2023-10-02T14:06:27.160\titeration: 174\tcurrent optimum: 15.0\n",
      "\u001b[32mProgress: 100%|█████████████████████████████████████████| Time: 0:00:45\u001b[39m\n"
     ]
    },
    {
     "name": "stdout",
     "output_type": "stream",
     "text": [
      "[2, 4, 7, 14, 15, 16, 20]\n",
      "[3301.0, 11568.0, 4802.0, 12293.0, 1716.0, 5759.0, 13376.0, 5892.0, 13144.0, 5060.0, 11151.0, 3333.0, 3396.0, 12256.0, 13438.0, 12891.0, 4950.0, 13285.0, 7788.0, 9508.0]\n",
      "1"
     ]
    },
    {
     "name": "stderr",
     "output_type": "stream",
     "text": [
      "\u001b[36m\u001b[1m[ \u001b[22m\u001b[39m\u001b[36m\u001b[1mInfo: \u001b[22m\u001b[39m2023-10-02T14:07:12.806\titeration: 175\tcurrent optimum: 15.0\n"
     ]
    },
    {
     "name": "stdout",
     "output_type": "stream",
     "text": [
      "\n"
     ]
    },
    {
     "name": "stderr",
     "output_type": "stream",
     "text": [
      "\u001b[32mProgress:  95%|███████████████████████████████████████  |  ETA: 0:00:03\u001b[39m\r"
     ]
    },
    {
     "name": "stdout",
     "output_type": "stream",
     "text": [
      "[1, 3, 4, 5, 7, 9, 10, 11, 12, 13, 15, 16, 18, 19]\n",
      "[3998.0, 2012.0, 4306.0, 4027.0, 4343.0, 2013.0, 4107.0, 375.0, 4034.0, 4078.0, 4305.0, 4379.0, 3993.0, 59.0, 4185.0, 4191.0, 744.0, 4052.0, 4011.0, 3350.0]\n",
      "2\n"
     ]
    },
    {
     "name": "stderr",
     "output_type": "stream",
     "text": [
      "\u001b[32mProgress: 100%|█████████████████████████████████████████| Time: 0:00:57\u001b[39m\n",
      "\u001b[36m\u001b[1m[ \u001b[22m\u001b[39m\u001b[36m\u001b[1mInfo: \u001b[22m\u001b[39m2023-10-02T14:08:10.011\titeration: 176\tcurrent optimum: 15.0\n",
      "\u001b[32mProgress: 100%|█████████████████████████████████████████| Time: 0:00:42\u001b[39m\n"
     ]
    },
    {
     "name": "stdout",
     "output_type": "stream",
     "text": [
      "[3, 4, 9, 11, 15, 19]\n",
      "[3032.0, 3623.0, 9305.0, 9707.0, 764.0, 9513.0, 8906.0, 2993.0, 9328.0, 3590.0, 8940.0, 334.0, 6696.0, 7617.0, 9711.0, 4553.0, 2422.0, 7109.0, 9175.0, 3072.0]\n",
      "4"
     ]
    },
    {
     "name": "stderr",
     "output_type": "stream",
     "text": [
      "\u001b[36m\u001b[1m[ \u001b[22m\u001b[39m\u001b[36m\u001b[1mInfo: \u001b[22m\u001b[39m2023-10-02T14:08:52.926\titeration: 177\tcurrent optimum: 15.0\n"
     ]
    },
    {
     "name": "stdout",
     "output_type": "stream",
     "text": [
      "\n"
     ]
    },
    {
     "name": "stderr",
     "output_type": "stream",
     "text": [
      "\u001b[32mProgress: 100%|█████████████████████████████████████████| Time: 0:00:49\u001b[39m\n"
     ]
    },
    {
     "name": "stdout",
     "output_type": "stream",
     "text": [
      "[5, 7, 8, 10, 11, 12, 13, 14, 15, 16, 17, 18, 19]\n",
      "[2288.0, 2902.0, 1835.0, 5881.0, 10937.0, 4621.0, 11006.0, 10726.0, 7980.0, 10644.0, 11085.0, 11193.0, 10747.0, 10850.0, 10590.0, 11000.0, 10736.0, 10998.0, 10872.0, 3072.0]\n",
      "10\n"
     ]
    },
    {
     "name": "stderr",
     "output_type": "stream",
     "text": [
      "\u001b[36m\u001b[1m[ \u001b[22m\u001b[39m\u001b[36m\u001b[1mInfo: \u001b[22m\u001b[39m2023-10-02T14:09:42.744\titeration: 178\tcurrent optimum: 15.0\n",
      "\u001b[32mProgress: 100%|█████████████████████████████████████████| Time: 0:00:51\u001b[39m\n"
     ]
    },
    {
     "name": "stdout",
     "output_type": "stream",
     "text": [
      "[3, 5, 6, 7, 8, 10, 11, 16, 18]\n",
      "[4322.0, 5307.0, 12797.0, 6655.0, 12934.0, 12491.0, 12737.0, 13543.0, 10185.0, 12435.0, 12020.0, 111.0, 40.0, 9868.0, 751.0, 12765.0, 7892.0, 12221.0, 10604.0, 1826.0]\n",
      "5\n"
     ]
    },
    {
     "name": "stderr",
     "output_type": "stream",
     "text": [
      "\u001b[36m\u001b[1m[ \u001b[22m\u001b[39m\u001b[36m\u001b[1mInfo: \u001b[22m\u001b[39m2023-10-02T14:10:34.671\titeration: 179\tcurrent optimum: 15.0\n",
      "\u001b[32mProgress:  95%|███████████████████████████████████████  |  ETA: 0:00:03\u001b[39m\r"
     ]
    },
    {
     "name": "stdout",
     "output_type": "stream",
     "text": [
      "[1, 2, 3, 4, 5, 6, 7, 8, 9, 12, 14, 16, 17, 18, 19]\n",
      "[8919.0, 8705.0, 8727.0, 8762.0, 8919.0, 8235.0, 8362.0, 8752.0, 8981.0, 2948.0, 4725.0, 9246.0, 7993.0, 9191.0, 512.0, 8113.0, 9172.0, 8757.0, 8456.0, 3511.0]\n",
      "2\n"
     ]
    },
    {
     "name": "stderr",
     "output_type": "stream",
     "text": [
      "\u001b[32mProgress: 100%|█████████████████████████████████████████| Time: 0:01:02\u001b[39m\n",
      "\u001b[36m\u001b[1m[ \u001b[22m\u001b[39m\u001b[36m\u001b[1mInfo: \u001b[22m\u001b[39m2023-10-02T14:11:36.988\titeration: 180\tcurrent optimum: 15.0\n",
      "\u001b[32mProgress: 100%|█████████████████████████████████████████| Time: 0:00:40\u001b[39m"
     ]
    },
    {
     "name": "stdout",
     "output_type": "stream",
     "text": [
      "[6, 10]\n",
      "[1803.0, 29797.0, 2566.0, 9696.0, 12476.0, 32921.0, 20872.0, 30578.0, 17596.0, 32178.0, 19038.0, 4989.0, 26083.0, 12665.0, 8870.0, 25154.0, 20113.0, 19718.0, 22890.0, 6922.0]\n",
      "1"
     ]
    },
    {
     "name": "stderr",
     "output_type": "stream",
     "text": [
      "\n",
      "\u001b[36m\u001b[1m[ \u001b[22m\u001b[39m\u001b[36m\u001b[1mInfo: \u001b[22m\u001b[39m2023-10-02T14:12:17.749\titeration: 181\tcurrent optimum: 15.0\n"
     ]
    },
    {
     "name": "stdout",
     "output_type": "stream",
     "text": [
      "\n"
     ]
    },
    {
     "name": "stderr",
     "output_type": "stream",
     "text": [
      "\u001b[32mProgress: 100%|█████████████████████████████████████████| Time: 0:00:47\u001b[39m\n"
     ]
    },
    {
     "name": "stdout",
     "output_type": "stream",
     "text": [
      "[2, 3, 4, 7, 9, 16, 18, 20]\n",
      "[5840.0, 8658.0, 8877.0, 7967.0, 3845.0, 3769.0, 7990.0, 4373.0, 8792.0, 5280.0, 5242.0, 7114.0, 2462.0, 5439.0, 2379.0, 8471.0, 4956.0, 8493.0, 1423.0, 8193.0]\n",
      "1\n"
     ]
    },
    {
     "name": "stderr",
     "output_type": "stream",
     "text": [
      "\u001b[36m\u001b[1m[ \u001b[22m\u001b[39m\u001b[36m\u001b[1mInfo: \u001b[22m\u001b[39m2023-10-02T14:13:05.567\titeration: 182\tcurrent optimum: 15.0\n",
      "\u001b[32mProgress: 100%|█████████████████████████████████████████| Time: 0:00:49\u001b[39m\n"
     ]
    },
    {
     "name": "stdout",
     "output_type": "stream",
     "text": [
      "[1, 2, 3, 8, 9, 11, 12, 13, 15, 16, 17, 18, 20]\n",
      "[7718.0, 8051.0, 7773.0, 2705.0, 5172.0, 1817.0, 332.0, 7664.0, 7536.0, 6891.0, 8064.0, 7745.0, 7354.0, 2290.0, 7600.0, 8083.0, 7343.0, 7304.0, 2693.0, 7794.0]\n",
      "11\n"
     ]
    },
    {
     "name": "stderr",
     "output_type": "stream",
     "text": [
      "\u001b[36m\u001b[1m[ \u001b[22m\u001b[39m\u001b[36m\u001b[1mInfo: \u001b[22m\u001b[39m2023-10-02T14:13:55.025\titeration: 183\tcurrent optimum: 15.0\n",
      "\u001b[32mProgress: 100%|█████████████████████████████████████████| Time: 0:00:55\u001b[39m\n"
     ]
    },
    {
     "name": "stdout",
     "output_type": "stream",
     "text": [
      "[1, 2, 3, 4, 5, 7, 9, 10, 11, 12, 14, 16, 18, 19]\n",
      "[7619.0, 7535.0, 7635.0, 7479.0, 7517.0, 790.0, 7990.0, 4012.0, 7800.0, 7678.0, 7580.0, 7544.0, 6464.0, 7796.0, 6482.0, 7441.0, 2363.0, 7484.0, 7922.0, 3581.0]\n",
      "7"
     ]
    },
    {
     "name": "stderr",
     "output_type": "stream",
     "text": [
      "\u001b[36m\u001b[1m[ \u001b[22m\u001b[39m\u001b[36m\u001b[1mInfo: \u001b[22m\u001b[39m2023-10-02T14:14:50.625\titeration: 184\tcurrent optimum: 15.0\n"
     ]
    },
    {
     "name": "stdout",
     "output_type": "stream",
     "text": [
      "\n"
     ]
    },
    {
     "name": "stderr",
     "output_type": "stream",
     "text": [
      "\u001b[32mProgress: 100%|█████████████████████████████████████████| Time: 0:01:27\u001b[39m"
     ]
    },
    {
     "name": "stdout",
     "output_type": "stream",
     "text": [
      "[2, 5, 6, 7, 10, 12, 13, 15, 17, 19, 20]\n",
      "[6295.0, 6002.0, 2636.0, 4203.0, 6389.0, 6077.0, 6262.0, 1995.0, 1090.0, 6629.0, 2850.0, 6215.0, 6330.0, 5324.0, 6021.0, 1759.0, 6028.0, 1148.0, 6054.0, 6063.0]\n",
      "3\n"
     ]
    },
    {
     "name": "stderr",
     "output_type": "stream",
     "text": [
      "\n",
      "\u001b[36m\u001b[1m[ \u001b[22m\u001b[39m\u001b[36m\u001b[1mInfo: \u001b[22m\u001b[39m2023-10-02T14:16:17.856\titeration: 185\tcurrent optimum: 15.0\n",
      "\u001b[32mProgress: 100%|█████████████████████████████████████████| Time: 0:01:04\u001b[39m\n"
     ]
    },
    {
     "name": "stdout",
     "output_type": "stream",
     "text": [
      "[1, 4, 5, 10, 14, 15, 16, 20]\n",
      "[7532.0, 1851.0, 671.0, 7215.0, 7253.0, 3949.0, 77.0, 4953.0, 2274.0, 6785.0, 6472.0, 1464.0, 1435.0, 7239.0, 8419.0, 7214.0, 3300.0, 942.0, 6500.0, 7399.0]\n",
      "6"
     ]
    },
    {
     "name": "stderr",
     "output_type": "stream",
     "text": [
      "\u001b[36m\u001b[1m[ \u001b[22m\u001b[39m\u001b[36m\u001b[1mInfo: \u001b[22m\u001b[39m2023-10-02T14:17:21.993\titeration: 186\tcurrent optimum: 15.0\n"
     ]
    },
    {
     "name": "stdout",
     "output_type": "stream",
     "text": [
      "\n"
     ]
    },
    {
     "name": "stderr",
     "output_type": "stream",
     "text": [
      "\u001b[32mProgress: 100%|█████████████████████████████████████████| Time: 0:00:51\u001b[39m\n"
     ]
    },
    {
     "name": "stdout",
     "output_type": "stream",
     "text": [
      "[3, 4, 5, 6, 8, 9, 11, 15, 16, 17, 19, 20]\n",
      "[1389.0, 520.0, 5339.0, 5241.0, 5027.0, 5034.0, 1665.0, 5021.0, 5042.0, 3587.0, 4992.0, 4597.0, 4869.0, 3560.0, 5060.0, 5108.0, 4962.0, 2354.0, 5168.0, 5269.0]\n",
      "1"
     ]
    },
    {
     "name": "stderr",
     "output_type": "stream",
     "text": [
      "\u001b[36m\u001b[1m[ \u001b[22m\u001b[39m\u001b[36m\u001b[1mInfo: \u001b[22m\u001b[39m2023-10-02T14:18:14.103\titeration: 187\tcurrent optimum: 15.0\n"
     ]
    },
    {
     "name": "stdout",
     "output_type": "stream",
     "text": [
      "\n"
     ]
    },
    {
     "name": "stderr",
     "output_type": "stream",
     "text": [
      "\u001b[32mProgress: 100%|█████████████████████████████████████████| Time: 0:00:45\u001b[39m"
     ]
    },
    {
     "name": "stdout",
     "output_type": "stream",
     "text": [
      "[3, 5, 8, 10, 14, 16, 18]\n",
      "[7398.0, 3840.0, 13408.0, 1169.0, 13192.0, 3905.0, 8983.0,"
     ]
    },
    {
     "name": "stderr",
     "output_type": "stream",
     "text": [
      "\n",
      "\u001b[36m\u001b[1m[ \u001b[22m\u001b[39m\u001b[36m\u001b[1mInfo: \u001b[22m\u001b[39m2023-10-02T14:18:59.206\titeration: 188\tcurrent optimum: 15.0\n"
     ]
    },
    {
     "name": "stdout",
     "output_type": "stream",
     "text": [
      " 13208.0, 9967.0, 13856.0, 2362.0, 5601.0, 4564.0, 12826.0, 12565.0, 14071.0, 8930.0, 12949.0, 1907.0, 6803.0]\n",
      "4\n"
     ]
    },
    {
     "name": "stderr",
     "output_type": "stream",
     "text": [
      "\u001b[32mProgress: 100%|█████████████████████████████████████████| Time: 0:00:58\u001b[39m\n"
     ]
    },
    {
     "name": "stdout",
     "output_type": "stream",
     "text": [
      "[2, 4, 7, 8, 10, 11, 12, 13, 15, 17, 18, 19, 20]\n",
      "[139.0, 5628.0, 1400.0, 4952.0, 2817.0, 2649.0, 5222.0, 5259.0, 4139.0, 5621.0, 5199.0, 5584.0, 4877.0, 655.0, 4980.0, 3202.0, 5407.0, 4919.0, 5115.0, 5010.0]\n",
      "3\n"
     ]
    },
    {
     "name": "stderr",
     "output_type": "stream",
     "text": [
      "\u001b[36m\u001b[1m[ \u001b[22m\u001b[39m\u001b[36m\u001b[1mInfo: \u001b[22m\u001b[39m2023-10-02T14:19:58.130\titeration: 189\tcurrent optimum: 15.0\n",
      "\u001b[32mProgress: 100%|█████████████████████████████████████████| Time: 0:00:55\u001b[39m\n"
     ]
    },
    {
     "name": "stdout",
     "output_type": "stream",
     "text": [
      "[3, 5, 7, 8, 9, 10, 11, 14, 16, 17, 19]\n",
      "[1853.0, 3831.0, 6702.0, 6098.0, 6877.0, 1855.0, 6675.0, 6946.0, 6603.0, 7572.0, 6877.0, 3131.0, 7227.0, 6506.0, 4953.0, 6977.0, 7115.0, 4963.0, 6862.0, 2045.0]\n",
      "6"
     ]
    },
    {
     "name": "stderr",
     "output_type": "stream",
     "text": [
      "\u001b[36m\u001b[1m[ \u001b[22m\u001b[39m\u001b[36m\u001b[1mInfo: \u001b[22m\u001b[39m2023-10-02T14:20:53.877\titeration: 190\tcurrent optimum: 15.0\n"
     ]
    },
    {
     "name": "stdout",
     "output_type": "stream",
     "text": [
      "\n"
     ]
    },
    {
     "name": "stderr",
     "output_type": "stream",
     "text": [
      "\u001b[32mProgress: 100%|█████████████████████████████████████████| Time: 0:00:45\u001b[39m\n"
     ]
    },
    {
     "name": "stdout",
     "output_type": "stream",
     "text": [
      "[2, 3, 5, 6, 7, 9, 11, 14, 15, 18, 19]\n",
      "[9079.0, 11848.0, 12023.0, 2140.0, 12590.0, 11847.0, 11865.0, 2356.0, 12752.0, 898.0, 12080.0, 2896.0, 3664.0, 12038.0, 12344.0, 7181.0, 2009.0, 11853.0, 11763.0, 11561.0]\n",
      "3\n"
     ]
    },
    {
     "name": "stderr",
     "output_type": "stream",
     "text": [
      "\u001b[36m\u001b[1m[ \u001b[22m\u001b[39m\u001b[36m\u001b[1mInfo: \u001b[22m\u001b[39m2023-10-02T14:21:39.302\titeration: 191\tcurrent optimum: 15.0\n",
      "\u001b[32mProgress: 100%|█████████████████████████████████████████| Time: 0:00:52\u001b[39m\n"
     ]
    },
    {
     "name": "stdout",
     "output_type": "stream",
     "text": [
      "[4, 6, 11, 12, 13, 14, 16, 17, 20]\n",
      "[1599.0, 1894.0, 8261.0, 9705.0, 3895.0, 9278.0, 8264.0, 1145.0, 1730.0, 2185.0, 9621.0, 9592.0, 8899.0, 8947.0, 2506.0, 10279.0, 8810.0, 6936.0, 4063.0, 9927.0]\n",
      "5\n"
     ]
    },
    {
     "name": "stderr",
     "output_type": "stream",
     "text": [
      "\u001b[36m\u001b[1m[ \u001b[22m\u001b[39m\u001b[36m\u001b[1mInfo: \u001b[22m\u001b[39m2023-10-02T14:22:31.497\titeration: 192\tcurrent optimum: 15.0\n",
      "\u001b[32mProgress: 100%|█████████████████████████████████████████| Time: 0:00:50\u001b[39m\n"
     ]
    },
    {
     "name": "stdout",
     "output_type": "stream",
     "text": [
      "[3, 5, 16]\n",
      "[11851.0, 14672.0, 17951.0, 10089.0, 17138.0, 6529.0, 4066.0, 35.0, 11707.0, 2746.0, 5558.0, 1994.0, 2420.0, 4541.0, 10501.0, 16382.0, 4173.0, 4331.0, 2969.0, 7239.0]\n",
      "0\n"
     ]
    },
    {
     "name": "stderr",
     "output_type": "stream",
     "text": [
      "\u001b[36m\u001b[1m[ \u001b[22m\u001b[39m\u001b[36m\u001b[1mInfo: \u001b[22m\u001b[39m2023-10-02T14:23:21.836\titeration: 193\tcurrent optimum: 15.0\n",
      "\u001b[32mProgress: 100%|█████████████████████████████████████████| Time: 0:01:08\u001b[39m\n"
     ]
    },
    {
     "name": "stdout",
     "output_type": "stream",
     "text": [
      "[1, 2, 5, 6, 10, 14, 15, 16, 17, 18, 19]\n",
      "[16296.0, 15908.0, 1945.0, 211.0, 15825.0, 15074.0, 545.0, 6203.0, 11013.0, 14342.0, 7677.0, 13717.0, 14847.0, 16947.0, 14576.0, 16348.0, 15642.0, 15622.0, 16389.0, 539.0]\n",
      "3\n"
     ]
    },
    {
     "name": "stderr",
     "output_type": "stream",
     "text": [
      "\u001b[36m\u001b[1m[ \u001b[22m\u001b[39m\u001b[36m\u001b[1mInfo: \u001b[22m\u001b[39m2023-10-02T14:24:30.717\titeration: 194\tcurrent optimum: 15.0\n",
      "\u001b[32mProgress: 100%|█████████████████████████████████████████| Time: 0:00:56\u001b[39m\n"
     ]
    },
    {
     "name": "stdout",
     "output_type": "stream",
     "text": [
      "[2, 4, 6, 7, 8, 9, 10, 11, 12, 13, 18]\n",
      "[288.0, 5446.0, 1812.0, 5475.0, 5609.0, 5515.0, 5672.0, 5902.0, 5605.0, 5490.0, 5433.0, 5524.0, 5621.0, 1056.0, 4274.0, 5467.0, 2003.0, 5628.0, 1294.0, 1448.0]\n",
      "11"
     ]
    },
    {
     "name": "stderr",
     "output_type": "stream",
     "text": [
      "\u001b[36m\u001b[1m[ \u001b[22m\u001b[39m\u001b[36m\u001b[1mInfo: \u001b[22m\u001b[39m2023-10-02T14:25:27.135\titeration: 195\tcurrent optimum: 15.0\n"
     ]
    },
    {
     "name": "stdout",
     "output_type": "stream",
     "text": [
      "\n"
     ]
    },
    {
     "name": "stderr",
     "output_type": "stream",
     "text": [
      "\u001b[32mProgress: 100%|█████████████████████████████████████████| Time: 0:00:46\u001b[39m\n"
     ]
    },
    {
     "name": "stdout",
     "output_type": "stream",
     "text": [
      "[1, 6, 7, 10, 11, 12, 13, 15, 18, 20]\n",
      "[8259.0, 2983.0, 974.0, 1692.0, 1545.0, 7349.0, 7456.0, 6390.0, 703.0, 7615.0, 7964.0, 7438.0, 7471.0, 3321.0, 7721.0, 334.0, 511.0, 7306.0, 2685.0, 8307.0]\n",
      "5\n"
     ]
    },
    {
     "name": "stderr",
     "output_type": "stream",
     "text": [
      "\u001b[36m\u001b[1m[ \u001b[22m\u001b[39m\u001b[36m\u001b[1mInfo: \u001b[22m\u001b[39m2023-10-02T14:26:14.050\titeration: 196\tcurrent optimum: 15.0\n",
      "\u001b[32mProgress: 100%|█████████████████████████████████████████| Time: 0:01:13\u001b[39m\n"
     ]
    },
    {
     "name": "stdout",
     "output_type": "stream",
     "text": [
      "[3, 5, 6, 7, 8, 9, 11, 12, 13, 14, 15, 16, 17, 19, 20]\n",
      "[1097.0, 3184.0, 7608.0, 3262.0, 7729.0, 7658.0, 7898.0, 8019.0, 7782.0, 3785.0, 7812.0, 8179.0, 8290.0, 7807.0, 7783.0, 8039.0, 7745.0, 1935.0, 7686.0, 8091.0]\n",
      "7\n"
     ]
    },
    {
     "name": "stderr",
     "output_type": "stream",
     "text": [
      "\u001b[36m\u001b[1m[ \u001b[22m\u001b[39m\u001b[36m\u001b[1mInfo: \u001b[22m\u001b[39m2023-10-02T14:27:27.507\titeration: 197\tcurrent optimum: 15.0\n",
      "\u001b[32mProgress: 100%|█████████████████████████████████████████| Time: 0:00:53\u001b[39m\n"
     ]
    },
    {
     "name": "stdout",
     "output_type": "stream",
     "text": [
      "[2, 4, 5, 18, 20]\n",
      "[18713.0, 26443.0, 17809.0, 26417.0, 25712.0, 19025.0, 2661.0, 16321.0, 4623.0, 3834.0, 9614.0, 1757.0, 8342.0, 12430.0, 11034.0, 9963.0, 1054.0, 26711.0, 3618.0, 25756.0]\n",
      "5\n"
     ]
    },
    {
     "name": "stderr",
     "output_type": "stream",
     "text": [
      "\u001b[36m\u001b[1m[ \u001b[22m\u001b[39m\u001b[36m\u001b[1mInfo: \u001b[22m\u001b[39m2023-10-02T14:28:21.104\titeration: 198\tcurrent optimum: 15.0\n",
      "\u001b[32mProgress: 100%|█████████████████████████████████████████| Time: 0:00:57\u001b[39m\n"
     ]
    },
    {
     "name": "stdout",
     "output_type": "stream",
     "text": [
      "[5, 6, 7, 8, 10, 11, 13, 15, 16, 17, 19, 20]\n",
      "[6208.0, 3311.0, 8621.0, 7970.0, 9694.0, 9313.0, 9895.0, 9842.0, 2793.0, 9004.0, 9645.0, 1318.0, 9809.0, 4704.0, 9874.0, 10022.0, 9424.0, 8381.0, 9739.0, 9799.0]\n"
     ]
    },
    {
     "name": "stderr",
     "output_type": "stream",
     "text": [
      "\u001b[36m\u001b[1m[ \u001b[22m\u001b[39m\u001b[36m\u001b[1mInfo: \u001b[22m\u001b[39m2023-10-02T14:29:18.812\titeration: 199\tcurrent optimum: 15.0\n"
     ]
    },
    {
     "name": "stdout",
     "output_type": "stream",
     "text": [
      "10\n"
     ]
    },
    {
     "name": "stderr",
     "output_type": "stream",
     "text": [
      "\u001b[32mProgress: 100%|█████████████████████████████████████████| Time: 0:00:53\u001b[39m\n"
     ]
    },
    {
     "name": "stdout",
     "output_type": "stream",
     "text": [
      "[5, 8, 9, 11, 15, 17, 18]\n",
      "[1324.0, 7412.0, 1500.0, 4842.0, 8893.0, 6708.0, 1187.0, 8594.0, 9431.0, 1399.0, 8785.0, 3480.0, 5510.0, 5024.0, 8837.0, 4924.0, 9073.0, 9271.0, 8591.0, 2839.0]\n",
      "2"
     ]
    },
    {
     "name": "stderr",
     "output_type": "stream",
     "text": [
      "\u001b[36m\u001b[1m[ \u001b[22m\u001b[39m\u001b[36m\u001b[1mInfo: \u001b[22m\u001b[39m2023-10-02T14:30:12.891\titeration: 200\tcurrent optimum: 15.0\n"
     ]
    },
    {
     "name": "stdout",
     "output_type": "stream",
     "text": [
      "\n"
     ]
    },
    {
     "name": "stderr",
     "output_type": "stream",
     "text": [
      "\u001b[32mProgress: 100%|█████████████████████████████████████████| Time: 0:01:23\u001b[39m\n"
     ]
    },
    {
     "name": "stdout",
     "output_type": "stream",
     "text": [
      "[2, 4, 5, 6, 8, 9, 10, 11, 13, 14, 16, 18, 19, 20]\n",
      "[6515.0, 8692.0, 1970.0, 8481.0, 9251.0, 9050.0, 3308.0, 8737.0, 9126.0, 8970.0, 8688.0, 8454.0, 8540.0, 8710.0, 1672.0, 8736.0, 1628.0, 9125.0, 8174.0, 9011.0]\n",
      "7"
     ]
    },
    {
     "name": "stderr",
     "output_type": "stream",
     "text": [
      "\u001b[36m\u001b[1m[ \u001b[22m\u001b[39m\u001b[36m\u001b[1mInfo: \u001b[22m\u001b[39m2023-10-02T14:31:36.623\titeration: 201\tcurrent optimum: 15.0\n"
     ]
    },
    {
     "name": "stdout",
     "output_type": "stream",
     "text": [
      "\n"
     ]
    },
    {
     "name": "stderr",
     "output_type": "stream",
     "text": [
      "\u001b[32mProgress: 100%|█████████████████████████████████████████| Time: 0:00:44\u001b[39m\n"
     ]
    },
    {
     "name": "stdout",
     "output_type": "stream",
     "text": [
      "[5, 8, 12, 15, 19]\n",
      "[1445.0, 5228.0, 3284.0, 9470.0, 20626.0, 9025.0, 9223.0, 20222.0, 3920.0, 7026.0, 18340.0, 18141.0, 526.0, 7978.0, 19936.0, 12650.0, 1249.0, 5529.0, 17714.0, 6784.0]\n",
      "2\n"
     ]
    },
    {
     "name": "stderr",
     "output_type": "stream",
     "text": [
      "\u001b[36m\u001b[1m[ \u001b[22m\u001b[39m\u001b[36m\u001b[1mInfo: \u001b[22m\u001b[39m2023-10-02T14:32:21.697\titeration: 202\tcurrent optimum: 15.0\n",
      "\u001b[32mProgress:  95%|███████████████████████████████████████  |  ETA: 0:00:03\u001b[39m"
     ]
    },
    {
     "name": "stdout",
     "output_type": "stream",
     "text": [
      "[2, 5, 6, 8, 9, 10, 12, 14, 15, 18, 19, 20]\n",
      "[717.0, 6167.0, 3834.0, 5283.0, 6101.0, 6345.0, 3028.0, 6116.0, 6038.0, 6220.0, 1703.0, 6276.0, 3889.0, 6338.0, 6257.0, 255.0, 1783.0, 6073.0, 6099.0, 6249.0]\n",
      "4\n"
     ]
    },
    {
     "name": "stderr",
     "output_type": "stream",
     "text": [
      "\u001b[32mProgress: 100%|█████████████████████████████████████████| Time: 0:00:57\u001b[39m\n",
      "\u001b[36m\u001b[1m[ \u001b[22m\u001b[39m\u001b[36m\u001b[1mInfo: \u001b[22m\u001b[39m2023-10-02T14:33:19.090\titeration: 203\tcurrent optimum: 15.0\n",
      "\u001b[32mProgress: 100%|█████████████████████████████████████████| Time: 0:01:14\u001b[39m\n"
     ]
    },
    {
     "name": "stdout",
     "output_type": "stream",
     "text": [
      "[1, 2, 3, 4, 5, 8, 9, 10, 11, 12, 14, 16, 17, 18, 19, 20]\n",
      "[5952.0, 5918.0, 5336.0, 5535.0, 6032.0, 1076.0, 2565.0, 5613.0, 5662.0, 5300.0, 5732.0, 5619.0, 4254.0, 5788.0, 149.0, 5813.0, 5655.0, 5701.0, 5683.0, 5503.0]\n",
      "7\n"
     ]
    },
    {
     "name": "stderr",
     "output_type": "stream",
     "text": [
      "\u001b[36m\u001b[1m[ \u001b[22m\u001b[39m\u001b[36m\u001b[1mInfo: \u001b[22m\u001b[39m2023-10-02T14:34:33.903\titeration: 204\tcurrent optimum: 15.0\n",
      "\u001b[32mProgress: 100%|█████████████████████████████████████████| Time: 0:00:52\u001b[39m\n"
     ]
    },
    {
     "name": "stdout",
     "output_type": "stream",
     "text": [
      "[1, 2, 3, 4, 6, 7, 8, 9, 10, 11, 12, 13, 14, 17, 18"
     ]
    },
    {
     "name": "stderr",
     "output_type": "stream",
     "text": [
      "\u001b[36m\u001b[1m[ \u001b[22m\u001b[39m\u001b[36m\u001b[1mInfo: \u001b[22m\u001b[39m2023-10-02T14:35:26.819\titeration: 205\tcurrent optimum: 15.0\n"
     ]
    },
    {
     "name": "stdout",
     "output_type": "stream",
     "text": [
      ", 19]\n",
      "[4516.0, 4988.0, 4574.0, 4617.0, 3250.0, 4675.0, 4501.0, 5021.0, 4715.0, 4758.0, 4904.0, 4538.0, 4661.0, 4736.0, 171.0, 4177.0, 4580.0, 4855.0, 4552.0, 3870.0]\n",
      "2\n"
     ]
    },
    {
     "name": "stderr",
     "output_type": "stream",
     "text": [
      "\u001b[32mProgress: 100%|█████████████████████████████████████████| Time: 0:00:54\u001b[39m\n"
     ]
    },
    {
     "name": "stdout",
     "output_type": "stream",
     "text": [
      "[3, 4, 5, 6, 7, 9, 13, 14, 15, 16, 17, 18, 20]\n",
      "[3349.0, 5486.0, 9858.0, 9395.0, 10197.0, 9225.0, 10862.0, 2907.0, 9257.0, 1389.0, 282.0, 834.0, 9215.0, 9122.0, 9400.0, 9336.0, 9719.0, 9712.0, 55.0, 10087.0]\n",
      "4\n"
     ]
    },
    {
     "name": "stderr",
     "output_type": "stream",
     "text": [
      "\u001b[36m\u001b[1m[ \u001b[22m\u001b[39m\u001b[36m\u001b[1mInfo: \u001b[22m\u001b[39m2023-10-02T14:36:21.761\titeration: 206\tcurrent optimum: 15.0\n",
      "\u001b[32mProgress:  95%|███████████████████████████████████████  |  ETA: 0:00:04\u001b[39m\r"
     ]
    },
    {
     "name": "stdout",
     "output_type": "stream",
     "text": [
      "[1, 2, 6, 8, 9, 10, 11, 13, 15, 16, 19]\n",
      "[12312.0, 11081.0, 3505.0, 1888.0, 8845.0, 11378.0, 1748.0, 10995.0, 11097.0, 11069.0, 10885.0, 10885.0, 11312.0, 10775.0, 10681.0, 11284.0, 3237.0, 5634.0, 11885.0, 4868.0]\n",
      "9"
     ]
    },
    {
     "name": "stderr",
     "output_type": "stream",
     "text": [
      "\u001b[32mProgress: 100%|█████████████████████████████████████████| Time: 0:01:10\u001b[39m\n",
      "\u001b[36m\u001b[1m[ \u001b[22m\u001b[39m\u001b[36m\u001b[1mInfo: \u001b[22m\u001b[39m2023-10-02T14:37:32.306\titeration: 207\tcurrent optimum: 15.0\n"
     ]
    },
    {
     "name": "stdout",
     "output_type": "stream",
     "text": [
      "\n"
     ]
    },
    {
     "name": "stderr",
     "output_type": "stream",
     "text": [
      "\u001b[32mProgress: 100%|█████████████████████████████████████████| Time: 0:01:15\u001b[39m"
     ]
    },
    {
     "name": "stdout",
     "output_type": "stream",
     "text": [
      "[1, 2, 4, 7, 8, 10, 11, 14, 15, 19, 20]\n",
      "[8895.0, 8158.0, 3962.0, 8318.0, 5476.0, 6004.0, 8393.0, 9323.0, 5689.0, 8546.0, 8633.0, 2362.0, 5584.0, 8484.0, 8080.0, 9299.0, 3476.0, 6684.0, 8905.0, 9301.0]\n",
      "7\n"
     ]
    },
    {
     "name": "stderr",
     "output_type": "stream",
     "text": [
      "\n",
      "\u001b[36m\u001b[1m[ \u001b[22m\u001b[39m\u001b[36m\u001b[1mInfo: \u001b[22m\u001b[39m2023-10-02T14:38:47.946\titeration: 208\tcurrent optimum: 15.0\n",
      "\u001b[32mProgress:  95%|███████████████████████████████████████  |  ETA: 0:00:02\u001b[39m\r"
     ]
    },
    {
     "name": "stdout",
     "output_type": "stream",
     "text": [
      "[1, 2, 4, 6, 8, 9, 12, 16, 17, 18]\n",
      "[15680.0, 14209.0, 7353.0, 14930.0, 8343.0, 14328.0, 3016.0, 14226.0, 14209.0, 13650.0, 6512.0, 14563.0, 1049.0, 9783.0, 5456.0, 14798.0, 14214.0, 14717.0, 102.0, 10215.0]\n",
      "9"
     ]
    },
    {
     "name": "stderr",
     "output_type": "stream",
     "text": [
      "\u001b[32mProgress: 100%|█████████████████████████████████████████| Time: 0:00:46\u001b[39m\n",
      "\u001b[36m\u001b[1m[ \u001b[22m\u001b[39m\u001b[36m\u001b[1mInfo: \u001b[22m\u001b[39m2023-10-02T14:39:34.323\titeration: 209\tcurrent optimum: 15.0\n"
     ]
    },
    {
     "name": "stdout",
     "output_type": "stream",
     "text": [
      "\n"
     ]
    },
    {
     "name": "stderr",
     "output_type": "stream",
     "text": [
      "\u001b[32mProgress: 100%|█████████████████████████████████████████| Time: 0:01:14\u001b[39m\n"
     ]
    },
    {
     "name": "stdout",
     "output_type": "stream",
     "text": [
      "[1, 3, 4, 5, 6, 7, 8, 11, 13, 14, 15, 16, 17, 19, 20]\n",
      "[7254.0, 5449.0, 6475.0, 6403.0, 6505.0, 6312.0, 6155.0, 6880.0, 3319.0, 1005.0, 6235.0, 2909.0, 6669.0, 6082.0, 6640.0, 6876.0, 6425.0, 3121.0, 6187.0, 7000.0]\n",
      "3\n"
     ]
    },
    {
     "name": "stderr",
     "output_type": "stream",
     "text": [
      "\u001b[36m\u001b[1m[ \u001b[22m\u001b[39m\u001b[36m\u001b[1mInfo: \u001b[22m\u001b[39m2023-10-02T14:40:48.746\titeration: 210\tcurrent optimum: 15.0\n",
      "\u001b[32mProgress: 100%|█████████████████████████████████████████| Time: 0:01:08\u001b[39m\n"
     ]
    },
    {
     "name": "stdout",
     "output_type": "stream",
     "text": [
      "[6, 14, 17, 19, 20]\n",
      "[393.0, 1648.0, 9611.0, 1782.0, 5199.0, 12403.0, 5971.0, 2081.0, 42.0, 5416.0, 3333.0, 1226.0, 6232.0, 12639.0, 10506.0, 4029.0, 12010.0, 9096.0, 13075.0, 12439.0]\n",
      "5"
     ]
    },
    {
     "name": "stderr",
     "output_type": "stream",
     "text": [
      "\u001b[36m\u001b[1m[ \u001b[22m\u001b[39m\u001b[36m\u001b[1mInfo: \u001b[22m\u001b[39m2023-10-02T14:41:57.248\titeration: 211\tcurrent optimum: 15.0\n"
     ]
    },
    {
     "name": "stdout",
     "output_type": "stream",
     "text": [
      "\n"
     ]
    },
    {
     "name": "stderr",
     "output_type": "stream",
     "text": [
      "\u001b[32mProgress: 100%|█████████████████████████████████████████| Time: 0:01:14\u001b[39m\n"
     ]
    },
    {
     "name": "stdout",
     "output_type": "stream",
     "text": [
      "[2, 3, 4, 7, 10, 11, 15]\n",
      "[9910.0, 14398.0, 16593.0, 14843.0, 13682.0, 12767.0, 15025.0, 15498.0, 209.0, 14175.0, 15115.0, 1423.0, 5329.0, 621.0, 14724.0, 685.0, 2569.0, 7615.0, 4495.0, 7904.0]\n",
      "2\n"
     ]
    },
    {
     "name": "stderr",
     "output_type": "stream",
     "text": [
      "\u001b[36m\u001b[1m[ \u001b[22m\u001b[39m\u001b[36m\u001b[1mInfo: \u001b[22m\u001b[39m2023-10-02T14:43:11.617\titeration: 212\tcurrent optimum: 15.0\n",
      "\u001b[32mProgress: 100%|█████████████████████████████████████████| Time: 0:01:05\u001b[39m\n"
     ]
    },
    {
     "name": "stdout",
     "output_type": "stream",
     "text": [
      "[3, 5, 7, 8, 9, 11, 12, 13, 14, 15, 18, 19]\n",
      "[8210.0, 3743.0, 9268.0, 3648.0, 8967.0, 10818.0, 12329.0, 8806.0, 9676.0, 6376.0, 11105.0, 12612.0, 10838.0, 9270.0, 9703.0, 5730.0, 7644.0, 9143.0, 9053.0, 3741.0]\n",
      "8\n"
     ]
    },
    {
     "name": "stderr",
     "output_type": "stream",
     "text": [
      "\u001b[36m\u001b[1m[ \u001b[22m\u001b[39m\u001b[36m\u001b[1mInfo: \u001b[22m\u001b[39m2023-10-02T14:44:17.618\titeration: 213\tcurrent optimum: 15.0\n",
      "\u001b[32mProgress: 100%|█████████████████████████████████████████| Time: 0:00:07\u001b[39m\n"
     ]
    },
    {
     "name": "stdout",
     "output_type": "stream",
     "text": [
      "Int64[]\n",
      "[3759.0, 3800.0, 3341.0, 2243.0, 2198.0, 2283.0, 2347.0, 2571.0, 2372.0, 666.0, 2759.0, 3554.0, 4185.0, 2982.0, 4869.0, 4391.0, 957.0, 3472.0, 3406.0, 579.0]\n",
      "0"
     ]
    },
    {
     "name": "stderr",
     "output_type": "stream",
     "text": [
      "\u001b[36m\u001b[1m[ \u001b[22m\u001b[39m\u001b[36m\u001b[1mInfo: \u001b[22m\u001b[39m2023-10-02T14:44:25.629\titeration: 214\tcurrent optimum: 15.0\n"
     ]
    },
    {
     "name": "stdout",
     "output_type": "stream",
     "text": [
      "\n"
     ]
    },
    {
     "name": "stderr",
     "output_type": "stream",
     "text": [
      "\u001b[32mProgress: 100%|█████████████████████████████████████████| Time: 0:00:56\u001b[39m"
     ]
    },
    {
     "name": "stdout",
     "output_type": "stream",
     "text": [
      "[3, 6, 9, 10, 11, 13, 14, 15, 18, 19]\n",
      "[1307.0, 1552.0, 7913.0, 3441.0, 6018.0, 8188.0, 6710.0, 8038.0, 8082.0, 8036.0, 8338.0, 2945.0, 8309.0, 8617.0, 8694.0, 852.0, 6893.0, 8110.0, 8247.0, 6580.0]\n",
      "2\n"
     ]
    },
    {
     "name": "stderr",
     "output_type": "stream",
     "text": [
      "\n",
      "\u001b[36m\u001b[1m[ \u001b[22m\u001b[39m\u001b[36m\u001b[1mInfo: \u001b[22m\u001b[39m2023-10-02T14:45:22\titeration: 215\tcurrent optimum: 15.0\n",
      "\u001b[32mProgress: 100%|█████████████████████████████████████████| Time: 0:00:38\u001b[39m\n"
     ]
    },
    {
     "name": "stdout",
     "output_type": "stream",
     "text": [
      "[2, 3, 13, 14]\n",
      "[12810.0, 19838.0, 21036.0, 15207.0, 3434.0, 3777.0, 8688.0, 3948.0, 7791.0, 11334.0, 1725.0, 220.0, 19866.0, 19899.0, 826.0, 5613.0, 6636.0, 14162.0, 1700.0, 7638.0]\n",
      "0"
     ]
    },
    {
     "name": "stderr",
     "output_type": "stream",
     "text": [
      "\u001b[36m\u001b[1m[ \u001b[22m\u001b[39m\u001b[36m\u001b[1mInfo: \u001b[22m\u001b[39m2023-10-02T14:46:00.212\titeration: 216\tcurrent optimum: 15.0\n"
     ]
    },
    {
     "name": "stdout",
     "output_type": "stream",
     "text": [
      "\n"
     ]
    },
    {
     "name": "stderr",
     "output_type": "stream",
     "text": [
      "\u001b[32mProgress: 100%|█████████████████████████████████████████| Time: 0:00:48\u001b[39m\n"
     ]
    },
    {
     "name": "stdout",
     "output_type": "stream",
     "text": [
      "[1, 3, 5, 6, 7, 9, 10, 15, 16, 17, 18, 19, 20]\n",
      "[14152.0, 126.0, 13594.0, 8596.0, 13781.0, 14080.0, 13451.0, 3402.0, 13615.0, 14104.0, 12840.0, 3031.0, 1277.0, 4849.0, 13568.0, 14195.0, 14216.0, 12775.0, 14439.0, 14035.0]\n",
      "3"
     ]
    },
    {
     "name": "stderr",
     "output_type": "stream",
     "text": [
      "\u001b[36m\u001b[1m[ \u001b[22m\u001b[39m\u001b[36m\u001b[1mInfo: \u001b[22m\u001b[39m2023-10-02T14:46:49.101\titeration: 217\tcurrent optimum: 15.0\n"
     ]
    },
    {
     "name": "stdout",
     "output_type": "stream",
     "text": [
      "\n"
     ]
    },
    {
     "name": "stderr",
     "output_type": "stream",
     "text": [
      "\u001b[32mProgress: 100%|█████████████████████████████████████████| Time: 0:00:53\u001b[39m\n"
     ]
    },
    {
     "name": "stdout",
     "output_type": "stream",
     "text": [
      "[1, 3, 7, 8, 9, 10, 12, 13, 14, 15, 16, 17, 18, 19]\n",
      "[7313.0, 1764.0, 6775.0, 5393.0, 2974.0, 6839.0, 6775.0, 6892.0, 8093.0, 7210.0, 66.0, 6954.0, 7266.0, 7290.0, 6929.0, 7121.0, 7111.0, 7464.0, 6785.0, 2236.0]\n",
      "9\n"
     ]
    },
    {
     "name": "stderr",
     "output_type": "stream",
     "text": [
      "\u001b[36m\u001b[1m[ \u001b[22m\u001b[39m\u001b[36m\u001b[1mInfo: \u001b[22m\u001b[39m2023-10-02T14:47:42.857\titeration: 218\tcurrent optimum: 15.0\n",
      "\u001b[32mProgress:  90%|█████████████████████████████████████    |  ETA: 0:00:06\u001b[39m\r"
     ]
    },
    {
     "name": "stdout",
     "output_type": "stream",
     "text": [
      "[1, 2, 4, 5, 8, 9, 10, 13, 14, 16, 17, 18, 20]\n",
      "[4642.0, 4689.0, 3012.0, 4972.0, 4869.0, 4252.0, 4039.0, 4824.0, 4976.0, 4829.0, 3578.0, 3029.0, 4686.0, 4747.0, 4138.0, 4829.0, 5080.0, 4965.0, 2490.0, 4717.0]\n",
      "0"
     ]
    },
    {
     "name": "stderr",
     "output_type": "stream",
     "text": [
      "\u001b[32mProgress: 100%|█████████████████████████████████████████| Time: 0:00:51\u001b[39m\n"
     ]
    },
    {
     "name": "stdout",
     "output_type": "stream",
     "text": [
      "\n"
     ]
    },
    {
     "name": "stderr",
     "output_type": "stream",
     "text": [
      "\u001b[36m\u001b[1m[ \u001b[22m\u001b[39m\u001b[36m\u001b[1mInfo: \u001b[22m\u001b[39m2023-10-02T14:48:34.165\titeration: 219\tcurrent optimum: 15.0\n",
      "\u001b[32mProgress: 100%|█████████████████████████████████████████| Time: 0:00:52\u001b[39m\n"
     ]
    },
    {
     "name": "stdout",
     "output_type": "stream",
     "text": [
      "[2, 3, 4, 5, 6, 7, 10, 16, 17, 20]\n",
      "[4945.0, 8200.0, 8061.0, 8260.0, 7967.0, 8640.0, 8317.0, 6116.0, 5346.0, 8112.0, 4481.0, 3421.0, 3862.0, 1368.0, 7561.0, 8289.0, 8030.0, 5953.0, 1415.0, 7939.0]\n",
      "8"
     ]
    },
    {
     "name": "stderr",
     "output_type": "stream",
     "text": [
      "\u001b[36m\u001b[1m[ \u001b[22m\u001b[39m\u001b[36m\u001b[1mInfo: \u001b[22m\u001b[39m2023-10-02T14:49:27.071\titeration: 220\tcurrent optimum: 15.0\n"
     ]
    },
    {
     "name": "stdout",
     "output_type": "stream",
     "text": [
      "\n"
     ]
    },
    {
     "name": "stderr",
     "output_type": "stream",
     "text": [
      "\u001b[32mProgress: 100%|█████████████████████████████████████████| Time: 0:00:50\u001b[39m\n"
     ]
    },
    {
     "name": "stdout",
     "output_type": "stream",
     "text": [
      "[1, 2, 5, 7, 8, 9, 10, 11, 14, 16, 17, 18, 20]\n",
      "[7458.0, 7802.0, 4711.0, 2596.0, 7457.0, 2164.0, 7737.0, 7425.0, 7507.0, 7372.0, 7348.0, 513.0, 5577.0, 7635.0, 6697.0, 7674.0, 7605.0, 7773.0, 3595.0, 7738.0]\n",
      "4\n"
     ]
    },
    {
     "name": "stderr",
     "output_type": "stream",
     "text": [
      "\u001b[36m\u001b[1m[ \u001b[22m\u001b[39m\u001b[36m\u001b[1mInfo: \u001b[22m\u001b[39m2023-10-02T14:50:18.027\titeration: 221\tcurrent optimum: 15.0\n",
      "\u001b[32mProgress: 100%|█████████████████████████████████████████| Time: 0:00:42\u001b[39m\n"
     ]
    },
    {
     "name": "stdout",
     "output_type": "stream",
     "text": [
      "[6, 7, 8, 15, 16, 18, 20]\n",
      "[5978.0, 2003.0, 1742.0, 10204.0, 1602.0, 14701.0, 15104.0, 14189.0, 11457.0, 9067.0, 383.0, 4521.0, 11257.0, 7084.0, 15682.0, 14190.0, 5488.0, 15246.0, 11798.0, 14469.0]\n",
      "5\n"
     ]
    },
    {
     "name": "stderr",
     "output_type": "stream",
     "text": [
      "\u001b[36m\u001b[1m[ \u001b[22m\u001b[39m\u001b[36m\u001b[1mInfo: \u001b[22m\u001b[39m2023-10-02T14:51:00.582\titeration: 222\tcurrent optimum: 15.0\n",
      "\u001b[32mProgress: 100%|█████████████████████████████████████████| Time: 0:01:16\u001b[39m\n"
     ]
    },
    {
     "name": "stdout",
     "output_type": "stream",
     "text": [
      "[1, 2, 3, 4, 6, 8, 10, 11, 12, 13, 14, 20]\n",
      "[3257.0, 3185.0, 2965.0, 3005.0, 2872.0, 3137.0, 1212.0, 2909.0, 1178.0, 2951.0, 2849.0, 2940.0, 3073.0, 2783.0, 1807.0, 417.0, 1041.0, 788.0, 2312.0, 3020.0]\n",
      "1\n"
     ]
    },
    {
     "name": "stderr",
     "output_type": "stream",
     "text": [
      "\u001b[36m\u001b[1m[ \u001b[22m\u001b[39m\u001b[36m\u001b[1mInfo: \u001b[22m\u001b[39m2023-10-02T14:52:17.051\titeration: 223\tcurrent optimum: 15.0\n",
      "\u001b[32mProgress: 100%|█████████████████████████████████████████| Time: 0:01:16\u001b[39m\n"
     ]
    },
    {
     "name": "stdout",
     "output_type": "stream",
     "text": [
      "[1, 2, 3, 4, 6, 7, 9, 11, 13, 14, 16, 17, 18, 19, 20]\n",
      "[6618.0, 6753.0, 6462.0, 6945.0, 917.0, 6627.0, 6878.0, 4131.0, 7391.0, 617.0, 6635.0, 3392.0, 6825.0, 6461.0, 1785.0, 6657.0, 6644.0, 6664.0, 6658.0, 7211.0]\n",
      "4\n"
     ]
    },
    {
     "name": "stderr",
     "output_type": "stream",
     "text": [
      "\u001b[36m\u001b[1m[ \u001b[22m\u001b[39m\u001b[36m\u001b[1mInfo: \u001b[22m\u001b[39m2023-10-02T14:53:34.054\titeration: 224\tcurrent optimum: 15.0\n",
      "\u001b[32mProgress: 100%|█████████████████████████████████████████| Time: 0:01:14\u001b[39m\n"
     ]
    },
    {
     "name": "stdout",
     "output_type": "stream",
     "text": [
      "[1, 2, 3, 4, 8, 9, 10, 13, 14, 15, 18]\n",
      "[3981.0, 4141.0, 4304.0, 3889.0, 3076.0, 1318.0, 1014.0, 4152.0, 3900.0, 4052.0, 1077.0, 2771.0, 4188.0, 3970.0, 4516.0, 3186.0, 1771.0, 3809.0, 2888.0, 3362.0]\n",
      "0\n"
     ]
    },
    {
     "name": "stderr",
     "output_type": "stream",
     "text": [
      "\u001b[36m\u001b[1m[ \u001b[22m\u001b[39m\u001b[36m\u001b[1mInfo: \u001b[22m\u001b[39m2023-10-02T14:54:48.467\titeration: 225\tcurrent optimum: 15.0\n",
      "\u001b[32mProgress: 100%|█████████████████████████████████████████| Time: 0:01:14\u001b[39m\n"
     ]
    },
    {
     "name": "stdout",
     "output_type": "stream",
     "text": [
      "[1, 3, 4, 5, 6, 7, 11, 12, 13, 15, 16, 17, 19]\n",
      "[6050.0, 2473.0, 5945.0, 6647.0, 6088.0, 6102.0, 5991.0, 3220.0, 2444.0, 252.0, 6149.0, 6569.0, 6137.0, 2285.0, 6660.0, 6211.0, 6741.0, 2412.0, 6449.0, 1846.0]\n",
      "4\n"
     ]
    },
    {
     "name": "stderr",
     "output_type": "stream",
     "text": [
      "\u001b[36m\u001b[1m[ \u001b[22m\u001b[39m\u001b[36m\u001b[1mInfo: \u001b[22m\u001b[39m2023-10-02T14:56:03.098\titeration: 226\tcurrent optimum: 15.0\n",
      "\u001b[32mProgress: 100%|█████████████████████████████████████████| Time: 0:00:45\u001b[39m\n"
     ]
    },
    {
     "name": "stdout",
     "output_type": "stream",
     "text": [
      "[1, 3, 6, 10, 12, 14, 15, 17, 18, 19, 20]\n",
      "[114.0, 69.0, 118.0, 117.0, 97.0, 121.0, 82.0, 64.0, 81.0, 106.0, 97.0, 127.0, 77.0, 104.0, 113.0, 83.0, 120.0, 111.0, 102.0, 122.0]\n",
      "0"
     ]
    },
    {
     "name": "stderr",
     "output_type": "stream",
     "text": [
      "\u001b[36m\u001b[1m[ \u001b[22m\u001b[39m\u001b[36m\u001b[1mInfo: \u001b[22m\u001b[39m2023-10-02T14:56:48.372\titeration: 227\tcurrent optimum: 15.0\n"
     ]
    },
    {
     "name": "stdout",
     "output_type": "stream",
     "text": [
      "\n"
     ]
    },
    {
     "name": "stderr",
     "output_type": "stream",
     "text": [
      "\u001b[32mProgress: 100%|█████████████████████████████████████████| Time: 0:00:56\u001b[39m\n"
     ]
    },
    {
     "name": "stdout",
     "output_type": "stream",
     "text": [
      "[1, 2, 3, 4, 5, 7, 8, 11, 12, 14, 15, 17, 18, 19, 20]\n",
      "[6182.0, 6568.0, 6426.0, 6462.0, 6516.0, 3234.0, 6614.0, 6441.0, 1717.0, 3315.0, 6453.0, 6504.0, 1307.0, 6251.0, 6646.0, 5899.0, 6164.0, 6055.0, 6075.0, 6499.0]\n",
      "6"
     ]
    },
    {
     "name": "stderr",
     "output_type": "stream",
     "text": [
      "\u001b[36m\u001b[1m[ \u001b[22m\u001b[39m\u001b[36m\u001b[1mInfo: \u001b[22m\u001b[39m2023-10-02T14:57:45.357\titeration: 228\tcurrent optimum: 15.0\n"
     ]
    },
    {
     "name": "stdout",
     "output_type": "stream",
     "text": [
      "\n"
     ]
    },
    {
     "name": "stderr",
     "output_type": "stream",
     "text": [
      "\u001b[32mProgress: 100%|█████████████████████████████████████████| Time: 0:00:48\u001b[39m\n"
     ]
    },
    {
     "name": "stdout",
     "output_type": "stream",
     "text": [
      "[1, 3, 5, 6, 7, 9, 11, 12, 13, 17, 20]\n",
      "[7064.0, 1264.0, 7094.0, 6621.0, 6950.0, 6846.0, 6899.0, 4083.0, 6959.0, 3490.0, 6933.0, 7086.0, 6830.0, 1121.0, 492.0, 6724.0, 7202.0, 4922.0, 5150.0, 6667.0]\n",
      "5\n"
     ]
    },
    {
     "name": "stderr",
     "output_type": "stream",
     "text": [
      "\u001b[36m\u001b[1m[ \u001b[22m\u001b[39m\u001b[36m\u001b[1mInfo: \u001b[22m\u001b[39m2023-10-02T14:58:34.096\titeration: 229\tcurrent optimum: 15.0\n",
      "\u001b[32mProgress: 100%|█████████████████████████████████████████| Time: 0:00:49\u001b[39m\n"
     ]
    },
    {
     "name": "stdout",
     "output_type": "stream",
     "text": [
      "[3, 4, 5, 7, 8, 9, 11, 13, 14, 15, 17, 18]\n",
      "[6153.0, 5588.0, 7006.0, 6914.0, 7143.0, 34.0, 6827.0, 6639.0, 6804.0, 1200.0, 6691.0, 3692.0, 6841.0, 7008.0, 7064.0, 2677.0, 6434.0, 7096.0, 6085.0, 6286.0]\n"
     ]
    },
    {
     "name": "stderr",
     "output_type": "stream",
     "text": [
      "\u001b[36m\u001b[1m[ \u001b[22m\u001b[39m\u001b[36m\u001b[1mInfo: \u001b[22m\u001b[39m2023-10-02T14:59:24.181\titeration: 230\tcurrent optimum: 15.0\n"
     ]
    },
    {
     "name": "stdout",
     "output_type": "stream",
     "text": [
      "5\n"
     ]
    },
    {
     "name": "stderr",
     "output_type": "stream",
     "text": [
      "\u001b[32mProgress: 100%|█████████████████████████████████████████| Time: 0:00:23\u001b[39m\n"
     ]
    },
    {
     "name": "stdout",
     "output_type": "stream",
     "text": [
      "Int64[]\n",
      "[2853.0, 2284.0, 3346.0, 3307.0, 4116.0, 1990.0, 1789.0, 7931.0, 3253.0, 2618.0, 8136.0, 3357.0, 4969.0, 3990.0, 3205.0, 8443.0, 4285.0, 3237.0, 3676.0, 3084.0]\n"
     ]
    },
    {
     "name": "stderr",
     "output_type": "stream",
     "text": [
      "\u001b[36m\u001b[1m[ \u001b[22m\u001b[39m\u001b[36m\u001b[1mInfo: \u001b[22m\u001b[39m2023-10-02T14:59:47.988\titeration: 231\tcurrent optimum: 15.0\n"
     ]
    },
    {
     "name": "stdout",
     "output_type": "stream",
     "text": [
      "0\n"
     ]
    },
    {
     "name": "stderr",
     "output_type": "stream",
     "text": [
      "\u001b[32mProgress: 100%|█████████████████████████████████████████| Time: 0:00:53\u001b[39m\n"
     ]
    },
    {
     "name": "stdout",
     "output_type": "stream",
     "text": [
      "[1, 2, 3, 4, 5, 7, 8, 10, 13, 15, 16, 17, 20]\n",
      "[5265.0, 6100.0, 6594.0, 5228.0, 5491.0, 3003.0, 5526.0, 6291.0, 2413.0, 5228.0, 2270.0, 815.0, 5955.0, 1092.0, 5419.0, 5372.0, 5966.0, 8648.0, 1271.0, 5355.0]\n",
      "6\n"
     ]
    },
    {
     "name": "stderr",
     "output_type": "stream",
     "text": [
      "\u001b[36m\u001b[1m[ \u001b[22m\u001b[39m\u001b[36m\u001b[1mInfo: \u001b[22m\u001b[39m2023-10-02T15:00:41.554\titeration: 232\tcurrent optimum: 15.0\n",
      "\u001b[32mProgress:  95%|███████████████████████████████████████  |  ETA: 0:00:02\u001b[39m\r"
     ]
    },
    {
     "name": "stdout",
     "output_type": "stream",
     "text": [
      "[2, 12, 15, 16, 20]\n",
      "[5672.0, 13763.0, 3959.0, 15323.0, 7202.0, 10393.0, 11670.0, 937.0, 4568.0, 3529.0, 5275.0, 16784.0, 14344.0, 9993.0, 18313.0, 16772.0, 11294.0, 16449.0, 13764.0, 17778.0]\n",
      "2\n"
     ]
    },
    {
     "name": "stderr",
     "output_type": "stream",
     "text": [
      "\u001b[32mProgress: 100%|█████████████████████████████████████████| Time: 0:00:43\u001b[39m\n",
      "\u001b[36m\u001b[1m[ \u001b[22m\u001b[39m\u001b[36m\u001b[1mInfo: \u001b[22m\u001b[39m2023-10-02T15:01:25.621\titeration: 233\tcurrent optimum: 15.0\n",
      "\u001b[32mProgress: 100%|█████████████████████████████████████████| Time: 0:00:58\u001b[39m\n"
     ]
    },
    {
     "name": "stdout",
     "output_type": "stream",
     "text": [
      "[1, 6, 7, 11, 14, 15, 17, 19]\n",
      "[5043.0, 273.0, 2333.0, 1067.0, 795.0, 4891.0, 4844.0, 2975.0, 2775.0, 3166.0, 4453.0, 1252.0, 3043.0, 4767.0, 4626.0, 4153.0, 4730.0, 2082.0, 4992.0, 4027.0]\n",
      "0"
     ]
    },
    {
     "name": "stderr",
     "output_type": "stream",
     "text": [
      "\u001b[36m\u001b[1m[ \u001b[22m\u001b[39m\u001b[36m\u001b[1mInfo: \u001b[22m\u001b[39m2023-10-02T15:02:24.303\titeration: 234\tcurrent optimum: 15.0\n"
     ]
    },
    {
     "name": "stdout",
     "output_type": "stream",
     "text": [
      "\n"
     ]
    },
    {
     "name": "stderr",
     "output_type": "stream",
     "text": [
      "\u001b[32mProgress: 100%|█████████████████████████████████████████| Time: 0:01:05\u001b[39m\n"
     ]
    },
    {
     "name": "stdout",
     "output_type": "stream",
     "text": [
      "[1, 2, 3, 4, 5, 7, 8, 10, 12, 13, 15, 16, 17, 18, 19]\n",
      "[3584.0, 3451.0, 3594.0, 3487.0, 3431.0, 3263.0, 3511.0, 3523.0, 1286.0, 3642.0, 2573.0, 3502.0, 3564.0, 2105.0, 3456.0, 3313.0, 3588.0, 3320.0, 3724.0, 586.0]\n",
      "2"
     ]
    },
    {
     "name": "stderr",
     "output_type": "stream",
     "text": [
      "\u001b[36m\u001b[1m[ \u001b[22m\u001b[39m\u001b[36m\u001b[1mInfo: \u001b[22m\u001b[39m2023-10-02T15:03:29.873\titeration: 235\tcurrent optimum: 15.0\n"
     ]
    },
    {
     "name": "stdout",
     "output_type": "stream",
     "text": [
      "\n"
     ]
    },
    {
     "name": "stderr",
     "output_type": "stream",
     "text": [
      "\u001b[32mProgress: 100%|█████████████████████████████████████████| Time: 0:01:37\u001b[39m\n"
     ]
    },
    {
     "name": "stdout",
     "output_type": "stream",
     "text": [
      "[2, 3, 4, 5, 7, 8, 9, 10, 11, 13, 14, 15, 16, 17, 18, 19, 20]\n",
      "[760.0, 1861.0, 1671.0, 1609.0, 1936.0, 1520.0, 1610.0, 1647.0, 1682.0, 1621.0, 1620.0, 742.0, 1518.0, 1672.0, 1705.0, 1651.0, 1514.0, 1973.0, 1846.0, 1781.0]\n"
     ]
    },
    {
     "name": "stderr",
     "output_type": "stream",
     "text": [
      "\u001b[36m\u001b[1m[ \u001b[22m\u001b[39m\u001b[36m\u001b[1mInfo: \u001b[22m\u001b[39m2023-10-02T15:05:07.970\titeration: 236\tcurrent optimum: 15.0\n"
     ]
    },
    {
     "name": "stdout",
     "output_type": "stream",
     "text": [
      "2\n"
     ]
    },
    {
     "name": "stderr",
     "output_type": "stream",
     "text": [
      "\u001b[32mProgress:  75%|███████████████████████████████          |  ETA: 0:00:20\u001b[39m"
     ]
    },
    {
     "ename": "LoadError",
     "evalue": "InterruptException:",
     "output_type": "error",
     "traceback": [
      "InterruptException:",
      "",
      "Stacktrace:",
      "  [1] try_yieldto(undo::typeof(Base.ensure_rescheduled))",
      "    @ Base .\\task.jl:920",
      "  [2] wait()",
      "    @ Base .\\task.jl:984",
      "  [3] wait(c::Base.GenericCondition{Base.Threads.SpinLock}; first::Bool)",
      "    @ Base .\\condition.jl:130",
      "  [4] wait(c::Base.GenericCondition{Base.Threads.SpinLock})",
      "    @ Base .\\condition.jl:125",
      "  [5] _wait(t::Task)",
      "    @ Base .\\task.jl:308",
      "  [6] threading_run(fun::var\"#71#threadsfor_fun#20\"{var\"#71#threadsfor_fun#12#21\"{MutableNamedTuple{(:states, :n_excited, :d, :Zeeman_x_mat, :Zeeman_y_mat, :Zeeman_z_mat), Tuple{Base.RefValue{Vector{State{HundsCaseB_Rot}}}, Base.RefValue{Int64}, Base.RefValue{Array{ComplexF64, 3}}, Base.RefValue{StructArray{ComplexF64, 2, NamedTuple{(:re, :im), Tuple{Matrix{Float64}, Matrix{Float64}}}, Int64}}, Base.RefValue{StructArray{ComplexF64, 2, NamedTuple{(:re, :im), Tuple{Matrix{Float64}, Matrix{Float64}}}, Int64}}, Base.RefValue{StructArray{ComplexF64, 2, NamedTuple{(:re, :im), Tuple{Matrix{Float64}, Matrix{Float64}}}, Int64}}}}, MutableNamedTuple{(:t_end, :n_values, :pol1_x, :pol2_x, :pol3_x, :pol4_x, :s1, :s2, :s3, :s4, :Δ1, :Δ2, :Δ3, :Δ4, :B_gradient, :temp, :diameter, :displacement, :kick, :ramp_time), Tuple{Base.RefValue{Float64}, Base.RefValue{Int64}, Base.RefValue{SVector{3, ComplexF64}}, Base.RefValue{SVector{3, ComplexF64}}, Base.RefValue{SVector{3, ComplexF64}}, Base.RefValue{SVector{3, ComplexF64}}, Base.RefValue{Float64}, Base.RefValue{Float64}, Base.RefValue{Float64}, Base.RefValue{Float64}, Base.RefValue{Float64}, Base.RefValue{Float64}, Base.RefValue{Float64}, Base.RefValue{Float64}, Base.RefValue{Int64}, Base.RefValue{Float64}, Base.RefValue{Float64}, Base.RefValue{Vector{Float64}}, Base.RefValue{Vector{Float64}}, Base.RefValue{Float64}}}, ContinuousCallback{typeof(condition), typeof(SE_collapse_pol_always!), Nothing, typeof(SciMLBase.INITIALIZE_DEFAULT), typeof(SciMLBase.FINALIZE_DEFAULT), Float64, Int64, Rational{Int64}, Nothing, Int64}, Vector{Float64}, Vector{Vector{Float64}}, Vector{Vector{Float64}}, Vector{Vector{Float64}}, Vector{Vector{Float64}}, Vector{Vector{Float64}}, Vector{Vector{Float64}}, Vector{Vector{Float64}}, Vector{Vector{Float64}}, Int64, Int64, Progress, Int64, Int64, UnitRange{Int64}}}, static::Bool)",
      "    @ Base.Threads .\\threadingconstructs.jl:146",
      "  [7] macro expansion",
      "    @ .\\threadingconstructs.jl:199 [inlined]",
      "  [8] simulate_particles_v2(package::MutableNamedTuple{(:states, :n_excited, :d, :Zeeman_x_mat, :Zeeman_y_mat, :Zeeman_z_mat), Tuple{Base.RefValue{Vector{State{HundsCaseB_Rot}}}, Base.RefValue{Int64}, Base.RefValue{Array{ComplexF64, 3}}, Base.RefValue{StructArray{ComplexF64, 2, NamedTuple{(:re, :im), Tuple{Matrix{Float64}, Matrix{Float64}}}, Int64}}, Base.RefValue{StructArray{ComplexF64, 2, NamedTuple{(:re, :im), Tuple{Matrix{Float64}, Matrix{Float64}}}, Int64}}, Base.RefValue{StructArray{ComplexF64, 2, NamedTuple{(:re, :im), Tuple{Matrix{Float64}, Matrix{Float64}}}, Int64}}}}, params::MutableNamedTuple{(:t_end, :n_values, :pol1_x, :pol2_x, :pol3_x, :pol4_x, :s1, :s2, :s3, :s4, :Δ1, :Δ2, :Δ3, :Δ4, :B_gradient, :temp, :diameter, :displacement, :kick, :ramp_time), Tuple{Base.RefValue{Float64}, Base.RefValue{Int64}, Base.RefValue{SVector{3, ComplexF64}}, Base.RefValue{SVector{3, ComplexF64}}, Base.RefValue{SVector{3, ComplexF64}}, Base.RefValue{SVector{3, ComplexF64}}, Base.RefValue{Float64}, Base.RefValue{Float64}, Base.RefValue{Float64}, Base.RefValue{Float64}, Base.RefValue{Float64}, Base.RefValue{Float64}, Base.RefValue{Float64}, Base.RefValue{Float64}, Base.RefValue{Int64}, Base.RefValue{Float64}, Base.RefValue{Float64}, Base.RefValue{Vector{Float64}}, Base.RefValue{Vector{Float64}}, Base.RefValue{Float64}}})",
      "    @ Main G:\\My Drive\\github\\OpticalBlochEquations\\examples\\ipynb_sources\\toy_models\\CaOH_scan\\CaOH_scan_helper_v2.jl:415",
      "  [9] f(x::Vector{Float64})",
      "    @ Main .\\In[5]:41",
      " [10] macro expansion",
      "    @ C:\\Users\\halla\\.julia\\packages\\TimerOutputs\\RsWnF\\src\\TimerOutput.jl:237 [inlined]",
      " [11] _evaluate_function(o::BOpt{typeof(f), GPE{ElasticArrays.ElasticMatrix{Float64, Vector{Float64}}, ElasticArrays.ElasticVector{Float64, Vector{Float64}}, MeanConst, SEArd{Float64}, GaussianProcesses.ElasticCovStrat, GaussianProcesses.StationaryARDData{ElasticPDMats.AllElasticArray{Float64, 3}}, ElasticPDMats.ElasticPDMat{Float64, Matrix{Float64}}, GaussianProcesses.Scalar{Float64}}, UpperConfidenceBound{BrochuBetaScaling}, NamedTuple{(:method, :restarts, :maxeval, :maxtime), Tuple{Symbol, Int64, Int64, Float64}}, MAPGPOptimizer{NamedTuple{(:domean, :kern, :noise, :lik, :meanbounds, :kernbounds, :noisebounds, :likbounds, :method, :maxeval), Tuple{Bool, Bool, Bool, Bool, Nothing, Vector{Vector{Int64}}, Vector{Int64}, Nothing, Symbol, Int64}}}, ScaledSobolIterator{Float64, 6}}, x::Vector{Float64})",
      "    @ BayesianOptimization C:\\Users\\halla\\.julia\\packages\\BayesianOptimization\\nq1HY\\src\\BayesianOptimization.jl:160",
      " [12] boptimize!(o::BOpt{typeof(f), GPE{ElasticArrays.ElasticMatrix{Float64, Vector{Float64}}, ElasticArrays.ElasticVector{Float64, Vector{Float64}}, MeanConst, SEArd{Float64}, GaussianProcesses.ElasticCovStrat, GaussianProcesses.StationaryARDData{ElasticPDMats.AllElasticArray{Float64, 3}}, ElasticPDMats.ElasticPDMat{Float64, Matrix{Float64}}, GaussianProcesses.Scalar{Float64}}, UpperConfidenceBound{BrochuBetaScaling}, NamedTuple{(:method, :restarts, :maxeval, :maxtime), Tuple{Symbol, Int64, Int64, Float64}}, MAPGPOptimizer{NamedTuple{(:domean, :kern, :noise, :lik, :meanbounds, :kernbounds, :noisebounds, :likbounds, :method, :maxeval), Tuple{Bool, Bool, Bool, Bool, Nothing, Vector{Vector{Int64}}, Vector{Int64}, Nothing, Symbol, Int64}}}, ScaledSobolIterator{Float64, 6}})",
      "    @ BayesianOptimization C:\\Users\\halla\\.julia\\packages\\BayesianOptimization\\nq1HY\\src\\BayesianOptimization.jl:146",
      " [13] top-level scope",
      "    @ In[35]:2"
     ]
    },
    {
     "name": "stderr",
     "output_type": "stream",
     "text": [
      "\u001b[32mProgress: 100%|█████████████████████████████████████████| Time: 0:01:04\u001b[39m\n"
     ]
    }
   ],
   "source": [
    "maxiterations!(opt, 800)\n",
    "result = boptimize!(opt)"
   ]
  },
  {
   "cell_type": "code",
   "execution_count": 36,
   "id": "e9a19c31-7c59-4707-ad8d-6bf79edd9149",
   "metadata": {},
   "outputs": [
    {
     "data": {
      "text/plain": [
       "6-element Vector{Float64}:\n",
       "  1.8343240593459835\n",
       "  0.1299191952663775\n",
       "  0.2498351325253968\n",
       "  1.3916557489502095\n",
       " -1.7246379679714594\n",
       "  0.5800080984363274"
      ]
     },
     "execution_count": 36,
     "metadata": {},
     "output_type": "execute_result"
    }
   ],
   "source": [
    "opt.model_optimizer"
   ]
  },
  {
   "cell_type": "code",
   "execution_count": 37,
   "id": "60445dd2-f4a3-4a67-8e2b-34e15e27ac57",
   "metadata": {},
   "outputs": [
    {
     "data": {
      "text/plain": [
       "6-element Vector{Float64}:\n",
       "  3.3321726055466714\n",
       "  0.14066782220079727\n",
       "  0.21058048002539118\n",
       "  1.325692750013504\n",
       " -2.0\n",
       "  0.8982792923210681"
      ]
     },
     "execution_count": 37,
     "metadata": {},
     "output_type": "execute_result"
    }
   ],
   "source": [
    "opt.observed_optimizer"
   ]
  },
  {
   "cell_type": "code",
   "execution_count": 42,
   "id": "82aed1d4-a92c-4887-b756-08ff991b4158",
   "metadata": {},
   "outputs": [
    {
     "data": {
      "text/plain": [
       "f (generic function with 1 method)"
      ]
     },
     "execution_count": 42,
     "metadata": {},
     "output_type": "execute_result"
    }
   ],
   "source": [
    "opt.func = f"
   ]
  },
  {
   "cell_type": "code",
   "execution_count": 43,
   "id": "372b82b1-12df-4963-a6b7-ea76cdce701b",
   "metadata": {},
   "outputs": [
    {
     "data": {
      "text/html": [
       "# 1 method for generic function <b>f</b> from \u001b[35mMain\u001b[39m:<ul><li> f(x) in Main at In[38]:16</li> </ul>"
      ],
      "text/plain": [
       "# 1 method for generic function \"f\" from \u001b[35mMain\u001b[39m:\n",
       " [1] f(\u001b[90mx\u001b[39m)\n",
       "\u001b[90m     @\u001b[39m \u001b[90m\u001b[4mIn[38]:16\u001b[24m\u001b[39m"
      ]
     },
     "execution_count": 43,
     "metadata": {},
     "output_type": "execute_result"
    }
   ],
   "source": [
    "methods(f)"
   ]
  },
  {
   "cell_type": "code",
   "execution_count": null,
   "id": "9578f19f-47bb-4108-b874-1268f7556a54",
   "metadata": {},
   "outputs": [
    {
     "name": "stderr",
     "output_type": "stream",
     "text": [
      "\u001b[36m\u001b[1m[ \u001b[22m\u001b[39m\u001b[36m\u001b[1mInfo: \u001b[22m\u001b[39m2023-10-02T15:08:13.378\titeration: 237\tcurrent optimum: 15.0\n",
      "\u001b[32mProgress: 100%|█████████████████████████████████████████| Time: 0:00:43\u001b[39m\n"
     ]
    },
    {
     "name": "stdout",
     "output_type": "stream",
     "text": [
      "[3, 6, 7, 9, 11, 12, 18]\n",
      "[3058.0, 1852.0, 19292.0, 5609.0, 3398.0, 9842.0, 15712.0, 6181.0, 12474.0, 10948.0, 11443.0, 13050.0, 1272.0, 13702.0, 11274.0, 9216.0, 3596.0, 11343.0, 3394.0, 6337.0]\n",
      "1\n"
     ]
    },
    {
     "name": "stderr",
     "output_type": "stream",
     "text": [
      "\u001b[36m\u001b[1m[ \u001b[22m\u001b[39m\u001b[36m\u001b[1mInfo: \u001b[22m\u001b[39m2023-10-02T15:08:56.907\titeration: 238\tcurrent optimum: 15.0\n",
      "\u001b[32mProgress:  85%|███████████████████████████████████      |  ETA: 0:00:09\u001b[39m\r"
     ]
    },
    {
     "name": "stdout",
     "output_type": "stream",
     "text": [
      "[1, 3, 4, 5, 6, 7, 9, 11, 13, 16, 17, 18, 19]\n",
      "[0.0, 0.0, 0.0, 0.0, 0.0, 0.0, 0.0, 0.0, 0.0, 0.0, 0.0, 0.0, 0.0, 0.0, 0.0, 0.0, 0.0, 0.0, 0.0, 0.0]\n",
      "0"
     ]
    },
    {
     "name": "stderr",
     "output_type": "stream",
     "text": [
      "\u001b[32mProgress: 100%|█████████████████████████████████████████| Time: 0:00:52\u001b[39m\n",
      "\u001b[36m\u001b[1m[ \u001b[22m\u001b[39m\u001b[36m\u001b[1mInfo: \u001b[22m\u001b[39m2023-10-02T15:09:49.382\titeration: 239\tcurrent optimum: 15.0\n"
     ]
    },
    {
     "name": "stdout",
     "output_type": "stream",
     "text": [
      "\n"
     ]
    },
    {
     "name": "stderr",
     "output_type": "stream",
     "text": [
      "\u001b[32mProgress: 100%|█████████████████████████████████████████| Time: 0:00:56\u001b[39m\n"
     ]
    },
    {
     "name": "stdout",
     "output_type": "stream",
     "text": [
      "[6, 8, 15, 19]\n",
      "[6699.0, 1918.0, 7092.0, 2703.0, 3004.0, 16638.0, 8644.0, 16661.0, 3422.0, 13103.0, 2892.0, 3939.0, 7894.0, 1596.0, 16880.0, 2325.0, 7517.0, 3166.0, 17705.0, 10773.0]\n",
      "2\n"
     ]
    },
    {
     "name": "stderr",
     "output_type": "stream",
     "text": [
      "\u001b[36m\u001b[1m[ \u001b[22m\u001b[39m\u001b[36m\u001b[1mInfo: \u001b[22m\u001b[39m2023-10-02T15:10:45.917\titeration: 240\tcurrent optimum: 15.0\n",
      "\u001b[32mProgress: 100%|█████████████████████████████████████████| Time: 0:00:48\u001b[39m\n"
     ]
    },
    {
     "name": "stdout",
     "output_type": "stream",
     "text": [
      "[3, 6, 10, 14, 18]\n",
      "[585.0, 637.0, 767.0, 678.0, 724.0, 916.0, 817.0, 742.0, 557.0, 881.0, 752.0, 562.0, 636.0, 991.0, 523.0, 571.0, 667.0, 876.0, 512.0, 380.0]\n",
      "0\n"
     ]
    },
    {
     "name": "stderr",
     "output_type": "stream",
     "text": [
      "\u001b[36m\u001b[1m[ \u001b[22m\u001b[39m\u001b[36m\u001b[1mInfo: \u001b[22m\u001b[39m2023-10-02T15:11:34.886\titeration: 241\tcurrent optimum: 15.0\n",
      "\u001b[32mProgress: 100%|█████████████████████████████████████████| Time: 0:00:38\u001b[39m\n"
     ]
    },
    {
     "name": "stdout",
     "output_type": "stream",
     "text": [
      "[1, 6, 8, 9, 12, 13, 14]\n",
      "[1041.0, 562.0, 591.0, 681.0, 884.0, 1003.0, 418.0, 959.0, 972.0, 543.0, 621.0, 909.0, 1052.0, 986.0, 682.0, 887.0, 607.0, 545.0, 777.0, 547.0]\n",
      "0"
     ]
    },
    {
     "name": "stderr",
     "output_type": "stream",
     "text": [
      "\u001b[36m\u001b[1m[ \u001b[22m\u001b[39m\u001b[36m\u001b[1mInfo: \u001b[22m\u001b[39m2023-10-02T15:12:13.882\titeration: 242\tcurrent optimum: 15.0\n"
     ]
    },
    {
     "name": "stdout",
     "output_type": "stream",
     "text": [
      "\n"
     ]
    },
    {
     "name": "stderr",
     "output_type": "stream",
     "text": [
      "\u001b[32mProgress: 100%|█████████████████████████████████████████| Time: 0:00:49\u001b[39m\n"
     ]
    },
    {
     "name": "stdout",
     "output_type": "stream",
     "text": [
      "[4, 10, 11, 13, 18]\n",
      "[444.0, 42.0, 581.0, 717.0, 420.0, 465.0, 397.0, 729.0, 402.0, 708.0, 616.0, 623.0, 795.0, 654.0, 440.0, 477.0, 375.0, 741.0, 160.0, 544.0]\n",
      "0\n"
     ]
    },
    {
     "name": "stderr",
     "output_type": "stream",
     "text": [
      "\u001b[36m\u001b[1m[ \u001b[22m\u001b[39m\u001b[36m\u001b[1mInfo: \u001b[22m\u001b[39m2023-10-02T15:13:03.099\titeration: 243\tcurrent optimum: 15.0\n",
      "\u001b[32mProgress: 100%|█████████████████████████████████████████| Time: 0:00:43\u001b[39m\n"
     ]
    },
    {
     "name": "stdout",
     "output_type": "stream",
     "text": [
      "[6, 12, 13, 16, 18, 20]\n",
      "[5038.0, 1893.0, 4687.0, 2753.0, 3023.0, 14027.0, 3004.0, 3147.0, 3544.0, 610.0, 12081.0, 13339.0, 13563.0, 11361.0, 1648.0, 14643.0, 9388.0, 14278.0, 6067.0, 13901.0]\n",
      "5"
     ]
    },
    {
     "name": "stderr",
     "output_type": "stream",
     "text": [
      "\u001b[36m\u001b[1m[ \u001b[22m\u001b[39m\u001b[36m\u001b[1mInfo: \u001b[22m\u001b[39m2023-10-02T15:13:46.975\titeration: 244\tcurrent optimum: 15.0\n"
     ]
    },
    {
     "name": "stdout",
     "output_type": "stream",
     "text": [
      "\n"
     ]
    },
    {
     "name": "stderr",
     "output_type": "stream",
     "text": [
      "\u001b[32mProgress: 100%|█████████████████████████████████████████| Time: 0:00:40\u001b[39m\n"
     ]
    },
    {
     "name": "stdout",
     "output_type": "stream",
     "text": [
      "[5, 6, 7, 9, 15]\n",
      "[645.0, 271.0, 708.0, 407.0, 968.0, 1010.0, 1002.0, 424.0, 1016.0, 547.0, 947.0, 1013.0, 863.0, 972.0, 994.0, 619.0, 535.0, 767.0, 682.0, 861.0]\n"
     ]
    },
    {
     "name": "stderr",
     "output_type": "stream",
     "text": [
      "\u001b[36m\u001b[1m[ \u001b[22m\u001b[39m\u001b[36m\u001b[1mInfo: \u001b[22m\u001b[39m2023-10-02T15:14:28.020\titeration: 245\tcurrent optimum: 15.0\n"
     ]
    },
    {
     "name": "stdout",
     "output_type": "stream",
     "text": [
      "0\n"
     ]
    },
    {
     "name": "stderr",
     "output_type": "stream",
     "text": [
      "\u001b[32mProgress: 100%|█████████████████████████████████████████| Time: 0:00:58\u001b[39m\n"
     ]
    },
    {
     "name": "stdout",
     "output_type": "stream",
     "text": [
      "[1, 2, 3, 5, 6, 7, 9, 10, 11, 13, 16, 19, 20]\n",
      "[3948.0, 4770.0, 6010.0, 218.0, 5346.0, 4674.0, 3610.0, 1068.0, 4656.0, 3628.0, 3474.0, 1566.0, 3477.0, 3649.0, 3565.0, 3982.0, 5524.0, 4777.0, 4264.0, 4039.0]\n",
      "5"
     ]
    },
    {
     "name": "stderr",
     "output_type": "stream",
     "text": [
      "\u001b[36m\u001b[1m[ \u001b[22m\u001b[39m\u001b[36m\u001b[1mInfo: \u001b[22m\u001b[39m2023-10-02T15:15:26.637\titeration: 246\tcurrent optimum: 15.0\n"
     ]
    },
    {
     "name": "stdout",
     "output_type": "stream",
     "text": [
      "\n"
     ]
    },
    {
     "name": "stderr",
     "output_type": "stream",
     "text": [
      "\u001b[32mProgress: 100%|█████████████████████████████████████████| Time: 0:00:47\u001b[39m\n"
     ]
    },
    {
     "name": "stdout",
     "output_type": "stream",
     "text": [
      "[5, 8]\n",
      "[261.0, 273.0, 595.0, 720.0, 699.0, 439.0, 672.0, 731.0, 649.0, 414.0, 660.0, 243.0, 444.0, 769.0, 608.0, 573.0, 604.0, 317.0, 501.0, 552.0]\n",
      "0\n"
     ]
    },
    {
     "name": "stderr",
     "output_type": "stream",
     "text": [
      "\u001b[36m\u001b[1m[ \u001b[22m\u001b[39m\u001b[36m\u001b[1mInfo: \u001b[22m\u001b[39m2023-10-02T15:16:14.186\titeration: 247\tcurrent optimum: 15.0\n",
      "\u001b[32mProgress: 100%|█████████████████████████████████████████| Time: 0:01:01\u001b[39m\n"
     ]
    },
    {
     "name": "stdout",
     "output_type": "stream",
     "text": [
      "[2, 4, 7, 9, 11, 12, 14, 15, 16, 17, 18, 19]\n",
      "[3556.0, 5008.0, 2278.0, 4908.0, 601.0, 2926.0, 4419.0, 804.0, 4880.0, 2451.0, 4988.0, 5133.0, 4146.0, 4955.0, 4690.0, 4805.0, 4533.0, 4646.0, 4687.0, 549.0]\n",
      "4"
     ]
    },
    {
     "name": "stderr",
     "output_type": "stream",
     "text": [
      "\u001b[36m\u001b[1m[ \u001b[22m\u001b[39m\u001b[36m\u001b[1mInfo: \u001b[22m\u001b[39m2023-10-02T15:17:15.564\titeration: 248\tcurrent optimum: 15.0\n"
     ]
    },
    {
     "name": "stdout",
     "output_type": "stream",
     "text": [
      "\n"
     ]
    },
    {
     "name": "stderr",
     "output_type": "stream",
     "text": [
      "\u001b[32mProgress: 100%|█████████████████████████████████████████| Time: 0:00:42\u001b[39m\n"
     ]
    },
    {
     "name": "stdout",
     "output_type": "stream",
     "text": [
      "[1, 10, 15, 18, 20]\n",
      "[18445.0, 8451.0, 9674.0, 3592.0, 8754.0, 11991.0, 6151.0, 16900.0, 4461.0, 17484.0, 2274.0, 963.0, 6929.0, 3680.0, 16997.0, 11147.0, 6805.0, 16466.0, 9133.0, 18945.0]\n",
      "1"
     ]
    },
    {
     "name": "stderr",
     "output_type": "stream",
     "text": [
      "\u001b[36m\u001b[1m[ \u001b[22m\u001b[39m\u001b[36m\u001b[1mInfo: \u001b[22m\u001b[39m2023-10-02T15:17:57.864\titeration: 249\tcurrent optimum: 15.0\n"
     ]
    },
    {
     "name": "stdout",
     "output_type": "stream",
     "text": [
      "\n"
     ]
    },
    {
     "name": "stderr",
     "output_type": "stream",
     "text": [
      "\u001b[32mProgress: 100%|█████████████████████████████████████████| Time: 0:00:42\u001b[39m\n"
     ]
    },
    {
     "name": "stdout",
     "output_type": "stream",
     "text": [
      "[1, 3, 10, 17]\n",
      "[1847.0, 961.0, 1837.0, 1233.0, 1243.0, 1482.0, 941.0, 1382.0, 140.0, 2038.0, 1574.0, 750.0, 1030.0, 788.0, 1417.0, 1355.0, 2002.0, 1039.0, 1241.0, 261.0]\n",
      "0\n"
     ]
    },
    {
     "name": "stderr",
     "output_type": "stream",
     "text": [
      "\u001b[36m\u001b[1m[ \u001b[22m\u001b[39m\u001b[36m\u001b[1mInfo: \u001b[22m\u001b[39m2023-10-02T15:18:41.049\titeration: 250\tcurrent optimum: 15.0\n",
      "\u001b[32mProgress: 100%|█████████████████████████████████████████| Time: 0:00:45\u001b[39m\n"
     ]
    },
    {
     "name": "stdout",
     "output_type": "stream",
     "text": [
      "[3, 4, 5, 11, 13, 17]\n",
      "[9586.0, 17060.0, 20553.0, 21159.0, 19983.0, 8415.0, 1271.0, 5987.0, 3275.0, 4420.0, 20832.0, 11233.0, 20158.0, 3513.0, 19592.0, 6317.0, 20478.0, 9418.0, 2005.0, 20953.0]\n",
      "6\n"
     ]
    },
    {
     "name": "stderr",
     "output_type": "stream",
     "text": [
      "\u001b[36m\u001b[1m[ \u001b[22m\u001b[39m\u001b[36m\u001b[1mInfo: \u001b[22m\u001b[39m2023-10-02T15:19:26.737\titeration: 251\tcurrent optimum: 15.0\n",
      "\u001b[32mProgress: 100%|█████████████████████████████████████████| Time: 0:00:23\u001b[39m\n"
     ]
    },
    {
     "name": "stdout",
     "output_type": "stream",
     "text": [
      "Int64[]\n",
      "[2971.0, 2126.0, 4111.0, 2553.0, 2405.0, 4365.0, 3627.0, 7514.0, 3210.0, 5176.0, 3805.0, 4110.0, 3622.0, 4355.0, 1422.0, 1253.0, 2748.0, 4090.0, 2968.0, 5867.0]\n",
      "0"
     ]
    },
    {
     "name": "stderr",
     "output_type": "stream",
     "text": [
      "\u001b[36m\u001b[1m[ \u001b[22m\u001b[39m\u001b[36m\u001b[1mInfo: \u001b[22m\u001b[39m2023-10-02T15:19:50.260\titeration: 252\tcurrent optimum: 15.0\n"
     ]
    },
    {
     "name": "stdout",
     "output_type": "stream",
     "text": [
      "\n"
     ]
    },
    {
     "name": "stderr",
     "output_type": "stream",
     "text": [
      "\u001b[32mProgress: 100%|█████████████████████████████████████████| Time: 0:00:59\u001b[39m\n"
     ]
    },
    {
     "name": "stdout",
     "output_type": "stream",
     "text": [
      "[2, 6, 7, 9, 12, 15, 16, 17, 18]\n",
      "[4522.0, 4879.0, 3694.0, 3856.0, 1511.0, 4732.0, 4915.0, 1273.0, 4859.0, 4690.0, 217.0, 4923.0, 2082.0, 2317.0, 4894.0, 4642.0, 5029.0, 4681.0, 2338.0, 2598.0]\n",
      "0"
     ]
    },
    {
     "name": "stderr",
     "output_type": "stream",
     "text": [
      "\u001b[36m\u001b[1m[ \u001b[22m\u001b[39m\u001b[36m\u001b[1mInfo: \u001b[22m\u001b[39m2023-10-02T15:20:50.385\titeration: 253\tcurrent optimum: 15.0\n"
     ]
    },
    {
     "name": "stdout",
     "output_type": "stream",
     "text": [
      "\n"
     ]
    },
    {
     "name": "stderr",
     "output_type": "stream",
     "text": [
      "\u001b[32mProgress: 100%|█████████████████████████████████████████| Time: 0:00:57\u001b[39m\n"
     ]
    },
    {
     "name": "stdout",
     "output_type": "stream",
     "text": [
      "[5, 7, 9, 10, 11, 15, 16, 19]\n",
      "[1322.0, 2050.0, 1064.0, 2550.0, 2742.0, 2169.0, 2775.0, 2475.0, 3032.0, 2478.0, 2677.0, 2523.0, 1682.0, 1384.0, 2778.0, 2552.0, 850.0, 974.0, 2724.0, 2691.0]\n",
      "0\n"
     ]
    },
    {
     "name": "stderr",
     "output_type": "stream",
     "text": [
      "\u001b[36m\u001b[1m[ \u001b[22m\u001b[39m\u001b[36m\u001b[1mInfo: \u001b[22m\u001b[39m2023-10-02T15:21:47.876\titeration: 254\tcurrent optimum: 15.0\n",
      "\u001b[32mProgress: 100%|█████████████████████████████████████████| Time: 0:00:40\u001b[39m\n"
     ]
    },
    {
     "name": "stdout",
     "output_type": "stream",
     "text": [
      "[6, 9, 11, 17, 18]\n",
      "[8883.0, 15321.0, 21275.0, 10943.0, 138.0, 17390.0, 13497.0, 3520.0, 16868.0, 979.0, 17956.0, 7815.0, 2433.0, 4169.0, 253.0, 14391.0, 18494.0, 19990.0, 1471.0, 18185.0]\n",
      "2\n"
     ]
    },
    {
     "name": "stderr",
     "output_type": "stream",
     "text": [
      "\u001b[36m\u001b[1m[ \u001b[22m\u001b[39m\u001b[36m\u001b[1mInfo: \u001b[22m\u001b[39m2023-10-02T15:22:28.134\titeration: 255\tcurrent optimum: 15.0\n",
      "\u001b[32mProgress: 100%|█████████████████████████████████████████| Time: 0:00:42\u001b[39m"
     ]
    },
    {
     "name": "stdout",
     "output_type": "stream",
     "text": [
      "[1, 7, 9, 12, 14, 20]\n",
      "[14346.0, 1195.0, 8023.0, 6141.0, 4683.0, 5577.0, 14406.0, 2883.0, 14453.0, 1305.0, 11776.0, 14973.0, 10894.0, 14450.0, 742.0, 6323.0, 2769.0, 4464.0, 8169.0, 14719.0]\n",
      "4\n"
     ]
    },
    {
     "name": "stderr",
     "output_type": "stream",
     "text": [
      "\n",
      "\u001b[36m\u001b[1m[ \u001b[22m\u001b[39m\u001b[36m\u001b[1mInfo: \u001b[22m\u001b[39m2023-10-02T15:23:11.075\titeration: 256\tcurrent optimum: 15.0\n",
      "\u001b[32mProgress:  90%|█████████████████████████████████████    |  ETA: 0:00:04\u001b[39m\r"
     ]
    },
    {
     "name": "stdout",
     "output_type": "stream",
     "text": [
      "[1, 3, 4, 9, 11, 19]\n",
      "[11147.0, 5538.0, 12917.0, 11782.0, 7752.0, 8047.0, 2068.0, 958.0, 16430.0, 348.0, 9223.0, 220.0, 4993.0, 3814.0, 6561.0, 5667.0, 4771.0, 3230.0, 14041.0, 9107.0]\n",
      "2"
     ]
    },
    {
     "name": "stderr",
     "output_type": "stream",
     "text": [
      "\u001b[32mProgress: 100%|█████████████████████████████████████████| Time: 0:00:37\u001b[39m\n"
     ]
    },
    {
     "name": "stdout",
     "output_type": "stream",
     "text": [
      "\n"
     ]
    },
    {
     "name": "stderr",
     "output_type": "stream",
     "text": [
      "\u001b[36m\u001b[1m[ \u001b[22m\u001b[39m\u001b[36m\u001b[1mInfo: \u001b[22m\u001b[39m2023-10-02T15:23:49.191\titeration: 257\tcurrent optimum: 15.0\n",
      "\u001b[32mProgress: 100%|█████████████████████████████████████████| Time: 0:00:48\u001b[39m\n"
     ]
    },
    {
     "name": "stdout",
     "output_type": "stream",
     "text": [
      "[4, 7, 10, 11, 12, 14, 18]\n",
      "[4691.0, 6952.0, 10242.0, 13575.0, 6651.0, 10830.0, 15789.0, 7652.0, 3081.0, 13319.0, 13491.0, 15440.0, 5404.0, 15847.0, 7744.0, 2837.0, 6513.0, 14911.0, 2666.0, 13129.0]\n",
      "2"
     ]
    },
    {
     "name": "stderr",
     "output_type": "stream",
     "text": [
      "\u001b[36m\u001b[1m[ \u001b[22m\u001b[39m\u001b[36m\u001b[1mInfo: \u001b[22m\u001b[39m2023-10-02T15:24:37.485\titeration: 258\tcurrent optimum: 15.0\n"
     ]
    },
    {
     "name": "stdout",
     "output_type": "stream",
     "text": [
      "\n"
     ]
    },
    {
     "name": "stderr",
     "output_type": "stream",
     "text": [
      "\u001b[32mProgress: 100%|█████████████████████████████████████████| Time: 0:00:41\u001b[39m\n"
     ]
    },
    {
     "name": "stdout",
     "output_type": "stream",
     "text": [
      "[4, 9, 10, 14, 17, 19]\n",
      "[3333.0, 4256.0, 12062.0, 13329.0, 1059.0, 440.0, 855.0, 2671.0, 13310.0, 12779.0, 2976.0, 1713.0, 2764.0, 13497.0, 6095.0, 11203.0, 12781.0, 3115.0, 12287.0, 10220.0]\n",
      "2\n"
     ]
    },
    {
     "name": "stderr",
     "output_type": "stream",
     "text": [
      "\u001b[36m\u001b[1m[ \u001b[22m\u001b[39m\u001b[36m\u001b[1mInfo: \u001b[22m\u001b[39m2023-10-02T15:25:19.227\titeration: 259\tcurrent optimum: 15.0\n",
      "\u001b[32mProgress: 100%|█████████████████████████████████████████| Time: 0:01:05\u001b[39m\n"
     ]
    },
    {
     "name": "stdout",
     "output_type": "stream",
     "text": [
      "[1, 2, 3, 4, 5, 6, 7, 8, 9, 10, 12, 13, 16, 17, 18, 20]\n",
      "[4059.0, 3632.0, 3905.0, 3739.0, 3834.0, 3833.0, 3829.0, 3774.0, 3778.0, 4037.0, 74.0, 3578.0, 3807.0, 1589.0, 1625.0, 3708.0, 3780.0, 3748.0, 763.0, 3793.0]\n",
      "1"
     ]
    },
    {
     "name": "stderr",
     "output_type": "stream",
     "text": [
      "\u001b[36m\u001b[1m[ \u001b[22m\u001b[39m\u001b[36m\u001b[1mInfo: \u001b[22m\u001b[39m2023-10-02T15:26:25.073\titeration: 260\tcurrent optimum: 15.0\n"
     ]
    },
    {
     "name": "stdout",
     "output_type": "stream",
     "text": [
      "\n"
     ]
    },
    {
     "name": "stderr",
     "output_type": "stream",
     "text": [
      "\u001b[32mProgress: 100%|█████████████████████████████████████████| Time: 0:00:53\u001b[39m\n"
     ]
    },
    {
     "name": "stdout",
     "output_type": "stream",
     "text": [
      "[2, 3, 4, 6, 7, 9, 11, 12, 13, 15, 16, 19]\n",
      "[4270.0, 4083.0, 4364.0, 3353.0, 3713.0, 3601.0, 4206.0, 2714.0, 4069.0, 1352.0, 2941.0, 3378.0, 3629.0, 2436.0, 4344.0, 3430.0, 2390.0, 506.0, 4696.0, 2920.0]\n",
      "2"
     ]
    },
    {
     "name": "stderr",
     "output_type": "stream",
     "text": [
      "\u001b[36m\u001b[1m[ \u001b[22m\u001b[39m\u001b[36m\u001b[1mInfo: \u001b[22m\u001b[39m2023-10-02T15:27:18.939\titeration: 261\tcurrent optimum: 15.0\n"
     ]
    },
    {
     "name": "stdout",
     "output_type": "stream",
     "text": [
      "\n"
     ]
    },
    {
     "name": "stderr",
     "output_type": "stream",
     "text": [
      "\u001b[32mProgress: 100%|█████████████████████████████████████████| Time: 0:00:48\u001b[39m"
     ]
    },
    {
     "name": "stdout",
     "output_type": "stream",
     "text": [
      "[2, 6, 7, 8, 9, 11, 15, 19]\n",
      "[13324.0, 13806.0, 4546.0, 827.0, 12966.0, 15123.0, 15905.0, 14226.0, 15931.0, 13187.0, 15698.0, 5271.0, 4983.0, 5380.0, 15244.0, 2578.0, 10621.0, 12893.0, 15443.0, 3249.0]\n",
      "2"
     ]
    },
    {
     "name": "stderr",
     "output_type": "stream",
     "text": [
      "\n"
     ]
    },
    {
     "name": "stdout",
     "output_type": "stream",
     "text": [
      "\n"
     ]
    },
    {
     "name": "stderr",
     "output_type": "stream",
     "text": [
      "\u001b[36m\u001b[1m[ \u001b[22m\u001b[39m\u001b[36m\u001b[1mInfo: \u001b[22m\u001b[39m2023-10-02T15:28:07.780\titeration: 262\tcurrent optimum: 15.0\n",
      "\u001b[32mProgress: 100%|█████████████████████████████████████████| Time: 0:00:59\u001b[39m\n"
     ]
    },
    {
     "name": "stdout",
     "output_type": "stream",
     "text": [
      "[1, 3, 4, 5, 7, 9, 11, 13, 14, 15, 16, 17, 18]\n",
      "[4090.0, 3717.0, 5438.0, 3731.0, 4598.0, 3553.0, 3992.0, 1212.0, 3740.0, 4873.0, 3830.0, 1622.0, 4170.0, 5139.0, 3839.0, 5193.0, 3999.0, 4097.0, 636.0, 202.0]\n",
      "3\n"
     ]
    },
    {
     "name": "stderr",
     "output_type": "stream",
     "text": [
      "\u001b[36m\u001b[1m[ \u001b[22m\u001b[39m\u001b[36m\u001b[1mInfo: \u001b[22m\u001b[39m2023-10-02T15:29:07.849\titeration: 263\tcurrent optimum: 15.0\n",
      "\u001b[32mProgress: 100%|█████████████████████████████████████████| Time: 0:00:42\u001b[39m\n"
     ]
    },
    {
     "name": "stdout",
     "output_type": "stream",
     "text": [
      "[2, 7, 9, 10, 13, 16]\n",
      "[232.0, 18275.0, 506.0, 15958.0, 984.0, 11450.0, 18123.0, 4038.0, 19335.0, 18093.0, 3033.0, 1376.0, 17616.0, 7496.0, 3290.0, 18061.0, 1971.0, 5344.0, 2408.0, 15315.0]\n",
      "6"
     ]
    },
    {
     "name": "stderr",
     "output_type": "stream",
     "text": [
      "\u001b[36m\u001b[1m[ \u001b[22m\u001b[39m\u001b[36m\u001b[1mInfo: \u001b[22m\u001b[39m2023-10-02T15:29:50.634\titeration: 264\tcurrent optimum: 15.0\n"
     ]
    },
    {
     "name": "stdout",
     "output_type": "stream",
     "text": [
      "\n"
     ]
    },
    {
     "name": "stderr",
     "output_type": "stream",
     "text": [
      "\u001b[32mProgress: 100%|█████████████████████████████████████████| Time: 0:00:46\u001b[39m\n"
     ]
    },
    {
     "name": "stdout",
     "output_type": "stream",
     "text": [
      "[2, 6, 7, 12, 13, 14, 15, 17]\n",
      "[2081.0, 9941.0, 249.0, 3412.0, 848.0, 10333.0, 10369.0, 8541.0, 3557.0, 5774.0, 319.0, 10686.0, 11133.0, 10202.0, 10360.0, 5427.0, 10740.0, 2218.0, 6754.0, 1509.0]\n",
      "2"
     ]
    },
    {
     "name": "stderr",
     "output_type": "stream",
     "text": [
      "\u001b[36m\u001b[1m[ \u001b[22m\u001b[39m\u001b[36m\u001b[1mInfo: \u001b[22m\u001b[39m2023-10-02T15:30:37.408\titeration: 265\tcurrent optimum: 15.0\n"
     ]
    },
    {
     "name": "stdout",
     "output_type": "stream",
     "text": [
      "\n"
     ]
    },
    {
     "name": "stderr",
     "output_type": "stream",
     "text": [
      "\u001b[32mProgress: 100%|█████████████████████████████████████████| Time: 0:00:42\u001b[39m\n"
     ]
    },
    {
     "name": "stdout",
     "output_type": "stream",
     "text": [
      "[6, 7, 8, 10, 13, 15]\n",
      "[2515.0, 12555.0, 11458.0, 15858.0, 9128.0, 17568.0, 15101.0, 16222.0, 9875.0, 16818.0, 6895.0, 6547.0, 17457.0, 10389.0, 15053.0, 1245.0, 1354.0, 12200.0, 15728.0, 5889.0]\n",
      "4\n"
     ]
    },
    {
     "name": "stderr",
     "output_type": "stream",
     "text": [
      "\u001b[36m\u001b[1m[ \u001b[22m\u001b[39m\u001b[36m\u001b[1mInfo: \u001b[22m\u001b[39m2023-10-02T15:31:19.627\titeration: 266\tcurrent optimum: 15.0\n",
      "\u001b[32mProgress: 100%|█████████████████████████████████████████| Time: 0:00:46\u001b[39m\n"
     ]
    },
    {
     "name": "stdout",
     "output_type": "stream",
     "text": [
      "[2, 3, 5, 6, 8, 9, 10, 15]\n",
      "[11959.0, 13759.0, 14607.0, 3270.0, 14498.0, 14296.0, 3422.0, 14523.0, 14376.0, 14817.0, 347.0, 631.0, 10692.0, 2236.0, 15920.0, 9691.0, 1990.0, 939.0, 13979.0, 7094.0]\n",
      "3\n"
     ]
    },
    {
     "name": "stderr",
     "output_type": "stream",
     "text": [
      "\u001b[36m\u001b[1m[ \u001b[22m\u001b[39m\u001b[36m\u001b[1mInfo: \u001b[22m\u001b[39m2023-10-02T15:32:06.277\titeration: 267\tcurrent optimum: 15.0\n",
      "\u001b[32mProgress: 100%|█████████████████████████████████████████| Time: 0:00:41\u001b[39m"
     ]
    },
    {
     "name": "stdout",
     "output_type": "stream",
     "text": [
      "[1, 2, 9, 10, 11, 13, 14]\n",
      "[6200.0, 6559.0, 4412.0, 1623.0, 2441.0, 4711.0, 354.0, 2920.0, 6624.0, 6299.0, 6592.0, 4417.0, 6325.0, 6365.0, 280.0, 2815.0, 4316.0, 3074.0, 1617.0, 1719.0]\n",
      "0\n"
     ]
    },
    {
     "name": "stderr",
     "output_type": "stream",
     "text": [
      "\n",
      "\u001b[36m\u001b[1m[ \u001b[22m\u001b[39m\u001b[36m\u001b[1mInfo: \u001b[22m\u001b[39m2023-10-02T15:32:48.349\titeration: 268\tcurrent optimum: 15.0\n",
      "\u001b[32mProgress: 100%|█████████████████████████████████████████| Time: 0:00:54\u001b[39m\n"
     ]
    },
    {
     "name": "stdout",
     "output_type": "stream",
     "text": [
      "[2, 4, 5, 6, 8, 9, 14, 15, 20]\n",
      "[6697.0, 8852.0, 709.0, 9239.0, 8333.0, 8799.0, 6217.0, 9606.0, 9518.0, 6695.0, 2989.0, 2921.0, 1340.0, 9203.0, 9836.0, 3530.0, 6477.0, 2871.0, 7467.0, 9059.0]\n",
      "4"
     ]
    },
    {
     "name": "stderr",
     "output_type": "stream",
     "text": [
      "\u001b[36m\u001b[1m[ \u001b[22m\u001b[39m\u001b[36m\u001b[1mInfo: \u001b[22m\u001b[39m2023-10-02T15:33:43.340\titeration: 269\tcurrent optimum: 15.0\n"
     ]
    },
    {
     "name": "stdout",
     "output_type": "stream",
     "text": [
      "\n"
     ]
    },
    {
     "name": "stderr",
     "output_type": "stream",
     "text": [
      "\u001b[32mProgress: 100%|█████████████████████████████████████████| Time: 0:00:40\u001b[39m\n"
     ]
    },
    {
     "name": "stdout",
     "output_type": "stream",
     "text": [
      "[15, 19]\n",
      "[4947.0, 8568.0, 2713.0, 7446.0, 9338.0, 9265.0, 9659.0, 977.0, 7664.0, 12268.0, 10804.0, 13305.0, 1812.0, 7705.0, 13427.0, 11385.0, 11704.0, 3430.0, 11948.0, 7279.0]\n"
     ]
    },
    {
     "name": "stderr",
     "output_type": "stream",
     "text": [
      "\u001b[36m\u001b[1m[ \u001b[22m\u001b[39m\u001b[36m\u001b[1mInfo: \u001b[22m\u001b[39m2023-10-02T15:34:24.278\titeration: 270\tcurrent optimum: 15.0\n"
     ]
    },
    {
     "name": "stdout",
     "output_type": "stream",
     "text": [
      "0\n"
     ]
    },
    {
     "name": "stderr",
     "output_type": "stream",
     "text": [
      "\u001b[32mProgress: 100%|█████████████████████████████████████████| Time: 0:00:35\u001b[39m\n"
     ]
    },
    {
     "name": "stdout",
     "output_type": "stream",
     "text": [
      "[13]\n",
      "[4433.0, 13991.0, 11736.0, 5973.0, 10072.0, 1128.0, 3018.0, 12764.0, 2501.0, 5449.0, 6929.0, 7142.0, 13630.0, 5917.0, 1498.0, 4802.0, 5277.0, 6562.0, 6118.0, 10664.0]\n",
      "0"
     ]
    },
    {
     "name": "stderr",
     "output_type": "stream",
     "text": [
      "\u001b[36m\u001b[1m[ \u001b[22m\u001b[39m\u001b[36m\u001b[1mInfo: \u001b[22m\u001b[39m2023-10-02T15:34:59.552\titeration: 271\tcurrent optimum: 15.0\n"
     ]
    },
    {
     "name": "stdout",
     "output_type": "stream",
     "text": [
      "\n"
     ]
    },
    {
     "name": "stderr",
     "output_type": "stream",
     "text": [
      "\u001b[32mProgress: 100%|█████████████████████████████████████████| Time: 0:00:45\u001b[39m\n"
     ]
    },
    {
     "name": "stdout",
     "output_type": "stream",
     "text": [
      "[1, 3, 4, 12, 13, 15, 17]\n",
      "[1555.0, 730.0, 1570.0, 1603.0, 1092.0, 867.0, 673.0, 1228.0, 727.0, 681.0, 298.0, 1676.0, 1556.0, 868.0, 1539.0, 521.0, 1519.0, 838.0, 747.0, 1073.0]\n",
      "0\n"
     ]
    },
    {
     "name": "stderr",
     "output_type": "stream",
     "text": [
      "\u001b[36m\u001b[1m[ \u001b[22m\u001b[39m\u001b[36m\u001b[1mInfo: \u001b[22m\u001b[39m2023-10-02T15:35:45.207\titeration: 272\tcurrent optimum: 15.0\n",
      "\u001b[32mProgress: 100%|█████████████████████████████████████████| Time: 0:00:40\u001b[39m\n"
     ]
    },
    {
     "name": "stdout",
     "output_type": "stream",
     "text": [
      "[4, 7, 14]\n",
      "[3607.0, 12779.0, 755.0, 21064.0, 6280.0, 3992.0, 21274.0, 5971.0, 19026.0, 2515.0, 3572.0, 13498.0, 2137.0, 21051.0, 3549.0, 18334.0, 14238.0, 3798.0, 20595.0, 11876.0]\n",
      "1\n"
     ]
    },
    {
     "name": "stderr",
     "output_type": "stream",
     "text": [
      "\u001b[36m\u001b[1m[ \u001b[22m\u001b[39m\u001b[36m\u001b[1mInfo: \u001b[22m\u001b[39m2023-10-02T15:36:25.651\titeration: 273\tcurrent optimum: 15.0\n",
      "\u001b[32mProgress: 100%|█████████████████████████████████████████| Time: 0:00:35\u001b[39m\n"
     ]
    },
    {
     "name": "stdout",
     "output_type": "stream",
     "text": [
      "[3, 16, 20]\n",
      "[12490.0, 9441.0, 14683.0, 1849.0, 9443.0, 5805.0, 8273.0, 4928.0, 7117.0, 2275.0, 6603.0, 657.0, 7818.0, 7187.0, 9801.0, 14834.0, 8794.0, 1532.0, 12337.0, 14441.0]\n",
      "0"
     ]
    },
    {
     "name": "stderr",
     "output_type": "stream",
     "text": [
      "\u001b[36m\u001b[1m[ \u001b[22m\u001b[39m\u001b[36m\u001b[1mInfo: \u001b[22m\u001b[39m2023-10-02T15:37:00.973\titeration: 274\tcurrent optimum: 15.0\n"
     ]
    },
    {
     "name": "stdout",
     "output_type": "stream",
     "text": [
      "\n"
     ]
    },
    {
     "name": "stderr",
     "output_type": "stream",
     "text": [
      "\u001b[32mProgress: 100%|█████████████████████████████████████████| Time: 0:01:09\u001b[39m\n"
     ]
    },
    {
     "name": "stdout",
     "output_type": "stream",
     "text": [
      "[2, 4, 5, 6, 8, 9, 10, 11, 12, 14, 15, 16, 18, 20]\n",
      "[148.0, 3295.0, 1916.0, 3205.0, 3351.0, 3233.0, 2551.0, 3160.0, 3491.0, 3447.0, 3348.0, 3149.0, 2023.0, 3264.0, 3248.0, 3267.0, 2673.0, 3226.0, 2112.0, 3294.0]\n",
      "0\n"
     ]
    },
    {
     "name": "stderr",
     "output_type": "stream",
     "text": [
      "\u001b[36m\u001b[1m[ \u001b[22m\u001b[39m\u001b[36m\u001b[1mInfo: \u001b[22m\u001b[39m2023-10-02T15:38:10.309\titeration: 275\tcurrent optimum: 15.0\n",
      "\u001b[32mProgress: 100%|█████████████████████████████████████████| Time: 0:01:02\u001b[39m\n"
     ]
    },
    {
     "name": "stdout",
     "output_type": "stream",
     "text": [
      "[2, 3, 5, 6, 8, 10, 11, 13, 14, 16, 17, 18, 19]\n",
      "[4768.0, 6943.0, 6844.0, 6163.0, 6579.0, 6671.0, 930.0, 7002.0, 4814.0, 6556.0, 6786.0, 4930.0, 6463.0, 6336.0, 3459.0, 6732.0, 6528.0, 6711.0, 6441.0, 2618.0]\n",
      "1\n"
     ]
    },
    {
     "name": "stderr",
     "output_type": "stream",
     "text": [
      "\u001b[36m\u001b[1m[ \u001b[22m\u001b[39m\u001b[36m\u001b[1mInfo: \u001b[22m\u001b[39m2023-10-02T15:39:12.677\titeration: 276\tcurrent optimum: 15.0\n",
      "\u001b[32mProgress: 100%|█████████████████████████████████████████| Time: 0:00:58\u001b[39m\n"
     ]
    },
    {
     "name": "stdout",
     "output_type": "stream",
     "text": [
      "[1, 3, 4, 6, 8, 10, 13, 14, 15, 16, 17, 18, 19, 20]\n",
      "[8840.0, 5748.0, 8663.0, 8482.0, 3450.0, 8534.0, 7899.0, 8699.0, 3152.0, 8165.0, 5548.0, 330.0, 8118.0, 8179.0, 8949.0, 8233.0, 8524.0, 8124.0, 8261.0, 8772.0]\n",
      "2"
     ]
    },
    {
     "name": "stderr",
     "output_type": "stream",
     "text": [
      "\u001b[36m\u001b[1m[ \u001b[22m\u001b[39m\u001b[36m\u001b[1mInfo: \u001b[22m\u001b[39m2023-10-02T15:40:10.947\titeration: 277\tcurrent optimum: 15.0\n"
     ]
    },
    {
     "name": "stdout",
     "output_type": "stream",
     "text": [
      "\n"
     ]
    },
    {
     "name": "stderr",
     "output_type": "stream",
     "text": [
      "\u001b[32mProgress: 100%|█████████████████████████████████████████| Time: 0:00:47\u001b[39m"
     ]
    },
    {
     "name": "stdout",
     "output_type": "stream",
     "text": [
      "[1, 6, 7, 10, 12, 15, 17, 19]\n",
      "[1911.0, 1431.0, 294.0, 794.0, 1703.0, 1955.0, 1821.0, 995.0, 1299.0, 1829.0, 761.0, 1896.0, 969.0, 1311.0, 2014.0, 1183.0, 1893.0, 1402.0, 1915.0, 979.0]\n",
      "0"
     ]
    },
    {
     "name": "stderr",
     "output_type": "stream",
     "text": [
      "\n",
      "\u001b[36m\u001b[1m[ \u001b[22m\u001b[39m\u001b[36m\u001b[1mInfo: \u001b[22m\u001b[39m2023-10-02T15:40:58.264\titeration: 278\tcurrent optimum: 15.0\n"
     ]
    },
    {
     "name": "stdout",
     "output_type": "stream",
     "text": [
      "\n"
     ]
    },
    {
     "name": "stderr",
     "output_type": "stream",
     "text": [
      "\u001b[32mProgress: 100%|█████████████████████████████████████████| Time: 0:00:46\u001b[39m\n"
     ]
    },
    {
     "name": "stdout",
     "output_type": "stream",
     "text": [
      "[1, 2, 8, 9, 12, 14, 16]\n",
      "[10485.0, 10621.0, 8604.0, 9124.0, 5115.0, 6575.0, 4594.0, 10792.0, 10823.0, 144.0, 6308.0, 10731.0, 5150.0, 11208.0, 931.0, 10398.0, 90.0, 4243.0, 10484.0, 1608.0]\n",
      "4\n"
     ]
    },
    {
     "name": "stderr",
     "output_type": "stream",
     "text": [
      "\u001b[36m\u001b[1m[ \u001b[22m\u001b[39m\u001b[36m\u001b[1mInfo: \u001b[22m\u001b[39m2023-10-02T15:41:44.761\titeration: 279\tcurrent optimum: 15.0\n",
      "\u001b[32mProgress: 100%|█████████████████████████████████████████| Time: 0:00:55\u001b[39m\n"
     ]
    },
    {
     "name": "stdout",
     "output_type": "stream",
     "text": [
      "[1, 3, 4, 6, 7, 16, 17]\n",
      "[377.0, 183.0, 353.0, 365.0, 141.0, 420.0, 400.0, 367.0, 363.0, 347.0, 353.0, 363.0, 209.0, 234.0, 379.0, 392.0, 398.0, 219.0, 319.0, 341.0]\n",
      "0\n"
     ]
    },
    {
     "name": "stderr",
     "output_type": "stream",
     "text": [
      "\u001b[36m\u001b[1m[ \u001b[22m\u001b[39m\u001b[36m\u001b[1mInfo: \u001b[22m\u001b[39m2023-10-02T15:42:40.638\titeration: 280\tcurrent optimum: 15.0\n",
      "\u001b[32mProgress: 100%|█████████████████████████████████████████| Time: 0:00:48\u001b[39m\n"
     ]
    },
    {
     "name": "stdout",
     "output_type": "stream",
     "text": [
      "[1, 6, 7, 10, 16]\n",
      "[2880.0, 2827.0, 1578.0, 1743.0, 2007.0, 2880.0, 3064.0, 2113.0, 1912.0, 3017.0, 2153.0, 2671.0, 642.0, 1825.0, 1716.0, 3014.0, 2269.0, 1387.0, 2787.0, 2941.0]\n",
      "0"
     ]
    },
    {
     "name": "stderr",
     "output_type": "stream",
     "text": [
      "\u001b[36m\u001b[1m[ \u001b[22m\u001b[39m\u001b[36m\u001b[1mInfo: \u001b[22m\u001b[39m2023-10-02T15:43:29.124\titeration: 281\tcurrent optimum: 15.0\n"
     ]
    },
    {
     "name": "stdout",
     "output_type": "stream",
     "text": [
      "\n"
     ]
    },
    {
     "name": "stderr",
     "output_type": "stream",
     "text": [
      "\u001b[32mProgress:  90%|█████████████████████████████████████    |  ETA: 0:00:05\u001b[39m\r"
     ]
    },
    {
     "name": "stdout",
     "output_type": "stream",
     "text": [
      "[6, 14, 15]\n",
      "[631.0, 554.0, 101.0, 448.0, 535.0, 715.0, 528.0, 374.0, 457.0, 306.0, 404.0, 387.0, 667.0, 766.0, 769.0, 503.0, 673.0, 72.0, 671.0, 666.0]\n",
      "0\n"
     ]
    },
    {
     "name": "stderr",
     "output_type": "stream",
     "text": [
      "\u001b[32mProgress: 100%|█████████████████████████████████████████| Time: 0:00:46\u001b[39m\n",
      "\u001b[36m\u001b[1m[ \u001b[22m\u001b[39m\u001b[36m\u001b[1mInfo: \u001b[22m\u001b[39m2023-10-02T15:44:15.804\titeration: 282\tcurrent optimum: 15.0\n",
      "\u001b[32mProgress: 100%|█████████████████████████████████████████| Time: 0:00:55\u001b[39m\n"
     ]
    },
    {
     "name": "stdout",
     "output_type": "stream",
     "text": [
      "[2, 3, 5, 7, 8, 9, 10, 12, 13, 14, 16, 17, 18]\n",
      "[2683.0, 10566.0, 10823.0, 8300.0, 11075.0, 142.0, 11097.0, 10810.0, 10979.0, 10514.0, 7864.0, 11035.0, 10888.0, 11064.0, 2430.0, 10780.0, 10657.0, 11070.0, 779.0, 458.0]\n",
      "1"
     ]
    },
    {
     "name": "stderr",
     "output_type": "stream",
     "text": [
      "\u001b[36m\u001b[1m[ \u001b[22m\u001b[39m\u001b[36m\u001b[1mInfo: \u001b[22m\u001b[39m2023-10-02T15:45:10.976\titeration: 283\tcurrent optimum: 15.0\n"
     ]
    },
    {
     "name": "stdout",
     "output_type": "stream",
     "text": [
      "\n"
     ]
    },
    {
     "name": "stderr",
     "output_type": "stream",
     "text": [
      "\u001b[32mProgress: 100%|█████████████████████████████████████████| Time: 0:00:30\u001b[39m\n"
     ]
    },
    {
     "name": "stdout",
     "output_type": "stream",
     "text": [
      "Int64[]\n",
      "[259.0, 2770.0, 6234.0, 13210.0, 9847.0, 856.0, 14839.0, 17987.0, 2426.0, 13096.0, 18009.0, 21801.0, 12177.0, 27809.0, 3376.0, 11543.0, 4295.0, 13173.0, 2446.0, 20297.0]\n",
      "0\n"
     ]
    },
    {
     "name": "stderr",
     "output_type": "stream",
     "text": [
      "\u001b[36m\u001b[1m[ \u001b[22m\u001b[39m\u001b[36m\u001b[1mInfo: \u001b[22m\u001b[39m2023-10-02T15:45:41.500\titeration: 284\tcurrent optimum: 15.0\n",
      "\u001b[32mProgress: 100%|█████████████████████████████████████████| Time: 0:00:40\u001b[39m\n"
     ]
    },
    {
     "name": "stdout",
     "output_type": "stream",
     "text": [
      "[4, 6, 7, 10, 15, 16, 17, 18, 20]\n",
      "[1613.0, 7359.0, 1922.0, 12774.0, 1474.0, 13998.0, 12510.0, 1424.0, 7276.0, 13373.0, 4783.0, 55.0, 2648.0, 4810.0, 13669.0, 13631.0, 13112.0, 13321.0, 5828.0, 13334.0]\n",
      "7"
     ]
    },
    {
     "name": "stderr",
     "output_type": "stream",
     "text": [
      "\u001b[36m\u001b[1m[ \u001b[22m\u001b[39m\u001b[36m\u001b[1mInfo: \u001b[22m\u001b[39m2023-10-02T15:46:22.119\titeration: 285\tcurrent optimum: 15.0\n"
     ]
    },
    {
     "name": "stdout",
     "output_type": "stream",
     "text": [
      "\n"
     ]
    },
    {
     "name": "stderr",
     "output_type": "stream",
     "text": [
      "\u001b[32mProgress: 100%|█████████████████████████████████████████| Time: 0:00:45\u001b[39m\n"
     ]
    },
    {
     "name": "stdout",
     "output_type": "stream",
     "text": [
      "[5, 7, 8, 11, 13, 20]\n",
      "[2416.0, 10717.0, 734.0, 5725.0, 13747.0, 4983.0, 13775.0, 15392.0, 4052.0, 3929.0, 13841.0, 9411.0, 14374.0, 12422.0, 2132.0, 4437.0, 11455.0, 13197.0, 10183.0, 14602.0]\n",
      "4\n"
     ]
    },
    {
     "name": "stderr",
     "output_type": "stream",
     "text": [
      "\u001b[36m\u001b[1m[ \u001b[22m\u001b[39m\u001b[36m\u001b[1mInfo: \u001b[22m\u001b[39m2023-10-02T15:47:07.890\titeration: 286\tcurrent optimum: 15.0\n",
      "\u001b[32mProgress: 100%|█████████████████████████████████████████| Time: 0:00:49\u001b[39m\n"
     ]
    },
    {
     "name": "stdout",
     "output_type": "stream",
     "text": [
      "[4, 7, 8, 9, 12, 18]\n",
      "[310.0, 294.0, 250.0, 428.0, 251.0, 291.0, 378.0, 428.0, 359.0, 271.0, 368.0, 387.0, 293.0, 229.0, 226.0, 375.0, 233.0, 352.0, 290.0, 298.0]\n",
      "1"
     ]
    },
    {
     "name": "stderr",
     "output_type": "stream",
     "text": [
      "\u001b[36m\u001b[1m[ \u001b[22m\u001b[39m\u001b[36m\u001b[1mInfo: \u001b[22m\u001b[39m2023-10-02T15:47:58.028\titeration: 287\tcurrent optimum: 15.0\n"
     ]
    },
    {
     "name": "stdout",
     "output_type": "stream",
     "text": [
      "\n"
     ]
    },
    {
     "name": "stderr",
     "output_type": "stream",
     "text": [
      "\u001b[32mProgress: 100%|█████████████████████████████████████████| Time: 0:00:59\u001b[39m\n"
     ]
    },
    {
     "name": "stdout",
     "output_type": "stream",
     "text": [
      "[2, 4, 5, 6, 7, 10, 12, 13, 14, 15, 16, 17, 19, 20]\n",
      "[1149.0, 3888.0, 2784.0, 3766.0, 3922.0, 3923.0, 3873.0, 2805.0, 2922.0, 3981.0, 2952.0, 3998.0, 4399.0, 4337.0, 3693.0, 3994.0, 4091.0, 1914.0, 3906.0, 3877.0]\n",
      "0\n"
     ]
    },
    {
     "name": "stderr",
     "output_type": "stream",
     "text": [
      "\u001b[36m\u001b[1m[ \u001b[22m\u001b[39m\u001b[36m\u001b[1mInfo: \u001b[22m\u001b[39m2023-10-02T15:48:57.777\titeration: 288\tcurrent optimum: 15.0\n",
      "\u001b[32mProgress: 100%|█████████████████████████████████████████| Time: 0:01:00\u001b[39m\u0000\u0000\u0000\u0000\u0000\u0000\u0000\u0000\u0000\u0000\u0000\u0000\u0000\u0000\u0000\u0000\u0000\u0000\u0000\u0000\u0000\u0000\u0000\u0000\u0000\u0000\u0000\u0000\u0000\u0000\u0000\u0000\u0000\u0000\u0000\u0000\u0000\u0000\u0000\u0000\u0000\u0000\u0000\u0000\u0000\u0000\u0000\u0000\u0000\u0000\u0000\u0000\u0000\u0000\u0000\u0000\u0000\u0000\u0000\u0000\u0000\u0000\u0000\u0000\u0000\u0000\u0000\u0000\u0000\u0000\u0000\u0000\u0000\u0000\u0000\u0000\u0000\u0000\u0000\u0000\u0000\u0000\u0000\u0000\u0000\u0000\u0000\u0000\u0000\u0000\u0000\u0000\u0000\u0000\u0000\u0000\u0000\u0000\u0000\u0000\u0000\u0000\u0000\u0000\u0000\u0000\u0000\u0000\u0000\u0000\u0000\u0000\u0000\u0000\u0000\u0000\u0000\u0000\u0000\u0000\u0000\u0000\u0000\u0000\u0000\u0000\u0000\u0000\u0000\u0000\u0000\u0000\u0000\u0000\u0000\u0000\u0000\u0000\u0000\u0000\u0000\u0000\u0000\u0000\u0000\u0000\u0000\u0000\u0000\u0000\u0000\u0000\u0000\u0000\u0000\u0000\u0000\u0000\u0000\u0000\u0000\u0000\u0000\u0000\u0000\u0000\u0000\u0000\u0000\u0000\u0000\u0000\u0000\u0000\u0000\u0000\u0000\u0000\u0000\u0000\u0000\u0000\u0000\u0000\u0000\u0000\u0000\u0000\u0000\u0000\u0000\u0000\u0000\u0000\u0000\u0000\u0000\u0000\u0000\u0000\u0000\u0000\u0000\u0000\u0000\u0000\u0000\u0000\u0000\u0000\u0000\u0000\u0000\u0000\u0000\u0000\u0000\u0000\u0000\u0000\u0000\u0000\u0000\u0000\u0000\u0000\u0000\u0000\u0000\u0000\u0000\u0000\u0000\u0000\u0000\u0000\u0000\u0000\u0000\u0000\u0000\u0000\u0000\u0000\u0000\u0000\u0000\u0000\u0000\u0000\u0000\u0000\u0000\u0000\u0000\u0000\u0000\u0000\u0000\u0000\u0000\u0000\u0000\u0000\u0000\u0000\u0000\u0000\u0000\u0000\u0000\u0000\u0000\u0000\u0000\u0000\u0000\u0000\u0000\u0000\u0000\u0000\u0000\u0000\u0000\u0000\u0000\u0000\u0000\u0000\u0000\u0000\u0000\u0000\u0000\u0000\u0000\u0000\u0000\u0000\u0000\u0000\u0000\u0000\u0000\u0000\u0000\u0000\u0000\u0000\u0000\n"
     ]
    },
    {
     "name": "stdout",
     "output_type": "stream",
     "text": [
      "[1, 2, 3, 4, 5, 7, 9, 10, 11, 12, 13, 15, 16, 17, 18]\n",
      "[3551.0, 3608.0, 3525.0, 3259.0, 3553.0, 359.0, 3487.0, 756.0, 3684.0, 3383.0, 3570.0, 3447.0, 3507.0, 744.0, 3329.0, 3364.0, 3380.0, 3523.0, 2244.0, 2920.0]\n",
      "3"
     ]
    },
    {
     "name": "stderr",
     "output_type": "stream",
     "text": [
      "\u001b[36m\u001b[1m[ \u001b[22m\u001b[39m\u001b[36m\u001b[1mInfo: \u001b[22m\u001b[39m2023-10-02T15:49:58.040\titeration: 289\tcurrent optimum: 15.0\n"
     ]
    },
    {
     "name": "stdout",
     "output_type": "stream",
     "text": [
      "\n"
     ]
    },
    {
     "name": "stderr",
     "output_type": "stream",
     "text": [
      "\u001b[32mProgress: 100%|█████████████████████████████████████████| Time: 0:00:57\u001b[39m\n"
     ]
    },
    {
     "name": "stdout",
     "output_type": "stream",
     "text": [
      "[4, 6, 8, 11, 12, 16, 17, 18, 19]\n",
      "[214.0, 286.0, 436.0, 420.0, 289.0, 401.0, 274.0, 381.0, 328.0, 244.0, 367.0, 358.0, 165.0, 286.0, 347.0, 389.0, 418.0, 365.0, 398.0, 375.0]\n",
      "0\n"
     ]
    },
    {
     "name": "stderr",
     "output_type": "stream",
     "text": [
      "\u001b[36m\u001b[1m[ \u001b[22m\u001b[39m\u001b[36m\u001b[1mInfo: \u001b[22m\u001b[39m2023-10-02T15:50:55.842\titeration: 290\tcurrent optimum: 15.0\n",
      "\u001b[32mProgress: 100%|█████████████████████████████████████████| Time: 0:00:40\u001b[39m\n"
     ]
    },
    {
     "name": "stdout",
     "output_type": "stream",
     "text": [
      "[1, 2, 5, 7, 10, 14, 20]\n",
      "[869.0, 910.0, 50.0, 455.0, 898.0, 709.0, 928.0, 344.0, 515.0, 901.0, 861.0, 512.0, 453.0, 865.0, 552.0, 642.0, 598.0, 493.0, 595.0, 935.0]\n",
      "0\n"
     ]
    },
    {
     "name": "stderr",
     "output_type": "stream",
     "text": [
      "\u001b[36m\u001b[1m[ \u001b[22m\u001b[39m\u001b[36m\u001b[1mInfo: \u001b[22m\u001b[39m2023-10-02T15:51:36.701\titeration: 291\tcurrent optimum: 15.0\n",
      "\u001b[32mProgress: 100%|█████████████████████████████████████████| Time: 0:00:42\u001b[39m\n"
     ]
    },
    {
     "name": "stdout",
     "output_type": "stream",
     "text": [
      "[3, 6, 9, 10, 12, 16, 17]\n",
      "[6166.0, 575.0, 12368.0, 10265.0, 5938.0, 12538.0, 2428.0, 7959.0, 12829.0, 12131.0, 1956.0, 12633.0, 3082.0, 353.0, 11968.0, 13195.0, 12166.0, 9880.0, 2674.0, 11634.0]\n"
     ]
    },
    {
     "name": "stderr",
     "output_type": "stream",
     "text": [
      "\u001b[36m\u001b[1m[ \u001b[22m\u001b[39m\u001b[36m\u001b[1mInfo: \u001b[22m\u001b[39m2023-10-02T15:52:19.789\titeration: 292\tcurrent optimum: 15.0\n"
     ]
    },
    {
     "name": "stdout",
     "output_type": "stream",
     "text": [
      "2\n"
     ]
    },
    {
     "name": "stderr",
     "output_type": "stream",
     "text": [
      "\u001b[32mProgress: 100%|█████████████████████████████████████████| Time: 0:00:49\u001b[39m\n"
     ]
    },
    {
     "name": "stdout",
     "output_type": "stream",
     "text": [
      "[1, 4, 5, 7, 9, 10, 11, 12, 14, 19]\n",
      "[9956.0, 1831.0, 4996.0, 10329.0, 9527.0, 4769.0, 10112.0, 2499.0, 10086.0, 10169.0, 10895.0, 9805.0, 8073.0, 9533.0, 2954.0, 5496.0, 649.0, 5501.0, 10086.0, 536.0]\n",
      "3\n"
     ]
    },
    {
     "name": "stderr",
     "output_type": "stream",
     "text": [
      "\u001b[36m\u001b[1m[ \u001b[22m\u001b[39m\u001b[36m\u001b[1mInfo: \u001b[22m\u001b[39m2023-10-02T15:53:09.447\titeration: 293\tcurrent optimum: 15.0\n",
      "\u001b[32mProgress: 100%|█████████████████████████████████████████| Time: 0:00:43\u001b[39m\n"
     ]
    },
    {
     "name": "stdout",
     "output_type": "stream",
     "text": [
      "[6, 7, 10, 13, 14, 19]\n",
      "[9089.0, 5711.0, 9000.0, 11966.0, 14865.0, 18324.0, 19582.0, 17970.0, 12934.0, 19407.0, 444.0, 1285.0, 18850.0, 19872.0, 1211.0, 7252.0, 10532.0, 8195.0, 19544.0, 2064.0]\n",
      "0"
     ]
    },
    {
     "name": "stderr",
     "output_type": "stream",
     "text": [
      "\u001b[36m\u001b[1m[ \u001b[22m\u001b[39m\u001b[36m\u001b[1mInfo: \u001b[22m\u001b[39m2023-10-02T15:53:53.177\titeration: 294\tcurrent optimum: 15.0\n"
     ]
    },
    {
     "name": "stdout",
     "output_type": "stream",
     "text": [
      "\n"
     ]
    },
    {
     "name": "stderr",
     "output_type": "stream",
     "text": [
      "\u001b[32mProgress: 100%|█████████████████████████████████████████| Time: 0:00:45\u001b[39m\n"
     ]
    },
    {
     "name": "stdout",
     "output_type": "stream",
     "text": [
      "[1, 2, 3, 5, 12, 16, 18, 20]\n",
      "[9862.0, 9882.0, 10268.0, 2961.0, 10222.0, 7610.0, 8051.0, 4747.0, 2738.0, 3973.0, 3660.0, 10241.0, 3173.0, 825.0, 5043.0, 9844.0, 4591.0, 10665.0, 4455.0, 9802.0]\n",
      "8"
     ]
    }
   ],
   "source": [
    "maxiterations!(opt, 800)\n",
    "result = boptimize!(opt)"
   ]
  },
  {
   "cell_type": "code",
   "execution_count": null,
   "id": "8442e768-e5ee-4575-b0e4-958f3f497b58",
   "metadata": {},
   "outputs": [],
   "source": []
  },
  {
   "cell_type": "code",
   "execution_count": null,
   "id": "ba596761-8ca5-4808-8429-5fcb0c6705a0",
   "metadata": {},
   "outputs": [],
   "source": []
  },
  {
   "cell_type": "markdown",
   "id": "d55f0747-429c-47f2-9924-2e680a9649dc",
   "metadata": {},
   "source": [
    "## Running a single configuration"
   ]
  },
  {
   "cell_type": "code",
   "execution_count": 58,
   "id": "f4d7bc24-dfb1-4b65-8d1b-2cb20375b448",
   "metadata": {},
   "outputs": [],
   "source": [
    "temp = @with_unit 0.1 \"mK\"\n",
    "diameter = @with_unit 0.6 \"mm\"\n",
    "displacement = [0.0, 0.0, 0.0]\n",
    "kick = [0,0, 0.0, 0.0]\n",
    "\n",
    "params = MutableNamedTuple(t_end = 1e-3, n_values = 20,\n",
    "                            pol1_x=σ⁻, pol2_x=σ⁺, pol3_x=σ⁻, pol4_x=σ⁺, \n",
    "                            s1=2.0, s2=0.0, s3=0.05, s4=0.05,\n",
    "                            Δ1=4.0Γ, Δ2=-0.8Γ, Δ3=-1.0Γ, Δ4=+0.5Γ, \n",
    "                            B_gradient = 30, \n",
    "                            temp=temp, diameter=diameter, \n",
    "                            displacement=displacement, kick=kick,\n",
    "                            ramp_time = 4e-3)\n",
    ";"
   ]
  },
  {
   "cell_type": "code",
   "execution_count": 59,
   "id": "2ae12aa4-9222-43e6-ac73-14e64f976316",
   "metadata": {},
   "outputs": [
    {
     "name": "stderr",
     "output_type": "stream",
     "text": [
      "\u001b[32mProgress: 100%|█████████████████████████████████████████| Time: 0:00:03\u001b[39m\n"
     ]
    }
   ],
   "source": [
    "results = simulate_particles_v2(package, params);"
   ]
  },
  {
   "cell_type": "code",
   "execution_count": 60,
   "id": "e9b68c93-7c29-45a2-b71c-e9cc46d575bd",
   "metadata": {},
   "outputs": [
    {
     "data": {
      "text/plain": [
       "36.24340520601817"
      ]
     },
     "execution_count": 60,
     "metadata": {},
     "output_type": "execute_result"
    }
   ],
   "source": [
    "density(params.t_end, results.times, results.x_trajectories, results.y_trajectories, results.z_trajectories)"
   ]
  },
  {
   "cell_type": "markdown",
   "id": "45695fd2-fcc6-40a3-92e8-b16dc8748252",
   "metadata": {},
   "source": [
    "## Scanning configurations"
   ]
  },
  {
   "cell_type": "code",
   "execution_count": 55,
   "id": "2022eb1a-6bf4-4882-8f98-31c2a93d9bf2",
   "metadata": {},
   "outputs": [],
   "source": [
    "# fixed:\n",
    "t_end = 30e-3 #s\n",
    "n_values = 20\n",
    "ramp_time = 4e-3 #s\n",
    "B_gradient = 30 #G/cm\n",
    "\n",
    "temp = @with_unit 0.5 \"mK\"\n",
    "diameter = @with_unit 0.6 \"mm\"\n",
    "displacement = [0.0, 0.0, 0.0]\n",
    "kick = [0,0, 0.0, 0.0]\n",
    "\n",
    "# variable:\n",
    "pol1_x_list = [σ⁻]\n",
    "pol2_x_list = [σ⁺]\n",
    "pol3_x_list = [σ⁻]\n",
    "pol4_x_list = [σ⁺]\n",
    "\n",
    "s1_list = [1.5, 2.0, 2.5]\n",
    "s2_list = [0.0]\n",
    "s3_list = [0.05, 0.1]\n",
    "s4_list = [0.05, 0.1]\n",
    "\n",
    "Δ1_list = [2.0, 4.0, 6.0] .* Γ\n",
    "Δ2_list = [0.0]\n",
    "Δ3_list = [-0.5, -1.0, -1.5] .* Γ\n",
    "Δ4_list = [0.5, 1.0, 1.5] .* Γ\n",
    "\n",
    "lists = [pol1_x_list, pol2_x_list, pol3_x_list, pol4_x_list,\n",
    "        s1_list, s2_list, s3_list, s4_list,\n",
    "        Δ1_list, Δ2_list, Δ3_list, Δ4_list]\n",
    "\n",
    "n_scans = 1\n",
    "for l in lists\n",
    "   n_scans *= length(l) \n",
    "end\n",
    "\n",
    "comments = \"scan d3 +- 1MHz\";\n",
    "saving_dir = make_scan_folder(lists, working_dir, 1, comments);\n",
    "\n",
    "scan_counter = 0\n",
    "indicies = [\n",
    "    1,1,1,1, \n",
    "    1,1,1,1, \n",
    "    1,1,1,1\n",
    "];"
   ]
  },
  {
   "cell_type": "code",
   "execution_count": null,
   "id": "16f127fc-f238-44cb-96de-b52fcee583f3",
   "metadata": {},
   "outputs": [
    {
     "name": "stdout",
     "output_type": "stream",
     "text": [
      "============= configuration 1 / 324 =============\n"
     ]
    },
    {
     "name": "stderr",
     "output_type": "stream",
     "text": [
      "\u001b[32mProgress: 100%|█████████████████████████████████████████| Time: 0:01:26\u001b[39m\n"
     ]
    },
    {
     "name": "stdout",
     "output_type": "stream",
     "text": [
      "============= configuration 2 / 324 =============\n"
     ]
    },
    {
     "name": "stderr",
     "output_type": "stream",
     "text": [
      "\u001b[32mProgress: 100%|█████████████████████████████████████████| Time: 0:01:26\u001b[39m\n"
     ]
    },
    {
     "name": "stdout",
     "output_type": "stream",
     "text": [
      "============= configuration 3 / 324 =============\n"
     ]
    },
    {
     "name": "stderr",
     "output_type": "stream",
     "text": [
      "\u001b[32mProgress: 100%|█████████████████████████████████████████| Time: 0:01:36\u001b[39m\n"
     ]
    },
    {
     "name": "stdout",
     "output_type": "stream",
     "text": [
      "============= configuration 4 / 324 =============\n"
     ]
    },
    {
     "name": "stderr",
     "output_type": "stream",
     "text": [
      "\u001b[32mProgress: 100%|█████████████████████████████████████████| Time: 0:01:14\u001b[39m\n"
     ]
    },
    {
     "name": "stdout",
     "output_type": "stream",
     "text": [
      "============= configuration 5 / 324 =============\n"
     ]
    },
    {
     "name": "stderr",
     "output_type": "stream",
     "text": [
      "\u001b[32mProgress: 100%|█████████████████████████████████████████| Time: 0:01:23\u001b[39m\n"
     ]
    },
    {
     "name": "stdout",
     "output_type": "stream",
     "text": [
      "============= configuration 6 / 324 =============\n"
     ]
    },
    {
     "name": "stderr",
     "output_type": "stream",
     "text": [
      "\u001b[32mProgress: 100%|█████████████████████████████████████████| Time: 0:01:37\u001b[39m\n"
     ]
    },
    {
     "name": "stdout",
     "output_type": "stream",
     "text": [
      "============= configuration 7 / 324 =============\n"
     ]
    },
    {
     "name": "stderr",
     "output_type": "stream",
     "text": [
      "\u001b[32mProgress: 100%|█████████████████████████████████████████| Time: 0:01:28\u001b[39m\n"
     ]
    },
    {
     "name": "stdout",
     "output_type": "stream",
     "text": [
      "============= configuration 8 / 324 =============\n"
     ]
    },
    {
     "name": "stderr",
     "output_type": "stream",
     "text": [
      "\u001b[32mProgress: 100%|█████████████████████████████████████████| Time: 0:01:29\u001b[39m\n"
     ]
    },
    {
     "name": "stdout",
     "output_type": "stream",
     "text": [
      "============= configuration 9 / 324 =============\n"
     ]
    },
    {
     "name": "stderr",
     "output_type": "stream",
     "text": [
      "\u001b[32mProgress: 100%|█████████████████████████████████████████| Time: 0:01:36\u001b[39m\n"
     ]
    },
    {
     "name": "stdout",
     "output_type": "stream",
     "text": [
      "============= configuration 10 / 324 =============\n"
     ]
    },
    {
     "name": "stderr",
     "output_type": "stream",
     "text": [
      "\u001b[32mProgress: 100%|█████████████████████████████████████████| Time: 0:01:16\u001b[39m\n"
     ]
    },
    {
     "name": "stdout",
     "output_type": "stream",
     "text": [
      "============= configuration 11 / 324 =============\n"
     ]
    },
    {
     "name": "stderr",
     "output_type": "stream",
     "text": [
      "\u001b[32mProgress: 100%|█████████████████████████████████████████| Time: 0:01:28\u001b[39m\n"
     ]
    },
    {
     "name": "stdout",
     "output_type": "stream",
     "text": [
      "============= configuration 12 / 324 =============\n"
     ]
    },
    {
     "name": "stderr",
     "output_type": "stream",
     "text": [
      "\u001b[32mProgress: 100%|█████████████████████████████████████████| Time: 0:01:30\u001b[39m\n"
     ]
    },
    {
     "name": "stdout",
     "output_type": "stream",
     "text": [
      "============= configuration 13 / 324 =============\n"
     ]
    },
    {
     "name": "stderr",
     "output_type": "stream",
     "text": [
      "\u001b[32mProgress: 100%|█████████████████████████████████████████| Time: 0:01:26\u001b[39m\n"
     ]
    },
    {
     "name": "stdout",
     "output_type": "stream",
     "text": [
      "============= configuration 14 / 324 =============\n"
     ]
    },
    {
     "name": "stderr",
     "output_type": "stream",
     "text": [
      "\u001b[32mProgress: 100%|█████████████████████████████████████████| Time: 0:01:42\u001b[39m\n"
     ]
    },
    {
     "name": "stdout",
     "output_type": "stream",
     "text": [
      "============= configuration 15 / 324 =============\n"
     ]
    },
    {
     "name": "stderr",
     "output_type": "stream",
     "text": [
      "\u001b[32mProgress: 100%|█████████████████████████████████████████| Time: 0:01:44\u001b[39m\n"
     ]
    },
    {
     "name": "stdout",
     "output_type": "stream",
     "text": [
      "============= configuration 16 / 324 =============\n"
     ]
    },
    {
     "name": "stderr",
     "output_type": "stream",
     "text": [
      "\u001b[32mProgress: 100%|█████████████████████████████████████████| Time: 0:01:33\u001b[39m\n"
     ]
    },
    {
     "name": "stdout",
     "output_type": "stream",
     "text": [
      "============= configuration 17 / 324 =============\n"
     ]
    },
    {
     "name": "stderr",
     "output_type": "stream",
     "text": [
      "\u001b[32mProgress: 100%|█████████████████████████████████████████| Time: 0:01:36\u001b[39m\n"
     ]
    },
    {
     "name": "stdout",
     "output_type": "stream",
     "text": [
      "============= configuration 18 / 324 =============\n"
     ]
    },
    {
     "name": "stderr",
     "output_type": "stream",
     "text": [
      "\u001b[32mProgress: 100%|█████████████████████████████████████████| Time: 0:01:42\u001b[39m\n"
     ]
    },
    {
     "name": "stdout",
     "output_type": "stream",
     "text": [
      "============= configuration 19 / 324 =============\n"
     ]
    },
    {
     "name": "stderr",
     "output_type": "stream",
     "text": [
      "\u001b[32mProgress: 100%|█████████████████████████████████████████| Time: 0:01:36\u001b[39m\n"
     ]
    },
    {
     "name": "stdout",
     "output_type": "stream",
     "text": [
      "============= configuration 20 / 324 =============\n"
     ]
    },
    {
     "name": "stderr",
     "output_type": "stream",
     "text": [
      "\u001b[32mProgress: 100%|█████████████████████████████████████████| Time: 0:01:34\u001b[39m\n"
     ]
    },
    {
     "name": "stdout",
     "output_type": "stream",
     "text": [
      "============= configuration 21 / 324 =============\n"
     ]
    },
    {
     "name": "stderr",
     "output_type": "stream",
     "text": [
      "\u001b[32mProgress: 100%|█████████████████████████████████████████| Time: 0:01:36\u001b[39m\n"
     ]
    },
    {
     "name": "stdout",
     "output_type": "stream",
     "text": [
      "============= configuration 22 / 324 =============\n"
     ]
    },
    {
     "name": "stderr",
     "output_type": "stream",
     "text": [
      "\u001b[32mProgress: 100%|█████████████████████████████████████████| Time: 0:01:30\u001b[39m\n"
     ]
    },
    {
     "name": "stdout",
     "output_type": "stream",
     "text": [
      "============= configuration 23 / 324 =============\n"
     ]
    },
    {
     "name": "stderr",
     "output_type": "stream",
     "text": [
      "\u001b[32mProgress: 100%|█████████████████████████████████████████| Time: 0:01:33\u001b[39m\n"
     ]
    },
    {
     "name": "stdout",
     "output_type": "stream",
     "text": [
      "============= configuration 24 / 324 =============\n"
     ]
    },
    {
     "name": "stderr",
     "output_type": "stream",
     "text": [
      "\u001b[32mProgress: 100%|█████████████████████████████████████████| Time: 0:01:33\u001b[39m\n"
     ]
    },
    {
     "name": "stdout",
     "output_type": "stream",
     "text": [
      "============= configuration 25 / 324 =============\n"
     ]
    },
    {
     "name": "stderr",
     "output_type": "stream",
     "text": [
      "\u001b[32mProgress: 100%|█████████████████████████████████████████| Time: 0:01:47\u001b[39m\n"
     ]
    },
    {
     "name": "stdout",
     "output_type": "stream",
     "text": [
      "============= configuration 26 / 324 =============\n"
     ]
    },
    {
     "name": "stderr",
     "output_type": "stream",
     "text": [
      "\u001b[32mProgress: 100%|█████████████████████████████████████████| Time: 0:02:49\u001b[39m\n"
     ]
    },
    {
     "name": "stdout",
     "output_type": "stream",
     "text": [
      "============= configuration 27 / 324 =============\n"
     ]
    },
    {
     "name": "stderr",
     "output_type": "stream",
     "text": [
      "\u001b[32mProgress: 100%|█████████████████████████████████████████| Time: 0:01:48\u001b[39m\n"
     ]
    },
    {
     "name": "stdout",
     "output_type": "stream",
     "text": [
      "============= configuration 28 / 324 =============\n"
     ]
    },
    {
     "name": "stderr",
     "output_type": "stream",
     "text": [
      "\u001b[32mProgress: 100%|█████████████████████████████████████████| Time: 0:01:37\u001b[39m\n"
     ]
    },
    {
     "name": "stdout",
     "output_type": "stream",
     "text": [
      "============= configuration 29 / 324 =============\n"
     ]
    },
    {
     "name": "stderr",
     "output_type": "stream",
     "text": [
      "\u001b[32mProgress: 100%|█████████████████████████████████████████| Time: 0:01:47\u001b[39m\n"
     ]
    },
    {
     "name": "stdout",
     "output_type": "stream",
     "text": [
      "============= configuration 30 / 324 =============\n"
     ]
    },
    {
     "name": "stderr",
     "output_type": "stream",
     "text": [
      "\u001b[32mProgress: 100%|█████████████████████████████████████████| Time: 0:01:54\u001b[39m\n"
     ]
    },
    {
     "name": "stdout",
     "output_type": "stream",
     "text": [
      "============= configuration 31 / 324 =============\n"
     ]
    },
    {
     "name": "stderr",
     "output_type": "stream",
     "text": [
      "\u001b[32mProgress: 100%|█████████████████████████████████████████| Time: 0:02:53\u001b[39m\n"
     ]
    },
    {
     "name": "stdout",
     "output_type": "stream",
     "text": [
      "============= configuration 32 / 324 =============\n"
     ]
    },
    {
     "name": "stderr",
     "output_type": "stream",
     "text": [
      "\u001b[32mProgress: 100%|█████████████████████████████████████████| Time: 0:01:46\u001b[39m\n"
     ]
    },
    {
     "name": "stdout",
     "output_type": "stream",
     "text": [
      "============= configuration 33 / 324 =============\n"
     ]
    },
    {
     "name": "stderr",
     "output_type": "stream",
     "text": [
      "\u001b[32mProgress: 100%|█████████████████████████████████████████| Time: 0:01:50\u001b[39m\n"
     ]
    },
    {
     "name": "stdout",
     "output_type": "stream",
     "text": [
      "============= configuration 34 / 324 =============\n"
     ]
    },
    {
     "name": "stderr",
     "output_type": "stream",
     "text": [
      "\u001b[32mProgress: 100%|█████████████████████████████████████████| Time: 0:01:38\u001b[39m\n"
     ]
    },
    {
     "name": "stdout",
     "output_type": "stream",
     "text": [
      "============= configuration 35 / 324 =============\n"
     ]
    },
    {
     "name": "stderr",
     "output_type": "stream",
     "text": [
      "\u001b[32mProgress: 100%|█████████████████████████████████████████| Time: 0:01:44\u001b[39m\n"
     ]
    },
    {
     "name": "stdout",
     "output_type": "stream",
     "text": [
      "============= configuration 36 / 324 =============\n"
     ]
    },
    {
     "name": "stderr",
     "output_type": "stream",
     "text": [
      "\u001b[32mProgress: 100%|█████████████████████████████████████████| Time: 0:01:52\u001b[39m\n"
     ]
    },
    {
     "name": "stdout",
     "output_type": "stream",
     "text": [
      "============= configuration 37 / 324 =============\n"
     ]
    },
    {
     "name": "stderr",
     "output_type": "stream",
     "text": [
      "\u001b[32mProgress: 100%|█████████████████████████████████████████| Time: 0:01:35\u001b[39m\n"
     ]
    },
    {
     "name": "stdout",
     "output_type": "stream",
     "text": [
      "============= configuration 38 / 324 =============\n"
     ]
    },
    {
     "name": "stderr",
     "output_type": "stream",
     "text": [
      "\u001b[32mProgress: 100%|█████████████████████████████████████████| Time: 0:01:36\u001b[39m\n"
     ]
    },
    {
     "name": "stdout",
     "output_type": "stream",
     "text": [
      "============= configuration 39 / 324 =============\n"
     ]
    },
    {
     "name": "stderr",
     "output_type": "stream",
     "text": [
      "\u001b[32mProgress: 100%|█████████████████████████████████████████| Time: 0:01:42\u001b[39m\n"
     ]
    },
    {
     "name": "stdout",
     "output_type": "stream",
     "text": [
      "============= configuration 40 / 324 =============\n"
     ]
    },
    {
     "name": "stderr",
     "output_type": "stream",
     "text": [
      "\u001b[32mProgress:  70%|█████████████████████████████            |  ETA: 0:00:37\u001b[39m\u001b[91m\u001b[1m┌ \u001b[22m\u001b[39m\u001b[91m\u001b[1mError: \u001b[22m\u001b[39mError watching manifest\n",
      "\u001b[91m\u001b[1m│ \u001b[22m\u001b[39m  exception =\n",
      "\u001b[91m\u001b[1m│ \u001b[22m\u001b[39m   LoadError: UndefVarError: `@reexport` not defined\n",
      "\u001b[91m\u001b[1m│ \u001b[22m\u001b[39m   in expression starting at C:\\Users\\Christian\\.julia\\packages\\StatsFuns\\atA5S\\src\\StatsFuns.jl:8\n",
      "\u001b[91m\u001b[1m└ \u001b[22m\u001b[39m\u001b[90m@ Revise C:\\Users\\Christian\\.julia\\packages\\Revise\\Kw99o\\src\\pkgs.jl:477\u001b[39m\n",
      "\u001b[32mProgress: 100%|█████████████████████████████████████████| Time: 0:01:27\u001b[39m\n"
     ]
    },
    {
     "name": "stdout",
     "output_type": "stream",
     "text": [
      "============= configuration 41 / 324 =============\n"
     ]
    },
    {
     "name": "stderr",
     "output_type": "stream",
     "text": [
      "\u001b[32mProgress: 100%|█████████████████████████████████████████| Time: 0:02:03\u001b[39m\n"
     ]
    },
    {
     "name": "stdout",
     "output_type": "stream",
     "text": [
      "============= configuration 42 / 324 =============\n"
     ]
    },
    {
     "name": "stderr",
     "output_type": "stream",
     "text": [
      "\u001b[32mProgress: 100%|█████████████████████████████████████████| Time: 0:02:50\u001b[39m\n"
     ]
    },
    {
     "name": "stdout",
     "output_type": "stream",
     "text": [
      "============= configuration 43 / 324 =============\n"
     ]
    },
    {
     "name": "stderr",
     "output_type": "stream",
     "text": [
      "\u001b[32mProgress: 100%|█████████████████████████████████████████| Time: 0:02:30\u001b[39m\n"
     ]
    },
    {
     "name": "stdout",
     "output_type": "stream",
     "text": [
      "============= configuration 44 / 324 =============\n"
     ]
    },
    {
     "name": "stderr",
     "output_type": "stream",
     "text": [
      "\u001b[32mProgress: 100%|█████████████████████████████████████████| Time: 0:02:40\u001b[39m\n"
     ]
    },
    {
     "name": "stdout",
     "output_type": "stream",
     "text": [
      "============= configuration 45 / 324 =============\n"
     ]
    },
    {
     "name": "stderr",
     "output_type": "stream",
     "text": [
      "\u001b[32mProgress: 100%|█████████████████████████████████████████| Time: 0:02:48\u001b[39m\n"
     ]
    },
    {
     "name": "stdout",
     "output_type": "stream",
     "text": [
      "============= configuration 46 / 324 =============\n"
     ]
    },
    {
     "name": "stderr",
     "output_type": "stream",
     "text": [
      "\u001b[32mProgress: 100%|█████████████████████████████████████████| Time: 0:02:08\u001b[39m\n"
     ]
    },
    {
     "name": "stdout",
     "output_type": "stream",
     "text": [
      "============= configuration 47 / 324 =============\n"
     ]
    },
    {
     "name": "stderr",
     "output_type": "stream",
     "text": [
      "\u001b[32mProgress: 100%|█████████████████████████████████████████| Time: 0:01:56\u001b[39m\n"
     ]
    },
    {
     "name": "stdout",
     "output_type": "stream",
     "text": [
      "============= configuration 48 / 324 =============\n"
     ]
    },
    {
     "name": "stderr",
     "output_type": "stream",
     "text": [
      "\u001b[32mProgress: 100%|█████████████████████████████████████████| Time: 0:01:51\u001b[39m\n"
     ]
    },
    {
     "name": "stdout",
     "output_type": "stream",
     "text": [
      "============= configuration 49 / 324 =============\n"
     ]
    },
    {
     "name": "stderr",
     "output_type": "stream",
     "text": [
      "\u001b[32mProgress: 100%|█████████████████████████████████████████| Time: 0:01:44\u001b[39m\n"
     ]
    },
    {
     "name": "stdout",
     "output_type": "stream",
     "text": [
      "============= configuration 50 / 324 =============\n"
     ]
    },
    {
     "name": "stderr",
     "output_type": "stream",
     "text": [
      "\u001b[32mProgress: 100%|█████████████████████████████████████████| Time: 0:01:51\u001b[39m\n"
     ]
    },
    {
     "name": "stdout",
     "output_type": "stream",
     "text": [
      "============= configuration 51 / 324 =============\n"
     ]
    },
    {
     "name": "stderr",
     "output_type": "stream",
     "text": [
      "\u001b[32mProgress: 100%|█████████████████████████████████████████| Time: 0:01:56\u001b[39m\n"
     ]
    },
    {
     "name": "stdout",
     "output_type": "stream",
     "text": [
      "============= configuration 52 / 324 =============\n"
     ]
    },
    {
     "name": "stderr",
     "output_type": "stream",
     "text": [
      "\u001b[32mProgress: 100%|█████████████████████████████████████████| Time: 0:01:43\u001b[39m\n"
     ]
    },
    {
     "name": "stdout",
     "output_type": "stream",
     "text": [
      "============= configuration 53 / 324 =============\n"
     ]
    },
    {
     "name": "stderr",
     "output_type": "stream",
     "text": [
      "\u001b[32mProgress: 100%|█████████████████████████████████████████| Time: 0:01:50\u001b[39m\n"
     ]
    },
    {
     "name": "stdout",
     "output_type": "stream",
     "text": [
      "============= configuration 54 / 324 =============\n"
     ]
    },
    {
     "name": "stderr",
     "output_type": "stream",
     "text": [
      "\u001b[32mProgress: 100%|█████████████████████████████████████████| Time: 0:01:52\u001b[39m\n"
     ]
    },
    {
     "name": "stdout",
     "output_type": "stream",
     "text": [
      "============= configuration 55 / 324 =============\n"
     ]
    },
    {
     "name": "stderr",
     "output_type": "stream",
     "text": [
      "\u001b[32mProgress: 100%|█████████████████████████████████████████| Time: 0:01:39\u001b[39m\n"
     ]
    },
    {
     "name": "stdout",
     "output_type": "stream",
     "text": [
      "============= configuration 56 / 324 =============\n"
     ]
    },
    {
     "name": "stderr",
     "output_type": "stream",
     "text": [
      "\u001b[32mProgress: 100%|█████████████████████████████████████████| Time: 0:01:44\u001b[39m\n"
     ]
    },
    {
     "name": "stdout",
     "output_type": "stream",
     "text": [
      "============= configuration 57 / 324 =============\n"
     ]
    },
    {
     "name": "stderr",
     "output_type": "stream",
     "text": [
      "\u001b[32mProgress: 100%|█████████████████████████████████████████| Time: 0:01:42\u001b[39m\n"
     ]
    },
    {
     "name": "stdout",
     "output_type": "stream",
     "text": [
      "============= configuration 58 / 324 =============\n"
     ]
    },
    {
     "name": "stderr",
     "output_type": "stream",
     "text": [
      "\u001b[32mProgress: 100%|█████████████████████████████████████████| Time: 0:01:34\u001b[39m\n"
     ]
    },
    {
     "name": "stdout",
     "output_type": "stream",
     "text": [
      "============= configuration 59 / 324 =============\n"
     ]
    },
    {
     "name": "stderr",
     "output_type": "stream",
     "text": [
      "\u001b[32mProgress: 100%|█████████████████████████████████████████| Time: 0:01:45\u001b[39m\n"
     ]
    },
    {
     "name": "stdout",
     "output_type": "stream",
     "text": [
      "============= configuration 60 / 324 =============\n"
     ]
    },
    {
     "name": "stderr",
     "output_type": "stream",
     "text": [
      "\u001b[32mProgress: 100%|█████████████████████████████████████████| Time: 0:01:44\u001b[39m\n"
     ]
    },
    {
     "name": "stdout",
     "output_type": "stream",
     "text": [
      "============= configuration 61 / 324 =============\n"
     ]
    },
    {
     "name": "stderr",
     "output_type": "stream",
     "text": [
      "\u001b[32mProgress: 100%|█████████████████████████████████████████| Time: 0:01:48\u001b[39m\n"
     ]
    },
    {
     "name": "stdout",
     "output_type": "stream",
     "text": [
      "============= configuration 62 / 324 =============\n"
     ]
    },
    {
     "name": "stderr",
     "output_type": "stream",
     "text": [
      "\u001b[32mProgress: 100%|█████████████████████████████████████████| Time: 0:01:56\u001b[39m\n"
     ]
    },
    {
     "name": "stdout",
     "output_type": "stream",
     "text": [
      "============= configuration 63 / 324 =============\n"
     ]
    },
    {
     "name": "stderr",
     "output_type": "stream",
     "text": [
      "\u001b[32mProgress: 100%|█████████████████████████████████████████| Time: 0:01:52\u001b[39m\n"
     ]
    },
    {
     "name": "stdout",
     "output_type": "stream",
     "text": [
      "============= configuration 64 / 324 =============\n"
     ]
    },
    {
     "name": "stderr",
     "output_type": "stream",
     "text": [
      "\u001b[32mProgress: 100%|█████████████████████████████████████████| Time: 0:01:49\u001b[39m\n"
     ]
    },
    {
     "name": "stdout",
     "output_type": "stream",
     "text": [
      "============= configuration 65 / 324 =============\n"
     ]
    },
    {
     "name": "stderr",
     "output_type": "stream",
     "text": [
      "\u001b[32mProgress: 100%|█████████████████████████████████████████| Time: 0:01:52\u001b[39m\n"
     ]
    },
    {
     "name": "stdout",
     "output_type": "stream",
     "text": [
      "============= configuration 66 / 324 =============\n"
     ]
    },
    {
     "name": "stderr",
     "output_type": "stream",
     "text": [
      "\u001b[32mProgress: 100%|█████████████████████████████████████████| Time: 0:02:00\u001b[39m\n"
     ]
    },
    {
     "name": "stdout",
     "output_type": "stream",
     "text": [
      "============= configuration 67 / 324 =============\n"
     ]
    },
    {
     "name": "stderr",
     "output_type": "stream",
     "text": [
      "\u001b[32mProgress:  25%|███████████                              |  ETA: 0:04:54\u001b[39m\u001b[91m\u001b[1m┌ \u001b[22m\u001b[39m\u001b[91m\u001b[1mError: \u001b[22m\u001b[39mError watching manifest\n",
      "\u001b[91m\u001b[1m│ \u001b[22m\u001b[39m  exception =\n",
      "\u001b[91m\u001b[1m│ \u001b[22m\u001b[39m   LoadError: UndefVarError: `@reexport` not defined\n",
      "\u001b[91m\u001b[1m│ \u001b[22m\u001b[39m   in expression starting at C:\\Users\\Christian\\.julia\\packages\\StatsFuns\\atA5S\\src\\StatsFuns.jl:8\n",
      "\u001b[91m\u001b[1m└ \u001b[22m\u001b[39m\u001b[90m@ Revise C:\\Users\\Christian\\.julia\\packages\\Revise\\Kw99o\\src\\pkgs.jl:477\u001b[39m\n",
      "\u001b[32mProgress: 100%|█████████████████████████████████████████| Time: 0:01:44\u001b[39m\n"
     ]
    },
    {
     "name": "stdout",
     "output_type": "stream",
     "text": [
      "============= configuration 68 / 324 =============\n"
     ]
    },
    {
     "name": "stderr",
     "output_type": "stream",
     "text": [
      "\u001b[32mProgress: 100%|█████████████████████████████████████████| Time: 0:01:54\u001b[39m\n"
     ]
    },
    {
     "name": "stdout",
     "output_type": "stream",
     "text": [
      "============= configuration 69 / 324 =============\n"
     ]
    },
    {
     "name": "stderr",
     "output_type": "stream",
     "text": [
      "\u001b[32mProgress: 100%|█████████████████████████████████████████| Time: 0:02:04\u001b[39m\n"
     ]
    },
    {
     "name": "stdout",
     "output_type": "stream",
     "text": [
      "============= configuration 70 / 324 =============\n"
     ]
    },
    {
     "name": "stderr",
     "output_type": "stream",
     "text": [
      "\u001b[32mProgress: 100%|█████████████████████████████████████████| Time: 0:01:53\u001b[39m\n"
     ]
    },
    {
     "name": "stdout",
     "output_type": "stream",
     "text": [
      "============= configuration 71 / 324 =============\n"
     ]
    },
    {
     "name": "stderr",
     "output_type": "stream",
     "text": [
      "\u001b[32mProgress: 100%|█████████████████████████████████████████| Time: 0:01:53\u001b[39m\n"
     ]
    }
   ],
   "source": [
    "while scan_counter < n_scans\n",
    "    @printf(\"============= configuration %i / %i =============\", scan_counter+1, n_scans)\n",
    "    println()\n",
    "    \n",
    "    pol1_x = pol1_x_list[indicies[1]]\n",
    "    pol2_x = pol2_x_list[indicies[2]]\n",
    "    pol3_x = pol3_x_list[indicies[3]]\n",
    "    pol4_x = pol4_x_list[indicies[4]]\n",
    "    s1 = s1_list[indicies[5]]\n",
    "    s2 = s2_list[indicies[6]]\n",
    "    s3 = s3_list[indicies[7]]\n",
    "    s4 = s4_list[indicies[8]]\n",
    "    Δ1 = Δ1_list[indicies[9]]\n",
    "    Δ2 = Δ2_list[indicies[10]]\n",
    "    Δ3 = Δ3_list[indicies[11]]\n",
    "    Δ4 = Δ4_list[indicies[12]]\n",
    "    \n",
    "    params = MutableNamedTuple(t_end = t_end, n_values = n_values,\n",
    "                            pol1_x=pol1_x, pol2_x=pol2_x, pol3_x=pol3_x, pol4_x=pol4_x, \n",
    "                            s1=s1, s2=s2, s3=s3, s4=s4,\n",
    "                            Δ1=Δ1, Δ2=Δ2, Δ3=Δ3, Δ4=Δ4, \n",
    "                            B_gradient = B_gradient, \n",
    "                            temp=temp, diameter=diameter, \n",
    "                            displacement=displacement, kick=kick,\n",
    "                            ramp_time = ramp_time)\n",
    "\n",
    "    test_i = log_test_info(saving_dir,1,params)\n",
    "    \n",
    "    results = simulate_particles(package, params, params.n_values);\n",
    "\n",
    "    save_results(saving_dir, test_i, results)\n",
    "    \n",
    "    scan_counter += 1 \n",
    "    next_configuration!(lists, indicies)\n",
    "    \n",
    "end\n",
    ";"
   ]
  },
  {
   "cell_type": "code",
   "execution_count": null,
   "id": "0bd27fc5-9ad6-4246-8cb6-83e913bc3cc5",
   "metadata": {},
   "outputs": [],
   "source": []
  }
 ],
 "metadata": {
  "kernelspec": {
   "display_name": "Julia (20 threads) 1.9.2",
   "language": "julia",
   "name": "julia-_20-threads_-1.9"
  },
  "language_info": {
   "file_extension": ".jl",
   "mimetype": "application/julia",
   "name": "julia",
   "version": "1.9.2"
  }
 },
 "nbformat": 4,
 "nbformat_minor": 5
}
