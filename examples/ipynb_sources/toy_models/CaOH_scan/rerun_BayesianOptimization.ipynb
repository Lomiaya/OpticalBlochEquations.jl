{
 "cells": [
  {
   "cell_type": "code",
   "execution_count": 1,
   "id": "26c9fdc9-ecfd-4d8a-99dc-da1c3856f87a",
   "metadata": {},
   "outputs": [
    {
     "name": "stderr",
     "output_type": "stream",
     "text": [
      "WARNING: Method definition Zeeman_x(Any, Any) in module Main at C:\\Google Drive\\github\\OpticalBlochEquations\\examples\\ipynb_sources\\toy_models\\CaOH_scan\\CaOH_scan_helper_v2.jl:62 overwritten at C:\\Google Drive\\github\\OpticalBlochEquations\\examples\\ipynb_sources\\toy_models\\CaOH_scan\\CaOH_scan_helper_v2.jl:135.\n",
      "WARNING: Method definition Zeeman_y(Any, Any) in module Main at C:\\Google Drive\\github\\OpticalBlochEquations\\examples\\ipynb_sources\\toy_models\\CaOH_scan\\CaOH_scan_helper_v2.jl:63 overwritten at C:\\Google Drive\\github\\OpticalBlochEquations\\examples\\ipynb_sources\\toy_models\\CaOH_scan\\CaOH_scan_helper_v2.jl:136.\n",
      "WARNING: Method definition Zeeman_z(Any, Any) in module Main at C:\\Google Drive\\github\\OpticalBlochEquations\\examples\\ipynb_sources\\toy_models\\CaOH_scan\\CaOH_scan_helper_v2.jl:64 overwritten at C:\\Google Drive\\github\\OpticalBlochEquations\\examples\\ipynb_sources\\toy_models\\CaOH_scan\\CaOH_scan_helper_v2.jl:137.\n"
     ]
    }
   ],
   "source": [
    "using\n",
    "    QuantumStates,\n",
    "    OpticalBlochEquations,\n",
    "    DifferentialEquations,\n",
    "    UnitsToValue,\n",
    "    LinearAlgebra,\n",
    "    Printf,\n",
    "    Plots,\n",
    "    Random,\n",
    "    StatsBase\n",
    ";\n",
    "\n",
    "using Distributions\n",
    "\n",
    "import MutableNamedTuples: MutableNamedTuple\n",
    "import StructArrays: StructArray, StructVector\n",
    "import StaticArrays: @SVector, SVector\n",
    "import LinearAlgebra: norm, ⋅, adjoint!, diag\n",
    "import LoopVectorization: @turbo\n",
    "using BenchmarkTools\n",
    "using Parameters\n",
    "using LsqFit\n",
    "\n",
    "import ProgressMeter: Progress, next!\n",
    "\n",
    "const λ = 626e-9\n",
    "const Γ = 2π* 6.4e6\n",
    "const m = @with_unit 57 \"u\"\n",
    "const k = 2π / λ\n",
    "_μB = (μ_B / h) * 1e-4;\n",
    "\n",
    "include(\"CaOH_scan_helper_v2.jl\")\n",
    "working_dir = \"C:\\\\Google Drive\\\\github\\\\OpticalBlochEquations\\\\examples\\\\ipynb_sources\\\\toy_models\\\\CaOH_scan\\\\scan_3frequencies\"\n",
    ";"
   ]
  },
  {
   "cell_type": "code",
   "execution_count": 2,
   "id": "8c495341-97d2-4578-87eb-5ad309c3dd39",
   "metadata": {},
   "outputs": [],
   "source": [
    "\"\"\"\n",
    "    Function to optimize (density).\n",
    "\"\"\"\n",
    "function f(x)\n",
    "    s1 = x[1]\n",
    "    s3 = x[2]\n",
    "    s4 = x[3]\n",
    "    Δ1 = x[4]*Γ\n",
    "    Δ3 = x[5]*Γ\n",
    "    Δ4 = x[6]*Γ\n",
    "    \n",
    "    temp = @with_unit 0.5 \"mK\"\n",
    "    diameter = @with_unit 0.6 \"mm\"\n",
    "    displacement = [0.0, 0.0, 0.0]\n",
    "    kick = [0,0, 0.0, 0.0]\n",
    "    \n",
    "    params = MutableNamedTuple(\n",
    "        t_end = 30e-3, n_values = 100,\n",
    "        pol1_x=σ⁻, pol2_x=σ⁺, pol3_x=σ⁻, pol4_x=σ⁺, \n",
    "        s1=s1, s2=0.0, s3=s3, s4=s4,\n",
    "        Δ1=Δ1, Δ2=0.0, Δ3=Δ3, Δ4=Δ4,\n",
    "        B_gradient=100,\n",
    "        temp=temp, \n",
    "        diameter=diameter,\n",
    "        displacement=displacement, \n",
    "        kick=kick,\n",
    "        ramp_time=5e-3)\n",
    "    \n",
    "    results = simulate_particles_v2(package, params)\n",
    "    \n",
    "    return results\n",
    "end\n",
    ";"
   ]
  },
  {
   "cell_type": "code",
   "execution_count": 3,
   "id": "36a2e516-382d-45f7-9bf5-499fce934d4b",
   "metadata": {},
   "outputs": [
    {
     "name": "stderr",
     "output_type": "stream",
     "text": [
      "WARNING: using BayesianOptimization.Progress in module Main conflicts with an existing identifier.\n",
      "\u001b[33m\u001b[1m┌ \u001b[22m\u001b[39m\u001b[33m\u001b[1mWarning: \u001b[22m\u001b[39muse values(kwargs) and keys(kwargs) instead of kwargs.data and kwargs.itr\n",
      "\u001b[33m\u001b[1m│ \u001b[22m\u001b[39m  caller = #MAPGPOptimizer#19 at gp.jl:37 [inlined]\n",
      "\u001b[33m\u001b[1m└ \u001b[22m\u001b[39m\u001b[90m@ Core C:\\Users\\Christian\\.julia\\packages\\BayesianOptimization\\nq1HY\\src\\models\\gp.jl:37\u001b[39m\n"
     ]
    }
   ],
   "source": [
    "using BayesianOptimization, GaussianProcesses\n",
    "\n",
    "model = ElasticGPE(6,                            # 6 input dimensions\n",
    "                   mean = MeanConst(1.),         \n",
    "                   kernel = SEArd([0.1, 0.1, 0.1, 0.1, 0.1, 0.1], 5.),\n",
    "                   logNoise = 0.,\n",
    "                   capacity = 3000)              # the initial capacity of the GP is 3000 samples\n",
    "set_priors!(model.mean, [Normal(1, 1)])\n",
    "\n",
    "# Optimize the hyperparameters of the GP using maximum a posteriori (MAP) estimates every x steps\n",
    "modeloptimizer = MAPGPOptimizer(\n",
    "    every = 1, \n",
    "    noisebounds = [-3, 3], # bounds of the logNoise\n",
    "    kernbounds = [[-3, -3, -3, -3, -3, -3, -5], [3, 3, 3, 3, 3, 3, 5]],  # bounds of the parameters GaussianProcesses.get_param_names(model.kernel)\n",
    "    maxeval = 1000)\n",
    "\n",
    "opt = BOpt(f,\n",
    "           model,\n",
    "           UpperConfidenceBound(),                   # type of acquisition\n",
    "           modeloptimizer,                        \n",
    "           [0.0, 0.0, 0.0, +0.0, -2.0, +0.0],        # lowerbounds\n",
    "           [5.0, 0.3, 0.3, +4.0, +0.0, +2.0],        # upperbounds         \n",
    "           repetitions = 1,                          # evaluate the function for each input x times\n",
    "           maxiterations = 2000,                       # evaluate at x input positions\n",
    "           sense = Max,                              # maximize the function\n",
    "           acquisitionoptions = (method = :LD_LBFGS, # run optimization of acquisition function with NLopts :LD_LBFGS method\n",
    "                                 restarts = 5,       # run the NLopt method from x random initial conditions each time\n",
    "                                 maxtime = 1.0,      # run the NLopt method for at most 1.0 second each time\n",
    "                                 maxeval = 1000),    # run the NLopt methods for at most 1000 iterations (for other options see https://github.com/JuliaOpt/NLopt.jl)\n",
    "           verbosity = BayesianOptimization.Progress)\n",
    ";"
   ]
  },
  {
   "cell_type": "code",
   "execution_count": 10,
   "id": "be2d8e19-fe10-4c16-8e1c-dcc3823217d7",
   "metadata": {},
   "outputs": [],
   "source": [
    "package = get_CaOH_package()\n",
    "n_states = length(package.states)\n",
    "n_excited = package.n_excited\n",
    ";"
   ]
  },
  {
   "cell_type": "code",
   "execution_count": 7,
   "id": "e27787e9-f7e5-4cc0-92df-74404a8516e0",
   "metadata": {},
   "outputs": [],
   "source": [
    "using Serialization\n",
    "opt_saved = deserialize(\"bayesian_optimization_save_2nd.jl\")\n",
    ";"
   ]
  },
  {
   "cell_type": "code",
   "execution_count": 8,
   "id": "98672da9-75e7-4033-813b-bccab32ddd75",
   "metadata": {},
   "outputs": [],
   "source": [
    "opt.model = opt_saved.model\n",
    "opt.lowerbounds = opt_saved.lowerbounds\n",
    "opt.upperbounds = opt_saved.upperbounds\n",
    "opt.observed_optimizer = opt_saved.observed_optimizer\n",
    "opt.model_optimizer = opt_saved.model_optimizer\n",
    "opt.observed_optimum = opt_saved.observed_optimum\n",
    "opt.model_optimum = opt_saved.model_optimum\n",
    ";"
   ]
  },
  {
   "cell_type": "code",
   "execution_count": 11,
   "id": "ceaaaa71-33ae-4504-9851-93eeb3ccb699",
   "metadata": {},
   "outputs": [
    {
     "name": "stderr",
     "output_type": "stream",
     "text": [
      "\u001b[32mProgress: 100%|█████████████████████████████████████████| Time: 0:09:24\u001b[39m\n"
     ]
    },
    {
     "ename": "LoadError",
     "evalue": "MethodError: no method matching *(::Int64, ::MutableNamedTuple{(:x_trajectories, :y_trajectories, :z_trajectories, :x_velocities, :y_velocities, :z_velocities, :times, :A_populations, :n_values, :photons_scattered), Tuple{Base.RefValue{Vector{Vector{Float64}}}, Base.RefValue{Vector{Vector{Float64}}}, Base.RefValue{Vector{Vector{Float64}}}, Base.RefValue{Vector{Vector{Float64}}}, Base.RefValue{Vector{Vector{Float64}}}, Base.RefValue{Vector{Vector{Float64}}}, Base.RefValue{Vector{Vector{Float64}}}, Base.RefValue{Vector{Vector{Float64}}}, Base.RefValue{Int64}, Base.RefValue{Vector{Float64}}}})\n\n\u001b[0mClosest candidates are:\n\u001b[0m  *(::Any, ::Any, \u001b[91m::Any\u001b[39m, \u001b[91m::Any...\u001b[39m)\n\u001b[0m\u001b[90m   @\u001b[39m \u001b[90mBase\u001b[39m \u001b[90m\u001b[4moperators.jl:578\u001b[24m\u001b[39m\n\u001b[0m  *(::T, \u001b[91m::T\u001b[39m) where T<:Union{Int128, Int16, Int32, Int64, Int8, UInt128, UInt16, UInt32, UInt64, UInt8}\n\u001b[0m\u001b[90m   @\u001b[39m \u001b[90mBase\u001b[39m \u001b[90m\u001b[4mint.jl:88\u001b[24m\u001b[39m\n\u001b[0m  *(::Union{Bool, Float16, Float32, Float64, Int16, Int32, Int64, Int8, UInt16, UInt32, UInt64, UInt8, SIMDTypes.Bit}, \u001b[91m::VectorizationBase.MM\u001b[39m)\n\u001b[0m\u001b[90m   @\u001b[39m \u001b[33mVectorizationBase\u001b[39m \u001b[90mC:\\Users\\Christian\\.julia\\packages\\VectorizationBase\\0dXyA\\src\\\u001b[39m\u001b[90m\u001b[4mbase_defs.jl:171\u001b[24m\u001b[39m\n\u001b[0m  ...\n",
     "output_type": "error",
     "traceback": [
      "MethodError: no method matching *(::Int64, ::MutableNamedTuple{(:x_trajectories, :y_trajectories, :z_trajectories, :x_velocities, :y_velocities, :z_velocities, :times, :A_populations, :n_values, :photons_scattered), Tuple{Base.RefValue{Vector{Vector{Float64}}}, Base.RefValue{Vector{Vector{Float64}}}, Base.RefValue{Vector{Vector{Float64}}}, Base.RefValue{Vector{Vector{Float64}}}, Base.RefValue{Vector{Vector{Float64}}}, Base.RefValue{Vector{Vector{Float64}}}, Base.RefValue{Vector{Vector{Float64}}}, Base.RefValue{Vector{Vector{Float64}}}, Base.RefValue{Int64}, Base.RefValue{Vector{Float64}}}})\n\n\u001b[0mClosest candidates are:\n\u001b[0m  *(::Any, ::Any, \u001b[91m::Any\u001b[39m, \u001b[91m::Any...\u001b[39m)\n\u001b[0m\u001b[90m   @\u001b[39m \u001b[90mBase\u001b[39m \u001b[90m\u001b[4moperators.jl:578\u001b[24m\u001b[39m\n\u001b[0m  *(::T, \u001b[91m::T\u001b[39m) where T<:Union{Int128, Int16, Int32, Int64, Int8, UInt128, UInt16, UInt32, UInt64, UInt8}\n\u001b[0m\u001b[90m   @\u001b[39m \u001b[90mBase\u001b[39m \u001b[90m\u001b[4mint.jl:88\u001b[24m\u001b[39m\n\u001b[0m  *(::Union{Bool, Float16, Float32, Float64, Int16, Int32, Int64, Int8, UInt16, UInt32, UInt64, UInt8, SIMDTypes.Bit}, \u001b[91m::VectorizationBase.MM\u001b[39m)\n\u001b[0m\u001b[90m   @\u001b[39m \u001b[33mVectorizationBase\u001b[39m \u001b[90mC:\\Users\\Christian\\.julia\\packages\\VectorizationBase\\0dXyA\\src\\\u001b[39m\u001b[90m\u001b[4mbase_defs.jl:171\u001b[24m\u001b[39m\n\u001b[0m  ...\n",
      "",
      "Stacktrace:",
      " [1] macro expansion",
      "   @ C:\\Users\\Christian\\.julia\\packages\\TimerOutputs\\RsWnF\\src\\TimerOutput.jl:237 [inlined]",
      " [2] _evaluate_function(o::BOpt{typeof(f), GPE{ElasticArrays.ElasticMatrix{Float64, Vector{Float64}}, ElasticArrays.ElasticVector{Float64, Vector{Float64}}, MeanConst, SEArd{Float64}, GaussianProcesses.ElasticCovStrat, GaussianProcesses.StationaryARDData{ElasticPDMats.AllElasticArray{Float64, 3}}, ElasticPDMats.ElasticPDMat{Float64, Matrix{Float64}}, GaussianProcesses.Scalar{Float64}}, UpperConfidenceBound{BrochuBetaScaling}, NamedTuple{(:method, :restarts, :maxeval, :maxtime), Tuple{Symbol, Int64, Int64, Float64}}, MAPGPOptimizer{NamedTuple{(:domean, :kern, :noise, :lik, :meanbounds, :kernbounds, :noisebounds, :likbounds, :method, :maxeval), Tuple{Bool, Bool, Bool, Bool, Nothing, Vector{Vector{Int64}}, Vector{Int64}, Nothing, Symbol, Int64}}}, ScaledSobolIterator{Float64, 6}}, x::Vector{Float64})",
      "   @ BayesianOptimization C:\\Users\\Christian\\.julia\\packages\\BayesianOptimization\\nq1HY\\src\\BayesianOptimization.jl:160",
      " [3] initialise_model!(o::BOpt{typeof(f), GPE{ElasticArrays.ElasticMatrix{Float64, Vector{Float64}}, ElasticArrays.ElasticVector{Float64, Vector{Float64}}, MeanConst, SEArd{Float64}, GaussianProcesses.ElasticCovStrat, GaussianProcesses.StationaryARDData{ElasticPDMats.AllElasticArray{Float64, 3}}, ElasticPDMats.ElasticPDMat{Float64, Matrix{Float64}}, GaussianProcesses.Scalar{Float64}}, UpperConfidenceBound{BrochuBetaScaling}, NamedTuple{(:method, :restarts, :maxeval, :maxtime), Tuple{Symbol, Int64, Int64, Float64}}, MAPGPOptimizer{NamedTuple{(:domean, :kern, :noise, :lik, :meanbounds, :kernbounds, :noisebounds, :likbounds, :method, :maxeval), Tuple{Bool, Bool, Bool, Bool, Nothing, Vector{Vector{Int64}}, Vector{Int64}, Nothing, Symbol, Int64}}}, ScaledSobolIterator{Float64, 6}})",
      "   @ BayesianOptimization C:\\Users\\Christian\\.julia\\packages\\BayesianOptimization\\nq1HY\\src\\BayesianOptimization.jl:123",
      " [4] boptimize!(o::BOpt{typeof(f), GPE{ElasticArrays.ElasticMatrix{Float64, Vector{Float64}}, ElasticArrays.ElasticVector{Float64, Vector{Float64}}, MeanConst, SEArd{Float64}, GaussianProcesses.ElasticCovStrat, GaussianProcesses.StationaryARDData{ElasticPDMats.AllElasticArray{Float64, 3}}, ElasticPDMats.ElasticPDMat{Float64, Matrix{Float64}}, GaussianProcesses.Scalar{Float64}}, UpperConfidenceBound{BrochuBetaScaling}, NamedTuple{(:method, :restarts, :maxeval, :maxtime), Tuple{Symbol, Int64, Int64, Float64}}, MAPGPOptimizer{NamedTuple{(:domean, :kern, :noise, :lik, :meanbounds, :kernbounds, :noisebounds, :likbounds, :method, :maxeval), Tuple{Bool, Bool, Bool, Bool, Nothing, Vector{Vector{Int64}}, Vector{Int64}, Nothing, Symbol, Int64}}}, ScaledSobolIterator{Float64, 6}})",
      "   @ BayesianOptimization C:\\Users\\Christian\\.julia\\packages\\BayesianOptimization\\nq1HY\\src\\BayesianOptimization.jl:138",
      " [5] top-level scope",
      "   @ In[11]:2"
     ]
    }
   ],
   "source": [
    "maxiterations!(opt, 1)\n",
    "boptimize!(opt)"
   ]
  },
  {
   "cell_type": "code",
   "execution_count": null,
   "id": "3b36c047-4733-4d92-9367-6ba136c8d7f9",
   "metadata": {},
   "outputs": [],
   "source": []
  }
 ],
 "metadata": {
  "kernelspec": {
   "display_name": "Julia (20 threads) 1.9.3",
   "language": "julia",
   "name": "julia-_20-threads_-1.9"
  },
  "language_info": {
   "file_extension": ".jl",
   "mimetype": "application/julia",
   "name": "julia",
   "version": "1.9.3"
  }
 },
 "nbformat": 4,
 "nbformat_minor": 5
}
