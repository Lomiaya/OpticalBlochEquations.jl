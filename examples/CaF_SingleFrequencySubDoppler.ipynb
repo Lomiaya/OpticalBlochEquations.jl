{
 "cells": [
  {
   "cell_type": "code",
   "execution_count": 3,
   "metadata": {},
   "outputs": [],
   "source": [
    "using Revise"
   ]
  },
  {
   "cell_type": "code",
   "execution_count": 4,
   "metadata": {},
   "outputs": [],
   "source": [
    "using OpticalBlochEquations, QuantumStates"
   ]
  },
  {
   "cell_type": "code",
   "execution_count": 5,
   "metadata": {},
   "outputs": [],
   "source": [
    "using HalfIntegers"
   ]
  },
  {
   "cell_type": "code",
   "execution_count": 611,
   "metadata": {},
   "outputs": [],
   "source": [
    "using Plots\n",
    "using BenchmarkTools\n",
    "using DifferentialEquations"
   ]
  },
  {
   "cell_type": "code",
   "execution_count": 7,
   "metadata": {},
   "outputs": [],
   "source": [
    "using Parameters, LinearAlgebra\n",
    "import WignerSymbols: wigner3j, wigner6j"
   ]
  },
  {
   "cell_type": "markdown",
   "metadata": {},
   "source": [
    "### Construct ${}^2 \\Pi_{1/2}A(J' = 1/2, e)$ state (Hund's case (a))"
   ]
  },
  {
   "cell_type": "code",
   "execution_count": 8,
   "metadata": {},
   "outputs": [],
   "source": [
    "# Spectroscopic constants for CaF, A state\n",
    "BeA = 10456.2\n",
    "AsoA = 2.1414e6\n",
    "b00A = -4.8\n",
    "p = -1334.6\n",
    "q = -8.742\n",
    ";"
   ]
  },
  {
   "cell_type": "code",
   "execution_count": 9,
   "metadata": {},
   "outputs": [],
   "source": [
    "η = (S = 1//2, I = 1//2, Λ = 1, Σ = -1//2, Ω = 1//2, J = 1//2, F = 1, M = 0)\n",
    "QN_bounds = (Ω = (-1//2, 1//2),)\n",
    "\n",
    "HundsCaseA(; η...)\n",
    "states1 = enumerate_states(η, HundsCaseA, QN_bounds)\n",
    "\n",
    "η = (S = 1//2, I = 1//2, Λ = -1, Σ = 1//2, Ω = -1//2, J = 1//2, F = 1, M = 0)\n",
    "QN_bounds = (Ω = (-1//2, 1//2),)\n",
    "\n",
    "HundsCaseA(; η...)\n",
    "states2 = enumerate_states(η, HundsCaseA, QN_bounds)\n",
    "\n",
    "states = [states1; states2]\n",
    "states = [state for state in states if state.J == 1//2]\n",
    "\n",
    "n_states = length(states)\n",
    "states = States(basis=states)\n",
    ";"
   ]
  },
  {
   "cell_type": "code",
   "execution_count": 10,
   "metadata": {},
   "outputs": [],
   "source": [
    "H0 = zeros(Float64, length(states.basis), length(states.basis))\n",
    "for (i, state) in enumerate(states.basis)\n",
    "    for (j, state′) in enumerate(states.basis)\n",
    "        H0[i,j] += \n",
    "            BeA * Rotation(state, state′) + \n",
    "            AsoA * SpinOrbit(state, state′) + \n",
    "            b00A * (-Hyperfine_IL(state, state′) + Hyperfine_IF(state, state′))\n",
    "    end\n",
    "end;"
   ]
  },
  {
   "cell_type": "code",
   "execution_count": 11,
   "metadata": {},
   "outputs": [],
   "source": [
    "function Λ_Doubling(state::HundsCaseA_Parity, state′::HundsCaseA_Parity)\n",
    "    S, I, Λ, Σ, Ω, P, J, F, M = \n",
    "        state.S, state.I, state.Λ, state.Σ, state.Ω, state.P, state.J, state.F, state.M\n",
    "    S′, I′, Λ′, Σ′, Ω′, P′, J′, F′, M′ = \n",
    "        state′.S, state′.I, state′.Λ, state′.Σ, state′.Ω, state′.P, state′.J, state′.F, state′.M\n",
    "    \n",
    "    if Ω == 1//2\n",
    "        doubling = -P * (-1)^(J - S) * (J + 1/2) / 2\n",
    "    else\n",
    "        doubling = 0\n",
    "    end\n",
    "    \n",
    "    return doubling * \n",
    "        δ(S, S′) * δ(I, I′) * δ(J, J′) * δ(F, F′) * δ(M, M′) * δ(Ω, Ω′) * δ(Σ, Σ′) * δ(Λ, Λ′) * δ(P, P′)\n",
    "end;"
   ]
  },
  {
   "cell_type": "code",
   "execution_count": 12,
   "metadata": {},
   "outputs": [],
   "source": [
    "η = (S = 1//2, I = 1//2, Λ = 1, Σ = 1//2, Ω = 1//2, P = 1, J = 1//2, F = 1, M = 0)\n",
    "QN_bounds = (P = (-1, 1),)\n",
    "\n",
    "HundsCaseA_Parity(; η...)\n",
    "parity_states = enumerate_states(η, HundsCaseA_Parity, QN_bounds)\n",
    "parity_states = [state for state in parity_states if state.J == 1//2 && state.P == 1]\n",
    ";"
   ]
  },
  {
   "cell_type": "code",
   "execution_count": 13,
   "metadata": {},
   "outputs": [],
   "source": [
    "# H_LD = zeros(Float64, length(parity_states.basis), length(parity_states.basis))\n",
    "# for (i, state) in enumerate(parity_states.basis)\n",
    "#     for (j, state′) in enumerate(parity_states.basis)\n",
    "#         H_LD[i,j] += p * Λ_Doubling(state, state′)\n",
    "#     end\n",
    "# end\n",
    "# H_LD = parity_states.states' * H_LD * parity_states.states\n",
    "\n",
    "# H_A = H0 + H_LD\n",
    "# ;"
   ]
  },
  {
   "cell_type": "code",
   "execution_count": 14,
   "metadata": {},
   "outputs": [],
   "source": [
    "states_A = States(basis=parity_states)\n",
    "states_A = convert_basis(states_A, states.basis, overlap)\n",
    ";"
   ]
  },
  {
   "cell_type": "markdown",
   "metadata": {},
   "source": [
    "### Construct the $N = 1$ state (Hund's case (b))"
   ]
  },
  {
   "cell_type": "code",
   "execution_count": 15,
   "metadata": {},
   "outputs": [],
   "source": [
    "BeX = 10267.3963\n",
    "γSRX = 39.498076\n",
    "b00X = 108.475273\n",
    "c00X = 40.6471\n",
    ";"
   ]
  },
  {
   "cell_type": "code",
   "execution_count": 16,
   "metadata": {},
   "outputs": [],
   "source": [
    "η = (S = 1//2, I = 1//2, Λ = 0, N = 1, J = 1//2, F = 1, M = 0)\n",
    "QN_bounds = (N = (0,2),)\n",
    "\n",
    "states_X = enumerate_states(η, HundsCaseB, QN_bounds)\n",
    "states_X = States(basis=states_X)\n",
    ";"
   ]
  },
  {
   "cell_type": "code",
   "execution_count": 17,
   "metadata": {},
   "outputs": [],
   "source": [
    "H0 = zeros(Float64, length(states_X.basis), length(states_X.basis))\n",
    "H_IK = deepcopy(H0)\n",
    "H_SK = deepcopy(H0)\n",
    "H_diag = BeX * Rotation + γSRX * SpinRotation + b00X * Hyperfine_IS\n",
    "for (i, state) in enumerate(states_X.basis)\n",
    "    for (j, state′) in enumerate(states_X.basis)\n",
    "        H0[i,j] = H_diag(state, state′)\n",
    "        H_IK[i,j] = Hyperfine_IK(state, state′)\n",
    "        H_SK[i,j] = Hyperfine_SK(state, state′)\n",
    "    end\n",
    "end\n",
    "H0 .+= c00X * H_IK * H_SK;"
   ]
  },
  {
   "cell_type": "code",
   "execution_count": 18,
   "metadata": {},
   "outputs": [],
   "source": [
    "es, vs = eigen(H0)\n",
    "states_X.states = vs\n",
    ";"
   ]
  },
  {
   "cell_type": "code",
   "execution_count": 19,
   "metadata": {},
   "outputs": [],
   "source": [
    "function TransitionDipoleMoment(state::HundsCaseA, state′::HundsCaseA, p::Integer)\n",
    "    S, I, Λ, Σ, Ω, J, F, M = state.S, state.I, state.Λ, state.Σ, state.Ω, state.J, state.F, state.M\n",
    "    S′, I′, Λ′, Σ′, Ω′, J′, F′, M′ = state′.S, state′.I, state′.Λ, state′.Σ, state′.Ω, state′.J, state′.F, state′.M\n",
    "    \n",
    "    return (-1)^(F′ - M′) * wigner3j(F′, 1, F, -M′, p, M) * (-1)^(F + J′ + I + 1) * sqrt((2F′ + 1) * (2F + 1)) *\n",
    "        δ(Σ, Σ′) * (-1)^(J′ - Ω′) * wigner6j(J, F, I, F′, J′, 1) * sqrt((2J′ + 1) * (2J + 1)) *\n",
    "        sum(\n",
    "            wigner3j(J′, 1, J, -Ω′, q, Ω) for q in -1:1\n",
    "        )\n",
    "end;"
   ]
  },
  {
   "cell_type": "code",
   "execution_count": 20,
   "metadata": {},
   "outputs": [],
   "source": [
    "import Base.==\n",
    "\n",
    "function ==(state::State, state′::State)\n",
    "    state_type = typeof(state)\n",
    "    for field in fieldnames(state_type)\n",
    "        if getfield(state, field) != getfield(state′, field)\n",
    "            return false\n",
    "        end\n",
    "    end\n",
    "    return true\n",
    "end;"
   ]
  },
  {
   "cell_type": "code",
   "execution_count": 21,
   "metadata": {},
   "outputs": [],
   "source": [
    "function caseb_to_casea(b_states)\n",
    "    a_states = HundsCaseA[]\n",
    "    for state in b_states.basis\n",
    "        S, I, N, Λ, J, F, M = unpack(state)\n",
    "        for Σ in -S:S\n",
    "            Ω = Σ + Λ\n",
    "            coeff = (-1)^(J - S + Λ) * sqrt(2N + 1) * wigner3j(J, S, N, Ω, -Σ, -Λ)\n",
    "            η = (S = S, I = I, Λ = Λ, Σ = Σ, Ω = Ω, J = J, F = F, M = M)\n",
    "            a_state = HundsCaseA(; η...)\n",
    "            \n",
    "            insert = true\n",
    "            for a_state_ in a_states\n",
    "                if a_state == a_state_\n",
    "                    insert = false\n",
    "                end\n",
    "            end\n",
    "            if insert  \n",
    "                push!(a_states, a_state)\n",
    "            end\n",
    "        end\n",
    "    end\n",
    "    \n",
    "    return a_states\n",
    "end;"
   ]
  },
  {
   "cell_type": "code",
   "execution_count": 22,
   "metadata": {},
   "outputs": [],
   "source": [
    "new_basis = caseb_to_casea(states_X)\n",
    "states_X_a = convert_basis(states_X, new_basis, overlap)\n",
    ";"
   ]
  },
  {
   "cell_type": "code",
   "execution_count": 23,
   "metadata": {},
   "outputs": [],
   "source": [
    "TDM_Matrix = zeros(length(states_X_a.basis), length(states_A.basis), 3)\n",
    "\n",
    "for (i, X_state) in enumerate(states_X_a.basis)\n",
    "    for (j, A_state) in enumerate(states_A.basis)\n",
    "        for p in -1:1\n",
    "            TDM_Matrix[i,j,p+2] = TransitionDipoleMoment(X_state, A_state, p)\n",
    "        end\n",
    "    end\n",
    "end\n",
    ";"
   ]
  },
  {
   "cell_type": "code",
   "execution_count": 24,
   "metadata": {},
   "outputs": [
    {
     "data": {
      "text/plain": [
       "12×4 Matrix{Float64}:\n",
       " 0.0        0.215813   0.215813   0.0183283\n",
       " 0.215813   0.0        0.215813   0.0183283\n",
       " 0.215813   0.215813   0.0        0.0183283\n",
       " 0.222222   0.222222   0.222222   0.0\n",
       " 0.0        0.0341869  0.0341869  0.315005\n",
       " 0.0341869  0.0        0.0341869  0.315005\n",
       " 0.0341869  0.0341869  0.0        0.315005\n",
       " 0.111111   0.0277778  0.0277778  0.0\n",
       " 0.0833333  0.0833333  0.0        0.0\n",
       " 0.0        0.166667   0.0        0.0\n",
       " 0.0833333  0.0        0.0833333  0.0\n",
       " 0.0        0.0        0.166667   0.0"
      ]
     },
     "execution_count": 24,
     "metadata": {},
     "output_type": "execute_result"
    }
   ],
   "source": [
    "TDM = round.((states_X_a.states' * sum(TDM_Matrix, dims=3)[:,:] * states_A.states).^2, digits=10)\n",
    "TDM[5:16,:]"
   ]
  },
  {
   "cell_type": "code",
   "execution_count": 25,
   "metadata": {},
   "outputs": [],
   "source": [
    "function print_matrix(A)\n",
    "    println(\"Real part:\")\n",
    "    for i in 1:size(A, 1)\n",
    "        for j in 1:size(A, 2)\n",
    "            A_ij = round(A[i,j], digits=2)\n",
    "            print(real(A_ij), \" \")\n",
    "        end\n",
    "        println()\n",
    "    end\n",
    "    println()\n",
    "    println(\"Imaginary part:\")\n",
    "    for i in 1:size(A, 1)\n",
    "        for j in 1:size(A, 2)\n",
    "            A_ij = round(A[i,j], digits=2)\n",
    "            print(imag(A_ij), \" \")\n",
    "        end\n",
    "        println()\n",
    "    end\n",
    "end;"
   ]
  },
  {
   "cell_type": "code",
   "execution_count": 26,
   "metadata": {},
   "outputs": [],
   "source": [
    "# In TMD, states are ordered as\n",
    "# Ground states:\n",
    "# F = 1-, M = 0\n",
    "# F = 1-, M = -1\n",
    "# F = 1-, M = 1\n",
    "# F = 0, M = 0\n",
    "# F = 1+, M = 0\n",
    "# F = 1+, M = -1\n",
    "# F = 1+, M = 1\n",
    "# F = 2, M = 0\n",
    "# F = 2, M = 1\n",
    "# F = 2, M = 2\n",
    "# F = 2, M = -1\n",
    "# F = 2, M = -2\n",
    "\n",
    "# Excited states:\n",
    "# F = 1, M = 0\n",
    "# F = 1, M = 1\n",
    "# F = 1, M = -1\n",
    "# F = 0, M = 0"
   ]
  },
  {
   "cell_type": "code",
   "execution_count": 1014,
   "metadata": {},
   "outputs": [],
   "source": [
    "const λ = @with_unit 606.3 \"nm\"\n",
    "const Γ = @with_unit 2π * 8.3 \"MHz\"\n",
    "const M = @with_unit 50 \"u\"\n",
    "const E₀ = c / λ\n",
    ";"
   ]
  },
  {
   "cell_type": "code",
   "execution_count": 1015,
   "metadata": {},
   "outputs": [],
   "source": [
    "# Generate ground states\n",
    "# ω1 = 2π * @with_unit -2.90 \"MHz\"\n",
    "# ω2 = 2π * @with_unit 24.15 \"MHz\"\n",
    "# ω3 = 2π * @with_unit 72.29 \"MHz\"\n",
    "# ω4 = 2π * @with_unit 146.00 \"MHz\"\n",
    "\n",
    "ω1 = 2π * @with_unit 0.0 \"MHz\"\n",
    "ω2 = 2π * @with_unit 76.0 \"MHz\"\n",
    "ω3 = 2π * @with_unit 123.0 \"MHz\"\n",
    "ω4 = 2π * @with_unit 148.00 \"MHz\"\n",
    "\n",
    "g1 = manifold(F=1, ω=ω1, μ=0)\n",
    "g2 = manifold(F=0, ω=ω2, μ=0)\n",
    "g3 = manifold(F=1, ω=ω3, μ=0)\n",
    "g4 = manifold(F=2, ω=ω4, μ=0)\n",
    "ground_states = collect(Iterators.flatten([g.states for g in [g1, g2, g3, g4]]))\n",
    "\n",
    "ordering = [2,1,3,4,6,5,7,10,11,12,9,8]\n",
    "ground_states = ground_states[ordering]\n",
    "\n",
    "# Generate excited states\n",
    "ω_e1 = 2π * (E₀ - @with_unit 5 \"MHz\")\n",
    "ω_e2 = 2π * E₀\n",
    "e1 = manifold(F=0, ω=ω_e1, μ=0, Γ=Γ)\n",
    "e2 = manifold(F=1, ω=ω_e2, μ=0, Γ=Γ)\n",
    "excited_states = collect(Iterators.flatten([e.states for e in [e1, e2]]))\n",
    "\n",
    "ordering = [3,4,2,1]\n",
    "excited_states = excited_states[ordering]\n",
    "\n",
    "states = [ground_states; excited_states]\n",
    ";"
   ]
  },
  {
   "cell_type": "code",
   "execution_count": 1016,
   "metadata": {},
   "outputs": [],
   "source": [
    "d = zeros(16, 16, 3)\n",
    "d[1:12,13:16,1] .= round.((states_X_a.states' * TDM_Matrix[:,:,1] * states_A.states), digits=10)[5:16,:]\n",
    "d[1:12,13:16,2] .= round.((states_X_a.states' * TDM_Matrix[:,:,2] * states_A.states), digits=10)[5:16,:]\n",
    "d[1:12,13:16,3] .= round.((states_X_a.states' * TDM_Matrix[:,:,3] * states_A.states), digits=10)[5:16,:]\n",
    "\n",
    "d[13:16,1:12,1] .= round.((states_X_a.states' * TDM_Matrix[:,:,1] * states_A.states), digits=10)[5:16,:]'\n",
    "d[13:16,1:12,2] .= round.((states_X_a.states' * TDM_Matrix[:,:,2] * states_A.states), digits=10)[5:16,:]'\n",
    "d[13:16,1:12,3] .= round.((states_X_a.states' * TDM_Matrix[:,:,3] * states_A.states), digits=10)[5:16,:]'\n",
    ";"
   ]
  },
  {
   "cell_type": "code",
   "execution_count": 1119,
   "metadata": {},
   "outputs": [],
   "source": [
    "# Wigner D-matrix to rotate polarization vector\n",
    "D(cosβ, sinβ, α, γ) = [\n",
    "    (1/2)*(1 + cosβ)*exp(-im*(α + γ)) -(1/√2)*sinβ*exp(-im*α) (1/2)*(1 - cosβ)*exp(-im*(α - γ));\n",
    "    (1/√2)*sinβ*exp(-im*γ) cosβ -(1/√2)*sinβ*exp(im*γ);\n",
    "    (1/2)*(1 - cosβ)*exp(im*(α - γ)) (1/√2)*sinβ*exp(im*α) (1/2)*(1 + cosβ)*exp(im*(α + γ))\n",
    "]\n",
    "\n",
    "function rotate_pol(pol, k)\n",
    "    # Rotates polarization `pol` onto the quantization axis `k`\n",
    "    k = k / norm(k)\n",
    "    cosβ = k[3]\n",
    "    sinβ = sqrt(1 - cosβ^2)\n",
    "    α = 0.0\n",
    "    if abs(cosβ) < 1\n",
    "        γ = atan(k[2], k[1])\n",
    "    else\n",
    "        γ = 0.0\n",
    "    end\n",
    "    return inv(D(cosβ, sinβ, α, γ)) * pol\n",
    "end;"
   ]
  },
  {
   "cell_type": "code",
   "execution_count": 1120,
   "metadata": {},
   "outputs": [],
   "source": [
    "function find_idx_for_time(time_to_find, times, backwards)\n",
    "    if backwards\n",
    "        times = reverse(times)\n",
    "    end\n",
    "    start_time = times[1]\n",
    "    found_idx = 0\n",
    "    for (i, time) in enumerate(times)\n",
    "        if abs(start_time - time) > time_to_find\n",
    "            found_idx = i\n",
    "            break\n",
    "        end\n",
    "    end\n",
    "    if backwards\n",
    "        found_idx = length(times) + 1 - found_idx\n",
    "    end\n",
    "    \n",
    "    return found_idx\n",
    "end;"
   ]
  },
  {
   "cell_type": "code",
   "execution_count": 1191,
   "metadata": {},
   "outputs": [],
   "source": [
    "function calculate_force_from_period(p, sol, force_idxs)\n",
    "    \"\"\"\n",
    "    Integrates the force resulting from `sol` over a time period designated by `period`.\n",
    "    \"\"\"\n",
    "    force = 0.0\n",
    "    for i in force_idxs\n",
    "        force += OpticalBlochEquations.force(p, sol.u[i], sol.t[i])\n",
    "    end\n",
    "    t = sol.t[force_idxs[end]] - sol.t[force_idxs[1]]\n",
    "    return force / (length(force_idxs))\n",
    "end;"
   ]
  },
  {
   "cell_type": "code",
   "execution_count": 1192,
   "metadata": {},
   "outputs": [],
   "source": [
    "Is = 4.9; # saturation intensity for CaF X-A transition, in mW/cm^2"
   ]
  },
  {
   "cell_type": "code",
   "execution_count": 1193,
   "metadata": {},
   "outputs": [],
   "source": [
    "# Multi-frequency scheme\n",
    "δf = @with_unit 2π * 20 \"MHz\"\n",
    "\n",
    "s = 117 / Is / 24 # Divide by number of lasers\n",
    "\n",
    "# Generate lasers\n",
    "x = [1., 0, 0]\n",
    "y = [0., 1, 0]\n",
    "z = [0., 0, 1]\n",
    "\n",
    "σ_m = [1., 0., 0.]\n",
    "σ_p = [0., 0., 1.]\n",
    "\n",
    "θ1 = 0\n",
    "θ2 = 0\n",
    "\n",
    "ω0 = states[13].ω # Frequency from E = 0 to F = 2\n",
    "\n",
    "f1 = ω0 - ω1 + δf # Transition is ω0 minus F = 1- position\n",
    "f2 = ω0 - ω2 + δf # Transition is ω0 minus F = 0 position\n",
    "f3 = ω0 - ω3 + δf # Transition is ω0 minus F = 1+ position\n",
    "f4 = ω0 - ω4 + δf # Transition is ω0 minus F = 2 position\n",
    "\n",
    "σ1 = σ_m\n",
    "σ2 = σ_m\n",
    "σ3 = σ_p\n",
    "σ4 = σ_m\n",
    "\n",
    "l1 = Laser(-x, rotate_pol(σ1, -x), f1, s)\n",
    "l2 = Laser( x, rotate_pol(σ1,  x), f1, s)\n",
    "\n",
    "l3 = Laser(-y, rotate_pol(σ1, -y), f1, s)\n",
    "l4 = Laser( y, rotate_pol(σ1,  y), f1, s)\n",
    "\n",
    "l5 = Laser(-z, rotate_pol(σ1, -z), f1, s)\n",
    "l6 = Laser( z, rotate_pol(σ1,  z), f1, s)\n",
    "\n",
    "l7 = Laser(-x, rotate_pol(σ2, -x), f2, s)\n",
    "l8 = Laser( x, rotate_pol(σ2,  x), f2, s)\n",
    "\n",
    "l9 = Laser(-y, rotate_pol(σ2, -y), f2, s)\n",
    "l10 = Laser( y, rotate_pol(σ2,  y), f2, s)\n",
    "\n",
    "l11 = Laser(-z, rotate_pol(σ2, -z), f2, s)\n",
    "l12 = Laser( z, rotate_pol(σ2,  z), f2, s)\n",
    "\n",
    "l13 = Laser(-x, rotate_pol(σ3, -x), f3, s)\n",
    "l14 = Laser( x, rotate_pol(σ3,  x), f3, s)\n",
    "\n",
    "l15 = Laser(-y, rotate_pol(σ3, -y), f3, s)\n",
    "l16 = Laser( y, rotate_pol(σ3,  y), f3, s)\n",
    "\n",
    "l17 = Laser(-z, rotate_pol(σ3, -z), f3, s)\n",
    "l18 = Laser( z, rotate_pol(σ3,  z), f3, s)\n",
    "\n",
    "l19 = Laser(-x, rotate_pol(σ4, -x), f4, s)\n",
    "l20 = Laser( x, rotate_pol(σ4,  x), f4, s)\n",
    "\n",
    "l21 = Laser(-y, rotate_pol(σ4, -y), f4, s)\n",
    "l22 = Laser( y, rotate_pol(σ4,  y), f4, s)\n",
    "\n",
    "l23 = Laser(-z, rotate_pol(σ4, -z), f4, s)\n",
    "l24 = Laser( z, rotate_pol(σ4,  z), f4, s)\n",
    "\n",
    "multi_lasers = [l1, l2, l3, l4, l5, l6, l7, l8, l9, l10, l11, l12,\n",
    "    l13, l14, l15, l16, l17, l18, l19, l20, l21, l22, l23, l24]\n",
    ";"
   ]
  },
  {
   "cell_type": "code",
   "execution_count": 1194,
   "metadata": {},
   "outputs": [],
   "source": [
    "# # Λ-cooling\n",
    "# # Scheme \"(II)\" in \"Deep laser cooling and efficient magnetic compression of molecules (Caldwell, 2019)\"\n",
    "# Is = 4.9\n",
    "\n",
    "# δf = @with_unit 2π * 30 \"MHz\"\n",
    "# s = 50 / Is / 12 # Divide by number of lasers\n",
    "\n",
    "# # Generate lasers\n",
    "# x = [1., 0, 0]\n",
    "# y = [0., 1, 0]\n",
    "# z = [0., 0, 1]\n",
    "\n",
    "# σ_m = [1., 0., 0.]\n",
    "# σ_p = [0., 0., 1.]\n",
    "\n",
    "# ω0 = (states[13].ω - states[1].ω) # Frequency from F = -1 to F = 1\n",
    "# ω1 = (states[13].ω - states[12].ω) # Frequency from F = 2 to F = 1\n",
    "\n",
    "# det_F1 = ω0 + δf\n",
    "# det_F2 = ω1 + δf\n",
    "\n",
    "# l1 = Laser(-x, rotate_pol(σ_m, -x), det_F1, s)\n",
    "# l2 = Laser( x, rotate_pol(σ_m,  x), det_F1, s)\n",
    "\n",
    "# l3 = Laser(-y, rotate_pol(σ_m, -y), det_F1, s)\n",
    "# l4 = Laser( y, rotate_pol(σ_m,  y), det_F1, s)\n",
    "\n",
    "# l5 = Laser(-z, rotate_pol(σ_m, -z), det_F1, s)\n",
    "# l6 = Laser( z, rotate_pol(σ_m,  z), det_F1, s)\n",
    "\n",
    "# l7 = Laser(-x, rotate_pol(σ_m, -x), det_F2, s)\n",
    "# l8 = Laser( x, rotate_pol(σ_m,  x), det_F2, s)\n",
    "\n",
    "# l9 = Laser(-y, rotate_pol(σ_m, -y), det_F2, s)\n",
    "# l10 = Laser( y, rotate_pol(σ_m,  y), det_F2, s)\n",
    "\n",
    "# l11 = Laser(-z, rotate_pol(σ_m, -z), det_F2, s)\n",
    "# l12 = Laser( z, rotate_pol(σ_m,  z), det_F2, s)\n",
    "\n",
    "# Λ_lasers = [l1, l2, l3, l4, l5, l6, l7, l8, l9, l10, l11, l12]\n",
    "# ;"
   ]
  },
  {
   "cell_type": "code",
   "execution_count": 1195,
   "metadata": {},
   "outputs": [],
   "source": [
    "# Single-frequency cooling\n",
    "# Scheme \"(III)\" in \"Deep laser cooling and efficient magnetic compression of molecules (Caldwell, 2019)\"\n",
    "Is = 4.9\n",
    "\n",
    "δf = +Γ\n",
    "s = 340 / Is / 6 # Divide by number of lasers\n",
    "\n",
    "# Generate lasers\n",
    "x = [1., 0, 0]\n",
    "y = [0., 1, 0]\n",
    "z = [0., 0, 1]\n",
    "\n",
    "σ_m = [1., 0., 0.]\n",
    "σ_p = [0., 0., 1.]\n",
    "\n",
    "θ1 = 0\n",
    "θ2 = 0\n",
    "\n",
    "ω0 = states[13].ω # Frequency from E = 0 to F = 2\n",
    "\n",
    "f = ω0 - ω1 + δf\n",
    "\n",
    "l1 = Laser(-x, rotate_pol(σ_m, -x), f, s)\n",
    "l2 = Laser( x, rotate_pol(σ_m,  x), f, s)\n",
    "\n",
    "l3 = Laser(-y, rotate_pol(σ_m, -y), f, s)\n",
    "l4 = Laser( y, rotate_pol(σ_m,  y), f, s)\n",
    "\n",
    "l5 = Laser(-z, rotate_pol(σ_m, -z), f, s)\n",
    "l6 = Laser( z, rotate_pol(σ_m,  z), f, s)\n",
    "\n",
    "SF_lasers = [l1, l2, l3, l4, l5, l6]\n",
    ";"
   ]
  },
  {
   "cell_type": "code",
   "execution_count": 1196,
   "metadata": {},
   "outputs": [],
   "source": [
    "lasers = SF_lasers;\n",
    "# lasers = Λ_lasers;\n",
    "# lasers = multi_lasers;"
   ]
  },
  {
   "cell_type": "code",
   "execution_count": 1197,
   "metadata": {},
   "outputs": [
    {
     "data": {
      "text/plain": [
       "6283.185307179586"
      ]
     },
     "metadata": {},
     "output_type": "display_data"
    }
   ],
   "source": [
    "using StaticArrays\n",
    "\n",
    "ρ0 = zeros(ComplexF64, length(states), length(states))\n",
    "ρ0[1,1] = 1.0\n",
    "\n",
    "# Frequencies are rounded to a multiple of `freq_res`, and are measured in units of Γ\n",
    "freq_res = 1e-3\n",
    "\n",
    "(dρ, ρ, p) = obe(states, lasers, d, ρ0, freq_res=freq_res)\n",
    "ρ!(dρ, ρ, p, 0.0)\n",
    "\n",
    "ω_min = freq_res\n",
    "period = 2π / ω_min\n",
    "display(period)"
   ]
  },
  {
   "cell_type": "code",
   "execution_count": 1198,
   "metadata": {},
   "outputs": [],
   "source": [
    "# (p.states[13].ω - p.states[12].ω) - p.lasers[1].ω  |> println\n",
    "# (p.states[13].ω - p.states[12].ω) - p.lasers[7].ω  |> println\n",
    "# (p.states[13].ω - p.states[12].ω) - p.lasers[13].ω |> println\n",
    "# (p.states[13].ω - p.states[12].ω) - p.lasers[19].ω |> println"
   ]
  },
  {
   "cell_type": "code",
   "execution_count": 1199,
   "metadata": {},
   "outputs": [
    {
     "name": "stdout",
     "output_type": "stream",
     "text": [
      "  5.717 μs (0 allocations: 0 bytes)\n"
     ]
    }
   ],
   "source": [
    "@btime ρ!($dρ, $ρ, $p, $1.0)"
   ]
  },
  {
   "cell_type": "code",
   "execution_count": null,
   "metadata": {},
   "outputs": [],
   "source": [
    "# v has units of Γ/k\n",
    "# t has units of 1/Γ\n",
    "# so r has units of Γ/k * (1/Γ) = 1 / k"
   ]
  },
  {
   "cell_type": "code",
   "execution_count": 1341,
   "metadata": {},
   "outputs": [
    {
     "name": "stdout",
     "output_type": "stream",
     "text": [
      "[0.099, 0.0, 0.0]\n",
      " 12.496028 seconds (449.14 k allocations: 1.299 GiB, 2.33% gc time)\n"
     ]
    }
   ],
   "source": [
    "t_end = 2π * 2500\n",
    "tspan = (0., t_end)\n",
    "times = range(tspan[1], tspan[2], 200000)\n",
    "\n",
    "p.particle.r0 = SVector(0, 0, λ / 4) / (1 / (2π / λ))\n",
    "p.particle.v = SVector(0.5, 0.0, 0.0)\n",
    "p.particle.v = round_vel(p.particle.v, λ, Γ, freq_res) / (Γ / (2π / λ))\n",
    "println(p.particle.v)\n",
    "\n",
    "prob = ODEProblem(ρ!, ρ0, tspan, p, callback=AutoAbstol(false, init_curmax=0.0))\n",
    "\n",
    "# @time sol = solve(prob, alg=DP5(), abstol=1e-6, reltol=1e-3, dense=false, saveat=times)\n",
    "@time sol = solve(prob, alg=DP5(), abstol=1e-6, reltol=1e-7, dense=false, saveat=times)\n",
    ";"
   ]
  },
  {
   "cell_type": "code",
   "execution_count": 1346,
   "metadata": {},
   "outputs": [
    {
     "name": "stdout",
     "output_type": "stream",
     "text": [
      "Excited population: 0.002836260141088328\n",
      "Force: -72114.40905577829"
     ]
    }
   ],
   "source": [
    "offset = 200\n",
    "period_idx = find_idx_for_time(period, sol.t, true)\n",
    "force_idxs = (period_idx - offset):(length(times) - offset)\n",
    "force = calculate_force_from_period(p, sol, force_idxs)\n",
    "\n",
    "println(\"Excited population: \", real(sum(diag(mean(sol.u[force_idxs]))[13:end])))\n",
    "print(\"Force: \", (Γ / (2π / λ)) * (ħ * k * Γ * force / M))"
   ]
  },
  {
   "cell_type": "code",
   "execution_count": 1347,
   "metadata": {},
   "outputs": [
    {
     "data": {
      "text/plain": [
       "3.122461233341569e-5 + 0.0im"
      ]
     },
     "execution_count": 1347,
     "metadata": {},
     "output_type": "execute_result"
    }
   ],
   "source": [
    "diag(sol.u[end-offset].^2 - sol.u[period_idx-offset].^2) |> sum"
   ]
  },
  {
   "cell_type": "code",
   "execution_count": 1348,
   "metadata": {},
   "outputs": [],
   "source": [
    "# fraction_to_plot = 0.1\n",
    "# idxs_to_plot = Int(length(times) * (1 - fraction_to_plot)):length(times)\n",
    "idxs_to_plot = period_idx:length(times)\n",
    ";"
   ]
  },
  {
   "cell_type": "code",
   "execution_count": 1349,
   "metadata": {},
   "outputs": [],
   "source": [
    "plot_us = sol.u[idxs_to_plot]\n",
    "plot_ts = sol.t[idxs_to_plot]\n",
    "\n",
    "plot(plot_ts, [real(u[1,1]) for u in plot_us], size=(800, 400), ylim=(0, 0.35))\n",
    "for i in 2:16\n",
    "    plot!(plot_ts, [real(u[i,i]) for u in plot_us])\n",
    "end\n",
    "plot!(legend=nothing)"
   ]
  },
  {
   "cell_type": "code",
   "execution_count": 1350,
   "metadata": {},
   "outputs": [
    {
     "ename": "LoadError",
     "evalue": "InterruptException:",
     "output_type": "error",
     "traceback": [
      "InterruptException:",
      "",
      "Stacktrace:",
      "  [1] try_yieldto(undo::typeof(Base.ensure_rescheduled))",
      "    @ Base .\\task.jl:777",
      "  [2] wait()",
      "    @ Base .\\task.jl:837",
      "  [3] wait(c::Base.GenericCondition{Base.Threads.SpinLock})",
      "    @ Base .\\condition.jl:123",
      "  [4] _wait(t::Task)",
      "    @ Base .\\task.jl:293",
      "  [5] wait",
      "    @ .\\task.jl:332 [inlined]",
      "  [6] threading_run(func::Function)",
      "    @ Base.Threads .\\threadingconstructs.jl:38",
      "  [7] macro expansion",
      "    @ .\\threadingconstructs.jl:97 [inlined]",
      "  [8] macro expansion",
      "    @ .\\In[1350]:10 [inlined]",
      "  [9] top-level scope",
      "    @ .\\timing.jl:220 [inlined]",
      " [10] top-level scope",
      "    @ .\\In[1350]:0",
      " [11] eval",
      "    @ .\\boot.jl:373 [inlined]",
      " [12] include_string(mapexpr::typeof(REPL.softscope), mod::Module, code::String, filename::String)",
      "    @ Base .\\loading.jl:1196"
     ]
    }
   ],
   "source": [
    "vs = collect(0.0:0.50:5.00)\n",
    "forces = zeros(length(vs))\n",
    "exc_pop = zeros(length(vs))\n",
    "\n",
    "t_end = 2π * 5000\n",
    "tspan = (0., t_end)\n",
    "times = range(tspan[1], tspan[2], 200000)\n",
    "\n",
    "@time begin\n",
    "    Threads.@threads for i in 1:length(vs)\n",
    "        \n",
    "        v = vs[i]\n",
    "        \n",
    "        previous_force = 0.0\n",
    "        force = 1.0\n",
    "        error = 1.0\n",
    "        \n",
    "        p_ = deepcopy(p)\n",
    "        \n",
    "        p_.particle.r0 = SVector(0, 0, 0.5) / (1 / (2π / λ))\n",
    "        p_.particle.v = SVector(v, 0.0, 0.0)\n",
    "        p_.particle.v = round_vel(p_.particle.v, λ, Γ, freq_res) / (Γ / (2π / λ))\n",
    "        \n",
    "        vs[i] = sqrt(sum(p_.particle.v.^2)) * (Γ / (2π / λ))\n",
    "        \n",
    "        ρ0 = zeros(ComplexF64,(16,16))\n",
    "        ρ0[1,1] = 1.0\n",
    "\n",
    "        prob = ODEProblem(ρ!, ρ0, tspan, p_)\n",
    "        sol = solve(prob, alg=DP5(), abstol=1e-6, reltol=1e-7, saveat=times)\n",
    "\n",
    "        offset = 0\n",
    "        period_idx = find_idx_for_time(period, sol.t, true)\n",
    "        force_idxs = (period_idx - offset):(length(times) - offset)\n",
    "        \n",
    "        previous_force = force\n",
    "        force = calculate_force_from_period(p_, sol, force_idxs)\n",
    "\n",
    "        forces[i] = force\n",
    "        exc_pop[i] = real(sum(diag(mean(sol.u[force_idxs]))[13:end]))\n",
    "            \n",
    "    end\n",
    "end\n",
    "forces_SI = (Γ / (2π / λ)) * (ħ * k * Γ * forces / M)\n",
    ";"
   ]
  },
  {
   "cell_type": "code",
   "execution_count": 1318,
   "metadata": {},
   "outputs": [
    {
     "data": {
      "image/svg+xml": [
       "<?xml version=\"1.0\" encoding=\"utf-8\"?>\n",
       "<svg xmlns=\"http://www.w3.org/2000/svg\" xmlns:xlink=\"http://www.w3.org/1999/xlink\" width=\"500\" height=\"400\" viewBox=\"0 0 2000 1600\">\n",
       "<defs>\n",
       "  <clipPath id=\"clip430\">\n",
       "    <rect x=\"0\" y=\"0\" width=\"2000\" height=\"1600\"/>\n",
       "  </clipPath>\n",
       "</defs>\n",
       "<path clip-path=\"url(#clip430)\" d=\"\n",
       "M0 1600 L2000 1600 L2000 0 L0 0  Z\n",
       "  \" fill=\"#ffffff\" fill-rule=\"evenodd\" fill-opacity=\"1\"/>\n",
       "<defs>\n",
       "  <clipPath id=\"clip431\">\n",
       "    <rect x=\"400\" y=\"0\" width=\"1401\" height=\"1401\"/>\n",
       "  </clipPath>\n",
       "</defs>\n",
       "<path clip-path=\"url(#clip430)\" d=\"\n",
       "M185.496 1479.54 L1952.76 1479.54 L1952.76 47.2441 L185.496 47.2441  Z\n",
       "  \" fill=\"#ffffff\" fill-rule=\"evenodd\" fill-opacity=\"1\"/>\n",
       "<defs>\n",
       "  <clipPath id=\"clip432\">\n",
       "    <rect x=\"185\" y=\"47\" width=\"1768\" height=\"1433\"/>\n",
       "  </clipPath>\n",
       "</defs>\n",
       "<polyline clip-path=\"url(#clip432)\" style=\"stroke:#000000; stroke-linecap:butt; stroke-linejoin:round; stroke-width:2; stroke-opacity:0.1; fill:none\" points=\"\n",
       "  235.513,1479.54 235.513,47.2441 \n",
       "  \"/>\n",
       "<polyline clip-path=\"url(#clip432)\" style=\"stroke:#000000; stroke-linecap:butt; stroke-linejoin:round; stroke-width:2; stroke-opacity:0.1; fill:none\" points=\"\n",
       "  568.818,1479.54 568.818,47.2441 \n",
       "  \"/>\n",
       "<polyline clip-path=\"url(#clip432)\" style=\"stroke:#000000; stroke-linecap:butt; stroke-linejoin:round; stroke-width:2; stroke-opacity:0.1; fill:none\" points=\"\n",
       "  902.124,1479.54 902.124,47.2441 \n",
       "  \"/>\n",
       "<polyline clip-path=\"url(#clip432)\" style=\"stroke:#000000; stroke-linecap:butt; stroke-linejoin:round; stroke-width:2; stroke-opacity:0.1; fill:none\" points=\"\n",
       "  1235.43,1479.54 1235.43,47.2441 \n",
       "  \"/>\n",
       "<polyline clip-path=\"url(#clip432)\" style=\"stroke:#000000; stroke-linecap:butt; stroke-linejoin:round; stroke-width:2; stroke-opacity:0.1; fill:none\" points=\"\n",
       "  1568.73,1479.54 1568.73,47.2441 \n",
       "  \"/>\n",
       "<polyline clip-path=\"url(#clip432)\" style=\"stroke:#000000; stroke-linecap:butt; stroke-linejoin:round; stroke-width:2; stroke-opacity:0.1; fill:none\" points=\"\n",
       "  1902.04,1479.54 1902.04,47.2441 \n",
       "  \"/>\n",
       "<polyline clip-path=\"url(#clip430)\" style=\"stroke:#000000; stroke-linecap:butt; stroke-linejoin:round; stroke-width:4; stroke-opacity:1; fill:none\" points=\"\n",
       "  185.496,1479.54 1952.76,1479.54 \n",
       "  \"/>\n",
       "<polyline clip-path=\"url(#clip430)\" style=\"stroke:#000000; stroke-linecap:butt; stroke-linejoin:round; stroke-width:4; stroke-opacity:1; fill:none\" points=\"\n",
       "  185.496,47.2441 1952.76,47.2441 \n",
       "  \"/>\n",
       "<polyline clip-path=\"url(#clip430)\" style=\"stroke:#000000; stroke-linecap:butt; stroke-linejoin:round; stroke-width:4; stroke-opacity:1; fill:none\" points=\"\n",
       "  235.513,1479.54 235.513,1460.64 \n",
       "  \"/>\n",
       "<polyline clip-path=\"url(#clip430)\" style=\"stroke:#000000; stroke-linecap:butt; stroke-linejoin:round; stroke-width:4; stroke-opacity:1; fill:none\" points=\"\n",
       "  568.818,1479.54 568.818,1460.64 \n",
       "  \"/>\n",
       "<polyline clip-path=\"url(#clip430)\" style=\"stroke:#000000; stroke-linecap:butt; stroke-linejoin:round; stroke-width:4; stroke-opacity:1; fill:none\" points=\"\n",
       "  902.124,1479.54 902.124,1460.64 \n",
       "  \"/>\n",
       "<polyline clip-path=\"url(#clip430)\" style=\"stroke:#000000; stroke-linecap:butt; stroke-linejoin:round; stroke-width:4; stroke-opacity:1; fill:none\" points=\"\n",
       "  1235.43,1479.54 1235.43,1460.64 \n",
       "  \"/>\n",
       "<polyline clip-path=\"url(#clip430)\" style=\"stroke:#000000; stroke-linecap:butt; stroke-linejoin:round; stroke-width:4; stroke-opacity:1; fill:none\" points=\"\n",
       "  1568.73,1479.54 1568.73,1460.64 \n",
       "  \"/>\n",
       "<polyline clip-path=\"url(#clip430)\" style=\"stroke:#000000; stroke-linecap:butt; stroke-linejoin:round; stroke-width:4; stroke-opacity:1; fill:none\" points=\"\n",
       "  1902.04,1479.54 1902.04,1460.64 \n",
       "  \"/>\n",
       "<path clip-path=\"url(#clip430)\" d=\"M235.513 1507.25 Q231.902 1507.25 230.073 1510.82 Q228.267 1514.36 228.267 1521.49 Q228.267 1528.6 230.073 1532.16 Q231.902 1535.7 235.513 1535.7 Q239.147 1535.7 240.952 1532.16 Q242.781 1528.6 242.781 1521.49 Q242.781 1514.36 240.952 1510.82 Q239.147 1507.25 235.513 1507.25 M235.513 1503.55 Q241.323 1503.55 244.378 1508.16 Q247.457 1512.74 247.457 1521.49 Q247.457 1530.22 244.378 1534.82 Q241.323 1539.41 235.513 1539.41 Q229.703 1539.41 226.624 1534.82 Q223.568 1530.22 223.568 1521.49 Q223.568 1512.74 226.624 1508.16 Q229.703 1503.55 235.513 1503.55 Z\" fill=\"#000000\" fill-rule=\"evenodd\" fill-opacity=\"1\" /><path clip-path=\"url(#clip430)\" d=\"M559.2 1534.8 L566.839 1534.8 L566.839 1508.44 L558.529 1510.1 L558.529 1505.84 L566.793 1504.18 L571.469 1504.18 L571.469 1534.8 L579.108 1534.8 L579.108 1538.74 L559.2 1538.74 L559.2 1534.8 Z\" fill=\"#000000\" fill-rule=\"evenodd\" fill-opacity=\"1\" /><path clip-path=\"url(#clip430)\" d=\"M896.777 1534.8 L913.096 1534.8 L913.096 1538.74 L891.152 1538.74 L891.152 1534.8 Q893.814 1532.05 898.397 1527.42 Q903.003 1522.76 904.184 1521.42 Q906.429 1518.9 907.309 1517.16 Q908.212 1515.4 908.212 1513.71 Q908.212 1510.96 906.267 1509.22 Q904.346 1507.49 901.244 1507.49 Q899.045 1507.49 896.591 1508.25 Q894.161 1509.01 891.383 1510.56 L891.383 1505.84 Q894.207 1504.71 896.661 1504.13 Q899.115 1503.55 901.152 1503.55 Q906.522 1503.55 909.716 1506.24 Q912.911 1508.92 912.911 1513.41 Q912.911 1515.54 912.101 1517.46 Q911.314 1519.36 909.207 1521.95 Q908.628 1522.62 905.527 1525.84 Q902.425 1529.04 896.777 1534.8 Z\" fill=\"#000000\" fill-rule=\"evenodd\" fill-opacity=\"1\" /><path clip-path=\"url(#clip430)\" d=\"M1239.68 1520.1 Q1243.03 1520.82 1244.91 1523.09 Q1246.81 1525.36 1246.81 1528.69 Q1246.81 1533.81 1243.29 1536.61 Q1239.77 1539.41 1233.29 1539.41 Q1231.11 1539.41 1228.8 1538.97 Q1226.51 1538.55 1224.05 1537.69 L1224.05 1533.18 Q1226 1534.31 1228.31 1534.89 Q1230.63 1535.47 1233.15 1535.47 Q1237.55 1535.47 1239.84 1533.74 Q1242.15 1532 1242.15 1528.69 Q1242.15 1525.63 1240 1523.92 Q1237.87 1522.19 1234.05 1522.19 L1230.02 1522.19 L1230.02 1518.34 L1234.24 1518.34 Q1237.69 1518.34 1239.51 1516.98 Q1241.34 1515.59 1241.34 1513 Q1241.34 1510.33 1239.45 1508.92 Q1237.57 1507.49 1234.05 1507.49 Q1232.13 1507.49 1229.93 1507.9 Q1227.73 1508.32 1225.09 1509.2 L1225.09 1505.03 Q1227.76 1504.29 1230.07 1503.92 Q1232.41 1503.55 1234.47 1503.55 Q1239.79 1503.55 1242.89 1505.98 Q1246 1508.39 1246 1512.51 Q1246 1515.38 1244.35 1517.37 Q1242.71 1519.34 1239.68 1520.1 Z\" fill=\"#000000\" fill-rule=\"evenodd\" fill-opacity=\"1\" /><path clip-path=\"url(#clip430)\" d=\"M1571.74 1508.25 L1559.94 1526.7 L1571.74 1526.7 L1571.74 1508.25 M1570.52 1504.18 L1576.4 1504.18 L1576.4 1526.7 L1581.33 1526.7 L1581.33 1530.59 L1576.4 1530.59 L1576.4 1538.74 L1571.74 1538.74 L1571.74 1530.59 L1556.14 1530.59 L1556.14 1526.07 L1570.52 1504.18 Z\" fill=\"#000000\" fill-rule=\"evenodd\" fill-opacity=\"1\" /><path clip-path=\"url(#clip430)\" d=\"M1892.32 1504.18 L1910.67 1504.18 L1910.67 1508.11 L1896.6 1508.11 L1896.6 1516.58 Q1897.62 1516.24 1898.64 1516.07 Q1899.66 1515.89 1900.67 1515.89 Q1906.46 1515.89 1909.84 1519.06 Q1913.22 1522.23 1913.22 1527.65 Q1913.22 1533.23 1909.75 1536.33 Q1906.28 1539.41 1899.96 1539.41 Q1897.78 1539.41 1895.51 1539.04 Q1893.27 1538.67 1890.86 1537.93 L1890.86 1533.23 Q1892.94 1534.36 1895.17 1534.92 Q1897.39 1535.47 1899.86 1535.47 Q1903.87 1535.47 1906.21 1533.37 Q1908.55 1531.26 1908.55 1527.65 Q1908.55 1524.04 1906.21 1521.93 Q1903.87 1519.82 1899.86 1519.82 Q1897.99 1519.82 1896.11 1520.24 Q1894.26 1520.66 1892.32 1521.54 L1892.32 1504.18 Z\" fill=\"#000000\" fill-rule=\"evenodd\" fill-opacity=\"1\" /><polyline clip-path=\"url(#clip432)\" style=\"stroke:#000000; stroke-linecap:butt; stroke-linejoin:round; stroke-width:2; stroke-opacity:0.1; fill:none\" points=\"\n",
       "  185.496,1292.31 1952.76,1292.31 \n",
       "  \"/>\n",
       "<polyline clip-path=\"url(#clip432)\" style=\"stroke:#000000; stroke-linecap:butt; stroke-linejoin:round; stroke-width:2; stroke-opacity:0.1; fill:none\" points=\"\n",
       "  185.496,934.234 1952.76,934.234 \n",
       "  \"/>\n",
       "<polyline clip-path=\"url(#clip432)\" style=\"stroke:#000000; stroke-linecap:butt; stroke-linejoin:round; stroke-width:2; stroke-opacity:0.1; fill:none\" points=\"\n",
       "  185.496,576.161 1952.76,576.161 \n",
       "  \"/>\n",
       "<polyline clip-path=\"url(#clip432)\" style=\"stroke:#000000; stroke-linecap:butt; stroke-linejoin:round; stroke-width:2; stroke-opacity:0.1; fill:none\" points=\"\n",
       "  185.496,218.088 1952.76,218.088 \n",
       "  \"/>\n",
       "<polyline clip-path=\"url(#clip430)\" style=\"stroke:#000000; stroke-linecap:butt; stroke-linejoin:round; stroke-width:4; stroke-opacity:1; fill:none\" points=\"\n",
       "  185.496,1479.54 185.496,47.2441 \n",
       "  \"/>\n",
       "<polyline clip-path=\"url(#clip430)\" style=\"stroke:#000000; stroke-linecap:butt; stroke-linejoin:round; stroke-width:4; stroke-opacity:1; fill:none\" points=\"\n",
       "  1952.76,1479.54 1952.76,47.2441 \n",
       "  \"/>\n",
       "<polyline clip-path=\"url(#clip430)\" style=\"stroke:#000000; stroke-linecap:butt; stroke-linejoin:round; stroke-width:4; stroke-opacity:1; fill:none\" points=\"\n",
       "  185.496,1292.31 204.394,1292.31 \n",
       "  \"/>\n",
       "<polyline clip-path=\"url(#clip430)\" style=\"stroke:#000000; stroke-linecap:butt; stroke-linejoin:round; stroke-width:4; stroke-opacity:1; fill:none\" points=\"\n",
       "  185.496,934.234 204.394,934.234 \n",
       "  \"/>\n",
       "<polyline clip-path=\"url(#clip430)\" style=\"stroke:#000000; stroke-linecap:butt; stroke-linejoin:round; stroke-width:4; stroke-opacity:1; fill:none\" points=\"\n",
       "  185.496,576.161 204.394,576.161 \n",
       "  \"/>\n",
       "<polyline clip-path=\"url(#clip430)\" style=\"stroke:#000000; stroke-linecap:butt; stroke-linejoin:round; stroke-width:4; stroke-opacity:1; fill:none\" points=\"\n",
       "  185.496,218.088 204.394,218.088 \n",
       "  \"/>\n",
       "<path clip-path=\"url(#clip430)\" d=\"M54.8671 1312.1 L62.506 1312.1 L62.506 1285.73 L54.1958 1287.4 L54.1958 1283.14 L62.4597 1281.47 L67.1356 1281.47 L67.1356 1312.1 L74.7744 1312.1 L74.7744 1316.03 L54.8671 1316.03 L54.8671 1312.1 Z\" fill=\"#000000\" fill-rule=\"evenodd\" fill-opacity=\"1\" /><path clip-path=\"url(#clip430)\" d=\"M94.2188 1284.55 Q90.6077 1284.55 88.779 1288.12 Q86.9734 1291.66 86.9734 1298.79 Q86.9734 1305.9 88.779 1309.46 Q90.6077 1313 94.2188 1313 Q97.853 1313 99.6585 1309.46 Q101.487 1305.9 101.487 1298.79 Q101.487 1291.66 99.6585 1288.12 Q97.853 1284.55 94.2188 1284.55 M94.2188 1280.85 Q100.029 1280.85 103.084 1285.46 Q106.163 1290.04 106.163 1298.79 Q106.163 1307.52 103.084 1312.12 Q100.029 1316.71 94.2188 1316.71 Q88.4086 1316.71 85.3299 1312.12 Q82.2744 1307.52 82.2744 1298.79 Q82.2744 1290.04 85.3299 1285.46 Q88.4086 1280.85 94.2188 1280.85 Z\" fill=\"#000000\" fill-rule=\"evenodd\" fill-opacity=\"1\" /><path clip-path=\"url(#clip430)\" d=\"M106.163 1274.95 L130.275 1274.95 L130.275 1278.15 L106.163 1278.15 L106.163 1274.95 Z\" fill=\"#000000\" fill-rule=\"evenodd\" fill-opacity=\"1\" /><path clip-path=\"url(#clip430)\" d=\"M138.513 1260.54 L153.427 1260.54 L153.427 1263.74 L141.992 1263.74 L141.992 1270.63 Q142.819 1270.34 143.647 1270.21 Q144.475 1270.06 145.302 1270.06 Q150.004 1270.06 152.75 1272.64 Q155.496 1275.21 155.496 1279.62 Q155.496 1284.15 152.675 1286.67 Q149.854 1289.17 144.719 1289.17 Q142.951 1289.17 141.108 1288.87 Q139.284 1288.57 137.328 1287.97 L137.328 1284.15 Q139.02 1285.07 140.826 1285.52 Q142.631 1285.97 144.644 1285.97 Q147.898 1285.97 149.797 1284.26 Q151.697 1282.55 151.697 1279.62 Q151.697 1276.68 149.797 1274.97 Q147.898 1273.26 144.644 1273.26 Q143.12 1273.26 141.597 1273.6 Q140.092 1273.94 138.513 1274.65 L138.513 1260.54 Z\" fill=\"#000000\" fill-rule=\"evenodd\" fill-opacity=\"1\" /><path clip-path=\"url(#clip430)\" d=\"M53.6634 954.027 L61.3023 954.027 L61.3023 927.661 L52.9921 929.328 L52.9921 925.068 L61.256 923.402 L65.9319 923.402 L65.9319 954.027 L73.5707 954.027 L73.5707 957.962 L53.6634 957.962 L53.6634 954.027 Z\" fill=\"#000000\" fill-rule=\"evenodd\" fill-opacity=\"1\" /><path clip-path=\"url(#clip430)\" d=\"M93.0151 926.48 Q89.404 926.48 87.5753 930.045 Q85.7697 933.587 85.7697 940.717 Q85.7697 947.823 87.5753 951.388 Q89.404 954.929 93.0151 954.929 Q96.6493 954.929 98.4548 951.388 Q100.284 947.823 100.284 940.717 Q100.284 933.587 98.4548 930.045 Q96.6493 926.48 93.0151 926.48 M93.0151 922.777 Q98.8252 922.777 101.881 927.383 Q104.959 931.967 104.959 940.717 Q104.959 949.443 101.881 954.05 Q98.8252 958.633 93.0151 958.633 Q87.2049 958.633 84.1262 954.05 Q81.0707 949.443 81.0707 940.717 Q81.0707 931.967 84.1262 927.383 Q87.2049 922.777 93.0151 922.777 Z\" fill=\"#000000\" fill-rule=\"evenodd\" fill-opacity=\"1\" /><path clip-path=\"url(#clip430)\" d=\"M104.959 916.878 L129.071 916.878 L129.071 920.075 L104.959 920.075 L104.959 916.878 Z\" fill=\"#000000\" fill-rule=\"evenodd\" fill-opacity=\"1\" /><path clip-path=\"url(#clip430)\" d=\"M147.71 905.782 L138.118 920.771 L147.71 920.771 L147.71 905.782 M146.713 902.471 L151.49 902.471 L151.49 920.771 L155.496 920.771 L155.496 923.931 L151.49 923.931 L151.49 930.551 L147.71 930.551 L147.71 923.931 L135.033 923.931 L135.033 920.264 L146.713 902.471 Z\" fill=\"#000000\" fill-rule=\"evenodd\" fill-opacity=\"1\" /><path clip-path=\"url(#clip430)\" d=\"M54.585 595.954 L62.2238 595.954 L62.2238 569.588 L53.9137 571.255 L53.9137 566.996 L62.1776 565.329 L66.8535 565.329 L66.8535 595.954 L74.4923 595.954 L74.4923 599.889 L54.585 599.889 L54.585 595.954 Z\" fill=\"#000000\" fill-rule=\"evenodd\" fill-opacity=\"1\" /><path clip-path=\"url(#clip430)\" d=\"M93.9366 568.408 Q90.3255 568.408 88.4969 571.972 Q86.6913 575.514 86.6913 582.644 Q86.6913 589.75 88.4969 593.315 Q90.3255 596.856 93.9366 596.856 Q97.5709 596.856 99.3764 593.315 Q101.205 589.75 101.205 582.644 Q101.205 575.514 99.3764 571.972 Q97.5709 568.408 93.9366 568.408 M93.9366 564.704 Q99.7468 564.704 102.802 569.31 Q105.881 573.894 105.881 582.644 Q105.881 591.37 102.802 595.977 Q99.7468 600.56 93.9366 600.56 Q88.1265 600.56 85.0478 595.977 Q81.9923 591.37 81.9923 582.644 Q81.9923 573.894 85.0478 569.31 Q88.1265 564.704 93.9366 564.704 Z\" fill=\"#000000\" fill-rule=\"evenodd\" fill-opacity=\"1\" /><path clip-path=\"url(#clip430)\" d=\"M105.881 558.805 L129.993 558.805 L129.993 562.003 L105.881 562.003 L105.881 558.805 Z\" fill=\"#000000\" fill-rule=\"evenodd\" fill-opacity=\"1\" /><path clip-path=\"url(#clip430)\" d=\"M149.703 557.338 Q152.43 557.921 153.954 559.764 Q155.496 561.608 155.496 564.316 Q155.496 568.472 152.637 570.748 Q149.778 573.024 144.512 573.024 Q142.744 573.024 140.863 572.667 Q139.002 572.328 137.008 571.632 L137.008 567.965 Q138.588 568.886 140.469 569.356 Q142.349 569.827 144.399 569.827 Q147.973 569.827 149.835 568.416 Q151.716 567.005 151.716 564.316 Q151.716 561.833 149.966 560.441 Q148.236 559.031 145.133 559.031 L141.86 559.031 L141.86 555.909 L145.283 555.909 Q148.086 555.909 149.571 554.799 Q151.057 553.671 151.057 551.564 Q151.057 549.401 149.515 548.254 Q147.992 547.088 145.133 547.088 Q143.572 547.088 141.785 547.427 Q139.998 547.765 137.854 548.48 L137.854 545.094 Q140.017 544.492 141.898 544.192 Q143.797 543.891 145.471 543.891 Q149.797 543.891 152.317 545.865 Q154.838 547.821 154.838 551.169 Q154.838 553.501 153.502 555.119 Q152.167 556.718 149.703 557.338 Z\" fill=\"#000000\" fill-rule=\"evenodd\" fill-opacity=\"1\" /><path clip-path=\"url(#clip430)\" d=\"M55.3561 237.881 L62.995 237.881 L62.995 211.515 L54.6848 213.182 L54.6848 208.923 L62.9487 207.256 L67.6246 207.256 L67.6246 237.881 L75.2634 237.881 L75.2634 241.816 L55.3561 241.816 L55.3561 237.881 Z\" fill=\"#000000\" fill-rule=\"evenodd\" fill-opacity=\"1\" /><path clip-path=\"url(#clip430)\" d=\"M94.7078 210.335 Q91.0967 210.335 89.268 213.899 Q87.4624 217.441 87.4624 224.571 Q87.4624 231.677 89.268 235.242 Q91.0967 238.784 94.7078 238.784 Q98.342 238.784 100.148 235.242 Q101.976 231.677 101.976 224.571 Q101.976 217.441 100.148 213.899 Q98.342 210.335 94.7078 210.335 M94.7078 206.631 Q100.518 206.631 103.573 211.237 Q106.652 215.821 106.652 224.571 Q106.652 233.297 103.573 237.904 Q100.518 242.487 94.7078 242.487 Q88.8976 242.487 85.8189 237.904 Q82.7634 233.297 82.7634 224.571 Q82.7634 215.821 85.8189 211.237 Q88.8976 206.631 94.7078 206.631 Z\" fill=\"#000000\" fill-rule=\"evenodd\" fill-opacity=\"1\" /><path clip-path=\"url(#clip430)\" d=\"M106.652 200.732 L130.764 200.732 L130.764 203.93 L106.652 203.93 L106.652 200.732 Z\" fill=\"#000000\" fill-rule=\"evenodd\" fill-opacity=\"1\" /><path clip-path=\"url(#clip430)\" d=\"M142.236 211.208 L155.496 211.208 L155.496 214.406 L137.666 214.406 L137.666 211.208 Q139.829 208.97 143.553 205.209 Q147.296 201.428 148.255 200.337 Q150.079 198.287 150.794 196.877 Q151.527 195.447 151.527 194.074 Q151.527 191.836 149.948 190.426 Q148.387 189.015 145.866 189.015 Q144.08 189.015 142.086 189.636 Q140.111 190.256 137.854 191.516 L137.854 187.68 Q140.149 186.758 142.142 186.288 Q144.136 185.818 145.791 185.818 Q150.155 185.818 152.75 187.999 Q155.345 190.181 155.345 193.83 Q155.345 195.56 154.687 197.121 Q154.048 198.663 152.336 200.77 Q151.866 201.315 149.346 203.93 Q146.826 206.525 142.236 211.208 Z\" fill=\"#000000\" fill-rule=\"evenodd\" fill-opacity=\"1\" /><polyline clip-path=\"url(#clip432)\" style=\"stroke:#009af9; stroke-linecap:butt; stroke-linejoin:round; stroke-width:4; stroke-opacity:1; fill:none\" points=\"\n",
       "  235.513,1443.42 401.564,417.73 569.293,446.005 735.345,448.539 901.397,449.34 1069.13,449.694 1235.18,449.836 1402.91,449.861 1568.96,449.839 1735.01,449.783 \n",
       "  1902.74,449.67 \n",
       "  \"/>\n",
       "</svg>\n"
      ]
     },
     "execution_count": 1318,
     "metadata": {},
     "output_type": "execute_result"
    }
   ],
   "source": [
    "plot(vs, exc_pop, \n",
    "    size=(500, 400), \n",
    "    legend=nothing, \n",
    "    yaxis=:log, \n",
    "    ylims=(3e-6, 3e-2), \n",
    "    yticks=[1e-5, 1e-4, 1e-3, 1e-2],\n",
    "    framestyle = :box\n",
    ")"
   ]
  },
  {
   "cell_type": "code",
   "execution_count": 1319,
   "metadata": {},
   "outputs": [
    {
     "data": {
      "image/svg+xml": [
       "<?xml version=\"1.0\" encoding=\"utf-8\"?>\n",
       "<svg xmlns=\"http://www.w3.org/2000/svg\" xmlns:xlink=\"http://www.w3.org/1999/xlink\" width=\"500\" height=\"400\" viewBox=\"0 0 2000 1600\">\n",
       "<defs>\n",
       "  <clipPath id=\"clip470\">\n",
       "    <rect x=\"0\" y=\"0\" width=\"2000\" height=\"1600\"/>\n",
       "  </clipPath>\n",
       "</defs>\n",
       "<path clip-path=\"url(#clip470)\" d=\"\n",
       "M0 1600 L2000 1600 L2000 0 L0 0  Z\n",
       "  \" fill=\"#ffffff\" fill-rule=\"evenodd\" fill-opacity=\"1\"/>\n",
       "<defs>\n",
       "  <clipPath id=\"clip471\">\n",
       "    <rect x=\"400\" y=\"0\" width=\"1401\" height=\"1401\"/>\n",
       "  </clipPath>\n",
       "</defs>\n",
       "<path clip-path=\"url(#clip470)\" d=\"\n",
       "M310.445 1479.54 L1952.76 1479.54 L1952.76 47.2441 L310.445 47.2441  Z\n",
       "  \" fill=\"#ffffff\" fill-rule=\"evenodd\" fill-opacity=\"1\"/>\n",
       "<defs>\n",
       "  <clipPath id=\"clip472\">\n",
       "    <rect x=\"310\" y=\"47\" width=\"1643\" height=\"1433\"/>\n",
       "  </clipPath>\n",
       "</defs>\n",
       "<polyline clip-path=\"url(#clip472)\" style=\"stroke:#000000; stroke-linecap:butt; stroke-linejoin:round; stroke-width:2; stroke-opacity:0.1; fill:none\" points=\"\n",
       "  356.925,1479.54 356.925,47.2441 \n",
       "  \"/>\n",
       "<polyline clip-path=\"url(#clip472)\" style=\"stroke:#000000; stroke-linecap:butt; stroke-linejoin:round; stroke-width:2; stroke-opacity:0.1; fill:none\" points=\"\n",
       "  666.665,1479.54 666.665,47.2441 \n",
       "  \"/>\n",
       "<polyline clip-path=\"url(#clip472)\" style=\"stroke:#000000; stroke-linecap:butt; stroke-linejoin:round; stroke-width:2; stroke-opacity:0.1; fill:none\" points=\"\n",
       "  976.406,1479.54 976.406,47.2441 \n",
       "  \"/>\n",
       "<polyline clip-path=\"url(#clip472)\" style=\"stroke:#000000; stroke-linecap:butt; stroke-linejoin:round; stroke-width:2; stroke-opacity:0.1; fill:none\" points=\"\n",
       "  1286.15,1479.54 1286.15,47.2441 \n",
       "  \"/>\n",
       "<polyline clip-path=\"url(#clip472)\" style=\"stroke:#000000; stroke-linecap:butt; stroke-linejoin:round; stroke-width:2; stroke-opacity:0.1; fill:none\" points=\"\n",
       "  1595.89,1479.54 1595.89,47.2441 \n",
       "  \"/>\n",
       "<polyline clip-path=\"url(#clip472)\" style=\"stroke:#000000; stroke-linecap:butt; stroke-linejoin:round; stroke-width:2; stroke-opacity:0.1; fill:none\" points=\"\n",
       "  1905.63,1479.54 1905.63,47.2441 \n",
       "  \"/>\n",
       "<polyline clip-path=\"url(#clip470)\" style=\"stroke:#000000; stroke-linecap:butt; stroke-linejoin:round; stroke-width:4; stroke-opacity:1; fill:none\" points=\"\n",
       "  310.445,1479.54 1952.76,1479.54 \n",
       "  \"/>\n",
       "<polyline clip-path=\"url(#clip470)\" style=\"stroke:#000000; stroke-linecap:butt; stroke-linejoin:round; stroke-width:4; stroke-opacity:1; fill:none\" points=\"\n",
       "  356.925,1479.54 356.925,1460.64 \n",
       "  \"/>\n",
       "<polyline clip-path=\"url(#clip470)\" style=\"stroke:#000000; stroke-linecap:butt; stroke-linejoin:round; stroke-width:4; stroke-opacity:1; fill:none\" points=\"\n",
       "  666.665,1479.54 666.665,1460.64 \n",
       "  \"/>\n",
       "<polyline clip-path=\"url(#clip470)\" style=\"stroke:#000000; stroke-linecap:butt; stroke-linejoin:round; stroke-width:4; stroke-opacity:1; fill:none\" points=\"\n",
       "  976.406,1479.54 976.406,1460.64 \n",
       "  \"/>\n",
       "<polyline clip-path=\"url(#clip470)\" style=\"stroke:#000000; stroke-linecap:butt; stroke-linejoin:round; stroke-width:4; stroke-opacity:1; fill:none\" points=\"\n",
       "  1286.15,1479.54 1286.15,1460.64 \n",
       "  \"/>\n",
       "<polyline clip-path=\"url(#clip470)\" style=\"stroke:#000000; stroke-linecap:butt; stroke-linejoin:round; stroke-width:4; stroke-opacity:1; fill:none\" points=\"\n",
       "  1595.89,1479.54 1595.89,1460.64 \n",
       "  \"/>\n",
       "<polyline clip-path=\"url(#clip470)\" style=\"stroke:#000000; stroke-linecap:butt; stroke-linejoin:round; stroke-width:4; stroke-opacity:1; fill:none\" points=\"\n",
       "  1905.63,1479.54 1905.63,1460.64 \n",
       "  \"/>\n",
       "<path clip-path=\"url(#clip470)\" d=\"M356.925 1507.25 Q353.314 1507.25 351.485 1510.82 Q349.68 1514.36 349.68 1521.49 Q349.68 1528.6 351.485 1532.16 Q353.314 1535.7 356.925 1535.7 Q360.559 1535.7 362.365 1532.16 Q364.194 1528.6 364.194 1521.49 Q364.194 1514.36 362.365 1510.82 Q360.559 1507.25 356.925 1507.25 M356.925 1503.55 Q362.735 1503.55 365.791 1508.16 Q368.869 1512.74 368.869 1521.49 Q368.869 1530.22 365.791 1534.82 Q362.735 1539.41 356.925 1539.41 Q351.115 1539.41 348.036 1534.82 Q344.981 1530.22 344.981 1521.49 Q344.981 1512.74 348.036 1508.16 Q351.115 1503.55 356.925 1503.55 Z\" fill=\"#000000\" fill-rule=\"evenodd\" fill-opacity=\"1\" /><path clip-path=\"url(#clip470)\" d=\"M657.047 1534.8 L664.686 1534.8 L664.686 1508.44 L656.376 1510.1 L656.376 1505.84 L664.64 1504.18 L669.316 1504.18 L669.316 1534.8 L676.955 1534.8 L676.955 1538.74 L657.047 1538.74 L657.047 1534.8 Z\" fill=\"#000000\" fill-rule=\"evenodd\" fill-opacity=\"1\" /><path clip-path=\"url(#clip470)\" d=\"M971.058 1534.8 L987.378 1534.8 L987.378 1538.74 L965.433 1538.74 L965.433 1534.8 Q968.095 1532.05 972.679 1527.42 Q977.285 1522.76 978.466 1521.42 Q980.711 1518.9 981.591 1517.16 Q982.493 1515.4 982.493 1513.71 Q982.493 1510.96 980.549 1509.22 Q978.628 1507.49 975.526 1507.49 Q973.327 1507.49 970.873 1508.25 Q968.443 1509.01 965.665 1510.56 L965.665 1505.84 Q968.489 1504.71 970.943 1504.13 Q973.396 1503.55 975.433 1503.55 Q980.804 1503.55 983.998 1506.24 Q987.192 1508.92 987.192 1513.41 Q987.192 1515.54 986.382 1517.46 Q985.595 1519.36 983.489 1521.95 Q982.91 1522.62 979.808 1525.84 Q976.706 1529.04 971.058 1534.8 Z\" fill=\"#000000\" fill-rule=\"evenodd\" fill-opacity=\"1\" /><path clip-path=\"url(#clip470)\" d=\"M1290.39 1520.1 Q1293.75 1520.82 1295.62 1523.09 Q1297.52 1525.36 1297.52 1528.69 Q1297.52 1533.81 1294 1536.61 Q1290.49 1539.41 1284 1539.41 Q1281.83 1539.41 1279.51 1538.97 Q1277.22 1538.55 1274.77 1537.69 L1274.77 1533.18 Q1276.71 1534.31 1279.03 1534.89 Q1281.34 1535.47 1283.87 1535.47 Q1288.26 1535.47 1290.56 1533.74 Q1292.87 1532 1292.87 1528.69 Q1292.87 1525.63 1290.72 1523.92 Q1288.59 1522.19 1284.77 1522.19 L1280.74 1522.19 L1280.74 1518.34 L1284.95 1518.34 Q1288.4 1518.34 1290.23 1516.98 Q1292.06 1515.59 1292.06 1513 Q1292.06 1510.33 1290.16 1508.92 Q1288.29 1507.49 1284.77 1507.49 Q1282.85 1507.49 1280.65 1507.9 Q1278.45 1508.32 1275.81 1509.2 L1275.81 1505.03 Q1278.47 1504.29 1280.79 1503.92 Q1283.12 1503.55 1285.19 1503.55 Q1290.51 1503.55 1293.61 1505.98 Q1296.71 1508.39 1296.71 1512.51 Q1296.71 1515.38 1295.07 1517.37 Q1293.43 1519.34 1290.39 1520.1 Z\" fill=\"#000000\" fill-rule=\"evenodd\" fill-opacity=\"1\" /><path clip-path=\"url(#clip470)\" d=\"M1598.9 1508.25 L1587.09 1526.7 L1598.9 1526.7 L1598.9 1508.25 M1597.67 1504.18 L1603.55 1504.18 L1603.55 1526.7 L1608.48 1526.7 L1608.48 1530.59 L1603.55 1530.59 L1603.55 1538.74 L1598.9 1538.74 L1598.9 1530.59 L1583.29 1530.59 L1583.29 1526.07 L1597.67 1504.18 Z\" fill=\"#000000\" fill-rule=\"evenodd\" fill-opacity=\"1\" /><path clip-path=\"url(#clip470)\" d=\"M1895.9 1504.18 L1914.26 1504.18 L1914.26 1508.11 L1900.19 1508.11 L1900.19 1516.58 Q1901.2 1516.24 1902.22 1516.07 Q1903.24 1515.89 1904.26 1515.89 Q1910.05 1515.89 1913.43 1519.06 Q1916.81 1522.23 1916.81 1527.65 Q1916.81 1533.23 1913.33 1536.33 Q1909.86 1539.41 1903.54 1539.41 Q1901.37 1539.41 1899.1 1539.04 Q1896.85 1538.67 1894.45 1537.93 L1894.45 1533.23 Q1896.53 1534.36 1898.75 1534.92 Q1900.97 1535.47 1903.45 1535.47 Q1907.45 1535.47 1909.79 1533.37 Q1912.13 1531.26 1912.13 1527.65 Q1912.13 1524.04 1909.79 1521.93 Q1907.45 1519.82 1903.45 1519.82 Q1901.58 1519.82 1899.7 1520.24 Q1897.85 1520.66 1895.9 1521.54 L1895.9 1504.18 Z\" fill=\"#000000\" fill-rule=\"evenodd\" fill-opacity=\"1\" /><polyline clip-path=\"url(#clip472)\" style=\"stroke:#000000; stroke-linecap:butt; stroke-linejoin:round; stroke-width:2; stroke-opacity:0.1; fill:none\" points=\"\n",
       "  310.445,1230.9 1952.76,1230.9 \n",
       "  \"/>\n",
       "<polyline clip-path=\"url(#clip472)\" style=\"stroke:#000000; stroke-linecap:butt; stroke-linejoin:round; stroke-width:2; stroke-opacity:0.1; fill:none\" points=\"\n",
       "  310.445,849.86 1952.76,849.86 \n",
       "  \"/>\n",
       "<polyline clip-path=\"url(#clip472)\" style=\"stroke:#000000; stroke-linecap:butt; stroke-linejoin:round; stroke-width:2; stroke-opacity:0.1; fill:none\" points=\"\n",
       "  310.445,468.82 1952.76,468.82 \n",
       "  \"/>\n",
       "<polyline clip-path=\"url(#clip472)\" style=\"stroke:#000000; stroke-linecap:butt; stroke-linejoin:round; stroke-width:2; stroke-opacity:0.1; fill:none\" points=\"\n",
       "  310.445,87.7807 1952.76,87.7807 \n",
       "  \"/>\n",
       "<polyline clip-path=\"url(#clip470)\" style=\"stroke:#000000; stroke-linecap:butt; stroke-linejoin:round; stroke-width:4; stroke-opacity:1; fill:none\" points=\"\n",
       "  310.445,1479.54 310.445,47.2441 \n",
       "  \"/>\n",
       "<polyline clip-path=\"url(#clip470)\" style=\"stroke:#000000; stroke-linecap:butt; stroke-linejoin:round; stroke-width:4; stroke-opacity:1; fill:none\" points=\"\n",
       "  310.445,1230.9 329.342,1230.9 \n",
       "  \"/>\n",
       "<polyline clip-path=\"url(#clip470)\" style=\"stroke:#000000; stroke-linecap:butt; stroke-linejoin:round; stroke-width:4; stroke-opacity:1; fill:none\" points=\"\n",
       "  310.445,849.86 329.342,849.86 \n",
       "  \"/>\n",
       "<polyline clip-path=\"url(#clip470)\" style=\"stroke:#000000; stroke-linecap:butt; stroke-linejoin:round; stroke-width:4; stroke-opacity:1; fill:none\" points=\"\n",
       "  310.445,468.82 329.342,468.82 \n",
       "  \"/>\n",
       "<polyline clip-path=\"url(#clip470)\" style=\"stroke:#000000; stroke-linecap:butt; stroke-linejoin:round; stroke-width:4; stroke-opacity:1; fill:none\" points=\"\n",
       "  310.445,87.7807 329.342,87.7807 \n",
       "  \"/>\n",
       "<path clip-path=\"url(#clip470)\" d=\"M52.9921 1237.8 L82.6679 1237.8 L82.6679 1241.73 L52.9921 1241.73 L52.9921 1237.8 Z\" fill=\"#000000\" fill-rule=\"evenodd\" fill-opacity=\"1\" /><path clip-path=\"url(#clip470)\" d=\"M103.339 1235.48 Q100.191 1235.48 98.3391 1237.64 Q96.5104 1239.79 96.5104 1243.54 Q96.5104 1247.27 98.3391 1249.44 Q100.191 1251.59 103.339 1251.59 Q106.487 1251.59 108.316 1249.44 Q110.168 1247.27 110.168 1243.54 Q110.168 1239.79 108.316 1237.64 Q106.487 1235.48 103.339 1235.48 M112.621 1220.83 L112.621 1225.09 Q110.862 1224.26 109.057 1223.82 Q107.274 1223.38 105.515 1223.38 Q100.885 1223.38 98.4317 1226.5 Q96.0012 1229.63 95.6539 1235.95 Q97.0197 1233.93 99.0798 1232.87 Q101.14 1231.78 103.617 1231.78 Q108.825 1231.78 111.834 1234.95 Q114.867 1238.1 114.867 1243.54 Q114.867 1248.86 111.719 1252.08 Q108.571 1255.3 103.339 1255.3 Q97.3437 1255.3 94.1725 1250.72 Q91.0012 1246.11 91.0012 1237.38 Q91.0012 1229.19 94.89 1224.33 Q98.7789 1219.44 105.33 1219.44 Q107.089 1219.44 108.871 1219.79 Q110.677 1220.14 112.621 1220.83 Z\" fill=\"#000000\" fill-rule=\"evenodd\" fill-opacity=\"1\" /><path clip-path=\"url(#clip470)\" d=\"M122.922 1248.75 L127.807 1248.75 L127.807 1254.63 L122.922 1254.63 L122.922 1248.75 Z\" fill=\"#000000\" fill-rule=\"evenodd\" fill-opacity=\"1\" /><path clip-path=\"url(#clip470)\" d=\"M147.992 1223.15 Q144.381 1223.15 142.552 1226.71 Q140.746 1230.25 140.746 1237.38 Q140.746 1244.49 142.552 1248.05 Q144.381 1251.59 147.992 1251.59 Q151.626 1251.59 153.431 1248.05 Q155.26 1244.49 155.26 1237.38 Q155.26 1230.25 153.431 1226.71 Q151.626 1223.15 147.992 1223.15 M147.992 1219.44 Q153.802 1219.44 156.857 1224.05 Q159.936 1228.63 159.936 1237.38 Q159.936 1246.11 156.857 1250.72 Q153.802 1255.3 147.992 1255.3 Q142.181 1255.3 139.103 1250.72 Q136.047 1246.11 136.047 1237.38 Q136.047 1228.63 139.103 1224.05 Q142.181 1219.44 147.992 1219.44 Z\" fill=\"#000000\" fill-rule=\"evenodd\" fill-opacity=\"1\" /><path clip-path=\"url(#clip470)\" d=\"M196.325 1229.16 L185.746 1239.79 L196.325 1250.37 L193.57 1253.17 L182.945 1242.54 L172.32 1253.17 L169.589 1250.37 L180.144 1239.79 L169.589 1229.16 L172.32 1226.36 L182.945 1236.99 L193.57 1226.36 L196.325 1229.16 Z\" fill=\"#000000\" fill-rule=\"evenodd\" fill-opacity=\"1\" /><path clip-path=\"url(#clip470)\" d=\"M208.686 1250.69 L216.325 1250.69 L216.325 1224.33 L208.014 1225.99 L208.014 1221.73 L216.278 1220.07 L220.954 1220.07 L220.954 1250.69 L228.593 1250.69 L228.593 1254.63 L208.686 1254.63 L208.686 1250.69 Z\" fill=\"#000000\" fill-rule=\"evenodd\" fill-opacity=\"1\" /><path clip-path=\"url(#clip470)\" d=\"M248.037 1223.15 Q244.426 1223.15 242.598 1226.71 Q240.792 1230.25 240.792 1237.38 Q240.792 1244.49 242.598 1248.05 Q244.426 1251.59 248.037 1251.59 Q251.672 1251.59 253.477 1248.05 Q255.306 1244.49 255.306 1237.38 Q255.306 1230.25 253.477 1226.71 Q251.672 1223.15 248.037 1223.15 M248.037 1219.44 Q253.848 1219.44 256.903 1224.05 Q259.982 1228.63 259.982 1237.38 Q259.982 1246.11 256.903 1250.72 Q253.848 1255.3 248.037 1255.3 Q242.227 1255.3 239.149 1250.72 Q236.093 1246.11 236.093 1237.38 Q236.093 1228.63 239.149 1224.05 Q242.227 1219.44 248.037 1219.44 Z\" fill=\"#000000\" fill-rule=\"evenodd\" fill-opacity=\"1\" /><path clip-path=\"url(#clip470)\" d=\"M272.658 1202.45 L263.066 1217.44 L272.658 1217.44 L272.658 1202.45 M271.661 1199.14 L276.439 1199.14 L276.439 1217.44 L280.445 1217.44 L280.445 1220.6 L276.439 1220.6 L276.439 1227.22 L272.658 1227.22 L272.658 1220.6 L259.982 1220.6 L259.982 1216.93 L271.661 1199.14 Z\" fill=\"#000000\" fill-rule=\"evenodd\" fill-opacity=\"1\" /><path clip-path=\"url(#clip470)\" d=\"M52.9921 856.759 L82.6679 856.759 L82.6679 860.694 L52.9921 860.694 L52.9921 856.759 Z\" fill=\"#000000\" fill-rule=\"evenodd\" fill-opacity=\"1\" /><path clip-path=\"url(#clip470)\" d=\"M105.608 843.102 L93.8021 861.551 L105.608 861.551 L105.608 843.102 M104.381 839.028 L110.26 839.028 L110.26 861.551 L115.191 861.551 L115.191 865.439 L110.26 865.439 L110.26 873.588 L105.608 873.588 L105.608 865.439 L90.0058 865.439 L90.0058 860.926 L104.381 839.028 Z\" fill=\"#000000\" fill-rule=\"evenodd\" fill-opacity=\"1\" /><path clip-path=\"url(#clip470)\" d=\"M122.922 867.708 L127.807 867.708 L127.807 873.588 L122.922 873.588 L122.922 867.708 Z\" fill=\"#000000\" fill-rule=\"evenodd\" fill-opacity=\"1\" /><path clip-path=\"url(#clip470)\" d=\"M147.992 842.106 Q144.381 842.106 142.552 845.671 Q140.746 849.213 140.746 856.342 Q140.746 863.449 142.552 867.014 Q144.381 870.555 147.992 870.555 Q151.626 870.555 153.431 867.014 Q155.26 863.449 155.26 856.342 Q155.26 849.213 153.431 845.671 Q151.626 842.106 147.992 842.106 M147.992 838.403 Q153.802 838.403 156.857 843.009 Q159.936 847.592 159.936 856.342 Q159.936 865.069 156.857 869.676 Q153.802 874.259 147.992 874.259 Q142.181 874.259 139.103 869.676 Q136.047 865.069 136.047 856.342 Q136.047 847.592 139.103 843.009 Q142.181 838.403 147.992 838.403 Z\" fill=\"#000000\" fill-rule=\"evenodd\" fill-opacity=\"1\" /><path clip-path=\"url(#clip470)\" d=\"M196.325 848.125 L185.746 858.75 L196.325 869.328 L193.57 872.129 L182.945 861.504 L172.32 872.129 L169.589 869.328 L180.144 858.75 L169.589 848.125 L172.32 845.324 L182.945 855.949 L193.57 845.324 L196.325 848.125 Z\" fill=\"#000000\" fill-rule=\"evenodd\" fill-opacity=\"1\" /><path clip-path=\"url(#clip470)\" d=\"M208.686 869.652 L216.325 869.652 L216.325 843.287 L208.014 844.953 L208.014 840.694 L216.278 839.028 L220.954 839.028 L220.954 869.652 L228.593 869.652 L228.593 873.588 L208.686 873.588 L208.686 869.652 Z\" fill=\"#000000\" fill-rule=\"evenodd\" fill-opacity=\"1\" /><path clip-path=\"url(#clip470)\" d=\"M248.037 842.106 Q244.426 842.106 242.598 845.671 Q240.792 849.213 240.792 856.342 Q240.792 863.449 242.598 867.014 Q244.426 870.555 248.037 870.555 Q251.672 870.555 253.477 867.014 Q255.306 863.449 255.306 856.342 Q255.306 849.213 253.477 845.671 Q251.672 842.106 248.037 842.106 M248.037 838.403 Q253.848 838.403 256.903 843.009 Q259.982 847.592 259.982 856.342 Q259.982 865.069 256.903 869.676 Q253.848 874.259 248.037 874.259 Q242.227 874.259 239.149 869.676 Q236.093 865.069 236.093 856.342 Q236.093 847.592 239.149 843.009 Q242.227 838.403 248.037 838.403 Z\" fill=\"#000000\" fill-rule=\"evenodd\" fill-opacity=\"1\" /><path clip-path=\"url(#clip470)\" d=\"M272.658 821.407 L263.066 836.397 L272.658 836.397 L272.658 821.407 M271.661 818.097 L276.439 818.097 L276.439 836.397 L280.445 836.397 L280.445 839.557 L276.439 839.557 L276.439 846.177 L272.658 846.177 L272.658 839.557 L259.982 839.557 L259.982 835.889 L271.661 818.097 Z\" fill=\"#000000\" fill-rule=\"evenodd\" fill-opacity=\"1\" /><path clip-path=\"url(#clip470)\" d=\"M52.9921 475.719 L82.6679 475.719 L82.6679 479.654 L52.9921 479.654 L52.9921 475.719 Z\" fill=\"#000000\" fill-rule=\"evenodd\" fill-opacity=\"1\" /><path clip-path=\"url(#clip470)\" d=\"M96.7882 488.613 L113.108 488.613 L113.108 492.548 L91.1632 492.548 L91.1632 488.613 Q93.8252 485.858 98.4085 481.229 Q103.015 476.576 104.196 475.233 Q106.441 472.71 107.321 470.974 Q108.223 469.215 108.223 467.525 Q108.223 464.77 106.279 463.034 Q104.358 461.298 101.256 461.298 Q99.0567 461.298 96.603 462.062 Q94.1725 462.826 91.3947 464.377 L91.3947 459.655 Q94.2188 458.52 96.6724 457.942 Q99.1261 457.363 101.163 457.363 Q106.534 457.363 109.728 460.048 Q112.922 462.733 112.922 467.224 Q112.922 469.354 112.112 471.275 Q111.325 473.173 109.219 475.766 Q108.64 476.437 105.538 479.654 Q102.436 482.849 96.7882 488.613 Z\" fill=\"#000000\" fill-rule=\"evenodd\" fill-opacity=\"1\" /><path clip-path=\"url(#clip470)\" d=\"M122.922 486.668 L127.807 486.668 L127.807 492.548 L122.922 492.548 L122.922 486.668 Z\" fill=\"#000000\" fill-rule=\"evenodd\" fill-opacity=\"1\" /><path clip-path=\"url(#clip470)\" d=\"M147.992 461.067 Q144.381 461.067 142.552 464.631 Q140.746 468.173 140.746 475.303 Q140.746 482.409 142.552 485.974 Q144.381 489.516 147.992 489.516 Q151.626 489.516 153.431 485.974 Q155.26 482.409 155.26 475.303 Q155.26 468.173 153.431 464.631 Q151.626 461.067 147.992 461.067 M147.992 457.363 Q153.802 457.363 156.857 461.969 Q159.936 466.553 159.936 475.303 Q159.936 484.029 156.857 488.636 Q153.802 493.219 147.992 493.219 Q142.181 493.219 139.103 488.636 Q136.047 484.029 136.047 475.303 Q136.047 466.553 139.103 461.969 Q142.181 457.363 147.992 457.363 Z\" fill=\"#000000\" fill-rule=\"evenodd\" fill-opacity=\"1\" /><path clip-path=\"url(#clip470)\" d=\"M196.325 467.085 L185.746 477.71 L196.325 488.289 L193.57 491.09 L182.945 480.465 L172.32 491.09 L169.589 488.289 L180.144 477.71 L169.589 467.085 L172.32 464.284 L182.945 474.909 L193.57 464.284 L196.325 467.085 Z\" fill=\"#000000\" fill-rule=\"evenodd\" fill-opacity=\"1\" /><path clip-path=\"url(#clip470)\" d=\"M208.686 488.613 L216.325 488.613 L216.325 462.247 L208.014 463.914 L208.014 459.655 L216.278 457.988 L220.954 457.988 L220.954 488.613 L228.593 488.613 L228.593 492.548 L208.686 492.548 L208.686 488.613 Z\" fill=\"#000000\" fill-rule=\"evenodd\" fill-opacity=\"1\" /><path clip-path=\"url(#clip470)\" d=\"M248.037 461.067 Q244.426 461.067 242.598 464.631 Q240.792 468.173 240.792 475.303 Q240.792 482.409 242.598 485.974 Q244.426 489.516 248.037 489.516 Q251.672 489.516 253.477 485.974 Q255.306 482.409 255.306 475.303 Q255.306 468.173 253.477 464.631 Q251.672 461.067 248.037 461.067 M248.037 457.363 Q253.848 457.363 256.903 461.969 Q259.982 466.553 259.982 475.303 Q259.982 484.029 256.903 488.636 Q253.848 493.219 248.037 493.219 Q242.227 493.219 239.149 488.636 Q236.093 484.029 236.093 475.303 Q236.093 466.553 239.149 461.969 Q242.227 457.363 248.037 457.363 Z\" fill=\"#000000\" fill-rule=\"evenodd\" fill-opacity=\"1\" /><path clip-path=\"url(#clip470)\" d=\"M272.658 440.368 L263.066 455.357 L272.658 455.357 L272.658 440.368 M271.661 437.058 L276.439 437.058 L276.439 455.357 L280.445 455.357 L280.445 458.517 L276.439 458.517 L276.439 465.138 L272.658 465.138 L272.658 458.517 L259.982 458.517 L259.982 454.85 L271.661 437.058 Z\" fill=\"#000000\" fill-rule=\"evenodd\" fill-opacity=\"1\" /><path clip-path=\"url(#clip470)\" d=\"M268.5 73.5793 Q264.889 73.5793 263.06 77.1441 Q261.255 80.6858 261.255 87.8154 Q261.255 94.9218 263.06 98.4866 Q264.889 102.028 268.5 102.028 Q272.134 102.028 273.94 98.4866 Q275.769 94.9218 275.769 87.8154 Q275.769 80.6858 273.94 77.1441 Q272.134 73.5793 268.5 73.5793 M268.5 69.8757 Q274.31 69.8757 277.366 74.4821 Q280.445 79.0654 280.445 87.8154 Q280.445 96.5422 277.366 101.149 Q274.31 105.732 268.5 105.732 Q262.69 105.732 259.611 101.149 Q256.556 96.5422 256.556 87.8154 Q256.556 79.0654 259.611 74.4821 Q262.69 69.8757 268.5 69.8757 Z\" fill=\"#000000\" fill-rule=\"evenodd\" fill-opacity=\"1\" /><polyline clip-path=\"url(#clip472)\" style=\"stroke:#009af9; stroke-linecap:butt; stroke-linejoin:round; stroke-width:4; stroke-opacity:1; fill:none\" points=\"\n",
       "  356.925,88.6705 511.237,1439 667.107,1141.14 821.418,1081.52 975.73,1053 1131.6,1035.55 1285.91,1025.47 1441.78,1019.78 1596.09,1015.44 1750.41,1011.28 \n",
       "  1906.28,1008.31 \n",
       "  \"/>\n",
       "</svg>\n"
      ]
     },
     "execution_count": 1319,
     "metadata": {},
     "output_type": "execute_result"
    }
   ],
   "source": [
    "plot(vs, forces_SI, size=(500,400), legend=nothing, ylim=[minimum([0; forces_SI]), maximum([0; forces_SI])])"
   ]
  },
  {
   "cell_type": "code",
   "execution_count": null,
   "metadata": {},
   "outputs": [],
   "source": []
  }
 ],
 "metadata": {
  "kernelspec": {
   "display_name": "Julia (8 threads) 1.7.1",
   "language": "julia",
   "name": "julia-(8-threads)-1.7"
  },
  "language_info": {
   "file_extension": ".jl",
   "mimetype": "application/julia",
   "name": "julia",
   "version": "1.7.1"
  }
 },
 "nbformat": 4,
 "nbformat_minor": 2
}
