{
 "cells": [
  {
   "cell_type": "code",
   "execution_count": 1,
   "metadata": {},
   "outputs": [],
   "source": [
    "import numpy as np\n",
    "import matplotlib.pyplot as plt\n",
    "import pylcp\n",
    "import lmfit\n",
    "from pylcp.common import progressBar"
   ]
  },
  {
   "cell_type": "code",
   "execution_count": 39,
   "metadata": {},
   "outputs": [],
   "source": [
    "mass = 50\n",
    "# Make a method to return the lasers:\n",
    "def return_lasers(delta, s):\n",
    "    return pylcp.laserBeams([\n",
    "        {'kvec':np.array([ 0., 0., -1.]), 'pol':-1,\n",
    "         'pol_coord':'spherical', 'delta':delta, 's':s},\n",
    "        {'kvec':np.array([ 0., 0.,  1.]), 'pol':+1,\n",
    "         'pol_coord':'spherical', 'delta':delta, 's':s},\n",
    "        {'kvec':np.array([ 0., -1., 0.]), 'pol':-1,\n",
    "         'pol_coord':'spherical', 'delta':delta, 's':s},\n",
    "        {'kvec':np.array([ 0.,  1., 0.]), 'pol':+1,\n",
    "         'pol_coord':'spherical', 'delta':delta, 's':s}\n",
    "        ], beam_type=pylcp.infinitePlaneWaveBeam)\n",
    "\n",
    "# Now define a two level Hamiltonian\n",
    "def return_hamiltonian(delta):\n",
    "    Hg = np.array([[0.]])\n",
    "    He = np.array([[-delta]])\n",
    "    mu_q = np.zeros((3, 1, 1))\n",
    "    d_q = np.zeros((3, 1, 1))\n",
    "    d_q[0, 0, 0] = 1\n",
    "    d_q[2, 0, 0] = 1\n",
    "\n",
    "    return pylcp.hamiltonian(Hg, He, mu_q, mu_q, d_q, mass=mass)\n",
    "\n",
    "hamiltonian = return_hamiltonian(0.)\n",
    "\n",
    "magField = lambda R: np.zeros(R.shape)"
   ]
  },
  {
   "cell_type": "code",
   "execution_count": 40,
   "metadata": {},
   "outputs": [
    {
     "data": {
      "text/plain": [
       "array([[ 0.00000000e+00+0.j ,  0.00000000e+00+0.j ,  1.00000000e+00+0.j ],\n",
       "       [ 0.00000000e+00+0.j ,  0.00000000e+00+0.j ,  1.00000000e+00+0.j ],\n",
       "       [ 3.06161700e-17+0.5j, -7.07106781e-01+0.j ,  3.06161700e-17-0.5j],\n",
       "       [ 3.06161700e-17-0.5j,  7.07106781e-01+0.j ,  3.06161700e-17+0.5j]])"
      ]
     },
     "execution_count": 40,
     "metadata": {},
     "output_type": "execute_result"
    }
   ],
   "source": [
    "laserBeams.pol()"
   ]
  },
  {
   "cell_type": "code",
   "execution_count": 41,
   "metadata": {},
   "outputs": [],
   "source": [
    "Gamma = 2*np.pi * 8e6"
   ]
  },
  {
   "cell_type": "code",
   "execution_count": 42,
   "metadata": {},
   "outputs": [],
   "source": [
    "delta = -1\n",
    "s = 1.5\n",
    "\n",
    "laserBeams = return_lasers(delta, s)\n",
    "eqns = {}\n",
    "eqns['obe'] = pylcp.obe(laserBeams, magField, hamiltonian)\n",
    "\n",
    "extra_args = {}\n",
    "extra_args['obe'] = {}\n",
    "\n",
    "v = np.arange(-10.0, 10.1, 2)\n",
    "\n",
    "for key in eqns:\n",
    "    eqns[key].generate_force_profile(np.zeros((3,) + v.shape),\n",
    "                                     [v, np.zeros(v.shape), np.zeros(v.shape)],\n",
    "                                     name='molasses', **extra_args[key])"
   ]
  },
  {
   "cell_type": "code",
   "execution_count": 43,
   "metadata": {},
   "outputs": [
    {
     "data": {
      "image/png": "[encoded data removed]",
      "text/plain": [
       "<Figure size 504x288 with 1 Axes>"
      ]
     },
     "metadata": {
      "needs_background": "light"
     },
     "output_type": "display_data"
    }
   ],
   "source": [
    "fig, ax = plt.subplots(1, 1, figsize=(7, 4.))\n",
    "lbls = {'obe':'OBE', 'rateeq':'Rate Eq.', 'heuristiceq':'Heuristic Eq.'}\n",
    "styles = ['-','--','-.']\n",
    "for ii, key in enumerate(eqns):\n",
    "    ax.plot(v, eqns[key].profile['molasses'].F[0], styles[ii],\n",
    "            label=lbls[key], linewidth=1.25-0.25*ii)\n",
    "    #ax[1].plot(v, eqn.profile['molasses'].Neq)\n",
    "#ax.legend(fontsize=7)\n",
    "ax.set_xlabel('$v/(\\Gamma/k)$')\n",
    "ax.set_ylabel('$f/(\\hbar k \\Gamma)$')\n",
    "fig.subplots_adjust(bottom=0.2)"
   ]
  },
  {
   "cell_type": "code",
   "execution_count": 27,
   "metadata": {},
   "outputs": [
    {
     "data": {
      "image/png": "[encoded data removed]",
      "text/plain": [
       "<Figure size 432x288 with 1 Axes>"
      ]
     },
     "metadata": {
      "needs_background": "light"
     },
     "output_type": "display_data"
    }
   ],
   "source": [
    "fig, ax = plt.subplots(1, 1)\n",
    "for key in ['obe']:\n",
    "    #ax[0].plot(v, eqn[key].profile['molasses'].F[0])\n",
    "    ax.plot(v, eqns[key].profile['molasses'].Neq)"
   ]
  },
  {
   "cell_type": "code",
   "execution_count": 28,
   "metadata": {},
   "outputs": [
    {
     "data": {
      "text/plain": [
       "array([[0.78581603, 0.21418397],\n",
       "       [0.78581596, 0.21418404],\n",
       "       [0.78581592, 0.21418408],\n",
       "       [0.78581591, 0.21418409],\n",
       "       [0.78581591, 0.21418409],\n",
       "       [0.7858159 , 0.2141841 ],\n",
       "       [0.78581588, 0.21418412],\n",
       "       [0.78581581, 0.21418419],\n",
       "       [0.78581587, 0.21418413],\n",
       "       [0.78581591, 0.21418409],\n",
       "       [0.78581592, 0.21418408],\n",
       "       [0.78581591, 0.21418409],\n",
       "       [0.78581587, 0.21418413],\n",
       "       [0.78581581, 0.21418419],\n",
       "       [0.78581588, 0.21418412],\n",
       "       [0.7858159 , 0.2141841 ],\n",
       "       [0.78581591, 0.21418409],\n",
       "       [0.78581591, 0.21418409],\n",
       "       [0.78581592, 0.21418408],\n",
       "       [0.78581596, 0.21418404],\n",
       "       [0.78581603, 0.21418397]])"
      ]
     },
     "execution_count": 28,
     "metadata": {},
     "output_type": "execute_result"
    }
   ],
   "source": [
    "eqns[key].profile['molasses'].Neq"
   ]
  },
  {
   "cell_type": "code",
   "execution_count": 78,
   "metadata": {},
   "outputs": [
    {
     "ename": "NameError",
     "evalue": "name 'x' is not defined",
     "output_type": "error",
     "traceback": [
      "\u001b[1;31m---------------------------------------------------------------------------\u001b[0m",
      "\u001b[1;31mNameError\u001b[0m                                 Traceback (most recent call last)",
      "\u001b[1;32mC:\\Users\\CHRIST~1\\AppData\\Local\\Temp/ipykernel_258360/4200667116.py\u001b[0m in \u001b[0;36m<module>\u001b[1;34m\u001b[0m\n\u001b[1;32m----> 1\u001b[1;33m \u001b[0mx\u001b[0m\u001b[1;33m[\u001b[0m\u001b[1;34m'rho'\u001b[0m\u001b[1;33m]\u001b[0m\u001b[1;33m[\u001b[0m\u001b[1;36m1\u001b[0m\u001b[1;33m,\u001b[0m \u001b[1;36m1\u001b[0m\u001b[1;33m]\u001b[0m\u001b[1;33m[\u001b[0m\u001b[1;36m4989\u001b[0m\u001b[1;33m]\u001b[0m\u001b[1;33m\u001b[0m\u001b[1;33m\u001b[0m\u001b[0m\n\u001b[0m",
      "\u001b[1;31mNameError\u001b[0m: name 'x' is not defined"
     ]
    }
   ],
   "source": [
    "x['rho'][1, 1][4989]"
   ]
  },
  {
   "cell_type": "code",
   "execution_count": 79,
   "metadata": {},
   "outputs": [
    {
     "ename": "KeyError",
     "evalue": "'obe'",
     "output_type": "error",
     "traceback": [
      "\u001b[1;31m---------------------------------------------------------------------------\u001b[0m",
      "\u001b[1;31mKeyError\u001b[0m                                  Traceback (most recent call last)",
      "\u001b[1;32mC:\\Users\\CHRIST~1\\AppData\\Local\\Temp/ipykernel_258360/1892777109.py\u001b[0m in \u001b[0;36m<module>\u001b[1;34m\u001b[0m\n\u001b[1;32m----> 1\u001b[1;33m \u001b[0mnp\u001b[0m\u001b[1;33m.\u001b[0m\u001b[0munique\u001b[0m\u001b[1;33m(\u001b[0m\u001b[0meqns\u001b[0m\u001b[1;33m[\u001b[0m\u001b[1;34m'obe'\u001b[0m\u001b[1;33m]\u001b[0m\u001b[1;33m.\u001b[0m\u001b[0msol\u001b[0m\u001b[1;33m.\u001b[0m\u001b[0mt\u001b[0m\u001b[1;33m)\u001b[0m\u001b[1;33m.\u001b[0m\u001b[0mshape\u001b[0m\u001b[1;33m\u001b[0m\u001b[1;33m\u001b[0m\u001b[0m\n\u001b[0m",
      "\u001b[1;31mKeyError\u001b[0m: 'obe'"
     ]
    }
   ],
   "source": [
    "np.unique(eqns['obe'].sol.t).shape"
   ]
  },
  {
   "cell_type": "code",
   "execution_count": 80,
   "metadata": {},
   "outputs": [
    {
     "ename": "KeyError",
     "evalue": "'obe'",
     "output_type": "error",
     "traceback": [
      "\u001b[1;31m---------------------------------------------------------------------------\u001b[0m",
      "\u001b[1;31mKeyError\u001b[0m                                  Traceback (most recent call last)",
      "\u001b[1;32mC:\\Users\\CHRIST~1\\AppData\\Local\\Temp/ipykernel_258360/210906290.py\u001b[0m in \u001b[0;36m<module>\u001b[1;34m\u001b[0m\n\u001b[0;32m      1\u001b[0m \u001b[0mfig\u001b[0m\u001b[1;33m,\u001b[0m \u001b[0max\u001b[0m \u001b[1;33m=\u001b[0m \u001b[0mplt\u001b[0m\u001b[1;33m.\u001b[0m\u001b[0msubplots\u001b[0m\u001b[1;33m(\u001b[0m\u001b[1;36m1\u001b[0m\u001b[1;33m,\u001b[0m \u001b[1;36m1\u001b[0m\u001b[1;33m)\u001b[0m\u001b[1;33m\u001b[0m\u001b[1;33m\u001b[0m\u001b[0m\n\u001b[0;32m      2\u001b[0m \u001b[1;32mfor\u001b[0m \u001b[0mjj\u001b[0m \u001b[1;32min\u001b[0m \u001b[0mrange\u001b[0m\u001b[1;33m(\u001b[0m\u001b[1;36m2\u001b[0m\u001b[1;33m)\u001b[0m\u001b[1;33m:\u001b[0m\u001b[1;33m\u001b[0m\u001b[1;33m\u001b[0m\u001b[0m\n\u001b[1;32m----> 3\u001b[1;33m     ax.plot(eqns['obe'].sol.t, np.abs(eqns['obe'].sol.rho[jj, jj]), '-',\n\u001b[0m\u001b[0;32m      4\u001b[0m             \u001b[0mcolor\u001b[0m\u001b[1;33m=\u001b[0m\u001b[1;34m'C{0:d}'\u001b[0m\u001b[1;33m.\u001b[0m\u001b[0mformat\u001b[0m\u001b[1;33m(\u001b[0m\u001b[0mjj\u001b[0m\u001b[1;33m)\u001b[0m\u001b[1;33m,\u001b[0m\u001b[1;33m\u001b[0m\u001b[1;33m\u001b[0m\u001b[0m\n\u001b[0;32m      5\u001b[0m             linewidth=0.5)\n",
      "\u001b[1;31mKeyError\u001b[0m: 'obe'"
     ]
    },
    {
     "data": {
      "image/png": "[encoded data removed]",
      "text/plain": [
       "<Figure size 432x288 with 1 Axes>"
      ]
     },
     "metadata": {
      "needs_background": "light"
     },
     "output_type": "display_data"
    }
   ],
   "source": [
    "fig, ax = plt.subplots(1, 1)\n",
    "for jj in range(2):\n",
    "    ax.plot(eqns['obe'].sol.t, np.abs(eqns['obe'].sol.rho[jj, jj]), '-',\n",
    "            color='C{0:d}'.format(jj),\n",
    "            linewidth=0.5)\n",
    "\n",
    "\n",
    "ax.set_xlabel('$\\\\Gamma t$')\n",
    "ax.set_ylabel('$\\\\rho_{ii}$');"
   ]
  },
  {
   "cell_type": "code",
   "execution_count": null,
   "metadata": {},
   "outputs": [],
   "source": []
  }
 ],
 "metadata": {
  "kernelspec": {
   "display_name": "Python 3 (ipykernel)",
   "language": "python",
   "name": "python3"
  },
  "language_info": {
   "codemirror_mode": {
    "name": "ipython",
    "version": 3
   },
   "file_extension": ".py",
   "mimetype": "text/x-python",
   "name": "python",
   "nbconvert_exporter": "python",
   "pygments_lexer": "ipython3",
   "version": "3.9.7"
  }
 },
 "nbformat": 4,
 "nbformat_minor": 2
}
