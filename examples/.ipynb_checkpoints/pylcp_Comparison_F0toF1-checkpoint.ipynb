{
 "cells": [
  {
   "cell_type": "code",
   "execution_count": 120,
   "metadata": {},
   "outputs": [],
   "source": [
    "import numpy as np\n",
    "import matplotlib.pyplot as plt\n",
    "import pylcp\n",
    "import lmfit\n",
    "from pylcp.common import progressBar"
   ]
  },
  {
   "cell_type": "code",
   "execution_count": 194,
   "metadata": {},
   "outputs": [],
   "source": [
    "laser_det = 0.\n",
    "ham_det = -2.\n",
    "s = 1.25\n",
    "\n",
    "laserBeams = {}\n",
    "laserBeams['$\\\\sigma^+\\\\sigma^-$'] = pylcp.laserBeams([\n",
    "    {'kvec':np.array([0., 0., -1.]), 'pol':+1,\n",
    "     'pol_coord':'spherical', 'delta':laser_det, 's':s},\n",
    "    {'kvec':np.array([0., 0., +1.]), 'pol':+1,\n",
    "     'pol_coord':'spherical', 'delta':laser_det, 's':s},\n",
    "    {'kvec':np.array([0., -1., 0.]), 'pol':+1,\n",
    "     'pol_coord':'spherical', 'delta':laser_det, 's':s},\n",
    "    {'kvec':np.array([0., +1., 0.]), 'pol':+1,\n",
    "     'pol_coord':'spherical', 'delta':laser_det, 's':s},\n",
    "    {'kvec':np.array([-1., 0., 0.]), 'pol':+1,\n",
    "     'pol_coord':'spherical', 'delta':laser_det, 's':s},\n",
    "    {'kvec':np.array([+1., 0., 0.]), 'pol':+1,\n",
    "     'pol_coord':'spherical', 'delta':laser_det, 's':s}\n",
    "    ], beam_type=pylcp.infinitePlaneWaveBeam)"
   ]
  },
  {
   "cell_type": "code",
   "execution_count": 206,
   "metadata": {},
   "outputs": [
    {
     "data": {
      "text/plain": [
       "array([[ 1.00000000e+00+0.000000e+00j,  0.00000000e+00+0.000000e+00j,\n",
       "         0.00000000e+00+0.000000e+00j],\n",
       "       [ 0.00000000e+00+0.000000e+00j,  0.00000000e+00+0.000000e+00j,\n",
       "         1.00000000e+00+0.000000e+00j],\n",
       "       [ 3.06161700e-17+5.000000e-01j,  7.07106781e-01+0.000000e+00j,\n",
       "         3.06161700e-17-5.000000e-01j],\n",
       "       [ 3.06161700e-17-5.000000e-01j,  7.07106781e-01+0.000000e+00j,\n",
       "         3.06161700e-17+5.000000e-01j],\n",
       "       [-5.00000000e-01-6.123234e-17j,  7.07106781e-01+0.000000e+00j,\n",
       "        -5.00000000e-01+6.123234e-17j],\n",
       "       [ 5.00000000e-01+0.000000e+00j,  7.07106781e-01+0.000000e+00j,\n",
       "         5.00000000e-01+0.000000e+00j]])"
      ]
     },
     "execution_count": 206,
     "metadata": {},
     "output_type": "execute_result"
    }
   ],
   "source": [
    "laserBeams['$\\\\sigma^+\\\\sigma^-$'].pol()"
   ]
  },
  {
   "cell_type": "code",
   "execution_count": 196,
   "metadata": {},
   "outputs": [],
   "source": [
    "laserBeams['$\\\\sigma^+\\\\sigma^-$'].total_electric_field_gradient(np.array([0., 0., 0.]), 0.)\n",
    "magField = lambda R: np.zeros(R.shape)\n",
    "\n",
    "# Hamiltonian for F=0->F=1\n",
    "Hg, Bgq = pylcp.hamiltonians.singleF(F=0, gF=0, muB=1)\n",
    "He, Beq = pylcp.hamiltonians.singleF(F=1, gF=1, muB=1)\n",
    "dijq = pylcp.hamiltonians.dqij_two_bare_hyperfine(0, 1)\n",
    "ham_F0_to_F1 = pylcp.hamiltonian(Hg, He - ham_det*np.eye(3), Bgq, Beq, dijq)"
   ]
  },
  {
   "cell_type": "code",
   "execution_count": 210,
   "metadata": {},
   "outputs": [
    {
     "data": {
      "text/plain": [
       "array([[[ 0.        ,  0.70710678,  0.        ],\n",
       "        [ 0.        ,  0.        ,  0.70710678],\n",
       "        [ 0.        ,  0.        ,  0.        ]],\n",
       "\n",
       "       [[-0.70710678,  0.        ,  0.        ],\n",
       "        [ 0.        , -0.        ,  0.        ],\n",
       "        [ 0.        ,  0.        ,  0.70710678]],\n",
       "\n",
       "       [[ 0.        ,  0.        ,  0.        ],\n",
       "        [-0.70710678,  0.        ,  0.        ],\n",
       "        [ 0.        , -0.70710678,  0.        ]]])"
      ]
     },
     "execution_count": 210,
     "metadata": {},
     "output_type": "execute_result"
    }
   ],
   "source": [
    "pylcp.hamiltonians.dqij_two_bare_hyperfine(1, 1)"
   ]
  },
  {
   "cell_type": "code",
   "execution_count": 197,
   "metadata": {},
   "outputs": [
    {
     "name": "stdout",
     "output_type": "stream",
     "text": [
      "Working on $\\sigma^+\\sigma^-$:\n",
      "Completed in 13.80 s.                                              \n"
     ]
    }
   ],
   "source": [
    "obe={}\n",
    "rateeq={}\n",
    "\n",
    "# Define a v axis:\n",
    "v = np.arange(-5.0, 5.1, 0.125)\n",
    "\n",
    "for jj, key in enumerate(laserBeams.keys()):\n",
    "    print('Working on %s:' % key)\n",
    "    rateeq[key] = pylcp.rateeq(laserBeams[key], magField, ham_F0_to_F1)\n",
    "    obe[key] = pylcp.obe(laserBeams[key], magField, ham_F0_to_F1,\n",
    "                         transform_into_re_im=False, include_mag_forces=False)\n",
    "\n",
    "    # Generate a rateeq model of what's going on:\n",
    "    rateeq[key].generate_force_profile(\n",
    "        [np.zeros(v.shape), np.zeros(v.shape), np.zeros(v.shape)],\n",
    "        [np.zeros(v.shape), np.zeros(v.shape), v],\n",
    "        name='molasses'\n",
    "    )\n",
    "\n",
    "    obe[key].generate_force_profile(\n",
    "        [np.zeros(v.shape), np.zeros(v.shape), np.zeros(v.shape)],\n",
    "        [np.zeros(v.shape), np.zeros(v.shape), v],\n",
    "        name='molasses', deltat_tmax=2*np.pi*100, deltat_v=4, itermax=1000,\n",
    "        progress_bar=True,\n",
    "    )"
   ]
  },
  {
   "cell_type": "code",
   "execution_count": 198,
   "metadata": {},
   "outputs": [
    {
     "data": {
      "text/plain": [
       "Text(0, 0.5, '$f/(\\\\hbar k \\\\Gamma)$')"
      ]
     },
     "execution_count": 198,
     "metadata": {},
     "output_type": "execute_result"
    },
    {
     "data": {
      "image/png": "[encoded data removed]",
      "text/plain": [
       "<Figure size 1080x360 with 1 Axes>"
      ]
     },
     "metadata": {
      "needs_background": "light"
     },
     "output_type": "display_data"
    }
   ],
   "source": [
    "fig, ax = plt.subplots(1, 1, num='Optical Molasses F=0->F1', figsize=(15, 5))\n",
    "for jj, key in enumerate(laserBeams.keys()):\n",
    "    ax.plot(obe[key].profile['molasses'].V[2],\n",
    "               obe[key].profile['molasses'].F[2],\n",
    "               label=key, linewidth=0.5, color='C%d'%jj)\n",
    "ax.legend(fontsize=12)\n",
    "ax.set_xlabel('$v/(\\Gamma/k)$')\n",
    "ax.set_ylabel('$f/(\\hbar k \\Gamma)$')"
   ]
  },
  {
   "cell_type": "code",
   "execution_count": 199,
   "metadata": {},
   "outputs": [
    {
     "data": {
      "text/plain": [
       "array([0.78796622, 0.02181235, 0.18726725, 0.00295417])"
      ]
     },
     "execution_count": 199,
     "metadata": {},
     "output_type": "execute_result"
    }
   ],
   "source": [
    "obe[key].profile['molasses'].Neq[80,:]"
   ]
  },
  {
   "cell_type": "code",
   "execution_count": 208,
   "metadata": {},
   "outputs": [
    {
     "data": {
      "text/plain": [
       "array([0.78813508, 0.02118649, 0.16949194, 0.02118649])"
      ]
     },
     "execution_count": 208,
     "metadata": {},
     "output_type": "execute_result"
    }
   ],
   "source": [
    "obe[key].profile['molasses'].Neq[40,:]"
   ]
  },
  {
   "cell_type": "code",
   "execution_count": null,
   "metadata": {},
   "outputs": [],
   "source": []
  }
 ],
 "metadata": {
  "kernelspec": {
   "display_name": "Python 3 (ipykernel)",
   "language": "python",
   "name": "python3"
  },
  "language_info": {
   "codemirror_mode": {
    "name": "ipython",
    "version": 3
   },
   "file_extension": ".py",
   "mimetype": "text/x-python",
   "name": "python",
   "nbconvert_exporter": "python",
   "pygments_lexer": "ipython3",
   "version": "3.9.7"
  }
 },
 "nbformat": 4,
 "nbformat_minor": 2
}
