{
 "cells": [
  {
   "cell_type": "code",
   "execution_count": 661,
   "metadata": {},
   "outputs": [],
   "source": [
    "import numpy as np\n",
    "import matplotlib.pyplot as plt\n",
    "import pylcp\n",
    "import lmfit\n",
    "from pylcp.common import progressBar"
   ]
  },
  {
   "cell_type": "code",
   "execution_count": 918,
   "metadata": {},
   "outputs": [],
   "source": [
    "laser_det = -2.5\n",
    "ham_det = 0.0\n",
    "s = 2.0\n",
    "\n",
    "laserBeams = {}\n",
    "laserBeams['$\\\\sigma^+\\\\sigma^-$'] = pylcp.laserBeams([\n",
    "    {'kvec':np.array([0., 0., -1.]), 'pol':+1,\n",
    "     'pol_coord':'spherical', 'delta':laser_det, 's':s},\n",
    "    {'kvec':np.array([0., 0., +1.]), 'pol':+1,\n",
    "     'pol_coord':'spherical', 'delta':laser_det, 's':s},\n",
    "    {'kvec':np.array([0., -1., 0.]), 'pol':+1,\n",
    "     'pol_coord':'spherical', 'delta':laser_det, 's':s},\n",
    "    {'kvec':np.array([0., +1., 0.]), 'pol':+1,\n",
    "     'pol_coord':'spherical', 'delta':laser_det, 's':s},\n",
    "    {'kvec':np.array([-1., 0., 0.]), 'pol':+1,\n",
    "     'pol_coord':'spherical', 'delta':laser_det, 's':s},\n",
    "    {'kvec':np.array([+1., 0., 0.]), 'pol':+1,\n",
    "     'pol_coord':'spherical', 'delta':laser_det, 's':s}\n",
    "    ], beam_type=pylcp.infinitePlaneWaveBeam)"
   ]
  },
  {
   "cell_type": "code",
   "execution_count": 919,
   "metadata": {},
   "outputs": [],
   "source": [
    "magField = lambda R: np.zeros(R.shape)\n",
    "\n",
    "# Hamiltonian for F=1->F=1\n",
    "Hg, Bgq = pylcp.hamiltonians.singleF(F=1, gF=0, muB=0)\n",
    "He, Beq = pylcp.hamiltonians.singleF(F=1, gF=0, muB=0)\n",
    "dijq = pylcp.hamiltonians.dqij_two_bare_hyperfine(1, 1)\n",
    "ham_F1_to_F1 = pylcp.hamiltonian(Hg, He - ham_det, Bgq, Beq, dijq)"
   ]
  },
  {
   "cell_type": "code",
   "execution_count": 920,
   "metadata": {},
   "outputs": [
    {
     "name": "stdout",
     "output_type": "stream",
     "text": [
      "Working on $\\sigma^+\\sigma^-$:\n",
      "Completed in 3.08 s.\n"
     ]
    }
   ],
   "source": [
    "obe={}\n",
    "rateeq={}\n",
    "\n",
    "# Define a v axis:\n",
    "v = np.arange(3.0, 3.01, 0.1)\n",
    "\n",
    "for jj, key in enumerate(laserBeams.keys()):\n",
    "    print('Working on %s:' % key)\n",
    "    rateeq[key] = pylcp.rateeq(laserBeams[key], magField, ham_F1_to_F1)\n",
    "    obe[key] = pylcp.obe(laserBeams[key], magField, ham_F1_to_F1,\n",
    "                         transform_into_re_im=False, include_mag_forces=False)\n",
    "\n",
    "    # Generate a rateeq model of what's going on:\n",
    "#     rateeq[key].generate_force_profile(\n",
    "#         [np.zeros(v.shape), np.zeros(v.shape), np.zeros(v.shape)],\n",
    "#         [np.zeros(v.shape), np.zeros(v.shape), v],\n",
    "#         name='molasses'\n",
    "#     )\n",
    "\n",
    "    obe[key].generate_force_profile(\n",
    "        [np.zeros(v.shape), np.zeros(v.shape), np.zeros(v.shape)],\n",
    "        [np.zeros(v.shape), v, np.zeros(v.shape)],\n",
    "        # [np.zeros(v.shape), np.zeros(v.shape), v],\n",
    "        name='molasses', deltat_tmax=2*np.pi*100, deltat_v=200, itermax=1000,\n",
    "        progress_bar=True,\n",
    "    )"
   ]
  },
  {
   "cell_type": "code",
   "execution_count": 921,
   "metadata": {},
   "outputs": [
    {
     "data": {
      "text/plain": [
       "Text(0, 0.5, '$f/(\\\\hbar k \\\\Gamma)$')"
      ]
     },
     "execution_count": 921,
     "metadata": {},
     "output_type": "execute_result"
    },
    {
     "data": {
      "image/png": "[encoded data removed]",
      "text/plain": [
       "<Figure size 600x500 with 1 Axes>"
      ]
     },
     "metadata": {},
     "output_type": "display_data"
    }
   ],
   "source": [
    "fig, ax = plt.subplots(1, 1, num='Optical Molasses F=1->F1', figsize=(6, 5))\n",
    "for jj, key in enumerate(laserBeams.keys()):\n",
    "    ax.plot(obe[key].profile['molasses'].V[0],\n",
    "               obe[key].profile['molasses'].F[0],\n",
    "               label=key, linewidth=0.5, color='C%d'%jj)\n",
    "ax.legend(fontsize=12)\n",
    "ax.set_xlabel('$v/(\\Gamma/k)$')\n",
    "ax.set_ylabel('$f/(\\hbar k \\Gamma)$')"
   ]
  },
  {
   "cell_type": "code",
   "execution_count": 922,
   "metadata": {},
   "outputs": [
    {
     "data": {
      "text/plain": [
       "array([-2.5, -2.5, -2.5, -2.5, -2.5, -2.5])"
      ]
     },
     "execution_count": 922,
     "metadata": {},
     "output_type": "execute_result"
    }
   ],
   "source": [
    "laserBeams['$\\\\sigma^+\\\\sigma^-$'].delta()"
   ]
  },
  {
   "cell_type": "code",
   "execution_count": 923,
   "metadata": {},
   "outputs": [
    {
     "data": {
      "text/plain": [
       "array([0., 0., 1.])"
      ]
     },
     "execution_count": 923,
     "metadata": {},
     "output_type": "execute_result"
    }
   ],
   "source": [
    "laserBeams['$\\\\sigma^+\\\\sigma^-$'].beam_vector[1].kvec()"
   ]
  },
  {
   "cell_type": "code",
   "execution_count": 924,
   "metadata": {},
   "outputs": [],
   "source": [
    "from pandas import *"
   ]
  },
  {
   "cell_type": "code",
   "execution_count": 925,
   "metadata": {},
   "outputs": [
    {
     "data": {
      "text/plain": [
       "array([[ 1.00000000e+00+0.000000e+00j,  0.00000000e+00+0.000000e+00j,\n",
       "         0.00000000e+00+0.000000e+00j],\n",
       "       [ 0.00000000e+00+0.000000e+00j,  0.00000000e+00+0.000000e+00j,\n",
       "         1.00000000e+00+0.000000e+00j],\n",
       "       [ 3.06161700e-17+5.000000e-01j,  7.07106781e-01+0.000000e+00j,\n",
       "         3.06161700e-17-5.000000e-01j],\n",
       "       [ 3.06161700e-17-5.000000e-01j,  7.07106781e-01+0.000000e+00j,\n",
       "         3.06161700e-17+5.000000e-01j],\n",
       "       [-5.00000000e-01-6.123234e-17j,  7.07106781e-01+0.000000e+00j,\n",
       "        -5.00000000e-01+6.123234e-17j],\n",
       "       [ 5.00000000e-01+0.000000e+00j,  7.07106781e-01+0.000000e+00j,\n",
       "         5.00000000e-01+0.000000e+00j]])"
      ]
     },
     "execution_count": 925,
     "metadata": {},
     "output_type": "execute_result"
    }
   ],
   "source": [
    "laserBeams['$\\\\sigma^+\\\\sigma^-$'].pol()"
   ]
  },
  {
   "cell_type": "code",
   "execution_count": 926,
   "metadata": {},
   "outputs": [
    {
     "data": {
      "text/plain": [
       "array([[-0.80114362-0.59847214j,  0.        -0.j        ,\n",
       "         0.        -0.j        ],\n",
       "       [ 0.        -0.j        ,  0.        -0.j        ,\n",
       "        -0.80114362-0.59847214j],\n",
       "       [-0.29923607-0.40057181j, -0.56649408+0.42318371j,\n",
       "         0.29923607+0.40057181j],\n",
       "       [-0.46899999-0.17331766j,  0.24510818-0.66326614j,\n",
       "         0.46899999+0.17331766j],\n",
       "       [ 0.40057181+0.29923607j, -0.56649408-0.42318371j,\n",
       "         0.40057181+0.29923607j],\n",
       "       [-0.40057181-0.29923607j, -0.56649408-0.42318371j,\n",
       "        -0.40057181-0.29923607j]])"
      ]
     },
     "execution_count": 926,
     "metadata": {},
     "output_type": "execute_result"
    }
   ],
   "source": [
    "e = laserBeams['$\\\\sigma^+\\\\sigma^-$'].electric_field(np.array([0.0, 5.0 * 1.0,0.0]), 1.0)\n",
    "# e = laserBeams['$\\\\sigma^+\\\\sigma^-$'].electric_field(np.array([0.0,0.0,1000.0]), 1000.0)\n",
    "e / 2"
   ]
  },
  {
   "cell_type": "code",
   "execution_count": 927,
   "metadata": {},
   "outputs": [
    {
     "data": {
      "text/html": [
       "<div>\n",
       "<style scoped>\n",
       "    .dataframe tbody tr th:only-of-type {\n",
       "        vertical-align: middle;\n",
       "    }\n",
       "\n",
       "    .dataframe tbody tr th {\n",
       "        vertical-align: top;\n",
       "    }\n",
       "\n",
       "    .dataframe thead th {\n",
       "        text-align: right;\n",
       "    }\n",
       "</style>\n",
       "<table border=\"1\" class=\"dataframe\">\n",
       "  <thead>\n",
       "    <tr style=\"text-align: right;\">\n",
       "      <th></th>\n",
       "      <th>0</th>\n",
       "      <th>1</th>\n",
       "      <th>2</th>\n",
       "      <th>3</th>\n",
       "      <th>4</th>\n",
       "      <th>5</th>\n",
       "    </tr>\n",
       "  </thead>\n",
       "  <tbody>\n",
       "    <tr>\n",
       "      <th>0</th>\n",
       "      <td>0.000000</td>\n",
       "      <td>0.000000</td>\n",
       "      <td>0.000000</td>\n",
       "      <td>0.000000</td>\n",
       "      <td>-0.283247</td>\n",
       "      <td>0.000000</td>\n",
       "    </tr>\n",
       "    <tr>\n",
       "      <th>1</th>\n",
       "      <td>0.000000</td>\n",
       "      <td>0.000000</td>\n",
       "      <td>0.000000</td>\n",
       "      <td>0.283247</td>\n",
       "      <td>0.000000</td>\n",
       "      <td>-0.283247</td>\n",
       "    </tr>\n",
       "    <tr>\n",
       "      <th>2</th>\n",
       "      <td>0.000000</td>\n",
       "      <td>0.000000</td>\n",
       "      <td>0.000000</td>\n",
       "      <td>0.000000</td>\n",
       "      <td>0.283247</td>\n",
       "      <td>0.000000</td>\n",
       "    </tr>\n",
       "    <tr>\n",
       "      <th>3</th>\n",
       "      <td>0.000000</td>\n",
       "      <td>0.283247</td>\n",
       "      <td>0.000000</td>\n",
       "      <td>0.000000</td>\n",
       "      <td>0.000000</td>\n",
       "      <td>0.000000</td>\n",
       "    </tr>\n",
       "    <tr>\n",
       "      <th>4</th>\n",
       "      <td>-0.283247</td>\n",
       "      <td>0.000000</td>\n",
       "      <td>0.283247</td>\n",
       "      <td>0.000000</td>\n",
       "      <td>0.000000</td>\n",
       "      <td>0.000000</td>\n",
       "    </tr>\n",
       "    <tr>\n",
       "      <th>5</th>\n",
       "      <td>0.000000</td>\n",
       "      <td>-0.283247</td>\n",
       "      <td>0.000000</td>\n",
       "      <td>0.000000</td>\n",
       "      <td>0.000000</td>\n",
       "      <td>0.000000</td>\n",
       "    </tr>\n",
       "  </tbody>\n",
       "</table>\n",
       "</div>"
      ],
      "text/plain": [
       "          0         1         2         3         4         5\n",
       "0  0.000000  0.000000  0.000000  0.000000 -0.283247  0.000000\n",
       "1  0.000000  0.000000  0.000000  0.283247  0.000000 -0.283247\n",
       "2  0.000000  0.000000  0.000000  0.000000  0.283247  0.000000\n",
       "3  0.000000  0.283247  0.000000  0.000000  0.000000  0.000000\n",
       "4 -0.283247  0.000000  0.283247  0.000000  0.000000  0.000000\n",
       "5  0.000000 -0.283247  0.000000  0.000000  0.000000  0.000000"
      ]
     },
     "execution_count": 927,
     "metadata": {},
     "output_type": "execute_result"
    }
   ],
   "source": [
    "DataFrame( np.real(obe['$\\\\sigma^+\\\\sigma^-$'].hamiltonian.return_full_H(e[0]+e[1], [0,0,0])) ) / 2"
   ]
  },
  {
   "cell_type": "code",
   "execution_count": 928,
   "metadata": {},
   "outputs": [
    {
     "data": {
      "text/html": [
       "<div>\n",
       "<style scoped>\n",
       "    .dataframe tbody tr th:only-of-type {\n",
       "        vertical-align: middle;\n",
       "    }\n",
       "\n",
       "    .dataframe tbody tr th {\n",
       "        vertical-align: top;\n",
       "    }\n",
       "\n",
       "    .dataframe thead th {\n",
       "        text-align: right;\n",
       "    }\n",
       "</style>\n",
       "<table border=\"1\" class=\"dataframe\">\n",
       "  <thead>\n",
       "    <tr style=\"text-align: right;\">\n",
       "      <th></th>\n",
       "      <th>0</th>\n",
       "      <th>1</th>\n",
       "      <th>2</th>\n",
       "      <th>3</th>\n",
       "      <th>4</th>\n",
       "      <th>5</th>\n",
       "    </tr>\n",
       "  </thead>\n",
       "  <tbody>\n",
       "    <tr>\n",
       "      <th>0</th>\n",
       "      <td>0.000000</td>\n",
       "      <td>0.000000</td>\n",
       "      <td>0.000000</td>\n",
       "      <td>0.000000</td>\n",
       "      <td>-0.211592</td>\n",
       "      <td>0.000000</td>\n",
       "    </tr>\n",
       "    <tr>\n",
       "      <th>1</th>\n",
       "      <td>0.000000</td>\n",
       "      <td>0.000000</td>\n",
       "      <td>0.000000</td>\n",
       "      <td>0.211592</td>\n",
       "      <td>0.000000</td>\n",
       "      <td>-0.211592</td>\n",
       "    </tr>\n",
       "    <tr>\n",
       "      <th>2</th>\n",
       "      <td>0.000000</td>\n",
       "      <td>0.000000</td>\n",
       "      <td>0.000000</td>\n",
       "      <td>0.000000</td>\n",
       "      <td>0.211592</td>\n",
       "      <td>0.000000</td>\n",
       "    </tr>\n",
       "    <tr>\n",
       "      <th>3</th>\n",
       "      <td>0.000000</td>\n",
       "      <td>-0.211592</td>\n",
       "      <td>0.000000</td>\n",
       "      <td>0.000000</td>\n",
       "      <td>0.000000</td>\n",
       "      <td>0.000000</td>\n",
       "    </tr>\n",
       "    <tr>\n",
       "      <th>4</th>\n",
       "      <td>0.211592</td>\n",
       "      <td>0.000000</td>\n",
       "      <td>-0.211592</td>\n",
       "      <td>0.000000</td>\n",
       "      <td>0.000000</td>\n",
       "      <td>0.000000</td>\n",
       "    </tr>\n",
       "    <tr>\n",
       "      <th>5</th>\n",
       "      <td>0.000000</td>\n",
       "      <td>0.211592</td>\n",
       "      <td>0.000000</td>\n",
       "      <td>0.000000</td>\n",
       "      <td>0.000000</td>\n",
       "      <td>0.000000</td>\n",
       "    </tr>\n",
       "  </tbody>\n",
       "</table>\n",
       "</div>"
      ],
      "text/plain": [
       "          0         1         2         3         4         5\n",
       "0  0.000000  0.000000  0.000000  0.000000 -0.211592  0.000000\n",
       "1  0.000000  0.000000  0.000000  0.211592  0.000000 -0.211592\n",
       "2  0.000000  0.000000  0.000000  0.000000  0.211592  0.000000\n",
       "3  0.000000 -0.211592  0.000000  0.000000  0.000000  0.000000\n",
       "4  0.211592  0.000000 -0.211592  0.000000  0.000000  0.000000\n",
       "5  0.000000  0.211592  0.000000  0.000000  0.000000  0.000000"
      ]
     },
     "execution_count": 928,
     "metadata": {},
     "output_type": "execute_result"
    }
   ],
   "source": [
    "DataFrame( np.imag(obe['$\\\\sigma^+\\\\sigma^-$'].hamiltonian.return_full_H(e[0]+e[1], [0,0,0])) ) / 2"
   ]
  },
  {
   "cell_type": "code",
   "execution_count": 929,
   "metadata": {},
   "outputs": [
    {
     "data": {
      "text/html": [
       "<div>\n",
       "<style scoped>\n",
       "    .dataframe tbody tr th:only-of-type {\n",
       "        vertical-align: middle;\n",
       "    }\n",
       "\n",
       "    .dataframe tbody tr th {\n",
       "        vertical-align: top;\n",
       "    }\n",
       "\n",
       "    .dataframe thead th {\n",
       "        text-align: right;\n",
       "    }\n",
       "</style>\n",
       "<table border=\"1\" class=\"dataframe\">\n",
       "  <thead>\n",
       "    <tr style=\"text-align: right;\">\n",
       "      <th></th>\n",
       "      <th>0</th>\n",
       "      <th>1</th>\n",
       "      <th>2</th>\n",
       "      <th>3</th>\n",
       "      <th>4</th>\n",
       "      <th>5</th>\n",
       "    </tr>\n",
       "  </thead>\n",
       "  <tbody>\n",
       "    <tr>\n",
       "      <th>0</th>\n",
       "      <td>0.0</td>\n",
       "      <td>0.0</td>\n",
       "      <td>0.0</td>\n",
       "      <td>0.000000</td>\n",
       "      <td>0.000000</td>\n",
       "      <td>0.0</td>\n",
       "    </tr>\n",
       "    <tr>\n",
       "      <th>1</th>\n",
       "      <td>0.0</td>\n",
       "      <td>0.0</td>\n",
       "      <td>0.0</td>\n",
       "      <td>-0.707107</td>\n",
       "      <td>0.000000</td>\n",
       "      <td>0.0</td>\n",
       "    </tr>\n",
       "    <tr>\n",
       "      <th>2</th>\n",
       "      <td>0.0</td>\n",
       "      <td>0.0</td>\n",
       "      <td>0.0</td>\n",
       "      <td>0.000000</td>\n",
       "      <td>-0.707107</td>\n",
       "      <td>0.0</td>\n",
       "    </tr>\n",
       "    <tr>\n",
       "      <th>3</th>\n",
       "      <td>0.0</td>\n",
       "      <td>0.0</td>\n",
       "      <td>0.0</td>\n",
       "      <td>0.000000</td>\n",
       "      <td>0.000000</td>\n",
       "      <td>0.0</td>\n",
       "    </tr>\n",
       "    <tr>\n",
       "      <th>4</th>\n",
       "      <td>0.0</td>\n",
       "      <td>0.0</td>\n",
       "      <td>0.0</td>\n",
       "      <td>0.000000</td>\n",
       "      <td>0.000000</td>\n",
       "      <td>0.0</td>\n",
       "    </tr>\n",
       "    <tr>\n",
       "      <th>5</th>\n",
       "      <td>0.0</td>\n",
       "      <td>0.0</td>\n",
       "      <td>0.0</td>\n",
       "      <td>0.000000</td>\n",
       "      <td>0.000000</td>\n",
       "      <td>0.0</td>\n",
       "    </tr>\n",
       "  </tbody>\n",
       "</table>\n",
       "</div>"
      ],
      "text/plain": [
       "     0    1    2         3         4    5\n",
       "0  0.0  0.0  0.0  0.000000  0.000000  0.0\n",
       "1  0.0  0.0  0.0 -0.707107  0.000000  0.0\n",
       "2  0.0  0.0  0.0  0.000000 -0.707107  0.0\n",
       "3  0.0  0.0  0.0  0.000000  0.000000  0.0\n",
       "4  0.0  0.0  0.0  0.000000  0.000000  0.0\n",
       "5  0.0  0.0  0.0  0.000000  0.000000  0.0"
      ]
     },
     "execution_count": 929,
     "metadata": {},
     "output_type": "execute_result"
    }
   ],
   "source": [
    "DataFrame( np.real(obe['$\\\\sigma^+\\\\sigma^-$'].hamiltonian.d_q_bare['g->e'][2]) )"
   ]
  },
  {
   "cell_type": "code",
   "execution_count": 930,
   "metadata": {},
   "outputs": [
    {
     "data": {
      "text/html": [
       "<div>\n",
       "<style scoped>\n",
       "    .dataframe tbody tr th:only-of-type {\n",
       "        vertical-align: middle;\n",
       "    }\n",
       "\n",
       "    .dataframe tbody tr th {\n",
       "        vertical-align: top;\n",
       "    }\n",
       "\n",
       "    .dataframe thead th {\n",
       "        text-align: right;\n",
       "    }\n",
       "</style>\n",
       "<table border=\"1\" class=\"dataframe\">\n",
       "  <thead>\n",
       "    <tr style=\"text-align: right;\">\n",
       "      <th></th>\n",
       "      <th>0</th>\n",
       "      <th>1</th>\n",
       "      <th>2</th>\n",
       "      <th>3</th>\n",
       "      <th>4</th>\n",
       "      <th>5</th>\n",
       "    </tr>\n",
       "  </thead>\n",
       "  <tbody>\n",
       "    <tr>\n",
       "      <th>0</th>\n",
       "      <td>0.000000</td>\n",
       "      <td>0.000000</td>\n",
       "      <td>0.000000</td>\n",
       "      <td>0.000000</td>\n",
       "      <td>-0.566494</td>\n",
       "      <td>0.000000</td>\n",
       "    </tr>\n",
       "    <tr>\n",
       "      <th>1</th>\n",
       "      <td>0.000000</td>\n",
       "      <td>0.000000</td>\n",
       "      <td>0.000000</td>\n",
       "      <td>0.566494</td>\n",
       "      <td>0.000000</td>\n",
       "      <td>-0.566494</td>\n",
       "    </tr>\n",
       "    <tr>\n",
       "      <th>2</th>\n",
       "      <td>0.000000</td>\n",
       "      <td>0.000000</td>\n",
       "      <td>0.000000</td>\n",
       "      <td>0.000000</td>\n",
       "      <td>0.566494</td>\n",
       "      <td>0.000000</td>\n",
       "    </tr>\n",
       "    <tr>\n",
       "      <th>3</th>\n",
       "      <td>0.000000</td>\n",
       "      <td>0.566494</td>\n",
       "      <td>0.000000</td>\n",
       "      <td>0.000000</td>\n",
       "      <td>0.000000</td>\n",
       "      <td>0.000000</td>\n",
       "    </tr>\n",
       "    <tr>\n",
       "      <th>4</th>\n",
       "      <td>-0.566494</td>\n",
       "      <td>0.000000</td>\n",
       "      <td>0.566494</td>\n",
       "      <td>0.000000</td>\n",
       "      <td>0.000000</td>\n",
       "      <td>0.000000</td>\n",
       "    </tr>\n",
       "    <tr>\n",
       "      <th>5</th>\n",
       "      <td>0.000000</td>\n",
       "      <td>-0.566494</td>\n",
       "      <td>0.000000</td>\n",
       "      <td>0.000000</td>\n",
       "      <td>0.000000</td>\n",
       "      <td>0.000000</td>\n",
       "    </tr>\n",
       "  </tbody>\n",
       "</table>\n",
       "</div>"
      ],
      "text/plain": [
       "          0         1         2         3         4         5\n",
       "0  0.000000  0.000000  0.000000  0.000000 -0.566494  0.000000\n",
       "1  0.000000  0.000000  0.000000  0.566494  0.000000 -0.566494\n",
       "2  0.000000  0.000000  0.000000  0.000000  0.566494  0.000000\n",
       "3  0.000000  0.566494  0.000000  0.000000  0.000000  0.000000\n",
       "4 -0.566494  0.000000  0.566494  0.000000  0.000000  0.000000\n",
       "5  0.000000 -0.566494  0.000000  0.000000  0.000000  0.000000"
      ]
     },
     "execution_count": 930,
     "metadata": {},
     "output_type": "execute_result"
    }
   ],
   "source": [
    "DataFrame( np.real(obe['$\\\\sigma^+\\\\sigma^-$'].hamiltonian.return_full_H(e[0] + e[1], np.array([0.0,0.0,0.0]))) )"
   ]
  },
  {
   "cell_type": "code",
   "execution_count": 931,
   "metadata": {},
   "outputs": [
    {
     "data": {
      "text/html": [
       "<div>\n",
       "<style scoped>\n",
       "    .dataframe tbody tr th:only-of-type {\n",
       "        vertical-align: middle;\n",
       "    }\n",
       "\n",
       "    .dataframe tbody tr th {\n",
       "        vertical-align: top;\n",
       "    }\n",
       "\n",
       "    .dataframe thead th {\n",
       "        text-align: right;\n",
       "    }\n",
       "</style>\n",
       "<table border=\"1\" class=\"dataframe\">\n",
       "  <thead>\n",
       "    <tr style=\"text-align: right;\">\n",
       "      <th></th>\n",
       "      <th>0</th>\n",
       "      <th>1</th>\n",
       "      <th>2</th>\n",
       "      <th>3</th>\n",
       "      <th>4</th>\n",
       "      <th>5</th>\n",
       "    </tr>\n",
       "  </thead>\n",
       "  <tbody>\n",
       "    <tr>\n",
       "      <th>0</th>\n",
       "      <td>0.000000</td>\n",
       "      <td>0.000000</td>\n",
       "      <td>0.000000</td>\n",
       "      <td>0.000000</td>\n",
       "      <td>-0.423184</td>\n",
       "      <td>0.000000</td>\n",
       "    </tr>\n",
       "    <tr>\n",
       "      <th>1</th>\n",
       "      <td>0.000000</td>\n",
       "      <td>0.000000</td>\n",
       "      <td>0.000000</td>\n",
       "      <td>0.423184</td>\n",
       "      <td>0.000000</td>\n",
       "      <td>-0.423184</td>\n",
       "    </tr>\n",
       "    <tr>\n",
       "      <th>2</th>\n",
       "      <td>0.000000</td>\n",
       "      <td>0.000000</td>\n",
       "      <td>0.000000</td>\n",
       "      <td>0.000000</td>\n",
       "      <td>0.423184</td>\n",
       "      <td>0.000000</td>\n",
       "    </tr>\n",
       "    <tr>\n",
       "      <th>3</th>\n",
       "      <td>0.000000</td>\n",
       "      <td>-0.423184</td>\n",
       "      <td>0.000000</td>\n",
       "      <td>0.000000</td>\n",
       "      <td>0.000000</td>\n",
       "      <td>0.000000</td>\n",
       "    </tr>\n",
       "    <tr>\n",
       "      <th>4</th>\n",
       "      <td>0.423184</td>\n",
       "      <td>0.000000</td>\n",
       "      <td>-0.423184</td>\n",
       "      <td>0.000000</td>\n",
       "      <td>0.000000</td>\n",
       "      <td>0.000000</td>\n",
       "    </tr>\n",
       "    <tr>\n",
       "      <th>5</th>\n",
       "      <td>0.000000</td>\n",
       "      <td>0.423184</td>\n",
       "      <td>0.000000</td>\n",
       "      <td>0.000000</td>\n",
       "      <td>0.000000</td>\n",
       "      <td>0.000000</td>\n",
       "    </tr>\n",
       "  </tbody>\n",
       "</table>\n",
       "</div>"
      ],
      "text/plain": [
       "          0         1         2         3         4         5\n",
       "0  0.000000  0.000000  0.000000  0.000000 -0.423184  0.000000\n",
       "1  0.000000  0.000000  0.000000  0.423184  0.000000 -0.423184\n",
       "2  0.000000  0.000000  0.000000  0.000000  0.423184  0.000000\n",
       "3  0.000000 -0.423184  0.000000  0.000000  0.000000  0.000000\n",
       "4  0.423184  0.000000 -0.423184  0.000000  0.000000  0.000000\n",
       "5  0.000000  0.423184  0.000000  0.000000  0.000000  0.000000"
      ]
     },
     "execution_count": 931,
     "metadata": {},
     "output_type": "execute_result"
    }
   ],
   "source": [
    "DataFrame(  np.imag(obe['$\\\\sigma^+\\\\sigma^-$'].hamiltonian.return_full_H(e[0] + e[1], np.array([0.0,0.0,0.0]))) )"
   ]
  },
  {
   "cell_type": "code",
   "execution_count": 932,
   "metadata": {},
   "outputs": [
    {
     "data": {
      "text/plain": [
       "array([[ 0.+0.j,  0.+0.j,  0.+0.j, ...,  0.+0.j,  0.+0.j,  0.+0.j],\n",
       "       [ 0.+0.j,  0.+0.j,  0.+0.j, ...,  0.+0.j,  0.+0.j,  0.+0.j],\n",
       "       [ 0.+0.j,  0.+0.j,  0.+0.j, ...,  0.+0.j,  0.+0.j,  0.+0.j],\n",
       "       ...,\n",
       "       [ 0.+0.j,  0.+0.j,  0.+0.j, ..., -1.+0.j,  0.+0.j,  0.+0.j],\n",
       "       [ 0.+0.j,  0.+0.j,  0.+0.j, ...,  0.+0.j, -1.+0.j,  0.+0.j],\n",
       "       [ 0.+0.j,  0.+0.j,  0.+0.j, ...,  0.+0.j,  0.+0.j, -1.+0.j]])"
      ]
     },
     "execution_count": 932,
     "metadata": {},
     "output_type": "execute_result"
    }
   ],
   "source": [
    "obe['$\\\\sigma^+\\\\sigma^-$'].ev_mat['decay']"
   ]
  },
  {
   "cell_type": "code",
   "execution_count": 933,
   "metadata": {},
   "outputs": [
    {
     "data": {
      "text/plain": [
       "array([ 0. +0.j,  0. +0.j,  0. +0.j,  0. +0.j,  0. +0.j,  0. +0.j,\n",
       "        0. +0.j,  0. +0.j,  0. +0.j,  0. +0.j,  0. +0.j, -0.5+0.j,\n",
       "        0. +0.j,  0. +0.j,  0. +0.j,  0. +0.j,  0. +0.j,  0. +0.j,\n",
       "        0. +0.j,  0. +0.j,  0. +0.j,  0. +0.j,  0. +0.j,  0. +0.j,\n",
       "        0. +0.j,  0. +0.j,  0. +0.j,  0. +0.j,  0. +0.j,  0. +0.j,\n",
       "        0. +0.j,  0. +0.j,  0. +0.j,  0. +0.j,  0. +0.j,  0. +0.j])"
      ]
     },
     "execution_count": 933,
     "metadata": {},
     "output_type": "execute_result"
    }
   ],
   "source": [
    "obe['$\\\\sigma^+\\\\sigma^-$'].ev_mat['decay'][11]"
   ]
  },
  {
   "cell_type": "code",
   "execution_count": 934,
   "metadata": {},
   "outputs": [
    {
     "data": {
      "text/plain": [
       "array([0.+0.j       , 0.+0.j       , 0.+0.j       , 0.+0.j       ,\n",
       "       0.+0.j       , 0.-0.1767767j, 0.+0.j       , 0.+0.j       ,\n",
       "       0.+0.j       , 0.+0.j       , 0.+0.j       , 0.+0.j       ,\n",
       "       0.+0.j       , 0.+0.j       , 0.+0.j       , 0.+0.j       ,\n",
       "       0.+0.j       , 0.+0.j       , 0.+0.j       , 0.+0.j       ,\n",
       "       0.+0.j       , 0.+0.j       , 0.+0.j       , 0.+0.j       ,\n",
       "       0.+0.j       , 0.+0.j       , 0.+0.j       , 0.+0.j       ,\n",
       "       0.+0.j       , 0.+0.j       , 0.+0.j       , 0.+0.j       ,\n",
       "       0.+0.j       , 0.+0.j       , 0.+0.j       , 0.+0.j       ])"
      ]
     },
     "execution_count": 934,
     "metadata": {},
     "output_type": "execute_result"
    }
   ],
   "source": [
    "obe['$\\\\sigma^+\\\\sigma^-$'].ev_mat['d_q']['g->e'][0][1]"
   ]
  },
  {
   "cell_type": "code",
   "execution_count": 935,
   "metadata": {},
   "outputs": [
    {
     "name": "stdout",
     "output_type": "stream",
     "text": [
      "v 3.0\n",
      "0.35203615402214944\n",
      "0.34173719522531115\n",
      "0.1878930948944947\n",
      "0.04433063384070005\n",
      "0.03642299390774671\n",
      "0.03757992810959568\n"
     ]
    }
   ],
   "source": [
    "print(\"v\", v[-1])\n",
    "for val in obe[key].profile['molasses'].Neq[0,:]:\n",
    "    print(val)"
   ]
  },
  {
   "cell_type": "code",
   "execution_count": 936,
   "metadata": {},
   "outputs": [],
   "source": [
    "obe[key].set_initial_position_and_velocity(\n",
    "    np.array([0., 0., 0.]), np.array([0., 1., 0.])\n",
    "    )"
   ]
  },
  {
   "cell_type": "code",
   "execution_count": 942,
   "metadata": {},
   "outputs": [
    {
     "name": "stdout",
     "output_type": "stream",
     "text": [
      "Completed in 1.62 s.                                                \n"
     ]
    }
   ],
   "source": [
    "t_max = 1000.0\n",
    "obe[key].rho0 *= 0.0\n",
    "obe[key].rho0[7] = 1.0\n",
    "obe[key].evolve_density(t_span=[0, t_max], t_eval=np.linspace(0, t_max, 1001), progress_bar=True, method=\"RK45\", atol=1e-6);"
   ]
  },
  {
   "cell_type": "code",
   "execution_count": 943,
   "metadata": {},
   "outputs": [
    {
     "data": {
      "text/plain": [
       "<matplotlib.legend.Legend at 0x14d025edf90>"
      ]
     },
     "execution_count": 943,
     "metadata": {},
     "output_type": "execute_result"
    },
    {
     "data": {
      "image/png": "[encoded data removed]",
      "text/plain": [
       "<Figure size 1000x1000 with 1 Axes>"
      ]
     },
     "metadata": {},
     "output_type": "display_data"
    }
   ],
   "source": [
    "fig, ax = plt.subplots(1, 1, num='OBE F=1->F1', figsize=(10, 10))\n",
    "ax.plot(obe[key].sol.t, np.real(obe[key].sol.rho[0, 0]), label='$\\\\rho_{00}$')\n",
    "ax.plot(obe[key].sol.t, np.real(obe[key].sol.rho[1, 1]), label='$\\\\rho_{11}$')\n",
    "ax.plot(obe[key].sol.t, np.real(obe[key].sol.rho[2, 2]), label='$\\\\rho_{22}$')\n",
    "ax.plot(obe[key].sol.t, np.real(obe[key].sol.rho[3, 3]), label='$\\\\rho_{33}$')\n",
    "ax.plot(obe[key].sol.t, np.real(obe[key].sol.rho[4, 4]), label='$\\\\rho_{44}$')\n",
    "ax.plot(obe[key].sol.t, np.real(obe[key].sol.rho[5, 5]), label='$\\\\rho_{55}$')\n",
    "ax.legend(fontsize=12)"
   ]
  },
  {
   "cell_type": "code",
   "execution_count": 939,
   "metadata": {},
   "outputs": [
    {
     "name": "stdout",
     "output_type": "stream",
     "text": [
      "0.24616947523059113\n",
      "0.476014977953689\n",
      "0.22875866792466545\n",
      "0.020284555586401288\n",
      "0.012984020347829863\n",
      "0.015788302956822802\n"
     ]
    }
   ],
   "source": [
    "for i in range(6):\n",
    "    print(np.real(obe[key].sol.rho[i, i])[-1])"
   ]
  },
  {
   "cell_type": "code",
   "execution_count": 811,
   "metadata": {},
   "outputs": [],
   "source": [
    "obe[key].ev_mat['H0'] *= 0.0\n",
    "obe[key].ev_mat['B'] *= 0.0\n",
    "obe[key].ev_mat['d_q']['g->e'] *= 0.0\n",
    "obe[key].ev_mat['d_q*']['g->e'] *= 0.0"
   ]
  },
  {
   "cell_type": "code",
   "execution_count": 812,
   "metadata": {},
   "outputs": [],
   "source": [
    "# obe[key].ev_mat['decay'] *= 0.0\n",
    "r = np.array([0.0, t_max, 0.0])\n",
    "t = t_max\n",
    "ev = obe[key].full_OBE_ev(r, t)"
   ]
  },
  {
   "cell_type": "code",
   "execution_count": 813,
   "metadata": {},
   "outputs": [],
   "source": [
    "drhodt = np.zeros((6,6), dtype='complex128')\n",
    "drhodt_vector = ev @ obe[key].sol['rho'][:,:,-1].flatten()\n",
    "for i in range(6):\n",
    "    for j in range(6):\n",
    "        drhodt[i,j] = drhodt_vector[i + j * 6]"
   ]
  },
  {
   "cell_type": "code",
   "execution_count": 805,
   "metadata": {},
   "outputs": [
    {
     "data": {
      "text/html": [
       "<div>\n",
       "<style scoped>\n",
       "    .dataframe tbody tr th:only-of-type {\n",
       "        vertical-align: middle;\n",
       "    }\n",
       "\n",
       "    .dataframe tbody tr th {\n",
       "        vertical-align: top;\n",
       "    }\n",
       "\n",
       "    .dataframe thead th {\n",
       "        text-align: right;\n",
       "    }\n",
       "</style>\n",
       "<table border=\"1\" class=\"dataframe\">\n",
       "  <thead>\n",
       "    <tr style=\"text-align: right;\">\n",
       "      <th></th>\n",
       "      <th>0</th>\n",
       "      <th>1</th>\n",
       "      <th>2</th>\n",
       "      <th>3</th>\n",
       "      <th>4</th>\n",
       "      <th>5</th>\n",
       "    </tr>\n",
       "  </thead>\n",
       "  <tbody>\n",
       "    <tr>\n",
       "      <th>0</th>\n",
       "      <td>5.750316e-03</td>\n",
       "      <td>-1.323510e-02</td>\n",
       "      <td>-5.750316e-03</td>\n",
       "      <td>-1.324461e-02</td>\n",
       "      <td>-1.326757e-18</td>\n",
       "      <td>-1.324461e-02</td>\n",
       "    </tr>\n",
       "    <tr>\n",
       "      <th>1</th>\n",
       "      <td>-1.323510e-02</td>\n",
       "      <td>-2.023021e-02</td>\n",
       "      <td>1.323510e-02</td>\n",
       "      <td>-1.418263e-02</td>\n",
       "      <td>5.253644e-18</td>\n",
       "      <td>-1.418263e-02</td>\n",
       "    </tr>\n",
       "    <tr>\n",
       "      <th>2</th>\n",
       "      <td>-5.750316e-03</td>\n",
       "      <td>1.323510e-02</td>\n",
       "      <td>5.750316e-03</td>\n",
       "      <td>1.324461e-02</td>\n",
       "      <td>2.100973e-20</td>\n",
       "      <td>1.324461e-02</td>\n",
       "    </tr>\n",
       "    <tr>\n",
       "      <th>3</th>\n",
       "      <td>-1.324461e-02</td>\n",
       "      <td>-1.418263e-02</td>\n",
       "      <td>1.324461e-02</td>\n",
       "      <td>4.364789e-03</td>\n",
       "      <td>-2.394494e-18</td>\n",
       "      <td>4.364789e-03</td>\n",
       "    </tr>\n",
       "    <tr>\n",
       "      <th>4</th>\n",
       "      <td>-2.310059e-18</td>\n",
       "      <td>6.953524e-18</td>\n",
       "      <td>3.043539e-18</td>\n",
       "      <td>-3.655976e-19</td>\n",
       "      <td>-1.526423e-19</td>\n",
       "      <td>4.003256e-20</td>\n",
       "    </tr>\n",
       "    <tr>\n",
       "      <th>5</th>\n",
       "      <td>-1.324461e-02</td>\n",
       "      <td>-1.418263e-02</td>\n",
       "      <td>1.324461e-02</td>\n",
       "      <td>4.364789e-03</td>\n",
       "      <td>-1.095488e-18</td>\n",
       "      <td>4.364789e-03</td>\n",
       "    </tr>\n",
       "  </tbody>\n",
       "</table>\n",
       "</div>"
      ],
      "text/plain": [
       "              0             1             2             3             4  \\\n",
       "0  5.750316e-03 -1.323510e-02 -5.750316e-03 -1.324461e-02 -1.326757e-18   \n",
       "1 -1.323510e-02 -2.023021e-02  1.323510e-02 -1.418263e-02  5.253644e-18   \n",
       "2 -5.750316e-03  1.323510e-02  5.750316e-03  1.324461e-02  2.100973e-20   \n",
       "3 -1.324461e-02 -1.418263e-02  1.324461e-02  4.364789e-03 -2.394494e-18   \n",
       "4 -2.310059e-18  6.953524e-18  3.043539e-18 -3.655976e-19 -1.526423e-19   \n",
       "5 -1.324461e-02 -1.418263e-02  1.324461e-02  4.364789e-03 -1.095488e-18   \n",
       "\n",
       "              5  \n",
       "0 -1.324461e-02  \n",
       "1 -1.418263e-02  \n",
       "2  1.324461e-02  \n",
       "3  4.364789e-03  \n",
       "4  4.003256e-20  \n",
       "5  4.364789e-03  "
      ]
     },
     "execution_count": 805,
     "metadata": {},
     "output_type": "execute_result"
    }
   ],
   "source": [
    "DataFrame( np.real(drhodt) ) # without decays"
   ]
  },
  {
   "cell_type": "code",
   "execution_count": 806,
   "metadata": {},
   "outputs": [
    {
     "data": {
      "text/html": [
       "<div>\n",
       "<style scoped>\n",
       "    .dataframe tbody tr th:only-of-type {\n",
       "        vertical-align: middle;\n",
       "    }\n",
       "\n",
       "    .dataframe tbody tr th {\n",
       "        vertical-align: top;\n",
       "    }\n",
       "\n",
       "    .dataframe thead th {\n",
       "        text-align: right;\n",
       "    }\n",
       "</style>\n",
       "<table border=\"1\" class=\"dataframe\">\n",
       "  <thead>\n",
       "    <tr style=\"text-align: right;\">\n",
       "      <th></th>\n",
       "      <th>0</th>\n",
       "      <th>1</th>\n",
       "      <th>2</th>\n",
       "      <th>3</th>\n",
       "      <th>4</th>\n",
       "      <th>5</th>\n",
       "    </tr>\n",
       "  </thead>\n",
       "  <tbody>\n",
       "    <tr>\n",
       "      <th>0</th>\n",
       "      <td>-1.734723e-18</td>\n",
       "      <td>1.774867e-02</td>\n",
       "      <td>-1.951564e-18</td>\n",
       "      <td>-7.447094e-03</td>\n",
       "      <td>2.188452e-18</td>\n",
       "      <td>-7.447094e-03</td>\n",
       "    </tr>\n",
       "    <tr>\n",
       "      <th>1</th>\n",
       "      <td>-1.774867e-02</td>\n",
       "      <td>5.717037e-18</td>\n",
       "      <td>1.774867e-02</td>\n",
       "      <td>-1.058089e-01</td>\n",
       "      <td>3.349556e-18</td>\n",
       "      <td>-1.058089e-01</td>\n",
       "    </tr>\n",
       "    <tr>\n",
       "      <th>2</th>\n",
       "      <td>3.035766e-18</td>\n",
       "      <td>-1.774867e-02</td>\n",
       "      <td>-6.505213e-19</td>\n",
       "      <td>7.447094e-03</td>\n",
       "      <td>-2.098975e-18</td>\n",
       "      <td>7.447094e-03</td>\n",
       "    </tr>\n",
       "    <tr>\n",
       "      <th>3</th>\n",
       "      <td>7.447094e-03</td>\n",
       "      <td>1.058089e-01</td>\n",
       "      <td>-7.447094e-03</td>\n",
       "      <td>-4.336809e-19</td>\n",
       "      <td>1.983080e-18</td>\n",
       "      <td>-2.602085e-18</td>\n",
       "    </tr>\n",
       "    <tr>\n",
       "      <th>4</th>\n",
       "      <td>7.400480e-20</td>\n",
       "      <td>5.754225e-18</td>\n",
       "      <td>1.072774e-18</td>\n",
       "      <td>-1.304610e-18</td>\n",
       "      <td>-2.002747e-19</td>\n",
       "      <td>-1.289654e-18</td>\n",
       "    </tr>\n",
       "    <tr>\n",
       "      <th>5</th>\n",
       "      <td>7.447094e-03</td>\n",
       "      <td>1.058089e-01</td>\n",
       "      <td>-7.447094e-03</td>\n",
       "      <td>-6.505213e-19</td>\n",
       "      <td>7.570891e-19</td>\n",
       "      <td>-2.818926e-18</td>\n",
       "    </tr>\n",
       "  </tbody>\n",
       "</table>\n",
       "</div>"
      ],
      "text/plain": [
       "              0             1             2             3             4  \\\n",
       "0 -1.734723e-18  1.774867e-02 -1.951564e-18 -7.447094e-03  2.188452e-18   \n",
       "1 -1.774867e-02  5.717037e-18  1.774867e-02 -1.058089e-01  3.349556e-18   \n",
       "2  3.035766e-18 -1.774867e-02 -6.505213e-19  7.447094e-03 -2.098975e-18   \n",
       "3  7.447094e-03  1.058089e-01 -7.447094e-03 -4.336809e-19  1.983080e-18   \n",
       "4  7.400480e-20  5.754225e-18  1.072774e-18 -1.304610e-18 -2.002747e-19   \n",
       "5  7.447094e-03  1.058089e-01 -7.447094e-03 -6.505213e-19  7.570891e-19   \n",
       "\n",
       "              5  \n",
       "0 -7.447094e-03  \n",
       "1 -1.058089e-01  \n",
       "2  7.447094e-03  \n",
       "3 -2.602085e-18  \n",
       "4 -1.289654e-18  \n",
       "5 -2.818926e-18  "
      ]
     },
     "execution_count": 806,
     "metadata": {},
     "output_type": "execute_result"
    }
   ],
   "source": [
    "DataFrame( np.imag(drhodt) ) # without decays"
   ]
  },
  {
   "cell_type": "code",
   "execution_count": 816,
   "metadata": {},
   "outputs": [
    {
     "data": {
      "text/html": [
       "<div>\n",
       "<style scoped>\n",
       "    .dataframe tbody tr th:only-of-type {\n",
       "        vertical-align: middle;\n",
       "    }\n",
       "\n",
       "    .dataframe tbody tr th {\n",
       "        vertical-align: top;\n",
       "    }\n",
       "\n",
       "    .dataframe thead th {\n",
       "        text-align: right;\n",
       "    }\n",
       "</style>\n",
       "<table border=\"1\" class=\"dataframe\">\n",
       "  <thead>\n",
       "    <tr style=\"text-align: right;\">\n",
       "      <th></th>\n",
       "      <th>0</th>\n",
       "      <th>1</th>\n",
       "      <th>2</th>\n",
       "      <th>3</th>\n",
       "      <th>4</th>\n",
       "      <th>5</th>\n",
       "    </tr>\n",
       "  </thead>\n",
       "  <tbody>\n",
       "    <tr>\n",
       "      <th>0</th>\n",
       "      <td>3.124326e-03</td>\n",
       "      <td>1.005036e-19</td>\n",
       "      <td>-3.124326e-03</td>\n",
       "      <td>-1.930407e-03</td>\n",
       "      <td>-3.352640e-19</td>\n",
       "      <td>-1.930407e-03</td>\n",
       "    </tr>\n",
       "    <tr>\n",
       "      <th>1</th>\n",
       "      <td>3.737331e-20</td>\n",
       "      <td>6.248653e-03</td>\n",
       "      <td>2.792602e-19</td>\n",
       "      <td>-2.026925e-02</td>\n",
       "      <td>3.500934e-19</td>\n",
       "      <td>-2.026925e-02</td>\n",
       "    </tr>\n",
       "    <tr>\n",
       "      <th>2</th>\n",
       "      <td>-3.124326e-03</td>\n",
       "      <td>-1.931708e-19</td>\n",
       "      <td>3.124326e-03</td>\n",
       "      <td>1.930407e-03</td>\n",
       "      <td>2.682379e-19</td>\n",
       "      <td>1.930407e-03</td>\n",
       "    </tr>\n",
       "    <tr>\n",
       "      <th>3</th>\n",
       "      <td>-1.930407e-03</td>\n",
       "      <td>-2.026925e-02</td>\n",
       "      <td>1.930407e-03</td>\n",
       "      <td>-6.248653e-03</td>\n",
       "      <td>-5.585204e-19</td>\n",
       "      <td>-6.248653e-03</td>\n",
       "    </tr>\n",
       "    <tr>\n",
       "      <th>4</th>\n",
       "      <td>-2.861051e-19</td>\n",
       "      <td>-2.113735e-19</td>\n",
       "      <td>-4.765276e-20</td>\n",
       "      <td>3.863416e-19</td>\n",
       "      <td>-6.201238e-20</td>\n",
       "      <td>-2.010073e-19</td>\n",
       "    </tr>\n",
       "    <tr>\n",
       "      <th>5</th>\n",
       "      <td>-1.930407e-03</td>\n",
       "      <td>-2.026925e-02</td>\n",
       "      <td>1.930407e-03</td>\n",
       "      <td>-6.248653e-03</td>\n",
       "      <td>-7.474662e-20</td>\n",
       "      <td>-6.248653e-03</td>\n",
       "    </tr>\n",
       "  </tbody>\n",
       "</table>\n",
       "</div>"
      ],
      "text/plain": [
       "              0             1             2             3             4  \\\n",
       "0  3.124326e-03  1.005036e-19 -3.124326e-03 -1.930407e-03 -3.352640e-19   \n",
       "1  3.737331e-20  6.248653e-03  2.792602e-19 -2.026925e-02  3.500934e-19   \n",
       "2 -3.124326e-03 -1.931708e-19  3.124326e-03  1.930407e-03  2.682379e-19   \n",
       "3 -1.930407e-03 -2.026925e-02  1.930407e-03 -6.248653e-03 -5.585204e-19   \n",
       "4 -2.861051e-19 -2.113735e-19 -4.765276e-20  3.863416e-19 -6.201238e-20   \n",
       "5 -1.930407e-03 -2.026925e-02  1.930407e-03 -6.248653e-03 -7.474662e-20   \n",
       "\n",
       "              5  \n",
       "0 -1.930407e-03  \n",
       "1 -2.026925e-02  \n",
       "2  1.930407e-03  \n",
       "3 -6.248653e-03  \n",
       "4 -2.010073e-19  \n",
       "5 -6.248653e-03  "
      ]
     },
     "execution_count": 816,
     "metadata": {},
     "output_type": "execute_result"
    }
   ],
   "source": [
    "DataFrame( np.real(drhodt) ) # decays only"
   ]
  },
  {
   "cell_type": "code",
   "execution_count": 815,
   "metadata": {},
   "outputs": [
    {
     "data": {
      "text/html": [
       "<div>\n",
       "<style scoped>\n",
       "    .dataframe tbody tr th:only-of-type {\n",
       "        vertical-align: middle;\n",
       "    }\n",
       "\n",
       "    .dataframe tbody tr th {\n",
       "        vertical-align: top;\n",
       "    }\n",
       "\n",
       "    .dataframe thead th {\n",
       "        text-align: right;\n",
       "    }\n",
       "</style>\n",
       "<table border=\"1\" class=\"dataframe\">\n",
       "  <thead>\n",
       "    <tr style=\"text-align: right;\">\n",
       "      <th></th>\n",
       "      <th>0</th>\n",
       "      <th>1</th>\n",
       "      <th>2</th>\n",
       "      <th>3</th>\n",
       "      <th>4</th>\n",
       "      <th>5</th>\n",
       "    </tr>\n",
       "  </thead>\n",
       "  <tbody>\n",
       "    <tr>\n",
       "      <th>0</th>\n",
       "      <td>1.698656e-19</td>\n",
       "      <td>6.753079e-20</td>\n",
       "      <td>7.186843e-19</td>\n",
       "      <td>-1.320947e-03</td>\n",
       "      <td>-7.988803e-19</td>\n",
       "      <td>-1.320947e-03</td>\n",
       "    </tr>\n",
       "    <tr>\n",
       "      <th>1</th>\n",
       "      <td>-1.707655e-19</td>\n",
       "      <td>7.016618e-19</td>\n",
       "      <td>-1.114951e-19</td>\n",
       "      <td>2.006753e-02</td>\n",
       "      <td>-4.535027e-19</td>\n",
       "      <td>2.006753e-02</td>\n",
       "    </tr>\n",
       "    <tr>\n",
       "      <th>2</th>\n",
       "      <td>-4.032545e-19</td>\n",
       "      <td>-1.767338e-19</td>\n",
       "      <td>6.087119e-19</td>\n",
       "      <td>1.320947e-03</td>\n",
       "      <td>4.941274e-19</td>\n",
       "      <td>1.320947e-03</td>\n",
       "    </tr>\n",
       "    <tr>\n",
       "      <th>3</th>\n",
       "      <td>1.320947e-03</td>\n",
       "      <td>-2.006753e-02</td>\n",
       "      <td>-1.320947e-03</td>\n",
       "      <td>-2.628155e-19</td>\n",
       "      <td>2.229903e-19</td>\n",
       "      <td>1.437369e-18</td>\n",
       "    </tr>\n",
       "    <tr>\n",
       "      <th>4</th>\n",
       "      <td>1.063253e-19</td>\n",
       "      <td>8.734911e-19</td>\n",
       "      <td>-2.269047e-19</td>\n",
       "      <td>3.534676e-19</td>\n",
       "      <td>-7.691566e-20</td>\n",
       "      <td>-1.350616e-19</td>\n",
       "    </tr>\n",
       "    <tr>\n",
       "      <th>5</th>\n",
       "      <td>1.320947e-03</td>\n",
       "      <td>-2.006753e-02</td>\n",
       "      <td>-1.320947e-03</td>\n",
       "      <td>-8.065090e-19</td>\n",
       "      <td>3.415310e-19</td>\n",
       "      <td>-1.140508e-18</td>\n",
       "    </tr>\n",
       "  </tbody>\n",
       "</table>\n",
       "</div>"
      ],
      "text/plain": [
       "              0             1             2             3             4  \\\n",
       "0  1.698656e-19  6.753079e-20  7.186843e-19 -1.320947e-03 -7.988803e-19   \n",
       "1 -1.707655e-19  7.016618e-19 -1.114951e-19  2.006753e-02 -4.535027e-19   \n",
       "2 -4.032545e-19 -1.767338e-19  6.087119e-19  1.320947e-03  4.941274e-19   \n",
       "3  1.320947e-03 -2.006753e-02 -1.320947e-03 -2.628155e-19  2.229903e-19   \n",
       "4  1.063253e-19  8.734911e-19 -2.269047e-19  3.534676e-19 -7.691566e-20   \n",
       "5  1.320947e-03 -2.006753e-02 -1.320947e-03 -8.065090e-19  3.415310e-19   \n",
       "\n",
       "              5  \n",
       "0 -1.320947e-03  \n",
       "1  2.006753e-02  \n",
       "2  1.320947e-03  \n",
       "3  1.437369e-18  \n",
       "4 -1.350616e-19  \n",
       "5 -1.140508e-18  "
      ]
     },
     "execution_count": 815,
     "metadata": {},
     "output_type": "execute_result"
    }
   ],
   "source": [
    "DataFrame( np.imag(drhodt) ) # decays only"
   ]
  },
  {
   "cell_type": "code",
   "execution_count": 808,
   "metadata": {},
   "outputs": [
    {
     "data": {
      "text/html": [
       "<div>\n",
       "<style scoped>\n",
       "    .dataframe tbody tr th:only-of-type {\n",
       "        vertical-align: middle;\n",
       "    }\n",
       "\n",
       "    .dataframe tbody tr th {\n",
       "        vertical-align: top;\n",
       "    }\n",
       "\n",
       "    .dataframe thead th {\n",
       "        text-align: right;\n",
       "    }\n",
       "</style>\n",
       "<table border=\"1\" class=\"dataframe\">\n",
       "  <thead>\n",
       "    <tr style=\"text-align: right;\">\n",
       "      <th></th>\n",
       "      <th>0</th>\n",
       "      <th>1</th>\n",
       "      <th>2</th>\n",
       "      <th>3</th>\n",
       "      <th>4</th>\n",
       "      <th>5</th>\n",
       "    </tr>\n",
       "  </thead>\n",
       "  <tbody>\n",
       "    <tr>\n",
       "      <th>0</th>\n",
       "      <td>5.750316e-03</td>\n",
       "      <td>-1.323510e-02</td>\n",
       "      <td>-5.750316e-03</td>\n",
       "      <td>-1.324461e-02</td>\n",
       "      <td>-1.326757e-18</td>\n",
       "      <td>-1.324461e-02</td>\n",
       "    </tr>\n",
       "    <tr>\n",
       "      <th>1</th>\n",
       "      <td>-1.323510e-02</td>\n",
       "      <td>-2.023021e-02</td>\n",
       "      <td>1.323510e-02</td>\n",
       "      <td>-1.418263e-02</td>\n",
       "      <td>5.253644e-18</td>\n",
       "      <td>-1.418263e-02</td>\n",
       "    </tr>\n",
       "    <tr>\n",
       "      <th>2</th>\n",
       "      <td>-5.750316e-03</td>\n",
       "      <td>1.323510e-02</td>\n",
       "      <td>5.750316e-03</td>\n",
       "      <td>1.324461e-02</td>\n",
       "      <td>2.100973e-20</td>\n",
       "      <td>1.324461e-02</td>\n",
       "    </tr>\n",
       "    <tr>\n",
       "      <th>3</th>\n",
       "      <td>-1.324461e-02</td>\n",
       "      <td>-1.418263e-02</td>\n",
       "      <td>1.324461e-02</td>\n",
       "      <td>4.364789e-03</td>\n",
       "      <td>-2.394494e-18</td>\n",
       "      <td>4.364789e-03</td>\n",
       "    </tr>\n",
       "    <tr>\n",
       "      <th>4</th>\n",
       "      <td>-2.310059e-18</td>\n",
       "      <td>6.953524e-18</td>\n",
       "      <td>3.043539e-18</td>\n",
       "      <td>-3.655976e-19</td>\n",
       "      <td>-1.526423e-19</td>\n",
       "      <td>4.003256e-20</td>\n",
       "    </tr>\n",
       "    <tr>\n",
       "      <th>5</th>\n",
       "      <td>-1.324461e-02</td>\n",
       "      <td>-1.418263e-02</td>\n",
       "      <td>1.324461e-02</td>\n",
       "      <td>4.364789e-03</td>\n",
       "      <td>-1.095488e-18</td>\n",
       "      <td>4.364789e-03</td>\n",
       "    </tr>\n",
       "  </tbody>\n",
       "</table>\n",
       "</div>"
      ],
      "text/plain": [
       "              0             1             2             3             4  \\\n",
       "0  5.750316e-03 -1.323510e-02 -5.750316e-03 -1.324461e-02 -1.326757e-18   \n",
       "1 -1.323510e-02 -2.023021e-02  1.323510e-02 -1.418263e-02  5.253644e-18   \n",
       "2 -5.750316e-03  1.323510e-02  5.750316e-03  1.324461e-02  2.100973e-20   \n",
       "3 -1.324461e-02 -1.418263e-02  1.324461e-02  4.364789e-03 -2.394494e-18   \n",
       "4 -2.310059e-18  6.953524e-18  3.043539e-18 -3.655976e-19 -1.526423e-19   \n",
       "5 -1.324461e-02 -1.418263e-02  1.324461e-02  4.364789e-03 -1.095488e-18   \n",
       "\n",
       "              5  \n",
       "0 -1.324461e-02  \n",
       "1 -1.418263e-02  \n",
       "2  1.324461e-02  \n",
       "3  4.364789e-03  \n",
       "4  4.003256e-20  \n",
       "5  4.364789e-03  "
      ]
     },
     "execution_count": 808,
     "metadata": {},
     "output_type": "execute_result"
    }
   ],
   "source": [
    "DataFrame( np.real(drhodt) ) # all"
   ]
  },
  {
   "cell_type": "code",
   "execution_count": 810,
   "metadata": {},
   "outputs": [
    {
     "data": {
      "text/html": [
       "<div>\n",
       "<style scoped>\n",
       "    .dataframe tbody tr th:only-of-type {\n",
       "        vertical-align: middle;\n",
       "    }\n",
       "\n",
       "    .dataframe tbody tr th {\n",
       "        vertical-align: top;\n",
       "    }\n",
       "\n",
       "    .dataframe thead th {\n",
       "        text-align: right;\n",
       "    }\n",
       "</style>\n",
       "<table border=\"1\" class=\"dataframe\">\n",
       "  <thead>\n",
       "    <tr style=\"text-align: right;\">\n",
       "      <th></th>\n",
       "      <th>0</th>\n",
       "      <th>1</th>\n",
       "      <th>2</th>\n",
       "      <th>3</th>\n",
       "      <th>4</th>\n",
       "      <th>5</th>\n",
       "    </tr>\n",
       "  </thead>\n",
       "  <tbody>\n",
       "    <tr>\n",
       "      <th>0</th>\n",
       "      <td>-1.734723e-18</td>\n",
       "      <td>1.774867e-02</td>\n",
       "      <td>-1.951564e-18</td>\n",
       "      <td>-7.447094e-03</td>\n",
       "      <td>2.188452e-18</td>\n",
       "      <td>-7.447094e-03</td>\n",
       "    </tr>\n",
       "    <tr>\n",
       "      <th>1</th>\n",
       "      <td>-1.774867e-02</td>\n",
       "      <td>5.717037e-18</td>\n",
       "      <td>1.774867e-02</td>\n",
       "      <td>-1.058089e-01</td>\n",
       "      <td>3.349556e-18</td>\n",
       "      <td>-1.058089e-01</td>\n",
       "    </tr>\n",
       "    <tr>\n",
       "      <th>2</th>\n",
       "      <td>3.035766e-18</td>\n",
       "      <td>-1.774867e-02</td>\n",
       "      <td>-6.505213e-19</td>\n",
       "      <td>7.447094e-03</td>\n",
       "      <td>-2.098975e-18</td>\n",
       "      <td>7.447094e-03</td>\n",
       "    </tr>\n",
       "    <tr>\n",
       "      <th>3</th>\n",
       "      <td>7.447094e-03</td>\n",
       "      <td>1.058089e-01</td>\n",
       "      <td>-7.447094e-03</td>\n",
       "      <td>-4.336809e-19</td>\n",
       "      <td>1.983080e-18</td>\n",
       "      <td>-2.602085e-18</td>\n",
       "    </tr>\n",
       "    <tr>\n",
       "      <th>4</th>\n",
       "      <td>7.400480e-20</td>\n",
       "      <td>5.754225e-18</td>\n",
       "      <td>1.072774e-18</td>\n",
       "      <td>-1.304610e-18</td>\n",
       "      <td>-2.002747e-19</td>\n",
       "      <td>-1.289654e-18</td>\n",
       "    </tr>\n",
       "    <tr>\n",
       "      <th>5</th>\n",
       "      <td>7.447094e-03</td>\n",
       "      <td>1.058089e-01</td>\n",
       "      <td>-7.447094e-03</td>\n",
       "      <td>-6.505213e-19</td>\n",
       "      <td>7.570891e-19</td>\n",
       "      <td>-2.818926e-18</td>\n",
       "    </tr>\n",
       "  </tbody>\n",
       "</table>\n",
       "</div>"
      ],
      "text/plain": [
       "              0             1             2             3             4  \\\n",
       "0 -1.734723e-18  1.774867e-02 -1.951564e-18 -7.447094e-03  2.188452e-18   \n",
       "1 -1.774867e-02  5.717037e-18  1.774867e-02 -1.058089e-01  3.349556e-18   \n",
       "2  3.035766e-18 -1.774867e-02 -6.505213e-19  7.447094e-03 -2.098975e-18   \n",
       "3  7.447094e-03  1.058089e-01 -7.447094e-03 -4.336809e-19  1.983080e-18   \n",
       "4  7.400480e-20  5.754225e-18  1.072774e-18 -1.304610e-18 -2.002747e-19   \n",
       "5  7.447094e-03  1.058089e-01 -7.447094e-03 -6.505213e-19  7.570891e-19   \n",
       "\n",
       "              5  \n",
       "0 -7.447094e-03  \n",
       "1 -1.058089e-01  \n",
       "2  7.447094e-03  \n",
       "3 -2.602085e-18  \n",
       "4 -1.289654e-18  \n",
       "5 -2.818926e-18  "
      ]
     },
     "execution_count": 810,
     "metadata": {},
     "output_type": "execute_result"
    }
   ],
   "source": [
    "DataFrame( np.imag(drhodt) ) # all"
   ]
  },
  {
   "cell_type": "code",
   "execution_count": 807,
   "metadata": {},
   "outputs": [
    {
     "data": {
      "text/plain": [
       "array([[ 6.60103087e-02+3.62655573e-18j, -9.09971810e-02+5.40908444e-02j,\n",
       "        -6.60103087e-02+6.38656989e-18j,  3.86081306e-03-2.64189384e-03j,\n",
       "         5.72210131e-19-2.12650508e-19j,  3.86081306e-03-2.64189384e-03j],\n",
       "       [-9.09971810e-02-5.40908444e-02j,  8.55482077e-01-3.25811654e-18j,\n",
       "         9.09971810e-02+5.40908444e-02j,  4.05384945e-02+4.01350672e-02j,\n",
       "         4.22746934e-19-1.74698212e-18j,  4.05384945e-02+4.01350672e-02j],\n",
       "       [-6.60103087e-02-1.14559483e-17j,  9.09971810e-02-5.40908444e-02j,\n",
       "         6.60103087e-02-4.79965524e-18j, -3.86081306e-03+2.64189384e-03j,\n",
       "         9.53055213e-20+4.53809402e-19j, -3.86081306e-03+2.64189384e-03j],\n",
       "       [ 3.86081306e-03+2.64189384e-03j,  4.05384945e-02-4.01350672e-02j,\n",
       "        -3.86081306e-03-2.64189384e-03j,  6.24865276e-03+2.62815483e-19j,\n",
       "        -3.86341648e-19-3.53467574e-19j,  6.24865276e-03+8.06508982e-19j],\n",
       "       [ 6.70527992e-19+1.59776054e-18j, -7.00186763e-19+9.07005465e-19j,\n",
       "        -5.36475796e-19-9.88254735e-19j,  5.58520399e-19-2.22990283e-19j,\n",
       "         6.20123807e-20+7.69156594e-20j,  7.47466207e-20-3.41531050e-19j],\n",
       "       [ 3.86081306e-03+2.64189384e-03j,  4.05384945e-02-4.01350672e-02j,\n",
       "        -3.86081306e-03-2.64189384e-03j,  6.24865276e-03-1.43736857e-18j,\n",
       "         2.01007274e-19+1.35061572e-19j,  6.24865276e-03+1.14050814e-18j]])"
      ]
     },
     "execution_count": 807,
     "metadata": {},
     "output_type": "execute_result"
    }
   ],
   "source": [
    "obe[key].sol['rho'][:,:,-1]"
   ]
  },
  {
   "cell_type": "code",
   "execution_count": null,
   "metadata": {},
   "outputs": [],
   "source": []
  }
 ],
 "metadata": {
  "kernelspec": {
   "display_name": "Python 3 (ipykernel)",
   "language": "python",
   "name": "python3"
  },
  "language_info": {
   "codemirror_mode": {
    "name": "ipython",
    "version": 3
   },
   "file_extension": ".py",
   "mimetype": "text/x-python",
   "name": "python",
   "nbconvert_exporter": "python",
   "pygments_lexer": "ipython3",
   "version": "3.10.7"
  }
 },
 "nbformat": 4,
 "nbformat_minor": 4
}
