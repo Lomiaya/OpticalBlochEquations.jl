{
 "cells": [
  {
   "cell_type": "code",
   "execution_count": 1,
   "metadata": {},
   "outputs": [],
   "source": [
    "import numpy as np\n",
    "import matplotlib.pyplot as plt\n",
    "import pylcp\n",
    "import lmfit\n",
    "from pylcp.common import progressBar"
   ]
  },
  {
   "cell_type": "code",
   "execution_count": 154,
   "metadata": {},
   "outputs": [],
   "source": [
    "laser_det = -2.5\n",
    "ham_det = 0.0\n",
    "s = 2.0\n",
    "\n",
    "laserBeams = {}\n",
    "laserBeams['$\\\\sigma^+\\\\sigma^-$'] = pylcp.laserBeams([\n",
    "    {'kvec':np.array([0., 0., -1.]), 'pol':-1,\n",
    "     'pol_coord':'spherical', 'delta':laser_det, 's':s},\n",
    "    {'kvec':np.array([0., 0., +1.]), 'pol':+1,\n",
    "     'pol_coord':'spherical', 'delta':laser_det, 's':s},\n",
    "    {'kvec':np.array([0., -1., 0.]), 'pol':-1,\n",
    "     'pol_coord':'spherical', 'delta':laser_det, 's':s},\n",
    "    {'kvec':np.array([0., +1., 0.]), 'pol':+1,\n",
    "     'pol_coord':'spherical', 'delta':laser_det, 's':s},\n",
    "    {'kvec':np.array([-1., 0., 0.]), 'pol':-1,\n",
    "     'pol_coord':'spherical', 'delta':laser_det, 's':s},\n",
    "    {'kvec':np.array([+1., 0., 0.]), 'pol':+1,\n",
    "     'pol_coord':'spherical', 'delta':laser_det, 's':s}\n",
    "    ], beam_type=pylcp.infinitePlaneWaveBeam)"
   ]
  },
  {
   "cell_type": "code",
   "execution_count": 155,
   "metadata": {},
   "outputs": [],
   "source": [
    "laserBeams['$\\\\sigma^+\\\\sigma^-$'].total_electric_field_gradient(np.array([0., 0., 0.]), 0.)\n",
    "magField = lambda R: np.zeros(R.shape)\n",
    "\n",
    "# Hamiltonian for F=1->F=1\n",
    "Hg, Bgq = pylcp.hamiltonians.singleF(F=1, gF=0, muB=0)\n",
    "He, Beq = pylcp.hamiltonians.singleF(F=1, gF=0, muB=0)\n",
    "dijq = pylcp.hamiltonians.dqij_two_bare_hyperfine(1, 1)\n",
    "ham_F1_to_F1 = pylcp.hamiltonian(Hg, He - ham_det*np.eye(3), Bgq, Beq, dijq)"
   ]
  },
  {
   "cell_type": "code",
   "execution_count": 171,
   "metadata": {},
   "outputs": [
    {
     "name": "stdout",
     "output_type": "stream",
     "text": [
      "Working on $\\sigma^+\\sigma^-$:\n",
      "Completed in 27.84 s.                                               \n"
     ]
    }
   ],
   "source": [
    "obe={}\n",
    "rateeq={}\n",
    "\n",
    "# Define a v axis:\n",
    "v = np.arange(0.0, 5.1, 0.1)\n",
    "\n",
    "for jj, key in enumerate(laserBeams.keys()):\n",
    "    print('Working on %s:' % key)\n",
    "    rateeq[key] = pylcp.rateeq(laserBeams[key], magField, ham_F1_to_F1)\n",
    "    obe[key] = pylcp.obe(laserBeams[key], magField, ham_F1_to_F1,\n",
    "                         transform_into_re_im=False, include_mag_forces=False)\n",
    "\n",
    "    # Generate a rateeq model of what's going on:\n",
    "#     rateeq[key].generate_force_profile(\n",
    "#         [np.zeros(v.shape), np.zeros(v.shape), np.zeros(v.shape)],\n",
    "#         [np.zeros(v.shape), np.zeros(v.shape), v],\n",
    "#         name='molasses'\n",
    "#     )\n",
    "\n",
    "    obe[key].generate_force_profile(\n",
    "        [np.zeros(v.shape), np.zeros(v.shape), np.zeros(v.shape)],\n",
    "        [np.zeros(v.shape), np.zeros(v.shape), v],\n",
    "        name='molasses', deltat_tmax=2*np.pi*100, deltat_v=20, itermax=1000,\n",
    "        progress_bar=True,\n",
    "    )"
   ]
  },
  {
   "cell_type": "code",
   "execution_count": 172,
   "metadata": {},
   "outputs": [
    {
     "data": {
      "text/plain": [
       "Text(0, 0.5, '$f/(\\\\hbar k \\\\Gamma)$')"
      ]
     },
     "execution_count": 172,
     "metadata": {},
     "output_type": "execute_result"
    },
    {
     "data": {
      "image/png": "[encoded data removed]",
      "text/plain": [
       "<Figure size 432x360 with 1 Axes>"
      ]
     },
     "metadata": {
      "needs_background": "light"
     },
     "output_type": "display_data"
    }
   ],
   "source": [
    "fig, ax = plt.subplots(1, 1, num='Optical Molasses F=1->F1', figsize=(6, 5))\n",
    "for jj, key in enumerate(laserBeams.keys()):\n",
    "    ax.plot(obe[key].profile['molasses'].V[0],\n",
    "               obe[key].profile['molasses'].F[0],\n",
    "               label=key, linewidth=0.5, color='C%d'%jj)\n",
    "ax.legend(fontsize=12)\n",
    "ax.set_xlabel('$v/(\\Gamma/k)$')\n",
    "ax.set_ylabel('$f/(\\hbar k \\Gamma)$')"
   ]
  },
  {
   "cell_type": "code",
   "execution_count": 174,
   "metadata": {},
   "outputs": [
    {
     "name": "stdout",
     "output_type": "stream",
     "text": [
      "v 5.0\n",
      "0.0022647646921576145\n",
      "0.00429753535758853\n",
      "0.9933094126610547\n",
      "1.5134869886944758e-189\n",
      "4.427419057769301e-05\n",
      "8.401309862128797e-05\n"
     ]
    }
   ],
   "source": [
    "print(\"v\", v[-1])\n",
    "for val in obe[key].profile['molasses'].Neq[-1,:]:\n",
    "    print(val)"
   ]
  },
  {
   "cell_type": "code",
   "execution_count": 169,
   "metadata": {},
   "outputs": [
    {
     "name": "stdout",
     "output_type": "stream",
     "text": [
      "v 5.0\n",
      "0.06490356280181857\n",
      "0.12960318459071957\n",
      "0.7759599861141063\n",
      "2.4484046653713782e-06\n",
      "0.009848955509507738\n",
      "0.019681862579183182\n"
     ]
    }
   ],
   "source": [
    "print(\"v\", v[-1])\n",
    "for val in obe[key].profile['molasses'].Neq[-1,:]:\n",
    "    print(val)"
   ]
  },
  {
   "cell_type": "code",
   "execution_count": 170,
   "metadata": {},
   "outputs": [
    {
     "data": {
      "text/plain": [
       "0.02953326649335629"
      ]
     },
     "execution_count": 170,
     "metadata": {},
     "output_type": "execute_result"
    }
   ],
   "source": [
    "2.4484046653713782e-06 + 0.009848955509507738 + 0.019681862579183182"
   ]
  },
  {
   "cell_type": "code",
   "execution_count": null,
   "metadata": {},
   "outputs": [],
   "source": []
  }
 ],
 "metadata": {
  "kernelspec": {
   "display_name": "Python 3 (ipykernel)",
   "language": "python",
   "name": "python3"
  },
  "language_info": {
   "codemirror_mode": {
    "name": "ipython",
    "version": 3
   },
   "file_extension": ".py",
   "mimetype": "text/x-python",
   "name": "python",
   "nbconvert_exporter": "python",
   "pygments_lexer": "ipython3",
   "version": "3.9.7"
  }
 },
 "nbformat": 4,
 "nbformat_minor": 2
}
